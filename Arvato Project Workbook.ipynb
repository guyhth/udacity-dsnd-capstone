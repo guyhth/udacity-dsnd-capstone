{
 "cells": [
  {
   "cell_type": "markdown",
   "metadata": {},
   "source": [
    "# Capstone Project: Create a Customer Segmentation Report for Arvato Financial Services\n",
    "\n",
    "In this project, you will analyze demographics data for customers of a mail-order sales company in Germany, comparing it against demographics information for the general population. You'll use unsupervised learning techniques to perform customer segmentation, identifying the parts of the population that best describe the core customer base of the company. Then, you'll apply what you've learned on a third dataset with demographics information for targets of a marketing campaign for the company, and use a model to predict which individuals are most likely to convert into becoming customers for the company. The data that you will use has been provided by our partners at Bertelsmann Arvato Analytics, and represents a real-life data science task.\n",
    "\n",
    "If you completed the first term of this program, you will be familiar with the first part of this project, from the unsupervised learning project. The versions of those two datasets used in this project will include many more features and has not been pre-cleaned. You are also free to choose whatever approach you'd like to analyzing the data rather than follow pre-determined steps. In your work on this project, make sure that you carefully document your steps and decisions, since your main deliverable for this project will be a blog post reporting your findings."
   ]
  },
  {
   "cell_type": "code",
   "execution_count": 1,
   "metadata": {},
   "outputs": [],
   "source": [
    "# Import libraries\n",
    "import numpy as np\n",
    "import pandas as pd\n",
    "import matplotlib.pyplot as plt\n",
    "from IPython.display import display, display_markdown\n",
    "# Scikit-learn\n",
    "from sklearn import preprocessing\n",
    "from sklearn.impute import SimpleImputer\n",
    "from sklearn.decomposition import PCA\n",
    "from sklearn.cluster import KMeans\n",
    "from sklearn.pipeline import Pipeline\n",
    "from sklearn.model_selection import train_test_split, GridSearchCV, RepeatedStratifiedKFold\n",
    "from sklearn.metrics import roc_auc_score, roc_curve\n",
    "from sklearn.ensemble import RandomForestClassifier, AdaBoostClassifier, GradientBoostingClassifier\n",
    "from sklearn.linear_model import LogisticRegression\n",
    "\n",
    "# Magic word for producing visualizations in notebook\n",
    "%matplotlib inline"
   ]
  },
  {
   "cell_type": "markdown",
   "metadata": {},
   "source": [
    "## Part 0: Get to Know the Data\n",
    "\n",
    "There are four data files associated with this project:\n",
    "\n",
    "- `Udacity_AZDIAS_052018.csv`: Demographics data for the general population of Germany; 891 211 persons (rows) x 366 features (columns).\n",
    "- `Udacity_CUSTOMERS_052018.csv`: Demographics data for customers of a mail-order company; 191 652 persons (rows) x 369 features (columns).\n",
    "- `Udacity_MAILOUT_052018_TRAIN.csv`: Demographics data for individuals who were targets of a marketing campaign; 42 982 persons (rows) x 367 (columns).\n",
    "- `Udacity_MAILOUT_052018_TEST.csv`: Demographics data for individuals who were targets of a marketing campaign; 42 833 persons (rows) x 366 (columns).\n",
    "\n",
    "Each row of the demographics files represents a single person, but also includes information outside of individuals, including information about their household, building, and neighborhood. Use the information from the first two files to figure out how customers (\"CUSTOMERS\") are similar to or differ from the general population at large (\"AZDIAS\"), then use your analysis to make predictions on the other two files (\"MAILOUT\"), predicting which recipients are most likely to become a customer for the mail-order company.\n",
    "\n",
    "The \"CUSTOMERS\" file contains three extra columns ('CUSTOMER_GROUP', 'ONLINE_PURCHASE', and 'PRODUCT_GROUP'), which provide broad information about the customers depicted in the file. The original \"MAILOUT\" file included one additional column, \"RESPONSE\", which indicated whether or not each recipient became a customer of the company. For the \"TRAIN\" subset, this column has been retained, but in the \"TEST\" subset it has been removed; it is against that withheld column that your final predictions will be assessed in the Kaggle competition.\n",
    "\n",
    "Otherwise, all of the remaining columns are the same between the three data files. For more information about the columns depicted in the files, you can refer to two Excel spreadsheets provided in the workspace. [One of them](./DIAS Information Levels - Attributes 2017.xlsx) is a top-level list of attributes and descriptions, organized by informational category. [The other](./DIAS Attributes - Values 2017.xlsx) is a detailed mapping of data values for each feature in alphabetical order.\n",
    "\n",
    "In the below cell, we've provided some initial code to load in the first two datasets. Note for all of the `.csv` data files in this project that they're semicolon (`;`) delimited, so an additional argument in the [`read_csv()`](https://pandas.pydata.org/pandas-docs/stable/generated/pandas.read_csv.html) call has been included to read in the data properly. Also, considering the size of the datasets, it may take some time for them to load completely.\n",
    "\n",
    "You'll notice when the data is loaded in that a warning message will immediately pop up. Before you really start digging into the modeling and analysis, you're going to need to perform some cleaning. Take some time to browse the structure of the data and look over the informational spreadsheets to understand the data values. Make some decisions on which features to keep, which features to drop, and if any revisions need to be made on data formats. It'll be a good idea to create a function with pre-processing steps, since you'll need to clean all of the datasets before you work with them."
   ]
  },
  {
   "cell_type": "code",
   "execution_count": 2,
   "metadata": {},
   "outputs": [
    {
     "name": "stdout",
     "output_type": "stream",
     "text": [
      "Loading azdias data... "
     ]
    },
    {
     "name": "stderr",
     "output_type": "stream",
     "text": [
      "/Users/guy/miniforge3/envs/.venv/lib/python3.9/site-packages/IPython/core/interactiveshell.py:3444: DtypeWarning: Columns (18,19) have mixed types.Specify dtype option on import or set low_memory=False.\n",
      "  exec(code_obj, self.user_global_ns, self.user_ns)\n"
     ]
    },
    {
     "name": "stdout",
     "output_type": "stream",
     "text": [
      "Done!\n",
      "Loading customers data... Done!\n"
     ]
    }
   ],
   "source": [
    "# Uncomment/comment the appropriate paths for working from the Udacity workspace, or locally\n",
    "# azdias_path = '../../data/Term2/capstone/arvato_data/Udacity_AZDIAS_052018.csv'\n",
    "azdias_path = './Data/Udacity_AZDIAS_052018.csv'\n",
    "\n",
    "# customers_path = '../../data/Term2/capstone/arvato_data/Udacity_CUSTOMERS_052018.csv'\n",
    "customers_path = './Data/Udacity_CUSTOMERS_052018.csv'\n",
    "\n",
    "# Load in the data\n",
    "print('Loading azdias data... ', end='')\n",
    "azdias = pd.read_csv(azdias_path, sep=';')\n",
    "print(\"Done!\")\n",
    "\n",
    "print('Loading customers data... ', end='')\n",
    "customers = pd.read_csv(customers_path, sep=';')\n",
    "print(\"Done!\")"
   ]
  },
  {
   "cell_type": "markdown",
   "metadata": {},
   "source": [
    "Start by printing out a few statistics about the dataframes; their sizes, column types, and how much data is missing."
   ]
  },
  {
   "cell_type": "code",
   "execution_count": 3,
   "metadata": {},
   "outputs": [],
   "source": [
    "def dataframe_overview(df):\n",
    "    ''' Calculate and output various statistics about a dataframe\n",
    "    \n",
    "    Args:\n",
    "        df (DataFrame): dataframe to analyse\n",
    "    '''\n",
    "    # Print shape of dataframe\n",
    "    print(\"{} rows and {} columns.\".format(df.shape[0], df.shape[1]))\n",
    "    \n",
    "    # Print counts of columns with type number and object\n",
    "    types = ['number', 'object']\n",
    "    for col_type in types:\n",
    "        count = df.select_dtypes(include=col_type).shape[1]\n",
    "        print('{} columns of type \\'{}\\'.'.format(count, col_type))\n",
    "    \n",
    "    # Print fraction of missing data\n",
    "    missing_fraction = df.isna().mean().mean()\n",
    "    print('{:.0%} of the data is null.'.format(missing_fraction))"
   ]
  },
  {
   "cell_type": "code",
   "execution_count": 4,
   "metadata": {},
   "outputs": [
    {
     "name": "stdout",
     "output_type": "stream",
     "text": [
      "Overview of azdias:\n",
      "891221 rows and 366 columns.\n",
      "360 columns of type 'number'.\n",
      "6 columns of type 'object'.\n",
      "10% of the data is null.\n",
      "=====\n",
      "Overview of customers:\n",
      "191652 rows and 369 columns.\n",
      "361 columns of type 'number'.\n",
      "8 columns of type 'object'.\n",
      "20% of the data is null.\n"
     ]
    }
   ],
   "source": [
    "print('Overview of azdias:')\n",
    "dataframe_overview(azdias)\n",
    "print('=====')\n",
    "print('Overview of customers:')\n",
    "dataframe_overview(customers)"
   ]
  },
  {
   "cell_type": "markdown",
   "metadata": {},
   "source": [
    "We can see that both datasets contain a mix of numeric and object types, and have a significant amount of missing data. We'll start cleaning the data, by analysing the `azdias` dataset to create a set a cleaning functions that we can then apply to both the `azdias` and `customers` datasets.\n",
    "\n",
    "### 0.1 Invalid values\n",
    "Loading the `azdias` data gives a warning that columns 18 and 19 have mixed types. Before we proceed, let's check out those columns to see what is triggering the warning."
   ]
  },
  {
   "cell_type": "code",
   "execution_count": 5,
   "metadata": {},
   "outputs": [
    {
     "data": {
      "text/plain": [
       "8      78023\n",
       "9      62578\n",
       "6      61253\n",
       "4      60185\n",
       "8.0    56418\n",
       "3      50360\n",
       "2      48276\n",
       "9.0    45599\n",
       "7      45021\n",
       "6.0    44621\n",
       "4.0    43727\n",
       "3.0    36419\n",
       "2.0    34955\n",
       "7.0    32912\n",
       "5      32292\n",
       "5.0    23018\n",
       "1      20997\n",
       "1.0    15215\n",
       "X        373\n",
       "Name: CAMEO_DEUG_2015, dtype: int64"
      ]
     },
     "execution_count": 5,
     "metadata": {},
     "output_type": "execute_result"
    }
   ],
   "source": [
    "# Look at the values in column 18\n",
    "azdias.iloc[:, 18].value_counts()"
   ]
  },
  {
   "cell_type": "code",
   "execution_count": 6,
   "metadata": {},
   "outputs": [
    {
     "data": {
      "text/plain": [
       "51      77576\n",
       "51.0    56118\n",
       "41      53459\n",
       "24      52882\n",
       "41.0    38877\n",
       "24.0    38276\n",
       "14      36524\n",
       "43      32730\n",
       "14.0    26360\n",
       "54      26207\n",
       "43.0    23942\n",
       "25      22837\n",
       "54.0    19184\n",
       "22      19173\n",
       "25.0    16791\n",
       "23      15653\n",
       "13      15272\n",
       "45      15206\n",
       "22.0    13982\n",
       "55      13842\n",
       "52      11836\n",
       "23.0    11097\n",
       "13.0    11064\n",
       "31      11041\n",
       "45.0    10926\n",
       "34      10737\n",
       "55.0    10113\n",
       "15       9832\n",
       "52.0     8706\n",
       "44       8543\n",
       "31.0     7983\n",
       "34.0     7787\n",
       "12       7645\n",
       "15.0     7142\n",
       "44.0     6277\n",
       "35       6090\n",
       "32       6067\n",
       "33       5833\n",
       "12.0     5604\n",
       "32.0     4287\n",
       "35.0     4266\n",
       "33.0     4102\n",
       "XX        373\n",
       "Name: CAMEO_INTL_2015, dtype: int64"
      ]
     },
     "execution_count": 6,
     "metadata": {},
     "output_type": "execute_result"
    }
   ],
   "source": [
    "# Look at the values in column 19\n",
    "azdias.iloc[:, 19].value_counts()"
   ]
  },
  {
   "cell_type": "markdown",
   "metadata": {},
   "source": [
    "We can see that column 18 (`CAMEO_DEUG_2015`) has 373 rows with the value `X`, and column 19 (`CAMEO_INTL_2015`) has 373 rows with the value `XX`. According to the `DIAS Attributes - Values 2017.xlsx` file these columns should only have integer values, so we should set these to NaN and set the column type to numeric. This will also fix the problem of having (for example) `35` and `35.0` counted as different values.\n",
    "\n",
    "\n",
    "Whilst no other columns raised an error due to this, let's check out all columns that have been read in as type `object`. These could be hiding similar values if the column only contains strings."
   ]
  },
  {
   "cell_type": "code",
   "execution_count": 7,
   "metadata": {},
   "outputs": [
    {
     "name": "stdout",
     "output_type": "stream",
     "text": [
      "Found 373 values matching '/X+/' in column 'CAMEO_DEU_2015'.\n",
      "Found 373 values matching '/X+/' in column 'CAMEO_DEUG_2015'.\n",
      "Found 373 values matching '/X+/' in column 'CAMEO_INTL_2015'.\n"
     ]
    },
    {
     "data": {
      "text/plain": [
       "['CAMEO_DEU_2015', 'CAMEO_DEUG_2015', 'CAMEO_INTL_2015']"
      ]
     },
     "execution_count": 7,
     "metadata": {},
     "output_type": "execute_result"
    }
   ],
   "source": [
    "# List to hold column names in\n",
    "cols_with_x = []\n",
    "\n",
    "# Iterate through columns with type object\n",
    "for col in azdias.columns[azdias.dtypes == 'object']:\n",
    "    # Count the number of values with /X+/ (i.e. X, XX)\n",
    "    xs_found = azdias[col].str.match(r'X+', na=False).sum()\n",
    "    # If found, print the column name and number found\n",
    "    if xs_found > 0:\n",
    "        print(\"Found {} values matching '/X+/' in column '{}'.\".format(xs_found, col))\n",
    "        cols_with_x.append(col)\n",
    "        \n",
    "cols_with_x"
   ]
  },
  {
   "cell_type": "markdown",
   "metadata": {},
   "source": [
    "There are three columns (`CAMEO_DEU_2015`, `CAMEO_DEUG_2015`, `CAMEO_INTL_2015`) that have invalid X or XX values. We'll adapt the code above to define a function to replace these values with NaN."
   ]
  },
  {
   "cell_type": "code",
   "execution_count": 8,
   "metadata": {},
   "outputs": [],
   "source": [
    "def replace_invalid_x_values(df):\n",
    "    ''' Replace invalid values ('X', 'XX') with np.nan and convert to numeric if possible\n",
    "    \n",
    "    Args:\n",
    "        df (DataFrame): dataframe to process\n",
    "    Returns:\n",
    "        df (DataFrame): processed dataframe\n",
    "    '''\n",
    "    # Iterate through all columns with type object\n",
    "    for col in df.columns[df.dtypes == 'object']:\n",
    "        xs_found = df[col].str.match(r'X+', na=False).sum()\n",
    "        if xs_found > 0:\n",
    "            df[col] = df[col].replace(r'X+', np.nan, regex=True)\n",
    "            print(\"Found {} values matching '/X+/' in column '{}'. replaced with NaN.\".format(xs_found, col))\n",
    "            # If possible, convert to numeric\n",
    "            df[col] = pd.to_numeric(df[col], errors='ignore')\n",
    "    \n",
    "    return df"
   ]
  },
  {
   "cell_type": "markdown",
   "metadata": {},
   "source": [
    "The `DIAS Attributes - Values 2017.xlsx` file tells us that some columns are using values other than NaN to denote missing data; such as -1, 0, or 9. We should replace these values with NaN to get a better picture of missing data in the dataset. To do this efficiently, we can use the Excel file to generate a mapping of column names to values used for unknown data."
   ]
  },
  {
   "cell_type": "code",
   "execution_count": 9,
   "metadata": {},
   "outputs": [
    {
     "data": {
      "text/html": [
       "<div>\n",
       "<style scoped>\n",
       "    .dataframe tbody tr th:only-of-type {\n",
       "        vertical-align: middle;\n",
       "    }\n",
       "\n",
       "    .dataframe tbody tr th {\n",
       "        vertical-align: top;\n",
       "    }\n",
       "\n",
       "    .dataframe thead th {\n",
       "        text-align: right;\n",
       "    }\n",
       "</style>\n",
       "<table border=\"1\" class=\"dataframe\">\n",
       "  <thead>\n",
       "    <tr style=\"text-align: right;\">\n",
       "      <th></th>\n",
       "      <th>Unnamed: 0</th>\n",
       "      <th>Attribute</th>\n",
       "      <th>Description</th>\n",
       "      <th>Value</th>\n",
       "      <th>Meaning</th>\n",
       "    </tr>\n",
       "  </thead>\n",
       "  <tbody>\n",
       "    <tr>\n",
       "      <th>0</th>\n",
       "      <td>NaN</td>\n",
       "      <td>AGER_TYP</td>\n",
       "      <td>best-ager typology</td>\n",
       "      <td>-1</td>\n",
       "      <td>unknown</td>\n",
       "    </tr>\n",
       "    <tr>\n",
       "      <th>1</th>\n",
       "      <td>NaN</td>\n",
       "      <td>NaN</td>\n",
       "      <td>NaN</td>\n",
       "      <td>0</td>\n",
       "      <td>no classification possible</td>\n",
       "    </tr>\n",
       "    <tr>\n",
       "      <th>2</th>\n",
       "      <td>NaN</td>\n",
       "      <td>NaN</td>\n",
       "      <td>NaN</td>\n",
       "      <td>1</td>\n",
       "      <td>passive elderly</td>\n",
       "    </tr>\n",
       "    <tr>\n",
       "      <th>3</th>\n",
       "      <td>NaN</td>\n",
       "      <td>NaN</td>\n",
       "      <td>NaN</td>\n",
       "      <td>2</td>\n",
       "      <td>cultural elderly</td>\n",
       "    </tr>\n",
       "    <tr>\n",
       "      <th>4</th>\n",
       "      <td>NaN</td>\n",
       "      <td>NaN</td>\n",
       "      <td>NaN</td>\n",
       "      <td>3</td>\n",
       "      <td>experience-driven elderly</td>\n",
       "    </tr>\n",
       "  </tbody>\n",
       "</table>\n",
       "</div>"
      ],
      "text/plain": [
       "   Unnamed: 0 Attribute         Description Value                     Meaning\n",
       "0         NaN  AGER_TYP  best-ager typology    -1                     unknown\n",
       "1         NaN       NaN                 NaN     0  no classification possible\n",
       "2         NaN       NaN                 NaN     1             passive elderly\n",
       "3         NaN       NaN                 NaN     2            cultural elderly\n",
       "4         NaN       NaN                 NaN     3   experience-driven elderly"
      ]
     },
     "execution_count": 9,
     "metadata": {},
     "output_type": "execute_result"
    }
   ],
   "source": [
    "# Use the provided Excel file to generate a mapping of columns to the values used for unknown data\n",
    "# Load in the Excel file\n",
    "attributes_df = pd.read_excel('DIAS Attributes - Values 2017.xlsx', skiprows=[0])\n",
    "attributes_df.head()"
   ]
  },
  {
   "cell_type": "code",
   "execution_count": 10,
   "metadata": {},
   "outputs": [
    {
     "data": {
      "text/html": [
       "<div>\n",
       "<style scoped>\n",
       "    .dataframe tbody tr th:only-of-type {\n",
       "        vertical-align: middle;\n",
       "    }\n",
       "\n",
       "    .dataframe tbody tr th {\n",
       "        vertical-align: top;\n",
       "    }\n",
       "\n",
       "    .dataframe thead th {\n",
       "        text-align: right;\n",
       "    }\n",
       "</style>\n",
       "<table border=\"1\" class=\"dataframe\">\n",
       "  <thead>\n",
       "    <tr style=\"text-align: right;\">\n",
       "      <th></th>\n",
       "      <th>Attribute</th>\n",
       "      <th>Description</th>\n",
       "      <th>Value</th>\n",
       "      <th>Meaning</th>\n",
       "    </tr>\n",
       "  </thead>\n",
       "  <tbody>\n",
       "    <tr>\n",
       "      <th>0</th>\n",
       "      <td>AGER_TYP</td>\n",
       "      <td>best-ager typology</td>\n",
       "      <td>-1</td>\n",
       "      <td>unknown</td>\n",
       "    </tr>\n",
       "    <tr>\n",
       "      <th>1</th>\n",
       "      <td>AGER_TYP</td>\n",
       "      <td>best-ager typology</td>\n",
       "      <td>0</td>\n",
       "      <td>no classification possible</td>\n",
       "    </tr>\n",
       "    <tr>\n",
       "      <th>2</th>\n",
       "      <td>AGER_TYP</td>\n",
       "      <td>best-ager typology</td>\n",
       "      <td>1</td>\n",
       "      <td>passive elderly</td>\n",
       "    </tr>\n",
       "    <tr>\n",
       "      <th>3</th>\n",
       "      <td>AGER_TYP</td>\n",
       "      <td>best-ager typology</td>\n",
       "      <td>2</td>\n",
       "      <td>cultural elderly</td>\n",
       "    </tr>\n",
       "    <tr>\n",
       "      <th>4</th>\n",
       "      <td>AGER_TYP</td>\n",
       "      <td>best-ager typology</td>\n",
       "      <td>3</td>\n",
       "      <td>experience-driven elderly</td>\n",
       "    </tr>\n",
       "  </tbody>\n",
       "</table>\n",
       "</div>"
      ],
      "text/plain": [
       "  Attribute         Description Value                     Meaning\n",
       "0  AGER_TYP  best-ager typology    -1                     unknown\n",
       "1  AGER_TYP  best-ager typology     0  no classification possible\n",
       "2  AGER_TYP  best-ager typology     1             passive elderly\n",
       "3  AGER_TYP  best-ager typology     2            cultural elderly\n",
       "4  AGER_TYP  best-ager typology     3   experience-driven elderly"
      ]
     },
     "execution_count": 10,
     "metadata": {},
     "output_type": "execute_result"
    }
   ],
   "source": [
    "# Drop the empty first column, and forward fill in the NaNs in the Attribute and Description columns\n",
    "attributes_df.drop(labels=['Unnamed: 0'], axis=1, inplace=True)\n",
    "attributes_df[['Attribute', 'Description']] = attributes_df[['Attribute', 'Description']].fillna(method='ffill')\n",
    "attributes_df.head()"
   ]
  },
  {
   "cell_type": "code",
   "execution_count": 11,
   "metadata": {},
   "outputs": [
    {
     "data": {
      "text/html": [
       "<div>\n",
       "<style scoped>\n",
       "    .dataframe tbody tr th:only-of-type {\n",
       "        vertical-align: middle;\n",
       "    }\n",
       "\n",
       "    .dataframe tbody tr th {\n",
       "        vertical-align: top;\n",
       "    }\n",
       "\n",
       "    .dataframe thead th {\n",
       "        text-align: right;\n",
       "    }\n",
       "</style>\n",
       "<table border=\"1\" class=\"dataframe\">\n",
       "  <thead>\n",
       "    <tr style=\"text-align: right;\">\n",
       "      <th></th>\n",
       "      <th>Attribute</th>\n",
       "      <th>Value</th>\n",
       "    </tr>\n",
       "  </thead>\n",
       "  <tbody>\n",
       "    <tr>\n",
       "      <th>0</th>\n",
       "      <td>AGER_TYP</td>\n",
       "      <td>-1</td>\n",
       "    </tr>\n",
       "    <tr>\n",
       "      <th>5</th>\n",
       "      <td>ALTERSKATEGORIE_GROB</td>\n",
       "      <td>-1, 0</td>\n",
       "    </tr>\n",
       "    <tr>\n",
       "      <th>11</th>\n",
       "      <td>ALTER_HH</td>\n",
       "      <td>0</td>\n",
       "    </tr>\n",
       "    <tr>\n",
       "      <th>33</th>\n",
       "      <td>ANREDE_KZ</td>\n",
       "      <td>-1, 0</td>\n",
       "    </tr>\n",
       "    <tr>\n",
       "      <th>40</th>\n",
       "      <td>BALLRAUM</td>\n",
       "      <td>-1</td>\n",
       "    </tr>\n",
       "  </tbody>\n",
       "</table>\n",
       "</div>"
      ],
      "text/plain": [
       "               Attribute  Value\n",
       "0               AGER_TYP     -1\n",
       "5   ALTERSKATEGORIE_GROB  -1, 0\n",
       "11              ALTER_HH      0\n",
       "33             ANREDE_KZ  -1, 0\n",
       "40              BALLRAUM     -1"
      ]
     },
     "execution_count": 11,
     "metadata": {},
     "output_type": "execute_result"
    }
   ],
   "source": [
    "# Filter down to only the rows concerning values for unknown data\n",
    "unknown_val_df = attributes_df[['Attribute', 'Value']][attributes_df['Meaning'].str.startswith('unknown', na=False)]\n",
    "unknown_val_df.head()"
   ]
  },
  {
   "cell_type": "code",
   "execution_count": 12,
   "metadata": {},
   "outputs": [
    {
     "data": {
      "text/plain": [
       "{'AGER_TYP': -1,\n",
       " 'ALTERSKATEGORIE_GROB': [-1, 0],\n",
       " 'ALTER_HH': 0,\n",
       " 'ANREDE_KZ': [-1, 0],\n",
       " 'BALLRAUM': -1,\n",
       " 'BIP_FLAG': -1,\n",
       " 'CAMEO_DEUG_2015': -1,\n",
       " 'CAMEO_DEUINTL_2015': -1,\n",
       " 'CJT_GESAMTTYP': 0,\n",
       " 'D19_KK_KUNDENTYP': -1,\n",
       " 'EWDICHTE': -1,\n",
       " 'FINANZTYP': -1,\n",
       " 'FINANZ_ANLEGER': -1,\n",
       " 'FINANZ_HAUSBAUER': -1,\n",
       " 'FINANZ_MINIMALIST': -1,\n",
       " 'FINANZ_SPARER': -1,\n",
       " 'FINANZ_UNAUFFAELLIGER': -1,\n",
       " 'FINANZ_VORSORGER': -1,\n",
       " 'GEBAEUDETYP': [-1, 0],\n",
       " 'GEOSCORE_KLS7': [-1, 0],\n",
       " 'HAUSHALTSSTRUKTUR': [-1, 0],\n",
       " 'HEALTH_TYP': -1,\n",
       " 'HH_EINKOMMEN_SCORE': [-1, 0],\n",
       " 'INNENSTADT': -1,\n",
       " 'KBA05_ALTER1': [-1, 9],\n",
       " 'KBA05_ALTER2': [-1, 9],\n",
       " 'KBA05_ALTER3': [-1, 9],\n",
       " 'KBA05_ALTER4': [-1, 9],\n",
       " 'KBA05_ANHANG': [-1, 9],\n",
       " 'KBA05_ANTG1': -1,\n",
       " 'KBA05_ANTG2': -1,\n",
       " 'KBA05_ANTG3': -1,\n",
       " 'KBA05_ANTG4': -1,\n",
       " 'KBA05_AUTOQUOT': [-1, 9],\n",
       " 'KBA05_BAUMAX': [-1, 0],\n",
       " 'KBA05_CCM1': [-1, 9],\n",
       " 'KBA05_CCM2': [-1, 9],\n",
       " 'KBA05_CCM3': [-1, 9],\n",
       " 'KBA05_CCM4': [-1, 9],\n",
       " 'KBA05_DIESEL': [-1, 9],\n",
       " 'KBA05_FRAU': [-1, 9],\n",
       " 'KBA05_GBZ': [-1, 0],\n",
       " 'KBA05_HERST1': [-1, 9],\n",
       " 'KBA05_HERST2': [-1, 9],\n",
       " 'KBA05_HERST3': [-1, 9],\n",
       " 'KBA05_HERST4': [-1, 9],\n",
       " 'KBA05_HERST5': [-1, 9],\n",
       " 'KBA05_HERSTTEMP': [-1, 9],\n",
       " 'KBA05_KRSAQUOT': [-1, 9],\n",
       " 'KBA05_KRSHERST1': [-1, 9],\n",
       " 'KBA05_KRSHERST2': [-1, 9],\n",
       " 'KBA05_KRSHERST3': [-1, 9],\n",
       " 'KBA05_KRSKLEIN': [-1, 9],\n",
       " 'KBA05_KRSOBER': [-1, 9],\n",
       " 'KBA05_KRSVAN': [-1, 9],\n",
       " 'KBA05_KRSZUL': [-1, 9],\n",
       " 'KBA05_KW1': [-1, 9],\n",
       " 'KBA05_KW2': [-1, 9],\n",
       " 'KBA05_KW3': [-1, 9],\n",
       " 'KBA05_MAXAH': [-1, 9],\n",
       " 'KBA05_MAXBJ': [-1, 9],\n",
       " 'KBA05_MAXHERST': [-1, 9],\n",
       " 'KBA05_MAXSEG': [-1, 9],\n",
       " 'KBA05_MAXVORB': [-1, 9],\n",
       " 'KBA05_MOD1': [-1, 9],\n",
       " 'KBA05_MOD2': [-1, 9],\n",
       " 'KBA05_MOD3': [-1, 9],\n",
       " 'KBA05_MOD4': [-1, 9],\n",
       " 'KBA05_MOD8': [-1, 9],\n",
       " 'KBA05_MODTEMP': [-1, 9],\n",
       " 'KBA05_MOTOR': [-1, 9],\n",
       " 'KBA05_MOTRAD': [-1, 9],\n",
       " 'KBA05_SEG1': [-1, 9],\n",
       " 'KBA05_SEG10': [-1, 9],\n",
       " 'KBA05_SEG2': [-1, 9],\n",
       " 'KBA05_SEG3': [-1, 9],\n",
       " 'KBA05_SEG4': [-1, 9],\n",
       " 'KBA05_SEG5': [-1, 9],\n",
       " 'KBA05_SEG6': [-1, 9],\n",
       " 'KBA05_SEG7': [-1, 9],\n",
       " 'KBA05_SEG8': [-1, 9],\n",
       " 'KBA05_SEG9': [-1, 9],\n",
       " 'KBA05_VORB0': [-1, 9],\n",
       " 'KBA05_VORB1': [-1, 9],\n",
       " 'KBA05_VORB2': [-1, 9],\n",
       " 'KBA05_ZUL1': [-1, 9],\n",
       " 'KBA05_ZUL2': [-1, 9],\n",
       " 'KBA05_ZUL3': [-1, 9],\n",
       " 'KBA05_ZUL4': [-1, 9],\n",
       " 'KBA13_ALTERHALTER_30': -1,\n",
       " 'KBA13_ALTERHALTER_45': -1,\n",
       " 'KBA13_ALTERHALTER_60': -1,\n",
       " 'KBA13_ALTERHALTER_61': -1,\n",
       " 'KBA13_AUDI': -1,\n",
       " 'KBA13_AUTOQUOTE': -1,\n",
       " 'KBA13_BJ_1999': -1,\n",
       " 'KBA13_BJ_2000': -1,\n",
       " 'KBA13_BJ_2004': -1,\n",
       " 'KBA13_BJ_2006': -1,\n",
       " 'KBA13_BJ_2008': -1,\n",
       " 'KBA13_BJ_2009': -1,\n",
       " 'KBA13_BMW': -1,\n",
       " 'KBA13_CCM_1000': -1,\n",
       " 'KBA13_CCM_1200': -1,\n",
       " 'KBA13_CCM_1400': -1,\n",
       " 'KBA13_CCM_0_1400': -1,\n",
       " 'KBA13_CCM_1500': -1,\n",
       " 'KBA13_CCM_1400_2500': -1,\n",
       " 'KBA13_CCM_1600': -1,\n",
       " 'KBA13_CCM_1800': -1,\n",
       " 'KBA13_CCM_2000': -1,\n",
       " 'KBA13_CCM_2500': -1,\n",
       " 'KBA13_CCM_2501': -1,\n",
       " 'KBA13_CCM_3000': -1,\n",
       " 'KBA13_CCM_3001': -1,\n",
       " 'KBA13_FAB_ASIEN': -1,\n",
       " 'KBA13_FAB_SONSTIGE': -1,\n",
       " 'KBA13_FIAT': -1,\n",
       " 'KBA13_FORD': -1,\n",
       " 'KBA13_HALTER_20': -1,\n",
       " 'KBA13_HALTER_25': -1,\n",
       " 'KBA13_HALTER_30': -1,\n",
       " 'KBA13_HALTER_35': -1,\n",
       " 'KBA13_HALTER_40': -1,\n",
       " 'KBA13_HALTER_45': -1,\n",
       " 'KBA13_HALTER_50': -1,\n",
       " 'KBA13_HALTER_55': -1,\n",
       " 'KBA13_HALTER_60': -1,\n",
       " 'KBA13_HALTER_65': -1,\n",
       " 'KBA13_HALTER_66': -1,\n",
       " 'KBA13_HERST_ASIEN': -1,\n",
       " 'KBA13_HERST_AUDI_VW': -1,\n",
       " 'KBA13_HERST_BMW_BENZ': -1,\n",
       " 'KBA13_HERST_EUROPA': -1,\n",
       " 'KBA13_HERST_FORD_OPEL': -1,\n",
       " 'KBA13_HERST_SONST': -1,\n",
       " 'KBA13_KMH_110': -1,\n",
       " 'KBA13_KMH_140': -1,\n",
       " 'KBA13_KMH_180': -1,\n",
       " 'KBA13_KMH_0_140': -1,\n",
       " 'KBA13_KMH_140_210': -1,\n",
       " 'KBA13_KMH_211': -1,\n",
       " 'KBA13_KMH_250': -1,\n",
       " 'KBA13_KMH_251': -1,\n",
       " 'KBA13_KRSAQUOT': -1,\n",
       " 'KBA13_KRSHERST_AUDI_VW': -1,\n",
       " 'KBA13_KRSHERST_BMW_BENZ': -1,\n",
       " 'KBA13_KRSHERST_FORD_OPEL': -1,\n",
       " 'KBA13_KRSSEG_KLEIN': -1,\n",
       " 'KBA13_KRSSEG_OBER': -1,\n",
       " 'KBA13_KRSSEG_VAN': -1,\n",
       " 'KBA13_KRSZUL_NEU': -1,\n",
       " 'KBA13_KW_30': -1,\n",
       " 'KBA13_KW_40': -1,\n",
       " 'KBA13_KW_50': -1,\n",
       " 'KBA13_KW_60': -1,\n",
       " 'KBA13_KW_0_60': -1,\n",
       " 'KBA13_KW_70': -1,\n",
       " 'KBA13_KW_61_120': -1,\n",
       " 'KBA13_KW_80': -1,\n",
       " 'KBA13_KW_90': -1,\n",
       " 'KBA13_KW_110': -1,\n",
       " 'KBA13_KW_120': -1,\n",
       " 'KBA13_KW_121': -1,\n",
       " 'KBA13_MAZDA': -1,\n",
       " 'KBA13_MERCEDES': -1,\n",
       " 'KBA13_MOTOR': -1,\n",
       " 'KBA13_NISSAN': -1,\n",
       " 'KBA13_OPEL': -1,\n",
       " 'KBA13_PEUGEOT': -1,\n",
       " 'KBA13_RENAULT': -1,\n",
       " 'KBA13_SEG_GELAENDEWAGEN': -1,\n",
       " 'KBA13_SEG_GROSSRAUMVANS': -1,\n",
       " 'KBA13_SEG_KLEINST': -1,\n",
       " 'KBA13_SEG_KLEINWAGEN': -1,\n",
       " 'KBA13_SEG_KOMPAKTKLASSE': -1,\n",
       " 'KBA13_SEG_MINIVANS': -1,\n",
       " 'KBA13_SEG_MINIWAGEN': -1,\n",
       " 'KBA13_SEG_MITTELKLASSE': -1,\n",
       " 'KBA13_SEG_OBEREMITTELKLASSE': -1,\n",
       " 'KBA13_SEG_OBERKLASSE': -1,\n",
       " 'KBA13_SEG_SONSTIGE': -1,\n",
       " 'KBA13_SEG_SPORTWAGEN': -1,\n",
       " 'KBA13_SEG_UTILITIES': -1,\n",
       " 'KBA13_SEG_VAN': -1,\n",
       " 'KBA13_SEG_WOHNMOBILE': -1,\n",
       " 'KBA13_SITZE_4': -1,\n",
       " 'KBA13_SITZE_5': -1,\n",
       " 'KBA13_SITZE_6': -1,\n",
       " 'KBA13_TOYOTA': -1,\n",
       " 'KBA13_VORB_0': -1,\n",
       " 'KBA13_VORB_1': -1,\n",
       " 'KBA13_VORB_1_2': -1,\n",
       " 'KBA13_VORB_2': -1,\n",
       " 'KBA13_VORB_3': -1,\n",
       " 'KBA13_VW': -1,\n",
       " 'KKK': [-1, 0],\n",
       " 'NATIONALITAET_KZ': [-1, 0],\n",
       " 'ORTSGR_KLS9': [-1],\n",
       " 'OST_WEST_KZ': -1,\n",
       " 'PLZ8_ANTG1': -1,\n",
       " 'PLZ8_ANTG2': -1,\n",
       " 'PLZ8_ANTG3': -1,\n",
       " 'PLZ8_ANTG4': -1,\n",
       " 'PLZ8_GBZ': -1,\n",
       " 'PLZ8_HHZ': -1,\n",
       " 'PRAEGENDE_JUGENDJAHRE': [-1, 0],\n",
       " 'REGIOTYP': [-1, 0],\n",
       " 'RELAT_AB': [-1, 9],\n",
       " 'RETOURTYP_BK_S': 0,\n",
       " 'SEMIO_DOM': [-1, 9],\n",
       " 'SEMIO_ERL': [-1, 9],\n",
       " 'SEMIO_FAM': [-1, 9],\n",
       " 'SEMIO_KAEM': [-1, 9],\n",
       " 'SEMIO_KRIT': [-1, 9],\n",
       " 'SEMIO_KULT': [-1, 9],\n",
       " 'SEMIO_LUST': [-1, 9],\n",
       " 'SEMIO_MAT': [-1, 9],\n",
       " 'SEMIO_PFLICHT': [-1, 9],\n",
       " 'SEMIO_RAT': [-1, 9],\n",
       " 'SEMIO_REL': [-1, 9],\n",
       " 'SEMIO_SOZ': [-1, 9],\n",
       " 'SEMIO_TRADV': [-1, 9],\n",
       " 'SEMIO_VERT': [-1, 9],\n",
       " 'SHOPPER_TYP': -1,\n",
       " 'SOHO_FLAG': -1,\n",
       " 'TITEL_KZ': [-1, 0],\n",
       " 'VERS_TYP': -1,\n",
       " 'WOHNDAUER_2008': [-1, 0],\n",
       " 'WOHNLAGE': -1,\n",
       " 'WACHSTUMSGEBIET_NB': [-1, 0],\n",
       " 'W_KEIT_KIND_HH': [-1, 0],\n",
       " 'ZABEOTYP': [-1, 9]}"
      ]
     },
     "execution_count": 12,
     "metadata": {},
     "output_type": "execute_result"
    }
   ],
   "source": [
    "# Convert to dict, and split out strings into lists of ints\n",
    "unknown_value_dict = dict(zip(unknown_val_df['Attribute'], unknown_val_df['Value']))\n",
    "\n",
    "for k, v in unknown_value_dict.items():\n",
    "    if type(v) == str:\n",
    "        unknown_value_dict[k] = list(map(int, list(v.split(','))))\n",
    "\n",
    "unknown_value_dict"
   ]
  },
  {
   "cell_type": "markdown",
   "metadata": {},
   "source": [
    "We can use this dictionary (`unknown_value_dict`) to iterate through the columns in the dataset and replace the placeholders used for unknown data with NaN."
   ]
  },
  {
   "cell_type": "code",
   "execution_count": 13,
   "metadata": {},
   "outputs": [],
   "source": [
    "def replace_unknown_with_nan(df, unknown_value_dict):\n",
    "    ''' Replace values in the dataframe with np.nan using the provided dict as a map\n",
    "    \n",
    "    Args:\n",
    "        df (DataFrame): dataframe to process\n",
    "        unknown_value_dict (dict): mapping of column names to values used for unknown data\n",
    "    Returns:\n",
    "        df (DataFrame): processed dataframe\n",
    "        columns_not_found (list): list of columns in the dict not found in the dataframe\n",
    "    \n",
    "    '''\n",
    "    # Keep track of any columns not found in the dataset\n",
    "    columns_not_found = []\n",
    "    \n",
    "    # Iterate through the dict of alternative values for null data, replacing with nan\n",
    "    for col_name, null_values in unknown_value_dict.items():\n",
    "        if col_name in df.columns:\n",
    "            df[col_name] = df[col_name].replace(null_values, np.nan)\n",
    "        else:\n",
    "            columns_not_found.append(col_name)\n",
    "    \n",
    "    return df, columns_not_found"
   ]
  },
  {
   "cell_type": "markdown",
   "metadata": {},
   "source": [
    "We can also use the Excel file to generate a list of columns for which we have explanations of their meanings. We cannot be sure of the meaning of any additional columns in the dataset, and should drop them."
   ]
  },
  {
   "cell_type": "code",
   "execution_count": 14,
   "metadata": {},
   "outputs": [
    {
     "name": "stdout",
     "output_type": "stream",
     "text": [
      "There are 314 columns with known meanings.\n",
      "There are 94 columns in the dataframe without a known meaning.\n",
      "['AKT_DAT_KL' 'ALTERSKATEGORIE_FEIN' 'ALTER_KIND1' 'ALTER_KIND2'\n",
      " 'ALTER_KIND3' 'ALTER_KIND4' 'ANZ_KINDER' 'ANZ_STATISTISCHE_HAUSHALTE'\n",
      " 'ARBEIT' 'CAMEO_INTL_2015' 'CJT_KATALOGNUTZER' 'CJT_TYP_1' 'CJT_TYP_2'\n",
      " 'CJT_TYP_3' 'CJT_TYP_4' 'CJT_TYP_5' 'CJT_TYP_6' 'D19_BANKEN_DIREKT'\n",
      " 'D19_BANKEN_GROSS' 'D19_BANKEN_LOKAL' 'D19_BANKEN_REST'\n",
      " 'D19_BEKLEIDUNG_GEH' 'D19_BEKLEIDUNG_REST' 'D19_BILDUNG' 'D19_BIO_OEKO'\n",
      " 'D19_BUCH_CD' 'D19_DIGIT_SERV' 'D19_DROGERIEARTIKEL' 'D19_ENERGIE'\n",
      " 'D19_FREIZEIT' 'D19_GARTEN' 'D19_HANDWERK' 'D19_HAUS_DEKO'\n",
      " 'D19_KINDERARTIKEL' 'D19_KONSUMTYP_MAX' 'D19_KOSMETIK' 'D19_LEBENSMITTEL'\n",
      " 'D19_LETZTER_KAUF_BRANCHE' 'D19_LOTTO' 'D19_NAHRUNGSERGAENZUNG'\n",
      " 'D19_RATGEBER' 'D19_REISEN' 'D19_SAMMELARTIKEL' 'D19_SCHUHE'\n",
      " 'D19_SONSTIGE' 'D19_SOZIALES' 'D19_TECHNIK' 'D19_TELKO_MOBILE'\n",
      " 'D19_TELKO_ONLINE_QUOTE_12' 'D19_TELKO_REST' 'D19_TIERARTIKEL'\n",
      " 'D19_VERSAND_REST' 'D19_VERSICHERUNGEN' 'D19_VERSI_DATUM'\n",
      " 'D19_VERSI_OFFLINE_DATUM' 'D19_VERSI_ONLINE_DATUM'\n",
      " 'D19_VERSI_ONLINE_QUOTE_12' 'D19_VOLLSORTIMENT' 'D19_WEIN_FEINKOST'\n",
      " 'DSL_FLAG' 'EINGEFUEGT_AM' 'EINGEZOGENAM_HH_JAHR' 'EXTSEL992'\n",
      " 'FIRMENDICHTE' 'GEMEINDETYP' 'HH_DELTA_FLAG' 'KBA13_ANTG1' 'KBA13_ANTG2'\n",
      " 'KBA13_ANTG3' 'KBA13_ANTG4' 'KBA13_BAUMAX' 'KBA13_CCM_1401_2500'\n",
      " 'KBA13_GBZ' 'KBA13_HHZ' 'KBA13_KMH_210' 'KK_KUNDENTYP' 'KOMBIALTER'\n",
      " 'KONSUMZELLE' 'LNR' 'MOBI_RASTER' 'RT_KEIN_ANREIZ' 'RT_SCHNAEPPCHEN'\n",
      " 'RT_UEBERGROESSE' 'SOHO_KZ' 'STRUKTURTYP' 'UMFELD_ALT' 'UMFELD_JUNG'\n",
      " 'UNGLEICHENN_FLAG' 'VERDICHTUNGSRAUM' 'VHA' 'VHN' 'VK_DHT4A' 'VK_DISTANZ'\n",
      " 'VK_ZG11']\n"
     ]
    }
   ],
   "source": [
    "known_columns = attributes_df['Attribute'].unique()\n",
    "print('There are {} columns with known meanings.'.format(len(known_columns)))\n",
    "\n",
    "unknown_columns = np.setdiff1d(azdias.columns, known_columns)\n",
    "print('There are {} columns in the dataframe without a known meaning.'.format(len(unknown_columns)))\n",
    "\n",
    "print(unknown_columns)"
   ]
  },
  {
   "cell_type": "markdown",
   "metadata": {},
   "source": [
    "### 0.2 Missing values\n",
    "Next, we'll look how much data is missing in the `azdias` dataframe, and use this as a basis to determine if any columns and rows need to be dropped."
   ]
  },
  {
   "cell_type": "code",
   "execution_count": 15,
   "metadata": {},
   "outputs": [],
   "source": [
    "# Define a function to calculate the fraction of nan values in each column\n",
    "def get_null_fractions(df, threshold, plot=False):\n",
    "    ''' Function to return the columns with fraction of null data\n",
    "        greater than the threshold value. Optionally plot the results.\n",
    "        \n",
    "    Args:\n",
    "        df (DataFrame): dataframe to analyse\n",
    "        threshold (float): return columns with fraction over this value\n",
    "        plot (boolean): whether to plot the result (default=False)\n",
    "    Return:\n",
    "        fraction_null (Series): Columns and the fraction of null values\n",
    "    \n",
    "    '''\n",
    "    # Select columns with a fraction of missing data that exceeds the given threshold\n",
    "    fraction_null = df.isna().mean()\n",
    "    fraction_null = fraction_null[fraction_null > threshold]\n",
    "    \n",
    "    if plot == True:\n",
    "        fraction_null.plot(kind=\"bar\")\n",
    "        plt.xlabel(\"Column name\")\n",
    "        plt.ylabel(\"Fraction of NaN values\")\n",
    "        plt.title(\"Columns with >{:.0%} values as NaN\".format(threshold));\n",
    "        \n",
    "    return fraction_null"
   ]
  },
  {
   "cell_type": "code",
   "execution_count": 16,
   "metadata": {},
   "outputs": [
    {
     "data": {
      "text/plain": [
       "ALTER_KIND1     0.909048\n",
       "ALTER_KIND2     0.966900\n",
       "ALTER_KIND3     0.993077\n",
       "ALTER_KIND4     0.998648\n",
       "EXTSEL992       0.733996\n",
       "KK_KUNDENTYP    0.655967\n",
       "dtype: float64"
      ]
     },
     "execution_count": 16,
     "metadata": {},
     "output_type": "execute_result"
    },
    {
     "data": {
      "image/png": "[encoded data removed]",
      "text/plain": [
       "<Figure size 432x288 with 1 Axes>"
      ]
     },
     "metadata": {
      "needs_background": "light"
     },
     "output_type": "display_data"
    }
   ],
   "source": [
    "# Show columns with more than 50% null values\n",
    "get_null_fractions(azdias, threshold=0.5, plot=True)"
   ]
  },
  {
   "cell_type": "markdown",
   "metadata": {},
   "source": [
    "We can see that there are six columns with over half null values. There may be more once we have run the function to replace the additional values for unknown data with NaN. We will later drop these columns from the dataset with the following function."
   ]
  },
  {
   "cell_type": "code",
   "execution_count": 17,
   "metadata": {},
   "outputs": [],
   "source": [
    "def drop_columns(df, columns):\n",
    "    ''' Drop columns from the dataframe\n",
    "    \n",
    "    Args:\n",
    "        df (DataFrame): dataframe to process\n",
    "        columns (list): columns to drop\n",
    "    Return:\n",
    "        df_dropped (DataFrame): dataframe with columns dropped\n",
    "    '''\n",
    "    df_dropped = df.drop(labels=columns, axis=1)\n",
    "    \n",
    "    return df_dropped"
   ]
  },
  {
   "cell_type": "markdown",
   "metadata": {},
   "source": [
    "Now let's look at missing values by row."
   ]
  },
  {
   "cell_type": "code",
   "execution_count": 18,
   "metadata": {},
   "outputs": [
    {
     "data": {
      "image/png": "[encoded data removed]",
      "text/plain": [
       "<Figure size 432x288 with 1 Axes>"
      ]
     },
     "metadata": {
      "needs_background": "light"
     },
     "output_type": "display_data"
    }
   ],
   "source": [
    "# Calculate the fraction of null values on each row of the dataframe\n",
    "fraction_null_by_row = azdias.isna().mean(axis=1)\n",
    "\n",
    "# Plot a weighted histogram of the result\n",
    "plt.hist(fraction_null_by_row, weights=np.ones(len(fraction_null_by_row)) / len(fraction_null_by_row))\n",
    "plt.xlabel(\"Fraction of null values\")\n",
    "plt.ylabel(\"Fraction of dataset\")\n",
    "plt.title(\"Histogram of null values by row\");"
   ]
  },
  {
   "cell_type": "markdown",
   "metadata": {},
   "source": [
    "We can see that most of the rows (>80%) have few missing values (<20%), so we can quite agressively remove rows with missing values without significantly impacting the size of our dataset. We'll drop rows with >20% missing values using the following function."
   ]
  },
  {
   "cell_type": "code",
   "execution_count": 19,
   "metadata": {},
   "outputs": [],
   "source": [
    "def drop_rows_with_missing_values(df, threshold):\n",
    "    ''' Drop rows in the dataframe where the fraction of missing values exceeds a threshold\n",
    "    \n",
    "    Args:\n",
    "        df (DataFrame): dataframe to process\n",
    "        threshold (float): threshold of missing values above which a row will be dropped\n",
    "    Returns:\n",
    "        df_dropped (DataFrame): processed dataframe\n",
    "    '''\n",
    "    fraction_null_by_row = df.isna().mean(axis=1)\n",
    "    # Get indices of rows where the threshold of null values is exceeded\n",
    "    idx_to_drop = fraction_null_by_row[fraction_null_by_row > threshold].index\n",
    "    # Drop these from the dataframe\n",
    "    df_dropped = df.drop(labels=idx_to_drop, axis=0)\n",
    "    \n",
    "    return df_dropped"
   ]
  },
  {
   "cell_type": "markdown",
   "metadata": {},
   "source": [
    "### 0.3 Non-numeric columns\n",
    "There are a few remaining non-numeric columns in the dataset. As most ML models work best with numeric data, we should convert them where possible."
   ]
  },
  {
   "cell_type": "code",
   "execution_count": 20,
   "metadata": {},
   "outputs": [
    {
     "data": {
      "text/html": [
       "<div>\n",
       "<style scoped>\n",
       "    .dataframe tbody tr th:only-of-type {\n",
       "        vertical-align: middle;\n",
       "    }\n",
       "\n",
       "    .dataframe tbody tr th {\n",
       "        vertical-align: top;\n",
       "    }\n",
       "\n",
       "    .dataframe thead th {\n",
       "        text-align: right;\n",
       "    }\n",
       "</style>\n",
       "<table border=\"1\" class=\"dataframe\">\n",
       "  <thead>\n",
       "    <tr style=\"text-align: right;\">\n",
       "      <th></th>\n",
       "      <th>CAMEO_DEU_2015</th>\n",
       "      <th>CAMEO_DEUG_2015</th>\n",
       "      <th>CAMEO_INTL_2015</th>\n",
       "      <th>D19_LETZTER_KAUF_BRANCHE</th>\n",
       "      <th>EINGEFUEGT_AM</th>\n",
       "      <th>OST_WEST_KZ</th>\n",
       "    </tr>\n",
       "  </thead>\n",
       "  <tbody>\n",
       "    <tr>\n",
       "      <th>0</th>\n",
       "      <td>NaN</td>\n",
       "      <td>NaN</td>\n",
       "      <td>NaN</td>\n",
       "      <td>NaN</td>\n",
       "      <td>NaN</td>\n",
       "      <td>NaN</td>\n",
       "    </tr>\n",
       "    <tr>\n",
       "      <th>1</th>\n",
       "      <td>8A</td>\n",
       "      <td>8.0</td>\n",
       "      <td>51.0</td>\n",
       "      <td>NaN</td>\n",
       "      <td>1992-02-10 00:00:00</td>\n",
       "      <td>W</td>\n",
       "    </tr>\n",
       "    <tr>\n",
       "      <th>2</th>\n",
       "      <td>4C</td>\n",
       "      <td>4.0</td>\n",
       "      <td>24.0</td>\n",
       "      <td>D19_UNBEKANNT</td>\n",
       "      <td>1992-02-12 00:00:00</td>\n",
       "      <td>W</td>\n",
       "    </tr>\n",
       "    <tr>\n",
       "      <th>3</th>\n",
       "      <td>2A</td>\n",
       "      <td>2.0</td>\n",
       "      <td>12.0</td>\n",
       "      <td>D19_UNBEKANNT</td>\n",
       "      <td>1997-04-21 00:00:00</td>\n",
       "      <td>W</td>\n",
       "    </tr>\n",
       "    <tr>\n",
       "      <th>4</th>\n",
       "      <td>6B</td>\n",
       "      <td>6.0</td>\n",
       "      <td>43.0</td>\n",
       "      <td>D19_SCHUHE</td>\n",
       "      <td>1992-02-12 00:00:00</td>\n",
       "      <td>W</td>\n",
       "    </tr>\n",
       "  </tbody>\n",
       "</table>\n",
       "</div>"
      ],
      "text/plain": [
       "  CAMEO_DEU_2015 CAMEO_DEUG_2015 CAMEO_INTL_2015 D19_LETZTER_KAUF_BRANCHE  \\\n",
       "0            NaN             NaN             NaN                      NaN   \n",
       "1             8A             8.0            51.0                      NaN   \n",
       "2             4C             4.0            24.0            D19_UNBEKANNT   \n",
       "3             2A             2.0            12.0            D19_UNBEKANNT   \n",
       "4             6B             6.0            43.0               D19_SCHUHE   \n",
       "\n",
       "         EINGEFUEGT_AM OST_WEST_KZ  \n",
       "0                  NaN         NaN  \n",
       "1  1992-02-10 00:00:00           W  \n",
       "2  1992-02-12 00:00:00           W  \n",
       "3  1997-04-21 00:00:00           W  \n",
       "4  1992-02-12 00:00:00           W  "
      ]
     },
     "execution_count": 20,
     "metadata": {},
     "output_type": "execute_result"
    }
   ],
   "source": [
    "# Look at non-numeric columns in the dataset\n",
    "azdias[azdias.columns[azdias.dtypes == 'object']].head()"
   ]
  },
  {
   "cell_type": "markdown",
   "metadata": {},
   "source": [
    "We know from earlier that:\n",
    "* `CAMEO_DEUG_2015` and `CAMEO_INTL_2015` will be numeric once we have run our cleaning function, and\n",
    "* `D19_LETZTER_KAUF_BRANCHE` and `EINGEFUEGT_AM` are on the list of unknown columns generated earlier, and will be dropped, and\n",
    "* `CAMEO_DEU_2015` is a non-numeric column.\n",
    "\n",
    "Let's look at the remaining column, `OST_WEST_KZ`."
   ]
  },
  {
   "cell_type": "code",
   "execution_count": 21,
   "metadata": {},
   "outputs": [
    {
     "name": "stdout",
     "output_type": "stream",
     "text": [
      "W    629528\n",
      "O    168545\n",
      "Name: OST_WEST_KZ, dtype: int64\n"
     ]
    }
   ],
   "source": [
    "print(azdias['OST_WEST_KZ'].value_counts())"
   ]
  },
  {
   "cell_type": "markdown",
   "metadata": {},
   "source": [
    "`CAMEO_DEU_2015` and `OST_WEST_KZ` can be simply encoded numerically using sklearn's `LabelEncoder` function."
   ]
  },
  {
   "cell_type": "code",
   "execution_count": 22,
   "metadata": {},
   "outputs": [],
   "source": [
    "def encode_categorical_columns(df, columns, encoders_to_use=None):\n",
    "    ''' Encode categorical columns with sklearn's LabelEncoder function\n",
    "    \n",
    "    Args:\n",
    "        df (DataFrame): dataframe to process\n",
    "        columns: categorical columns to encode\n",
    "        encoders_to_use (list): list of pre-fitted encoders to use, otherwise will be generated (default None)\n",
    "    Returns:\n",
    "        df (DataFrame): dataframe with columns encoded\n",
    "        encoders_used (list): list of fitted encoders used\n",
    "    '''\n",
    "    \n",
    "    encoders_used = []\n",
    "    \n",
    "    for i, col in enumerate(columns):\n",
    "        print(\"Encoding column '{}'... \".format(col), end=\"\")\n",
    "        # If no encoders given, instantiate a new one and fit to the data\n",
    "        if encoders_to_use is None:\n",
    "            le = preprocessing.LabelEncoder()\n",
    "            le.fit(df[col].dropna().unique())\n",
    "        # If encoders are given, use them\n",
    "        else:\n",
    "            le = encoders_to_use[i]\n",
    "            print(\"Using existing encoder... \", end=\"\")\n",
    "        df[col] = le.transform(df[col])\n",
    "        encoders_used.append(le)\n",
    "        print(\"Complete.\")\n",
    "        \n",
    "    return df, encoders_used"
   ]
  },
  {
   "cell_type": "markdown",
   "metadata": {},
   "source": [
    "### 0.4 Imputing missing values\n",
    "For the remaining missing values in the dataset we can fill with the modal value."
   ]
  },
  {
   "cell_type": "code",
   "execution_count": 23,
   "metadata": {},
   "outputs": [],
   "source": [
    "def impute_with_mode(df):\n",
    "    ''' Impute missing values in the dataframe with the most frequent value.\n",
    "        Uses sklearn's SimpleImputer.\n",
    "    \n",
    "    Args:\n",
    "        df (DataFrame): dataframe to process\n",
    "    Returns:\n",
    "        df (DataFrame): dataframe with values imputed\n",
    "    \n",
    "    '''\n",
    "    imputer = SimpleImputer(strategy='most_frequent', missing_values=np.nan)\n",
    "    imputer = imputer.fit(df)\n",
    "    \n",
    "    df.iloc[:,:] = imputer.transform(df)\n",
    "    \n",
    "    return df"
   ]
  },
  {
   "cell_type": "markdown",
   "metadata": {},
   "source": [
    "### 0.5 Bringing it all together\n",
    "In the steps above we've defined a series of fuctions that perform specific cleaning steps. Now we can bring all of them together into a single function that will:\n",
    "\n",
    "1. Remove invalid values (e.g. X, XX)\n",
    "2. Replace values used for unknown data with NaN\n",
    "3. Drop columns for which we don't know their meaning\n",
    "4. Identify and drop columns and rows with lots of missing values\n",
    "5. Drop or encode non-numeric columns\n",
    "6. Impute missing values\n",
    "\n",
    "The function will first clean the `azdias` dataset, and then clean the `customers` dataset, dropping the same columns and using the same encoders for non-numeric data."
   ]
  },
  {
   "cell_type": "code",
   "execution_count": 24,
   "metadata": {},
   "outputs": [],
   "source": [
    "# Based on section 0.3 we know that the following columns need to be encoded\n",
    "cat_cols_to_encode = ['CAMEO_DEU_2015', 'OST_WEST_KZ']\n",
    "\n",
    "def clean_df(df, cols_to_encode, columns_to_drop=None, col_nan_threshold=0.5, row_nan_threshold=0.2, encoders=None):\n",
    "    ''' Clean dataframe\n",
    "    \n",
    "    Args:\n",
    "        df (DataFrame): DataFrame to clean\n",
    "        cols_to_encode (list): list of non-numeric columns to encode numerically.\n",
    "        columns_to_drop (list): list of columns to drop, if known.\n",
    "            Otherwise columns with null fraction > col_nan_threshold will be dropped (default None).\n",
    "        col_nan_threshold (float): fraction of null values allowed before column is dropped (default 0.5).\n",
    "        row_nan_threshold (float): fraction of null values allowed before row is dropped (default 0.2).\n",
    "        encoders (list): list of pre-fitted encoders to use with cols_to_encode (default None)\n",
    "    Returns:\n",
    "        df_clean (DataFrame): cleaned DataFrame\n",
    "        cols_with_missing (list): list of columns with null fraction > col_nan_threshold that were dropped.\n",
    "        encoders (list): list of fitted encoders used with cols_to_encode\n",
    "    \n",
    "    '''\n",
    "    # Replace invalid X values\n",
    "    print('Replacing invalid X values... ')\n",
    "    df_clean = replace_invalid_x_values(df)\n",
    "    print('Complete.')\n",
    "\n",
    "    # Replace values used for unknown data with np.nan\n",
    "    print('Replacing unknown values with NaN... ', end='')\n",
    "    df_clean, _ = replace_unknown_with_nan(df_clean, unknown_value_dict)\n",
    "    print('Complete.')\n",
    "\n",
    "    # Drop columns for which we don't know their meaning\n",
    "    print('Dropping unknown columns... ', end='')\n",
    "    df_clean = drop_columns(df_clean, unknown_columns)\n",
    "    print('Complete.')\n",
    "\n",
    "    # Find columns with nan fraction over threshold, and drop\n",
    "    # If columns passed as argument, use these instead\n",
    "    if columns_to_drop is None:\n",
    "        cols_with_missing = get_null_fractions(df_clean, threshold=col_nan_threshold)\n",
    "    else:\n",
    "        cols_with_missing = columns_to_drop\n",
    "\n",
    "    print('Finding and dropping columns with over {:.0%} NaN... '.format(col_nan_threshold), end='')\n",
    "    df_clean = drop_columns(df_clean, cols_with_missing.index)\n",
    "    print('Complete.')\n",
    "\n",
    "    # Find rows with nan fraction over threshold, and drop\n",
    "    print('Finding and dropping rows with over {:.0%} NaN... '.format(row_nan_threshold), end='')\n",
    "    df_clean = drop_rows_with_missing_values(df_clean, threshold=row_nan_threshold)\n",
    "    print('Complete.')\n",
    "\n",
    "    # Impute remaining nan values with most frequent value\n",
    "    print('Imputing NaN values with most frequent values... ', end='')\n",
    "    df_clean = impute_with_mode(df_clean)\n",
    "    print('Complete.')\n",
    "\n",
    "    # Encode non-numeric columns, using pre-fitted encoders if given\n",
    "    print('Encoding non-numeric columns... ')\n",
    "    if encoders is None:\n",
    "        df_clean, encoders = encode_categorical_columns(df_clean, cat_cols_to_encode)\n",
    "    else:\n",
    "        df_clean, encoders = encode_categorical_columns(df_clean, cat_cols_to_encode, encoders_to_use=encoders)\n",
    "    print('Complete.')\n",
    "\n",
    "    # Return cleaned dataframe\n",
    "    print('Cleaned dataframe returned.')\n",
    "    return df_clean, cols_with_missing, encoders\n",
    "\n",
    "def clean_dataframes(df_azdias, df_customers, cols_to_encode):\n",
    "    ''' Cleans the two dataframes, dropping same columns in df_customers as found in df_azdias\n",
    "    \n",
    "    Args:\n",
    "        df_azdias (DataFrame): DataFrame of general population\n",
    "        df_customers (DataFrame): DataFrame of customers\n",
    "        cols_to_encode (list): list of non-numeric columns to encode numerically \n",
    "    Returns:\n",
    "        df_azdias_clean (DataFrame): Cleaned dataframe of general population\n",
    "        df_customers_clean (DataFrame): Cleaned dataframe of customers\n",
    "    '''\n",
    "    \n",
    "    print('Cleaning azdias dataframe...')\n",
    "    # Clean azdias, and get the list of columns dropped and encoders used\n",
    "    df_azdias_clean, cols_to_drop, encoders = clean_df(df_azdias, cat_cols_to_encode)\n",
    "    print('==========')\n",
    "    print('Cleaning customers dataframe...')\n",
    "    # Clean customers, dropping the same columns and using the encoders from cleaning azdias\n",
    "    df_customers_clean, _, _ = clean_df(df_customers, cat_cols_to_encode, cols_to_drop, encoders=encoders)\n",
    "\n",
    "    # Return cleaned dataframes\n",
    "    return df_azdias_clean, df_customers_clean"
   ]
  },
  {
   "cell_type": "code",
   "execution_count": 25,
   "metadata": {},
   "outputs": [
    {
     "name": "stdout",
     "output_type": "stream",
     "text": [
      "Cleaning azdias dataframe...\n",
      "Replacing invalid X values... \n",
      "Found 373 values matching '/X+/' in column 'CAMEO_DEU_2015'. replaced with NaN.\n",
      "Found 373 values matching '/X+/' in column 'CAMEO_DEUG_2015'. replaced with NaN.\n",
      "Found 373 values matching '/X+/' in column 'CAMEO_INTL_2015'. replaced with NaN.\n",
      "Complete.\n",
      "Replacing unknown values with NaN... Complete.\n",
      "Dropping unknown columns... Complete.\n",
      "Finding and dropping columns with over 50% NaN... Complete.\n",
      "Finding and dropping rows with over 20% NaN... Complete.\n",
      "Imputing NaN values with most frequent values... Complete.\n",
      "Encoding non-numeric columns... \n",
      "Encoding column 'CAMEO_DEU_2015'... Complete.\n",
      "Encoding column 'OST_WEST_KZ'... Complete.\n",
      "Complete.\n",
      "Cleaned dataframe returned.\n",
      "==========\n",
      "Cleaning customers dataframe...\n",
      "Replacing invalid X values... \n",
      "Found 126 values matching '/X+/' in column 'CAMEO_DEU_2015'. replaced with NaN.\n",
      "Found 126 values matching '/X+/' in column 'CAMEO_DEUG_2015'. replaced with NaN.\n",
      "Found 126 values matching '/X+/' in column 'CAMEO_INTL_2015'. replaced with NaN.\n",
      "Complete.\n",
      "Replacing unknown values with NaN... Complete.\n",
      "Dropping unknown columns... Complete.\n",
      "Finding and dropping columns with over 50% NaN... Complete.\n",
      "Finding and dropping rows with over 20% NaN... Complete.\n",
      "Imputing NaN values with most frequent values... Complete.\n",
      "Encoding non-numeric columns... \n",
      "Encoding column 'CAMEO_DEU_2015'... Using existing encoder... Complete.\n",
      "Encoding column 'OST_WEST_KZ'... Using existing encoder... Complete.\n",
      "Complete.\n",
      "Cleaned dataframe returned.\n"
     ]
    }
   ],
   "source": [
    "azdias_clean, customers_clean = clean_dataframes(azdias, customers, cat_cols_to_encode)"
   ]
  },
  {
   "cell_type": "markdown",
   "metadata": {},
   "source": [
    "Now that we've cleaned the dataframes, let's re-run the overview function to see how they are looking."
   ]
  },
  {
   "cell_type": "code",
   "execution_count": 26,
   "metadata": {},
   "outputs": [
    {
     "name": "stdout",
     "output_type": "stream",
     "text": [
      "Overview of azdias_clean:\n",
      "737288 rows and 269 columns.\n",
      "269 columns of type 'number'.\n",
      "0 columns of type 'object'.\n",
      "0% of the data is null.\n",
      "\n",
      "Overview of customers_clean:\n",
      "134246 rows and 272 columns.\n",
      "270 columns of type 'number'.\n",
      "2 columns of type 'object'.\n",
      "0% of the data is null.\n"
     ]
    }
   ],
   "source": [
    "print('Overview of azdias_clean:')\n",
    "dataframe_overview(azdias_clean)\n",
    "print('')\n",
    "print('Overview of customers_clean:')\n",
    "dataframe_overview(customers_clean)"
   ]
  },
  {
   "cell_type": "markdown",
   "metadata": {},
   "source": [
    "Great! We've got no missing data, and the only non-numeric columns are two of the extra columns in the customers dataframe (expected). We can now move on and start extracting information from our datasets."
   ]
  },
  {
   "cell_type": "markdown",
   "metadata": {},
   "source": [
    "## Part 1: Customer Segmentation Report\n",
    "\n",
    "Here we will use unsupervised learning techniques to describe the relationship between the demographics of the company's existing customers and the general population of Germany. By the end of this part, we will be able to describe parts of the general population that are more likely to be part of the mail-order company's main customer base, and which parts of the general population are less so."
   ]
  },
  {
   "cell_type": "markdown",
   "metadata": {},
   "source": [
    "To describe the relationship between the demographics of the company's existing customers and the general population of Germany we will use *k*-means clustering. To reduce the computational complexity we first want to reduce the dimensionality of the datasets. We will do this with PCA (Principal Component Analysis); identifying the aspects of the data that explain the majority of the variance seen in the data."
   ]
  },
  {
   "cell_type": "markdown",
   "metadata": {},
   "source": [
    "### 1.1 Principal Component Analysis\n",
    "To perform PCA, we first need to scale the data such that each column has the same variance. We can use sklearn's [`StandardScaler`](https://scikit-learn.org/stable/modules/generated/sklearn.preprocessing.StandardScaler.html) to do this."
   ]
  },
  {
   "cell_type": "code",
   "execution_count": 27,
   "metadata": {},
   "outputs": [],
   "source": [
    "scaler = preprocessing.StandardScaler()\n",
    "azdias_scaled = scaler.fit(azdias_clean).transform(azdias_clean)"
   ]
  },
  {
   "cell_type": "markdown",
   "metadata": {},
   "source": [
    "Now we can apply PCA, and look at how the number of components relates to the level of explained variance."
   ]
  },
  {
   "cell_type": "code",
   "execution_count": 30,
   "metadata": {},
   "outputs": [
    {
     "name": "stdout",
     "output_type": "stream",
     "text": [
      "104 components can be used to explain 85% of the variance.\n"
     ]
    },
    {
     "data": {
      "image/png": "[encoded data removed]",
      "text/plain": [
       "<Figure size 432x288 with 1 Axes>"
      ]
     },
     "metadata": {
      "needs_background": "light"
     },
     "output_type": "display_data"
    }
   ],
   "source": [
    "# Apply PCA\n",
    "pca = PCA()\n",
    "pca.fit(azdias_scaled)\n",
    "\n",
    "# Set threshold for explained variance\n",
    "var_threshold = 0.85\n",
    "num_components = np.where(cum_var > var_threshold)[0][0]\n",
    "\n",
    "print('{} components can be used to explain {:.0%} of the variance.'.format(num_components, var_threshold))\n",
    "\n",
    "# Plot explained variance against number of components\n",
    "cum_var = np.cumsum(pca.explained_variance_ratio_)\n",
    "plt.plot(cum_var)\n",
    "# Highlight threshold point\n",
    "plt.plot([0, num_components, num_components], [var_threshold, var_threshold, 0], '--')\n",
    "plt.xlabel('Number of components')\n",
    "plt.ylabel('Explained variance')\n",
    "plt.title('Explained variance vs. number of components');"
   ]
  },
  {
   "cell_type": "markdown",
   "metadata": {},
   "source": [
    "We can see from the PCA analysis that we only need 104 components to explain 85% of the variance in the dataset. We can repeat the PCA process with this number of components to produce a reduced dataset for use with *k*-means clustering."
   ]
  },
  {
   "cell_type": "code",
   "execution_count": 31,
   "metadata": {},
   "outputs": [],
   "source": [
    "# Apply PCA using the reduced number of components\n",
    "pca = PCA(n_components=num_components)\n",
    "azdias_reduced = pca.fit_transform(azdias_scaled)"
   ]
  },
  {
   "cell_type": "code",
   "execution_count": 32,
   "metadata": {},
   "outputs": [
    {
     "name": "stdout",
     "output_type": "stream",
     "text": [
      "Shape of reduced dataset: (737288, 104)\n",
      "85% variance explained.\n"
     ]
    }
   ],
   "source": [
    "# Verify that the reduced dataset has the properties we expect\n",
    "print('Shape of reduced dataset: {}'.format(azdias_reduced.shape))\n",
    "print('{:.0%} variance explained.'.format(np.sum(pca.explained_variance_ratio_)))"
   ]
  },
  {
   "cell_type": "markdown",
   "metadata": {},
   "source": [
    "### 1.2 *k*-means clustering\n",
    "We can now apply *k*-means clustering to the reduced dataset. The optimal number of clusters, *k*, can be determined by using the elbow method. We will run through a range of number of clusters, and store the interia (sum of squared distances of samples to their closest cluster center) for each. By plotting this we will find the lowest value of *k* that provides a good (low) intertia value. "
   ]
  },
  {
   "cell_type": "code",
   "execution_count": 33,
   "metadata": {},
   "outputs": [
    {
     "name": "stdout",
     "output_type": "stream",
     "text": [
      "1 clusters, inertia=168031475.\n",
      "2 clusters, inertia=156081199.\n",
      "3 clusters, inertia=150682780.\n",
      "4 clusters, inertia=146306721.\n",
      "5 clusters, inertia=142879222.\n",
      "6 clusters, inertia=140785601.\n",
      "7 clusters, inertia=139040939.\n",
      "8 clusters, inertia=137375964.\n",
      "9 clusters, inertia=135849654.\n",
      "10 clusters, inertia=134692314.\n",
      "11 clusters, inertia=133678870.\n",
      "12 clusters, inertia=132833753.\n",
      "13 clusters, inertia=132084107.\n",
      "14 clusters, inertia=131410361.\n",
      "15 clusters, inertia=130793636.\n"
     ]
    }
   ],
   "source": [
    "# Range of k values to test\n",
    "k_range = range(1,16)\n",
    "# List to store the inertia values in\n",
    "inertias = []\n",
    "# Iterate through k values, storing inertia values\n",
    "for k in k_range:\n",
    "    kmc = KMeans(n_clusters=k, init='k-means++')\n",
    "    kmc.fit(azdias_reduced)\n",
    "    inertias.append(kmc.inertia_)\n",
    "    print('{} clusters, inertia={:.0f}.'.format(k, kmc.inertia_))"
   ]
  },
  {
   "cell_type": "code",
   "execution_count": 34,
   "metadata": {},
   "outputs": [
    {
     "data": {
      "image/png": "[encoded data removed]",
      "text/plain": [
       "<Figure size 432x288 with 1 Axes>"
      ]
     },
     "metadata": {
      "needs_background": "light"
     },
     "output_type": "display_data"
    }
   ],
   "source": [
    "# Plot inertia vs. the number of clusters\n",
    "plt.plot(k_range, inertias, '-o')\n",
    "plt.xlabel('Number of clusters')\n",
    "plt.ylabel('Inertia')\n",
    "plt.title('Inertia vs. number of clusters')\n",
    "plt.xticks(k_range);"
   ]
  },
  {
   "cell_type": "markdown",
   "metadata": {},
   "source": [
    "Whilst there isn't a sharp 'elbow', we can see that by *k*=10 the curve has flattened considerably. We will use this value."
   ]
  },
  {
   "cell_type": "code",
   "execution_count": 35,
   "metadata": {},
   "outputs": [],
   "source": [
    "k_clusters = 10"
   ]
  },
  {
   "cell_type": "markdown",
   "metadata": {},
   "source": [
    "Using the `azdias` dataset we've determined:\n",
    "\n",
    "1. The number of components to use in PCA to reduce the dimensionality, and\n",
    "2. The number of clusters to use in *k*-means clustering.\n",
    "\n",
    "We can now create a pipeline with all of the required steps (scale, reduce, cluster). We will `fit()` the pipeline using the azdias dataset, and then use `predict()` on both datasets."
   ]
  },
  {
   "cell_type": "code",
   "execution_count": 36,
   "metadata": {},
   "outputs": [],
   "source": [
    "# Define the pipeline of transformations required\n",
    "# Setting a static random_state for PCA and KMeans to give repeatable output\n",
    "pca_pipeline = Pipeline([\n",
    "    ('scale', preprocessing.StandardScaler()),\n",
    "    ('reduce', PCA(n_components=num_components, random_state=42)),\n",
    "    ('cluster', KMeans(n_clusters=k_clusters, init='k-means++', random_state=21))\n",
    "])\n",
    "\n",
    "# Fit the pipeline on the azdias data\n",
    "pca_pipeline.fit(azdias_clean)\n",
    "\n",
    "# Predict to get the clustered data\n",
    "azdias_clustered = pca_pipeline.predict(azdias_clean)\n",
    "azdias_clustered_df = pd.DataFrame(azdias_clustered, columns=['Cluster'])\n",
    "\n",
    "# For the customers data, select only columns that are in the azdias dataset (i.e. not the extra 3)\n",
    "customers_clustered = pca_pipeline.predict(customers_clean[azdias_clean.columns])\n",
    "customers_clustered_df = pd.DataFrame(customers_clustered, columns=['Cluster'])"
   ]
  },
  {
   "cell_type": "code",
   "execution_count": 39,
   "metadata": {},
   "outputs": [
    {
     "data": {
      "image/png": "[encoded data removed]",
      "text/plain": [
       "<Figure size 432x288 with 1 Axes>"
      ]
     },
     "metadata": {
      "needs_background": "light"
     },
     "output_type": "display_data"
    },
    {
     "data": {
      "image/png": "[encoded data removed]",
      "text/plain": [
       "<Figure size 432x288 with 1 Axes>"
      ]
     },
     "metadata": {
      "needs_background": "light"
     },
     "output_type": "display_data"
    }
   ],
   "source": [
    "# Count how many records are in each cluster\n",
    "azdias_counts = azdias_clustered_df.value_counts().sort_index()\n",
    "customers_counts = customers_clustered_df.value_counts().sort_index()\n",
    "\n",
    "# Visualise this\n",
    "plt.bar(np.arange(k_clusters)+1, azdias_counts.values)\n",
    "plt.xticks(np.arange(k_clusters)+1)\n",
    "plt.xlabel('Cluster')\n",
    "plt.ylabel('Count')\n",
    "plt.title('Count of records in each cluster (azdias)')\n",
    "plt.show();\n",
    "\n",
    "plt.bar(np.arange(k_clusters)+1, customers_counts.values)\n",
    "plt.xticks(np.arange(k_clusters)+1)\n",
    "plt.xlabel('Cluster')\n",
    "plt.ylabel('Count')\n",
    "plt.title('Count of records in each cluster (customers)');"
   ]
  },
  {
   "cell_type": "markdown",
   "metadata": {},
   "source": [
    "### 1.3 Comparison of customers to overall population\n",
    "Now that we have clustered both the overall population data and the customers data, we can compare them and determine which parts of the population are more or less likely to be customers."
   ]
  },
  {
   "cell_type": "code",
   "execution_count": 40,
   "metadata": {},
   "outputs": [
    {
     "data": {
      "text/html": [
       "<div>\n",
       "<style scoped>\n",
       "    .dataframe tbody tr th:only-of-type {\n",
       "        vertical-align: middle;\n",
       "    }\n",
       "\n",
       "    .dataframe tbody tr th {\n",
       "        vertical-align: top;\n",
       "    }\n",
       "\n",
       "    .dataframe thead th {\n",
       "        text-align: right;\n",
       "    }\n",
       "</style>\n",
       "<table border=\"1\" class=\"dataframe\">\n",
       "  <thead>\n",
       "    <tr style=\"text-align: right;\">\n",
       "      <th></th>\n",
       "      <th>Population Abs.</th>\n",
       "      <th>Customers Abs.</th>\n",
       "      <th>Population %</th>\n",
       "      <th>Customers %</th>\n",
       "      <th>Delta</th>\n",
       "    </tr>\n",
       "  </thead>\n",
       "  <tbody>\n",
       "    <tr>\n",
       "      <th>1</th>\n",
       "      <td>57924</td>\n",
       "      <td>6222</td>\n",
       "      <td>7.856360</td>\n",
       "      <td>4.634775</td>\n",
       "      <td>-3.221585</td>\n",
       "    </tr>\n",
       "    <tr>\n",
       "      <th>2</th>\n",
       "      <td>94448</td>\n",
       "      <td>1138</td>\n",
       "      <td>12.810191</td>\n",
       "      <td>0.847698</td>\n",
       "      <td>-11.962493</td>\n",
       "    </tr>\n",
       "    <tr>\n",
       "      <th>3</th>\n",
       "      <td>108734</td>\n",
       "      <td>35120</td>\n",
       "      <td>14.747833</td>\n",
       "      <td>26.160928</td>\n",
       "      <td>11.413096</td>\n",
       "    </tr>\n",
       "    <tr>\n",
       "      <th>4</th>\n",
       "      <td>75606</td>\n",
       "      <td>1969</td>\n",
       "      <td>10.254609</td>\n",
       "      <td>1.466710</td>\n",
       "      <td>-8.787898</td>\n",
       "    </tr>\n",
       "    <tr>\n",
       "      <th>5</th>\n",
       "      <td>96289</td>\n",
       "      <td>32219</td>\n",
       "      <td>13.059890</td>\n",
       "      <td>23.999970</td>\n",
       "      <td>10.940080</td>\n",
       "    </tr>\n",
       "    <tr>\n",
       "      <th>6</th>\n",
       "      <td>49343</td>\n",
       "      <td>3386</td>\n",
       "      <td>6.692500</td>\n",
       "      <td>2.522235</td>\n",
       "      <td>-4.170265</td>\n",
       "    </tr>\n",
       "    <tr>\n",
       "      <th>7</th>\n",
       "      <td>56556</td>\n",
       "      <td>2697</td>\n",
       "      <td>7.670815</td>\n",
       "      <td>2.008998</td>\n",
       "      <td>-5.661817</td>\n",
       "    </tr>\n",
       "    <tr>\n",
       "      <th>8</th>\n",
       "      <td>67140</td>\n",
       "      <td>30102</td>\n",
       "      <td>9.106347</td>\n",
       "      <td>22.423014</td>\n",
       "      <td>13.316668</td>\n",
       "    </tr>\n",
       "    <tr>\n",
       "      <th>9</th>\n",
       "      <td>37480</td>\n",
       "      <td>5484</td>\n",
       "      <td>5.083495</td>\n",
       "      <td>4.085038</td>\n",
       "      <td>-0.998457</td>\n",
       "    </tr>\n",
       "    <tr>\n",
       "      <th>10</th>\n",
       "      <td>93768</td>\n",
       "      <td>15909</td>\n",
       "      <td>12.717961</td>\n",
       "      <td>11.850632</td>\n",
       "      <td>-0.867329</td>\n",
       "    </tr>\n",
       "  </tbody>\n",
       "</table>\n",
       "</div>"
      ],
      "text/plain": [
       "    Population Abs.  Customers Abs.  Population %  Customers %      Delta\n",
       "1             57924            6222      7.856360     4.634775  -3.221585\n",
       "2             94448            1138     12.810191     0.847698 -11.962493\n",
       "3            108734           35120     14.747833    26.160928  11.413096\n",
       "4             75606            1969     10.254609     1.466710  -8.787898\n",
       "5             96289           32219     13.059890    23.999970  10.940080\n",
       "6             49343            3386      6.692500     2.522235  -4.170265\n",
       "7             56556            2697      7.670815     2.008998  -5.661817\n",
       "8             67140           30102      9.106347    22.423014  13.316668\n",
       "9             37480            5484      5.083495     4.085038  -0.998457\n",
       "10            93768           15909     12.717961    11.850632  -0.867329"
      ]
     },
     "execution_count": 40,
     "metadata": {},
     "output_type": "execute_result"
    }
   ],
   "source": [
    "# Combine the cluster information into a single df, and calculate proportions and differences\n",
    "df_clusters = pd.DataFrame(index=np.arange(k_clusters)+1, columns=['Population Abs.', 'Customers Abs.'])\n",
    "\n",
    "# Insert absolute counts of each cluster\n",
    "df_clusters['Population Abs.'] = azdias_counts.values\n",
    "df_clusters['Customers Abs.'] = customers_counts.values\n",
    "\n",
    "# Normalise relative to number of records in each dataset\n",
    "df_clusters['Population %'] = 100*df_clusters['Population Abs.'] / azdias_counts.sum()\n",
    "df_clusters['Customers %'] = 100*df_clusters['Customers Abs.'] / customers_counts.sum()\n",
    "\n",
    "# Calculate the difference between the customers and population dataset\n",
    "df_clusters['Delta'] = df_clusters['Customers %']-df_clusters['Population %']\n",
    "\n",
    "df_clusters"
   ]
  },
  {
   "cell_type": "code",
   "execution_count": 41,
   "metadata": {},
   "outputs": [
    {
     "data": {
      "image/png": "[encoded data removed]",
      "text/plain": [
       "<Figure size 432x288 with 1 Axes>"
      ]
     },
     "metadata": {
      "needs_background": "light"
     },
     "output_type": "display_data"
    }
   ],
   "source": [
    "# Plot the % of records in each cluster for both the customers and overall population\n",
    "plt.bar([x-0.1 for x in df_clusters.index], height=df_clusters['Population %'], width=0.2)\n",
    "plt.bar([x+0.1 for x in df_clusters.index], height=df_clusters['Customers %'], width=0.2)\n",
    "plt.xticks(df_clusters.index)\n",
    "plt.xlabel('Cluster')\n",
    "plt.ylabel('% of records')\n",
    "plt.legend(['Population', 'Customers']);"
   ]
  },
  {
   "cell_type": "markdown",
   "metadata": {},
   "source": [
    "We can see that there are significant differences. These will be easier to see if we just plot the sorted differences."
   ]
  },
  {
   "cell_type": "code",
   "execution_count": 43,
   "metadata": {},
   "outputs": [
    {
     "data": {
      "image/png": "[encoded data removed]",
      "text/plain": [
       "<Figure size 432x288 with 1 Axes>"
      ]
     },
     "metadata": {
      "needs_background": "light"
     },
     "output_type": "display_data"
    }
   ],
   "source": [
    "# Sort the dataframe by the size of the difference\n",
    "df_clusters = df_clusters.sort_values(by='Delta', ascending=False)\n",
    "\n",
    "# Plot the differences between the customers data and the overall population\n",
    "df_clusters['Delta'].plot.bar()\n",
    "plt.xlabel('Cluster')\n",
    "plt.ylabel('Percentage points difference')\n",
    "plt.title('Difference between customers and overall population');"
   ]
  },
  {
   "cell_type": "code",
   "execution_count": 44,
   "metadata": {},
   "outputs": [
    {
     "name": "stdout",
     "output_type": "stream",
     "text": [
      "Clusters [8, 3] have higher representation in the customers dataset.\n",
      "Clusters [4, 2] have lower representation in the customers dataset.\n"
     ]
    }
   ],
   "source": [
    "# Pull out the top and bottom two clusters\n",
    "top_two = list(df_clusters.index[:2])\n",
    "bottom_two = list(df_clusters.index[-2:])\n",
    "\n",
    "print('Clusters {} have higher representation in the customers dataset.'.format(top_two))\n",
    "print('Clusters {} have lower representation in the customers dataset.'.format(bottom_two))"
   ]
  },
  {
   "cell_type": "markdown",
   "metadata": {},
   "source": [
    "### 1.4 Cluster meanings"
   ]
  },
  {
   "cell_type": "markdown",
   "metadata": {},
   "source": [
    "We know now which clusters are over- and under-represented in the customers dataset versus the general population. To interpret the meanings of these clusters, and therefore understand the demographic factors that make someone more or less likely to be a customer, we can run the inverse of the steps in the pipeline to get back to the original, untransformed data."
   ]
  },
  {
   "cell_type": "code",
   "execution_count": 45,
   "metadata": {},
   "outputs": [],
   "source": [
    "def sorted_columns_from_cluster(pl, cluster):\n",
    "    ''' Invert the pipeline operations to recover data in original form,\n",
    "        and sort by most impactful columns for a given cluster.\n",
    "        \n",
    "    Args:\n",
    "        pl (Pipeline): pipeline to invert\n",
    "        cluster (int): cluster number to investigate\n",
    "    Returns:\n",
    "        cluster_df (DataFrame): DataFrame with column names as index, scaled\n",
    "        and unscaled values, sorted by scaled value descending\n",
    "    '''\n",
    "    # Get scale, reduce, and cluster steps from pipeline\n",
    "    scl = pl.named_steps['scale']\n",
    "    pca = pl.named_steps['reduce']\n",
    "    kmc = pl.named_steps['cluster']\n",
    "    \n",
    "    # Invert the PCA transform on the cluster centres. Gives scaled values.\n",
    "    inv_cluster = pca.inverse_transform(kmc.cluster_centers_)\n",
    "    # Invert the scaling transform on the cluster centers. Gives unscaled values.\n",
    "    inv_scale = scl.inverse_transform(inv_cluster)\n",
    "    \n",
    "    # Put the values for the selected cluster into a dataframe\n",
    "    cluster_df = pd.DataFrame(inv_cluster[cluster-1], index=azdias_clean.columns, columns=['Scaled Value'])\n",
    "    cluster_df['Value'] = inv_scale[cluster-1]\n",
    "    \n",
    "    # Sort by the scaled value - largest impact first\n",
    "    cluster_df.sort_values(by='Scaled Value', ascending=False, inplace=True)\n",
    "    \n",
    "    return cluster_df\n",
    "\n",
    "def display_cluster_meaning(pl, cluster_numbers, display_n=5):\n",
    "    ''' Displays the top indicators for a given cluster number by inverting the\n",
    "        steps of the pipeline to recover the original, untransformed data.\n",
    "    \n",
    "    Args:\n",
    "        pl (Pipline): pipeline with scale, reduce, and cluster steps\n",
    "        cluster_number (list): list of cluster numbers to display meaning of\n",
    "        display_n (int): number of indicators to display (default 5)\n",
    "    '''\n",
    "    \n",
    "    for c in cluster_numbers:\n",
    "        cluster_df = sorted_columns_from_cluster(pl, c)\n",
    "\n",
    "        # Get descriptions and meanings for each factor\n",
    "        descriptions = []\n",
    "        meanings = []\n",
    "\n",
    "        for i in range(len(cluster_df)):\n",
    "            # Get the description of the factor\n",
    "            attr = attributes_df[attributes_df['Attribute'] == cluster_df.iloc[i].name]\n",
    "            descriptions.append(attr['Description'].values[0])\n",
    "            # Try to look up the meaning of the value\n",
    "            # This is a quick approach that doesn't always succeed\n",
    "            val = np.floor(cluster_df.iloc[i]['Value'])\n",
    "            try:\n",
    "                meaning = list(attr[attr['Value'] == val]['Meaning'])[0]\n",
    "            # If there isn't a match (due to encoding etc.), just fill with nan\n",
    "            except:\n",
    "                meaning = np.nan\n",
    "            meanings.append(meaning)\n",
    "\n",
    "        cluster_df['Description'] = descriptions\n",
    "        cluster_df['Meaning'] = meanings\n",
    "\n",
    "        # Display the result using Ipython.display to format nicely\n",
    "        display_markdown('Top {} indicators in cluster {}'.format(display_n, c), raw=True)\n",
    "        display(cluster_df.head(display_n))\n",
    "        display_markdown('---', raw=True)"
   ]
  },
  {
   "cell_type": "code",
   "execution_count": 46,
   "metadata": {},
   "outputs": [
    {
     "data": {
      "text/markdown": [
       "#### Top positive clusters for customers"
      ]
     },
     "metadata": {},
     "output_type": "display_data"
    },
    {
     "data": {
      "text/markdown": [
       "Top 5 indicators in cluster 8"
      ]
     },
     "metadata": {},
     "output_type": "display_data"
    },
    {
     "data": {
      "text/html": [
       "<div>\n",
       "<style scoped>\n",
       "    .dataframe tbody tr th:only-of-type {\n",
       "        vertical-align: middle;\n",
       "    }\n",
       "\n",
       "    .dataframe tbody tr th {\n",
       "        vertical-align: top;\n",
       "    }\n",
       "\n",
       "    .dataframe thead th {\n",
       "        text-align: right;\n",
       "    }\n",
       "</style>\n",
       "<table border=\"1\" class=\"dataframe\">\n",
       "  <thead>\n",
       "    <tr style=\"text-align: right;\">\n",
       "      <th></th>\n",
       "      <th>Scaled Value</th>\n",
       "      <th>Value</th>\n",
       "      <th>Description</th>\n",
       "      <th>Meaning</th>\n",
       "    </tr>\n",
       "  </thead>\n",
       "  <tbody>\n",
       "    <tr>\n",
       "      <th>KBA13_HERST_BMW_BENZ</th>\n",
       "      <td>1.146467</td>\n",
       "      <td>4.340128</td>\n",
       "      <td>share of BMW &amp; Mercedes Benz within the PLZ8</td>\n",
       "      <td>high</td>\n",
       "    </tr>\n",
       "    <tr>\n",
       "      <th>KBA13_KMH_211</th>\n",
       "      <td>1.078980</td>\n",
       "      <td>4.068134</td>\n",
       "      <td>share of cars with a greater max speed than 21...</td>\n",
       "      <td>high</td>\n",
       "    </tr>\n",
       "    <tr>\n",
       "      <th>KBA05_KW3</th>\n",
       "      <td>1.070460</td>\n",
       "      <td>2.716527</td>\n",
       "      <td>share of cars with an engine power of more tha...</td>\n",
       "      <td>average</td>\n",
       "    </tr>\n",
       "    <tr>\n",
       "      <th>KBA13_KMH_250</th>\n",
       "      <td>1.062502</td>\n",
       "      <td>4.040511</td>\n",
       "      <td>share of cars with max speed between 210 and 2...</td>\n",
       "      <td>high</td>\n",
       "    </tr>\n",
       "    <tr>\n",
       "      <th>KBA13_KW_121</th>\n",
       "      <td>1.047008</td>\n",
       "      <td>4.009916</td>\n",
       "      <td>share of cars with an engine power more than 1...</td>\n",
       "      <td>high</td>\n",
       "    </tr>\n",
       "  </tbody>\n",
       "</table>\n",
       "</div>"
      ],
      "text/plain": [
       "                      Scaled Value     Value  \\\n",
       "KBA13_HERST_BMW_BENZ      1.146467  4.340128   \n",
       "KBA13_KMH_211             1.078980  4.068134   \n",
       "KBA05_KW3                 1.070460  2.716527   \n",
       "KBA13_KMH_250             1.062502  4.040511   \n",
       "KBA13_KW_121              1.047008  4.009916   \n",
       "\n",
       "                                                            Description  \\\n",
       "KBA13_HERST_BMW_BENZ       share of BMW & Mercedes Benz within the PLZ8   \n",
       "KBA13_KMH_211         share of cars with a greater max speed than 21...   \n",
       "KBA05_KW3             share of cars with an engine power of more tha...   \n",
       "KBA13_KMH_250         share of cars with max speed between 210 and 2...   \n",
       "KBA13_KW_121          share of cars with an engine power more than 1...   \n",
       "\n",
       "                      Meaning  \n",
       "KBA13_HERST_BMW_BENZ     high  \n",
       "KBA13_KMH_211            high  \n",
       "KBA05_KW3             average  \n",
       "KBA13_KMH_250            high  \n",
       "KBA13_KW_121             high  "
      ]
     },
     "metadata": {},
     "output_type": "display_data"
    },
    {
     "data": {
      "text/markdown": [
       "---"
      ]
     },
     "metadata": {},
     "output_type": "display_data"
    },
    {
     "data": {
      "text/markdown": [
       "Top 5 indicators in cluster 3"
      ]
     },
     "metadata": {},
     "output_type": "display_data"
    },
    {
     "data": {
      "text/html": [
       "<div>\n",
       "<style scoped>\n",
       "    .dataframe tbody tr th:only-of-type {\n",
       "        vertical-align: middle;\n",
       "    }\n",
       "\n",
       "    .dataframe tbody tr th {\n",
       "        vertical-align: top;\n",
       "    }\n",
       "\n",
       "    .dataframe thead th {\n",
       "        text-align: right;\n",
       "    }\n",
       "</style>\n",
       "<table border=\"1\" class=\"dataframe\">\n",
       "  <thead>\n",
       "    <tr style=\"text-align: right;\">\n",
       "      <th></th>\n",
       "      <th>Scaled Value</th>\n",
       "      <th>Value</th>\n",
       "      <th>Description</th>\n",
       "      <th>Meaning</th>\n",
       "    </tr>\n",
       "  </thead>\n",
       "  <tbody>\n",
       "    <tr>\n",
       "      <th>FINANZ_MINIMALIST</th>\n",
       "      <td>0.932199</td>\n",
       "      <td>4.327413</td>\n",
       "      <td>financial typology: low financial interest</td>\n",
       "      <td>low</td>\n",
       "    </tr>\n",
       "    <tr>\n",
       "      <th>LP_STATUS_GROB</th>\n",
       "      <td>0.889486</td>\n",
       "      <td>3.766027</td>\n",
       "      <td>social status rough</td>\n",
       "      <td>average earners</td>\n",
       "    </tr>\n",
       "    <tr>\n",
       "      <th>LP_STATUS_FEIN</th>\n",
       "      <td>0.889404</td>\n",
       "      <td>7.817798</td>\n",
       "      <td>social status fine</td>\n",
       "      <td>title holder-households</td>\n",
       "    </tr>\n",
       "    <tr>\n",
       "      <th>MOBI_REGIO</th>\n",
       "      <td>0.864633</td>\n",
       "      <td>4.222542</td>\n",
       "      <td>moving patterns</td>\n",
       "      <td>low mobility</td>\n",
       "    </tr>\n",
       "    <tr>\n",
       "      <th>KBA05_ANTG1</th>\n",
       "      <td>0.852761</td>\n",
       "      <td>2.719043</td>\n",
       "      <td>number of 1-2 family houses in the cell</td>\n",
       "      <td>average share of 1-2 family homes</td>\n",
       "    </tr>\n",
       "  </tbody>\n",
       "</table>\n",
       "</div>"
      ],
      "text/plain": [
       "                   Scaled Value     Value  \\\n",
       "FINANZ_MINIMALIST      0.932199  4.327413   \n",
       "LP_STATUS_GROB         0.889486  3.766027   \n",
       "LP_STATUS_FEIN         0.889404  7.817798   \n",
       "MOBI_REGIO             0.864633  4.222542   \n",
       "KBA05_ANTG1            0.852761  2.719043   \n",
       "\n",
       "                                                  Description  \\\n",
       "FINANZ_MINIMALIST  financial typology: low financial interest   \n",
       "LP_STATUS_GROB                            social status rough   \n",
       "LP_STATUS_FEIN                             social status fine   \n",
       "MOBI_REGIO                                    moving patterns   \n",
       "KBA05_ANTG1           number of 1-2 family houses in the cell   \n",
       "\n",
       "                                             Meaning  \n",
       "FINANZ_MINIMALIST                                low  \n",
       "LP_STATUS_GROB                       average earners  \n",
       "LP_STATUS_FEIN               title holder-households  \n",
       "MOBI_REGIO                              low mobility  \n",
       "KBA05_ANTG1        average share of 1-2 family homes  "
      ]
     },
     "metadata": {},
     "output_type": "display_data"
    },
    {
     "data": {
      "text/markdown": [
       "---"
      ]
     },
     "metadata": {},
     "output_type": "display_data"
    },
    {
     "data": {
      "text/markdown": [
       "#### Top negative clusters for customers"
      ]
     },
     "metadata": {},
     "output_type": "display_data"
    },
    {
     "data": {
      "text/markdown": [
       "Top 5 indicators in cluster 4"
      ]
     },
     "metadata": {},
     "output_type": "display_data"
    },
    {
     "data": {
      "text/html": [
       "<div>\n",
       "<style scoped>\n",
       "    .dataframe tbody tr th:only-of-type {\n",
       "        vertical-align: middle;\n",
       "    }\n",
       "\n",
       "    .dataframe tbody tr th {\n",
       "        vertical-align: top;\n",
       "    }\n",
       "\n",
       "    .dataframe thead th {\n",
       "        text-align: right;\n",
       "    }\n",
       "</style>\n",
       "<table border=\"1\" class=\"dataframe\">\n",
       "  <thead>\n",
       "    <tr style=\"text-align: right;\">\n",
       "      <th></th>\n",
       "      <th>Scaled Value</th>\n",
       "      <th>Value</th>\n",
       "      <th>Description</th>\n",
       "      <th>Meaning</th>\n",
       "    </tr>\n",
       "  </thead>\n",
       "  <tbody>\n",
       "    <tr>\n",
       "      <th>CAMEO_DEUG_2015</th>\n",
       "      <td>1.028027</td>\n",
       "      <td>8.134478</td>\n",
       "      <td>CAMEO classification 2015 - Uppergroup</td>\n",
       "      <td>working class</td>\n",
       "    </tr>\n",
       "    <tr>\n",
       "      <th>CAMEO_DEU_2015</th>\n",
       "      <td>1.023443</td>\n",
       "      <td>36.316060</td>\n",
       "      <td>CAMEO classification 2015 - detailled classifi...</td>\n",
       "      <td>NaN</td>\n",
       "    </tr>\n",
       "    <tr>\n",
       "      <th>PLZ8_ANTG3</th>\n",
       "      <td>1.007601</td>\n",
       "      <td>2.598444</td>\n",
       "      <td>number of 6-10 family houses in the PLZ8</td>\n",
       "      <td>average share</td>\n",
       "    </tr>\n",
       "    <tr>\n",
       "      <th>PLZ8_BAUMAX</th>\n",
       "      <td>0.991467</td>\n",
       "      <td>3.389536</td>\n",
       "      <td>most common building-type within the PLZ8</td>\n",
       "      <td>mainly 6-10 family homes</td>\n",
       "    </tr>\n",
       "    <tr>\n",
       "      <th>PLZ8_ANTG4</th>\n",
       "      <td>0.985764</td>\n",
       "      <td>1.416316</td>\n",
       "      <td>number of &gt;10 family houses in the PLZ8</td>\n",
       "      <td>low share</td>\n",
       "    </tr>\n",
       "  </tbody>\n",
       "</table>\n",
       "</div>"
      ],
      "text/plain": [
       "                 Scaled Value      Value  \\\n",
       "CAMEO_DEUG_2015      1.028027   8.134478   \n",
       "CAMEO_DEU_2015       1.023443  36.316060   \n",
       "PLZ8_ANTG3           1.007601   2.598444   \n",
       "PLZ8_BAUMAX          0.991467   3.389536   \n",
       "PLZ8_ANTG4           0.985764   1.416316   \n",
       "\n",
       "                                                       Description  \\\n",
       "CAMEO_DEUG_2015             CAMEO classification 2015 - Uppergroup   \n",
       "CAMEO_DEU_2015   CAMEO classification 2015 - detailled classifi...   \n",
       "PLZ8_ANTG3                number of 6-10 family houses in the PLZ8   \n",
       "PLZ8_BAUMAX              most common building-type within the PLZ8   \n",
       "PLZ8_ANTG4                 number of >10 family houses in the PLZ8   \n",
       "\n",
       "                                  Meaning  \n",
       "CAMEO_DEUG_2015             working class  \n",
       "CAMEO_DEU_2015                        NaN  \n",
       "PLZ8_ANTG3                  average share  \n",
       "PLZ8_BAUMAX      mainly 6-10 family homes  \n",
       "PLZ8_ANTG4                      low share  "
      ]
     },
     "metadata": {},
     "output_type": "display_data"
    },
    {
     "data": {
      "text/markdown": [
       "---"
      ]
     },
     "metadata": {},
     "output_type": "display_data"
    },
    {
     "data": {
      "text/markdown": [
       "Top 5 indicators in cluster 2"
      ]
     },
     "metadata": {},
     "output_type": "display_data"
    },
    {
     "data": {
      "text/html": [
       "<div>\n",
       "<style scoped>\n",
       "    .dataframe tbody tr th:only-of-type {\n",
       "        vertical-align: middle;\n",
       "    }\n",
       "\n",
       "    .dataframe tbody tr th {\n",
       "        vertical-align: top;\n",
       "    }\n",
       "\n",
       "    .dataframe thead th {\n",
       "        text-align: right;\n",
       "    }\n",
       "</style>\n",
       "<table border=\"1\" class=\"dataframe\">\n",
       "  <thead>\n",
       "    <tr style=\"text-align: right;\">\n",
       "      <th></th>\n",
       "      <th>Scaled Value</th>\n",
       "      <th>Value</th>\n",
       "      <th>Description</th>\n",
       "      <th>Meaning</th>\n",
       "    </tr>\n",
       "  </thead>\n",
       "  <tbody>\n",
       "    <tr>\n",
       "      <th>FINANZ_UNAUFFAELLIGER</th>\n",
       "      <td>0.979717</td>\n",
       "      <td>3.961057</td>\n",
       "      <td>financial typology: unremarkable</td>\n",
       "      <td>average</td>\n",
       "    </tr>\n",
       "    <tr>\n",
       "      <th>FINANZ_SPARER</th>\n",
       "      <td>0.974304</td>\n",
       "      <td>4.177056</td>\n",
       "      <td>financial typology: money saver</td>\n",
       "      <td>low</td>\n",
       "    </tr>\n",
       "    <tr>\n",
       "      <th>SEMIO_PFLICHT</th>\n",
       "      <td>0.887807</td>\n",
       "      <td>5.873671</td>\n",
       "      <td>affinity indicating in what way the person is ...</td>\n",
       "      <td>low affinity</td>\n",
       "    </tr>\n",
       "    <tr>\n",
       "      <th>PRAEGENDE_JUGENDJAHRE</th>\n",
       "      <td>0.870331</td>\n",
       "      <td>12.887388</td>\n",
       "      <td>dominating movement in the person's youth (ava...</td>\n",
       "      <td>80ies - FDJ / communist party youth organisati...</td>\n",
       "    </tr>\n",
       "    <tr>\n",
       "      <th>FINANZ_ANLEGER</th>\n",
       "      <td>0.867017</td>\n",
       "      <td>4.129912</td>\n",
       "      <td>financial typology: investor</td>\n",
       "      <td>low</td>\n",
       "    </tr>\n",
       "  </tbody>\n",
       "</table>\n",
       "</div>"
      ],
      "text/plain": [
       "                       Scaled Value      Value  \\\n",
       "FINANZ_UNAUFFAELLIGER      0.979717   3.961057   \n",
       "FINANZ_SPARER              0.974304   4.177056   \n",
       "SEMIO_PFLICHT              0.887807   5.873671   \n",
       "PRAEGENDE_JUGENDJAHRE      0.870331  12.887388   \n",
       "FINANZ_ANLEGER             0.867017   4.129912   \n",
       "\n",
       "                                                             Description  \\\n",
       "FINANZ_UNAUFFAELLIGER                   financial typology: unremarkable   \n",
       "FINANZ_SPARER                            financial typology: money saver   \n",
       "SEMIO_PFLICHT          affinity indicating in what way the person is ...   \n",
       "PRAEGENDE_JUGENDJAHRE  dominating movement in the person's youth (ava...   \n",
       "FINANZ_ANLEGER                              financial typology: investor   \n",
       "\n",
       "                                                                 Meaning  \n",
       "FINANZ_UNAUFFAELLIGER                                            average  \n",
       "FINANZ_SPARER                                                        low  \n",
       "SEMIO_PFLICHT                                               low affinity  \n",
       "PRAEGENDE_JUGENDJAHRE  80ies - FDJ / communist party youth organisati...  \n",
       "FINANZ_ANLEGER                                                       low  "
      ]
     },
     "metadata": {},
     "output_type": "display_data"
    },
    {
     "data": {
      "text/markdown": [
       "---"
      ]
     },
     "metadata": {},
     "output_type": "display_data"
    }
   ],
   "source": [
    "# Display meanings of the top and bottom two clusters\n",
    "display_markdown('#### Top positive clusters for customers', raw=True)\n",
    "display_cluster_meaning(pca_pipeline, top_two)\n",
    "display_markdown('#### Top negative clusters for customers', raw=True)\n",
    "display_cluster_meaning(pca_pipeline, bottom_two)"
   ]
  },
  {
   "cell_type": "markdown",
   "metadata": {},
   "source": [
    "From this we can describe what characteristics make a person in the general population more or less likely to be a customer.\n",
    "\n",
    "From clusters 8 and 3 we can see that customers are **more** likely to:\n",
    "* Live in an area with a high proportion high-end cars (BMW and Mercedes-Benz)\n",
    "* Live in an area with a high proportion of high-powered cars (max. speed > 210 kph, engine power > 121 kW)\n",
    "* Low mobility, owning homes in lower density areas\n",
    "* Have average income\n",
    "* Have interest in finances (inferred from \"low financial interest\" being \"low\")\n",
    "\n",
    "From clusters 4 and 2 we can see that customers are **less** likely to:\n",
    "* Be financial investors or money savers\n",
    "* Be \"working class\"\n",
    "* Live in an area with mainly 6-10 family homes (i.e. high density)\n",
    "\n",
    "**In summary: financially-aware people with average income, but high expenditure (high-end cars, home ownership) are most likely to be customers.**"
   ]
  },
  {
   "cell_type": "markdown",
   "metadata": {},
   "source": [
    "## Part 2: Supervised Learning Model\n",
    "\n",
    "Now that we've found which parts of the population are more likely to be customers of the mail-order company, it's time to build a prediction model. Each of the rows in the \"MAILOUT\" data files represents an individual that was targeted for a mailout campaign. Ideally, we should be able to use the demographic information from each individual to decide whether or not it will be worth it to include that person in the campaign.\n",
    "\n",
    "The \"MAILOUT\" data has been split into two approximately equal parts, each with almost 43 000 data rows. In this part, we will verify our model with the \"TRAIN\" partition, which includes a column, \"RESPONSE\", that states whether or not a person became a customer of the company following the campaign. In the next part, we'll create predictions on the \"TEST\" partition, where the \"RESPONSE\" column has been withheld."
   ]
  },
  {
   "cell_type": "code",
   "execution_count": 47,
   "metadata": {},
   "outputs": [
    {
     "name": "stderr",
     "output_type": "stream",
     "text": [
      "/Users/guy/miniforge3/envs/.venv/lib/python3.9/site-packages/IPython/core/interactiveshell.py:3444: DtypeWarning: Columns (18,19) have mixed types.Specify dtype option on import or set low_memory=False.\n",
      "  exec(code_obj, self.user_global_ns, self.user_ns)\n"
     ]
    }
   ],
   "source": [
    "# Uncomment/comment the appropriate paths for working from the Udacity workspace, or locally\n",
    "# mailout_train_path = '../../data/Term2/capstone/arvato_data/Udacity_MAILOUT_052018_TRAIN.csv'\n",
    "mailout_train_path = './Data/Udacity_MAILOUT_052018_TRAIN.csv'\n",
    "\n",
    "mailout_train = pd.read_csv(mailout_train_path, sep=';')"
   ]
  },
  {
   "cell_type": "markdown",
   "metadata": {},
   "source": [
    "### 2.1 Cleaning the data\n",
    "As with the previous data files, we need to clean the data before we can use it to generate a model. We can use the same functions that we defined previously to do this.\n",
    "\n",
    "First, let's look at an overview."
   ]
  },
  {
   "cell_type": "code",
   "execution_count": 48,
   "metadata": {},
   "outputs": [
    {
     "name": "stdout",
     "output_type": "stream",
     "text": [
      "42962 rows and 367 columns.\n",
      "361 columns of type 'number'.\n",
      "6 columns of type 'object'.\n",
      "14% of the data is null.\n"
     ]
    }
   ],
   "source": [
    "dataframe_overview(mailout_train)"
   ]
  },
  {
   "cell_type": "markdown",
   "metadata": {},
   "source": [
    "Now let's apply the same cleaning steps to the data. As a reminder, this will:\n",
    "1. Remove invalid values (e.g. X, XX)\n",
    "2. Replace values used for unknown data with NaN\n",
    "3. Drop columns for which we don't know their meaning\n",
    "4. Identify and drop columns and rows with lots of missing values\n",
    "5. Drop or encode non-numeric columns\n",
    "6. Impute missing values"
   ]
  },
  {
   "cell_type": "code",
   "execution_count": 49,
   "metadata": {},
   "outputs": [
    {
     "name": "stdout",
     "output_type": "stream",
     "text": [
      "Replacing invalid X values... \n",
      "Found 11 values matching '/X+/' in column 'CAMEO_DEU_2015'. replaced with NaN.\n",
      "Found 11 values matching '/X+/' in column 'CAMEO_DEUG_2015'. replaced with NaN.\n",
      "Found 11 values matching '/X+/' in column 'CAMEO_INTL_2015'. replaced with NaN.\n",
      "Complete.\n",
      "Replacing unknown values with NaN... Complete.\n",
      "Dropping unknown columns... Complete.\n",
      "Finding and dropping columns with over 50% NaN... Complete.\n",
      "Finding and dropping rows with over 20% NaN... Complete.\n",
      "Imputing NaN values with most frequent values... Complete.\n",
      "Encoding non-numeric columns... \n",
      "Encoding column 'CAMEO_DEU_2015'... Complete.\n",
      "Encoding column 'OST_WEST_KZ'... Complete.\n",
      "Complete.\n",
      "Cleaned dataframe returned.\n"
     ]
    }
   ],
   "source": [
    "mailout_train_clean, mailout_dropped_cols, mailout_encoders = clean_df(mailout_train, cat_cols_to_encode)"
   ]
  },
  {
   "cell_type": "markdown",
   "metadata": {},
   "source": [
    "Let's see what it looks like now."
   ]
  },
  {
   "cell_type": "code",
   "execution_count": 50,
   "metadata": {},
   "outputs": [
    {
     "name": "stdout",
     "output_type": "stream",
     "text": [
      "33837 rows and 271 columns.\n",
      "271 columns of type 'number'.\n",
      "0 columns of type 'object'.\n",
      "0% of the data is null.\n"
     ]
    },
    {
     "data": {
      "text/plain": [
       "KBA05_BAUMAX    0.534891\n",
       "TITEL_KZ        0.995042\n",
       "dtype: float64"
      ]
     },
     "execution_count": 50,
     "metadata": {},
     "output_type": "execute_result"
    }
   ],
   "source": [
    "dataframe_overview(mailout_train_clean)\n",
    "\n",
    "mailout_dropped_cols"
   ]
  },
  {
   "cell_type": "markdown",
   "metadata": {},
   "source": [
    "Great! We've removed or imputed all the null data, and have only numeric columns in the dataset. Two columns were dropped due to high fractions of null values: `KBA05_BAUMAX` and `TITEL_KZ`, with 53% and 99% null values, respectively.\n",
    "\n",
    "### 2.2 Addressing imbalance\n",
    "The `RESPONSE` column contains the values we want to predict. Let's take a look at this column in more detail."
   ]
  },
  {
   "cell_type": "code",
   "execution_count": 51,
   "metadata": {},
   "outputs": [
    {
     "name": "stdout",
     "output_type": "stream",
     "text": [
      "0    33421\n",
      "1      416\n",
      "Name: RESPONSE, dtype: int64\n"
     ]
    },
    {
     "data": {
      "image/png": "[encoded data removed]",
      "text/plain": [
       "<Figure size 432x288 with 1 Axes>"
      ]
     },
     "metadata": {},
     "output_type": "display_data"
    }
   ],
   "source": [
    "# Print and plot the counts of values in the RESPONSE column\n",
    "response_counts = mailout_train_clean['RESPONSE'].value_counts()\n",
    "print(response_counts)\n",
    "\n",
    "plt.pie(response_counts)\n",
    "plt.legend(response_counts.index);"
   ]
  },
  {
   "cell_type": "markdown",
   "metadata": {},
   "source": [
    "We can see that this is very imbalanced; there are ~80x more zeroes (no reponse) compared to ones (reponse). We need to be aware of this when creating our model, otherwise it's likely that the model will overpredict the minority class (no response) as an outcome when using e.g. accuracy as the scoring method.\n",
    "\n",
    "One approach we can take is to score our models using ROC AUC, rather than accuracy."
   ]
  },
  {
   "cell_type": "markdown",
   "metadata": {},
   "source": [
    "### 2.3 Evaluating different modelling approaches\n",
    "Now that we have clean data, we can begin to generate models and evaluate their performance. The variables we're going to explore are:\n",
    "\n",
    "1. Different machine learning models.\n",
    "2. Inclusion of all columns, versus the most impactful columns as found in our unsupervised model in part 1.\n",
    "3. Hyperparameter tuning of the best model/columns combination using GridSearchCV.\n",
    "\n",
    "#### 2.3.1 Model selection"
   ]
  },
  {
   "cell_type": "code",
   "execution_count": 52,
   "metadata": {},
   "outputs": [],
   "source": [
    "# Split the data into X (factors) and y (response) dataframes\n",
    "y = mailout_train_clean['RESPONSE']\n",
    "X = mailout_train_clean.drop(columns=['RESPONSE'])\n",
    "\n",
    "# Split into test and train datasets\n",
    "X_train, X_test, y_train, y_test = train_test_split(X, y, test_size=0.25, random_state=42)"
   ]
  },
  {
   "cell_type": "markdown",
   "metadata": {},
   "source": [
    "We're going to evaluate the performance of the model using the ROC AUC score."
   ]
  },
  {
   "cell_type": "code",
   "execution_count": 59,
   "metadata": {},
   "outputs": [],
   "source": [
    "def generate_evaluate_model(X_train, X_test, y_train, y_test, model):\n",
    "    ''' Fit and score a model against training and test data using ROC AUC\n",
    "    \n",
    "    Args:\n",
    "        X_train (array): X training data\n",
    "        X_test (array): X test data\n",
    "        y_train (array): y (response) training data\n",
    "        y_test (array): y (response) test data\n",
    "        model: sklearn classifier or pipeline\n",
    "        \n",
    "    Returns:\n",
    "        roc_auc (float): ROC AUC score\n",
    "        fp_rate (list): false positive rate\n",
    "        tp_rate (list): true positive rate\n",
    "    '''    \n",
    "    model.fit(X_train, y_train)\n",
    "    y_pred = model.predict_proba(X_test)\n",
    "    \n",
    "    roc_auc = roc_auc_score(y_test, y_pred[:,1])\n",
    "    fp_rate, tp_rate, threshold = roc_curve(y_test, y_pred[:,1])\n",
    "    \n",
    "    return roc_auc, fp_rate, tp_rate"
   ]
  },
  {
   "cell_type": "markdown",
   "metadata": {},
   "source": [
    "We're going to test four different classifiers:\n",
    "\n",
    "1. Logistic regression\n",
    "2. Random forest\n",
    "3. Adaptive boosting (AdaBoost)\n",
    "4. Gradient boosting\n",
    "\n",
    "We'll use each one with its default parameters, and see which gives the highest ROC AUC score to determine which to take forward."
   ]
  },
  {
   "cell_type": "code",
   "execution_count": 55,
   "metadata": {},
   "outputs": [
    {
     "data": {
      "image/png": "[encoded data removed]",
      "text/plain": [
       "<Figure size 432x288 with 1 Axes>"
      ]
     },
     "metadata": {
      "needs_background": "light"
     },
     "output_type": "display_data"
    },
    {
     "data": {
      "image/png": "[encoded data removed]",
      "text/plain": [
       "<Figure size 432x288 with 1 Axes>"
      ]
     },
     "metadata": {
      "needs_background": "light"
     },
     "output_type": "display_data"
    },
    {
     "data": {
      "image/png": "[encoded data removed]",
      "text/plain": [
       "<Figure size 432x288 with 1 Axes>"
      ]
     },
     "metadata": {
      "needs_background": "light"
     },
     "output_type": "display_data"
    },
    {
     "data": {
      "image/png": "[encoded data removed]",
      "text/plain": [
       "<Figure size 432x288 with 1 Axes>"
      ]
     },
     "metadata": {
      "needs_background": "light"
     },
     "output_type": "display_data"
    }
   ],
   "source": [
    "# Dictionary of models to test\n",
    "models = {\n",
    "    'LogisticRegression': LogisticRegression(max_iter=1000, random_state=42),\n",
    "    'RandomForest' : RandomForestClassifier(n_jobs=-1, random_state=42),\n",
    "    'AdaBoost': AdaBoostClassifier(random_state=42),\n",
    "    'GradientBoosting': GradientBoostingClassifier(random_state=42)\n",
    "}\n",
    "\n",
    "# Iterate through models\n",
    "for model_name, model in models.items():\n",
    "    # Create pipeline with scaling step first (required for some models)\n",
    "    pl = Pipeline([\n",
    "        ('scale', preprocessing.MinMaxScaler()),\n",
    "        ('clf', model)\n",
    "    ])\n",
    "    \n",
    "    score, fp_rate, tp_rate = generate_evaluate_model(X_train, X_test, y_train, y_test, pl)        \n",
    "    \n",
    "    # Plot ROC curve, with ROC AUC score in the title\n",
    "    plt.plot(fp_rate, tp_rate)\n",
    "    plt.plot([0, 1], [0, 1], linestyle='--')\n",
    "    plt.xlabel('False positive rate')\n",
    "    plt.ylabel('True positive rate')\n",
    "    plt.title('ROC curve: {} (AUC: {:.4f})'.format(model_name, score))\n",
    "    plt.show();"
   ]
  },
  {
   "cell_type": "markdown",
   "metadata": {},
   "source": [
    "The charts above show that the model based on the LogisticRegression classifier gives the highest ROC AUC score (0.6119). We will use this model, and try to optimise it via choice of columns and using GridSearchCV.\n",
    "\n",
    "#### 2.3.2 Column selection\n",
    "From part 1, we know that some columns offer greater correlation with being a customer than others. It's possible that we might be able to create a better model by restricting the dataset to these columns with greater correlation. We will take the top two clusters that positively correlate with customers, and the bottom two clusters that negatively correlated with customers (we identified these in section 1.3). From each of these we'll create a list of the *n* most impactful columns from the dataset, and see if our model improves when we use only these columns."
   ]
  },
  {
   "cell_type": "code",
   "execution_count": 78,
   "metadata": {},
   "outputs": [],
   "source": [
    "def select_impactful_columns(n, pipeline, most_impactful_clusters):\n",
    "    ''' Select the n most impactful columns from the given clusters\n",
    "    \n",
    "    Args:\n",
    "        n (int): number of columns to return\n",
    "        pipeline (Pipeline): pipeline used to generate clusters\n",
    "        most_impactful_clusters (list): list of cluster numbers to include\n",
    "        \n",
    "    Returns:\n",
    "        most_impactful_cols (list): list of column names\n",
    "    '''\n",
    "    # First get the n most impactful columns for each cluster\n",
    "    most_impactful_cols_per_cluster = []\n",
    "\n",
    "    for cluster in most_impactful_clusters:\n",
    "        # Get columns and values from the cluster\n",
    "        df_cluster = sorted_columns_from_cluster(pipeline, cluster)\n",
    "        # Add the top n columns to the list of impactful columns\n",
    "        most_impactful_cols_per_cluster.append(list(df_cluster.index)[:n])\n",
    "\n",
    "    # Then loop through, adding columns (if not already in the list)\n",
    "    # until we have >= n columns\n",
    "    most_impactful_cols = []\n",
    "    i = 0\n",
    "    \n",
    "    while len(most_impactful_cols) < n:\n",
    "        for j in range(len(most_impactful_clusters)):\n",
    "            new_col = most_impactful_cols_per_cluster[j][i]\n",
    "            if new_col not in most_impactful_cols:\n",
    "                most_impactful_cols.append(new_col)\n",
    "        i += 1\n",
    "\n",
    "    # Select first n elements\n",
    "    most_impactful_cols = most_impactful_cols[:n]\n",
    "        \n",
    "    return most_impactful_cols"
   ]
  },
  {
   "cell_type": "markdown",
   "metadata": {},
   "source": [
    "Now we'll create models with increasing numbers of impactful columns included, and determine which gives the highest score."
   ]
  },
  {
   "cell_type": "code",
   "execution_count": 79,
   "metadata": {},
   "outputs": [
    {
     "name": "stdout",
     "output_type": "stream",
     "text": [
      "Testing with 1 columns... Complete (ROC AUC: 0.5634).\n",
      "Testing with 2 columns... Complete (ROC AUC: 0.5827).\n",
      "Testing with 3 columns... Complete (ROC AUC: 0.5742).\n",
      "Testing with 4 columns... Complete (ROC AUC: 0.5769).\n",
      "Testing with 5 columns... Complete (ROC AUC: 0.5759).\n",
      "Testing with 6 columns... Complete (ROC AUC: 0.5779).\n",
      "Testing with 7 columns... Complete (ROC AUC: 0.5778).\n",
      "Testing with 8 columns... Complete (ROC AUC: 0.5623).\n",
      "Testing with 9 columns... Complete (ROC AUC: 0.5673).\n",
      "Testing with 10 columns... Complete (ROC AUC: 0.5683).\n",
      "Testing with 11 columns... Complete (ROC AUC: 0.5715).\n",
      "Testing with 12 columns... Complete (ROC AUC: 0.5709).\n",
      "Testing with 13 columns... Complete (ROC AUC: 0.5694).\n",
      "Testing with 14 columns... Complete (ROC AUC: 0.5630).\n",
      "Testing with 15 columns... Complete (ROC AUC: 0.5591).\n",
      "Testing with 16 columns... Complete (ROC AUC: 0.5701).\n",
      "Testing with 17 columns... Complete (ROC AUC: 0.5635).\n",
      "Testing with 18 columns... Complete (ROC AUC: 0.5603).\n",
      "Testing with 19 columns... Complete (ROC AUC: 0.5601).\n",
      "Testing with 20 columns... Complete (ROC AUC: 0.5633).\n",
      "Testing with 21 columns... Complete (ROC AUC: 0.5638).\n",
      "Testing with 22 columns... Complete (ROC AUC: 0.5640).\n",
      "Testing with 23 columns... Complete (ROC AUC: 0.5671).\n",
      "Testing with 24 columns... Complete (ROC AUC: 0.5606).\n",
      "Testing with 25 columns... Complete (ROC AUC: 0.5594).\n",
      "Testing with 26 columns... Complete (ROC AUC: 0.5533).\n",
      "Testing with 27 columns... Complete (ROC AUC: 0.5558).\n",
      "Testing with 28 columns... Complete (ROC AUC: 0.5557).\n",
      "Testing with 29 columns... Complete (ROC AUC: 0.5537).\n",
      "Testing with 30 columns... Complete (ROC AUC: 0.5497).\n",
      "Testing with 31 columns... Complete (ROC AUC: 0.5464).\n",
      "Testing with 32 columns... Complete (ROC AUC: 0.5470).\n",
      "Testing with 33 columns... Complete (ROC AUC: 0.5465).\n",
      "Testing with 34 columns... Complete (ROC AUC: 0.5513).\n",
      "Testing with 35 columns... Complete (ROC AUC: 0.5678).\n",
      "Testing with 36 columns... Complete (ROC AUC: 0.5685).\n",
      "Testing with 37 columns... Complete (ROC AUC: 0.5769).\n",
      "Testing with 38 columns... Complete (ROC AUC: 0.5770).\n",
      "Testing with 39 columns... Complete (ROC AUC: 0.6316).\n",
      "Testing with 40 columns... Complete (ROC AUC: 0.6322).\n",
      "Testing with 41 columns... Complete (ROC AUC: 0.6337).\n",
      "Testing with 42 columns... Complete (ROC AUC: 0.6346).\n",
      "Testing with 43 columns... Complete (ROC AUC: 0.6580).\n",
      "Testing with 44 columns... Complete (ROC AUC: 0.6626).\n",
      "Testing with 45 columns... Complete (ROC AUC: 0.6628).\n",
      "Testing with 46 columns... Complete (ROC AUC: 0.6646).\n",
      "Testing with 47 columns... Complete (ROC AUC: 0.6736).\n",
      "Testing with 48 columns... Complete (ROC AUC: 0.6743).\n",
      "Testing with 49 columns... Complete (ROC AUC: 0.6742).\n",
      "Testing with 50 columns... Complete (ROC AUC: 0.6720).\n",
      "Testing with 51 columns... Complete (ROC AUC: 0.6726).\n",
      "Testing with 52 columns... Complete (ROC AUC: 0.6722).\n",
      "Testing with 53 columns... Complete (ROC AUC: 0.6738).\n",
      "Testing with 54 columns... Complete (ROC AUC: 0.6741).\n",
      "Testing with 55 columns... Complete (ROC AUC: 0.6645).\n",
      "Testing with 56 columns... Complete (ROC AUC: 0.6636).\n",
      "Testing with 57 columns... Complete (ROC AUC: 0.6637).\n",
      "Testing with 58 columns... Complete (ROC AUC: 0.6638).\n",
      "Testing with 59 columns... Complete (ROC AUC: 0.6651).\n",
      "Testing with 60 columns... Complete (ROC AUC: 0.6653).\n",
      "Testing with 61 columns... Complete (ROC AUC: 0.6630).\n",
      "Testing with 62 columns... Complete (ROC AUC: 0.6611).\n",
      "Testing with 63 columns... Complete (ROC AUC: 0.6567).\n",
      "Testing with 64 columns... Complete (ROC AUC: 0.6546).\n",
      "Testing with 65 columns... Complete (ROC AUC: 0.6535).\n",
      "Testing with 66 columns... Complete (ROC AUC: 0.6540).\n",
      "Testing with 67 columns... Complete (ROC AUC: 0.6546).\n",
      "Testing with 68 columns... Complete (ROC AUC: 0.6543).\n",
      "Testing with 69 columns... Complete (ROC AUC: 0.6591).\n",
      "Testing with 70 columns... Complete (ROC AUC: 0.6589).\n",
      "Testing with 71 columns... Complete (ROC AUC: 0.6530).\n",
      "Testing with 72 columns... Complete (ROC AUC: 0.6511).\n",
      "Testing with 73 columns... Complete (ROC AUC: 0.6499).\n",
      "Testing with 74 columns... Complete (ROC AUC: 0.6495).\n",
      "Testing with 75 columns... Complete (ROC AUC: 0.6488).\n",
      "Testing with 76 columns... Complete (ROC AUC: 0.6480).\n",
      "Testing with 77 columns... Complete (ROC AUC: 0.6516).\n",
      "Testing with 78 columns... Complete (ROC AUC: 0.6519).\n",
      "Testing with 79 columns... Complete (ROC AUC: 0.6506).\n",
      "Testing with 80 columns... Complete (ROC AUC: 0.6485).\n",
      "Testing with 81 columns... Complete (ROC AUC: 0.6508).\n",
      "Testing with 82 columns... Complete (ROC AUC: 0.6509).\n",
      "Testing with 83 columns... Complete (ROC AUC: 0.6486).\n",
      "Testing with 84 columns... Complete (ROC AUC: 0.6486).\n",
      "Testing with 85 columns... Complete (ROC AUC: 0.6488).\n",
      "Testing with 86 columns... Complete (ROC AUC: 0.6496).\n",
      "Testing with 87 columns... Complete (ROC AUC: 0.6495).\n",
      "Testing with 88 columns... Complete (ROC AUC: 0.6453).\n",
      "Testing with 89 columns... Complete (ROC AUC: 0.6454).\n",
      "Testing with 90 columns... Complete (ROC AUC: 0.6460).\n",
      "Testing with 91 columns... Complete (ROC AUC: 0.6466).\n",
      "Testing with 92 columns... Complete (ROC AUC: 0.6505).\n",
      "Testing with 93 columns... Complete (ROC AUC: 0.6504).\n",
      "Testing with 94 columns... Complete (ROC AUC: 0.6512).\n",
      "Testing with 95 columns... Complete (ROC AUC: 0.6513).\n",
      "Testing with 96 columns... Complete (ROC AUC: 0.6513).\n",
      "Testing with 97 columns... Complete (ROC AUC: 0.6488).\n",
      "Testing with 98 columns... Complete (ROC AUC: 0.6496).\n",
      "Testing with 99 columns... Complete (ROC AUC: 0.6492).\n",
      "Testing with 100 columns... Complete (ROC AUC: 0.6535).\n",
      "Testing with 101 columns... Complete (ROC AUC: 0.6541).\n",
      "Testing with 102 columns... Complete (ROC AUC: 0.6516).\n",
      "Testing with 103 columns... Complete (ROC AUC: 0.6518).\n",
      "Testing with 104 columns... Complete (ROC AUC: 0.6523).\n",
      "Testing with 105 columns... Complete (ROC AUC: 0.6525).\n",
      "Testing with 106 columns... Complete (ROC AUC: 0.6570).\n",
      "Testing with 107 columns... Complete (ROC AUC: 0.6586).\n",
      "Testing with 108 columns... Complete (ROC AUC: 0.6578).\n",
      "Testing with 109 columns... Complete (ROC AUC: 0.6561).\n",
      "Testing with 110 columns... Complete (ROC AUC: 0.6558).\n",
      "Testing with 111 columns... Complete (ROC AUC: 0.6546).\n",
      "Testing with 112 columns... Complete (ROC AUC: 0.6542).\n",
      "Testing with 113 columns... Complete (ROC AUC: 0.6513).\n",
      "Testing with 114 columns... Complete (ROC AUC: 0.6515).\n",
      "Testing with 115 columns... Complete (ROC AUC: 0.6521).\n",
      "Testing with 116 columns... Complete (ROC AUC: 0.6521).\n",
      "Testing with 117 columns... Complete (ROC AUC: 0.6400).\n",
      "Testing with 118 columns... Complete (ROC AUC: 0.6400).\n",
      "Testing with 119 columns... Complete (ROC AUC: 0.6399).\n",
      "Testing with 120 columns... Complete (ROC AUC: 0.6410).\n",
      "Testing with 121 columns... Complete (ROC AUC: 0.6404).\n",
      "Testing with 122 columns... Complete (ROC AUC: 0.6400).\n",
      "Testing with 123 columns... Complete (ROC AUC: 0.6425).\n",
      "Testing with 124 columns... Complete (ROC AUC: 0.6422).\n",
      "Testing with 125 columns... Complete (ROC AUC: 0.6421).\n",
      "Testing with 126 columns... Complete (ROC AUC: 0.6404).\n",
      "Testing with 127 columns... Complete (ROC AUC: 0.6404).\n",
      "Testing with 128 columns... Complete (ROC AUC: 0.6423).\n",
      "Testing with 129 columns... Complete (ROC AUC: 0.6423).\n",
      "Testing with 130 columns... Complete (ROC AUC: 0.6437).\n",
      "Testing with 131 columns... Complete (ROC AUC: 0.6434).\n",
      "Testing with 132 columns... Complete (ROC AUC: 0.6445).\n",
      "Testing with 133 columns... Complete (ROC AUC: 0.6462).\n",
      "Testing with 134 columns... Complete (ROC AUC: 0.6478).\n",
      "Testing with 135 columns... Complete (ROC AUC: 0.6473).\n",
      "Testing with 136 columns... Complete (ROC AUC: 0.6471).\n",
      "Testing with 137 columns... Complete (ROC AUC: 0.6491).\n",
      "Testing with 138 columns... Complete (ROC AUC: 0.6479).\n",
      "Testing with 139 columns... Complete (ROC AUC: 0.6486).\n",
      "Testing with 140 columns... Complete (ROC AUC: 0.6517).\n",
      "Testing with 141 columns... Complete (ROC AUC: 0.6517).\n",
      "Testing with 142 columns... Complete (ROC AUC: 0.6529).\n",
      "Testing with 143 columns... Complete (ROC AUC: 0.6527).\n",
      "Testing with 144 columns... Complete (ROC AUC: 0.6533).\n",
      "Testing with 145 columns... Complete (ROC AUC: 0.6522).\n",
      "Testing with 146 columns... Complete (ROC AUC: 0.6483).\n",
      "Testing with 147 columns... Complete (ROC AUC: 0.6483).\n",
      "Testing with 148 columns... Complete (ROC AUC: 0.6403).\n"
     ]
    },
    {
     "name": "stdout",
     "output_type": "stream",
     "text": [
      "Testing with 149 columns... Complete (ROC AUC: 0.6405).\n",
      "Testing with 150 columns... Complete (ROC AUC: 0.6410).\n",
      "Testing with 151 columns... Complete (ROC AUC: 0.6428).\n",
      "Testing with 152 columns... Complete (ROC AUC: 0.6412).\n",
      "Testing with 153 columns... Complete (ROC AUC: 0.6420).\n",
      "Testing with 154 columns... Complete (ROC AUC: 0.6425).\n",
      "Testing with 155 columns... Complete (ROC AUC: 0.6406).\n",
      "Testing with 156 columns... Complete (ROC AUC: 0.6391).\n",
      "Testing with 157 columns... Complete (ROC AUC: 0.6388).\n",
      "Testing with 158 columns... Complete (ROC AUC: 0.6379).\n",
      "Testing with 159 columns... Complete (ROC AUC: 0.6379).\n",
      "Testing with 160 columns... Complete (ROC AUC: 0.6374).\n",
      "Testing with 161 columns... Complete (ROC AUC: 0.6375).\n",
      "Testing with 162 columns... Complete (ROC AUC: 0.6358).\n",
      "Testing with 163 columns... Complete (ROC AUC: 0.6361).\n",
      "Testing with 164 columns... Complete (ROC AUC: 0.6355).\n",
      "Testing with 165 columns... Complete (ROC AUC: 0.6341).\n",
      "Testing with 166 columns... Complete (ROC AUC: 0.6338).\n",
      "Testing with 167 columns... Complete (ROC AUC: 0.6340).\n",
      "Testing with 168 columns... Complete (ROC AUC: 0.6331).\n",
      "Testing with 169 columns... Complete (ROC AUC: 0.6329).\n",
      "Testing with 170 columns... Complete (ROC AUC: 0.6329).\n",
      "Testing with 171 columns... Complete (ROC AUC: 0.6329).\n",
      "Testing with 172 columns... Complete (ROC AUC: 0.6336).\n",
      "Testing with 173 columns... Complete (ROC AUC: 0.6331).\n",
      "Testing with 174 columns... Complete (ROC AUC: 0.6335).\n",
      "Testing with 175 columns... Complete (ROC AUC: 0.6338).\n",
      "Testing with 176 columns... Complete (ROC AUC: 0.6327).\n",
      "Testing with 177 columns... Complete (ROC AUC: 0.6330).\n",
      "Testing with 178 columns... Complete (ROC AUC: 0.6333).\n",
      "Testing with 179 columns... Complete (ROC AUC: 0.6303).\n",
      "Testing with 180 columns... Complete (ROC AUC: 0.6273).\n",
      "Testing with 181 columns... Complete (ROC AUC: 0.6283).\n",
      "Testing with 182 columns... Complete (ROC AUC: 0.6278).\n",
      "Testing with 183 columns... Complete (ROC AUC: 0.6282).\n",
      "Testing with 184 columns... Complete (ROC AUC: 0.6208).\n",
      "Testing with 185 columns... Complete (ROC AUC: 0.6209).\n",
      "Testing with 186 columns... Complete (ROC AUC: 0.6214).\n",
      "Testing with 187 columns... Complete (ROC AUC: 0.6203).\n",
      "Testing with 188 columns... Complete (ROC AUC: 0.6207).\n",
      "Testing with 189 columns... Complete (ROC AUC: 0.6207).\n",
      "Testing with 190 columns... Complete (ROC AUC: 0.6202).\n",
      "Testing with 191 columns... Complete (ROC AUC: 0.6164).\n",
      "Testing with 192 columns... Complete (ROC AUC: 0.6156).\n",
      "Testing with 193 columns... Complete (ROC AUC: 0.6189).\n",
      "Testing with 194 columns... Complete (ROC AUC: 0.6193).\n",
      "Testing with 195 columns... Complete (ROC AUC: 0.6205).\n",
      "Testing with 196 columns... Complete (ROC AUC: 0.6219).\n",
      "Testing with 197 columns... Complete (ROC AUC: 0.6221).\n",
      "Testing with 198 columns... Complete (ROC AUC: 0.6232).\n",
      "Testing with 199 columns... Complete (ROC AUC: 0.6207).\n",
      "Testing with 200 columns... Complete (ROC AUC: 0.6202).\n",
      "Testing with 201 columns... Complete (ROC AUC: 0.6200).\n",
      "Testing with 202 columns... Complete (ROC AUC: 0.6173).\n",
      "Testing with 203 columns... Complete (ROC AUC: 0.6190).\n",
      "Testing with 204 columns... Complete (ROC AUC: 0.6190).\n",
      "Testing with 205 columns... Complete (ROC AUC: 0.6202).\n",
      "Testing with 206 columns... Complete (ROC AUC: 0.6209).\n",
      "Testing with 207 columns... Complete (ROC AUC: 0.6218).\n",
      "Testing with 208 columns... Complete (ROC AUC: 0.6214).\n",
      "Testing with 209 columns... Complete (ROC AUC: 0.6226).\n",
      "Testing with 210 columns... Complete (ROC AUC: 0.6227).\n",
      "Testing with 211 columns... Complete (ROC AUC: 0.6244).\n",
      "Testing with 212 columns... Complete (ROC AUC: 0.6242).\n",
      "Testing with 213 columns... Complete (ROC AUC: 0.6263).\n",
      "Testing with 214 columns... Complete (ROC AUC: 0.6258).\n",
      "Testing with 215 columns... Complete (ROC AUC: 0.6260).\n",
      "Testing with 216 columns... Complete (ROC AUC: 0.6260).\n",
      "Testing with 217 columns... Complete (ROC AUC: 0.6280).\n",
      "Testing with 218 columns... Complete (ROC AUC: 0.6280).\n",
      "Testing with 219 columns... Complete (ROC AUC: 0.6290).\n",
      "Testing with 220 columns... Complete (ROC AUC: 0.6299).\n",
      "Testing with 221 columns... Complete (ROC AUC: 0.6293).\n",
      "Testing with 222 columns... Complete (ROC AUC: 0.6259).\n",
      "Testing with 223 columns... Complete (ROC AUC: 0.6269).\n",
      "Testing with 224 columns... Complete (ROC AUC: 0.6270).\n",
      "Testing with 225 columns... Complete (ROC AUC: 0.6261).\n",
      "Testing with 226 columns... Complete (ROC AUC: 0.6282).\n",
      "Testing with 227 columns... Complete (ROC AUC: 0.6282).\n",
      "Testing with 228 columns... Complete (ROC AUC: 0.6297).\n",
      "Testing with 229 columns... Complete (ROC AUC: 0.6296).\n",
      "Testing with 230 columns... Complete (ROC AUC: 0.6296).\n",
      "Testing with 231 columns... Complete (ROC AUC: 0.6301).\n",
      "Testing with 232 columns... Complete (ROC AUC: 0.6299).\n",
      "Testing with 233 columns... Complete (ROC AUC: 0.6321).\n",
      "Testing with 234 columns... Complete (ROC AUC: 0.6319).\n",
      "Testing with 235 columns... Complete (ROC AUC: 0.6321).\n",
      "Testing with 236 columns... Complete (ROC AUC: 0.6310).\n",
      "Testing with 237 columns... Complete (ROC AUC: 0.6291).\n",
      "Testing with 238 columns... Complete (ROC AUC: 0.6291).\n",
      "Testing with 239 columns... Complete (ROC AUC: 0.6288).\n",
      "Testing with 240 columns... Complete (ROC AUC: 0.6291).\n",
      "Testing with 241 columns... Complete (ROC AUC: 0.6277).\n",
      "Testing with 242 columns... Complete (ROC AUC: 0.6284).\n",
      "Testing with 243 columns... Complete (ROC AUC: 0.6281).\n",
      "Testing with 244 columns... Complete (ROC AUC: 0.6273).\n",
      "Testing with 245 columns... Complete (ROC AUC: 0.6262).\n",
      "Testing with 246 columns... Complete (ROC AUC: 0.6253).\n",
      "Testing with 247 columns... Complete (ROC AUC: 0.6251).\n",
      "Testing with 248 columns... Complete (ROC AUC: 0.6263).\n",
      "Testing with 249 columns... Complete (ROC AUC: 0.6279).\n",
      "Testing with 250 columns... Complete (ROC AUC: 0.6285).\n",
      "Testing with 251 columns... Complete (ROC AUC: 0.6291).\n",
      "Testing with 252 columns... Complete (ROC AUC: 0.6278).\n",
      "Testing with 253 columns... Complete (ROC AUC: 0.6270).\n",
      "Testing with 254 columns... Complete (ROC AUC: 0.6270).\n",
      "Testing with 255 columns... Complete (ROC AUC: 0.6277).\n",
      "Testing with 256 columns... Complete (ROC AUC: 0.6244).\n",
      "Testing with 257 columns... Complete (ROC AUC: 0.6247).\n",
      "Testing with 258 columns... Complete (ROC AUC: 0.6211).\n",
      "Testing with 259 columns... Complete (ROC AUC: 0.6207).\n",
      "Testing with 260 columns... Complete (ROC AUC: 0.6205).\n",
      "Testing with 261 columns... Complete (ROC AUC: 0.6199).\n",
      "Testing with 262 columns... Complete (ROC AUC: 0.6200).\n",
      "Testing with 263 columns... Complete (ROC AUC: 0.6152).\n",
      "Testing with 264 columns... Complete (ROC AUC: 0.6145).\n",
      "Testing with 265 columns... Complete (ROC AUC: 0.6146).\n",
      "Testing with 266 columns... Complete (ROC AUC: 0.6111).\n",
      "Testing with 267 columns... Complete (ROC AUC: 0.6115).\n",
      "Testing with 268 columns... Complete (ROC AUC: 0.6112).\n",
      "Testing with 269 columns... Complete (ROC AUC: 0.6114).\n"
     ]
    }
   ],
   "source": [
    "# Use top two (+ve correlating) and bottom two (-ve correlating) clusters from earlier analysis\n",
    "most_impactful_clusters = top_two + bottom_two\n",
    "\n",
    "# Logistic regression pipeline\n",
    "pipeline = Pipeline([\n",
    "    ('scale', preprocessing.MinMaxScaler()),\n",
    "    ('clf', LogisticRegression(max_iter=1000, random_state=42))\n",
    "])\n",
    "\n",
    "# Range of numbers of columns to test\n",
    "n_cols_range = range(1, X_train.shape[1])\n",
    "scores = []\n",
    "\n",
    "for n_cols in n_cols_range:\n",
    "    # Select columns, generate and score model\n",
    "    print('Testing with {} columns... '.format(n_cols), end='')\n",
    "    cols = select_impactful_columns(n_cols, pca_pipeline, most_impactful_clusters)\n",
    "    score, _, _ = generate_evaluate_model(X_train[cols], X_test[cols], y_train, y_test, pipeline)\n",
    "    print('Complete (ROC AUC: {:.4f}).'.format(score))\n",
    "    \n",
    "    scores.append(score)"
   ]
  },
  {
   "cell_type": "code",
   "execution_count": 81,
   "metadata": {},
   "outputs": [
    {
     "name": "stdout",
     "output_type": "stream",
     "text": [
      "Best score (0.6743) achieved with 48 columns.\n"
     ]
    },
    {
     "data": {
      "image/png": "[encoded data removed]",
      "text/plain": [
       "<Figure size 432x288 with 1 Axes>"
      ]
     },
     "metadata": {
      "needs_background": "light"
     },
     "output_type": "display_data"
    }
   ],
   "source": [
    "# Pull out the number of columns where the ROC AUC score was maximum\n",
    "n_cols_max_score = n_cols_range[np.where(scores == max(scores))[0][0]]\n",
    "print('Best score ({:.4f}) achieved with {} columns.'.format(max(scores), n_cols_max_score))\n",
    "\n",
    "# Plot the relationship between number of cols and ROC AUC score, highlighting the max\n",
    "plt.plot(n_cols_range, scores)\n",
    "plt.plot([0, n_cols_max_score, n_cols_max_score], [max(scores), max(scores), min(scores)], '--')\n",
    "plt.title('ROC AUC vs. number of columns in model')\n",
    "plt.xlabel('Number of columns')\n",
    "plt.ylabel('ROC AUC');\n",
    "\n",
    "most_impactful_columns = select_impactful_columns(n_cols_max_score, pca_pipeline, most_impactful_clusters)"
   ]
  },
  {
   "cell_type": "markdown",
   "metadata": {},
   "source": [
    "By using only the 48 most impactful columns in the model we get a ROC AUC score of 0.6743 versus 0.6119 using all columns; a ~10% improvement!\n",
    "\n",
    "#### 2.3.3 Model optimisation\n",
    "We'll now try and optimise this model further by tuning the hyperparameters using [GridSearchCV](https://scikit-learn.org/stable/modules/generated/sklearn.model_selection.GridSearchCV.html). We can look at the [LogisticRegression](https://scikit-learn.org/stable/modules/generated/sklearn.linear_model.LogisticRegression.html) documentation to see what tunable parameters are available. We will test:\n",
    "\n",
    "1. `penalty`: `l1`, `l2`, and `none`\n",
    "2. `solver`: `lbfgs`, `liblinear`, and `sag`\n",
    "3. `C`: 15 values from 0.1 to 1.0, log spaced\n",
    "\n",
    "**Note:** GridSearchCV will test every permutation of these parameters, but not all permutations are valid (e.g. `l1` penalty with the `sag` solver). This will raise a warning when tested, and the score will be set to np.nan."
   ]
  },
  {
   "cell_type": "code",
   "execution_count": 84,
   "metadata": {},
   "outputs": [],
   "source": [
    "# Define the pipeline to the optimised\n",
    "estimator_pipeline = Pipeline([\n",
    "        ('scale', preprocessing.MinMaxScaler()),\n",
    "        ('clf', LogisticRegression(max_iter=1000))\n",
    "    ])\n",
    "\n",
    "# Hyperparameters to test\n",
    "parameters = {\n",
    "    'clf__penalty': ['l1', 'l2', 'none'],\n",
    "    'clf__solver': ['lbfgs', 'liblinear', 'sag'],\n",
    "    'clf__C': np.logspace(-1, 0, 15)\n",
    "}\n",
    "\n",
    "# Cross validation strategy\n",
    "cv = RepeatedStratifiedKFold(n_splits=5, n_repeats=3, random_state=42)\n",
    "\n",
    "# GridSearch model, using ROC AUC for scoring\n",
    "gridsearch_model = GridSearchCV(estimator=estimator_pipeline, param_grid=parameters, \n",
    "                                verbose=2, scoring='roc_auc', cv=cv)"
   ]
  },
  {
   "cell_type": "markdown",
   "metadata": {},
   "source": [
    "We can now run GridSearchCV, using the 48 most impactful columns we identified earlier. As noted above, we will expect a number of warnings due to some permutations of the hyperparameters being invalid."
   ]
  },
  {
   "cell_type": "code",
   "execution_count": 85,
   "metadata": {},
   "outputs": [
    {
     "name": "stdout",
     "output_type": "stream",
     "text": [
      "Fitting 15 folds for each of 135 candidates, totalling 2025 fits\n",
      "[CV] END .....clf__C=0.1, clf__penalty=l1, clf__solver=lbfgs; total time=   0.0s\n",
      "[CV] END .....clf__C=0.1, clf__penalty=l1, clf__solver=lbfgs; total time=   0.0s\n",
      "[CV] END .....clf__C=0.1, clf__penalty=l1, clf__solver=lbfgs; total time=   0.0s\n",
      "[CV] END .....clf__C=0.1, clf__penalty=l1, clf__solver=lbfgs; total time=   0.0s\n",
      "[CV] END .....clf__C=0.1, clf__penalty=l1, clf__solver=lbfgs; total time=   0.0s\n",
      "[CV] END .....clf__C=0.1, clf__penalty=l1, clf__solver=lbfgs; total time=   0.0s\n",
      "[CV] END .....clf__C=0.1, clf__penalty=l1, clf__solver=lbfgs; total time=   0.0s\n",
      "[CV] END .....clf__C=0.1, clf__penalty=l1, clf__solver=lbfgs; total time=   0.0s\n",
      "[CV] END .....clf__C=0.1, clf__penalty=l1, clf__solver=lbfgs; total time=   0.0s\n",
      "[CV] END .....clf__C=0.1, clf__penalty=l1, clf__solver=lbfgs; total time=   0.0s\n",
      "[CV] END .....clf__C=0.1, clf__penalty=l1, clf__solver=lbfgs; total time=   0.0s\n",
      "[CV] END .....clf__C=0.1, clf__penalty=l1, clf__solver=lbfgs; total time=   0.0s\n",
      "[CV] END .....clf__C=0.1, clf__penalty=l1, clf__solver=lbfgs; total time=   0.0s\n",
      "[CV] END .....clf__C=0.1, clf__penalty=l1, clf__solver=lbfgs; total time=   0.0s\n",
      "[CV] END .....clf__C=0.1, clf__penalty=l1, clf__solver=lbfgs; total time=   0.0s\n",
      "[CV] END .clf__C=0.1, clf__penalty=l1, clf__solver=liblinear; total time=   0.1s\n",
      "[CV] END .clf__C=0.1, clf__penalty=l1, clf__solver=liblinear; total time=   0.1s\n",
      "[CV] END .clf__C=0.1, clf__penalty=l1, clf__solver=liblinear; total time=   0.1s\n",
      "[CV] END .clf__C=0.1, clf__penalty=l1, clf__solver=liblinear; total time=   0.1s\n",
      "[CV] END .clf__C=0.1, clf__penalty=l1, clf__solver=liblinear; total time=   0.1s\n",
      "[CV] END .clf__C=0.1, clf__penalty=l1, clf__solver=liblinear; total time=   0.1s\n",
      "[CV] END .clf__C=0.1, clf__penalty=l1, clf__solver=liblinear; total time=   0.1s\n",
      "[CV] END .clf__C=0.1, clf__penalty=l1, clf__solver=liblinear; total time=   0.1s\n",
      "[CV] END .clf__C=0.1, clf__penalty=l1, clf__solver=liblinear; total time=   0.1s\n",
      "[CV] END .clf__C=0.1, clf__penalty=l1, clf__solver=liblinear; total time=   0.1s\n",
      "[CV] END .clf__C=0.1, clf__penalty=l1, clf__solver=liblinear; total time=   0.1s\n",
      "[CV] END .clf__C=0.1, clf__penalty=l1, clf__solver=liblinear; total time=   0.1s\n",
      "[CV] END .clf__C=0.1, clf__penalty=l1, clf__solver=liblinear; total time=   0.1s\n",
      "[CV] END .clf__C=0.1, clf__penalty=l1, clf__solver=liblinear; total time=   0.1s\n",
      "[CV] END .clf__C=0.1, clf__penalty=l1, clf__solver=liblinear; total time=   0.1s\n",
      "[CV] END .......clf__C=0.1, clf__penalty=l1, clf__solver=sag; total time=   0.0s\n",
      "[CV] END .......clf__C=0.1, clf__penalty=l1, clf__solver=sag; total time=   0.0s\n",
      "[CV] END .......clf__C=0.1, clf__penalty=l1, clf__solver=sag; total time=   0.0s\n",
      "[CV] END .......clf__C=0.1, clf__penalty=l1, clf__solver=sag; total time=   0.0s\n",
      "[CV] END .......clf__C=0.1, clf__penalty=l1, clf__solver=sag; total time=   0.0s\n",
      "[CV] END .......clf__C=0.1, clf__penalty=l1, clf__solver=sag; total time=   0.0s\n",
      "[CV] END .......clf__C=0.1, clf__penalty=l1, clf__solver=sag; total time=   0.0s\n",
      "[CV] END .......clf__C=0.1, clf__penalty=l1, clf__solver=sag; total time=   0.0s\n",
      "[CV] END .......clf__C=0.1, clf__penalty=l1, clf__solver=sag; total time=   0.0s\n",
      "[CV] END .......clf__C=0.1, clf__penalty=l1, clf__solver=sag; total time=   0.0s\n",
      "[CV] END .......clf__C=0.1, clf__penalty=l1, clf__solver=sag; total time=   0.0s\n",
      "[CV] END .......clf__C=0.1, clf__penalty=l1, clf__solver=sag; total time=   0.0s\n",
      "[CV] END .......clf__C=0.1, clf__penalty=l1, clf__solver=sag; total time=   0.0s\n",
      "[CV] END .......clf__C=0.1, clf__penalty=l1, clf__solver=sag; total time=   0.0s\n",
      "[CV] END .......clf__C=0.1, clf__penalty=l1, clf__solver=sag; total time=   0.0s\n",
      "[CV] END .....clf__C=0.1, clf__penalty=l2, clf__solver=lbfgs; total time=   0.1s\n",
      "[CV] END .....clf__C=0.1, clf__penalty=l2, clf__solver=lbfgs; total time=   0.1s\n",
      "[CV] END .....clf__C=0.1, clf__penalty=l2, clf__solver=lbfgs; total time=   0.1s\n",
      "[CV] END .....clf__C=0.1, clf__penalty=l2, clf__solver=lbfgs; total time=   0.1s\n",
      "[CV] END .....clf__C=0.1, clf__penalty=l2, clf__solver=lbfgs; total time=   0.1s\n",
      "[CV] END .....clf__C=0.1, clf__penalty=l2, clf__solver=lbfgs; total time=   0.1s\n",
      "[CV] END .....clf__C=0.1, clf__penalty=l2, clf__solver=lbfgs; total time=   0.1s\n",
      "[CV] END .....clf__C=0.1, clf__penalty=l2, clf__solver=lbfgs; total time=   0.1s\n",
      "[CV] END .....clf__C=0.1, clf__penalty=l2, clf__solver=lbfgs; total time=   0.1s\n",
      "[CV] END .....clf__C=0.1, clf__penalty=l2, clf__solver=lbfgs; total time=   0.1s\n",
      "[CV] END .....clf__C=0.1, clf__penalty=l2, clf__solver=lbfgs; total time=   0.1s\n",
      "[CV] END .....clf__C=0.1, clf__penalty=l2, clf__solver=lbfgs; total time=   0.1s\n",
      "[CV] END .....clf__C=0.1, clf__penalty=l2, clf__solver=lbfgs; total time=   0.1s\n",
      "[CV] END .....clf__C=0.1, clf__penalty=l2, clf__solver=lbfgs; total time=   0.1s\n",
      "[CV] END .....clf__C=0.1, clf__penalty=l2, clf__solver=lbfgs; total time=   0.1s\n",
      "[CV] END .clf__C=0.1, clf__penalty=l2, clf__solver=liblinear; total time=   0.1s\n",
      "[CV] END .clf__C=0.1, clf__penalty=l2, clf__solver=liblinear; total time=   0.1s\n",
      "[CV] END .clf__C=0.1, clf__penalty=l2, clf__solver=liblinear; total time=   0.1s\n",
      "[CV] END .clf__C=0.1, clf__penalty=l2, clf__solver=liblinear; total time=   0.1s\n",
      "[CV] END .clf__C=0.1, clf__penalty=l2, clf__solver=liblinear; total time=   0.1s\n",
      "[CV] END .clf__C=0.1, clf__penalty=l2, clf__solver=liblinear; total time=   0.1s\n",
      "[CV] END .clf__C=0.1, clf__penalty=l2, clf__solver=liblinear; total time=   0.1s\n",
      "[CV] END .clf__C=0.1, clf__penalty=l2, clf__solver=liblinear; total time=   0.1s\n",
      "[CV] END .clf__C=0.1, clf__penalty=l2, clf__solver=liblinear; total time=   0.1s\n",
      "[CV] END .clf__C=0.1, clf__penalty=l2, clf__solver=liblinear; total time=   0.1s\n",
      "[CV] END .clf__C=0.1, clf__penalty=l2, clf__solver=liblinear; total time=   0.1s\n",
      "[CV] END .clf__C=0.1, clf__penalty=l2, clf__solver=liblinear; total time=   0.1s\n",
      "[CV] END .clf__C=0.1, clf__penalty=l2, clf__solver=liblinear; total time=   0.1s\n",
      "[CV] END .clf__C=0.1, clf__penalty=l2, clf__solver=liblinear; total time=   0.1s\n",
      "[CV] END .clf__C=0.1, clf__penalty=l2, clf__solver=liblinear; total time=   0.1s\n",
      "[CV] END .......clf__C=0.1, clf__penalty=l2, clf__solver=sag; total time=   0.1s\n",
      "[CV] END .......clf__C=0.1, clf__penalty=l2, clf__solver=sag; total time=   0.1s\n",
      "[CV] END .......clf__C=0.1, clf__penalty=l2, clf__solver=sag; total time=   0.1s\n",
      "[CV] END .......clf__C=0.1, clf__penalty=l2, clf__solver=sag; total time=   0.1s\n",
      "[CV] END .......clf__C=0.1, clf__penalty=l2, clf__solver=sag; total time=   0.1s\n",
      "[CV] END .......clf__C=0.1, clf__penalty=l2, clf__solver=sag; total time=   0.1s\n",
      "[CV] END .......clf__C=0.1, clf__penalty=l2, clf__solver=sag; total time=   0.1s\n",
      "[CV] END .......clf__C=0.1, clf__penalty=l2, clf__solver=sag; total time=   0.1s\n",
      "[CV] END .......clf__C=0.1, clf__penalty=l2, clf__solver=sag; total time=   0.1s\n",
      "[CV] END .......clf__C=0.1, clf__penalty=l2, clf__solver=sag; total time=   0.1s\n",
      "[CV] END .......clf__C=0.1, clf__penalty=l2, clf__solver=sag; total time=   0.1s\n",
      "[CV] END .......clf__C=0.1, clf__penalty=l2, clf__solver=sag; total time=   0.1s\n",
      "[CV] END .......clf__C=0.1, clf__penalty=l2, clf__solver=sag; total time=   0.1s\n",
      "[CV] END .......clf__C=0.1, clf__penalty=l2, clf__solver=sag; total time=   0.1s\n",
      "[CV] END .......clf__C=0.1, clf__penalty=l2, clf__solver=sag; total time=   0.1s\n",
      "[CV] END ...clf__C=0.1, clf__penalty=none, clf__solver=lbfgs; total time=   0.2s\n"
     ]
    },
    {
     "name": "stderr",
     "output_type": "stream",
     "text": [
      "/Users/guy/miniforge3/envs/.venv/lib/python3.9/site-packages/sklearn/linear_model/_logistic.py:1483: UserWarning: Setting penalty='none' will ignore the C and l1_ratio parameters\n",
      "  warnings.warn(\n",
      "/Users/guy/miniforge3/envs/.venv/lib/python3.9/site-packages/sklearn/linear_model/_logistic.py:1483: UserWarning: Setting penalty='none' will ignore the C and l1_ratio parameters\n",
      "  warnings.warn(\n"
     ]
    },
    {
     "name": "stdout",
     "output_type": "stream",
     "text": [
      "[CV] END ...clf__C=0.1, clf__penalty=none, clf__solver=lbfgs; total time=   0.3s\n"
     ]
    },
    {
     "name": "stderr",
     "output_type": "stream",
     "text": [
      "/Users/guy/miniforge3/envs/.venv/lib/python3.9/site-packages/sklearn/linear_model/_logistic.py:1483: UserWarning: Setting penalty='none' will ignore the C and l1_ratio parameters\n",
      "  warnings.warn(\n"
     ]
    },
    {
     "name": "stdout",
     "output_type": "stream",
     "text": [
      "[CV] END ...clf__C=0.1, clf__penalty=none, clf__solver=lbfgs; total time=   0.3s\n"
     ]
    },
    {
     "name": "stderr",
     "output_type": "stream",
     "text": [
      "/Users/guy/miniforge3/envs/.venv/lib/python3.9/site-packages/sklearn/linear_model/_logistic.py:1483: UserWarning: Setting penalty='none' will ignore the C and l1_ratio parameters\n",
      "  warnings.warn(\n"
     ]
    },
    {
     "name": "stdout",
     "output_type": "stream",
     "text": [
      "[CV] END ...clf__C=0.1, clf__penalty=none, clf__solver=lbfgs; total time=   0.3s\n"
     ]
    },
    {
     "name": "stderr",
     "output_type": "stream",
     "text": [
      "/Users/guy/miniforge3/envs/.venv/lib/python3.9/site-packages/sklearn/linear_model/_logistic.py:1483: UserWarning: Setting penalty='none' will ignore the C and l1_ratio parameters\n",
      "  warnings.warn(\n"
     ]
    },
    {
     "name": "stdout",
     "output_type": "stream",
     "text": [
      "[CV] END ...clf__C=0.1, clf__penalty=none, clf__solver=lbfgs; total time=   0.3s\n"
     ]
    },
    {
     "name": "stderr",
     "output_type": "stream",
     "text": [
      "/Users/guy/miniforge3/envs/.venv/lib/python3.9/site-packages/sklearn/linear_model/_logistic.py:1483: UserWarning: Setting penalty='none' will ignore the C and l1_ratio parameters\n",
      "  warnings.warn(\n"
     ]
    },
    {
     "name": "stdout",
     "output_type": "stream",
     "text": [
      "[CV] END ...clf__C=0.1, clf__penalty=none, clf__solver=lbfgs; total time=   0.3s\n"
     ]
    },
    {
     "name": "stderr",
     "output_type": "stream",
     "text": [
      "/Users/guy/miniforge3/envs/.venv/lib/python3.9/site-packages/sklearn/linear_model/_logistic.py:1483: UserWarning: Setting penalty='none' will ignore the C and l1_ratio parameters\n",
      "  warnings.warn(\n"
     ]
    },
    {
     "name": "stdout",
     "output_type": "stream",
     "text": [
      "[CV] END ...clf__C=0.1, clf__penalty=none, clf__solver=lbfgs; total time=   0.2s\n"
     ]
    },
    {
     "name": "stderr",
     "output_type": "stream",
     "text": [
      "/Users/guy/miniforge3/envs/.venv/lib/python3.9/site-packages/sklearn/linear_model/_logistic.py:1483: UserWarning: Setting penalty='none' will ignore the C and l1_ratio parameters\n",
      "  warnings.warn(\n"
     ]
    },
    {
     "name": "stdout",
     "output_type": "stream",
     "text": [
      "[CV] END ...clf__C=0.1, clf__penalty=none, clf__solver=lbfgs; total time=   0.3s\n"
     ]
    },
    {
     "name": "stderr",
     "output_type": "stream",
     "text": [
      "/Users/guy/miniforge3/envs/.venv/lib/python3.9/site-packages/sklearn/linear_model/_logistic.py:1483: UserWarning: Setting penalty='none' will ignore the C and l1_ratio parameters\n",
      "  warnings.warn(\n"
     ]
    },
    {
     "name": "stdout",
     "output_type": "stream",
     "text": [
      "[CV] END ...clf__C=0.1, clf__penalty=none, clf__solver=lbfgs; total time=   0.3s\n"
     ]
    },
    {
     "name": "stderr",
     "output_type": "stream",
     "text": [
      "/Users/guy/miniforge3/envs/.venv/lib/python3.9/site-packages/sklearn/linear_model/_logistic.py:1483: UserWarning: Setting penalty='none' will ignore the C and l1_ratio parameters\n",
      "  warnings.warn(\n"
     ]
    },
    {
     "name": "stdout",
     "output_type": "stream",
     "text": [
      "[CV] END ...clf__C=0.1, clf__penalty=none, clf__solver=lbfgs; total time=   0.3s\n"
     ]
    },
    {
     "name": "stderr",
     "output_type": "stream",
     "text": [
      "/Users/guy/miniforge3/envs/.venv/lib/python3.9/site-packages/sklearn/linear_model/_logistic.py:1483: UserWarning: Setting penalty='none' will ignore the C and l1_ratio parameters\n",
      "  warnings.warn(\n"
     ]
    },
    {
     "name": "stdout",
     "output_type": "stream",
     "text": [
      "[CV] END ...clf__C=0.1, clf__penalty=none, clf__solver=lbfgs; total time=   0.3s\n"
     ]
    },
    {
     "name": "stderr",
     "output_type": "stream",
     "text": [
      "/Users/guy/miniforge3/envs/.venv/lib/python3.9/site-packages/sklearn/linear_model/_logistic.py:1483: UserWarning: Setting penalty='none' will ignore the C and l1_ratio parameters\n",
      "  warnings.warn(\n"
     ]
    },
    {
     "name": "stdout",
     "output_type": "stream",
     "text": [
      "[CV] END ...clf__C=0.1, clf__penalty=none, clf__solver=lbfgs; total time=   0.3s\n"
     ]
    },
    {
     "name": "stderr",
     "output_type": "stream",
     "text": [
      "/Users/guy/miniforge3/envs/.venv/lib/python3.9/site-packages/sklearn/linear_model/_logistic.py:1483: UserWarning: Setting penalty='none' will ignore the C and l1_ratio parameters\n",
      "  warnings.warn(\n"
     ]
    },
    {
     "name": "stdout",
     "output_type": "stream",
     "text": [
      "[CV] END ...clf__C=0.1, clf__penalty=none, clf__solver=lbfgs; total time=   0.3s\n"
     ]
    },
    {
     "name": "stderr",
     "output_type": "stream",
     "text": [
      "/Users/guy/miniforge3/envs/.venv/lib/python3.9/site-packages/sklearn/linear_model/_logistic.py:1483: UserWarning: Setting penalty='none' will ignore the C and l1_ratio parameters\n",
      "  warnings.warn(\n"
     ]
    },
    {
     "name": "stdout",
     "output_type": "stream",
     "text": [
      "[CV] END ...clf__C=0.1, clf__penalty=none, clf__solver=lbfgs; total time=   0.3s\n"
     ]
    },
    {
     "name": "stderr",
     "output_type": "stream",
     "text": [
      "/Users/guy/miniforge3/envs/.venv/lib/python3.9/site-packages/sklearn/linear_model/_logistic.py:1483: UserWarning: Setting penalty='none' will ignore the C and l1_ratio parameters\n",
      "  warnings.warn(\n"
     ]
    },
    {
     "name": "stdout",
     "output_type": "stream",
     "text": [
      "[CV] END ...clf__C=0.1, clf__penalty=none, clf__solver=lbfgs; total time=   0.2s\n",
      "[CV] END clf__C=0.1, clf__penalty=none, clf__solver=liblinear; total time=   0.0s\n",
      "[CV] END clf__C=0.1, clf__penalty=none, clf__solver=liblinear; total time=   0.0s\n",
      "[CV] END clf__C=0.1, clf__penalty=none, clf__solver=liblinear; total time=   0.0s\n",
      "[CV] END clf__C=0.1, clf__penalty=none, clf__solver=liblinear; total time=   0.0s\n",
      "[CV] END clf__C=0.1, clf__penalty=none, clf__solver=liblinear; total time=   0.0s\n",
      "[CV] END clf__C=0.1, clf__penalty=none, clf__solver=liblinear; total time=   0.0s\n",
      "[CV] END clf__C=0.1, clf__penalty=none, clf__solver=liblinear; total time=   0.0s\n",
      "[CV] END clf__C=0.1, clf__penalty=none, clf__solver=liblinear; total time=   0.0s\n",
      "[CV] END clf__C=0.1, clf__penalty=none, clf__solver=liblinear; total time=   0.0s\n",
      "[CV] END clf__C=0.1, clf__penalty=none, clf__solver=liblinear; total time=   0.0s\n",
      "[CV] END clf__C=0.1, clf__penalty=none, clf__solver=liblinear; total time=   0.0s\n",
      "[CV] END clf__C=0.1, clf__penalty=none, clf__solver=liblinear; total time=   0.0s\n",
      "[CV] END clf__C=0.1, clf__penalty=none, clf__solver=liblinear; total time=   0.0s\n",
      "[CV] END clf__C=0.1, clf__penalty=none, clf__solver=liblinear; total time=   0.0s\n",
      "[CV] END clf__C=0.1, clf__penalty=none, clf__solver=liblinear; total time=   0.0s\n"
     ]
    },
    {
     "name": "stderr",
     "output_type": "stream",
     "text": [
      "/Users/guy/miniforge3/envs/.venv/lib/python3.9/site-packages/sklearn/linear_model/_logistic.py:1483: UserWarning: Setting penalty='none' will ignore the C and l1_ratio parameters\n",
      "  warnings.warn(\n"
     ]
    },
    {
     "name": "stdout",
     "output_type": "stream",
     "text": [
      "[CV] END .....clf__C=0.1, clf__penalty=none, clf__solver=sag; total time=   0.7s\n"
     ]
    },
    {
     "name": "stderr",
     "output_type": "stream",
     "text": [
      "/Users/guy/miniforge3/envs/.venv/lib/python3.9/site-packages/sklearn/linear_model/_logistic.py:1483: UserWarning: Setting penalty='none' will ignore the C and l1_ratio parameters\n",
      "  warnings.warn(\n"
     ]
    },
    {
     "name": "stdout",
     "output_type": "stream",
     "text": [
      "[CV] END .....clf__C=0.1, clf__penalty=none, clf__solver=sag; total time=   1.2s\n"
     ]
    },
    {
     "name": "stderr",
     "output_type": "stream",
     "text": [
      "/Users/guy/miniforge3/envs/.venv/lib/python3.9/site-packages/sklearn/linear_model/_logistic.py:1483: UserWarning: Setting penalty='none' will ignore the C and l1_ratio parameters\n",
      "  warnings.warn(\n"
     ]
    },
    {
     "name": "stdout",
     "output_type": "stream",
     "text": [
      "[CV] END .....clf__C=0.1, clf__penalty=none, clf__solver=sag; total time=   1.1s\n"
     ]
    },
    {
     "name": "stderr",
     "output_type": "stream",
     "text": [
      "/Users/guy/miniforge3/envs/.venv/lib/python3.9/site-packages/sklearn/linear_model/_logistic.py:1483: UserWarning: Setting penalty='none' will ignore the C and l1_ratio parameters\n",
      "  warnings.warn(\n"
     ]
    },
    {
     "name": "stdout",
     "output_type": "stream",
     "text": [
      "[CV] END .....clf__C=0.1, clf__penalty=none, clf__solver=sag; total time=   1.0s\n"
     ]
    },
    {
     "name": "stderr",
     "output_type": "stream",
     "text": [
      "/Users/guy/miniforge3/envs/.venv/lib/python3.9/site-packages/sklearn/linear_model/_logistic.py:1483: UserWarning: Setting penalty='none' will ignore the C and l1_ratio parameters\n",
      "  warnings.warn(\n"
     ]
    },
    {
     "name": "stdout",
     "output_type": "stream",
     "text": [
      "[CV] END .....clf__C=0.1, clf__penalty=none, clf__solver=sag; total time=   1.0s\n"
     ]
    },
    {
     "name": "stderr",
     "output_type": "stream",
     "text": [
      "/Users/guy/miniforge3/envs/.venv/lib/python3.9/site-packages/sklearn/linear_model/_logistic.py:1483: UserWarning: Setting penalty='none' will ignore the C and l1_ratio parameters\n",
      "  warnings.warn(\n"
     ]
    },
    {
     "name": "stdout",
     "output_type": "stream",
     "text": [
      "[CV] END .....clf__C=0.1, clf__penalty=none, clf__solver=sag; total time=   1.2s\n"
     ]
    },
    {
     "name": "stderr",
     "output_type": "stream",
     "text": [
      "/Users/guy/miniforge3/envs/.venv/lib/python3.9/site-packages/sklearn/linear_model/_logistic.py:1483: UserWarning: Setting penalty='none' will ignore the C and l1_ratio parameters\n",
      "  warnings.warn(\n"
     ]
    },
    {
     "name": "stdout",
     "output_type": "stream",
     "text": [
      "[CV] END .....clf__C=0.1, clf__penalty=none, clf__solver=sag; total time=   0.7s\n"
     ]
    },
    {
     "name": "stderr",
     "output_type": "stream",
     "text": [
      "/Users/guy/miniforge3/envs/.venv/lib/python3.9/site-packages/sklearn/linear_model/_logistic.py:1483: UserWarning: Setting penalty='none' will ignore the C and l1_ratio parameters\n",
      "  warnings.warn(\n"
     ]
    },
    {
     "name": "stdout",
     "output_type": "stream",
     "text": [
      "[CV] END .....clf__C=0.1, clf__penalty=none, clf__solver=sag; total time=   1.1s\n"
     ]
    },
    {
     "name": "stderr",
     "output_type": "stream",
     "text": [
      "/Users/guy/miniforge3/envs/.venv/lib/python3.9/site-packages/sklearn/linear_model/_logistic.py:1483: UserWarning: Setting penalty='none' will ignore the C and l1_ratio parameters\n",
      "  warnings.warn(\n"
     ]
    },
    {
     "name": "stdout",
     "output_type": "stream",
     "text": [
      "[CV] END .....clf__C=0.1, clf__penalty=none, clf__solver=sag; total time=   1.2s\n"
     ]
    },
    {
     "name": "stderr",
     "output_type": "stream",
     "text": [
      "/Users/guy/miniforge3/envs/.venv/lib/python3.9/site-packages/sklearn/linear_model/_logistic.py:1483: UserWarning: Setting penalty='none' will ignore the C and l1_ratio parameters\n",
      "  warnings.warn(\n"
     ]
    },
    {
     "name": "stdout",
     "output_type": "stream",
     "text": [
      "[CV] END .....clf__C=0.1, clf__penalty=none, clf__solver=sag; total time=   1.1s\n"
     ]
    },
    {
     "name": "stderr",
     "output_type": "stream",
     "text": [
      "/Users/guy/miniforge3/envs/.venv/lib/python3.9/site-packages/sklearn/linear_model/_logistic.py:1483: UserWarning: Setting penalty='none' will ignore the C and l1_ratio parameters\n",
      "  warnings.warn(\n"
     ]
    },
    {
     "name": "stdout",
     "output_type": "stream",
     "text": [
      "[CV] END .....clf__C=0.1, clf__penalty=none, clf__solver=sag; total time=   1.1s\n"
     ]
    },
    {
     "name": "stderr",
     "output_type": "stream",
     "text": [
      "/Users/guy/miniforge3/envs/.venv/lib/python3.9/site-packages/sklearn/linear_model/_logistic.py:1483: UserWarning: Setting penalty='none' will ignore the C and l1_ratio parameters\n",
      "  warnings.warn(\n"
     ]
    },
    {
     "name": "stdout",
     "output_type": "stream",
     "text": [
      "[CV] END .....clf__C=0.1, clf__penalty=none, clf__solver=sag; total time=   1.2s\n"
     ]
    },
    {
     "name": "stderr",
     "output_type": "stream",
     "text": [
      "/Users/guy/miniforge3/envs/.venv/lib/python3.9/site-packages/sklearn/linear_model/_logistic.py:1483: UserWarning: Setting penalty='none' will ignore the C and l1_ratio parameters\n",
      "  warnings.warn(\n"
     ]
    },
    {
     "name": "stdout",
     "output_type": "stream",
     "text": [
      "[CV] END .....clf__C=0.1, clf__penalty=none, clf__solver=sag; total time=   1.2s\n"
     ]
    },
    {
     "name": "stderr",
     "output_type": "stream",
     "text": [
      "/Users/guy/miniforge3/envs/.venv/lib/python3.9/site-packages/sklearn/linear_model/_logistic.py:1483: UserWarning: Setting penalty='none' will ignore the C and l1_ratio parameters\n",
      "  warnings.warn(\n"
     ]
    },
    {
     "name": "stdout",
     "output_type": "stream",
     "text": [
      "[CV] END .....clf__C=0.1, clf__penalty=none, clf__solver=sag; total time=   1.3s\n"
     ]
    },
    {
     "name": "stderr",
     "output_type": "stream",
     "text": [
      "/Users/guy/miniforge3/envs/.venv/lib/python3.9/site-packages/sklearn/linear_model/_logistic.py:1483: UserWarning: Setting penalty='none' will ignore the C and l1_ratio parameters\n",
      "  warnings.warn(\n"
     ]
    },
    {
     "name": "stdout",
     "output_type": "stream",
     "text": [
      "[CV] END .....clf__C=0.1, clf__penalty=none, clf__solver=sag; total time=   0.7s\n",
      "[CV] END clf__C=0.11787686347935872, clf__penalty=l1, clf__solver=lbfgs; total time=   0.0s\n",
      "[CV] END clf__C=0.11787686347935872, clf__penalty=l1, clf__solver=lbfgs; total time=   0.0s\n",
      "[CV] END clf__C=0.11787686347935872, clf__penalty=l1, clf__solver=lbfgs; total time=   0.0s\n",
      "[CV] END clf__C=0.11787686347935872, clf__penalty=l1, clf__solver=lbfgs; total time=   0.0s\n",
      "[CV] END clf__C=0.11787686347935872, clf__penalty=l1, clf__solver=lbfgs; total time=   0.0s\n",
      "[CV] END clf__C=0.11787686347935872, clf__penalty=l1, clf__solver=lbfgs; total time=   0.0s\n",
      "[CV] END clf__C=0.11787686347935872, clf__penalty=l1, clf__solver=lbfgs; total time=   0.0s\n",
      "[CV] END clf__C=0.11787686347935872, clf__penalty=l1, clf__solver=lbfgs; total time=   0.0s\n",
      "[CV] END clf__C=0.11787686347935872, clf__penalty=l1, clf__solver=lbfgs; total time=   0.0s\n",
      "[CV] END clf__C=0.11787686347935872, clf__penalty=l1, clf__solver=lbfgs; total time=   0.0s\n",
      "[CV] END clf__C=0.11787686347935872, clf__penalty=l1, clf__solver=lbfgs; total time=   0.0s\n",
      "[CV] END clf__C=0.11787686347935872, clf__penalty=l1, clf__solver=lbfgs; total time=   0.0s\n",
      "[CV] END clf__C=0.11787686347935872, clf__penalty=l1, clf__solver=lbfgs; total time=   0.0s\n",
      "[CV] END clf__C=0.11787686347935872, clf__penalty=l1, clf__solver=lbfgs; total time=   0.0s\n",
      "[CV] END clf__C=0.11787686347935872, clf__penalty=l1, clf__solver=lbfgs; total time=   0.0s\n",
      "[CV] END clf__C=0.11787686347935872, clf__penalty=l1, clf__solver=liblinear; total time=   0.1s\n",
      "[CV] END clf__C=0.11787686347935872, clf__penalty=l1, clf__solver=liblinear; total time=   0.2s\n",
      "[CV] END clf__C=0.11787686347935872, clf__penalty=l1, clf__solver=liblinear; total time=   0.2s\n",
      "[CV] END clf__C=0.11787686347935872, clf__penalty=l1, clf__solver=liblinear; total time=   0.1s\n",
      "[CV] END clf__C=0.11787686347935872, clf__penalty=l1, clf__solver=liblinear; total time=   0.2s\n",
      "[CV] END clf__C=0.11787686347935872, clf__penalty=l1, clf__solver=liblinear; total time=   0.1s\n",
      "[CV] END clf__C=0.11787686347935872, clf__penalty=l1, clf__solver=liblinear; total time=   0.1s\n",
      "[CV] END clf__C=0.11787686347935872, clf__penalty=l1, clf__solver=liblinear; total time=   0.1s\n",
      "[CV] END clf__C=0.11787686347935872, clf__penalty=l1, clf__solver=liblinear; total time=   0.2s\n",
      "[CV] END clf__C=0.11787686347935872, clf__penalty=l1, clf__solver=liblinear; total time=   0.1s\n",
      "[CV] END clf__C=0.11787686347935872, clf__penalty=l1, clf__solver=liblinear; total time=   0.1s\n",
      "[CV] END clf__C=0.11787686347935872, clf__penalty=l1, clf__solver=liblinear; total time=   0.1s\n",
      "[CV] END clf__C=0.11787686347935872, clf__penalty=l1, clf__solver=liblinear; total time=   0.1s\n",
      "[CV] END clf__C=0.11787686347935872, clf__penalty=l1, clf__solver=liblinear; total time=   0.2s\n",
      "[CV] END clf__C=0.11787686347935872, clf__penalty=l1, clf__solver=liblinear; total time=   0.1s\n",
      "[CV] END clf__C=0.11787686347935872, clf__penalty=l1, clf__solver=sag; total time=   0.0s\n",
      "[CV] END clf__C=0.11787686347935872, clf__penalty=l1, clf__solver=sag; total time=   0.0s\n",
      "[CV] END clf__C=0.11787686347935872, clf__penalty=l1, clf__solver=sag; total time=   0.0s\n",
      "[CV] END clf__C=0.11787686347935872, clf__penalty=l1, clf__solver=sag; total time=   0.0s\n",
      "[CV] END clf__C=0.11787686347935872, clf__penalty=l1, clf__solver=sag; total time=   0.0s\n",
      "[CV] END clf__C=0.11787686347935872, clf__penalty=l1, clf__solver=sag; total time=   0.0s\n",
      "[CV] END clf__C=0.11787686347935872, clf__penalty=l1, clf__solver=sag; total time=   0.0s\n",
      "[CV] END clf__C=0.11787686347935872, clf__penalty=l1, clf__solver=sag; total time=   0.0s\n",
      "[CV] END clf__C=0.11787686347935872, clf__penalty=l1, clf__solver=sag; total time=   0.0s\n",
      "[CV] END clf__C=0.11787686347935872, clf__penalty=l1, clf__solver=sag; total time=   0.0s\n",
      "[CV] END clf__C=0.11787686347935872, clf__penalty=l1, clf__solver=sag; total time=   0.0s\n",
      "[CV] END clf__C=0.11787686347935872, clf__penalty=l1, clf__solver=sag; total time=   0.0s\n",
      "[CV] END clf__C=0.11787686347935872, clf__penalty=l1, clf__solver=sag; total time=   0.0s\n",
      "[CV] END clf__C=0.11787686347935872, clf__penalty=l1, clf__solver=sag; total time=   0.0s\n",
      "[CV] END clf__C=0.11787686347935872, clf__penalty=l1, clf__solver=sag; total time=   0.0s\n",
      "[CV] END clf__C=0.11787686347935872, clf__penalty=l2, clf__solver=lbfgs; total time=   0.1s\n",
      "[CV] END clf__C=0.11787686347935872, clf__penalty=l2, clf__solver=lbfgs; total time=   0.1s\n",
      "[CV] END clf__C=0.11787686347935872, clf__penalty=l2, clf__solver=lbfgs; total time=   0.1s\n",
      "[CV] END clf__C=0.11787686347935872, clf__penalty=l2, clf__solver=lbfgs; total time=   0.1s\n",
      "[CV] END clf__C=0.11787686347935872, clf__penalty=l2, clf__solver=lbfgs; total time=   0.1s\n",
      "[CV] END clf__C=0.11787686347935872, clf__penalty=l2, clf__solver=lbfgs; total time=   0.1s\n",
      "[CV] END clf__C=0.11787686347935872, clf__penalty=l2, clf__solver=lbfgs; total time=   0.1s\n",
      "[CV] END clf__C=0.11787686347935872, clf__penalty=l2, clf__solver=lbfgs; total time=   0.1s\n",
      "[CV] END clf__C=0.11787686347935872, clf__penalty=l2, clf__solver=lbfgs; total time=   0.1s\n",
      "[CV] END clf__C=0.11787686347935872, clf__penalty=l2, clf__solver=lbfgs; total time=   0.1s\n",
      "[CV] END clf__C=0.11787686347935872, clf__penalty=l2, clf__solver=lbfgs; total time=   0.1s\n",
      "[CV] END clf__C=0.11787686347935872, clf__penalty=l2, clf__solver=lbfgs; total time=   0.1s\n",
      "[CV] END clf__C=0.11787686347935872, clf__penalty=l2, clf__solver=lbfgs; total time=   0.1s\n",
      "[CV] END clf__C=0.11787686347935872, clf__penalty=l2, clf__solver=lbfgs; total time=   0.1s\n",
      "[CV] END clf__C=0.11787686347935872, clf__penalty=l2, clf__solver=lbfgs; total time=   0.1s\n",
      "[CV] END clf__C=0.11787686347935872, clf__penalty=l2, clf__solver=liblinear; total time=   0.1s\n",
      "[CV] END clf__C=0.11787686347935872, clf__penalty=l2, clf__solver=liblinear; total time=   0.1s\n",
      "[CV] END clf__C=0.11787686347935872, clf__penalty=l2, clf__solver=liblinear; total time=   0.1s\n",
      "[CV] END clf__C=0.11787686347935872, clf__penalty=l2, clf__solver=liblinear; total time=   0.1s\n",
      "[CV] END clf__C=0.11787686347935872, clf__penalty=l2, clf__solver=liblinear; total time=   0.1s\n",
      "[CV] END clf__C=0.11787686347935872, clf__penalty=l2, clf__solver=liblinear; total time=   0.1s\n",
      "[CV] END clf__C=0.11787686347935872, clf__penalty=l2, clf__solver=liblinear; total time=   0.1s\n",
      "[CV] END clf__C=0.11787686347935872, clf__penalty=l2, clf__solver=liblinear; total time=   0.1s\n",
      "[CV] END clf__C=0.11787686347935872, clf__penalty=l2, clf__solver=liblinear; total time=   0.1s\n",
      "[CV] END clf__C=0.11787686347935872, clf__penalty=l2, clf__solver=liblinear; total time=   0.1s\n",
      "[CV] END clf__C=0.11787686347935872, clf__penalty=l2, clf__solver=liblinear; total time=   0.1s\n",
      "[CV] END clf__C=0.11787686347935872, clf__penalty=l2, clf__solver=liblinear; total time=   0.1s\n",
      "[CV] END clf__C=0.11787686347935872, clf__penalty=l2, clf__solver=liblinear; total time=   0.1s\n",
      "[CV] END clf__C=0.11787686347935872, clf__penalty=l2, clf__solver=liblinear; total time=   0.1s\n",
      "[CV] END clf__C=0.11787686347935872, clf__penalty=l2, clf__solver=liblinear; total time=   0.1s\n",
      "[CV] END clf__C=0.11787686347935872, clf__penalty=l2, clf__solver=sag; total time=   0.1s\n",
      "[CV] END clf__C=0.11787686347935872, clf__penalty=l2, clf__solver=sag; total time=   0.1s\n",
      "[CV] END clf__C=0.11787686347935872, clf__penalty=l2, clf__solver=sag; total time=   0.1s\n",
      "[CV] END clf__C=0.11787686347935872, clf__penalty=l2, clf__solver=sag; total time=   0.1s\n",
      "[CV] END clf__C=0.11787686347935872, clf__penalty=l2, clf__solver=sag; total time=   0.1s\n",
      "[CV] END clf__C=0.11787686347935872, clf__penalty=l2, clf__solver=sag; total time=   0.1s\n",
      "[CV] END clf__C=0.11787686347935872, clf__penalty=l2, clf__solver=sag; total time=   0.1s\n",
      "[CV] END clf__C=0.11787686347935872, clf__penalty=l2, clf__solver=sag; total time=   0.1s\n",
      "[CV] END clf__C=0.11787686347935872, clf__penalty=l2, clf__solver=sag; total time=   0.1s\n",
      "[CV] END clf__C=0.11787686347935872, clf__penalty=l2, clf__solver=sag; total time=   0.1s\n",
      "[CV] END clf__C=0.11787686347935872, clf__penalty=l2, clf__solver=sag; total time=   0.1s\n",
      "[CV] END clf__C=0.11787686347935872, clf__penalty=l2, clf__solver=sag; total time=   0.1s\n",
      "[CV] END clf__C=0.11787686347935872, clf__penalty=l2, clf__solver=sag; total time=   0.1s\n"
     ]
    },
    {
     "name": "stdout",
     "output_type": "stream",
     "text": [
      "[CV] END clf__C=0.11787686347935872, clf__penalty=l2, clf__solver=sag; total time=   0.2s\n",
      "[CV] END clf__C=0.11787686347935872, clf__penalty=l2, clf__solver=sag; total time=   0.1s\n"
     ]
    },
    {
     "name": "stderr",
     "output_type": "stream",
     "text": [
      "/Users/guy/miniforge3/envs/.venv/lib/python3.9/site-packages/sklearn/linear_model/_logistic.py:1483: UserWarning: Setting penalty='none' will ignore the C and l1_ratio parameters\n",
      "  warnings.warn(\n"
     ]
    },
    {
     "name": "stdout",
     "output_type": "stream",
     "text": [
      "[CV] END clf__C=0.11787686347935872, clf__penalty=none, clf__solver=lbfgs; total time=   0.2s\n"
     ]
    },
    {
     "name": "stderr",
     "output_type": "stream",
     "text": [
      "/Users/guy/miniforge3/envs/.venv/lib/python3.9/site-packages/sklearn/linear_model/_logistic.py:1483: UserWarning: Setting penalty='none' will ignore the C and l1_ratio parameters\n",
      "  warnings.warn(\n"
     ]
    },
    {
     "name": "stdout",
     "output_type": "stream",
     "text": [
      "[CV] END clf__C=0.11787686347935872, clf__penalty=none, clf__solver=lbfgs; total time=   0.3s\n"
     ]
    },
    {
     "name": "stderr",
     "output_type": "stream",
     "text": [
      "/Users/guy/miniforge3/envs/.venv/lib/python3.9/site-packages/sklearn/linear_model/_logistic.py:1483: UserWarning: Setting penalty='none' will ignore the C and l1_ratio parameters\n",
      "  warnings.warn(\n"
     ]
    },
    {
     "name": "stdout",
     "output_type": "stream",
     "text": [
      "[CV] END clf__C=0.11787686347935872, clf__penalty=none, clf__solver=lbfgs; total time=   0.4s\n"
     ]
    },
    {
     "name": "stderr",
     "output_type": "stream",
     "text": [
      "/Users/guy/miniforge3/envs/.venv/lib/python3.9/site-packages/sklearn/linear_model/_logistic.py:1483: UserWarning: Setting penalty='none' will ignore the C and l1_ratio parameters\n",
      "  warnings.warn(\n"
     ]
    },
    {
     "name": "stdout",
     "output_type": "stream",
     "text": [
      "[CV] END clf__C=0.11787686347935872, clf__penalty=none, clf__solver=lbfgs; total time=   0.3s\n"
     ]
    },
    {
     "name": "stderr",
     "output_type": "stream",
     "text": [
      "/Users/guy/miniforge3/envs/.venv/lib/python3.9/site-packages/sklearn/linear_model/_logistic.py:1483: UserWarning: Setting penalty='none' will ignore the C and l1_ratio parameters\n",
      "  warnings.warn(\n"
     ]
    },
    {
     "name": "stdout",
     "output_type": "stream",
     "text": [
      "[CV] END clf__C=0.11787686347935872, clf__penalty=none, clf__solver=lbfgs; total time=   0.3s\n"
     ]
    },
    {
     "name": "stderr",
     "output_type": "stream",
     "text": [
      "/Users/guy/miniforge3/envs/.venv/lib/python3.9/site-packages/sklearn/linear_model/_logistic.py:1483: UserWarning: Setting penalty='none' will ignore the C and l1_ratio parameters\n",
      "  warnings.warn(\n"
     ]
    },
    {
     "name": "stdout",
     "output_type": "stream",
     "text": [
      "[CV] END clf__C=0.11787686347935872, clf__penalty=none, clf__solver=lbfgs; total time=   0.4s\n"
     ]
    },
    {
     "name": "stderr",
     "output_type": "stream",
     "text": [
      "/Users/guy/miniforge3/envs/.venv/lib/python3.9/site-packages/sklearn/linear_model/_logistic.py:1483: UserWarning: Setting penalty='none' will ignore the C and l1_ratio parameters\n",
      "  warnings.warn(\n"
     ]
    },
    {
     "name": "stdout",
     "output_type": "stream",
     "text": [
      "[CV] END clf__C=0.11787686347935872, clf__penalty=none, clf__solver=lbfgs; total time=   0.2s\n"
     ]
    },
    {
     "name": "stderr",
     "output_type": "stream",
     "text": [
      "/Users/guy/miniforge3/envs/.venv/lib/python3.9/site-packages/sklearn/linear_model/_logistic.py:1483: UserWarning: Setting penalty='none' will ignore the C and l1_ratio parameters\n",
      "  warnings.warn(\n"
     ]
    },
    {
     "name": "stdout",
     "output_type": "stream",
     "text": [
      "[CV] END clf__C=0.11787686347935872, clf__penalty=none, clf__solver=lbfgs; total time=   0.3s\n"
     ]
    },
    {
     "name": "stderr",
     "output_type": "stream",
     "text": [
      "/Users/guy/miniforge3/envs/.venv/lib/python3.9/site-packages/sklearn/linear_model/_logistic.py:1483: UserWarning: Setting penalty='none' will ignore the C and l1_ratio parameters\n",
      "  warnings.warn(\n"
     ]
    },
    {
     "name": "stdout",
     "output_type": "stream",
     "text": [
      "[CV] END clf__C=0.11787686347935872, clf__penalty=none, clf__solver=lbfgs; total time=   0.3s\n"
     ]
    },
    {
     "name": "stderr",
     "output_type": "stream",
     "text": [
      "/Users/guy/miniforge3/envs/.venv/lib/python3.9/site-packages/sklearn/linear_model/_logistic.py:1483: UserWarning: Setting penalty='none' will ignore the C and l1_ratio parameters\n",
      "  warnings.warn(\n"
     ]
    },
    {
     "name": "stdout",
     "output_type": "stream",
     "text": [
      "[CV] END clf__C=0.11787686347935872, clf__penalty=none, clf__solver=lbfgs; total time=   0.3s\n"
     ]
    },
    {
     "name": "stderr",
     "output_type": "stream",
     "text": [
      "/Users/guy/miniforge3/envs/.venv/lib/python3.9/site-packages/sklearn/linear_model/_logistic.py:1483: UserWarning: Setting penalty='none' will ignore the C and l1_ratio parameters\n",
      "  warnings.warn(\n"
     ]
    },
    {
     "name": "stdout",
     "output_type": "stream",
     "text": [
      "[CV] END clf__C=0.11787686347935872, clf__penalty=none, clf__solver=lbfgs; total time=   0.3s\n"
     ]
    },
    {
     "name": "stderr",
     "output_type": "stream",
     "text": [
      "/Users/guy/miniforge3/envs/.venv/lib/python3.9/site-packages/sklearn/linear_model/_logistic.py:1483: UserWarning: Setting penalty='none' will ignore the C and l1_ratio parameters\n",
      "  warnings.warn(\n"
     ]
    },
    {
     "name": "stdout",
     "output_type": "stream",
     "text": [
      "[CV] END clf__C=0.11787686347935872, clf__penalty=none, clf__solver=lbfgs; total time=   0.3s\n"
     ]
    },
    {
     "name": "stderr",
     "output_type": "stream",
     "text": [
      "/Users/guy/miniforge3/envs/.venv/lib/python3.9/site-packages/sklearn/linear_model/_logistic.py:1483: UserWarning: Setting penalty='none' will ignore the C and l1_ratio parameters\n",
      "  warnings.warn(\n"
     ]
    },
    {
     "name": "stdout",
     "output_type": "stream",
     "text": [
      "[CV] END clf__C=0.11787686347935872, clf__penalty=none, clf__solver=lbfgs; total time=   0.3s\n"
     ]
    },
    {
     "name": "stderr",
     "output_type": "stream",
     "text": [
      "/Users/guy/miniforge3/envs/.venv/lib/python3.9/site-packages/sklearn/linear_model/_logistic.py:1483: UserWarning: Setting penalty='none' will ignore the C and l1_ratio parameters\n",
      "  warnings.warn(\n"
     ]
    },
    {
     "name": "stdout",
     "output_type": "stream",
     "text": [
      "[CV] END clf__C=0.11787686347935872, clf__penalty=none, clf__solver=lbfgs; total time=   0.4s\n"
     ]
    },
    {
     "name": "stderr",
     "output_type": "stream",
     "text": [
      "/Users/guy/miniforge3/envs/.venv/lib/python3.9/site-packages/sklearn/linear_model/_logistic.py:1483: UserWarning: Setting penalty='none' will ignore the C and l1_ratio parameters\n",
      "  warnings.warn(\n"
     ]
    },
    {
     "name": "stdout",
     "output_type": "stream",
     "text": [
      "[CV] END clf__C=0.11787686347935872, clf__penalty=none, clf__solver=lbfgs; total time=   0.2s\n",
      "[CV] END clf__C=0.11787686347935872, clf__penalty=none, clf__solver=liblinear; total time=   0.0s\n",
      "[CV] END clf__C=0.11787686347935872, clf__penalty=none, clf__solver=liblinear; total time=   0.0s\n",
      "[CV] END clf__C=0.11787686347935872, clf__penalty=none, clf__solver=liblinear; total time=   0.0s\n",
      "[CV] END clf__C=0.11787686347935872, clf__penalty=none, clf__solver=liblinear; total time=   0.0s\n",
      "[CV] END clf__C=0.11787686347935872, clf__penalty=none, clf__solver=liblinear; total time=   0.0s\n",
      "[CV] END clf__C=0.11787686347935872, clf__penalty=none, clf__solver=liblinear; total time=   0.0s\n",
      "[CV] END clf__C=0.11787686347935872, clf__penalty=none, clf__solver=liblinear; total time=   0.0s\n",
      "[CV] END clf__C=0.11787686347935872, clf__penalty=none, clf__solver=liblinear; total time=   0.0s\n",
      "[CV] END clf__C=0.11787686347935872, clf__penalty=none, clf__solver=liblinear; total time=   0.0s\n",
      "[CV] END clf__C=0.11787686347935872, clf__penalty=none, clf__solver=liblinear; total time=   0.0s\n",
      "[CV] END clf__C=0.11787686347935872, clf__penalty=none, clf__solver=liblinear; total time=   0.0s\n",
      "[CV] END clf__C=0.11787686347935872, clf__penalty=none, clf__solver=liblinear; total time=   0.0s\n",
      "[CV] END clf__C=0.11787686347935872, clf__penalty=none, clf__solver=liblinear; total time=   0.0s\n",
      "[CV] END clf__C=0.11787686347935872, clf__penalty=none, clf__solver=liblinear; total time=   0.0s\n",
      "[CV] END clf__C=0.11787686347935872, clf__penalty=none, clf__solver=liblinear; total time=   0.0s\n"
     ]
    },
    {
     "name": "stderr",
     "output_type": "stream",
     "text": [
      "/Users/guy/miniforge3/envs/.venv/lib/python3.9/site-packages/sklearn/linear_model/_logistic.py:1483: UserWarning: Setting penalty='none' will ignore the C and l1_ratio parameters\n",
      "  warnings.warn(\n"
     ]
    },
    {
     "name": "stdout",
     "output_type": "stream",
     "text": [
      "[CV] END clf__C=0.11787686347935872, clf__penalty=none, clf__solver=sag; total time=   0.7s\n"
     ]
    },
    {
     "name": "stderr",
     "output_type": "stream",
     "text": [
      "/Users/guy/miniforge3/envs/.venv/lib/python3.9/site-packages/sklearn/linear_model/_logistic.py:1483: UserWarning: Setting penalty='none' will ignore the C and l1_ratio parameters\n",
      "  warnings.warn(\n"
     ]
    },
    {
     "name": "stdout",
     "output_type": "stream",
     "text": [
      "[CV] END clf__C=0.11787686347935872, clf__penalty=none, clf__solver=sag; total time=   1.2s\n"
     ]
    },
    {
     "name": "stderr",
     "output_type": "stream",
     "text": [
      "/Users/guy/miniforge3/envs/.venv/lib/python3.9/site-packages/sklearn/linear_model/_logistic.py:1483: UserWarning: Setting penalty='none' will ignore the C and l1_ratio parameters\n",
      "  warnings.warn(\n"
     ]
    },
    {
     "name": "stdout",
     "output_type": "stream",
     "text": [
      "[CV] END clf__C=0.11787686347935872, clf__penalty=none, clf__solver=sag; total time=   1.2s\n"
     ]
    },
    {
     "name": "stderr",
     "output_type": "stream",
     "text": [
      "/Users/guy/miniforge3/envs/.venv/lib/python3.9/site-packages/sklearn/linear_model/_logistic.py:1483: UserWarning: Setting penalty='none' will ignore the C and l1_ratio parameters\n",
      "  warnings.warn(\n"
     ]
    },
    {
     "name": "stdout",
     "output_type": "stream",
     "text": [
      "[CV] END clf__C=0.11787686347935872, clf__penalty=none, clf__solver=sag; total time=   1.0s\n"
     ]
    },
    {
     "name": "stderr",
     "output_type": "stream",
     "text": [
      "/Users/guy/miniforge3/envs/.venv/lib/python3.9/site-packages/sklearn/linear_model/_logistic.py:1483: UserWarning: Setting penalty='none' will ignore the C and l1_ratio parameters\n",
      "  warnings.warn(\n"
     ]
    },
    {
     "name": "stdout",
     "output_type": "stream",
     "text": [
      "[CV] END clf__C=0.11787686347935872, clf__penalty=none, clf__solver=sag; total time=   1.0s\n"
     ]
    },
    {
     "name": "stderr",
     "output_type": "stream",
     "text": [
      "/Users/guy/miniforge3/envs/.venv/lib/python3.9/site-packages/sklearn/linear_model/_logistic.py:1483: UserWarning: Setting penalty='none' will ignore the C and l1_ratio parameters\n",
      "  warnings.warn(\n"
     ]
    },
    {
     "name": "stdout",
     "output_type": "stream",
     "text": [
      "[CV] END clf__C=0.11787686347935872, clf__penalty=none, clf__solver=sag; total time=   1.2s\n"
     ]
    },
    {
     "name": "stderr",
     "output_type": "stream",
     "text": [
      "/Users/guy/miniforge3/envs/.venv/lib/python3.9/site-packages/sklearn/linear_model/_logistic.py:1483: UserWarning: Setting penalty='none' will ignore the C and l1_ratio parameters\n",
      "  warnings.warn(\n"
     ]
    },
    {
     "name": "stdout",
     "output_type": "stream",
     "text": [
      "[CV] END clf__C=0.11787686347935872, clf__penalty=none, clf__solver=sag; total time=   0.7s\n"
     ]
    },
    {
     "name": "stderr",
     "output_type": "stream",
     "text": [
      "/Users/guy/miniforge3/envs/.venv/lib/python3.9/site-packages/sklearn/linear_model/_logistic.py:1483: UserWarning: Setting penalty='none' will ignore the C and l1_ratio parameters\n",
      "  warnings.warn(\n"
     ]
    },
    {
     "name": "stdout",
     "output_type": "stream",
     "text": [
      "[CV] END clf__C=0.11787686347935872, clf__penalty=none, clf__solver=sag; total time=   1.1s\n"
     ]
    },
    {
     "name": "stderr",
     "output_type": "stream",
     "text": [
      "/Users/guy/miniforge3/envs/.venv/lib/python3.9/site-packages/sklearn/linear_model/_logistic.py:1483: UserWarning: Setting penalty='none' will ignore the C and l1_ratio parameters\n",
      "  warnings.warn(\n"
     ]
    },
    {
     "name": "stdout",
     "output_type": "stream",
     "text": [
      "[CV] END clf__C=0.11787686347935872, clf__penalty=none, clf__solver=sag; total time=   1.2s\n"
     ]
    },
    {
     "name": "stderr",
     "output_type": "stream",
     "text": [
      "/Users/guy/miniforge3/envs/.venv/lib/python3.9/site-packages/sklearn/linear_model/_logistic.py:1483: UserWarning: Setting penalty='none' will ignore the C and l1_ratio parameters\n",
      "  warnings.warn(\n"
     ]
    },
    {
     "name": "stdout",
     "output_type": "stream",
     "text": [
      "[CV] END clf__C=0.11787686347935872, clf__penalty=none, clf__solver=sag; total time=   1.0s\n"
     ]
    },
    {
     "name": "stderr",
     "output_type": "stream",
     "text": [
      "/Users/guy/miniforge3/envs/.venv/lib/python3.9/site-packages/sklearn/linear_model/_logistic.py:1483: UserWarning: Setting penalty='none' will ignore the C and l1_ratio parameters\n",
      "  warnings.warn(\n"
     ]
    },
    {
     "name": "stdout",
     "output_type": "stream",
     "text": [
      "[CV] END clf__C=0.11787686347935872, clf__penalty=none, clf__solver=sag; total time=   1.1s\n"
     ]
    },
    {
     "name": "stderr",
     "output_type": "stream",
     "text": [
      "/Users/guy/miniforge3/envs/.venv/lib/python3.9/site-packages/sklearn/linear_model/_logistic.py:1483: UserWarning: Setting penalty='none' will ignore the C and l1_ratio parameters\n",
      "  warnings.warn(\n"
     ]
    },
    {
     "name": "stdout",
     "output_type": "stream",
     "text": [
      "[CV] END clf__C=0.11787686347935872, clf__penalty=none, clf__solver=sag; total time=   1.2s\n"
     ]
    },
    {
     "name": "stderr",
     "output_type": "stream",
     "text": [
      "/Users/guy/miniforge3/envs/.venv/lib/python3.9/site-packages/sklearn/linear_model/_logistic.py:1483: UserWarning: Setting penalty='none' will ignore the C and l1_ratio parameters\n",
      "  warnings.warn(\n"
     ]
    },
    {
     "name": "stdout",
     "output_type": "stream",
     "text": [
      "[CV] END clf__C=0.11787686347935872, clf__penalty=none, clf__solver=sag; total time=   1.2s\n"
     ]
    },
    {
     "name": "stderr",
     "output_type": "stream",
     "text": [
      "/Users/guy/miniforge3/envs/.venv/lib/python3.9/site-packages/sklearn/linear_model/_logistic.py:1483: UserWarning: Setting penalty='none' will ignore the C and l1_ratio parameters\n",
      "  warnings.warn(\n"
     ]
    },
    {
     "name": "stdout",
     "output_type": "stream",
     "text": [
      "[CV] END clf__C=0.11787686347935872, clf__penalty=none, clf__solver=sag; total time=   1.2s\n"
     ]
    },
    {
     "name": "stderr",
     "output_type": "stream",
     "text": [
      "/Users/guy/miniforge3/envs/.venv/lib/python3.9/site-packages/sklearn/linear_model/_logistic.py:1483: UserWarning: Setting penalty='none' will ignore the C and l1_ratio parameters\n",
      "  warnings.warn(\n"
     ]
    },
    {
     "name": "stdout",
     "output_type": "stream",
     "text": [
      "[CV] END clf__C=0.11787686347935872, clf__penalty=none, clf__solver=sag; total time=   0.7s\n",
      "[CV] END clf__C=0.13894954943731375, clf__penalty=l1, clf__solver=lbfgs; total time=   0.0s\n",
      "[CV] END clf__C=0.13894954943731375, clf__penalty=l1, clf__solver=lbfgs; total time=   0.0s\n",
      "[CV] END clf__C=0.13894954943731375, clf__penalty=l1, clf__solver=lbfgs; total time=   0.0s\n",
      "[CV] END clf__C=0.13894954943731375, clf__penalty=l1, clf__solver=lbfgs; total time=   0.0s\n",
      "[CV] END clf__C=0.13894954943731375, clf__penalty=l1, clf__solver=lbfgs; total time=   0.0s\n",
      "[CV] END clf__C=0.13894954943731375, clf__penalty=l1, clf__solver=lbfgs; total time=   0.0s\n",
      "[CV] END clf__C=0.13894954943731375, clf__penalty=l1, clf__solver=lbfgs; total time=   0.0s\n",
      "[CV] END clf__C=0.13894954943731375, clf__penalty=l1, clf__solver=lbfgs; total time=   0.0s\n",
      "[CV] END clf__C=0.13894954943731375, clf__penalty=l1, clf__solver=lbfgs; total time=   0.0s\n",
      "[CV] END clf__C=0.13894954943731375, clf__penalty=l1, clf__solver=lbfgs; total time=   0.0s\n",
      "[CV] END clf__C=0.13894954943731375, clf__penalty=l1, clf__solver=lbfgs; total time=   0.0s\n",
      "[CV] END clf__C=0.13894954943731375, clf__penalty=l1, clf__solver=lbfgs; total time=   0.0s\n",
      "[CV] END clf__C=0.13894954943731375, clf__penalty=l1, clf__solver=lbfgs; total time=   0.0s\n",
      "[CV] END clf__C=0.13894954943731375, clf__penalty=l1, clf__solver=lbfgs; total time=   0.0s\n",
      "[CV] END clf__C=0.13894954943731375, clf__penalty=l1, clf__solver=lbfgs; total time=   0.0s\n",
      "[CV] END clf__C=0.13894954943731375, clf__penalty=l1, clf__solver=liblinear; total time=   0.1s\n",
      "[CV] END clf__C=0.13894954943731375, clf__penalty=l1, clf__solver=liblinear; total time=   0.2s\n",
      "[CV] END clf__C=0.13894954943731375, clf__penalty=l1, clf__solver=liblinear; total time=   0.2s\n",
      "[CV] END clf__C=0.13894954943731375, clf__penalty=l1, clf__solver=liblinear; total time=   0.2s\n",
      "[CV] END clf__C=0.13894954943731375, clf__penalty=l1, clf__solver=liblinear; total time=   0.2s\n",
      "[CV] END clf__C=0.13894954943731375, clf__penalty=l1, clf__solver=liblinear; total time=   0.2s\n",
      "[CV] END clf__C=0.13894954943731375, clf__penalty=l1, clf__solver=liblinear; total time=   0.2s\n",
      "[CV] END clf__C=0.13894954943731375, clf__penalty=l1, clf__solver=liblinear; total time=   0.2s\n",
      "[CV] END clf__C=0.13894954943731375, clf__penalty=l1, clf__solver=liblinear; total time=   0.2s\n",
      "[CV] END clf__C=0.13894954943731375, clf__penalty=l1, clf__solver=liblinear; total time=   0.2s\n",
      "[CV] END clf__C=0.13894954943731375, clf__penalty=l1, clf__solver=liblinear; total time=   0.2s\n",
      "[CV] END clf__C=0.13894954943731375, clf__penalty=l1, clf__solver=liblinear; total time=   0.1s\n",
      "[CV] END clf__C=0.13894954943731375, clf__penalty=l1, clf__solver=liblinear; total time=   0.2s\n",
      "[CV] END clf__C=0.13894954943731375, clf__penalty=l1, clf__solver=liblinear; total time=   0.2s\n",
      "[CV] END clf__C=0.13894954943731375, clf__penalty=l1, clf__solver=liblinear; total time=   0.2s\n",
      "[CV] END clf__C=0.13894954943731375, clf__penalty=l1, clf__solver=sag; total time=   0.0s\n",
      "[CV] END clf__C=0.13894954943731375, clf__penalty=l1, clf__solver=sag; total time=   0.0s\n",
      "[CV] END clf__C=0.13894954943731375, clf__penalty=l1, clf__solver=sag; total time=   0.0s\n",
      "[CV] END clf__C=0.13894954943731375, clf__penalty=l1, clf__solver=sag; total time=   0.0s\n",
      "[CV] END clf__C=0.13894954943731375, clf__penalty=l1, clf__solver=sag; total time=   0.0s\n",
      "[CV] END clf__C=0.13894954943731375, clf__penalty=l1, clf__solver=sag; total time=   0.0s\n",
      "[CV] END clf__C=0.13894954943731375, clf__penalty=l1, clf__solver=sag; total time=   0.0s\n",
      "[CV] END clf__C=0.13894954943731375, clf__penalty=l1, clf__solver=sag; total time=   0.0s\n",
      "[CV] END clf__C=0.13894954943731375, clf__penalty=l1, clf__solver=sag; total time=   0.0s\n",
      "[CV] END clf__C=0.13894954943731375, clf__penalty=l1, clf__solver=sag; total time=   0.0s\n",
      "[CV] END clf__C=0.13894954943731375, clf__penalty=l1, clf__solver=sag; total time=   0.0s\n",
      "[CV] END clf__C=0.13894954943731375, clf__penalty=l1, clf__solver=sag; total time=   0.0s\n",
      "[CV] END clf__C=0.13894954943731375, clf__penalty=l1, clf__solver=sag; total time=   0.0s\n",
      "[CV] END clf__C=0.13894954943731375, clf__penalty=l1, clf__solver=sag; total time=   0.0s\n",
      "[CV] END clf__C=0.13894954943731375, clf__penalty=l1, clf__solver=sag; total time=   0.0s\n",
      "[CV] END clf__C=0.13894954943731375, clf__penalty=l2, clf__solver=lbfgs; total time=   0.1s\n",
      "[CV] END clf__C=0.13894954943731375, clf__penalty=l2, clf__solver=lbfgs; total time=   0.1s\n",
      "[CV] END clf__C=0.13894954943731375, clf__penalty=l2, clf__solver=lbfgs; total time=   0.1s\n",
      "[CV] END clf__C=0.13894954943731375, clf__penalty=l2, clf__solver=lbfgs; total time=   0.1s\n",
      "[CV] END clf__C=0.13894954943731375, clf__penalty=l2, clf__solver=lbfgs; total time=   0.1s\n",
      "[CV] END clf__C=0.13894954943731375, clf__penalty=l2, clf__solver=lbfgs; total time=   0.1s\n",
      "[CV] END clf__C=0.13894954943731375, clf__penalty=l2, clf__solver=lbfgs; total time=   0.1s\n",
      "[CV] END clf__C=0.13894954943731375, clf__penalty=l2, clf__solver=lbfgs; total time=   0.1s\n",
      "[CV] END clf__C=0.13894954943731375, clf__penalty=l2, clf__solver=lbfgs; total time=   0.1s\n",
      "[CV] END clf__C=0.13894954943731375, clf__penalty=l2, clf__solver=lbfgs; total time=   0.1s\n",
      "[CV] END clf__C=0.13894954943731375, clf__penalty=l2, clf__solver=lbfgs; total time=   0.1s\n",
      "[CV] END clf__C=0.13894954943731375, clf__penalty=l2, clf__solver=lbfgs; total time=   0.1s\n",
      "[CV] END clf__C=0.13894954943731375, clf__penalty=l2, clf__solver=lbfgs; total time=   0.1s\n",
      "[CV] END clf__C=0.13894954943731375, clf__penalty=l2, clf__solver=lbfgs; total time=   0.1s\n",
      "[CV] END clf__C=0.13894954943731375, clf__penalty=l2, clf__solver=lbfgs; total time=   0.1s\n",
      "[CV] END clf__C=0.13894954943731375, clf__penalty=l2, clf__solver=liblinear; total time=   0.1s\n",
      "[CV] END clf__C=0.13894954943731375, clf__penalty=l2, clf__solver=liblinear; total time=   0.1s\n",
      "[CV] END clf__C=0.13894954943731375, clf__penalty=l2, clf__solver=liblinear; total time=   0.1s\n",
      "[CV] END clf__C=0.13894954943731375, clf__penalty=l2, clf__solver=liblinear; total time=   0.1s\n",
      "[CV] END clf__C=0.13894954943731375, clf__penalty=l2, clf__solver=liblinear; total time=   0.1s\n",
      "[CV] END clf__C=0.13894954943731375, clf__penalty=l2, clf__solver=liblinear; total time=   0.1s\n",
      "[CV] END clf__C=0.13894954943731375, clf__penalty=l2, clf__solver=liblinear; total time=   0.1s\n",
      "[CV] END clf__C=0.13894954943731375, clf__penalty=l2, clf__solver=liblinear; total time=   0.1s\n",
      "[CV] END clf__C=0.13894954943731375, clf__penalty=l2, clf__solver=liblinear; total time=   0.1s\n",
      "[CV] END clf__C=0.13894954943731375, clf__penalty=l2, clf__solver=liblinear; total time=   0.1s\n",
      "[CV] END clf__C=0.13894954943731375, clf__penalty=l2, clf__solver=liblinear; total time=   0.1s\n",
      "[CV] END clf__C=0.13894954943731375, clf__penalty=l2, clf__solver=liblinear; total time=   0.1s\n",
      "[CV] END clf__C=0.13894954943731375, clf__penalty=l2, clf__solver=liblinear; total time=   0.1s\n",
      "[CV] END clf__C=0.13894954943731375, clf__penalty=l2, clf__solver=liblinear; total time=   0.1s\n",
      "[CV] END clf__C=0.13894954943731375, clf__penalty=l2, clf__solver=liblinear; total time=   0.1s\n",
      "[CV] END clf__C=0.13894954943731375, clf__penalty=l2, clf__solver=sag; total time=   0.2s\n",
      "[CV] END clf__C=0.13894954943731375, clf__penalty=l2, clf__solver=sag; total time=   0.2s\n",
      "[CV] END clf__C=0.13894954943731375, clf__penalty=l2, clf__solver=sag; total time=   0.1s\n",
      "[CV] END clf__C=0.13894954943731375, clf__penalty=l2, clf__solver=sag; total time=   0.2s\n",
      "[CV] END clf__C=0.13894954943731375, clf__penalty=l2, clf__solver=sag; total time=   0.2s\n",
      "[CV] END clf__C=0.13894954943731375, clf__penalty=l2, clf__solver=sag; total time=   0.2s\n",
      "[CV] END clf__C=0.13894954943731375, clf__penalty=l2, clf__solver=sag; total time=   0.2s\n",
      "[CV] END clf__C=0.13894954943731375, clf__penalty=l2, clf__solver=sag; total time=   0.2s\n",
      "[CV] END clf__C=0.13894954943731375, clf__penalty=l2, clf__solver=sag; total time=   0.2s\n",
      "[CV] END clf__C=0.13894954943731375, clf__penalty=l2, clf__solver=sag; total time=   0.2s\n",
      "[CV] END clf__C=0.13894954943731375, clf__penalty=l2, clf__solver=sag; total time=   0.2s\n",
      "[CV] END clf__C=0.13894954943731375, clf__penalty=l2, clf__solver=sag; total time=   0.1s\n",
      "[CV] END clf__C=0.13894954943731375, clf__penalty=l2, clf__solver=sag; total time=   0.2s\n",
      "[CV] END clf__C=0.13894954943731375, clf__penalty=l2, clf__solver=sag; total time=   0.2s\n"
     ]
    },
    {
     "name": "stdout",
     "output_type": "stream",
     "text": [
      "[CV] END clf__C=0.13894954943731375, clf__penalty=l2, clf__solver=sag; total time=   0.1s\n"
     ]
    },
    {
     "name": "stderr",
     "output_type": "stream",
     "text": [
      "/Users/guy/miniforge3/envs/.venv/lib/python3.9/site-packages/sklearn/linear_model/_logistic.py:1483: UserWarning: Setting penalty='none' will ignore the C and l1_ratio parameters\n",
      "  warnings.warn(\n"
     ]
    },
    {
     "name": "stdout",
     "output_type": "stream",
     "text": [
      "[CV] END clf__C=0.13894954943731375, clf__penalty=none, clf__solver=lbfgs; total time=   0.2s\n"
     ]
    },
    {
     "name": "stderr",
     "output_type": "stream",
     "text": [
      "/Users/guy/miniforge3/envs/.venv/lib/python3.9/site-packages/sklearn/linear_model/_logistic.py:1483: UserWarning: Setting penalty='none' will ignore the C and l1_ratio parameters\n",
      "  warnings.warn(\n"
     ]
    },
    {
     "name": "stdout",
     "output_type": "stream",
     "text": [
      "[CV] END clf__C=0.13894954943731375, clf__penalty=none, clf__solver=lbfgs; total time=   0.3s\n"
     ]
    },
    {
     "name": "stderr",
     "output_type": "stream",
     "text": [
      "/Users/guy/miniforge3/envs/.venv/lib/python3.9/site-packages/sklearn/linear_model/_logistic.py:1483: UserWarning: Setting penalty='none' will ignore the C and l1_ratio parameters\n",
      "  warnings.warn(\n"
     ]
    },
    {
     "name": "stdout",
     "output_type": "stream",
     "text": [
      "[CV] END clf__C=0.13894954943731375, clf__penalty=none, clf__solver=lbfgs; total time=   0.4s\n"
     ]
    },
    {
     "name": "stderr",
     "output_type": "stream",
     "text": [
      "/Users/guy/miniforge3/envs/.venv/lib/python3.9/site-packages/sklearn/linear_model/_logistic.py:1483: UserWarning: Setting penalty='none' will ignore the C and l1_ratio parameters\n",
      "  warnings.warn(\n"
     ]
    },
    {
     "name": "stdout",
     "output_type": "stream",
     "text": [
      "[CV] END clf__C=0.13894954943731375, clf__penalty=none, clf__solver=lbfgs; total time=   0.3s\n"
     ]
    },
    {
     "name": "stderr",
     "output_type": "stream",
     "text": [
      "/Users/guy/miniforge3/envs/.venv/lib/python3.9/site-packages/sklearn/linear_model/_logistic.py:1483: UserWarning: Setting penalty='none' will ignore the C and l1_ratio parameters\n",
      "  warnings.warn(\n"
     ]
    },
    {
     "name": "stdout",
     "output_type": "stream",
     "text": [
      "[CV] END clf__C=0.13894954943731375, clf__penalty=none, clf__solver=lbfgs; total time=   0.4s\n"
     ]
    },
    {
     "name": "stderr",
     "output_type": "stream",
     "text": [
      "/Users/guy/miniforge3/envs/.venv/lib/python3.9/site-packages/sklearn/linear_model/_logistic.py:1483: UserWarning: Setting penalty='none' will ignore the C and l1_ratio parameters\n",
      "  warnings.warn(\n"
     ]
    },
    {
     "name": "stdout",
     "output_type": "stream",
     "text": [
      "[CV] END clf__C=0.13894954943731375, clf__penalty=none, clf__solver=lbfgs; total time=   0.4s\n"
     ]
    },
    {
     "name": "stderr",
     "output_type": "stream",
     "text": [
      "/Users/guy/miniforge3/envs/.venv/lib/python3.9/site-packages/sklearn/linear_model/_logistic.py:1483: UserWarning: Setting penalty='none' will ignore the C and l1_ratio parameters\n",
      "  warnings.warn(\n"
     ]
    },
    {
     "name": "stdout",
     "output_type": "stream",
     "text": [
      "[CV] END clf__C=0.13894954943731375, clf__penalty=none, clf__solver=lbfgs; total time=   0.3s\n"
     ]
    },
    {
     "name": "stderr",
     "output_type": "stream",
     "text": [
      "/Users/guy/miniforge3/envs/.venv/lib/python3.9/site-packages/sklearn/linear_model/_logistic.py:1483: UserWarning: Setting penalty='none' will ignore the C and l1_ratio parameters\n",
      "  warnings.warn(\n"
     ]
    },
    {
     "name": "stdout",
     "output_type": "stream",
     "text": [
      "[CV] END clf__C=0.13894954943731375, clf__penalty=none, clf__solver=lbfgs; total time=   0.3s\n"
     ]
    },
    {
     "name": "stderr",
     "output_type": "stream",
     "text": [
      "/Users/guy/miniforge3/envs/.venv/lib/python3.9/site-packages/sklearn/linear_model/_logistic.py:1483: UserWarning: Setting penalty='none' will ignore the C and l1_ratio parameters\n",
      "  warnings.warn(\n"
     ]
    },
    {
     "name": "stdout",
     "output_type": "stream",
     "text": [
      "[CV] END clf__C=0.13894954943731375, clf__penalty=none, clf__solver=lbfgs; total time=   0.3s\n"
     ]
    },
    {
     "name": "stderr",
     "output_type": "stream",
     "text": [
      "/Users/guy/miniforge3/envs/.venv/lib/python3.9/site-packages/sklearn/linear_model/_logistic.py:1483: UserWarning: Setting penalty='none' will ignore the C and l1_ratio parameters\n",
      "  warnings.warn(\n"
     ]
    },
    {
     "name": "stdout",
     "output_type": "stream",
     "text": [
      "[CV] END clf__C=0.13894954943731375, clf__penalty=none, clf__solver=lbfgs; total time=   0.3s\n"
     ]
    },
    {
     "name": "stderr",
     "output_type": "stream",
     "text": [
      "/Users/guy/miniforge3/envs/.venv/lib/python3.9/site-packages/sklearn/linear_model/_logistic.py:1483: UserWarning: Setting penalty='none' will ignore the C and l1_ratio parameters\n",
      "  warnings.warn(\n"
     ]
    },
    {
     "name": "stdout",
     "output_type": "stream",
     "text": [
      "[CV] END clf__C=0.13894954943731375, clf__penalty=none, clf__solver=lbfgs; total time=   0.3s\n"
     ]
    },
    {
     "name": "stderr",
     "output_type": "stream",
     "text": [
      "/Users/guy/miniforge3/envs/.venv/lib/python3.9/site-packages/sklearn/linear_model/_logistic.py:1483: UserWarning: Setting penalty='none' will ignore the C and l1_ratio parameters\n",
      "  warnings.warn(\n"
     ]
    },
    {
     "name": "stdout",
     "output_type": "stream",
     "text": [
      "[CV] END clf__C=0.13894954943731375, clf__penalty=none, clf__solver=lbfgs; total time=   0.3s\n"
     ]
    },
    {
     "name": "stderr",
     "output_type": "stream",
     "text": [
      "/Users/guy/miniforge3/envs/.venv/lib/python3.9/site-packages/sklearn/linear_model/_logistic.py:1483: UserWarning: Setting penalty='none' will ignore the C and l1_ratio parameters\n",
      "  warnings.warn(\n"
     ]
    },
    {
     "name": "stdout",
     "output_type": "stream",
     "text": [
      "[CV] END clf__C=0.13894954943731375, clf__penalty=none, clf__solver=lbfgs; total time=   0.3s\n"
     ]
    },
    {
     "name": "stderr",
     "output_type": "stream",
     "text": [
      "/Users/guy/miniforge3/envs/.venv/lib/python3.9/site-packages/sklearn/linear_model/_logistic.py:1483: UserWarning: Setting penalty='none' will ignore the C and l1_ratio parameters\n",
      "  warnings.warn(\n"
     ]
    },
    {
     "name": "stdout",
     "output_type": "stream",
     "text": [
      "[CV] END clf__C=0.13894954943731375, clf__penalty=none, clf__solver=lbfgs; total time=   0.3s\n"
     ]
    },
    {
     "name": "stderr",
     "output_type": "stream",
     "text": [
      "/Users/guy/miniforge3/envs/.venv/lib/python3.9/site-packages/sklearn/linear_model/_logistic.py:1483: UserWarning: Setting penalty='none' will ignore the C and l1_ratio parameters\n",
      "  warnings.warn(\n"
     ]
    },
    {
     "name": "stdout",
     "output_type": "stream",
     "text": [
      "[CV] END clf__C=0.13894954943731375, clf__penalty=none, clf__solver=lbfgs; total time=   0.2s\n",
      "[CV] END clf__C=0.13894954943731375, clf__penalty=none, clf__solver=liblinear; total time=   0.0s\n",
      "[CV] END clf__C=0.13894954943731375, clf__penalty=none, clf__solver=liblinear; total time=   0.0s\n",
      "[CV] END clf__C=0.13894954943731375, clf__penalty=none, clf__solver=liblinear; total time=   0.0s\n",
      "[CV] END clf__C=0.13894954943731375, clf__penalty=none, clf__solver=liblinear; total time=   0.0s\n",
      "[CV] END clf__C=0.13894954943731375, clf__penalty=none, clf__solver=liblinear; total time=   0.0s\n",
      "[CV] END clf__C=0.13894954943731375, clf__penalty=none, clf__solver=liblinear; total time=   0.0s\n",
      "[CV] END clf__C=0.13894954943731375, clf__penalty=none, clf__solver=liblinear; total time=   0.0s\n",
      "[CV] END clf__C=0.13894954943731375, clf__penalty=none, clf__solver=liblinear; total time=   0.0s\n",
      "[CV] END clf__C=0.13894954943731375, clf__penalty=none, clf__solver=liblinear; total time=   0.0s\n",
      "[CV] END clf__C=0.13894954943731375, clf__penalty=none, clf__solver=liblinear; total time=   0.0s\n",
      "[CV] END clf__C=0.13894954943731375, clf__penalty=none, clf__solver=liblinear; total time=   0.0s\n",
      "[CV] END clf__C=0.13894954943731375, clf__penalty=none, clf__solver=liblinear; total time=   0.0s\n",
      "[CV] END clf__C=0.13894954943731375, clf__penalty=none, clf__solver=liblinear; total time=   0.0s\n",
      "[CV] END clf__C=0.13894954943731375, clf__penalty=none, clf__solver=liblinear; total time=   0.0s\n",
      "[CV] END clf__C=0.13894954943731375, clf__penalty=none, clf__solver=liblinear; total time=   0.0s\n"
     ]
    },
    {
     "name": "stderr",
     "output_type": "stream",
     "text": [
      "/Users/guy/miniforge3/envs/.venv/lib/python3.9/site-packages/sklearn/linear_model/_logistic.py:1483: UserWarning: Setting penalty='none' will ignore the C and l1_ratio parameters\n",
      "  warnings.warn(\n"
     ]
    },
    {
     "name": "stdout",
     "output_type": "stream",
     "text": [
      "[CV] END clf__C=0.13894954943731375, clf__penalty=none, clf__solver=sag; total time=   0.7s\n"
     ]
    },
    {
     "name": "stderr",
     "output_type": "stream",
     "text": [
      "/Users/guy/miniforge3/envs/.venv/lib/python3.9/site-packages/sklearn/linear_model/_logistic.py:1483: UserWarning: Setting penalty='none' will ignore the C and l1_ratio parameters\n",
      "  warnings.warn(\n"
     ]
    },
    {
     "name": "stdout",
     "output_type": "stream",
     "text": [
      "[CV] END clf__C=0.13894954943731375, clf__penalty=none, clf__solver=sag; total time=   1.4s\n"
     ]
    },
    {
     "name": "stderr",
     "output_type": "stream",
     "text": [
      "/Users/guy/miniforge3/envs/.venv/lib/python3.9/site-packages/sklearn/linear_model/_logistic.py:1483: UserWarning: Setting penalty='none' will ignore the C and l1_ratio parameters\n",
      "  warnings.warn(\n"
     ]
    },
    {
     "name": "stdout",
     "output_type": "stream",
     "text": [
      "[CV] END clf__C=0.13894954943731375, clf__penalty=none, clf__solver=sag; total time=   1.3s\n"
     ]
    },
    {
     "name": "stderr",
     "output_type": "stream",
     "text": [
      "/Users/guy/miniforge3/envs/.venv/lib/python3.9/site-packages/sklearn/linear_model/_logistic.py:1483: UserWarning: Setting penalty='none' will ignore the C and l1_ratio parameters\n",
      "  warnings.warn(\n"
     ]
    },
    {
     "name": "stdout",
     "output_type": "stream",
     "text": [
      "[CV] END clf__C=0.13894954943731375, clf__penalty=none, clf__solver=sag; total time=   1.1s\n"
     ]
    },
    {
     "name": "stderr",
     "output_type": "stream",
     "text": [
      "/Users/guy/miniforge3/envs/.venv/lib/python3.9/site-packages/sklearn/linear_model/_logistic.py:1483: UserWarning: Setting penalty='none' will ignore the C and l1_ratio parameters\n",
      "  warnings.warn(\n"
     ]
    },
    {
     "name": "stdout",
     "output_type": "stream",
     "text": [
      "[CV] END clf__C=0.13894954943731375, clf__penalty=none, clf__solver=sag; total time=   1.0s\n"
     ]
    },
    {
     "name": "stderr",
     "output_type": "stream",
     "text": [
      "/Users/guy/miniforge3/envs/.venv/lib/python3.9/site-packages/sklearn/linear_model/_logistic.py:1483: UserWarning: Setting penalty='none' will ignore the C and l1_ratio parameters\n",
      "  warnings.warn(\n"
     ]
    },
    {
     "name": "stdout",
     "output_type": "stream",
     "text": [
      "[CV] END clf__C=0.13894954943731375, clf__penalty=none, clf__solver=sag; total time=   1.2s\n"
     ]
    },
    {
     "name": "stderr",
     "output_type": "stream",
     "text": [
      "/Users/guy/miniforge3/envs/.venv/lib/python3.9/site-packages/sklearn/linear_model/_logistic.py:1483: UserWarning: Setting penalty='none' will ignore the C and l1_ratio parameters\n",
      "  warnings.warn(\n"
     ]
    },
    {
     "name": "stdout",
     "output_type": "stream",
     "text": [
      "[CV] END clf__C=0.13894954943731375, clf__penalty=none, clf__solver=sag; total time=   0.8s\n"
     ]
    },
    {
     "name": "stderr",
     "output_type": "stream",
     "text": [
      "/Users/guy/miniforge3/envs/.venv/lib/python3.9/site-packages/sklearn/linear_model/_logistic.py:1483: UserWarning: Setting penalty='none' will ignore the C and l1_ratio parameters\n",
      "  warnings.warn(\n"
     ]
    },
    {
     "name": "stdout",
     "output_type": "stream",
     "text": [
      "[CV] END clf__C=0.13894954943731375, clf__penalty=none, clf__solver=sag; total time=   1.1s\n"
     ]
    },
    {
     "name": "stderr",
     "output_type": "stream",
     "text": [
      "/Users/guy/miniforge3/envs/.venv/lib/python3.9/site-packages/sklearn/linear_model/_logistic.py:1483: UserWarning: Setting penalty='none' will ignore the C and l1_ratio parameters\n",
      "  warnings.warn(\n"
     ]
    },
    {
     "name": "stdout",
     "output_type": "stream",
     "text": [
      "[CV] END clf__C=0.13894954943731375, clf__penalty=none, clf__solver=sag; total time=   1.2s\n"
     ]
    },
    {
     "name": "stderr",
     "output_type": "stream",
     "text": [
      "/Users/guy/miniforge3/envs/.venv/lib/python3.9/site-packages/sklearn/linear_model/_logistic.py:1483: UserWarning: Setting penalty='none' will ignore the C and l1_ratio parameters\n",
      "  warnings.warn(\n"
     ]
    },
    {
     "name": "stdout",
     "output_type": "stream",
     "text": [
      "[CV] END clf__C=0.13894954943731375, clf__penalty=none, clf__solver=sag; total time=   1.0s\n"
     ]
    },
    {
     "name": "stderr",
     "output_type": "stream",
     "text": [
      "/Users/guy/miniforge3/envs/.venv/lib/python3.9/site-packages/sklearn/linear_model/_logistic.py:1483: UserWarning: Setting penalty='none' will ignore the C and l1_ratio parameters\n",
      "  warnings.warn(\n"
     ]
    },
    {
     "name": "stdout",
     "output_type": "stream",
     "text": [
      "[CV] END clf__C=0.13894954943731375, clf__penalty=none, clf__solver=sag; total time=   1.1s\n"
     ]
    },
    {
     "name": "stderr",
     "output_type": "stream",
     "text": [
      "/Users/guy/miniforge3/envs/.venv/lib/python3.9/site-packages/sklearn/linear_model/_logistic.py:1483: UserWarning: Setting penalty='none' will ignore the C and l1_ratio parameters\n",
      "  warnings.warn(\n"
     ]
    },
    {
     "name": "stdout",
     "output_type": "stream",
     "text": [
      "[CV] END clf__C=0.13894954943731375, clf__penalty=none, clf__solver=sag; total time=   1.3s\n"
     ]
    },
    {
     "name": "stderr",
     "output_type": "stream",
     "text": [
      "/Users/guy/miniforge3/envs/.venv/lib/python3.9/site-packages/sklearn/linear_model/_logistic.py:1483: UserWarning: Setting penalty='none' will ignore the C and l1_ratio parameters\n",
      "  warnings.warn(\n"
     ]
    },
    {
     "name": "stdout",
     "output_type": "stream",
     "text": [
      "[CV] END clf__C=0.13894954943731375, clf__penalty=none, clf__solver=sag; total time=   1.2s\n"
     ]
    },
    {
     "name": "stderr",
     "output_type": "stream",
     "text": [
      "/Users/guy/miniforge3/envs/.venv/lib/python3.9/site-packages/sklearn/linear_model/_logistic.py:1483: UserWarning: Setting penalty='none' will ignore the C and l1_ratio parameters\n",
      "  warnings.warn(\n"
     ]
    },
    {
     "name": "stdout",
     "output_type": "stream",
     "text": [
      "[CV] END clf__C=0.13894954943731375, clf__penalty=none, clf__solver=sag; total time=   1.2s\n"
     ]
    },
    {
     "name": "stderr",
     "output_type": "stream",
     "text": [
      "/Users/guy/miniforge3/envs/.venv/lib/python3.9/site-packages/sklearn/linear_model/_logistic.py:1483: UserWarning: Setting penalty='none' will ignore the C and l1_ratio parameters\n",
      "  warnings.warn(\n"
     ]
    },
    {
     "name": "stdout",
     "output_type": "stream",
     "text": [
      "[CV] END clf__C=0.13894954943731375, clf__penalty=none, clf__solver=sag; total time=   0.7s\n",
      "[CV] END clf__C=0.16378937069540642, clf__penalty=l1, clf__solver=lbfgs; total time=   0.0s\n",
      "[CV] END clf__C=0.16378937069540642, clf__penalty=l1, clf__solver=lbfgs; total time=   0.0s\n",
      "[CV] END clf__C=0.16378937069540642, clf__penalty=l1, clf__solver=lbfgs; total time=   0.0s\n",
      "[CV] END clf__C=0.16378937069540642, clf__penalty=l1, clf__solver=lbfgs; total time=   0.0s\n",
      "[CV] END clf__C=0.16378937069540642, clf__penalty=l1, clf__solver=lbfgs; total time=   0.0s\n",
      "[CV] END clf__C=0.16378937069540642, clf__penalty=l1, clf__solver=lbfgs; total time=   0.0s\n",
      "[CV] END clf__C=0.16378937069540642, clf__penalty=l1, clf__solver=lbfgs; total time=   0.0s\n",
      "[CV] END clf__C=0.16378937069540642, clf__penalty=l1, clf__solver=lbfgs; total time=   0.0s\n",
      "[CV] END clf__C=0.16378937069540642, clf__penalty=l1, clf__solver=lbfgs; total time=   0.0s\n",
      "[CV] END clf__C=0.16378937069540642, clf__penalty=l1, clf__solver=lbfgs; total time=   0.0s\n",
      "[CV] END clf__C=0.16378937069540642, clf__penalty=l1, clf__solver=lbfgs; total time=   0.0s\n",
      "[CV] END clf__C=0.16378937069540642, clf__penalty=l1, clf__solver=lbfgs; total time=   0.0s\n",
      "[CV] END clf__C=0.16378937069540642, clf__penalty=l1, clf__solver=lbfgs; total time=   0.0s\n",
      "[CV] END clf__C=0.16378937069540642, clf__penalty=l1, clf__solver=lbfgs; total time=   0.0s\n",
      "[CV] END clf__C=0.16378937069540642, clf__penalty=l1, clf__solver=lbfgs; total time=   0.0s\n",
      "[CV] END clf__C=0.16378937069540642, clf__penalty=l1, clf__solver=liblinear; total time=   0.2s\n",
      "[CV] END clf__C=0.16378937069540642, clf__penalty=l1, clf__solver=liblinear; total time=   0.2s\n",
      "[CV] END clf__C=0.16378937069540642, clf__penalty=l1, clf__solver=liblinear; total time=   0.2s\n",
      "[CV] END clf__C=0.16378937069540642, clf__penalty=l1, clf__solver=liblinear; total time=   0.2s\n",
      "[CV] END clf__C=0.16378937069540642, clf__penalty=l1, clf__solver=liblinear; total time=   0.2s\n",
      "[CV] END clf__C=0.16378937069540642, clf__penalty=l1, clf__solver=liblinear; total time=   0.2s\n",
      "[CV] END clf__C=0.16378937069540642, clf__penalty=l1, clf__solver=liblinear; total time=   0.2s\n",
      "[CV] END clf__C=0.16378937069540642, clf__penalty=l1, clf__solver=liblinear; total time=   0.2s\n",
      "[CV] END clf__C=0.16378937069540642, clf__penalty=l1, clf__solver=liblinear; total time=   0.1s\n",
      "[CV] END clf__C=0.16378937069540642, clf__penalty=l1, clf__solver=liblinear; total time=   0.2s\n",
      "[CV] END clf__C=0.16378937069540642, clf__penalty=l1, clf__solver=liblinear; total time=   0.2s\n",
      "[CV] END clf__C=0.16378937069540642, clf__penalty=l1, clf__solver=liblinear; total time=   0.1s\n",
      "[CV] END clf__C=0.16378937069540642, clf__penalty=l1, clf__solver=liblinear; total time=   0.2s\n",
      "[CV] END clf__C=0.16378937069540642, clf__penalty=l1, clf__solver=liblinear; total time=   0.2s\n",
      "[CV] END clf__C=0.16378937069540642, clf__penalty=l1, clf__solver=liblinear; total time=   0.2s\n",
      "[CV] END clf__C=0.16378937069540642, clf__penalty=l1, clf__solver=sag; total time=   0.0s\n",
      "[CV] END clf__C=0.16378937069540642, clf__penalty=l1, clf__solver=sag; total time=   0.0s\n",
      "[CV] END clf__C=0.16378937069540642, clf__penalty=l1, clf__solver=sag; total time=   0.0s\n",
      "[CV] END clf__C=0.16378937069540642, clf__penalty=l1, clf__solver=sag; total time=   0.0s\n",
      "[CV] END clf__C=0.16378937069540642, clf__penalty=l1, clf__solver=sag; total time=   0.0s\n",
      "[CV] END clf__C=0.16378937069540642, clf__penalty=l1, clf__solver=sag; total time=   0.0s\n",
      "[CV] END clf__C=0.16378937069540642, clf__penalty=l1, clf__solver=sag; total time=   0.0s\n",
      "[CV] END clf__C=0.16378937069540642, clf__penalty=l1, clf__solver=sag; total time=   0.0s\n",
      "[CV] END clf__C=0.16378937069540642, clf__penalty=l1, clf__solver=sag; total time=   0.0s\n",
      "[CV] END clf__C=0.16378937069540642, clf__penalty=l1, clf__solver=sag; total time=   0.0s\n",
      "[CV] END clf__C=0.16378937069540642, clf__penalty=l1, clf__solver=sag; total time=   0.0s\n",
      "[CV] END clf__C=0.16378937069540642, clf__penalty=l1, clf__solver=sag; total time=   0.0s\n",
      "[CV] END clf__C=0.16378937069540642, clf__penalty=l1, clf__solver=sag; total time=   0.0s\n",
      "[CV] END clf__C=0.16378937069540642, clf__penalty=l1, clf__solver=sag; total time=   0.0s\n",
      "[CV] END clf__C=0.16378937069540642, clf__penalty=l1, clf__solver=sag; total time=   0.0s\n",
      "[CV] END clf__C=0.16378937069540642, clf__penalty=l2, clf__solver=lbfgs; total time=   0.1s\n",
      "[CV] END clf__C=0.16378937069540642, clf__penalty=l2, clf__solver=lbfgs; total time=   0.1s\n",
      "[CV] END clf__C=0.16378937069540642, clf__penalty=l2, clf__solver=lbfgs; total time=   0.1s\n",
      "[CV] END clf__C=0.16378937069540642, clf__penalty=l2, clf__solver=lbfgs; total time=   0.1s\n",
      "[CV] END clf__C=0.16378937069540642, clf__penalty=l2, clf__solver=lbfgs; total time=   0.1s\n",
      "[CV] END clf__C=0.16378937069540642, clf__penalty=l2, clf__solver=lbfgs; total time=   0.1s\n",
      "[CV] END clf__C=0.16378937069540642, clf__penalty=l2, clf__solver=lbfgs; total time=   0.1s\n",
      "[CV] END clf__C=0.16378937069540642, clf__penalty=l2, clf__solver=lbfgs; total time=   0.1s\n",
      "[CV] END clf__C=0.16378937069540642, clf__penalty=l2, clf__solver=lbfgs; total time=   0.1s\n",
      "[CV] END clf__C=0.16378937069540642, clf__penalty=l2, clf__solver=lbfgs; total time=   0.1s\n",
      "[CV] END clf__C=0.16378937069540642, clf__penalty=l2, clf__solver=lbfgs; total time=   0.1s\n",
      "[CV] END clf__C=0.16378937069540642, clf__penalty=l2, clf__solver=lbfgs; total time=   0.1s\n",
      "[CV] END clf__C=0.16378937069540642, clf__penalty=l2, clf__solver=lbfgs; total time=   0.1s\n",
      "[CV] END clf__C=0.16378937069540642, clf__penalty=l2, clf__solver=lbfgs; total time=   0.1s\n",
      "[CV] END clf__C=0.16378937069540642, clf__penalty=l2, clf__solver=lbfgs; total time=   0.1s\n",
      "[CV] END clf__C=0.16378937069540642, clf__penalty=l2, clf__solver=liblinear; total time=   0.1s\n",
      "[CV] END clf__C=0.16378937069540642, clf__penalty=l2, clf__solver=liblinear; total time=   0.1s\n",
      "[CV] END clf__C=0.16378937069540642, clf__penalty=l2, clf__solver=liblinear; total time=   0.1s\n",
      "[CV] END clf__C=0.16378937069540642, clf__penalty=l2, clf__solver=liblinear; total time=   0.1s\n",
      "[CV] END clf__C=0.16378937069540642, clf__penalty=l2, clf__solver=liblinear; total time=   0.1s\n",
      "[CV] END clf__C=0.16378937069540642, clf__penalty=l2, clf__solver=liblinear; total time=   0.1s\n",
      "[CV] END clf__C=0.16378937069540642, clf__penalty=l2, clf__solver=liblinear; total time=   0.1s\n",
      "[CV] END clf__C=0.16378937069540642, clf__penalty=l2, clf__solver=liblinear; total time=   0.1s\n",
      "[CV] END clf__C=0.16378937069540642, clf__penalty=l2, clf__solver=liblinear; total time=   0.1s\n",
      "[CV] END clf__C=0.16378937069540642, clf__penalty=l2, clf__solver=liblinear; total time=   0.1s\n",
      "[CV] END clf__C=0.16378937069540642, clf__penalty=l2, clf__solver=liblinear; total time=   0.1s\n",
      "[CV] END clf__C=0.16378937069540642, clf__penalty=l2, clf__solver=liblinear; total time=   0.1s\n",
      "[CV] END clf__C=0.16378937069540642, clf__penalty=l2, clf__solver=liblinear; total time=   0.1s\n",
      "[CV] END clf__C=0.16378937069540642, clf__penalty=l2, clf__solver=liblinear; total time=   0.1s\n",
      "[CV] END clf__C=0.16378937069540642, clf__penalty=l2, clf__solver=liblinear; total time=   0.1s\n",
      "[CV] END clf__C=0.16378937069540642, clf__penalty=l2, clf__solver=sag; total time=   0.2s\n",
      "[CV] END clf__C=0.16378937069540642, clf__penalty=l2, clf__solver=sag; total time=   0.2s\n",
      "[CV] END clf__C=0.16378937069540642, clf__penalty=l2, clf__solver=sag; total time=   0.1s\n",
      "[CV] END clf__C=0.16378937069540642, clf__penalty=l2, clf__solver=sag; total time=   0.2s\n",
      "[CV] END clf__C=0.16378937069540642, clf__penalty=l2, clf__solver=sag; total time=   0.2s\n",
      "[CV] END clf__C=0.16378937069540642, clf__penalty=l2, clf__solver=sag; total time=   0.2s\n",
      "[CV] END clf__C=0.16378937069540642, clf__penalty=l2, clf__solver=sag; total time=   0.2s\n",
      "[CV] END clf__C=0.16378937069540642, clf__penalty=l2, clf__solver=sag; total time=   0.2s\n",
      "[CV] END clf__C=0.16378937069540642, clf__penalty=l2, clf__solver=sag; total time=   0.2s\n",
      "[CV] END clf__C=0.16378937069540642, clf__penalty=l2, clf__solver=sag; total time=   0.2s\n",
      "[CV] END clf__C=0.16378937069540642, clf__penalty=l2, clf__solver=sag; total time=   0.2s\n",
      "[CV] END clf__C=0.16378937069540642, clf__penalty=l2, clf__solver=sag; total time=   0.2s\n",
      "[CV] END clf__C=0.16378937069540642, clf__penalty=l2, clf__solver=sag; total time=   0.2s\n"
     ]
    },
    {
     "name": "stdout",
     "output_type": "stream",
     "text": [
      "[CV] END clf__C=0.16378937069540642, clf__penalty=l2, clf__solver=sag; total time=   0.2s\n",
      "[CV] END clf__C=0.16378937069540642, clf__penalty=l2, clf__solver=sag; total time=   0.2s\n"
     ]
    },
    {
     "name": "stderr",
     "output_type": "stream",
     "text": [
      "/Users/guy/miniforge3/envs/.venv/lib/python3.9/site-packages/sklearn/linear_model/_logistic.py:1483: UserWarning: Setting penalty='none' will ignore the C and l1_ratio parameters\n",
      "  warnings.warn(\n",
      "/Users/guy/miniforge3/envs/.venv/lib/python3.9/site-packages/sklearn/linear_model/_logistic.py:1483: UserWarning: Setting penalty='none' will ignore the C and l1_ratio parameters\n",
      "  warnings.warn(\n"
     ]
    },
    {
     "name": "stdout",
     "output_type": "stream",
     "text": [
      "[CV] END clf__C=0.16378937069540642, clf__penalty=none, clf__solver=lbfgs; total time=   0.2s\n",
      "[CV] END clf__C=0.16378937069540642, clf__penalty=none, clf__solver=lbfgs; total time=   0.4s\n"
     ]
    },
    {
     "name": "stderr",
     "output_type": "stream",
     "text": [
      "/Users/guy/miniforge3/envs/.venv/lib/python3.9/site-packages/sklearn/linear_model/_logistic.py:1483: UserWarning: Setting penalty='none' will ignore the C and l1_ratio parameters\n",
      "  warnings.warn(\n"
     ]
    },
    {
     "name": "stdout",
     "output_type": "stream",
     "text": [
      "[CV] END clf__C=0.16378937069540642, clf__penalty=none, clf__solver=lbfgs; total time=   0.3s\n"
     ]
    },
    {
     "name": "stderr",
     "output_type": "stream",
     "text": [
      "/Users/guy/miniforge3/envs/.venv/lib/python3.9/site-packages/sklearn/linear_model/_logistic.py:1483: UserWarning: Setting penalty='none' will ignore the C and l1_ratio parameters\n",
      "  warnings.warn(\n"
     ]
    },
    {
     "name": "stdout",
     "output_type": "stream",
     "text": [
      "[CV] END clf__C=0.16378937069540642, clf__penalty=none, clf__solver=lbfgs; total time=   0.3s\n"
     ]
    },
    {
     "name": "stderr",
     "output_type": "stream",
     "text": [
      "/Users/guy/miniforge3/envs/.venv/lib/python3.9/site-packages/sklearn/linear_model/_logistic.py:1483: UserWarning: Setting penalty='none' will ignore the C and l1_ratio parameters\n",
      "  warnings.warn(\n"
     ]
    },
    {
     "name": "stdout",
     "output_type": "stream",
     "text": [
      "[CV] END clf__C=0.16378937069540642, clf__penalty=none, clf__solver=lbfgs; total time=   0.3s\n"
     ]
    },
    {
     "name": "stderr",
     "output_type": "stream",
     "text": [
      "/Users/guy/miniforge3/envs/.venv/lib/python3.9/site-packages/sklearn/linear_model/_logistic.py:1483: UserWarning: Setting penalty='none' will ignore the C and l1_ratio parameters\n",
      "  warnings.warn(\n"
     ]
    },
    {
     "name": "stdout",
     "output_type": "stream",
     "text": [
      "[CV] END clf__C=0.16378937069540642, clf__penalty=none, clf__solver=lbfgs; total time=   0.4s\n"
     ]
    },
    {
     "name": "stderr",
     "output_type": "stream",
     "text": [
      "/Users/guy/miniforge3/envs/.venv/lib/python3.9/site-packages/sklearn/linear_model/_logistic.py:1483: UserWarning: Setting penalty='none' will ignore the C and l1_ratio parameters\n",
      "  warnings.warn(\n"
     ]
    },
    {
     "name": "stdout",
     "output_type": "stream",
     "text": [
      "[CV] END clf__C=0.16378937069540642, clf__penalty=none, clf__solver=lbfgs; total time=   0.2s\n"
     ]
    },
    {
     "name": "stderr",
     "output_type": "stream",
     "text": [
      "/Users/guy/miniforge3/envs/.venv/lib/python3.9/site-packages/sklearn/linear_model/_logistic.py:1483: UserWarning: Setting penalty='none' will ignore the C and l1_ratio parameters\n",
      "  warnings.warn(\n"
     ]
    },
    {
     "name": "stdout",
     "output_type": "stream",
     "text": [
      "[CV] END clf__C=0.16378937069540642, clf__penalty=none, clf__solver=lbfgs; total time=   0.3s\n"
     ]
    },
    {
     "name": "stderr",
     "output_type": "stream",
     "text": [
      "/Users/guy/miniforge3/envs/.venv/lib/python3.9/site-packages/sklearn/linear_model/_logistic.py:1483: UserWarning: Setting penalty='none' will ignore the C and l1_ratio parameters\n",
      "  warnings.warn(\n"
     ]
    },
    {
     "name": "stdout",
     "output_type": "stream",
     "text": [
      "[CV] END clf__C=0.16378937069540642, clf__penalty=none, clf__solver=lbfgs; total time=   0.4s\n"
     ]
    },
    {
     "name": "stderr",
     "output_type": "stream",
     "text": [
      "/Users/guy/miniforge3/envs/.venv/lib/python3.9/site-packages/sklearn/linear_model/_logistic.py:1483: UserWarning: Setting penalty='none' will ignore the C and l1_ratio parameters\n",
      "  warnings.warn(\n"
     ]
    },
    {
     "name": "stdout",
     "output_type": "stream",
     "text": [
      "[CV] END clf__C=0.16378937069540642, clf__penalty=none, clf__solver=lbfgs; total time=   0.3s\n"
     ]
    },
    {
     "name": "stderr",
     "output_type": "stream",
     "text": [
      "/Users/guy/miniforge3/envs/.venv/lib/python3.9/site-packages/sklearn/linear_model/_logistic.py:1483: UserWarning: Setting penalty='none' will ignore the C and l1_ratio parameters\n",
      "  warnings.warn(\n"
     ]
    },
    {
     "name": "stdout",
     "output_type": "stream",
     "text": [
      "[CV] END clf__C=0.16378937069540642, clf__penalty=none, clf__solver=lbfgs; total time=   0.3s\n"
     ]
    },
    {
     "name": "stderr",
     "output_type": "stream",
     "text": [
      "/Users/guy/miniforge3/envs/.venv/lib/python3.9/site-packages/sklearn/linear_model/_logistic.py:1483: UserWarning: Setting penalty='none' will ignore the C and l1_ratio parameters\n",
      "  warnings.warn(\n"
     ]
    },
    {
     "name": "stdout",
     "output_type": "stream",
     "text": [
      "[CV] END clf__C=0.16378937069540642, clf__penalty=none, clf__solver=lbfgs; total time=   0.3s\n"
     ]
    },
    {
     "name": "stderr",
     "output_type": "stream",
     "text": [
      "/Users/guy/miniforge3/envs/.venv/lib/python3.9/site-packages/sklearn/linear_model/_logistic.py:1483: UserWarning: Setting penalty='none' will ignore the C and l1_ratio parameters\n",
      "  warnings.warn(\n"
     ]
    },
    {
     "name": "stdout",
     "output_type": "stream",
     "text": [
      "[CV] END clf__C=0.16378937069540642, clf__penalty=none, clf__solver=lbfgs; total time=   0.3s\n"
     ]
    },
    {
     "name": "stderr",
     "output_type": "stream",
     "text": [
      "/Users/guy/miniforge3/envs/.venv/lib/python3.9/site-packages/sklearn/linear_model/_logistic.py:1483: UserWarning: Setting penalty='none' will ignore the C and l1_ratio parameters\n",
      "  warnings.warn(\n"
     ]
    },
    {
     "name": "stdout",
     "output_type": "stream",
     "text": [
      "[CV] END clf__C=0.16378937069540642, clf__penalty=none, clf__solver=lbfgs; total time=   0.3s\n"
     ]
    },
    {
     "name": "stderr",
     "output_type": "stream",
     "text": [
      "/Users/guy/miniforge3/envs/.venv/lib/python3.9/site-packages/sklearn/linear_model/_logistic.py:1483: UserWarning: Setting penalty='none' will ignore the C and l1_ratio parameters\n",
      "  warnings.warn(\n"
     ]
    },
    {
     "name": "stdout",
     "output_type": "stream",
     "text": [
      "[CV] END clf__C=0.16378937069540642, clf__penalty=none, clf__solver=lbfgs; total time=   0.2s\n",
      "[CV] END clf__C=0.16378937069540642, clf__penalty=none, clf__solver=liblinear; total time=   0.0s\n",
      "[CV] END clf__C=0.16378937069540642, clf__penalty=none, clf__solver=liblinear; total time=   0.0s\n",
      "[CV] END clf__C=0.16378937069540642, clf__penalty=none, clf__solver=liblinear; total time=   0.0s\n",
      "[CV] END clf__C=0.16378937069540642, clf__penalty=none, clf__solver=liblinear; total time=   0.0s\n",
      "[CV] END clf__C=0.16378937069540642, clf__penalty=none, clf__solver=liblinear; total time=   0.0s\n",
      "[CV] END clf__C=0.16378937069540642, clf__penalty=none, clf__solver=liblinear; total time=   0.0s\n",
      "[CV] END clf__C=0.16378937069540642, clf__penalty=none, clf__solver=liblinear; total time=   0.0s\n",
      "[CV] END clf__C=0.16378937069540642, clf__penalty=none, clf__solver=liblinear; total time=   0.0s\n",
      "[CV] END clf__C=0.16378937069540642, clf__penalty=none, clf__solver=liblinear; total time=   0.0s\n",
      "[CV] END clf__C=0.16378937069540642, clf__penalty=none, clf__solver=liblinear; total time=   0.0s\n",
      "[CV] END clf__C=0.16378937069540642, clf__penalty=none, clf__solver=liblinear; total time=   0.0s\n",
      "[CV] END clf__C=0.16378937069540642, clf__penalty=none, clf__solver=liblinear; total time=   0.0s\n",
      "[CV] END clf__C=0.16378937069540642, clf__penalty=none, clf__solver=liblinear; total time=   0.0s\n",
      "[CV] END clf__C=0.16378937069540642, clf__penalty=none, clf__solver=liblinear; total time=   0.0s\n",
      "[CV] END clf__C=0.16378937069540642, clf__penalty=none, clf__solver=liblinear; total time=   0.0s\n"
     ]
    },
    {
     "name": "stderr",
     "output_type": "stream",
     "text": [
      "/Users/guy/miniforge3/envs/.venv/lib/python3.9/site-packages/sklearn/linear_model/_logistic.py:1483: UserWarning: Setting penalty='none' will ignore the C and l1_ratio parameters\n",
      "  warnings.warn(\n"
     ]
    },
    {
     "name": "stdout",
     "output_type": "stream",
     "text": [
      "[CV] END clf__C=0.16378937069540642, clf__penalty=none, clf__solver=sag; total time=   0.7s\n"
     ]
    },
    {
     "name": "stderr",
     "output_type": "stream",
     "text": [
      "/Users/guy/miniforge3/envs/.venv/lib/python3.9/site-packages/sklearn/linear_model/_logistic.py:1483: UserWarning: Setting penalty='none' will ignore the C and l1_ratio parameters\n",
      "  warnings.warn(\n"
     ]
    },
    {
     "name": "stdout",
     "output_type": "stream",
     "text": [
      "[CV] END clf__C=0.16378937069540642, clf__penalty=none, clf__solver=sag; total time=   1.2s\n"
     ]
    },
    {
     "name": "stderr",
     "output_type": "stream",
     "text": [
      "/Users/guy/miniforge3/envs/.venv/lib/python3.9/site-packages/sklearn/linear_model/_logistic.py:1483: UserWarning: Setting penalty='none' will ignore the C and l1_ratio parameters\n",
      "  warnings.warn(\n"
     ]
    },
    {
     "name": "stdout",
     "output_type": "stream",
     "text": [
      "[CV] END clf__C=0.16378937069540642, clf__penalty=none, clf__solver=sag; total time=   1.2s\n"
     ]
    },
    {
     "name": "stderr",
     "output_type": "stream",
     "text": [
      "/Users/guy/miniforge3/envs/.venv/lib/python3.9/site-packages/sklearn/linear_model/_logistic.py:1483: UserWarning: Setting penalty='none' will ignore the C and l1_ratio parameters\n",
      "  warnings.warn(\n"
     ]
    },
    {
     "name": "stdout",
     "output_type": "stream",
     "text": [
      "[CV] END clf__C=0.16378937069540642, clf__penalty=none, clf__solver=sag; total time=   1.1s\n"
     ]
    },
    {
     "name": "stderr",
     "output_type": "stream",
     "text": [
      "/Users/guy/miniforge3/envs/.venv/lib/python3.9/site-packages/sklearn/linear_model/_logistic.py:1483: UserWarning: Setting penalty='none' will ignore the C and l1_ratio parameters\n",
      "  warnings.warn(\n"
     ]
    },
    {
     "name": "stdout",
     "output_type": "stream",
     "text": [
      "[CV] END clf__C=0.16378937069540642, clf__penalty=none, clf__solver=sag; total time=   1.0s\n"
     ]
    },
    {
     "name": "stderr",
     "output_type": "stream",
     "text": [
      "/Users/guy/miniforge3/envs/.venv/lib/python3.9/site-packages/sklearn/linear_model/_logistic.py:1483: UserWarning: Setting penalty='none' will ignore the C and l1_ratio parameters\n",
      "  warnings.warn(\n"
     ]
    },
    {
     "name": "stdout",
     "output_type": "stream",
     "text": [
      "[CV] END clf__C=0.16378937069540642, clf__penalty=none, clf__solver=sag; total time=   1.2s\n"
     ]
    },
    {
     "name": "stderr",
     "output_type": "stream",
     "text": [
      "/Users/guy/miniforge3/envs/.venv/lib/python3.9/site-packages/sklearn/linear_model/_logistic.py:1483: UserWarning: Setting penalty='none' will ignore the C and l1_ratio parameters\n",
      "  warnings.warn(\n"
     ]
    },
    {
     "name": "stdout",
     "output_type": "stream",
     "text": [
      "[CV] END clf__C=0.16378937069540642, clf__penalty=none, clf__solver=sag; total time=   0.7s\n"
     ]
    },
    {
     "name": "stderr",
     "output_type": "stream",
     "text": [
      "/Users/guy/miniforge3/envs/.venv/lib/python3.9/site-packages/sklearn/linear_model/_logistic.py:1483: UserWarning: Setting penalty='none' will ignore the C and l1_ratio parameters\n",
      "  warnings.warn(\n"
     ]
    },
    {
     "name": "stdout",
     "output_type": "stream",
     "text": [
      "[CV] END clf__C=0.16378937069540642, clf__penalty=none, clf__solver=sag; total time=   1.1s\n"
     ]
    },
    {
     "name": "stderr",
     "output_type": "stream",
     "text": [
      "/Users/guy/miniforge3/envs/.venv/lib/python3.9/site-packages/sklearn/linear_model/_logistic.py:1483: UserWarning: Setting penalty='none' will ignore the C and l1_ratio parameters\n",
      "  warnings.warn(\n"
     ]
    },
    {
     "name": "stdout",
     "output_type": "stream",
     "text": [
      "[CV] END clf__C=0.16378937069540642, clf__penalty=none, clf__solver=sag; total time=   1.2s\n"
     ]
    },
    {
     "name": "stderr",
     "output_type": "stream",
     "text": [
      "/Users/guy/miniforge3/envs/.venv/lib/python3.9/site-packages/sklearn/linear_model/_logistic.py:1483: UserWarning: Setting penalty='none' will ignore the C and l1_ratio parameters\n",
      "  warnings.warn(\n"
     ]
    },
    {
     "name": "stdout",
     "output_type": "stream",
     "text": [
      "[CV] END clf__C=0.16378937069540642, clf__penalty=none, clf__solver=sag; total time=   1.1s\n"
     ]
    },
    {
     "name": "stderr",
     "output_type": "stream",
     "text": [
      "/Users/guy/miniforge3/envs/.venv/lib/python3.9/site-packages/sklearn/linear_model/_logistic.py:1483: UserWarning: Setting penalty='none' will ignore the C and l1_ratio parameters\n",
      "  warnings.warn(\n"
     ]
    },
    {
     "name": "stdout",
     "output_type": "stream",
     "text": [
      "[CV] END clf__C=0.16378937069540642, clf__penalty=none, clf__solver=sag; total time=   1.1s\n"
     ]
    },
    {
     "name": "stderr",
     "output_type": "stream",
     "text": [
      "/Users/guy/miniforge3/envs/.venv/lib/python3.9/site-packages/sklearn/linear_model/_logistic.py:1483: UserWarning: Setting penalty='none' will ignore the C and l1_ratio parameters\n",
      "  warnings.warn(\n"
     ]
    },
    {
     "name": "stdout",
     "output_type": "stream",
     "text": [
      "[CV] END clf__C=0.16378937069540642, clf__penalty=none, clf__solver=sag; total time=   1.2s\n"
     ]
    },
    {
     "name": "stderr",
     "output_type": "stream",
     "text": [
      "/Users/guy/miniforge3/envs/.venv/lib/python3.9/site-packages/sklearn/linear_model/_logistic.py:1483: UserWarning: Setting penalty='none' will ignore the C and l1_ratio parameters\n",
      "  warnings.warn(\n"
     ]
    },
    {
     "name": "stdout",
     "output_type": "stream",
     "text": [
      "[CV] END clf__C=0.16378937069540642, clf__penalty=none, clf__solver=sag; total time=   1.1s\n"
     ]
    },
    {
     "name": "stderr",
     "output_type": "stream",
     "text": [
      "/Users/guy/miniforge3/envs/.venv/lib/python3.9/site-packages/sklearn/linear_model/_logistic.py:1483: UserWarning: Setting penalty='none' will ignore the C and l1_ratio parameters\n",
      "  warnings.warn(\n"
     ]
    },
    {
     "name": "stdout",
     "output_type": "stream",
     "text": [
      "[CV] END clf__C=0.16378937069540642, clf__penalty=none, clf__solver=sag; total time=   1.2s\n"
     ]
    },
    {
     "name": "stderr",
     "output_type": "stream",
     "text": [
      "/Users/guy/miniforge3/envs/.venv/lib/python3.9/site-packages/sklearn/linear_model/_logistic.py:1483: UserWarning: Setting penalty='none' will ignore the C and l1_ratio parameters\n",
      "  warnings.warn(\n"
     ]
    },
    {
     "name": "stdout",
     "output_type": "stream",
     "text": [
      "[CV] END clf__C=0.16378937069540642, clf__penalty=none, clf__solver=sag; total time=   0.7s\n",
      "[CV] END clf__C=0.193069772888325, clf__penalty=l1, clf__solver=lbfgs; total time=   0.0s\n",
      "[CV] END clf__C=0.193069772888325, clf__penalty=l1, clf__solver=lbfgs; total time=   0.0s\n",
      "[CV] END clf__C=0.193069772888325, clf__penalty=l1, clf__solver=lbfgs; total time=   0.0s\n",
      "[CV] END clf__C=0.193069772888325, clf__penalty=l1, clf__solver=lbfgs; total time=   0.0s\n",
      "[CV] END clf__C=0.193069772888325, clf__penalty=l1, clf__solver=lbfgs; total time=   0.0s\n",
      "[CV] END clf__C=0.193069772888325, clf__penalty=l1, clf__solver=lbfgs; total time=   0.0s\n",
      "[CV] END clf__C=0.193069772888325, clf__penalty=l1, clf__solver=lbfgs; total time=   0.0s\n",
      "[CV] END clf__C=0.193069772888325, clf__penalty=l1, clf__solver=lbfgs; total time=   0.0s\n",
      "[CV] END clf__C=0.193069772888325, clf__penalty=l1, clf__solver=lbfgs; total time=   0.0s\n",
      "[CV] END clf__C=0.193069772888325, clf__penalty=l1, clf__solver=lbfgs; total time=   0.0s\n",
      "[CV] END clf__C=0.193069772888325, clf__penalty=l1, clf__solver=lbfgs; total time=   0.0s\n",
      "[CV] END clf__C=0.193069772888325, clf__penalty=l1, clf__solver=lbfgs; total time=   0.0s\n",
      "[CV] END clf__C=0.193069772888325, clf__penalty=l1, clf__solver=lbfgs; total time=   0.0s\n",
      "[CV] END clf__C=0.193069772888325, clf__penalty=l1, clf__solver=lbfgs; total time=   0.0s\n",
      "[CV] END clf__C=0.193069772888325, clf__penalty=l1, clf__solver=lbfgs; total time=   0.0s\n",
      "[CV] END clf__C=0.193069772888325, clf__penalty=l1, clf__solver=liblinear; total time=   0.2s\n",
      "[CV] END clf__C=0.193069772888325, clf__penalty=l1, clf__solver=liblinear; total time=   0.2s\n",
      "[CV] END clf__C=0.193069772888325, clf__penalty=l1, clf__solver=liblinear; total time=   0.3s\n",
      "[CV] END clf__C=0.193069772888325, clf__penalty=l1, clf__solver=liblinear; total time=   0.2s\n",
      "[CV] END clf__C=0.193069772888325, clf__penalty=l1, clf__solver=liblinear; total time=   0.2s\n",
      "[CV] END clf__C=0.193069772888325, clf__penalty=l1, clf__solver=liblinear; total time=   0.2s\n",
      "[CV] END clf__C=0.193069772888325, clf__penalty=l1, clf__solver=liblinear; total time=   0.2s\n",
      "[CV] END clf__C=0.193069772888325, clf__penalty=l1, clf__solver=liblinear; total time=   0.2s\n",
      "[CV] END clf__C=0.193069772888325, clf__penalty=l1, clf__solver=liblinear; total time=   0.2s\n",
      "[CV] END clf__C=0.193069772888325, clf__penalty=l1, clf__solver=liblinear; total time=   0.2s\n",
      "[CV] END clf__C=0.193069772888325, clf__penalty=l1, clf__solver=liblinear; total time=   0.2s\n",
      "[CV] END clf__C=0.193069772888325, clf__penalty=l1, clf__solver=liblinear; total time=   0.2s\n",
      "[CV] END clf__C=0.193069772888325, clf__penalty=l1, clf__solver=liblinear; total time=   0.2s\n",
      "[CV] END clf__C=0.193069772888325, clf__penalty=l1, clf__solver=liblinear; total time=   0.2s\n",
      "[CV] END clf__C=0.193069772888325, clf__penalty=l1, clf__solver=liblinear; total time=   0.1s\n",
      "[CV] END clf__C=0.193069772888325, clf__penalty=l1, clf__solver=sag; total time=   0.0s\n",
      "[CV] END clf__C=0.193069772888325, clf__penalty=l1, clf__solver=sag; total time=   0.0s\n",
      "[CV] END clf__C=0.193069772888325, clf__penalty=l1, clf__solver=sag; total time=   0.0s\n",
      "[CV] END clf__C=0.193069772888325, clf__penalty=l1, clf__solver=sag; total time=   0.0s\n",
      "[CV] END clf__C=0.193069772888325, clf__penalty=l1, clf__solver=sag; total time=   0.0s\n",
      "[CV] END clf__C=0.193069772888325, clf__penalty=l1, clf__solver=sag; total time=   0.0s\n",
      "[CV] END clf__C=0.193069772888325, clf__penalty=l1, clf__solver=sag; total time=   0.0s\n",
      "[CV] END clf__C=0.193069772888325, clf__penalty=l1, clf__solver=sag; total time=   0.0s\n",
      "[CV] END clf__C=0.193069772888325, clf__penalty=l1, clf__solver=sag; total time=   0.0s\n",
      "[CV] END clf__C=0.193069772888325, clf__penalty=l1, clf__solver=sag; total time=   0.0s\n",
      "[CV] END clf__C=0.193069772888325, clf__penalty=l1, clf__solver=sag; total time=   0.0s\n",
      "[CV] END clf__C=0.193069772888325, clf__penalty=l1, clf__solver=sag; total time=   0.0s\n",
      "[CV] END clf__C=0.193069772888325, clf__penalty=l1, clf__solver=sag; total time=   0.0s\n",
      "[CV] END clf__C=0.193069772888325, clf__penalty=l1, clf__solver=sag; total time=   0.0s\n",
      "[CV] END clf__C=0.193069772888325, clf__penalty=l1, clf__solver=sag; total time=   0.0s\n",
      "[CV] END clf__C=0.193069772888325, clf__penalty=l2, clf__solver=lbfgs; total time=   0.1s\n",
      "[CV] END clf__C=0.193069772888325, clf__penalty=l2, clf__solver=lbfgs; total time=   0.1s\n",
      "[CV] END clf__C=0.193069772888325, clf__penalty=l2, clf__solver=lbfgs; total time=   0.1s\n",
      "[CV] END clf__C=0.193069772888325, clf__penalty=l2, clf__solver=lbfgs; total time=   0.1s\n",
      "[CV] END clf__C=0.193069772888325, clf__penalty=l2, clf__solver=lbfgs; total time=   0.1s\n",
      "[CV] END clf__C=0.193069772888325, clf__penalty=l2, clf__solver=lbfgs; total time=   0.1s\n",
      "[CV] END clf__C=0.193069772888325, clf__penalty=l2, clf__solver=lbfgs; total time=   0.1s\n",
      "[CV] END clf__C=0.193069772888325, clf__penalty=l2, clf__solver=lbfgs; total time=   0.1s\n",
      "[CV] END clf__C=0.193069772888325, clf__penalty=l2, clf__solver=lbfgs; total time=   0.1s\n",
      "[CV] END clf__C=0.193069772888325, clf__penalty=l2, clf__solver=lbfgs; total time=   0.1s\n",
      "[CV] END clf__C=0.193069772888325, clf__penalty=l2, clf__solver=lbfgs; total time=   0.1s\n",
      "[CV] END clf__C=0.193069772888325, clf__penalty=l2, clf__solver=lbfgs; total time=   0.1s\n",
      "[CV] END clf__C=0.193069772888325, clf__penalty=l2, clf__solver=lbfgs; total time=   0.1s\n",
      "[CV] END clf__C=0.193069772888325, clf__penalty=l2, clf__solver=lbfgs; total time=   0.1s\n",
      "[CV] END clf__C=0.193069772888325, clf__penalty=l2, clf__solver=lbfgs; total time=   0.1s\n",
      "[CV] END clf__C=0.193069772888325, clf__penalty=l2, clf__solver=liblinear; total time=   0.1s\n",
      "[CV] END clf__C=0.193069772888325, clf__penalty=l2, clf__solver=liblinear; total time=   0.1s\n",
      "[CV] END clf__C=0.193069772888325, clf__penalty=l2, clf__solver=liblinear; total time=   0.1s\n",
      "[CV] END clf__C=0.193069772888325, clf__penalty=l2, clf__solver=liblinear; total time=   0.1s\n",
      "[CV] END clf__C=0.193069772888325, clf__penalty=l2, clf__solver=liblinear; total time=   0.1s\n",
      "[CV] END clf__C=0.193069772888325, clf__penalty=l2, clf__solver=liblinear; total time=   0.1s\n",
      "[CV] END clf__C=0.193069772888325, clf__penalty=l2, clf__solver=liblinear; total time=   0.1s\n",
      "[CV] END clf__C=0.193069772888325, clf__penalty=l2, clf__solver=liblinear; total time=   0.1s\n",
      "[CV] END clf__C=0.193069772888325, clf__penalty=l2, clf__solver=liblinear; total time=   0.1s\n",
      "[CV] END clf__C=0.193069772888325, clf__penalty=l2, clf__solver=liblinear; total time=   0.1s\n",
      "[CV] END clf__C=0.193069772888325, clf__penalty=l2, clf__solver=liblinear; total time=   0.1s\n",
      "[CV] END clf__C=0.193069772888325, clf__penalty=l2, clf__solver=liblinear; total time=   0.1s\n",
      "[CV] END clf__C=0.193069772888325, clf__penalty=l2, clf__solver=liblinear; total time=   0.1s\n",
      "[CV] END clf__C=0.193069772888325, clf__penalty=l2, clf__solver=liblinear; total time=   0.1s\n",
      "[CV] END clf__C=0.193069772888325, clf__penalty=l2, clf__solver=liblinear; total time=   0.1s\n",
      "[CV] END clf__C=0.193069772888325, clf__penalty=l2, clf__solver=sag; total time=   0.2s\n",
      "[CV] END clf__C=0.193069772888325, clf__penalty=l2, clf__solver=sag; total time=   0.2s\n",
      "[CV] END clf__C=0.193069772888325, clf__penalty=l2, clf__solver=sag; total time=   0.2s\n",
      "[CV] END clf__C=0.193069772888325, clf__penalty=l2, clf__solver=sag; total time=   0.2s\n",
      "[CV] END clf__C=0.193069772888325, clf__penalty=l2, clf__solver=sag; total time=   0.2s\n",
      "[CV] END clf__C=0.193069772888325, clf__penalty=l2, clf__solver=sag; total time=   0.2s\n",
      "[CV] END clf__C=0.193069772888325, clf__penalty=l2, clf__solver=sag; total time=   0.2s\n",
      "[CV] END clf__C=0.193069772888325, clf__penalty=l2, clf__solver=sag; total time=   0.2s\n",
      "[CV] END clf__C=0.193069772888325, clf__penalty=l2, clf__solver=sag; total time=   0.2s\n",
      "[CV] END clf__C=0.193069772888325, clf__penalty=l2, clf__solver=sag; total time=   0.2s\n",
      "[CV] END clf__C=0.193069772888325, clf__penalty=l2, clf__solver=sag; total time=   0.2s\n",
      "[CV] END clf__C=0.193069772888325, clf__penalty=l2, clf__solver=sag; total time=   0.2s\n",
      "[CV] END clf__C=0.193069772888325, clf__penalty=l2, clf__solver=sag; total time=   0.2s\n",
      "[CV] END clf__C=0.193069772888325, clf__penalty=l2, clf__solver=sag; total time=   0.2s\n",
      "[CV] END clf__C=0.193069772888325, clf__penalty=l2, clf__solver=sag; total time=   0.2s\n"
     ]
    },
    {
     "name": "stderr",
     "output_type": "stream",
     "text": [
      "/Users/guy/miniforge3/envs/.venv/lib/python3.9/site-packages/sklearn/linear_model/_logistic.py:1483: UserWarning: Setting penalty='none' will ignore the C and l1_ratio parameters\n",
      "  warnings.warn(\n"
     ]
    },
    {
     "name": "stdout",
     "output_type": "stream",
     "text": [
      "[CV] END clf__C=0.193069772888325, clf__penalty=none, clf__solver=lbfgs; total time=   0.2s\n"
     ]
    },
    {
     "name": "stderr",
     "output_type": "stream",
     "text": [
      "/Users/guy/miniforge3/envs/.venv/lib/python3.9/site-packages/sklearn/linear_model/_logistic.py:1483: UserWarning: Setting penalty='none' will ignore the C and l1_ratio parameters\n",
      "  warnings.warn(\n"
     ]
    },
    {
     "name": "stdout",
     "output_type": "stream",
     "text": [
      "[CV] END clf__C=0.193069772888325, clf__penalty=none, clf__solver=lbfgs; total time=   0.3s\n"
     ]
    },
    {
     "name": "stderr",
     "output_type": "stream",
     "text": [
      "/Users/guy/miniforge3/envs/.venv/lib/python3.9/site-packages/sklearn/linear_model/_logistic.py:1483: UserWarning: Setting penalty='none' will ignore the C and l1_ratio parameters\n",
      "  warnings.warn(\n"
     ]
    },
    {
     "name": "stdout",
     "output_type": "stream",
     "text": [
      "[CV] END clf__C=0.193069772888325, clf__penalty=none, clf__solver=lbfgs; total time=   0.3s\n"
     ]
    },
    {
     "name": "stderr",
     "output_type": "stream",
     "text": [
      "/Users/guy/miniforge3/envs/.venv/lib/python3.9/site-packages/sklearn/linear_model/_logistic.py:1483: UserWarning: Setting penalty='none' will ignore the C and l1_ratio parameters\n",
      "  warnings.warn(\n"
     ]
    },
    {
     "name": "stdout",
     "output_type": "stream",
     "text": [
      "[CV] END clf__C=0.193069772888325, clf__penalty=none, clf__solver=lbfgs; total time=   0.3s\n"
     ]
    },
    {
     "name": "stderr",
     "output_type": "stream",
     "text": [
      "/Users/guy/miniforge3/envs/.venv/lib/python3.9/site-packages/sklearn/linear_model/_logistic.py:1483: UserWarning: Setting penalty='none' will ignore the C and l1_ratio parameters\n",
      "  warnings.warn(\n"
     ]
    },
    {
     "name": "stdout",
     "output_type": "stream",
     "text": [
      "[CV] END clf__C=0.193069772888325, clf__penalty=none, clf__solver=lbfgs; total time=   0.3s\n"
     ]
    },
    {
     "name": "stderr",
     "output_type": "stream",
     "text": [
      "/Users/guy/miniforge3/envs/.venv/lib/python3.9/site-packages/sklearn/linear_model/_logistic.py:1483: UserWarning: Setting penalty='none' will ignore the C and l1_ratio parameters\n",
      "  warnings.warn(\n"
     ]
    },
    {
     "name": "stdout",
     "output_type": "stream",
     "text": [
      "[CV] END clf__C=0.193069772888325, clf__penalty=none, clf__solver=lbfgs; total time=   0.4s\n"
     ]
    },
    {
     "name": "stderr",
     "output_type": "stream",
     "text": [
      "/Users/guy/miniforge3/envs/.venv/lib/python3.9/site-packages/sklearn/linear_model/_logistic.py:1483: UserWarning: Setting penalty='none' will ignore the C and l1_ratio parameters\n",
      "  warnings.warn(\n"
     ]
    },
    {
     "name": "stdout",
     "output_type": "stream",
     "text": [
      "[CV] END clf__C=0.193069772888325, clf__penalty=none, clf__solver=lbfgs; total time=   0.2s\n"
     ]
    },
    {
     "name": "stderr",
     "output_type": "stream",
     "text": [
      "/Users/guy/miniforge3/envs/.venv/lib/python3.9/site-packages/sklearn/linear_model/_logistic.py:1483: UserWarning: Setting penalty='none' will ignore the C and l1_ratio parameters\n",
      "  warnings.warn(\n"
     ]
    },
    {
     "name": "stdout",
     "output_type": "stream",
     "text": [
      "[CV] END clf__C=0.193069772888325, clf__penalty=none, clf__solver=lbfgs; total time=   0.3s\n"
     ]
    },
    {
     "name": "stderr",
     "output_type": "stream",
     "text": [
      "/Users/guy/miniforge3/envs/.venv/lib/python3.9/site-packages/sklearn/linear_model/_logistic.py:1483: UserWarning: Setting penalty='none' will ignore the C and l1_ratio parameters\n",
      "  warnings.warn(\n"
     ]
    },
    {
     "name": "stdout",
     "output_type": "stream",
     "text": [
      "[CV] END clf__C=0.193069772888325, clf__penalty=none, clf__solver=lbfgs; total time=   0.3s\n"
     ]
    },
    {
     "name": "stderr",
     "output_type": "stream",
     "text": [
      "/Users/guy/miniforge3/envs/.venv/lib/python3.9/site-packages/sklearn/linear_model/_logistic.py:1483: UserWarning: Setting penalty='none' will ignore the C and l1_ratio parameters\n",
      "  warnings.warn(\n"
     ]
    },
    {
     "name": "stdout",
     "output_type": "stream",
     "text": [
      "[CV] END clf__C=0.193069772888325, clf__penalty=none, clf__solver=lbfgs; total time=   0.3s\n"
     ]
    },
    {
     "name": "stderr",
     "output_type": "stream",
     "text": [
      "/Users/guy/miniforge3/envs/.venv/lib/python3.9/site-packages/sklearn/linear_model/_logistic.py:1483: UserWarning: Setting penalty='none' will ignore the C and l1_ratio parameters\n",
      "  warnings.warn(\n"
     ]
    },
    {
     "name": "stdout",
     "output_type": "stream",
     "text": [
      "[CV] END clf__C=0.193069772888325, clf__penalty=none, clf__solver=lbfgs; total time=   0.3s\n"
     ]
    },
    {
     "name": "stderr",
     "output_type": "stream",
     "text": [
      "/Users/guy/miniforge3/envs/.venv/lib/python3.9/site-packages/sklearn/linear_model/_logistic.py:1483: UserWarning: Setting penalty='none' will ignore the C and l1_ratio parameters\n",
      "  warnings.warn(\n"
     ]
    },
    {
     "name": "stdout",
     "output_type": "stream",
     "text": [
      "[CV] END clf__C=0.193069772888325, clf__penalty=none, clf__solver=lbfgs; total time=   0.3s\n"
     ]
    },
    {
     "name": "stderr",
     "output_type": "stream",
     "text": [
      "/Users/guy/miniforge3/envs/.venv/lib/python3.9/site-packages/sklearn/linear_model/_logistic.py:1483: UserWarning: Setting penalty='none' will ignore the C and l1_ratio parameters\n",
      "  warnings.warn(\n"
     ]
    },
    {
     "name": "stdout",
     "output_type": "stream",
     "text": [
      "[CV] END clf__C=0.193069772888325, clf__penalty=none, clf__solver=lbfgs; total time=   0.3s\n"
     ]
    },
    {
     "name": "stderr",
     "output_type": "stream",
     "text": [
      "/Users/guy/miniforge3/envs/.venv/lib/python3.9/site-packages/sklearn/linear_model/_logistic.py:1483: UserWarning: Setting penalty='none' will ignore the C and l1_ratio parameters\n",
      "  warnings.warn(\n"
     ]
    },
    {
     "name": "stdout",
     "output_type": "stream",
     "text": [
      "[CV] END clf__C=0.193069772888325, clf__penalty=none, clf__solver=lbfgs; total time=   0.3s\n"
     ]
    },
    {
     "name": "stderr",
     "output_type": "stream",
     "text": [
      "/Users/guy/miniforge3/envs/.venv/lib/python3.9/site-packages/sklearn/linear_model/_logistic.py:1483: UserWarning: Setting penalty='none' will ignore the C and l1_ratio parameters\n",
      "  warnings.warn(\n"
     ]
    },
    {
     "name": "stdout",
     "output_type": "stream",
     "text": [
      "[CV] END clf__C=0.193069772888325, clf__penalty=none, clf__solver=lbfgs; total time=   0.2s\n",
      "[CV] END clf__C=0.193069772888325, clf__penalty=none, clf__solver=liblinear; total time=   0.0s\n",
      "[CV] END clf__C=0.193069772888325, clf__penalty=none, clf__solver=liblinear; total time=   0.0s\n",
      "[CV] END clf__C=0.193069772888325, clf__penalty=none, clf__solver=liblinear; total time=   0.0s\n",
      "[CV] END clf__C=0.193069772888325, clf__penalty=none, clf__solver=liblinear; total time=   0.0s\n",
      "[CV] END clf__C=0.193069772888325, clf__penalty=none, clf__solver=liblinear; total time=   0.0s\n",
      "[CV] END clf__C=0.193069772888325, clf__penalty=none, clf__solver=liblinear; total time=   0.0s\n",
      "[CV] END clf__C=0.193069772888325, clf__penalty=none, clf__solver=liblinear; total time=   0.0s\n",
      "[CV] END clf__C=0.193069772888325, clf__penalty=none, clf__solver=liblinear; total time=   0.0s\n",
      "[CV] END clf__C=0.193069772888325, clf__penalty=none, clf__solver=liblinear; total time=   0.0s\n",
      "[CV] END clf__C=0.193069772888325, clf__penalty=none, clf__solver=liblinear; total time=   0.0s\n",
      "[CV] END clf__C=0.193069772888325, clf__penalty=none, clf__solver=liblinear; total time=   0.0s\n",
      "[CV] END clf__C=0.193069772888325, clf__penalty=none, clf__solver=liblinear; total time=   0.0s\n",
      "[CV] END clf__C=0.193069772888325, clf__penalty=none, clf__solver=liblinear; total time=   0.0s\n",
      "[CV] END clf__C=0.193069772888325, clf__penalty=none, clf__solver=liblinear; total time=   0.0s\n",
      "[CV] END clf__C=0.193069772888325, clf__penalty=none, clf__solver=liblinear; total time=   0.0s\n"
     ]
    },
    {
     "name": "stderr",
     "output_type": "stream",
     "text": [
      "/Users/guy/miniforge3/envs/.venv/lib/python3.9/site-packages/sklearn/linear_model/_logistic.py:1483: UserWarning: Setting penalty='none' will ignore the C and l1_ratio parameters\n",
      "  warnings.warn(\n"
     ]
    },
    {
     "name": "stdout",
     "output_type": "stream",
     "text": [
      "[CV] END clf__C=0.193069772888325, clf__penalty=none, clf__solver=sag; total time=   0.7s\n"
     ]
    },
    {
     "name": "stderr",
     "output_type": "stream",
     "text": [
      "/Users/guy/miniforge3/envs/.venv/lib/python3.9/site-packages/sklearn/linear_model/_logistic.py:1483: UserWarning: Setting penalty='none' will ignore the C and l1_ratio parameters\n",
      "  warnings.warn(\n"
     ]
    },
    {
     "name": "stdout",
     "output_type": "stream",
     "text": [
      "[CV] END clf__C=0.193069772888325, clf__penalty=none, clf__solver=sag; total time=   1.2s\n"
     ]
    },
    {
     "name": "stderr",
     "output_type": "stream",
     "text": [
      "/Users/guy/miniforge3/envs/.venv/lib/python3.9/site-packages/sklearn/linear_model/_logistic.py:1483: UserWarning: Setting penalty='none' will ignore the C and l1_ratio parameters\n",
      "  warnings.warn(\n"
     ]
    },
    {
     "name": "stdout",
     "output_type": "stream",
     "text": [
      "[CV] END clf__C=0.193069772888325, clf__penalty=none, clf__solver=sag; total time=   1.2s\n"
     ]
    },
    {
     "name": "stderr",
     "output_type": "stream",
     "text": [
      "/Users/guy/miniforge3/envs/.venv/lib/python3.9/site-packages/sklearn/linear_model/_logistic.py:1483: UserWarning: Setting penalty='none' will ignore the C and l1_ratio parameters\n",
      "  warnings.warn(\n"
     ]
    },
    {
     "name": "stdout",
     "output_type": "stream",
     "text": [
      "[CV] END clf__C=0.193069772888325, clf__penalty=none, clf__solver=sag; total time=   1.1s\n"
     ]
    },
    {
     "name": "stderr",
     "output_type": "stream",
     "text": [
      "/Users/guy/miniforge3/envs/.venv/lib/python3.9/site-packages/sklearn/linear_model/_logistic.py:1483: UserWarning: Setting penalty='none' will ignore the C and l1_ratio parameters\n",
      "  warnings.warn(\n"
     ]
    },
    {
     "name": "stdout",
     "output_type": "stream",
     "text": [
      "[CV] END clf__C=0.193069772888325, clf__penalty=none, clf__solver=sag; total time=   1.0s\n"
     ]
    },
    {
     "name": "stderr",
     "output_type": "stream",
     "text": [
      "/Users/guy/miniforge3/envs/.venv/lib/python3.9/site-packages/sklearn/linear_model/_logistic.py:1483: UserWarning: Setting penalty='none' will ignore the C and l1_ratio parameters\n",
      "  warnings.warn(\n"
     ]
    },
    {
     "name": "stdout",
     "output_type": "stream",
     "text": [
      "[CV] END clf__C=0.193069772888325, clf__penalty=none, clf__solver=sag; total time=   1.2s\n"
     ]
    },
    {
     "name": "stderr",
     "output_type": "stream",
     "text": [
      "/Users/guy/miniforge3/envs/.venv/lib/python3.9/site-packages/sklearn/linear_model/_logistic.py:1483: UserWarning: Setting penalty='none' will ignore the C and l1_ratio parameters\n",
      "  warnings.warn(\n"
     ]
    },
    {
     "name": "stdout",
     "output_type": "stream",
     "text": [
      "[CV] END clf__C=0.193069772888325, clf__penalty=none, clf__solver=sag; total time=   0.7s\n"
     ]
    },
    {
     "name": "stderr",
     "output_type": "stream",
     "text": [
      "/Users/guy/miniforge3/envs/.venv/lib/python3.9/site-packages/sklearn/linear_model/_logistic.py:1483: UserWarning: Setting penalty='none' will ignore the C and l1_ratio parameters\n",
      "  warnings.warn(\n"
     ]
    },
    {
     "name": "stdout",
     "output_type": "stream",
     "text": [
      "[CV] END clf__C=0.193069772888325, clf__penalty=none, clf__solver=sag; total time=   1.1s\n"
     ]
    },
    {
     "name": "stderr",
     "output_type": "stream",
     "text": [
      "/Users/guy/miniforge3/envs/.venv/lib/python3.9/site-packages/sklearn/linear_model/_logistic.py:1483: UserWarning: Setting penalty='none' will ignore the C and l1_ratio parameters\n",
      "  warnings.warn(\n"
     ]
    },
    {
     "name": "stdout",
     "output_type": "stream",
     "text": [
      "[CV] END clf__C=0.193069772888325, clf__penalty=none, clf__solver=sag; total time=   1.2s\n"
     ]
    },
    {
     "name": "stderr",
     "output_type": "stream",
     "text": [
      "/Users/guy/miniforge3/envs/.venv/lib/python3.9/site-packages/sklearn/linear_model/_logistic.py:1483: UserWarning: Setting penalty='none' will ignore the C and l1_ratio parameters\n",
      "  warnings.warn(\n"
     ]
    },
    {
     "name": "stdout",
     "output_type": "stream",
     "text": [
      "[CV] END clf__C=0.193069772888325, clf__penalty=none, clf__solver=sag; total time=   1.0s\n"
     ]
    },
    {
     "name": "stderr",
     "output_type": "stream",
     "text": [
      "/Users/guy/miniforge3/envs/.venv/lib/python3.9/site-packages/sklearn/linear_model/_logistic.py:1483: UserWarning: Setting penalty='none' will ignore the C and l1_ratio parameters\n",
      "  warnings.warn(\n"
     ]
    },
    {
     "name": "stdout",
     "output_type": "stream",
     "text": [
      "[CV] END clf__C=0.193069772888325, clf__penalty=none, clf__solver=sag; total time=   1.1s\n"
     ]
    },
    {
     "name": "stderr",
     "output_type": "stream",
     "text": [
      "/Users/guy/miniforge3/envs/.venv/lib/python3.9/site-packages/sklearn/linear_model/_logistic.py:1483: UserWarning: Setting penalty='none' will ignore the C and l1_ratio parameters\n",
      "  warnings.warn(\n"
     ]
    },
    {
     "name": "stdout",
     "output_type": "stream",
     "text": [
      "[CV] END clf__C=0.193069772888325, clf__penalty=none, clf__solver=sag; total time=   1.2s\n"
     ]
    },
    {
     "name": "stderr",
     "output_type": "stream",
     "text": [
      "/Users/guy/miniforge3/envs/.venv/lib/python3.9/site-packages/sklearn/linear_model/_logistic.py:1483: UserWarning: Setting penalty='none' will ignore the C and l1_ratio parameters\n",
      "  warnings.warn(\n"
     ]
    },
    {
     "name": "stdout",
     "output_type": "stream",
     "text": [
      "[CV] END clf__C=0.193069772888325, clf__penalty=none, clf__solver=sag; total time=   1.1s\n"
     ]
    },
    {
     "name": "stderr",
     "output_type": "stream",
     "text": [
      "/Users/guy/miniforge3/envs/.venv/lib/python3.9/site-packages/sklearn/linear_model/_logistic.py:1483: UserWarning: Setting penalty='none' will ignore the C and l1_ratio parameters\n",
      "  warnings.warn(\n"
     ]
    },
    {
     "name": "stdout",
     "output_type": "stream",
     "text": [
      "[CV] END clf__C=0.193069772888325, clf__penalty=none, clf__solver=sag; total time=   1.2s\n"
     ]
    },
    {
     "name": "stderr",
     "output_type": "stream",
     "text": [
      "/Users/guy/miniforge3/envs/.venv/lib/python3.9/site-packages/sklearn/linear_model/_logistic.py:1483: UserWarning: Setting penalty='none' will ignore the C and l1_ratio parameters\n",
      "  warnings.warn(\n"
     ]
    },
    {
     "name": "stdout",
     "output_type": "stream",
     "text": [
      "[CV] END clf__C=0.193069772888325, clf__penalty=none, clf__solver=sag; total time=   0.7s\n",
      "[CV] END clf__C=0.22758459260747882, clf__penalty=l1, clf__solver=lbfgs; total time=   0.0s\n",
      "[CV] END clf__C=0.22758459260747882, clf__penalty=l1, clf__solver=lbfgs; total time=   0.0s\n",
      "[CV] END clf__C=0.22758459260747882, clf__penalty=l1, clf__solver=lbfgs; total time=   0.0s\n",
      "[CV] END clf__C=0.22758459260747882, clf__penalty=l1, clf__solver=lbfgs; total time=   0.0s\n",
      "[CV] END clf__C=0.22758459260747882, clf__penalty=l1, clf__solver=lbfgs; total time=   0.0s\n",
      "[CV] END clf__C=0.22758459260747882, clf__penalty=l1, clf__solver=lbfgs; total time=   0.0s\n",
      "[CV] END clf__C=0.22758459260747882, clf__penalty=l1, clf__solver=lbfgs; total time=   0.0s\n",
      "[CV] END clf__C=0.22758459260747882, clf__penalty=l1, clf__solver=lbfgs; total time=   0.0s\n",
      "[CV] END clf__C=0.22758459260747882, clf__penalty=l1, clf__solver=lbfgs; total time=   0.0s\n",
      "[CV] END clf__C=0.22758459260747882, clf__penalty=l1, clf__solver=lbfgs; total time=   0.0s\n",
      "[CV] END clf__C=0.22758459260747882, clf__penalty=l1, clf__solver=lbfgs; total time=   0.0s\n",
      "[CV] END clf__C=0.22758459260747882, clf__penalty=l1, clf__solver=lbfgs; total time=   0.0s\n",
      "[CV] END clf__C=0.22758459260747882, clf__penalty=l1, clf__solver=lbfgs; total time=   0.0s\n",
      "[CV] END clf__C=0.22758459260747882, clf__penalty=l1, clf__solver=lbfgs; total time=   0.0s\n",
      "[CV] END clf__C=0.22758459260747882, clf__penalty=l1, clf__solver=lbfgs; total time=   0.0s\n",
      "[CV] END clf__C=0.22758459260747882, clf__penalty=l1, clf__solver=liblinear; total time=   0.2s\n",
      "[CV] END clf__C=0.22758459260747882, clf__penalty=l1, clf__solver=liblinear; total time=   0.2s\n",
      "[CV] END clf__C=0.22758459260747882, clf__penalty=l1, clf__solver=liblinear; total time=   0.3s\n",
      "[CV] END clf__C=0.22758459260747882, clf__penalty=l1, clf__solver=liblinear; total time=   0.2s\n",
      "[CV] END clf__C=0.22758459260747882, clf__penalty=l1, clf__solver=liblinear; total time=   0.2s\n",
      "[CV] END clf__C=0.22758459260747882, clf__penalty=l1, clf__solver=liblinear; total time=   0.2s\n",
      "[CV] END clf__C=0.22758459260747882, clf__penalty=l1, clf__solver=liblinear; total time=   0.2s\n",
      "[CV] END clf__C=0.22758459260747882, clf__penalty=l1, clf__solver=liblinear; total time=   0.2s\n",
      "[CV] END clf__C=0.22758459260747882, clf__penalty=l1, clf__solver=liblinear; total time=   0.2s\n",
      "[CV] END clf__C=0.22758459260747882, clf__penalty=l1, clf__solver=liblinear; total time=   0.2s\n",
      "[CV] END clf__C=0.22758459260747882, clf__penalty=l1, clf__solver=liblinear; total time=   0.3s\n",
      "[CV] END clf__C=0.22758459260747882, clf__penalty=l1, clf__solver=liblinear; total time=   0.2s\n",
      "[CV] END clf__C=0.22758459260747882, clf__penalty=l1, clf__solver=liblinear; total time=   0.2s\n",
      "[CV] END clf__C=0.22758459260747882, clf__penalty=l1, clf__solver=liblinear; total time=   0.2s\n",
      "[CV] END clf__C=0.22758459260747882, clf__penalty=l1, clf__solver=liblinear; total time=   0.3s\n",
      "[CV] END clf__C=0.22758459260747882, clf__penalty=l1, clf__solver=sag; total time=   0.0s\n",
      "[CV] END clf__C=0.22758459260747882, clf__penalty=l1, clf__solver=sag; total time=   0.0s\n",
      "[CV] END clf__C=0.22758459260747882, clf__penalty=l1, clf__solver=sag; total time=   0.0s\n",
      "[CV] END clf__C=0.22758459260747882, clf__penalty=l1, clf__solver=sag; total time=   0.0s\n",
      "[CV] END clf__C=0.22758459260747882, clf__penalty=l1, clf__solver=sag; total time=   0.0s\n",
      "[CV] END clf__C=0.22758459260747882, clf__penalty=l1, clf__solver=sag; total time=   0.0s\n",
      "[CV] END clf__C=0.22758459260747882, clf__penalty=l1, clf__solver=sag; total time=   0.0s\n",
      "[CV] END clf__C=0.22758459260747882, clf__penalty=l1, clf__solver=sag; total time=   0.0s\n",
      "[CV] END clf__C=0.22758459260747882, clf__penalty=l1, clf__solver=sag; total time=   0.0s\n",
      "[CV] END clf__C=0.22758459260747882, clf__penalty=l1, clf__solver=sag; total time=   0.0s\n",
      "[CV] END clf__C=0.22758459260747882, clf__penalty=l1, clf__solver=sag; total time=   0.0s\n",
      "[CV] END clf__C=0.22758459260747882, clf__penalty=l1, clf__solver=sag; total time=   0.0s\n",
      "[CV] END clf__C=0.22758459260747882, clf__penalty=l1, clf__solver=sag; total time=   0.0s\n",
      "[CV] END clf__C=0.22758459260747882, clf__penalty=l1, clf__solver=sag; total time=   0.0s\n",
      "[CV] END clf__C=0.22758459260747882, clf__penalty=l1, clf__solver=sag; total time=   0.0s\n",
      "[CV] END clf__C=0.22758459260747882, clf__penalty=l2, clf__solver=lbfgs; total time=   0.1s\n",
      "[CV] END clf__C=0.22758459260747882, clf__penalty=l2, clf__solver=lbfgs; total time=   0.1s\n",
      "[CV] END clf__C=0.22758459260747882, clf__penalty=l2, clf__solver=lbfgs; total time=   0.1s\n",
      "[CV] END clf__C=0.22758459260747882, clf__penalty=l2, clf__solver=lbfgs; total time=   0.1s\n",
      "[CV] END clf__C=0.22758459260747882, clf__penalty=l2, clf__solver=lbfgs; total time=   0.1s\n",
      "[CV] END clf__C=0.22758459260747882, clf__penalty=l2, clf__solver=lbfgs; total time=   0.1s\n",
      "[CV] END clf__C=0.22758459260747882, clf__penalty=l2, clf__solver=lbfgs; total time=   0.1s\n",
      "[CV] END clf__C=0.22758459260747882, clf__penalty=l2, clf__solver=lbfgs; total time=   0.1s\n",
      "[CV] END clf__C=0.22758459260747882, clf__penalty=l2, clf__solver=lbfgs; total time=   0.1s\n",
      "[CV] END clf__C=0.22758459260747882, clf__penalty=l2, clf__solver=lbfgs; total time=   0.1s\n",
      "[CV] END clf__C=0.22758459260747882, clf__penalty=l2, clf__solver=lbfgs; total time=   0.1s\n",
      "[CV] END clf__C=0.22758459260747882, clf__penalty=l2, clf__solver=lbfgs; total time=   0.1s\n",
      "[CV] END clf__C=0.22758459260747882, clf__penalty=l2, clf__solver=lbfgs; total time=   0.1s\n",
      "[CV] END clf__C=0.22758459260747882, clf__penalty=l2, clf__solver=lbfgs; total time=   0.1s\n",
      "[CV] END clf__C=0.22758459260747882, clf__penalty=l2, clf__solver=lbfgs; total time=   0.1s\n",
      "[CV] END clf__C=0.22758459260747882, clf__penalty=l2, clf__solver=liblinear; total time=   0.1s\n",
      "[CV] END clf__C=0.22758459260747882, clf__penalty=l2, clf__solver=liblinear; total time=   0.1s\n",
      "[CV] END clf__C=0.22758459260747882, clf__penalty=l2, clf__solver=liblinear; total time=   0.1s\n",
      "[CV] END clf__C=0.22758459260747882, clf__penalty=l2, clf__solver=liblinear; total time=   0.1s\n",
      "[CV] END clf__C=0.22758459260747882, clf__penalty=l2, clf__solver=liblinear; total time=   0.1s\n",
      "[CV] END clf__C=0.22758459260747882, clf__penalty=l2, clf__solver=liblinear; total time=   0.1s\n",
      "[CV] END clf__C=0.22758459260747882, clf__penalty=l2, clf__solver=liblinear; total time=   0.1s\n",
      "[CV] END clf__C=0.22758459260747882, clf__penalty=l2, clf__solver=liblinear; total time=   0.1s\n",
      "[CV] END clf__C=0.22758459260747882, clf__penalty=l2, clf__solver=liblinear; total time=   0.1s\n",
      "[CV] END clf__C=0.22758459260747882, clf__penalty=l2, clf__solver=liblinear; total time=   0.1s\n",
      "[CV] END clf__C=0.22758459260747882, clf__penalty=l2, clf__solver=liblinear; total time=   0.1s\n",
      "[CV] END clf__C=0.22758459260747882, clf__penalty=l2, clf__solver=liblinear; total time=   0.1s\n",
      "[CV] END clf__C=0.22758459260747882, clf__penalty=l2, clf__solver=liblinear; total time=   0.1s\n",
      "[CV] END clf__C=0.22758459260747882, clf__penalty=l2, clf__solver=liblinear; total time=   0.1s\n",
      "[CV] END clf__C=0.22758459260747882, clf__penalty=l2, clf__solver=liblinear; total time=   0.1s\n",
      "[CV] END clf__C=0.22758459260747882, clf__penalty=l2, clf__solver=sag; total time=   0.2s\n",
      "[CV] END clf__C=0.22758459260747882, clf__penalty=l2, clf__solver=sag; total time=   0.2s\n",
      "[CV] END clf__C=0.22758459260747882, clf__penalty=l2, clf__solver=sag; total time=   0.2s\n",
      "[CV] END clf__C=0.22758459260747882, clf__penalty=l2, clf__solver=sag; total time=   0.2s\n",
      "[CV] END clf__C=0.22758459260747882, clf__penalty=l2, clf__solver=sag; total time=   0.2s\n",
      "[CV] END clf__C=0.22758459260747882, clf__penalty=l2, clf__solver=sag; total time=   0.2s\n",
      "[CV] END clf__C=0.22758459260747882, clf__penalty=l2, clf__solver=sag; total time=   0.2s\n",
      "[CV] END clf__C=0.22758459260747882, clf__penalty=l2, clf__solver=sag; total time=   0.2s\n",
      "[CV] END clf__C=0.22758459260747882, clf__penalty=l2, clf__solver=sag; total time=   0.2s\n",
      "[CV] END clf__C=0.22758459260747882, clf__penalty=l2, clf__solver=sag; total time=   0.2s\n",
      "[CV] END clf__C=0.22758459260747882, clf__penalty=l2, clf__solver=sag; total time=   0.2s\n",
      "[CV] END clf__C=0.22758459260747882, clf__penalty=l2, clf__solver=sag; total time=   0.2s\n",
      "[CV] END clf__C=0.22758459260747882, clf__penalty=l2, clf__solver=sag; total time=   0.2s\n"
     ]
    },
    {
     "name": "stdout",
     "output_type": "stream",
     "text": [
      "[CV] END clf__C=0.22758459260747882, clf__penalty=l2, clf__solver=sag; total time=   0.2s\n",
      "[CV] END clf__C=0.22758459260747882, clf__penalty=l2, clf__solver=sag; total time=   0.2s\n"
     ]
    },
    {
     "name": "stderr",
     "output_type": "stream",
     "text": [
      "/Users/guy/miniforge3/envs/.venv/lib/python3.9/site-packages/sklearn/linear_model/_logistic.py:1483: UserWarning: Setting penalty='none' will ignore the C and l1_ratio parameters\n",
      "  warnings.warn(\n"
     ]
    },
    {
     "name": "stdout",
     "output_type": "stream",
     "text": [
      "[CV] END clf__C=0.22758459260747882, clf__penalty=none, clf__solver=lbfgs; total time=   0.2s\n"
     ]
    },
    {
     "name": "stderr",
     "output_type": "stream",
     "text": [
      "/Users/guy/miniforge3/envs/.venv/lib/python3.9/site-packages/sklearn/linear_model/_logistic.py:1483: UserWarning: Setting penalty='none' will ignore the C and l1_ratio parameters\n",
      "  warnings.warn(\n"
     ]
    },
    {
     "name": "stdout",
     "output_type": "stream",
     "text": [
      "[CV] END clf__C=0.22758459260747882, clf__penalty=none, clf__solver=lbfgs; total time=   0.3s\n"
     ]
    },
    {
     "name": "stderr",
     "output_type": "stream",
     "text": [
      "/Users/guy/miniforge3/envs/.venv/lib/python3.9/site-packages/sklearn/linear_model/_logistic.py:1483: UserWarning: Setting penalty='none' will ignore the C and l1_ratio parameters\n",
      "  warnings.warn(\n"
     ]
    },
    {
     "name": "stdout",
     "output_type": "stream",
     "text": [
      "[CV] END clf__C=0.22758459260747882, clf__penalty=none, clf__solver=lbfgs; total time=   0.4s\n"
     ]
    },
    {
     "name": "stderr",
     "output_type": "stream",
     "text": [
      "/Users/guy/miniforge3/envs/.venv/lib/python3.9/site-packages/sklearn/linear_model/_logistic.py:1483: UserWarning: Setting penalty='none' will ignore the C and l1_ratio parameters\n",
      "  warnings.warn(\n"
     ]
    },
    {
     "name": "stdout",
     "output_type": "stream",
     "text": [
      "[CV] END clf__C=0.22758459260747882, clf__penalty=none, clf__solver=lbfgs; total time=   0.3s\n"
     ]
    },
    {
     "name": "stderr",
     "output_type": "stream",
     "text": [
      "/Users/guy/miniforge3/envs/.venv/lib/python3.9/site-packages/sklearn/linear_model/_logistic.py:1483: UserWarning: Setting penalty='none' will ignore the C and l1_ratio parameters\n",
      "  warnings.warn(\n"
     ]
    },
    {
     "name": "stdout",
     "output_type": "stream",
     "text": [
      "[CV] END clf__C=0.22758459260747882, clf__penalty=none, clf__solver=lbfgs; total time=   0.3s\n"
     ]
    },
    {
     "name": "stderr",
     "output_type": "stream",
     "text": [
      "/Users/guy/miniforge3/envs/.venv/lib/python3.9/site-packages/sklearn/linear_model/_logistic.py:1483: UserWarning: Setting penalty='none' will ignore the C and l1_ratio parameters\n",
      "  warnings.warn(\n"
     ]
    },
    {
     "name": "stdout",
     "output_type": "stream",
     "text": [
      "[CV] END clf__C=0.22758459260747882, clf__penalty=none, clf__solver=lbfgs; total time=   0.3s\n"
     ]
    },
    {
     "name": "stderr",
     "output_type": "stream",
     "text": [
      "/Users/guy/miniforge3/envs/.venv/lib/python3.9/site-packages/sklearn/linear_model/_logistic.py:1483: UserWarning: Setting penalty='none' will ignore the C and l1_ratio parameters\n",
      "  warnings.warn(\n"
     ]
    },
    {
     "name": "stdout",
     "output_type": "stream",
     "text": [
      "[CV] END clf__C=0.22758459260747882, clf__penalty=none, clf__solver=lbfgs; total time=   0.2s\n"
     ]
    },
    {
     "name": "stderr",
     "output_type": "stream",
     "text": [
      "/Users/guy/miniforge3/envs/.venv/lib/python3.9/site-packages/sklearn/linear_model/_logistic.py:1483: UserWarning: Setting penalty='none' will ignore the C and l1_ratio parameters\n",
      "  warnings.warn(\n"
     ]
    },
    {
     "name": "stdout",
     "output_type": "stream",
     "text": [
      "[CV] END clf__C=0.22758459260747882, clf__penalty=none, clf__solver=lbfgs; total time=   0.3s\n"
     ]
    },
    {
     "name": "stderr",
     "output_type": "stream",
     "text": [
      "/Users/guy/miniforge3/envs/.venv/lib/python3.9/site-packages/sklearn/linear_model/_logistic.py:1483: UserWarning: Setting penalty='none' will ignore the C and l1_ratio parameters\n",
      "  warnings.warn(\n"
     ]
    },
    {
     "name": "stdout",
     "output_type": "stream",
     "text": [
      "[CV] END clf__C=0.22758459260747882, clf__penalty=none, clf__solver=lbfgs; total time=   0.3s\n"
     ]
    },
    {
     "name": "stderr",
     "output_type": "stream",
     "text": [
      "/Users/guy/miniforge3/envs/.venv/lib/python3.9/site-packages/sklearn/linear_model/_logistic.py:1483: UserWarning: Setting penalty='none' will ignore the C and l1_ratio parameters\n",
      "  warnings.warn(\n"
     ]
    },
    {
     "name": "stdout",
     "output_type": "stream",
     "text": [
      "[CV] END clf__C=0.22758459260747882, clf__penalty=none, clf__solver=lbfgs; total time=   0.3s\n"
     ]
    },
    {
     "name": "stderr",
     "output_type": "stream",
     "text": [
      "/Users/guy/miniforge3/envs/.venv/lib/python3.9/site-packages/sklearn/linear_model/_logistic.py:1483: UserWarning: Setting penalty='none' will ignore the C and l1_ratio parameters\n",
      "  warnings.warn(\n"
     ]
    },
    {
     "name": "stdout",
     "output_type": "stream",
     "text": [
      "[CV] END clf__C=0.22758459260747882, clf__penalty=none, clf__solver=lbfgs; total time=   0.3s\n"
     ]
    },
    {
     "name": "stderr",
     "output_type": "stream",
     "text": [
      "/Users/guy/miniforge3/envs/.venv/lib/python3.9/site-packages/sklearn/linear_model/_logistic.py:1483: UserWarning: Setting penalty='none' will ignore the C and l1_ratio parameters\n",
      "  warnings.warn(\n"
     ]
    },
    {
     "name": "stdout",
     "output_type": "stream",
     "text": [
      "[CV] END clf__C=0.22758459260747882, clf__penalty=none, clf__solver=lbfgs; total time=   0.3s\n"
     ]
    },
    {
     "name": "stderr",
     "output_type": "stream",
     "text": [
      "/Users/guy/miniforge3/envs/.venv/lib/python3.9/site-packages/sklearn/linear_model/_logistic.py:1483: UserWarning: Setting penalty='none' will ignore the C and l1_ratio parameters\n",
      "  warnings.warn(\n"
     ]
    },
    {
     "name": "stdout",
     "output_type": "stream",
     "text": [
      "[CV] END clf__C=0.22758459260747882, clf__penalty=none, clf__solver=lbfgs; total time=   0.3s\n"
     ]
    },
    {
     "name": "stderr",
     "output_type": "stream",
     "text": [
      "/Users/guy/miniforge3/envs/.venv/lib/python3.9/site-packages/sklearn/linear_model/_logistic.py:1483: UserWarning: Setting penalty='none' will ignore the C and l1_ratio parameters\n",
      "  warnings.warn(\n"
     ]
    },
    {
     "name": "stdout",
     "output_type": "stream",
     "text": [
      "[CV] END clf__C=0.22758459260747882, clf__penalty=none, clf__solver=lbfgs; total time=   0.4s\n"
     ]
    },
    {
     "name": "stderr",
     "output_type": "stream",
     "text": [
      "/Users/guy/miniforge3/envs/.venv/lib/python3.9/site-packages/sklearn/linear_model/_logistic.py:1483: UserWarning: Setting penalty='none' will ignore the C and l1_ratio parameters\n",
      "  warnings.warn(\n"
     ]
    },
    {
     "name": "stdout",
     "output_type": "stream",
     "text": [
      "[CV] END clf__C=0.22758459260747882, clf__penalty=none, clf__solver=lbfgs; total time=   0.3s\n",
      "[CV] END clf__C=0.22758459260747882, clf__penalty=none, clf__solver=liblinear; total time=   0.0s\n",
      "[CV] END clf__C=0.22758459260747882, clf__penalty=none, clf__solver=liblinear; total time=   0.0s\n",
      "[CV] END clf__C=0.22758459260747882, clf__penalty=none, clf__solver=liblinear; total time=   0.0s\n",
      "[CV] END clf__C=0.22758459260747882, clf__penalty=none, clf__solver=liblinear; total time=   0.0s\n",
      "[CV] END clf__C=0.22758459260747882, clf__penalty=none, clf__solver=liblinear; total time=   0.0s\n",
      "[CV] END clf__C=0.22758459260747882, clf__penalty=none, clf__solver=liblinear; total time=   0.0s\n",
      "[CV] END clf__C=0.22758459260747882, clf__penalty=none, clf__solver=liblinear; total time=   0.0s\n",
      "[CV] END clf__C=0.22758459260747882, clf__penalty=none, clf__solver=liblinear; total time=   0.0s\n",
      "[CV] END clf__C=0.22758459260747882, clf__penalty=none, clf__solver=liblinear; total time=   0.0s\n",
      "[CV] END clf__C=0.22758459260747882, clf__penalty=none, clf__solver=liblinear; total time=   0.0s\n",
      "[CV] END clf__C=0.22758459260747882, clf__penalty=none, clf__solver=liblinear; total time=   0.0s\n",
      "[CV] END clf__C=0.22758459260747882, clf__penalty=none, clf__solver=liblinear; total time=   0.0s\n",
      "[CV] END clf__C=0.22758459260747882, clf__penalty=none, clf__solver=liblinear; total time=   0.0s\n",
      "[CV] END clf__C=0.22758459260747882, clf__penalty=none, clf__solver=liblinear; total time=   0.0s\n",
      "[CV] END clf__C=0.22758459260747882, clf__penalty=none, clf__solver=liblinear; total time=   0.0s\n"
     ]
    },
    {
     "name": "stderr",
     "output_type": "stream",
     "text": [
      "/Users/guy/miniforge3/envs/.venv/lib/python3.9/site-packages/sklearn/linear_model/_logistic.py:1483: UserWarning: Setting penalty='none' will ignore the C and l1_ratio parameters\n",
      "  warnings.warn(\n"
     ]
    },
    {
     "name": "stdout",
     "output_type": "stream",
     "text": [
      "[CV] END clf__C=0.22758459260747882, clf__penalty=none, clf__solver=sag; total time=   0.7s\n"
     ]
    },
    {
     "name": "stderr",
     "output_type": "stream",
     "text": [
      "/Users/guy/miniforge3/envs/.venv/lib/python3.9/site-packages/sklearn/linear_model/_logistic.py:1483: UserWarning: Setting penalty='none' will ignore the C and l1_ratio parameters\n",
      "  warnings.warn(\n"
     ]
    },
    {
     "name": "stdout",
     "output_type": "stream",
     "text": [
      "[CV] END clf__C=0.22758459260747882, clf__penalty=none, clf__solver=sag; total time=   1.2s\n"
     ]
    },
    {
     "name": "stderr",
     "output_type": "stream",
     "text": [
      "/Users/guy/miniforge3/envs/.venv/lib/python3.9/site-packages/sklearn/linear_model/_logistic.py:1483: UserWarning: Setting penalty='none' will ignore the C and l1_ratio parameters\n",
      "  warnings.warn(\n"
     ]
    },
    {
     "name": "stdout",
     "output_type": "stream",
     "text": [
      "[CV] END clf__C=0.22758459260747882, clf__penalty=none, clf__solver=sag; total time=   1.2s\n"
     ]
    },
    {
     "name": "stderr",
     "output_type": "stream",
     "text": [
      "/Users/guy/miniforge3/envs/.venv/lib/python3.9/site-packages/sklearn/linear_model/_logistic.py:1483: UserWarning: Setting penalty='none' will ignore the C and l1_ratio parameters\n",
      "  warnings.warn(\n"
     ]
    },
    {
     "name": "stdout",
     "output_type": "stream",
     "text": [
      "[CV] END clf__C=0.22758459260747882, clf__penalty=none, clf__solver=sag; total time=   1.1s\n"
     ]
    },
    {
     "name": "stderr",
     "output_type": "stream",
     "text": [
      "/Users/guy/miniforge3/envs/.venv/lib/python3.9/site-packages/sklearn/linear_model/_logistic.py:1483: UserWarning: Setting penalty='none' will ignore the C and l1_ratio parameters\n",
      "  warnings.warn(\n"
     ]
    },
    {
     "name": "stdout",
     "output_type": "stream",
     "text": [
      "[CV] END clf__C=0.22758459260747882, clf__penalty=none, clf__solver=sag; total time=   1.0s\n"
     ]
    },
    {
     "name": "stderr",
     "output_type": "stream",
     "text": [
      "/Users/guy/miniforge3/envs/.venv/lib/python3.9/site-packages/sklearn/linear_model/_logistic.py:1483: UserWarning: Setting penalty='none' will ignore the C and l1_ratio parameters\n",
      "  warnings.warn(\n"
     ]
    },
    {
     "name": "stdout",
     "output_type": "stream",
     "text": [
      "[CV] END clf__C=0.22758459260747882, clf__penalty=none, clf__solver=sag; total time=   1.2s\n"
     ]
    },
    {
     "name": "stderr",
     "output_type": "stream",
     "text": [
      "/Users/guy/miniforge3/envs/.venv/lib/python3.9/site-packages/sklearn/linear_model/_logistic.py:1483: UserWarning: Setting penalty='none' will ignore the C and l1_ratio parameters\n",
      "  warnings.warn(\n"
     ]
    },
    {
     "name": "stdout",
     "output_type": "stream",
     "text": [
      "[CV] END clf__C=0.22758459260747882, clf__penalty=none, clf__solver=sag; total time=   0.7s\n"
     ]
    },
    {
     "name": "stderr",
     "output_type": "stream",
     "text": [
      "/Users/guy/miniforge3/envs/.venv/lib/python3.9/site-packages/sklearn/linear_model/_logistic.py:1483: UserWarning: Setting penalty='none' will ignore the C and l1_ratio parameters\n",
      "  warnings.warn(\n"
     ]
    },
    {
     "name": "stdout",
     "output_type": "stream",
     "text": [
      "[CV] END clf__C=0.22758459260747882, clf__penalty=none, clf__solver=sag; total time=   1.2s\n"
     ]
    },
    {
     "name": "stderr",
     "output_type": "stream",
     "text": [
      "/Users/guy/miniforge3/envs/.venv/lib/python3.9/site-packages/sklearn/linear_model/_logistic.py:1483: UserWarning: Setting penalty='none' will ignore the C and l1_ratio parameters\n",
      "  warnings.warn(\n"
     ]
    },
    {
     "name": "stdout",
     "output_type": "stream",
     "text": [
      "[CV] END clf__C=0.22758459260747882, clf__penalty=none, clf__solver=sag; total time=   1.2s\n"
     ]
    },
    {
     "name": "stderr",
     "output_type": "stream",
     "text": [
      "/Users/guy/miniforge3/envs/.venv/lib/python3.9/site-packages/sklearn/linear_model/_logistic.py:1483: UserWarning: Setting penalty='none' will ignore the C and l1_ratio parameters\n",
      "  warnings.warn(\n"
     ]
    },
    {
     "name": "stdout",
     "output_type": "stream",
     "text": [
      "[CV] END clf__C=0.22758459260747882, clf__penalty=none, clf__solver=sag; total time=   1.1s\n"
     ]
    },
    {
     "name": "stderr",
     "output_type": "stream",
     "text": [
      "/Users/guy/miniforge3/envs/.venv/lib/python3.9/site-packages/sklearn/linear_model/_logistic.py:1483: UserWarning: Setting penalty='none' will ignore the C and l1_ratio parameters\n",
      "  warnings.warn(\n"
     ]
    },
    {
     "name": "stdout",
     "output_type": "stream",
     "text": [
      "[CV] END clf__C=0.22758459260747882, clf__penalty=none, clf__solver=sag; total time=   1.1s\n"
     ]
    },
    {
     "name": "stderr",
     "output_type": "stream",
     "text": [
      "/Users/guy/miniforge3/envs/.venv/lib/python3.9/site-packages/sklearn/linear_model/_logistic.py:1483: UserWarning: Setting penalty='none' will ignore the C and l1_ratio parameters\n",
      "  warnings.warn(\n"
     ]
    },
    {
     "name": "stdout",
     "output_type": "stream",
     "text": [
      "[CV] END clf__C=0.22758459260747882, clf__penalty=none, clf__solver=sag; total time=   1.2s\n"
     ]
    },
    {
     "name": "stderr",
     "output_type": "stream",
     "text": [
      "/Users/guy/miniforge3/envs/.venv/lib/python3.9/site-packages/sklearn/linear_model/_logistic.py:1483: UserWarning: Setting penalty='none' will ignore the C and l1_ratio parameters\n",
      "  warnings.warn(\n"
     ]
    },
    {
     "name": "stdout",
     "output_type": "stream",
     "text": [
      "[CV] END clf__C=0.22758459260747882, clf__penalty=none, clf__solver=sag; total time=   1.2s\n"
     ]
    },
    {
     "name": "stderr",
     "output_type": "stream",
     "text": [
      "/Users/guy/miniforge3/envs/.venv/lib/python3.9/site-packages/sklearn/linear_model/_logistic.py:1483: UserWarning: Setting penalty='none' will ignore the C and l1_ratio parameters\n",
      "  warnings.warn(\n"
     ]
    },
    {
     "name": "stdout",
     "output_type": "stream",
     "text": [
      "[CV] END clf__C=0.22758459260747882, clf__penalty=none, clf__solver=sag; total time=   1.2s\n"
     ]
    },
    {
     "name": "stderr",
     "output_type": "stream",
     "text": [
      "/Users/guy/miniforge3/envs/.venv/lib/python3.9/site-packages/sklearn/linear_model/_logistic.py:1483: UserWarning: Setting penalty='none' will ignore the C and l1_ratio parameters\n",
      "  warnings.warn(\n"
     ]
    },
    {
     "name": "stdout",
     "output_type": "stream",
     "text": [
      "[CV] END clf__C=0.22758459260747882, clf__penalty=none, clf__solver=sag; total time=   0.7s\n",
      "[CV] END clf__C=0.2682695795279726, clf__penalty=l1, clf__solver=lbfgs; total time=   0.0s\n",
      "[CV] END clf__C=0.2682695795279726, clf__penalty=l1, clf__solver=lbfgs; total time=   0.0s\n",
      "[CV] END clf__C=0.2682695795279726, clf__penalty=l1, clf__solver=lbfgs; total time=   0.0s\n",
      "[CV] END clf__C=0.2682695795279726, clf__penalty=l1, clf__solver=lbfgs; total time=   0.0s\n",
      "[CV] END clf__C=0.2682695795279726, clf__penalty=l1, clf__solver=lbfgs; total time=   0.0s\n",
      "[CV] END clf__C=0.2682695795279726, clf__penalty=l1, clf__solver=lbfgs; total time=   0.0s\n",
      "[CV] END clf__C=0.2682695795279726, clf__penalty=l1, clf__solver=lbfgs; total time=   0.0s\n",
      "[CV] END clf__C=0.2682695795279726, clf__penalty=l1, clf__solver=lbfgs; total time=   0.0s\n",
      "[CV] END clf__C=0.2682695795279726, clf__penalty=l1, clf__solver=lbfgs; total time=   0.0s\n",
      "[CV] END clf__C=0.2682695795279726, clf__penalty=l1, clf__solver=lbfgs; total time=   0.0s\n",
      "[CV] END clf__C=0.2682695795279726, clf__penalty=l1, clf__solver=lbfgs; total time=   0.0s\n",
      "[CV] END clf__C=0.2682695795279726, clf__penalty=l1, clf__solver=lbfgs; total time=   0.0s\n",
      "[CV] END clf__C=0.2682695795279726, clf__penalty=l1, clf__solver=lbfgs; total time=   0.0s\n",
      "[CV] END clf__C=0.2682695795279726, clf__penalty=l1, clf__solver=lbfgs; total time=   0.0s\n",
      "[CV] END clf__C=0.2682695795279726, clf__penalty=l1, clf__solver=lbfgs; total time=   0.0s\n",
      "[CV] END clf__C=0.2682695795279726, clf__penalty=l1, clf__solver=liblinear; total time=   0.3s\n",
      "[CV] END clf__C=0.2682695795279726, clf__penalty=l1, clf__solver=liblinear; total time=   0.2s\n",
      "[CV] END clf__C=0.2682695795279726, clf__penalty=l1, clf__solver=liblinear; total time=   0.3s\n",
      "[CV] END clf__C=0.2682695795279726, clf__penalty=l1, clf__solver=liblinear; total time=   0.2s\n",
      "[CV] END clf__C=0.2682695795279726, clf__penalty=l1, clf__solver=liblinear; total time=   0.2s\n",
      "[CV] END clf__C=0.2682695795279726, clf__penalty=l1, clf__solver=liblinear; total time=   0.3s\n",
      "[CV] END clf__C=0.2682695795279726, clf__penalty=l1, clf__solver=liblinear; total time=   0.3s\n",
      "[CV] END clf__C=0.2682695795279726, clf__penalty=l1, clf__solver=liblinear; total time=   0.2s\n",
      "[CV] END clf__C=0.2682695795279726, clf__penalty=l1, clf__solver=liblinear; total time=   0.3s\n",
      "[CV] END clf__C=0.2682695795279726, clf__penalty=l1, clf__solver=liblinear; total time=   0.3s\n",
      "[CV] END clf__C=0.2682695795279726, clf__penalty=l1, clf__solver=liblinear; total time=   0.3s\n",
      "[CV] END clf__C=0.2682695795279726, clf__penalty=l1, clf__solver=liblinear; total time=   0.2s\n",
      "[CV] END clf__C=0.2682695795279726, clf__penalty=l1, clf__solver=liblinear; total time=   0.2s\n",
      "[CV] END clf__C=0.2682695795279726, clf__penalty=l1, clf__solver=liblinear; total time=   0.3s\n",
      "[CV] END clf__C=0.2682695795279726, clf__penalty=l1, clf__solver=liblinear; total time=   0.3s\n",
      "[CV] END clf__C=0.2682695795279726, clf__penalty=l1, clf__solver=sag; total time=   0.0s\n",
      "[CV] END clf__C=0.2682695795279726, clf__penalty=l1, clf__solver=sag; total time=   0.0s\n",
      "[CV] END clf__C=0.2682695795279726, clf__penalty=l1, clf__solver=sag; total time=   0.0s\n",
      "[CV] END clf__C=0.2682695795279726, clf__penalty=l1, clf__solver=sag; total time=   0.0s\n",
      "[CV] END clf__C=0.2682695795279726, clf__penalty=l1, clf__solver=sag; total time=   0.0s\n",
      "[CV] END clf__C=0.2682695795279726, clf__penalty=l1, clf__solver=sag; total time=   0.0s\n",
      "[CV] END clf__C=0.2682695795279726, clf__penalty=l1, clf__solver=sag; total time=   0.0s\n",
      "[CV] END clf__C=0.2682695795279726, clf__penalty=l1, clf__solver=sag; total time=   0.0s\n",
      "[CV] END clf__C=0.2682695795279726, clf__penalty=l1, clf__solver=sag; total time=   0.0s\n",
      "[CV] END clf__C=0.2682695795279726, clf__penalty=l1, clf__solver=sag; total time=   0.0s\n",
      "[CV] END clf__C=0.2682695795279726, clf__penalty=l1, clf__solver=sag; total time=   0.0s\n",
      "[CV] END clf__C=0.2682695795279726, clf__penalty=l1, clf__solver=sag; total time=   0.0s\n",
      "[CV] END clf__C=0.2682695795279726, clf__penalty=l1, clf__solver=sag; total time=   0.0s\n",
      "[CV] END clf__C=0.2682695795279726, clf__penalty=l1, clf__solver=sag; total time=   0.0s\n",
      "[CV] END clf__C=0.2682695795279726, clf__penalty=l1, clf__solver=sag; total time=   0.0s\n",
      "[CV] END clf__C=0.2682695795279726, clf__penalty=l2, clf__solver=lbfgs; total time=   0.1s\n",
      "[CV] END clf__C=0.2682695795279726, clf__penalty=l2, clf__solver=lbfgs; total time=   0.1s\n",
      "[CV] END clf__C=0.2682695795279726, clf__penalty=l2, clf__solver=lbfgs; total time=   0.1s\n",
      "[CV] END clf__C=0.2682695795279726, clf__penalty=l2, clf__solver=lbfgs; total time=   0.1s\n",
      "[CV] END clf__C=0.2682695795279726, clf__penalty=l2, clf__solver=lbfgs; total time=   0.1s\n",
      "[CV] END clf__C=0.2682695795279726, clf__penalty=l2, clf__solver=lbfgs; total time=   0.1s\n",
      "[CV] END clf__C=0.2682695795279726, clf__penalty=l2, clf__solver=lbfgs; total time=   0.1s\n",
      "[CV] END clf__C=0.2682695795279726, clf__penalty=l2, clf__solver=lbfgs; total time=   0.1s\n",
      "[CV] END clf__C=0.2682695795279726, clf__penalty=l2, clf__solver=lbfgs; total time=   0.1s\n",
      "[CV] END clf__C=0.2682695795279726, clf__penalty=l2, clf__solver=lbfgs; total time=   0.1s\n",
      "[CV] END clf__C=0.2682695795279726, clf__penalty=l2, clf__solver=lbfgs; total time=   0.1s\n",
      "[CV] END clf__C=0.2682695795279726, clf__penalty=l2, clf__solver=lbfgs; total time=   0.1s\n",
      "[CV] END clf__C=0.2682695795279726, clf__penalty=l2, clf__solver=lbfgs; total time=   0.1s\n",
      "[CV] END clf__C=0.2682695795279726, clf__penalty=l2, clf__solver=lbfgs; total time=   0.1s\n",
      "[CV] END clf__C=0.2682695795279726, clf__penalty=l2, clf__solver=lbfgs; total time=   0.1s\n",
      "[CV] END clf__C=0.2682695795279726, clf__penalty=l2, clf__solver=liblinear; total time=   0.1s\n",
      "[CV] END clf__C=0.2682695795279726, clf__penalty=l2, clf__solver=liblinear; total time=   0.1s\n",
      "[CV] END clf__C=0.2682695795279726, clf__penalty=l2, clf__solver=liblinear; total time=   0.1s\n",
      "[CV] END clf__C=0.2682695795279726, clf__penalty=l2, clf__solver=liblinear; total time=   0.1s\n",
      "[CV] END clf__C=0.2682695795279726, clf__penalty=l2, clf__solver=liblinear; total time=   0.1s\n",
      "[CV] END clf__C=0.2682695795279726, clf__penalty=l2, clf__solver=liblinear; total time=   0.1s\n",
      "[CV] END clf__C=0.2682695795279726, clf__penalty=l2, clf__solver=liblinear; total time=   0.1s\n",
      "[CV] END clf__C=0.2682695795279726, clf__penalty=l2, clf__solver=liblinear; total time=   0.1s\n",
      "[CV] END clf__C=0.2682695795279726, clf__penalty=l2, clf__solver=liblinear; total time=   0.1s\n",
      "[CV] END clf__C=0.2682695795279726, clf__penalty=l2, clf__solver=liblinear; total time=   0.1s\n",
      "[CV] END clf__C=0.2682695795279726, clf__penalty=l2, clf__solver=liblinear; total time=   0.1s\n",
      "[CV] END clf__C=0.2682695795279726, clf__penalty=l2, clf__solver=liblinear; total time=   0.1s\n",
      "[CV] END clf__C=0.2682695795279726, clf__penalty=l2, clf__solver=liblinear; total time=   0.1s\n",
      "[CV] END clf__C=0.2682695795279726, clf__penalty=l2, clf__solver=liblinear; total time=   0.1s\n",
      "[CV] END clf__C=0.2682695795279726, clf__penalty=l2, clf__solver=liblinear; total time=   0.1s\n",
      "[CV] END clf__C=0.2682695795279726, clf__penalty=l2, clf__solver=sag; total time=   0.2s\n",
      "[CV] END clf__C=0.2682695795279726, clf__penalty=l2, clf__solver=sag; total time=   0.2s\n",
      "[CV] END clf__C=0.2682695795279726, clf__penalty=l2, clf__solver=sag; total time=   0.2s\n",
      "[CV] END clf__C=0.2682695795279726, clf__penalty=l2, clf__solver=sag; total time=   0.2s\n",
      "[CV] END clf__C=0.2682695795279726, clf__penalty=l2, clf__solver=sag; total time=   0.2s\n",
      "[CV] END clf__C=0.2682695795279726, clf__penalty=l2, clf__solver=sag; total time=   0.2s\n",
      "[CV] END clf__C=0.2682695795279726, clf__penalty=l2, clf__solver=sag; total time=   0.2s\n",
      "[CV] END clf__C=0.2682695795279726, clf__penalty=l2, clf__solver=sag; total time=   0.2s\n",
      "[CV] END clf__C=0.2682695795279726, clf__penalty=l2, clf__solver=sag; total time=   0.2s\n",
      "[CV] END clf__C=0.2682695795279726, clf__penalty=l2, clf__solver=sag; total time=   0.2s\n",
      "[CV] END clf__C=0.2682695795279726, clf__penalty=l2, clf__solver=sag; total time=   0.2s\n",
      "[CV] END clf__C=0.2682695795279726, clf__penalty=l2, clf__solver=sag; total time=   0.2s\n",
      "[CV] END clf__C=0.2682695795279726, clf__penalty=l2, clf__solver=sag; total time=   0.2s\n",
      "[CV] END clf__C=0.2682695795279726, clf__penalty=l2, clf__solver=sag; total time=   0.2s\n",
      "[CV] END clf__C=0.2682695795279726, clf__penalty=l2, clf__solver=sag; total time=   0.2s\n"
     ]
    },
    {
     "name": "stderr",
     "output_type": "stream",
     "text": [
      "/Users/guy/miniforge3/envs/.venv/lib/python3.9/site-packages/sklearn/linear_model/_logistic.py:1483: UserWarning: Setting penalty='none' will ignore the C and l1_ratio parameters\n",
      "  warnings.warn(\n"
     ]
    },
    {
     "name": "stdout",
     "output_type": "stream",
     "text": [
      "[CV] END clf__C=0.2682695795279726, clf__penalty=none, clf__solver=lbfgs; total time=   0.2s\n"
     ]
    },
    {
     "name": "stderr",
     "output_type": "stream",
     "text": [
      "/Users/guy/miniforge3/envs/.venv/lib/python3.9/site-packages/sklearn/linear_model/_logistic.py:1483: UserWarning: Setting penalty='none' will ignore the C and l1_ratio parameters\n",
      "  warnings.warn(\n"
     ]
    },
    {
     "name": "stdout",
     "output_type": "stream",
     "text": [
      "[CV] END clf__C=0.2682695795279726, clf__penalty=none, clf__solver=lbfgs; total time=   0.3s\n"
     ]
    },
    {
     "name": "stderr",
     "output_type": "stream",
     "text": [
      "/Users/guy/miniforge3/envs/.venv/lib/python3.9/site-packages/sklearn/linear_model/_logistic.py:1483: UserWarning: Setting penalty='none' will ignore the C and l1_ratio parameters\n",
      "  warnings.warn(\n"
     ]
    },
    {
     "name": "stdout",
     "output_type": "stream",
     "text": [
      "[CV] END clf__C=0.2682695795279726, clf__penalty=none, clf__solver=lbfgs; total time=   0.3s\n"
     ]
    },
    {
     "name": "stderr",
     "output_type": "stream",
     "text": [
      "/Users/guy/miniforge3/envs/.venv/lib/python3.9/site-packages/sklearn/linear_model/_logistic.py:1483: UserWarning: Setting penalty='none' will ignore the C and l1_ratio parameters\n",
      "  warnings.warn(\n"
     ]
    },
    {
     "name": "stdout",
     "output_type": "stream",
     "text": [
      "[CV] END clf__C=0.2682695795279726, clf__penalty=none, clf__solver=lbfgs; total time=   0.3s\n"
     ]
    },
    {
     "name": "stderr",
     "output_type": "stream",
     "text": [
      "/Users/guy/miniforge3/envs/.venv/lib/python3.9/site-packages/sklearn/linear_model/_logistic.py:1483: UserWarning: Setting penalty='none' will ignore the C and l1_ratio parameters\n",
      "  warnings.warn(\n"
     ]
    },
    {
     "name": "stdout",
     "output_type": "stream",
     "text": [
      "[CV] END clf__C=0.2682695795279726, clf__penalty=none, clf__solver=lbfgs; total time=   0.3s\n"
     ]
    },
    {
     "name": "stderr",
     "output_type": "stream",
     "text": [
      "/Users/guy/miniforge3/envs/.venv/lib/python3.9/site-packages/sklearn/linear_model/_logistic.py:1483: UserWarning: Setting penalty='none' will ignore the C and l1_ratio parameters\n",
      "  warnings.warn(\n"
     ]
    },
    {
     "name": "stdout",
     "output_type": "stream",
     "text": [
      "[CV] END clf__C=0.2682695795279726, clf__penalty=none, clf__solver=lbfgs; total time=   0.3s\n"
     ]
    },
    {
     "name": "stderr",
     "output_type": "stream",
     "text": [
      "/Users/guy/miniforge3/envs/.venv/lib/python3.9/site-packages/sklearn/linear_model/_logistic.py:1483: UserWarning: Setting penalty='none' will ignore the C and l1_ratio parameters\n",
      "  warnings.warn(\n"
     ]
    },
    {
     "name": "stdout",
     "output_type": "stream",
     "text": [
      "[CV] END clf__C=0.2682695795279726, clf__penalty=none, clf__solver=lbfgs; total time=   0.2s\n"
     ]
    },
    {
     "name": "stderr",
     "output_type": "stream",
     "text": [
      "/Users/guy/miniforge3/envs/.venv/lib/python3.9/site-packages/sklearn/linear_model/_logistic.py:1483: UserWarning: Setting penalty='none' will ignore the C and l1_ratio parameters\n",
      "  warnings.warn(\n"
     ]
    },
    {
     "name": "stdout",
     "output_type": "stream",
     "text": [
      "[CV] END clf__C=0.2682695795279726, clf__penalty=none, clf__solver=lbfgs; total time=   0.3s\n"
     ]
    },
    {
     "name": "stderr",
     "output_type": "stream",
     "text": [
      "/Users/guy/miniforge3/envs/.venv/lib/python3.9/site-packages/sklearn/linear_model/_logistic.py:1483: UserWarning: Setting penalty='none' will ignore the C and l1_ratio parameters\n",
      "  warnings.warn(\n"
     ]
    },
    {
     "name": "stdout",
     "output_type": "stream",
     "text": [
      "[CV] END clf__C=0.2682695795279726, clf__penalty=none, clf__solver=lbfgs; total time=   0.3s\n"
     ]
    },
    {
     "name": "stderr",
     "output_type": "stream",
     "text": [
      "/Users/guy/miniforge3/envs/.venv/lib/python3.9/site-packages/sklearn/linear_model/_logistic.py:1483: UserWarning: Setting penalty='none' will ignore the C and l1_ratio parameters\n",
      "  warnings.warn(\n"
     ]
    },
    {
     "name": "stdout",
     "output_type": "stream",
     "text": [
      "[CV] END clf__C=0.2682695795279726, clf__penalty=none, clf__solver=lbfgs; total time=   0.3s\n"
     ]
    },
    {
     "name": "stderr",
     "output_type": "stream",
     "text": [
      "/Users/guy/miniforge3/envs/.venv/lib/python3.9/site-packages/sklearn/linear_model/_logistic.py:1483: UserWarning: Setting penalty='none' will ignore the C and l1_ratio parameters\n",
      "  warnings.warn(\n"
     ]
    },
    {
     "name": "stdout",
     "output_type": "stream",
     "text": [
      "[CV] END clf__C=0.2682695795279726, clf__penalty=none, clf__solver=lbfgs; total time=   0.3s\n"
     ]
    },
    {
     "name": "stderr",
     "output_type": "stream",
     "text": [
      "/Users/guy/miniforge3/envs/.venv/lib/python3.9/site-packages/sklearn/linear_model/_logistic.py:1483: UserWarning: Setting penalty='none' will ignore the C and l1_ratio parameters\n",
      "  warnings.warn(\n"
     ]
    },
    {
     "name": "stdout",
     "output_type": "stream",
     "text": [
      "[CV] END clf__C=0.2682695795279726, clf__penalty=none, clf__solver=lbfgs; total time=   0.3s\n"
     ]
    },
    {
     "name": "stderr",
     "output_type": "stream",
     "text": [
      "/Users/guy/miniforge3/envs/.venv/lib/python3.9/site-packages/sklearn/linear_model/_logistic.py:1483: UserWarning: Setting penalty='none' will ignore the C and l1_ratio parameters\n",
      "  warnings.warn(\n"
     ]
    },
    {
     "name": "stdout",
     "output_type": "stream",
     "text": [
      "[CV] END clf__C=0.2682695795279726, clf__penalty=none, clf__solver=lbfgs; total time=   0.3s\n"
     ]
    },
    {
     "name": "stderr",
     "output_type": "stream",
     "text": [
      "/Users/guy/miniforge3/envs/.venv/lib/python3.9/site-packages/sklearn/linear_model/_logistic.py:1483: UserWarning: Setting penalty='none' will ignore the C and l1_ratio parameters\n",
      "  warnings.warn(\n"
     ]
    },
    {
     "name": "stdout",
     "output_type": "stream",
     "text": [
      "[CV] END clf__C=0.2682695795279726, clf__penalty=none, clf__solver=lbfgs; total time=   0.3s\n"
     ]
    },
    {
     "name": "stderr",
     "output_type": "stream",
     "text": [
      "/Users/guy/miniforge3/envs/.venv/lib/python3.9/site-packages/sklearn/linear_model/_logistic.py:1483: UserWarning: Setting penalty='none' will ignore the C and l1_ratio parameters\n",
      "  warnings.warn(\n"
     ]
    },
    {
     "name": "stdout",
     "output_type": "stream",
     "text": [
      "[CV] END clf__C=0.2682695795279726, clf__penalty=none, clf__solver=lbfgs; total time=   0.2s\n",
      "[CV] END clf__C=0.2682695795279726, clf__penalty=none, clf__solver=liblinear; total time=   0.0s\n",
      "[CV] END clf__C=0.2682695795279726, clf__penalty=none, clf__solver=liblinear; total time=   0.0s\n",
      "[CV] END clf__C=0.2682695795279726, clf__penalty=none, clf__solver=liblinear; total time=   0.0s\n",
      "[CV] END clf__C=0.2682695795279726, clf__penalty=none, clf__solver=liblinear; total time=   0.0s\n",
      "[CV] END clf__C=0.2682695795279726, clf__penalty=none, clf__solver=liblinear; total time=   0.0s\n",
      "[CV] END clf__C=0.2682695795279726, clf__penalty=none, clf__solver=liblinear; total time=   0.0s\n",
      "[CV] END clf__C=0.2682695795279726, clf__penalty=none, clf__solver=liblinear; total time=   0.0s\n",
      "[CV] END clf__C=0.2682695795279726, clf__penalty=none, clf__solver=liblinear; total time=   0.0s\n",
      "[CV] END clf__C=0.2682695795279726, clf__penalty=none, clf__solver=liblinear; total time=   0.0s\n",
      "[CV] END clf__C=0.2682695795279726, clf__penalty=none, clf__solver=liblinear; total time=   0.0s\n",
      "[CV] END clf__C=0.2682695795279726, clf__penalty=none, clf__solver=liblinear; total time=   0.0s\n",
      "[CV] END clf__C=0.2682695795279726, clf__penalty=none, clf__solver=liblinear; total time=   0.0s\n",
      "[CV] END clf__C=0.2682695795279726, clf__penalty=none, clf__solver=liblinear; total time=   0.0s\n",
      "[CV] END clf__C=0.2682695795279726, clf__penalty=none, clf__solver=liblinear; total time=   0.0s\n",
      "[CV] END clf__C=0.2682695795279726, clf__penalty=none, clf__solver=liblinear; total time=   0.0s\n"
     ]
    },
    {
     "name": "stderr",
     "output_type": "stream",
     "text": [
      "/Users/guy/miniforge3/envs/.venv/lib/python3.9/site-packages/sklearn/linear_model/_logistic.py:1483: UserWarning: Setting penalty='none' will ignore the C and l1_ratio parameters\n",
      "  warnings.warn(\n"
     ]
    },
    {
     "name": "stdout",
     "output_type": "stream",
     "text": [
      "[CV] END clf__C=0.2682695795279726, clf__penalty=none, clf__solver=sag; total time=   0.7s\n"
     ]
    },
    {
     "name": "stderr",
     "output_type": "stream",
     "text": [
      "/Users/guy/miniforge3/envs/.venv/lib/python3.9/site-packages/sklearn/linear_model/_logistic.py:1483: UserWarning: Setting penalty='none' will ignore the C and l1_ratio parameters\n",
      "  warnings.warn(\n"
     ]
    },
    {
     "name": "stdout",
     "output_type": "stream",
     "text": [
      "[CV] END clf__C=0.2682695795279726, clf__penalty=none, clf__solver=sag; total time=   1.2s\n"
     ]
    },
    {
     "name": "stderr",
     "output_type": "stream",
     "text": [
      "/Users/guy/miniforge3/envs/.venv/lib/python3.9/site-packages/sklearn/linear_model/_logistic.py:1483: UserWarning: Setting penalty='none' will ignore the C and l1_ratio parameters\n",
      "  warnings.warn(\n"
     ]
    },
    {
     "name": "stdout",
     "output_type": "stream",
     "text": [
      "[CV] END clf__C=0.2682695795279726, clf__penalty=none, clf__solver=sag; total time=   1.2s\n"
     ]
    },
    {
     "name": "stderr",
     "output_type": "stream",
     "text": [
      "/Users/guy/miniforge3/envs/.venv/lib/python3.9/site-packages/sklearn/linear_model/_logistic.py:1483: UserWarning: Setting penalty='none' will ignore the C and l1_ratio parameters\n",
      "  warnings.warn(\n"
     ]
    },
    {
     "name": "stdout",
     "output_type": "stream",
     "text": [
      "[CV] END clf__C=0.2682695795279726, clf__penalty=none, clf__solver=sag; total time=   1.1s\n"
     ]
    },
    {
     "name": "stderr",
     "output_type": "stream",
     "text": [
      "/Users/guy/miniforge3/envs/.venv/lib/python3.9/site-packages/sklearn/linear_model/_logistic.py:1483: UserWarning: Setting penalty='none' will ignore the C and l1_ratio parameters\n",
      "  warnings.warn(\n"
     ]
    },
    {
     "name": "stdout",
     "output_type": "stream",
     "text": [
      "[CV] END clf__C=0.2682695795279726, clf__penalty=none, clf__solver=sag; total time=   1.0s\n"
     ]
    },
    {
     "name": "stderr",
     "output_type": "stream",
     "text": [
      "/Users/guy/miniforge3/envs/.venv/lib/python3.9/site-packages/sklearn/linear_model/_logistic.py:1483: UserWarning: Setting penalty='none' will ignore the C and l1_ratio parameters\n",
      "  warnings.warn(\n"
     ]
    },
    {
     "name": "stdout",
     "output_type": "stream",
     "text": [
      "[CV] END clf__C=0.2682695795279726, clf__penalty=none, clf__solver=sag; total time=   1.2s\n"
     ]
    },
    {
     "name": "stderr",
     "output_type": "stream",
     "text": [
      "/Users/guy/miniforge3/envs/.venv/lib/python3.9/site-packages/sklearn/linear_model/_logistic.py:1483: UserWarning: Setting penalty='none' will ignore the C and l1_ratio parameters\n",
      "  warnings.warn(\n"
     ]
    },
    {
     "name": "stdout",
     "output_type": "stream",
     "text": [
      "[CV] END clf__C=0.2682695795279726, clf__penalty=none, clf__solver=sag; total time=   0.7s\n"
     ]
    },
    {
     "name": "stderr",
     "output_type": "stream",
     "text": [
      "/Users/guy/miniforge3/envs/.venv/lib/python3.9/site-packages/sklearn/linear_model/_logistic.py:1483: UserWarning: Setting penalty='none' will ignore the C and l1_ratio parameters\n",
      "  warnings.warn(\n"
     ]
    },
    {
     "name": "stdout",
     "output_type": "stream",
     "text": [
      "[CV] END clf__C=0.2682695795279726, clf__penalty=none, clf__solver=sag; total time=   1.1s\n"
     ]
    },
    {
     "name": "stderr",
     "output_type": "stream",
     "text": [
      "/Users/guy/miniforge3/envs/.venv/lib/python3.9/site-packages/sklearn/linear_model/_logistic.py:1483: UserWarning: Setting penalty='none' will ignore the C and l1_ratio parameters\n",
      "  warnings.warn(\n"
     ]
    },
    {
     "name": "stdout",
     "output_type": "stream",
     "text": [
      "[CV] END clf__C=0.2682695795279726, clf__penalty=none, clf__solver=sag; total time=   1.2s\n"
     ]
    },
    {
     "name": "stderr",
     "output_type": "stream",
     "text": [
      "/Users/guy/miniforge3/envs/.venv/lib/python3.9/site-packages/sklearn/linear_model/_logistic.py:1483: UserWarning: Setting penalty='none' will ignore the C and l1_ratio parameters\n",
      "  warnings.warn(\n"
     ]
    },
    {
     "name": "stdout",
     "output_type": "stream",
     "text": [
      "[CV] END clf__C=0.2682695795279726, clf__penalty=none, clf__solver=sag; total time=   1.0s\n"
     ]
    },
    {
     "name": "stderr",
     "output_type": "stream",
     "text": [
      "/Users/guy/miniforge3/envs/.venv/lib/python3.9/site-packages/sklearn/linear_model/_logistic.py:1483: UserWarning: Setting penalty='none' will ignore the C and l1_ratio parameters\n",
      "  warnings.warn(\n"
     ]
    },
    {
     "name": "stdout",
     "output_type": "stream",
     "text": [
      "[CV] END clf__C=0.2682695795279726, clf__penalty=none, clf__solver=sag; total time=   1.1s\n"
     ]
    },
    {
     "name": "stderr",
     "output_type": "stream",
     "text": [
      "/Users/guy/miniforge3/envs/.venv/lib/python3.9/site-packages/sklearn/linear_model/_logistic.py:1483: UserWarning: Setting penalty='none' will ignore the C and l1_ratio parameters\n",
      "  warnings.warn(\n"
     ]
    },
    {
     "name": "stdout",
     "output_type": "stream",
     "text": [
      "[CV] END clf__C=0.2682695795279726, clf__penalty=none, clf__solver=sag; total time=   1.2s\n"
     ]
    },
    {
     "name": "stderr",
     "output_type": "stream",
     "text": [
      "/Users/guy/miniforge3/envs/.venv/lib/python3.9/site-packages/sklearn/linear_model/_logistic.py:1483: UserWarning: Setting penalty='none' will ignore the C and l1_ratio parameters\n",
      "  warnings.warn(\n"
     ]
    },
    {
     "name": "stdout",
     "output_type": "stream",
     "text": [
      "[CV] END clf__C=0.2682695795279726, clf__penalty=none, clf__solver=sag; total time=   1.1s\n"
     ]
    },
    {
     "name": "stderr",
     "output_type": "stream",
     "text": [
      "/Users/guy/miniforge3/envs/.venv/lib/python3.9/site-packages/sklearn/linear_model/_logistic.py:1483: UserWarning: Setting penalty='none' will ignore the C and l1_ratio parameters\n",
      "  warnings.warn(\n"
     ]
    },
    {
     "name": "stdout",
     "output_type": "stream",
     "text": [
      "[CV] END clf__C=0.2682695795279726, clf__penalty=none, clf__solver=sag; total time=   1.3s\n"
     ]
    },
    {
     "name": "stderr",
     "output_type": "stream",
     "text": [
      "/Users/guy/miniforge3/envs/.venv/lib/python3.9/site-packages/sklearn/linear_model/_logistic.py:1483: UserWarning: Setting penalty='none' will ignore the C and l1_ratio parameters\n",
      "  warnings.warn(\n"
     ]
    },
    {
     "name": "stdout",
     "output_type": "stream",
     "text": [
      "[CV] END clf__C=0.2682695795279726, clf__penalty=none, clf__solver=sag; total time=   0.7s\n",
      "[CV] END clf__C=0.31622776601683794, clf__penalty=l1, clf__solver=lbfgs; total time=   0.0s\n",
      "[CV] END clf__C=0.31622776601683794, clf__penalty=l1, clf__solver=lbfgs; total time=   0.0s\n",
      "[CV] END clf__C=0.31622776601683794, clf__penalty=l1, clf__solver=lbfgs; total time=   0.0s\n",
      "[CV] END clf__C=0.31622776601683794, clf__penalty=l1, clf__solver=lbfgs; total time=   0.0s\n",
      "[CV] END clf__C=0.31622776601683794, clf__penalty=l1, clf__solver=lbfgs; total time=   0.0s\n",
      "[CV] END clf__C=0.31622776601683794, clf__penalty=l1, clf__solver=lbfgs; total time=   0.0s\n",
      "[CV] END clf__C=0.31622776601683794, clf__penalty=l1, clf__solver=lbfgs; total time=   0.0s\n",
      "[CV] END clf__C=0.31622776601683794, clf__penalty=l1, clf__solver=lbfgs; total time=   0.0s\n",
      "[CV] END clf__C=0.31622776601683794, clf__penalty=l1, clf__solver=lbfgs; total time=   0.0s\n",
      "[CV] END clf__C=0.31622776601683794, clf__penalty=l1, clf__solver=lbfgs; total time=   0.0s\n",
      "[CV] END clf__C=0.31622776601683794, clf__penalty=l1, clf__solver=lbfgs; total time=   0.0s\n",
      "[CV] END clf__C=0.31622776601683794, clf__penalty=l1, clf__solver=lbfgs; total time=   0.0s\n",
      "[CV] END clf__C=0.31622776601683794, clf__penalty=l1, clf__solver=lbfgs; total time=   0.0s\n",
      "[CV] END clf__C=0.31622776601683794, clf__penalty=l1, clf__solver=lbfgs; total time=   0.0s\n",
      "[CV] END clf__C=0.31622776601683794, clf__penalty=l1, clf__solver=lbfgs; total time=   0.0s\n",
      "[CV] END clf__C=0.31622776601683794, clf__penalty=l1, clf__solver=liblinear; total time=   0.4s\n",
      "[CV] END clf__C=0.31622776601683794, clf__penalty=l1, clf__solver=liblinear; total time=   0.3s\n",
      "[CV] END clf__C=0.31622776601683794, clf__penalty=l1, clf__solver=liblinear; total time=   0.3s\n",
      "[CV] END clf__C=0.31622776601683794, clf__penalty=l1, clf__solver=liblinear; total time=   0.2s\n",
      "[CV] END clf__C=0.31622776601683794, clf__penalty=l1, clf__solver=liblinear; total time=   0.3s\n",
      "[CV] END clf__C=0.31622776601683794, clf__penalty=l1, clf__solver=liblinear; total time=   0.3s\n",
      "[CV] END clf__C=0.31622776601683794, clf__penalty=l1, clf__solver=liblinear; total time=   0.3s\n",
      "[CV] END clf__C=0.31622776601683794, clf__penalty=l1, clf__solver=liblinear; total time=   0.2s\n",
      "[CV] END clf__C=0.31622776601683794, clf__penalty=l1, clf__solver=liblinear; total time=   0.3s\n",
      "[CV] END clf__C=0.31622776601683794, clf__penalty=l1, clf__solver=liblinear; total time=   0.3s\n",
      "[CV] END clf__C=0.31622776601683794, clf__penalty=l1, clf__solver=liblinear; total time=   0.3s\n",
      "[CV] END clf__C=0.31622776601683794, clf__penalty=l1, clf__solver=liblinear; total time=   0.3s\n",
      "[CV] END clf__C=0.31622776601683794, clf__penalty=l1, clf__solver=liblinear; total time=   0.3s\n",
      "[CV] END clf__C=0.31622776601683794, clf__penalty=l1, clf__solver=liblinear; total time=   0.3s\n",
      "[CV] END clf__C=0.31622776601683794, clf__penalty=l1, clf__solver=liblinear; total time=   0.4s\n",
      "[CV] END clf__C=0.31622776601683794, clf__penalty=l1, clf__solver=sag; total time=   0.0s\n",
      "[CV] END clf__C=0.31622776601683794, clf__penalty=l1, clf__solver=sag; total time=   0.0s\n",
      "[CV] END clf__C=0.31622776601683794, clf__penalty=l1, clf__solver=sag; total time=   0.0s\n",
      "[CV] END clf__C=0.31622776601683794, clf__penalty=l1, clf__solver=sag; total time=   0.0s\n",
      "[CV] END clf__C=0.31622776601683794, clf__penalty=l1, clf__solver=sag; total time=   0.0s\n",
      "[CV] END clf__C=0.31622776601683794, clf__penalty=l1, clf__solver=sag; total time=   0.0s\n",
      "[CV] END clf__C=0.31622776601683794, clf__penalty=l1, clf__solver=sag; total time=   0.0s\n",
      "[CV] END clf__C=0.31622776601683794, clf__penalty=l1, clf__solver=sag; total time=   0.0s\n",
      "[CV] END clf__C=0.31622776601683794, clf__penalty=l1, clf__solver=sag; total time=   0.0s\n",
      "[CV] END clf__C=0.31622776601683794, clf__penalty=l1, clf__solver=sag; total time=   0.0s\n",
      "[CV] END clf__C=0.31622776601683794, clf__penalty=l1, clf__solver=sag; total time=   0.0s\n",
      "[CV] END clf__C=0.31622776601683794, clf__penalty=l1, clf__solver=sag; total time=   0.0s\n",
      "[CV] END clf__C=0.31622776601683794, clf__penalty=l1, clf__solver=sag; total time=   0.0s\n",
      "[CV] END clf__C=0.31622776601683794, clf__penalty=l1, clf__solver=sag; total time=   0.0s\n",
      "[CV] END clf__C=0.31622776601683794, clf__penalty=l1, clf__solver=sag; total time=   0.0s\n",
      "[CV] END clf__C=0.31622776601683794, clf__penalty=l2, clf__solver=lbfgs; total time=   0.1s\n",
      "[CV] END clf__C=0.31622776601683794, clf__penalty=l2, clf__solver=lbfgs; total time=   0.1s\n",
      "[CV] END clf__C=0.31622776601683794, clf__penalty=l2, clf__solver=lbfgs; total time=   0.1s\n",
      "[CV] END clf__C=0.31622776601683794, clf__penalty=l2, clf__solver=lbfgs; total time=   0.1s\n",
      "[CV] END clf__C=0.31622776601683794, clf__penalty=l2, clf__solver=lbfgs; total time=   0.1s\n",
      "[CV] END clf__C=0.31622776601683794, clf__penalty=l2, clf__solver=lbfgs; total time=   0.1s\n",
      "[CV] END clf__C=0.31622776601683794, clf__penalty=l2, clf__solver=lbfgs; total time=   0.1s\n",
      "[CV] END clf__C=0.31622776601683794, clf__penalty=l2, clf__solver=lbfgs; total time=   0.1s\n",
      "[CV] END clf__C=0.31622776601683794, clf__penalty=l2, clf__solver=lbfgs; total time=   0.1s\n",
      "[CV] END clf__C=0.31622776601683794, clf__penalty=l2, clf__solver=lbfgs; total time=   0.1s\n",
      "[CV] END clf__C=0.31622776601683794, clf__penalty=l2, clf__solver=lbfgs; total time=   0.1s\n",
      "[CV] END clf__C=0.31622776601683794, clf__penalty=l2, clf__solver=lbfgs; total time=   0.1s\n",
      "[CV] END clf__C=0.31622776601683794, clf__penalty=l2, clf__solver=lbfgs; total time=   0.1s\n",
      "[CV] END clf__C=0.31622776601683794, clf__penalty=l2, clf__solver=lbfgs; total time=   0.1s\n",
      "[CV] END clf__C=0.31622776601683794, clf__penalty=l2, clf__solver=lbfgs; total time=   0.1s\n",
      "[CV] END clf__C=0.31622776601683794, clf__penalty=l2, clf__solver=liblinear; total time=   0.1s\n",
      "[CV] END clf__C=0.31622776601683794, clf__penalty=l2, clf__solver=liblinear; total time=   0.1s\n",
      "[CV] END clf__C=0.31622776601683794, clf__penalty=l2, clf__solver=liblinear; total time=   0.1s\n",
      "[CV] END clf__C=0.31622776601683794, clf__penalty=l2, clf__solver=liblinear; total time=   0.1s\n",
      "[CV] END clf__C=0.31622776601683794, clf__penalty=l2, clf__solver=liblinear; total time=   0.1s\n",
      "[CV] END clf__C=0.31622776601683794, clf__penalty=l2, clf__solver=liblinear; total time=   0.1s\n",
      "[CV] END clf__C=0.31622776601683794, clf__penalty=l2, clf__solver=liblinear; total time=   0.1s\n",
      "[CV] END clf__C=0.31622776601683794, clf__penalty=l2, clf__solver=liblinear; total time=   0.1s\n",
      "[CV] END clf__C=0.31622776601683794, clf__penalty=l2, clf__solver=liblinear; total time=   0.1s\n",
      "[CV] END clf__C=0.31622776601683794, clf__penalty=l2, clf__solver=liblinear; total time=   0.1s\n",
      "[CV] END clf__C=0.31622776601683794, clf__penalty=l2, clf__solver=liblinear; total time=   0.1s\n",
      "[CV] END clf__C=0.31622776601683794, clf__penalty=l2, clf__solver=liblinear; total time=   0.1s\n",
      "[CV] END clf__C=0.31622776601683794, clf__penalty=l2, clf__solver=liblinear; total time=   0.1s\n",
      "[CV] END clf__C=0.31622776601683794, clf__penalty=l2, clf__solver=liblinear; total time=   0.1s\n",
      "[CV] END clf__C=0.31622776601683794, clf__penalty=l2, clf__solver=liblinear; total time=   0.1s\n",
      "[CV] END clf__C=0.31622776601683794, clf__penalty=l2, clf__solver=sag; total time=   0.2s\n",
      "[CV] END clf__C=0.31622776601683794, clf__penalty=l2, clf__solver=sag; total time=   0.2s\n",
      "[CV] END clf__C=0.31622776601683794, clf__penalty=l2, clf__solver=sag; total time=   0.2s\n",
      "[CV] END clf__C=0.31622776601683794, clf__penalty=l2, clf__solver=sag; total time=   0.2s\n",
      "[CV] END clf__C=0.31622776601683794, clf__penalty=l2, clf__solver=sag; total time=   0.2s\n",
      "[CV] END clf__C=0.31622776601683794, clf__penalty=l2, clf__solver=sag; total time=   0.2s\n",
      "[CV] END clf__C=0.31622776601683794, clf__penalty=l2, clf__solver=sag; total time=   0.2s\n",
      "[CV] END clf__C=0.31622776601683794, clf__penalty=l2, clf__solver=sag; total time=   0.2s\n",
      "[CV] END clf__C=0.31622776601683794, clf__penalty=l2, clf__solver=sag; total time=   0.2s\n",
      "[CV] END clf__C=0.31622776601683794, clf__penalty=l2, clf__solver=sag; total time=   0.2s\n",
      "[CV] END clf__C=0.31622776601683794, clf__penalty=l2, clf__solver=sag; total time=   0.2s\n",
      "[CV] END clf__C=0.31622776601683794, clf__penalty=l2, clf__solver=sag; total time=   0.2s\n",
      "[CV] END clf__C=0.31622776601683794, clf__penalty=l2, clf__solver=sag; total time=   0.2s\n",
      "[CV] END clf__C=0.31622776601683794, clf__penalty=l2, clf__solver=sag; total time=   0.2s\n"
     ]
    },
    {
     "name": "stdout",
     "output_type": "stream",
     "text": [
      "[CV] END clf__C=0.31622776601683794, clf__penalty=l2, clf__solver=sag; total time=   0.2s\n"
     ]
    },
    {
     "name": "stderr",
     "output_type": "stream",
     "text": [
      "/Users/guy/miniforge3/envs/.venv/lib/python3.9/site-packages/sklearn/linear_model/_logistic.py:1483: UserWarning: Setting penalty='none' will ignore the C and l1_ratio parameters\n",
      "  warnings.warn(\n"
     ]
    },
    {
     "name": "stdout",
     "output_type": "stream",
     "text": [
      "[CV] END clf__C=0.31622776601683794, clf__penalty=none, clf__solver=lbfgs; total time=   0.2s\n"
     ]
    },
    {
     "name": "stderr",
     "output_type": "stream",
     "text": [
      "/Users/guy/miniforge3/envs/.venv/lib/python3.9/site-packages/sklearn/linear_model/_logistic.py:1483: UserWarning: Setting penalty='none' will ignore the C and l1_ratio parameters\n",
      "  warnings.warn(\n"
     ]
    },
    {
     "name": "stdout",
     "output_type": "stream",
     "text": [
      "[CV] END clf__C=0.31622776601683794, clf__penalty=none, clf__solver=lbfgs; total time=   0.3s\n"
     ]
    },
    {
     "name": "stderr",
     "output_type": "stream",
     "text": [
      "/Users/guy/miniforge3/envs/.venv/lib/python3.9/site-packages/sklearn/linear_model/_logistic.py:1483: UserWarning: Setting penalty='none' will ignore the C and l1_ratio parameters\n",
      "  warnings.warn(\n"
     ]
    },
    {
     "name": "stdout",
     "output_type": "stream",
     "text": [
      "[CV] END clf__C=0.31622776601683794, clf__penalty=none, clf__solver=lbfgs; total time=   0.3s\n"
     ]
    },
    {
     "name": "stderr",
     "output_type": "stream",
     "text": [
      "/Users/guy/miniforge3/envs/.venv/lib/python3.9/site-packages/sklearn/linear_model/_logistic.py:1483: UserWarning: Setting penalty='none' will ignore the C and l1_ratio parameters\n",
      "  warnings.warn(\n"
     ]
    },
    {
     "name": "stdout",
     "output_type": "stream",
     "text": [
      "[CV] END clf__C=0.31622776601683794, clf__penalty=none, clf__solver=lbfgs; total time=   0.3s\n"
     ]
    },
    {
     "name": "stderr",
     "output_type": "stream",
     "text": [
      "/Users/guy/miniforge3/envs/.venv/lib/python3.9/site-packages/sklearn/linear_model/_logistic.py:1483: UserWarning: Setting penalty='none' will ignore the C and l1_ratio parameters\n",
      "  warnings.warn(\n"
     ]
    },
    {
     "name": "stdout",
     "output_type": "stream",
     "text": [
      "[CV] END clf__C=0.31622776601683794, clf__penalty=none, clf__solver=lbfgs; total time=   0.3s\n"
     ]
    },
    {
     "name": "stderr",
     "output_type": "stream",
     "text": [
      "/Users/guy/miniforge3/envs/.venv/lib/python3.9/site-packages/sklearn/linear_model/_logistic.py:1483: UserWarning: Setting penalty='none' will ignore the C and l1_ratio parameters\n",
      "  warnings.warn(\n"
     ]
    },
    {
     "name": "stdout",
     "output_type": "stream",
     "text": [
      "[CV] END clf__C=0.31622776601683794, clf__penalty=none, clf__solver=lbfgs; total time=   0.3s\n"
     ]
    },
    {
     "name": "stderr",
     "output_type": "stream",
     "text": [
      "/Users/guy/miniforge3/envs/.venv/lib/python3.9/site-packages/sklearn/linear_model/_logistic.py:1483: UserWarning: Setting penalty='none' will ignore the C and l1_ratio parameters\n",
      "  warnings.warn(\n"
     ]
    },
    {
     "name": "stdout",
     "output_type": "stream",
     "text": [
      "[CV] END clf__C=0.31622776601683794, clf__penalty=none, clf__solver=lbfgs; total time=   0.2s\n"
     ]
    },
    {
     "name": "stderr",
     "output_type": "stream",
     "text": [
      "/Users/guy/miniforge3/envs/.venv/lib/python3.9/site-packages/sklearn/linear_model/_logistic.py:1483: UserWarning: Setting penalty='none' will ignore the C and l1_ratio parameters\n",
      "  warnings.warn(\n"
     ]
    },
    {
     "name": "stdout",
     "output_type": "stream",
     "text": [
      "[CV] END clf__C=0.31622776601683794, clf__penalty=none, clf__solver=lbfgs; total time=   0.3s\n"
     ]
    },
    {
     "name": "stderr",
     "output_type": "stream",
     "text": [
      "/Users/guy/miniforge3/envs/.venv/lib/python3.9/site-packages/sklearn/linear_model/_logistic.py:1483: UserWarning: Setting penalty='none' will ignore the C and l1_ratio parameters\n",
      "  warnings.warn(\n"
     ]
    },
    {
     "name": "stdout",
     "output_type": "stream",
     "text": [
      "[CV] END clf__C=0.31622776601683794, clf__penalty=none, clf__solver=lbfgs; total time=   0.3s\n"
     ]
    },
    {
     "name": "stderr",
     "output_type": "stream",
     "text": [
      "/Users/guy/miniforge3/envs/.venv/lib/python3.9/site-packages/sklearn/linear_model/_logistic.py:1483: UserWarning: Setting penalty='none' will ignore the C and l1_ratio parameters\n",
      "  warnings.warn(\n"
     ]
    },
    {
     "name": "stdout",
     "output_type": "stream",
     "text": [
      "[CV] END clf__C=0.31622776601683794, clf__penalty=none, clf__solver=lbfgs; total time=   0.3s\n"
     ]
    },
    {
     "name": "stderr",
     "output_type": "stream",
     "text": [
      "/Users/guy/miniforge3/envs/.venv/lib/python3.9/site-packages/sklearn/linear_model/_logistic.py:1483: UserWarning: Setting penalty='none' will ignore the C and l1_ratio parameters\n",
      "  warnings.warn(\n"
     ]
    },
    {
     "name": "stdout",
     "output_type": "stream",
     "text": [
      "[CV] END clf__C=0.31622776601683794, clf__penalty=none, clf__solver=lbfgs; total time=   0.3s\n"
     ]
    },
    {
     "name": "stderr",
     "output_type": "stream",
     "text": [
      "/Users/guy/miniforge3/envs/.venv/lib/python3.9/site-packages/sklearn/linear_model/_logistic.py:1483: UserWarning: Setting penalty='none' will ignore the C and l1_ratio parameters\n",
      "  warnings.warn(\n"
     ]
    },
    {
     "name": "stdout",
     "output_type": "stream",
     "text": [
      "[CV] END clf__C=0.31622776601683794, clf__penalty=none, clf__solver=lbfgs; total time=   0.3s\n"
     ]
    },
    {
     "name": "stderr",
     "output_type": "stream",
     "text": [
      "/Users/guy/miniforge3/envs/.venv/lib/python3.9/site-packages/sklearn/linear_model/_logistic.py:1483: UserWarning: Setting penalty='none' will ignore the C and l1_ratio parameters\n",
      "  warnings.warn(\n"
     ]
    },
    {
     "name": "stdout",
     "output_type": "stream",
     "text": [
      "[CV] END clf__C=0.31622776601683794, clf__penalty=none, clf__solver=lbfgs; total time=   0.3s\n"
     ]
    },
    {
     "name": "stderr",
     "output_type": "stream",
     "text": [
      "/Users/guy/miniforge3/envs/.venv/lib/python3.9/site-packages/sklearn/linear_model/_logistic.py:1483: UserWarning: Setting penalty='none' will ignore the C and l1_ratio parameters\n",
      "  warnings.warn(\n"
     ]
    },
    {
     "name": "stdout",
     "output_type": "stream",
     "text": [
      "[CV] END clf__C=0.31622776601683794, clf__penalty=none, clf__solver=lbfgs; total time=   0.3s\n"
     ]
    },
    {
     "name": "stderr",
     "output_type": "stream",
     "text": [
      "/Users/guy/miniforge3/envs/.venv/lib/python3.9/site-packages/sklearn/linear_model/_logistic.py:1483: UserWarning: Setting penalty='none' will ignore the C and l1_ratio parameters\n",
      "  warnings.warn(\n"
     ]
    },
    {
     "name": "stdout",
     "output_type": "stream",
     "text": [
      "[CV] END clf__C=0.31622776601683794, clf__penalty=none, clf__solver=lbfgs; total time=   0.2s\n",
      "[CV] END clf__C=0.31622776601683794, clf__penalty=none, clf__solver=liblinear; total time=   0.0s\n",
      "[CV] END clf__C=0.31622776601683794, clf__penalty=none, clf__solver=liblinear; total time=   0.0s\n",
      "[CV] END clf__C=0.31622776601683794, clf__penalty=none, clf__solver=liblinear; total time=   0.0s\n",
      "[CV] END clf__C=0.31622776601683794, clf__penalty=none, clf__solver=liblinear; total time=   0.0s\n",
      "[CV] END clf__C=0.31622776601683794, clf__penalty=none, clf__solver=liblinear; total time=   0.0s\n",
      "[CV] END clf__C=0.31622776601683794, clf__penalty=none, clf__solver=liblinear; total time=   0.0s\n",
      "[CV] END clf__C=0.31622776601683794, clf__penalty=none, clf__solver=liblinear; total time=   0.0s\n",
      "[CV] END clf__C=0.31622776601683794, clf__penalty=none, clf__solver=liblinear; total time=   0.0s\n",
      "[CV] END clf__C=0.31622776601683794, clf__penalty=none, clf__solver=liblinear; total time=   0.0s\n",
      "[CV] END clf__C=0.31622776601683794, clf__penalty=none, clf__solver=liblinear; total time=   0.0s\n",
      "[CV] END clf__C=0.31622776601683794, clf__penalty=none, clf__solver=liblinear; total time=   0.0s\n",
      "[CV] END clf__C=0.31622776601683794, clf__penalty=none, clf__solver=liblinear; total time=   0.0s\n",
      "[CV] END clf__C=0.31622776601683794, clf__penalty=none, clf__solver=liblinear; total time=   0.0s\n",
      "[CV] END clf__C=0.31622776601683794, clf__penalty=none, clf__solver=liblinear; total time=   0.0s\n",
      "[CV] END clf__C=0.31622776601683794, clf__penalty=none, clf__solver=liblinear; total time=   0.0s\n"
     ]
    },
    {
     "name": "stderr",
     "output_type": "stream",
     "text": [
      "/Users/guy/miniforge3/envs/.venv/lib/python3.9/site-packages/sklearn/linear_model/_logistic.py:1483: UserWarning: Setting penalty='none' will ignore the C and l1_ratio parameters\n",
      "  warnings.warn(\n"
     ]
    },
    {
     "name": "stdout",
     "output_type": "stream",
     "text": [
      "[CV] END clf__C=0.31622776601683794, clf__penalty=none, clf__solver=sag; total time=   0.7s\n"
     ]
    },
    {
     "name": "stderr",
     "output_type": "stream",
     "text": [
      "/Users/guy/miniforge3/envs/.venv/lib/python3.9/site-packages/sklearn/linear_model/_logistic.py:1483: UserWarning: Setting penalty='none' will ignore the C and l1_ratio parameters\n",
      "  warnings.warn(\n"
     ]
    },
    {
     "name": "stdout",
     "output_type": "stream",
     "text": [
      "[CV] END clf__C=0.31622776601683794, clf__penalty=none, clf__solver=sag; total time=   1.2s\n"
     ]
    },
    {
     "name": "stderr",
     "output_type": "stream",
     "text": [
      "/Users/guy/miniforge3/envs/.venv/lib/python3.9/site-packages/sklearn/linear_model/_logistic.py:1483: UserWarning: Setting penalty='none' will ignore the C and l1_ratio parameters\n",
      "  warnings.warn(\n"
     ]
    },
    {
     "name": "stdout",
     "output_type": "stream",
     "text": [
      "[CV] END clf__C=0.31622776601683794, clf__penalty=none, clf__solver=sag; total time=   1.2s\n"
     ]
    },
    {
     "name": "stderr",
     "output_type": "stream",
     "text": [
      "/Users/guy/miniforge3/envs/.venv/lib/python3.9/site-packages/sklearn/linear_model/_logistic.py:1483: UserWarning: Setting penalty='none' will ignore the C and l1_ratio parameters\n",
      "  warnings.warn(\n"
     ]
    },
    {
     "name": "stdout",
     "output_type": "stream",
     "text": [
      "[CV] END clf__C=0.31622776601683794, clf__penalty=none, clf__solver=sag; total time=   1.1s\n"
     ]
    },
    {
     "name": "stderr",
     "output_type": "stream",
     "text": [
      "/Users/guy/miniforge3/envs/.venv/lib/python3.9/site-packages/sklearn/linear_model/_logistic.py:1483: UserWarning: Setting penalty='none' will ignore the C and l1_ratio parameters\n",
      "  warnings.warn(\n"
     ]
    },
    {
     "name": "stdout",
     "output_type": "stream",
     "text": [
      "[CV] END clf__C=0.31622776601683794, clf__penalty=none, clf__solver=sag; total time=   1.0s\n"
     ]
    },
    {
     "name": "stderr",
     "output_type": "stream",
     "text": [
      "/Users/guy/miniforge3/envs/.venv/lib/python3.9/site-packages/sklearn/linear_model/_logistic.py:1483: UserWarning: Setting penalty='none' will ignore the C and l1_ratio parameters\n",
      "  warnings.warn(\n"
     ]
    },
    {
     "name": "stdout",
     "output_type": "stream",
     "text": [
      "[CV] END clf__C=0.31622776601683794, clf__penalty=none, clf__solver=sag; total time=   1.2s\n"
     ]
    },
    {
     "name": "stderr",
     "output_type": "stream",
     "text": [
      "/Users/guy/miniforge3/envs/.venv/lib/python3.9/site-packages/sklearn/linear_model/_logistic.py:1483: UserWarning: Setting penalty='none' will ignore the C and l1_ratio parameters\n",
      "  warnings.warn(\n"
     ]
    },
    {
     "name": "stdout",
     "output_type": "stream",
     "text": [
      "[CV] END clf__C=0.31622776601683794, clf__penalty=none, clf__solver=sag; total time=   0.8s\n"
     ]
    },
    {
     "name": "stderr",
     "output_type": "stream",
     "text": [
      "/Users/guy/miniforge3/envs/.venv/lib/python3.9/site-packages/sklearn/linear_model/_logistic.py:1483: UserWarning: Setting penalty='none' will ignore the C and l1_ratio parameters\n",
      "  warnings.warn(\n"
     ]
    },
    {
     "name": "stdout",
     "output_type": "stream",
     "text": [
      "[CV] END clf__C=0.31622776601683794, clf__penalty=none, clf__solver=sag; total time=   1.1s\n"
     ]
    },
    {
     "name": "stderr",
     "output_type": "stream",
     "text": [
      "/Users/guy/miniforge3/envs/.venv/lib/python3.9/site-packages/sklearn/linear_model/_logistic.py:1483: UserWarning: Setting penalty='none' will ignore the C and l1_ratio parameters\n",
      "  warnings.warn(\n"
     ]
    },
    {
     "name": "stdout",
     "output_type": "stream",
     "text": [
      "[CV] END clf__C=0.31622776601683794, clf__penalty=none, clf__solver=sag; total time=   1.2s\n"
     ]
    },
    {
     "name": "stderr",
     "output_type": "stream",
     "text": [
      "/Users/guy/miniforge3/envs/.venv/lib/python3.9/site-packages/sklearn/linear_model/_logistic.py:1483: UserWarning: Setting penalty='none' will ignore the C and l1_ratio parameters\n",
      "  warnings.warn(\n"
     ]
    },
    {
     "name": "stdout",
     "output_type": "stream",
     "text": [
      "[CV] END clf__C=0.31622776601683794, clf__penalty=none, clf__solver=sag; total time=   1.0s\n"
     ]
    },
    {
     "name": "stderr",
     "output_type": "stream",
     "text": [
      "/Users/guy/miniforge3/envs/.venv/lib/python3.9/site-packages/sklearn/linear_model/_logistic.py:1483: UserWarning: Setting penalty='none' will ignore the C and l1_ratio parameters\n",
      "  warnings.warn(\n"
     ]
    },
    {
     "name": "stdout",
     "output_type": "stream",
     "text": [
      "[CV] END clf__C=0.31622776601683794, clf__penalty=none, clf__solver=sag; total time=   1.1s\n"
     ]
    },
    {
     "name": "stderr",
     "output_type": "stream",
     "text": [
      "/Users/guy/miniforge3/envs/.venv/lib/python3.9/site-packages/sklearn/linear_model/_logistic.py:1483: UserWarning: Setting penalty='none' will ignore the C and l1_ratio parameters\n",
      "  warnings.warn(\n"
     ]
    },
    {
     "name": "stdout",
     "output_type": "stream",
     "text": [
      "[CV] END clf__C=0.31622776601683794, clf__penalty=none, clf__solver=sag; total time=   1.2s\n"
     ]
    },
    {
     "name": "stderr",
     "output_type": "stream",
     "text": [
      "/Users/guy/miniforge3/envs/.venv/lib/python3.9/site-packages/sklearn/linear_model/_logistic.py:1483: UserWarning: Setting penalty='none' will ignore the C and l1_ratio parameters\n",
      "  warnings.warn(\n"
     ]
    },
    {
     "name": "stdout",
     "output_type": "stream",
     "text": [
      "[CV] END clf__C=0.31622776601683794, clf__penalty=none, clf__solver=sag; total time=   1.1s\n"
     ]
    },
    {
     "name": "stderr",
     "output_type": "stream",
     "text": [
      "/Users/guy/miniforge3/envs/.venv/lib/python3.9/site-packages/sklearn/linear_model/_logistic.py:1483: UserWarning: Setting penalty='none' will ignore the C and l1_ratio parameters\n",
      "  warnings.warn(\n"
     ]
    },
    {
     "name": "stdout",
     "output_type": "stream",
     "text": [
      "[CV] END clf__C=0.31622776601683794, clf__penalty=none, clf__solver=sag; total time=   1.2s\n"
     ]
    },
    {
     "name": "stderr",
     "output_type": "stream",
     "text": [
      "/Users/guy/miniforge3/envs/.venv/lib/python3.9/site-packages/sklearn/linear_model/_logistic.py:1483: UserWarning: Setting penalty='none' will ignore the C and l1_ratio parameters\n",
      "  warnings.warn(\n"
     ]
    },
    {
     "name": "stdout",
     "output_type": "stream",
     "text": [
      "[CV] END clf__C=0.31622776601683794, clf__penalty=none, clf__solver=sag; total time=   0.7s\n",
      "[CV] END clf__C=0.372759372031494, clf__penalty=l1, clf__solver=lbfgs; total time=   0.0s\n",
      "[CV] END clf__C=0.372759372031494, clf__penalty=l1, clf__solver=lbfgs; total time=   0.0s\n",
      "[CV] END clf__C=0.372759372031494, clf__penalty=l1, clf__solver=lbfgs; total time=   0.0s\n",
      "[CV] END clf__C=0.372759372031494, clf__penalty=l1, clf__solver=lbfgs; total time=   0.0s\n",
      "[CV] END clf__C=0.372759372031494, clf__penalty=l1, clf__solver=lbfgs; total time=   0.0s\n",
      "[CV] END clf__C=0.372759372031494, clf__penalty=l1, clf__solver=lbfgs; total time=   0.0s\n",
      "[CV] END clf__C=0.372759372031494, clf__penalty=l1, clf__solver=lbfgs; total time=   0.0s\n",
      "[CV] END clf__C=0.372759372031494, clf__penalty=l1, clf__solver=lbfgs; total time=   0.0s\n",
      "[CV] END clf__C=0.372759372031494, clf__penalty=l1, clf__solver=lbfgs; total time=   0.0s\n",
      "[CV] END clf__C=0.372759372031494, clf__penalty=l1, clf__solver=lbfgs; total time=   0.0s\n",
      "[CV] END clf__C=0.372759372031494, clf__penalty=l1, clf__solver=lbfgs; total time=   0.0s\n",
      "[CV] END clf__C=0.372759372031494, clf__penalty=l1, clf__solver=lbfgs; total time=   0.0s\n",
      "[CV] END clf__C=0.372759372031494, clf__penalty=l1, clf__solver=lbfgs; total time=   0.0s\n",
      "[CV] END clf__C=0.372759372031494, clf__penalty=l1, clf__solver=lbfgs; total time=   0.0s\n",
      "[CV] END clf__C=0.372759372031494, clf__penalty=l1, clf__solver=lbfgs; total time=   0.0s\n",
      "[CV] END clf__C=0.372759372031494, clf__penalty=l1, clf__solver=liblinear; total time=   0.4s\n",
      "[CV] END clf__C=0.372759372031494, clf__penalty=l1, clf__solver=liblinear; total time=   0.3s\n",
      "[CV] END clf__C=0.372759372031494, clf__penalty=l1, clf__solver=liblinear; total time=   0.4s\n",
      "[CV] END clf__C=0.372759372031494, clf__penalty=l1, clf__solver=liblinear; total time=   0.3s\n",
      "[CV] END clf__C=0.372759372031494, clf__penalty=l1, clf__solver=liblinear; total time=   0.3s\n",
      "[CV] END clf__C=0.372759372031494, clf__penalty=l1, clf__solver=liblinear; total time=   0.4s\n",
      "[CV] END clf__C=0.372759372031494, clf__penalty=l1, clf__solver=liblinear; total time=   0.3s\n",
      "[CV] END clf__C=0.372759372031494, clf__penalty=l1, clf__solver=liblinear; total time=   0.3s\n",
      "[CV] END clf__C=0.372759372031494, clf__penalty=l1, clf__solver=liblinear; total time=   0.4s\n",
      "[CV] END clf__C=0.372759372031494, clf__penalty=l1, clf__solver=liblinear; total time=   0.3s\n",
      "[CV] END clf__C=0.372759372031494, clf__penalty=l1, clf__solver=liblinear; total time=   0.4s\n",
      "[CV] END clf__C=0.372759372031494, clf__penalty=l1, clf__solver=liblinear; total time=   0.3s\n",
      "[CV] END clf__C=0.372759372031494, clf__penalty=l1, clf__solver=liblinear; total time=   0.3s\n",
      "[CV] END clf__C=0.372759372031494, clf__penalty=l1, clf__solver=liblinear; total time=   0.4s\n",
      "[CV] END clf__C=0.372759372031494, clf__penalty=l1, clf__solver=liblinear; total time=   0.3s\n",
      "[CV] END clf__C=0.372759372031494, clf__penalty=l1, clf__solver=sag; total time=   0.0s\n",
      "[CV] END clf__C=0.372759372031494, clf__penalty=l1, clf__solver=sag; total time=   0.0s\n",
      "[CV] END clf__C=0.372759372031494, clf__penalty=l1, clf__solver=sag; total time=   0.0s\n",
      "[CV] END clf__C=0.372759372031494, clf__penalty=l1, clf__solver=sag; total time=   0.0s\n",
      "[CV] END clf__C=0.372759372031494, clf__penalty=l1, clf__solver=sag; total time=   0.0s\n",
      "[CV] END clf__C=0.372759372031494, clf__penalty=l1, clf__solver=sag; total time=   0.0s\n",
      "[CV] END clf__C=0.372759372031494, clf__penalty=l1, clf__solver=sag; total time=   0.0s\n",
      "[CV] END clf__C=0.372759372031494, clf__penalty=l1, clf__solver=sag; total time=   0.0s\n",
      "[CV] END clf__C=0.372759372031494, clf__penalty=l1, clf__solver=sag; total time=   0.0s\n",
      "[CV] END clf__C=0.372759372031494, clf__penalty=l1, clf__solver=sag; total time=   0.0s\n",
      "[CV] END clf__C=0.372759372031494, clf__penalty=l1, clf__solver=sag; total time=   0.0s\n",
      "[CV] END clf__C=0.372759372031494, clf__penalty=l1, clf__solver=sag; total time=   0.0s\n",
      "[CV] END clf__C=0.372759372031494, clf__penalty=l1, clf__solver=sag; total time=   0.0s\n",
      "[CV] END clf__C=0.372759372031494, clf__penalty=l1, clf__solver=sag; total time=   0.0s\n",
      "[CV] END clf__C=0.372759372031494, clf__penalty=l1, clf__solver=sag; total time=   0.0s\n",
      "[CV] END clf__C=0.372759372031494, clf__penalty=l2, clf__solver=lbfgs; total time=   0.1s\n",
      "[CV] END clf__C=0.372759372031494, clf__penalty=l2, clf__solver=lbfgs; total time=   0.1s\n",
      "[CV] END clf__C=0.372759372031494, clf__penalty=l2, clf__solver=lbfgs; total time=   0.1s\n",
      "[CV] END clf__C=0.372759372031494, clf__penalty=l2, clf__solver=lbfgs; total time=   0.1s\n",
      "[CV] END clf__C=0.372759372031494, clf__penalty=l2, clf__solver=lbfgs; total time=   0.1s\n",
      "[CV] END clf__C=0.372759372031494, clf__penalty=l2, clf__solver=lbfgs; total time=   0.1s\n",
      "[CV] END clf__C=0.372759372031494, clf__penalty=l2, clf__solver=lbfgs; total time=   0.1s\n",
      "[CV] END clf__C=0.372759372031494, clf__penalty=l2, clf__solver=lbfgs; total time=   0.1s\n",
      "[CV] END clf__C=0.372759372031494, clf__penalty=l2, clf__solver=lbfgs; total time=   0.1s\n",
      "[CV] END clf__C=0.372759372031494, clf__penalty=l2, clf__solver=lbfgs; total time=   0.1s\n",
      "[CV] END clf__C=0.372759372031494, clf__penalty=l2, clf__solver=lbfgs; total time=   0.1s\n",
      "[CV] END clf__C=0.372759372031494, clf__penalty=l2, clf__solver=lbfgs; total time=   0.1s\n",
      "[CV] END clf__C=0.372759372031494, clf__penalty=l2, clf__solver=lbfgs; total time=   0.1s\n",
      "[CV] END clf__C=0.372759372031494, clf__penalty=l2, clf__solver=lbfgs; total time=   0.1s\n",
      "[CV] END clf__C=0.372759372031494, clf__penalty=l2, clf__solver=lbfgs; total time=   0.1s\n",
      "[CV] END clf__C=0.372759372031494, clf__penalty=l2, clf__solver=liblinear; total time=   0.1s\n",
      "[CV] END clf__C=0.372759372031494, clf__penalty=l2, clf__solver=liblinear; total time=   0.1s\n",
      "[CV] END clf__C=0.372759372031494, clf__penalty=l2, clf__solver=liblinear; total time=   0.1s\n",
      "[CV] END clf__C=0.372759372031494, clf__penalty=l2, clf__solver=liblinear; total time=   0.1s\n",
      "[CV] END clf__C=0.372759372031494, clf__penalty=l2, clf__solver=liblinear; total time=   0.1s\n",
      "[CV] END clf__C=0.372759372031494, clf__penalty=l2, clf__solver=liblinear; total time=   0.1s\n",
      "[CV] END clf__C=0.372759372031494, clf__penalty=l2, clf__solver=liblinear; total time=   0.1s\n",
      "[CV] END clf__C=0.372759372031494, clf__penalty=l2, clf__solver=liblinear; total time=   0.1s\n",
      "[CV] END clf__C=0.372759372031494, clf__penalty=l2, clf__solver=liblinear; total time=   0.1s\n",
      "[CV] END clf__C=0.372759372031494, clf__penalty=l2, clf__solver=liblinear; total time=   0.1s\n",
      "[CV] END clf__C=0.372759372031494, clf__penalty=l2, clf__solver=liblinear; total time=   0.1s\n",
      "[CV] END clf__C=0.372759372031494, clf__penalty=l2, clf__solver=liblinear; total time=   0.1s\n",
      "[CV] END clf__C=0.372759372031494, clf__penalty=l2, clf__solver=liblinear; total time=   0.1s\n",
      "[CV] END clf__C=0.372759372031494, clf__penalty=l2, clf__solver=liblinear; total time=   0.1s\n",
      "[CV] END clf__C=0.372759372031494, clf__penalty=l2, clf__solver=liblinear; total time=   0.1s\n",
      "[CV] END clf__C=0.372759372031494, clf__penalty=l2, clf__solver=sag; total time=   0.2s\n",
      "[CV] END clf__C=0.372759372031494, clf__penalty=l2, clf__solver=sag; total time=   0.2s\n",
      "[CV] END clf__C=0.372759372031494, clf__penalty=l2, clf__solver=sag; total time=   0.2s\n",
      "[CV] END clf__C=0.372759372031494, clf__penalty=l2, clf__solver=sag; total time=   0.2s\n",
      "[CV] END clf__C=0.372759372031494, clf__penalty=l2, clf__solver=sag; total time=   0.2s\n",
      "[CV] END clf__C=0.372759372031494, clf__penalty=l2, clf__solver=sag; total time=   0.2s\n",
      "[CV] END clf__C=0.372759372031494, clf__penalty=l2, clf__solver=sag; total time=   0.2s\n",
      "[CV] END clf__C=0.372759372031494, clf__penalty=l2, clf__solver=sag; total time=   0.2s\n",
      "[CV] END clf__C=0.372759372031494, clf__penalty=l2, clf__solver=sag; total time=   0.2s\n",
      "[CV] END clf__C=0.372759372031494, clf__penalty=l2, clf__solver=sag; total time=   0.2s\n",
      "[CV] END clf__C=0.372759372031494, clf__penalty=l2, clf__solver=sag; total time=   0.2s\n",
      "[CV] END clf__C=0.372759372031494, clf__penalty=l2, clf__solver=sag; total time=   0.2s\n",
      "[CV] END clf__C=0.372759372031494, clf__penalty=l2, clf__solver=sag; total time=   0.2s\n",
      "[CV] END clf__C=0.372759372031494, clf__penalty=l2, clf__solver=sag; total time=   0.2s\n",
      "[CV] END clf__C=0.372759372031494, clf__penalty=l2, clf__solver=sag; total time=   0.2s\n",
      "[CV] END clf__C=0.372759372031494, clf__penalty=none, clf__solver=lbfgs; total time=   0.2s\n"
     ]
    },
    {
     "name": "stderr",
     "output_type": "stream",
     "text": [
      "/Users/guy/miniforge3/envs/.venv/lib/python3.9/site-packages/sklearn/linear_model/_logistic.py:1483: UserWarning: Setting penalty='none' will ignore the C and l1_ratio parameters\n",
      "  warnings.warn(\n",
      "/Users/guy/miniforge3/envs/.venv/lib/python3.9/site-packages/sklearn/linear_model/_logistic.py:1483: UserWarning: Setting penalty='none' will ignore the C and l1_ratio parameters\n",
      "  warnings.warn(\n"
     ]
    },
    {
     "name": "stdout",
     "output_type": "stream",
     "text": [
      "[CV] END clf__C=0.372759372031494, clf__penalty=none, clf__solver=lbfgs; total time=   0.3s\n"
     ]
    },
    {
     "name": "stderr",
     "output_type": "stream",
     "text": [
      "/Users/guy/miniforge3/envs/.venv/lib/python3.9/site-packages/sklearn/linear_model/_logistic.py:1483: UserWarning: Setting penalty='none' will ignore the C and l1_ratio parameters\n",
      "  warnings.warn(\n"
     ]
    },
    {
     "name": "stdout",
     "output_type": "stream",
     "text": [
      "[CV] END clf__C=0.372759372031494, clf__penalty=none, clf__solver=lbfgs; total time=   0.3s\n"
     ]
    },
    {
     "name": "stderr",
     "output_type": "stream",
     "text": [
      "/Users/guy/miniforge3/envs/.venv/lib/python3.9/site-packages/sklearn/linear_model/_logistic.py:1483: UserWarning: Setting penalty='none' will ignore the C and l1_ratio parameters\n",
      "  warnings.warn(\n"
     ]
    },
    {
     "name": "stdout",
     "output_type": "stream",
     "text": [
      "[CV] END clf__C=0.372759372031494, clf__penalty=none, clf__solver=lbfgs; total time=   0.3s\n"
     ]
    },
    {
     "name": "stderr",
     "output_type": "stream",
     "text": [
      "/Users/guy/miniforge3/envs/.venv/lib/python3.9/site-packages/sklearn/linear_model/_logistic.py:1483: UserWarning: Setting penalty='none' will ignore the C and l1_ratio parameters\n",
      "  warnings.warn(\n"
     ]
    },
    {
     "name": "stdout",
     "output_type": "stream",
     "text": [
      "[CV] END clf__C=0.372759372031494, clf__penalty=none, clf__solver=lbfgs; total time=   0.3s\n"
     ]
    },
    {
     "name": "stderr",
     "output_type": "stream",
     "text": [
      "/Users/guy/miniforge3/envs/.venv/lib/python3.9/site-packages/sklearn/linear_model/_logistic.py:1483: UserWarning: Setting penalty='none' will ignore the C and l1_ratio parameters\n",
      "  warnings.warn(\n"
     ]
    },
    {
     "name": "stdout",
     "output_type": "stream",
     "text": [
      "[CV] END clf__C=0.372759372031494, clf__penalty=none, clf__solver=lbfgs; total time=   0.3s\n"
     ]
    },
    {
     "name": "stderr",
     "output_type": "stream",
     "text": [
      "/Users/guy/miniforge3/envs/.venv/lib/python3.9/site-packages/sklearn/linear_model/_logistic.py:1483: UserWarning: Setting penalty='none' will ignore the C and l1_ratio parameters\n",
      "  warnings.warn(\n"
     ]
    },
    {
     "name": "stdout",
     "output_type": "stream",
     "text": [
      "[CV] END clf__C=0.372759372031494, clf__penalty=none, clf__solver=lbfgs; total time=   0.2s\n"
     ]
    },
    {
     "name": "stderr",
     "output_type": "stream",
     "text": [
      "/Users/guy/miniforge3/envs/.venv/lib/python3.9/site-packages/sklearn/linear_model/_logistic.py:1483: UserWarning: Setting penalty='none' will ignore the C and l1_ratio parameters\n",
      "  warnings.warn(\n"
     ]
    },
    {
     "name": "stdout",
     "output_type": "stream",
     "text": [
      "[CV] END clf__C=0.372759372031494, clf__penalty=none, clf__solver=lbfgs; total time=   0.3s\n"
     ]
    },
    {
     "name": "stderr",
     "output_type": "stream",
     "text": [
      "/Users/guy/miniforge3/envs/.venv/lib/python3.9/site-packages/sklearn/linear_model/_logistic.py:1483: UserWarning: Setting penalty='none' will ignore the C and l1_ratio parameters\n",
      "  warnings.warn(\n"
     ]
    },
    {
     "name": "stdout",
     "output_type": "stream",
     "text": [
      "[CV] END clf__C=0.372759372031494, clf__penalty=none, clf__solver=lbfgs; total time=   0.3s\n"
     ]
    },
    {
     "name": "stderr",
     "output_type": "stream",
     "text": [
      "/Users/guy/miniforge3/envs/.venv/lib/python3.9/site-packages/sklearn/linear_model/_logistic.py:1483: UserWarning: Setting penalty='none' will ignore the C and l1_ratio parameters\n",
      "  warnings.warn(\n"
     ]
    },
    {
     "name": "stdout",
     "output_type": "stream",
     "text": [
      "[CV] END clf__C=0.372759372031494, clf__penalty=none, clf__solver=lbfgs; total time=   0.3s\n"
     ]
    },
    {
     "name": "stderr",
     "output_type": "stream",
     "text": [
      "/Users/guy/miniforge3/envs/.venv/lib/python3.9/site-packages/sklearn/linear_model/_logistic.py:1483: UserWarning: Setting penalty='none' will ignore the C and l1_ratio parameters\n",
      "  warnings.warn(\n"
     ]
    },
    {
     "name": "stdout",
     "output_type": "stream",
     "text": [
      "[CV] END clf__C=0.372759372031494, clf__penalty=none, clf__solver=lbfgs; total time=   0.3s\n"
     ]
    },
    {
     "name": "stderr",
     "output_type": "stream",
     "text": [
      "/Users/guy/miniforge3/envs/.venv/lib/python3.9/site-packages/sklearn/linear_model/_logistic.py:1483: UserWarning: Setting penalty='none' will ignore the C and l1_ratio parameters\n",
      "  warnings.warn(\n"
     ]
    },
    {
     "name": "stdout",
     "output_type": "stream",
     "text": [
      "[CV] END clf__C=0.372759372031494, clf__penalty=none, clf__solver=lbfgs; total time=   0.3s\n"
     ]
    },
    {
     "name": "stderr",
     "output_type": "stream",
     "text": [
      "/Users/guy/miniforge3/envs/.venv/lib/python3.9/site-packages/sklearn/linear_model/_logistic.py:1483: UserWarning: Setting penalty='none' will ignore the C and l1_ratio parameters\n",
      "  warnings.warn(\n"
     ]
    },
    {
     "name": "stdout",
     "output_type": "stream",
     "text": [
      "[CV] END clf__C=0.372759372031494, clf__penalty=none, clf__solver=lbfgs; total time=   0.3s\n"
     ]
    },
    {
     "name": "stderr",
     "output_type": "stream",
     "text": [
      "/Users/guy/miniforge3/envs/.venv/lib/python3.9/site-packages/sklearn/linear_model/_logistic.py:1483: UserWarning: Setting penalty='none' will ignore the C and l1_ratio parameters\n",
      "  warnings.warn(\n"
     ]
    },
    {
     "name": "stdout",
     "output_type": "stream",
     "text": [
      "[CV] END clf__C=0.372759372031494, clf__penalty=none, clf__solver=lbfgs; total time=   0.3s\n"
     ]
    },
    {
     "name": "stderr",
     "output_type": "stream",
     "text": [
      "/Users/guy/miniforge3/envs/.venv/lib/python3.9/site-packages/sklearn/linear_model/_logistic.py:1483: UserWarning: Setting penalty='none' will ignore the C and l1_ratio parameters\n",
      "  warnings.warn(\n"
     ]
    },
    {
     "name": "stdout",
     "output_type": "stream",
     "text": [
      "[CV] END clf__C=0.372759372031494, clf__penalty=none, clf__solver=lbfgs; total time=   0.2s\n",
      "[CV] END clf__C=0.372759372031494, clf__penalty=none, clf__solver=liblinear; total time=   0.0s\n",
      "[CV] END clf__C=0.372759372031494, clf__penalty=none, clf__solver=liblinear; total time=   0.0s\n",
      "[CV] END clf__C=0.372759372031494, clf__penalty=none, clf__solver=liblinear; total time=   0.0s\n",
      "[CV] END clf__C=0.372759372031494, clf__penalty=none, clf__solver=liblinear; total time=   0.0s\n",
      "[CV] END clf__C=0.372759372031494, clf__penalty=none, clf__solver=liblinear; total time=   0.0s\n",
      "[CV] END clf__C=0.372759372031494, clf__penalty=none, clf__solver=liblinear; total time=   0.0s\n",
      "[CV] END clf__C=0.372759372031494, clf__penalty=none, clf__solver=liblinear; total time=   0.0s\n",
      "[CV] END clf__C=0.372759372031494, clf__penalty=none, clf__solver=liblinear; total time=   0.0s\n",
      "[CV] END clf__C=0.372759372031494, clf__penalty=none, clf__solver=liblinear; total time=   0.0s\n",
      "[CV] END clf__C=0.372759372031494, clf__penalty=none, clf__solver=liblinear; total time=   0.0s\n",
      "[CV] END clf__C=0.372759372031494, clf__penalty=none, clf__solver=liblinear; total time=   0.0s\n",
      "[CV] END clf__C=0.372759372031494, clf__penalty=none, clf__solver=liblinear; total time=   0.0s\n",
      "[CV] END clf__C=0.372759372031494, clf__penalty=none, clf__solver=liblinear; total time=   0.0s\n",
      "[CV] END clf__C=0.372759372031494, clf__penalty=none, clf__solver=liblinear; total time=   0.0s\n",
      "[CV] END clf__C=0.372759372031494, clf__penalty=none, clf__solver=liblinear; total time=   0.0s\n"
     ]
    },
    {
     "name": "stderr",
     "output_type": "stream",
     "text": [
      "/Users/guy/miniforge3/envs/.venv/lib/python3.9/site-packages/sklearn/linear_model/_logistic.py:1483: UserWarning: Setting penalty='none' will ignore the C and l1_ratio parameters\n",
      "  warnings.warn(\n"
     ]
    },
    {
     "name": "stdout",
     "output_type": "stream",
     "text": [
      "[CV] END clf__C=0.372759372031494, clf__penalty=none, clf__solver=sag; total time=   0.7s\n"
     ]
    },
    {
     "name": "stderr",
     "output_type": "stream",
     "text": [
      "/Users/guy/miniforge3/envs/.venv/lib/python3.9/site-packages/sklearn/linear_model/_logistic.py:1483: UserWarning: Setting penalty='none' will ignore the C and l1_ratio parameters\n",
      "  warnings.warn(\n"
     ]
    },
    {
     "name": "stdout",
     "output_type": "stream",
     "text": [
      "[CV] END clf__C=0.372759372031494, clf__penalty=none, clf__solver=sag; total time=   1.2s\n"
     ]
    },
    {
     "name": "stderr",
     "output_type": "stream",
     "text": [
      "/Users/guy/miniforge3/envs/.venv/lib/python3.9/site-packages/sklearn/linear_model/_logistic.py:1483: UserWarning: Setting penalty='none' will ignore the C and l1_ratio parameters\n",
      "  warnings.warn(\n"
     ]
    },
    {
     "name": "stdout",
     "output_type": "stream",
     "text": [
      "[CV] END clf__C=0.372759372031494, clf__penalty=none, clf__solver=sag; total time=   1.2s\n"
     ]
    },
    {
     "name": "stderr",
     "output_type": "stream",
     "text": [
      "/Users/guy/miniforge3/envs/.venv/lib/python3.9/site-packages/sklearn/linear_model/_logistic.py:1483: UserWarning: Setting penalty='none' will ignore the C and l1_ratio parameters\n",
      "  warnings.warn(\n"
     ]
    },
    {
     "name": "stdout",
     "output_type": "stream",
     "text": [
      "[CV] END clf__C=0.372759372031494, clf__penalty=none, clf__solver=sag; total time=   1.1s\n"
     ]
    },
    {
     "name": "stderr",
     "output_type": "stream",
     "text": [
      "/Users/guy/miniforge3/envs/.venv/lib/python3.9/site-packages/sklearn/linear_model/_logistic.py:1483: UserWarning: Setting penalty='none' will ignore the C and l1_ratio parameters\n",
      "  warnings.warn(\n"
     ]
    },
    {
     "name": "stdout",
     "output_type": "stream",
     "text": [
      "[CV] END clf__C=0.372759372031494, clf__penalty=none, clf__solver=sag; total time=   1.1s\n"
     ]
    },
    {
     "name": "stderr",
     "output_type": "stream",
     "text": [
      "/Users/guy/miniforge3/envs/.venv/lib/python3.9/site-packages/sklearn/linear_model/_logistic.py:1483: UserWarning: Setting penalty='none' will ignore the C and l1_ratio parameters\n",
      "  warnings.warn(\n"
     ]
    },
    {
     "name": "stdout",
     "output_type": "stream",
     "text": [
      "[CV] END clf__C=0.372759372031494, clf__penalty=none, clf__solver=sag; total time=   1.2s\n"
     ]
    },
    {
     "name": "stderr",
     "output_type": "stream",
     "text": [
      "/Users/guy/miniforge3/envs/.venv/lib/python3.9/site-packages/sklearn/linear_model/_logistic.py:1483: UserWarning: Setting penalty='none' will ignore the C and l1_ratio parameters\n",
      "  warnings.warn(\n"
     ]
    },
    {
     "name": "stdout",
     "output_type": "stream",
     "text": [
      "[CV] END clf__C=0.372759372031494, clf__penalty=none, clf__solver=sag; total time=   0.8s\n"
     ]
    },
    {
     "name": "stderr",
     "output_type": "stream",
     "text": [
      "/Users/guy/miniforge3/envs/.venv/lib/python3.9/site-packages/sklearn/linear_model/_logistic.py:1483: UserWarning: Setting penalty='none' will ignore the C and l1_ratio parameters\n",
      "  warnings.warn(\n"
     ]
    },
    {
     "name": "stdout",
     "output_type": "stream",
     "text": [
      "[CV] END clf__C=0.372759372031494, clf__penalty=none, clf__solver=sag; total time=   1.1s\n"
     ]
    },
    {
     "name": "stderr",
     "output_type": "stream",
     "text": [
      "/Users/guy/miniforge3/envs/.venv/lib/python3.9/site-packages/sklearn/linear_model/_logistic.py:1483: UserWarning: Setting penalty='none' will ignore the C and l1_ratio parameters\n",
      "  warnings.warn(\n"
     ]
    },
    {
     "name": "stdout",
     "output_type": "stream",
     "text": [
      "[CV] END clf__C=0.372759372031494, clf__penalty=none, clf__solver=sag; total time=   1.2s\n"
     ]
    },
    {
     "name": "stderr",
     "output_type": "stream",
     "text": [
      "/Users/guy/miniforge3/envs/.venv/lib/python3.9/site-packages/sklearn/linear_model/_logistic.py:1483: UserWarning: Setting penalty='none' will ignore the C and l1_ratio parameters\n",
      "  warnings.warn(\n"
     ]
    },
    {
     "name": "stdout",
     "output_type": "stream",
     "text": [
      "[CV] END clf__C=0.372759372031494, clf__penalty=none, clf__solver=sag; total time=   1.0s\n"
     ]
    },
    {
     "name": "stderr",
     "output_type": "stream",
     "text": [
      "/Users/guy/miniforge3/envs/.venv/lib/python3.9/site-packages/sklearn/linear_model/_logistic.py:1483: UserWarning: Setting penalty='none' will ignore the C and l1_ratio parameters\n",
      "  warnings.warn(\n"
     ]
    },
    {
     "name": "stdout",
     "output_type": "stream",
     "text": [
      "[CV] END clf__C=0.372759372031494, clf__penalty=none, clf__solver=sag; total time=   1.1s\n"
     ]
    },
    {
     "name": "stderr",
     "output_type": "stream",
     "text": [
      "/Users/guy/miniforge3/envs/.venv/lib/python3.9/site-packages/sklearn/linear_model/_logistic.py:1483: UserWarning: Setting penalty='none' will ignore the C and l1_ratio parameters\n",
      "  warnings.warn(\n"
     ]
    },
    {
     "name": "stdout",
     "output_type": "stream",
     "text": [
      "[CV] END clf__C=0.372759372031494, clf__penalty=none, clf__solver=sag; total time=   1.2s\n"
     ]
    },
    {
     "name": "stderr",
     "output_type": "stream",
     "text": [
      "/Users/guy/miniforge3/envs/.venv/lib/python3.9/site-packages/sklearn/linear_model/_logistic.py:1483: UserWarning: Setting penalty='none' will ignore the C and l1_ratio parameters\n",
      "  warnings.warn(\n"
     ]
    },
    {
     "name": "stdout",
     "output_type": "stream",
     "text": [
      "[CV] END clf__C=0.372759372031494, clf__penalty=none, clf__solver=sag; total time=   1.1s\n"
     ]
    },
    {
     "name": "stderr",
     "output_type": "stream",
     "text": [
      "/Users/guy/miniforge3/envs/.venv/lib/python3.9/site-packages/sklearn/linear_model/_logistic.py:1483: UserWarning: Setting penalty='none' will ignore the C and l1_ratio parameters\n",
      "  warnings.warn(\n"
     ]
    },
    {
     "name": "stdout",
     "output_type": "stream",
     "text": [
      "[CV] END clf__C=0.372759372031494, clf__penalty=none, clf__solver=sag; total time=   1.2s\n"
     ]
    },
    {
     "name": "stderr",
     "output_type": "stream",
     "text": [
      "/Users/guy/miniforge3/envs/.venv/lib/python3.9/site-packages/sklearn/linear_model/_logistic.py:1483: UserWarning: Setting penalty='none' will ignore the C and l1_ratio parameters\n",
      "  warnings.warn(\n"
     ]
    },
    {
     "name": "stdout",
     "output_type": "stream",
     "text": [
      "[CV] END clf__C=0.372759372031494, clf__penalty=none, clf__solver=sag; total time=   0.7s\n",
      "[CV] END clf__C=0.43939705607607904, clf__penalty=l1, clf__solver=lbfgs; total time=   0.0s\n",
      "[CV] END clf__C=0.43939705607607904, clf__penalty=l1, clf__solver=lbfgs; total time=   0.0s\n",
      "[CV] END clf__C=0.43939705607607904, clf__penalty=l1, clf__solver=lbfgs; total time=   0.0s\n",
      "[CV] END clf__C=0.43939705607607904, clf__penalty=l1, clf__solver=lbfgs; total time=   0.0s\n",
      "[CV] END clf__C=0.43939705607607904, clf__penalty=l1, clf__solver=lbfgs; total time=   0.0s\n",
      "[CV] END clf__C=0.43939705607607904, clf__penalty=l1, clf__solver=lbfgs; total time=   0.0s\n",
      "[CV] END clf__C=0.43939705607607904, clf__penalty=l1, clf__solver=lbfgs; total time=   0.0s\n",
      "[CV] END clf__C=0.43939705607607904, clf__penalty=l1, clf__solver=lbfgs; total time=   0.0s\n",
      "[CV] END clf__C=0.43939705607607904, clf__penalty=l1, clf__solver=lbfgs; total time=   0.0s\n",
      "[CV] END clf__C=0.43939705607607904, clf__penalty=l1, clf__solver=lbfgs; total time=   0.0s\n",
      "[CV] END clf__C=0.43939705607607904, clf__penalty=l1, clf__solver=lbfgs; total time=   0.0s\n",
      "[CV] END clf__C=0.43939705607607904, clf__penalty=l1, clf__solver=lbfgs; total time=   0.0s\n",
      "[CV] END clf__C=0.43939705607607904, clf__penalty=l1, clf__solver=lbfgs; total time=   0.0s\n",
      "[CV] END clf__C=0.43939705607607904, clf__penalty=l1, clf__solver=lbfgs; total time=   0.0s\n",
      "[CV] END clf__C=0.43939705607607904, clf__penalty=l1, clf__solver=lbfgs; total time=   0.0s\n",
      "[CV] END clf__C=0.43939705607607904, clf__penalty=l1, clf__solver=liblinear; total time=   0.5s\n",
      "[CV] END clf__C=0.43939705607607904, clf__penalty=l1, clf__solver=liblinear; total time=   0.3s\n",
      "[CV] END clf__C=0.43939705607607904, clf__penalty=l1, clf__solver=liblinear; total time=   0.4s\n",
      "[CV] END clf__C=0.43939705607607904, clf__penalty=l1, clf__solver=liblinear; total time=   0.3s\n",
      "[CV] END clf__C=0.43939705607607904, clf__penalty=l1, clf__solver=liblinear; total time=   0.3s\n",
      "[CV] END clf__C=0.43939705607607904, clf__penalty=l1, clf__solver=liblinear; total time=   0.5s\n",
      "[CV] END clf__C=0.43939705607607904, clf__penalty=l1, clf__solver=liblinear; total time=   0.4s\n",
      "[CV] END clf__C=0.43939705607607904, clf__penalty=l1, clf__solver=liblinear; total time=   0.3s\n",
      "[CV] END clf__C=0.43939705607607904, clf__penalty=l1, clf__solver=liblinear; total time=   0.4s\n",
      "[CV] END clf__C=0.43939705607607904, clf__penalty=l1, clf__solver=liblinear; total time=   0.4s\n",
      "[CV] END clf__C=0.43939705607607904, clf__penalty=l1, clf__solver=liblinear; total time=   0.4s\n",
      "[CV] END clf__C=0.43939705607607904, clf__penalty=l1, clf__solver=liblinear; total time=   0.3s\n",
      "[CV] END clf__C=0.43939705607607904, clf__penalty=l1, clf__solver=liblinear; total time=   0.3s\n",
      "[CV] END clf__C=0.43939705607607904, clf__penalty=l1, clf__solver=liblinear; total time=   0.4s\n",
      "[CV] END clf__C=0.43939705607607904, clf__penalty=l1, clf__solver=liblinear; total time=   0.3s\n",
      "[CV] END clf__C=0.43939705607607904, clf__penalty=l1, clf__solver=sag; total time=   0.0s\n",
      "[CV] END clf__C=0.43939705607607904, clf__penalty=l1, clf__solver=sag; total time=   0.0s\n",
      "[CV] END clf__C=0.43939705607607904, clf__penalty=l1, clf__solver=sag; total time=   0.0s\n",
      "[CV] END clf__C=0.43939705607607904, clf__penalty=l1, clf__solver=sag; total time=   0.0s\n",
      "[CV] END clf__C=0.43939705607607904, clf__penalty=l1, clf__solver=sag; total time=   0.0s\n",
      "[CV] END clf__C=0.43939705607607904, clf__penalty=l1, clf__solver=sag; total time=   0.0s\n",
      "[CV] END clf__C=0.43939705607607904, clf__penalty=l1, clf__solver=sag; total time=   0.0s\n",
      "[CV] END clf__C=0.43939705607607904, clf__penalty=l1, clf__solver=sag; total time=   0.0s\n",
      "[CV] END clf__C=0.43939705607607904, clf__penalty=l1, clf__solver=sag; total time=   0.0s\n",
      "[CV] END clf__C=0.43939705607607904, clf__penalty=l1, clf__solver=sag; total time=   0.0s\n",
      "[CV] END clf__C=0.43939705607607904, clf__penalty=l1, clf__solver=sag; total time=   0.0s\n",
      "[CV] END clf__C=0.43939705607607904, clf__penalty=l1, clf__solver=sag; total time=   0.0s\n",
      "[CV] END clf__C=0.43939705607607904, clf__penalty=l1, clf__solver=sag; total time=   0.0s\n",
      "[CV] END clf__C=0.43939705607607904, clf__penalty=l1, clf__solver=sag; total time=   0.0s\n",
      "[CV] END clf__C=0.43939705607607904, clf__penalty=l1, clf__solver=sag; total time=   0.0s\n",
      "[CV] END clf__C=0.43939705607607904, clf__penalty=l2, clf__solver=lbfgs; total time=   0.1s\n",
      "[CV] END clf__C=0.43939705607607904, clf__penalty=l2, clf__solver=lbfgs; total time=   0.1s\n",
      "[CV] END clf__C=0.43939705607607904, clf__penalty=l2, clf__solver=lbfgs; total time=   0.1s\n",
      "[CV] END clf__C=0.43939705607607904, clf__penalty=l2, clf__solver=lbfgs; total time=   0.1s\n",
      "[CV] END clf__C=0.43939705607607904, clf__penalty=l2, clf__solver=lbfgs; total time=   0.1s\n",
      "[CV] END clf__C=0.43939705607607904, clf__penalty=l2, clf__solver=lbfgs; total time=   0.1s\n",
      "[CV] END clf__C=0.43939705607607904, clf__penalty=l2, clf__solver=lbfgs; total time=   0.1s\n",
      "[CV] END clf__C=0.43939705607607904, clf__penalty=l2, clf__solver=lbfgs; total time=   0.1s\n",
      "[CV] END clf__C=0.43939705607607904, clf__penalty=l2, clf__solver=lbfgs; total time=   0.1s\n",
      "[CV] END clf__C=0.43939705607607904, clf__penalty=l2, clf__solver=lbfgs; total time=   0.1s\n",
      "[CV] END clf__C=0.43939705607607904, clf__penalty=l2, clf__solver=lbfgs; total time=   0.1s\n",
      "[CV] END clf__C=0.43939705607607904, clf__penalty=l2, clf__solver=lbfgs; total time=   0.1s\n",
      "[CV] END clf__C=0.43939705607607904, clf__penalty=l2, clf__solver=lbfgs; total time=   0.1s\n",
      "[CV] END clf__C=0.43939705607607904, clf__penalty=l2, clf__solver=lbfgs; total time=   0.1s\n",
      "[CV] END clf__C=0.43939705607607904, clf__penalty=l2, clf__solver=lbfgs; total time=   0.1s\n",
      "[CV] END clf__C=0.43939705607607904, clf__penalty=l2, clf__solver=liblinear; total time=   0.1s\n",
      "[CV] END clf__C=0.43939705607607904, clf__penalty=l2, clf__solver=liblinear; total time=   0.1s\n",
      "[CV] END clf__C=0.43939705607607904, clf__penalty=l2, clf__solver=liblinear; total time=   0.1s\n",
      "[CV] END clf__C=0.43939705607607904, clf__penalty=l2, clf__solver=liblinear; total time=   0.1s\n",
      "[CV] END clf__C=0.43939705607607904, clf__penalty=l2, clf__solver=liblinear; total time=   0.1s\n",
      "[CV] END clf__C=0.43939705607607904, clf__penalty=l2, clf__solver=liblinear; total time=   0.1s\n",
      "[CV] END clf__C=0.43939705607607904, clf__penalty=l2, clf__solver=liblinear; total time=   0.1s\n",
      "[CV] END clf__C=0.43939705607607904, clf__penalty=l2, clf__solver=liblinear; total time=   0.1s\n",
      "[CV] END clf__C=0.43939705607607904, clf__penalty=l2, clf__solver=liblinear; total time=   0.1s\n",
      "[CV] END clf__C=0.43939705607607904, clf__penalty=l2, clf__solver=liblinear; total time=   0.1s\n",
      "[CV] END clf__C=0.43939705607607904, clf__penalty=l2, clf__solver=liblinear; total time=   0.1s\n",
      "[CV] END clf__C=0.43939705607607904, clf__penalty=l2, clf__solver=liblinear; total time=   0.1s\n",
      "[CV] END clf__C=0.43939705607607904, clf__penalty=l2, clf__solver=liblinear; total time=   0.1s\n",
      "[CV] END clf__C=0.43939705607607904, clf__penalty=l2, clf__solver=liblinear; total time=   0.1s\n",
      "[CV] END clf__C=0.43939705607607904, clf__penalty=l2, clf__solver=liblinear; total time=   0.1s\n",
      "[CV] END clf__C=0.43939705607607904, clf__penalty=l2, clf__solver=sag; total time=   0.2s\n",
      "[CV] END clf__C=0.43939705607607904, clf__penalty=l2, clf__solver=sag; total time=   0.2s\n",
      "[CV] END clf__C=0.43939705607607904, clf__penalty=l2, clf__solver=sag; total time=   0.2s\n",
      "[CV] END clf__C=0.43939705607607904, clf__penalty=l2, clf__solver=sag; total time=   0.2s\n",
      "[CV] END clf__C=0.43939705607607904, clf__penalty=l2, clf__solver=sag; total time=   0.2s\n",
      "[CV] END clf__C=0.43939705607607904, clf__penalty=l2, clf__solver=sag; total time=   0.2s\n",
      "[CV] END clf__C=0.43939705607607904, clf__penalty=l2, clf__solver=sag; total time=   0.2s\n",
      "[CV] END clf__C=0.43939705607607904, clf__penalty=l2, clf__solver=sag; total time=   0.2s\n",
      "[CV] END clf__C=0.43939705607607904, clf__penalty=l2, clf__solver=sag; total time=   0.2s\n",
      "[CV] END clf__C=0.43939705607607904, clf__penalty=l2, clf__solver=sag; total time=   0.2s\n",
      "[CV] END clf__C=0.43939705607607904, clf__penalty=l2, clf__solver=sag; total time=   0.2s\n",
      "[CV] END clf__C=0.43939705607607904, clf__penalty=l2, clf__solver=sag; total time=   0.2s\n",
      "[CV] END clf__C=0.43939705607607904, clf__penalty=l2, clf__solver=sag; total time=   0.2s\n"
     ]
    },
    {
     "name": "stdout",
     "output_type": "stream",
     "text": [
      "[CV] END clf__C=0.43939705607607904, clf__penalty=l2, clf__solver=sag; total time=   0.2s\n",
      "[CV] END clf__C=0.43939705607607904, clf__penalty=l2, clf__solver=sag; total time=   0.2s\n"
     ]
    },
    {
     "name": "stderr",
     "output_type": "stream",
     "text": [
      "/Users/guy/miniforge3/envs/.venv/lib/python3.9/site-packages/sklearn/linear_model/_logistic.py:1483: UserWarning: Setting penalty='none' will ignore the C and l1_ratio parameters\n",
      "  warnings.warn(\n"
     ]
    },
    {
     "name": "stdout",
     "output_type": "stream",
     "text": [
      "[CV] END clf__C=0.43939705607607904, clf__penalty=none, clf__solver=lbfgs; total time=   0.2s\n"
     ]
    },
    {
     "name": "stderr",
     "output_type": "stream",
     "text": [
      "/Users/guy/miniforge3/envs/.venv/lib/python3.9/site-packages/sklearn/linear_model/_logistic.py:1483: UserWarning: Setting penalty='none' will ignore the C and l1_ratio parameters\n",
      "  warnings.warn(\n"
     ]
    },
    {
     "name": "stdout",
     "output_type": "stream",
     "text": [
      "[CV] END clf__C=0.43939705607607904, clf__penalty=none, clf__solver=lbfgs; total time=   0.4s\n"
     ]
    },
    {
     "name": "stderr",
     "output_type": "stream",
     "text": [
      "/Users/guy/miniforge3/envs/.venv/lib/python3.9/site-packages/sklearn/linear_model/_logistic.py:1483: UserWarning: Setting penalty='none' will ignore the C and l1_ratio parameters\n",
      "  warnings.warn(\n"
     ]
    },
    {
     "name": "stdout",
     "output_type": "stream",
     "text": [
      "[CV] END clf__C=0.43939705607607904, clf__penalty=none, clf__solver=lbfgs; total time=   0.3s\n"
     ]
    },
    {
     "name": "stderr",
     "output_type": "stream",
     "text": [
      "/Users/guy/miniforge3/envs/.venv/lib/python3.9/site-packages/sklearn/linear_model/_logistic.py:1483: UserWarning: Setting penalty='none' will ignore the C and l1_ratio parameters\n",
      "  warnings.warn(\n"
     ]
    },
    {
     "name": "stdout",
     "output_type": "stream",
     "text": [
      "[CV] END clf__C=0.43939705607607904, clf__penalty=none, clf__solver=lbfgs; total time=   0.3s\n"
     ]
    },
    {
     "name": "stderr",
     "output_type": "stream",
     "text": [
      "/Users/guy/miniforge3/envs/.venv/lib/python3.9/site-packages/sklearn/linear_model/_logistic.py:1483: UserWarning: Setting penalty='none' will ignore the C and l1_ratio parameters\n",
      "  warnings.warn(\n"
     ]
    },
    {
     "name": "stdout",
     "output_type": "stream",
     "text": [
      "[CV] END clf__C=0.43939705607607904, clf__penalty=none, clf__solver=lbfgs; total time=   0.3s\n"
     ]
    },
    {
     "name": "stderr",
     "output_type": "stream",
     "text": [
      "/Users/guy/miniforge3/envs/.venv/lib/python3.9/site-packages/sklearn/linear_model/_logistic.py:1483: UserWarning: Setting penalty='none' will ignore the C and l1_ratio parameters\n",
      "  warnings.warn(\n"
     ]
    },
    {
     "name": "stdout",
     "output_type": "stream",
     "text": [
      "[CV] END clf__C=0.43939705607607904, clf__penalty=none, clf__solver=lbfgs; total time=   0.4s\n"
     ]
    },
    {
     "name": "stderr",
     "output_type": "stream",
     "text": [
      "/Users/guy/miniforge3/envs/.venv/lib/python3.9/site-packages/sklearn/linear_model/_logistic.py:1483: UserWarning: Setting penalty='none' will ignore the C and l1_ratio parameters\n",
      "  warnings.warn(\n"
     ]
    },
    {
     "name": "stdout",
     "output_type": "stream",
     "text": [
      "[CV] END clf__C=0.43939705607607904, clf__penalty=none, clf__solver=lbfgs; total time=   0.2s\n"
     ]
    },
    {
     "name": "stderr",
     "output_type": "stream",
     "text": [
      "/Users/guy/miniforge3/envs/.venv/lib/python3.9/site-packages/sklearn/linear_model/_logistic.py:1483: UserWarning: Setting penalty='none' will ignore the C and l1_ratio parameters\n",
      "  warnings.warn(\n"
     ]
    },
    {
     "name": "stdout",
     "output_type": "stream",
     "text": [
      "[CV] END clf__C=0.43939705607607904, clf__penalty=none, clf__solver=lbfgs; total time=   0.3s\n"
     ]
    },
    {
     "name": "stderr",
     "output_type": "stream",
     "text": [
      "/Users/guy/miniforge3/envs/.venv/lib/python3.9/site-packages/sklearn/linear_model/_logistic.py:1483: UserWarning: Setting penalty='none' will ignore the C and l1_ratio parameters\n",
      "  warnings.warn(\n"
     ]
    },
    {
     "name": "stdout",
     "output_type": "stream",
     "text": [
      "[CV] END clf__C=0.43939705607607904, clf__penalty=none, clf__solver=lbfgs; total time=   0.3s\n"
     ]
    },
    {
     "name": "stderr",
     "output_type": "stream",
     "text": [
      "/Users/guy/miniforge3/envs/.venv/lib/python3.9/site-packages/sklearn/linear_model/_logistic.py:1483: UserWarning: Setting penalty='none' will ignore the C and l1_ratio parameters\n",
      "  warnings.warn(\n"
     ]
    },
    {
     "name": "stdout",
     "output_type": "stream",
     "text": [
      "[CV] END clf__C=0.43939705607607904, clf__penalty=none, clf__solver=lbfgs; total time=   0.3s\n"
     ]
    },
    {
     "name": "stderr",
     "output_type": "stream",
     "text": [
      "/Users/guy/miniforge3/envs/.venv/lib/python3.9/site-packages/sklearn/linear_model/_logistic.py:1483: UserWarning: Setting penalty='none' will ignore the C and l1_ratio parameters\n",
      "  warnings.warn(\n"
     ]
    },
    {
     "name": "stdout",
     "output_type": "stream",
     "text": [
      "[CV] END clf__C=0.43939705607607904, clf__penalty=none, clf__solver=lbfgs; total time=   0.3s\n"
     ]
    },
    {
     "name": "stderr",
     "output_type": "stream",
     "text": [
      "/Users/guy/miniforge3/envs/.venv/lib/python3.9/site-packages/sklearn/linear_model/_logistic.py:1483: UserWarning: Setting penalty='none' will ignore the C and l1_ratio parameters\n",
      "  warnings.warn(\n"
     ]
    },
    {
     "name": "stdout",
     "output_type": "stream",
     "text": [
      "[CV] END clf__C=0.43939705607607904, clf__penalty=none, clf__solver=lbfgs; total time=   0.3s\n"
     ]
    },
    {
     "name": "stderr",
     "output_type": "stream",
     "text": [
      "/Users/guy/miniforge3/envs/.venv/lib/python3.9/site-packages/sklearn/linear_model/_logistic.py:1483: UserWarning: Setting penalty='none' will ignore the C and l1_ratio parameters\n",
      "  warnings.warn(\n"
     ]
    },
    {
     "name": "stdout",
     "output_type": "stream",
     "text": [
      "[CV] END clf__C=0.43939705607607904, clf__penalty=none, clf__solver=lbfgs; total time=   0.3s\n"
     ]
    },
    {
     "name": "stderr",
     "output_type": "stream",
     "text": [
      "/Users/guy/miniforge3/envs/.venv/lib/python3.9/site-packages/sklearn/linear_model/_logistic.py:1483: UserWarning: Setting penalty='none' will ignore the C and l1_ratio parameters\n",
      "  warnings.warn(\n"
     ]
    },
    {
     "name": "stdout",
     "output_type": "stream",
     "text": [
      "[CV] END clf__C=0.43939705607607904, clf__penalty=none, clf__solver=lbfgs; total time=   0.3s\n"
     ]
    },
    {
     "name": "stderr",
     "output_type": "stream",
     "text": [
      "/Users/guy/miniforge3/envs/.venv/lib/python3.9/site-packages/sklearn/linear_model/_logistic.py:1483: UserWarning: Setting penalty='none' will ignore the C and l1_ratio parameters\n",
      "  warnings.warn(\n"
     ]
    },
    {
     "name": "stdout",
     "output_type": "stream",
     "text": [
      "[CV] END clf__C=0.43939705607607904, clf__penalty=none, clf__solver=lbfgs; total time=   0.3s\n",
      "[CV] END clf__C=0.43939705607607904, clf__penalty=none, clf__solver=liblinear; total time=   0.0s\n",
      "[CV] END clf__C=0.43939705607607904, clf__penalty=none, clf__solver=liblinear; total time=   0.0s\n",
      "[CV] END clf__C=0.43939705607607904, clf__penalty=none, clf__solver=liblinear; total time=   0.0s\n",
      "[CV] END clf__C=0.43939705607607904, clf__penalty=none, clf__solver=liblinear; total time=   0.0s\n",
      "[CV] END clf__C=0.43939705607607904, clf__penalty=none, clf__solver=liblinear; total time=   0.0s\n",
      "[CV] END clf__C=0.43939705607607904, clf__penalty=none, clf__solver=liblinear; total time=   0.0s\n",
      "[CV] END clf__C=0.43939705607607904, clf__penalty=none, clf__solver=liblinear; total time=   0.0s\n",
      "[CV] END clf__C=0.43939705607607904, clf__penalty=none, clf__solver=liblinear; total time=   0.0s\n",
      "[CV] END clf__C=0.43939705607607904, clf__penalty=none, clf__solver=liblinear; total time=   0.0s\n",
      "[CV] END clf__C=0.43939705607607904, clf__penalty=none, clf__solver=liblinear; total time=   0.0s\n",
      "[CV] END clf__C=0.43939705607607904, clf__penalty=none, clf__solver=liblinear; total time=   0.0s\n",
      "[CV] END clf__C=0.43939705607607904, clf__penalty=none, clf__solver=liblinear; total time=   0.0s\n",
      "[CV] END clf__C=0.43939705607607904, clf__penalty=none, clf__solver=liblinear; total time=   0.0s\n",
      "[CV] END clf__C=0.43939705607607904, clf__penalty=none, clf__solver=liblinear; total time=   0.0s\n",
      "[CV] END clf__C=0.43939705607607904, clf__penalty=none, clf__solver=liblinear; total time=   0.0s\n"
     ]
    },
    {
     "name": "stderr",
     "output_type": "stream",
     "text": [
      "/Users/guy/miniforge3/envs/.venv/lib/python3.9/site-packages/sklearn/linear_model/_logistic.py:1483: UserWarning: Setting penalty='none' will ignore the C and l1_ratio parameters\n",
      "  warnings.warn(\n"
     ]
    },
    {
     "name": "stdout",
     "output_type": "stream",
     "text": [
      "[CV] END clf__C=0.43939705607607904, clf__penalty=none, clf__solver=sag; total time=   0.7s\n"
     ]
    },
    {
     "name": "stderr",
     "output_type": "stream",
     "text": [
      "/Users/guy/miniforge3/envs/.venv/lib/python3.9/site-packages/sklearn/linear_model/_logistic.py:1483: UserWarning: Setting penalty='none' will ignore the C and l1_ratio parameters\n",
      "  warnings.warn(\n"
     ]
    },
    {
     "name": "stdout",
     "output_type": "stream",
     "text": [
      "[CV] END clf__C=0.43939705607607904, clf__penalty=none, clf__solver=sag; total time=   1.2s\n"
     ]
    },
    {
     "name": "stderr",
     "output_type": "stream",
     "text": [
      "/Users/guy/miniforge3/envs/.venv/lib/python3.9/site-packages/sklearn/linear_model/_logistic.py:1483: UserWarning: Setting penalty='none' will ignore the C and l1_ratio parameters\n",
      "  warnings.warn(\n"
     ]
    },
    {
     "name": "stdout",
     "output_type": "stream",
     "text": [
      "[CV] END clf__C=0.43939705607607904, clf__penalty=none, clf__solver=sag; total time=   1.2s\n"
     ]
    },
    {
     "name": "stderr",
     "output_type": "stream",
     "text": [
      "/Users/guy/miniforge3/envs/.venv/lib/python3.9/site-packages/sklearn/linear_model/_logistic.py:1483: UserWarning: Setting penalty='none' will ignore the C and l1_ratio parameters\n",
      "  warnings.warn(\n"
     ]
    },
    {
     "name": "stdout",
     "output_type": "stream",
     "text": [
      "[CV] END clf__C=0.43939705607607904, clf__penalty=none, clf__solver=sag; total time=   1.1s\n"
     ]
    },
    {
     "name": "stderr",
     "output_type": "stream",
     "text": [
      "/Users/guy/miniforge3/envs/.venv/lib/python3.9/site-packages/sklearn/linear_model/_logistic.py:1483: UserWarning: Setting penalty='none' will ignore the C and l1_ratio parameters\n",
      "  warnings.warn(\n"
     ]
    },
    {
     "name": "stdout",
     "output_type": "stream",
     "text": [
      "[CV] END clf__C=0.43939705607607904, clf__penalty=none, clf__solver=sag; total time=   1.1s\n"
     ]
    },
    {
     "name": "stderr",
     "output_type": "stream",
     "text": [
      "/Users/guy/miniforge3/envs/.venv/lib/python3.9/site-packages/sklearn/linear_model/_logistic.py:1483: UserWarning: Setting penalty='none' will ignore the C and l1_ratio parameters\n",
      "  warnings.warn(\n"
     ]
    },
    {
     "name": "stdout",
     "output_type": "stream",
     "text": [
      "[CV] END clf__C=0.43939705607607904, clf__penalty=none, clf__solver=sag; total time=   1.2s\n"
     ]
    },
    {
     "name": "stderr",
     "output_type": "stream",
     "text": [
      "/Users/guy/miniforge3/envs/.venv/lib/python3.9/site-packages/sklearn/linear_model/_logistic.py:1483: UserWarning: Setting penalty='none' will ignore the C and l1_ratio parameters\n",
      "  warnings.warn(\n"
     ]
    },
    {
     "name": "stdout",
     "output_type": "stream",
     "text": [
      "[CV] END clf__C=0.43939705607607904, clf__penalty=none, clf__solver=sag; total time=   0.7s\n"
     ]
    },
    {
     "name": "stderr",
     "output_type": "stream",
     "text": [
      "/Users/guy/miniforge3/envs/.venv/lib/python3.9/site-packages/sklearn/linear_model/_logistic.py:1483: UserWarning: Setting penalty='none' will ignore the C and l1_ratio parameters\n",
      "  warnings.warn(\n"
     ]
    },
    {
     "name": "stdout",
     "output_type": "stream",
     "text": [
      "[CV] END clf__C=0.43939705607607904, clf__penalty=none, clf__solver=sag; total time=   1.1s\n"
     ]
    },
    {
     "name": "stderr",
     "output_type": "stream",
     "text": [
      "/Users/guy/miniforge3/envs/.venv/lib/python3.9/site-packages/sklearn/linear_model/_logistic.py:1483: UserWarning: Setting penalty='none' will ignore the C and l1_ratio parameters\n",
      "  warnings.warn(\n"
     ]
    },
    {
     "name": "stdout",
     "output_type": "stream",
     "text": [
      "[CV] END clf__C=0.43939705607607904, clf__penalty=none, clf__solver=sag; total time=   1.2s\n"
     ]
    },
    {
     "name": "stderr",
     "output_type": "stream",
     "text": [
      "/Users/guy/miniforge3/envs/.venv/lib/python3.9/site-packages/sklearn/linear_model/_logistic.py:1483: UserWarning: Setting penalty='none' will ignore the C and l1_ratio parameters\n",
      "  warnings.warn(\n"
     ]
    },
    {
     "name": "stdout",
     "output_type": "stream",
     "text": [
      "[CV] END clf__C=0.43939705607607904, clf__penalty=none, clf__solver=sag; total time=   1.1s\n"
     ]
    },
    {
     "name": "stderr",
     "output_type": "stream",
     "text": [
      "/Users/guy/miniforge3/envs/.venv/lib/python3.9/site-packages/sklearn/linear_model/_logistic.py:1483: UserWarning: Setting penalty='none' will ignore the C and l1_ratio parameters\n",
      "  warnings.warn(\n"
     ]
    },
    {
     "name": "stdout",
     "output_type": "stream",
     "text": [
      "[CV] END clf__C=0.43939705607607904, clf__penalty=none, clf__solver=sag; total time=   1.1s\n"
     ]
    },
    {
     "name": "stderr",
     "output_type": "stream",
     "text": [
      "/Users/guy/miniforge3/envs/.venv/lib/python3.9/site-packages/sklearn/linear_model/_logistic.py:1483: UserWarning: Setting penalty='none' will ignore the C and l1_ratio parameters\n",
      "  warnings.warn(\n"
     ]
    },
    {
     "name": "stdout",
     "output_type": "stream",
     "text": [
      "[CV] END clf__C=0.43939705607607904, clf__penalty=none, clf__solver=sag; total time=   1.2s\n"
     ]
    },
    {
     "name": "stderr",
     "output_type": "stream",
     "text": [
      "/Users/guy/miniforge3/envs/.venv/lib/python3.9/site-packages/sklearn/linear_model/_logistic.py:1483: UserWarning: Setting penalty='none' will ignore the C and l1_ratio parameters\n",
      "  warnings.warn(\n"
     ]
    },
    {
     "name": "stdout",
     "output_type": "stream",
     "text": [
      "[CV] END clf__C=0.43939705607607904, clf__penalty=none, clf__solver=sag; total time=   1.1s\n"
     ]
    },
    {
     "name": "stderr",
     "output_type": "stream",
     "text": [
      "/Users/guy/miniforge3/envs/.venv/lib/python3.9/site-packages/sklearn/linear_model/_logistic.py:1483: UserWarning: Setting penalty='none' will ignore the C and l1_ratio parameters\n",
      "  warnings.warn(\n"
     ]
    },
    {
     "name": "stdout",
     "output_type": "stream",
     "text": [
      "[CV] END clf__C=0.43939705607607904, clf__penalty=none, clf__solver=sag; total time=   1.2s\n"
     ]
    },
    {
     "name": "stderr",
     "output_type": "stream",
     "text": [
      "/Users/guy/miniforge3/envs/.venv/lib/python3.9/site-packages/sklearn/linear_model/_logistic.py:1483: UserWarning: Setting penalty='none' will ignore the C and l1_ratio parameters\n",
      "  warnings.warn(\n"
     ]
    },
    {
     "name": "stdout",
     "output_type": "stream",
     "text": [
      "[CV] END clf__C=0.43939705607607904, clf__penalty=none, clf__solver=sag; total time=   0.7s\n",
      "[CV] END clf__C=0.517947467923121, clf__penalty=l1, clf__solver=lbfgs; total time=   0.0s\n",
      "[CV] END clf__C=0.517947467923121, clf__penalty=l1, clf__solver=lbfgs; total time=   0.0s\n",
      "[CV] END clf__C=0.517947467923121, clf__penalty=l1, clf__solver=lbfgs; total time=   0.0s\n",
      "[CV] END clf__C=0.517947467923121, clf__penalty=l1, clf__solver=lbfgs; total time=   0.0s\n",
      "[CV] END clf__C=0.517947467923121, clf__penalty=l1, clf__solver=lbfgs; total time=   0.0s\n",
      "[CV] END clf__C=0.517947467923121, clf__penalty=l1, clf__solver=lbfgs; total time=   0.0s\n",
      "[CV] END clf__C=0.517947467923121, clf__penalty=l1, clf__solver=lbfgs; total time=   0.0s\n",
      "[CV] END clf__C=0.517947467923121, clf__penalty=l1, clf__solver=lbfgs; total time=   0.0s\n",
      "[CV] END clf__C=0.517947467923121, clf__penalty=l1, clf__solver=lbfgs; total time=   0.0s\n",
      "[CV] END clf__C=0.517947467923121, clf__penalty=l1, clf__solver=lbfgs; total time=   0.0s\n",
      "[CV] END clf__C=0.517947467923121, clf__penalty=l1, clf__solver=lbfgs; total time=   0.0s\n",
      "[CV] END clf__C=0.517947467923121, clf__penalty=l1, clf__solver=lbfgs; total time=   0.0s\n",
      "[CV] END clf__C=0.517947467923121, clf__penalty=l1, clf__solver=lbfgs; total time=   0.0s\n",
      "[CV] END clf__C=0.517947467923121, clf__penalty=l1, clf__solver=lbfgs; total time=   0.0s\n",
      "[CV] END clf__C=0.517947467923121, clf__penalty=l1, clf__solver=lbfgs; total time=   0.0s\n",
      "[CV] END clf__C=0.517947467923121, clf__penalty=l1, clf__solver=liblinear; total time=   0.5s\n",
      "[CV] END clf__C=0.517947467923121, clf__penalty=l1, clf__solver=liblinear; total time=   0.4s\n",
      "[CV] END clf__C=0.517947467923121, clf__penalty=l1, clf__solver=liblinear; total time=   0.4s\n",
      "[CV] END clf__C=0.517947467923121, clf__penalty=l1, clf__solver=liblinear; total time=   0.4s\n",
      "[CV] END clf__C=0.517947467923121, clf__penalty=l1, clf__solver=liblinear; total time=   0.4s\n",
      "[CV] END clf__C=0.517947467923121, clf__penalty=l1, clf__solver=liblinear; total time=   0.5s\n",
      "[CV] END clf__C=0.517947467923121, clf__penalty=l1, clf__solver=liblinear; total time=   0.4s\n",
      "[CV] END clf__C=0.517947467923121, clf__penalty=l1, clf__solver=liblinear; total time=   0.3s\n",
      "[CV] END clf__C=0.517947467923121, clf__penalty=l1, clf__solver=liblinear; total time=   0.4s\n",
      "[CV] END clf__C=0.517947467923121, clf__penalty=l1, clf__solver=liblinear; total time=   0.4s\n",
      "[CV] END clf__C=0.517947467923121, clf__penalty=l1, clf__solver=liblinear; total time=   0.5s\n",
      "[CV] END clf__C=0.517947467923121, clf__penalty=l1, clf__solver=liblinear; total time=   0.4s\n",
      "[CV] END clf__C=0.517947467923121, clf__penalty=l1, clf__solver=liblinear; total time=   0.3s\n",
      "[CV] END clf__C=0.517947467923121, clf__penalty=l1, clf__solver=liblinear; total time=   0.5s\n",
      "[CV] END clf__C=0.517947467923121, clf__penalty=l1, clf__solver=liblinear; total time=   0.4s\n",
      "[CV] END clf__C=0.517947467923121, clf__penalty=l1, clf__solver=sag; total time=   0.0s\n",
      "[CV] END clf__C=0.517947467923121, clf__penalty=l1, clf__solver=sag; total time=   0.0s\n",
      "[CV] END clf__C=0.517947467923121, clf__penalty=l1, clf__solver=sag; total time=   0.0s\n",
      "[CV] END clf__C=0.517947467923121, clf__penalty=l1, clf__solver=sag; total time=   0.0s\n",
      "[CV] END clf__C=0.517947467923121, clf__penalty=l1, clf__solver=sag; total time=   0.0s\n",
      "[CV] END clf__C=0.517947467923121, clf__penalty=l1, clf__solver=sag; total time=   0.0s\n",
      "[CV] END clf__C=0.517947467923121, clf__penalty=l1, clf__solver=sag; total time=   0.0s\n",
      "[CV] END clf__C=0.517947467923121, clf__penalty=l1, clf__solver=sag; total time=   0.0s\n",
      "[CV] END clf__C=0.517947467923121, clf__penalty=l1, clf__solver=sag; total time=   0.0s\n",
      "[CV] END clf__C=0.517947467923121, clf__penalty=l1, clf__solver=sag; total time=   0.0s\n",
      "[CV] END clf__C=0.517947467923121, clf__penalty=l1, clf__solver=sag; total time=   0.0s\n",
      "[CV] END clf__C=0.517947467923121, clf__penalty=l1, clf__solver=sag; total time=   0.0s\n",
      "[CV] END clf__C=0.517947467923121, clf__penalty=l1, clf__solver=sag; total time=   0.0s\n",
      "[CV] END clf__C=0.517947467923121, clf__penalty=l1, clf__solver=sag; total time=   0.0s\n",
      "[CV] END clf__C=0.517947467923121, clf__penalty=l1, clf__solver=sag; total time=   0.0s\n",
      "[CV] END clf__C=0.517947467923121, clf__penalty=l2, clf__solver=lbfgs; total time=   0.1s\n",
      "[CV] END clf__C=0.517947467923121, clf__penalty=l2, clf__solver=lbfgs; total time=   0.1s\n",
      "[CV] END clf__C=0.517947467923121, clf__penalty=l2, clf__solver=lbfgs; total time=   0.1s\n",
      "[CV] END clf__C=0.517947467923121, clf__penalty=l2, clf__solver=lbfgs; total time=   0.1s\n",
      "[CV] END clf__C=0.517947467923121, clf__penalty=l2, clf__solver=lbfgs; total time=   0.2s\n",
      "[CV] END clf__C=0.517947467923121, clf__penalty=l2, clf__solver=lbfgs; total time=   0.1s\n",
      "[CV] END clf__C=0.517947467923121, clf__penalty=l2, clf__solver=lbfgs; total time=   0.1s\n",
      "[CV] END clf__C=0.517947467923121, clf__penalty=l2, clf__solver=lbfgs; total time=   0.1s\n",
      "[CV] END clf__C=0.517947467923121, clf__penalty=l2, clf__solver=lbfgs; total time=   0.2s\n",
      "[CV] END clf__C=0.517947467923121, clf__penalty=l2, clf__solver=lbfgs; total time=   0.1s\n",
      "[CV] END clf__C=0.517947467923121, clf__penalty=l2, clf__solver=lbfgs; total time=   0.2s\n",
      "[CV] END clf__C=0.517947467923121, clf__penalty=l2, clf__solver=lbfgs; total time=   0.1s\n",
      "[CV] END clf__C=0.517947467923121, clf__penalty=l2, clf__solver=lbfgs; total time=   0.2s\n",
      "[CV] END clf__C=0.517947467923121, clf__penalty=l2, clf__solver=lbfgs; total time=   0.1s\n",
      "[CV] END clf__C=0.517947467923121, clf__penalty=l2, clf__solver=lbfgs; total time=   0.1s\n",
      "[CV] END clf__C=0.517947467923121, clf__penalty=l2, clf__solver=liblinear; total time=   0.1s\n",
      "[CV] END clf__C=0.517947467923121, clf__penalty=l2, clf__solver=liblinear; total time=   0.1s\n",
      "[CV] END clf__C=0.517947467923121, clf__penalty=l2, clf__solver=liblinear; total time=   0.1s\n",
      "[CV] END clf__C=0.517947467923121, clf__penalty=l2, clf__solver=liblinear; total time=   0.1s\n",
      "[CV] END clf__C=0.517947467923121, clf__penalty=l2, clf__solver=liblinear; total time=   0.1s\n",
      "[CV] END clf__C=0.517947467923121, clf__penalty=l2, clf__solver=liblinear; total time=   0.1s\n",
      "[CV] END clf__C=0.517947467923121, clf__penalty=l2, clf__solver=liblinear; total time=   0.1s\n",
      "[CV] END clf__C=0.517947467923121, clf__penalty=l2, clf__solver=liblinear; total time=   0.1s\n",
      "[CV] END clf__C=0.517947467923121, clf__penalty=l2, clf__solver=liblinear; total time=   0.1s\n",
      "[CV] END clf__C=0.517947467923121, clf__penalty=l2, clf__solver=liblinear; total time=   0.1s\n",
      "[CV] END clf__C=0.517947467923121, clf__penalty=l2, clf__solver=liblinear; total time=   0.1s\n",
      "[CV] END clf__C=0.517947467923121, clf__penalty=l2, clf__solver=liblinear; total time=   0.1s\n",
      "[CV] END clf__C=0.517947467923121, clf__penalty=l2, clf__solver=liblinear; total time=   0.1s\n",
      "[CV] END clf__C=0.517947467923121, clf__penalty=l2, clf__solver=liblinear; total time=   0.1s\n",
      "[CV] END clf__C=0.517947467923121, clf__penalty=l2, clf__solver=liblinear; total time=   0.1s\n",
      "[CV] END clf__C=0.517947467923121, clf__penalty=l2, clf__solver=sag; total time=   0.3s\n",
      "[CV] END clf__C=0.517947467923121, clf__penalty=l2, clf__solver=sag; total time=   0.2s\n",
      "[CV] END clf__C=0.517947467923121, clf__penalty=l2, clf__solver=sag; total time=   0.2s\n",
      "[CV] END clf__C=0.517947467923121, clf__penalty=l2, clf__solver=sag; total time=   0.2s\n",
      "[CV] END clf__C=0.517947467923121, clf__penalty=l2, clf__solver=sag; total time=   0.2s\n",
      "[CV] END clf__C=0.517947467923121, clf__penalty=l2, clf__solver=sag; total time=   0.2s\n",
      "[CV] END clf__C=0.517947467923121, clf__penalty=l2, clf__solver=sag; total time=   0.2s\n",
      "[CV] END clf__C=0.517947467923121, clf__penalty=l2, clf__solver=sag; total time=   0.2s\n",
      "[CV] END clf__C=0.517947467923121, clf__penalty=l2, clf__solver=sag; total time=   0.2s\n",
      "[CV] END clf__C=0.517947467923121, clf__penalty=l2, clf__solver=sag; total time=   0.3s\n",
      "[CV] END clf__C=0.517947467923121, clf__penalty=l2, clf__solver=sag; total time=   0.2s\n",
      "[CV] END clf__C=0.517947467923121, clf__penalty=l2, clf__solver=sag; total time=   0.2s\n",
      "[CV] END clf__C=0.517947467923121, clf__penalty=l2, clf__solver=sag; total time=   0.2s\n",
      "[CV] END clf__C=0.517947467923121, clf__penalty=l2, clf__solver=sag; total time=   0.2s\n",
      "[CV] END clf__C=0.517947467923121, clf__penalty=l2, clf__solver=sag; total time=   0.2s\n",
      "[CV] END clf__C=0.517947467923121, clf__penalty=none, clf__solver=lbfgs; total time=   0.2s\n"
     ]
    },
    {
     "name": "stderr",
     "output_type": "stream",
     "text": [
      "/Users/guy/miniforge3/envs/.venv/lib/python3.9/site-packages/sklearn/linear_model/_logistic.py:1483: UserWarning: Setting penalty='none' will ignore the C and l1_ratio parameters\n",
      "  warnings.warn(\n",
      "/Users/guy/miniforge3/envs/.venv/lib/python3.9/site-packages/sklearn/linear_model/_logistic.py:1483: UserWarning: Setting penalty='none' will ignore the C and l1_ratio parameters\n",
      "  warnings.warn(\n"
     ]
    },
    {
     "name": "stdout",
     "output_type": "stream",
     "text": [
      "[CV] END clf__C=0.517947467923121, clf__penalty=none, clf__solver=lbfgs; total time=   0.3s\n"
     ]
    },
    {
     "name": "stderr",
     "output_type": "stream",
     "text": [
      "/Users/guy/miniforge3/envs/.venv/lib/python3.9/site-packages/sklearn/linear_model/_logistic.py:1483: UserWarning: Setting penalty='none' will ignore the C and l1_ratio parameters\n",
      "  warnings.warn(\n"
     ]
    },
    {
     "name": "stdout",
     "output_type": "stream",
     "text": [
      "[CV] END clf__C=0.517947467923121, clf__penalty=none, clf__solver=lbfgs; total time=   0.3s\n"
     ]
    },
    {
     "name": "stderr",
     "output_type": "stream",
     "text": [
      "/Users/guy/miniforge3/envs/.venv/lib/python3.9/site-packages/sklearn/linear_model/_logistic.py:1483: UserWarning: Setting penalty='none' will ignore the C and l1_ratio parameters\n",
      "  warnings.warn(\n"
     ]
    },
    {
     "name": "stdout",
     "output_type": "stream",
     "text": [
      "[CV] END clf__C=0.517947467923121, clf__penalty=none, clf__solver=lbfgs; total time=   0.3s\n"
     ]
    },
    {
     "name": "stderr",
     "output_type": "stream",
     "text": [
      "/Users/guy/miniforge3/envs/.venv/lib/python3.9/site-packages/sklearn/linear_model/_logistic.py:1483: UserWarning: Setting penalty='none' will ignore the C and l1_ratio parameters\n",
      "  warnings.warn(\n"
     ]
    },
    {
     "name": "stdout",
     "output_type": "stream",
     "text": [
      "[CV] END clf__C=0.517947467923121, clf__penalty=none, clf__solver=lbfgs; total time=   0.3s\n"
     ]
    },
    {
     "name": "stderr",
     "output_type": "stream",
     "text": [
      "/Users/guy/miniforge3/envs/.venv/lib/python3.9/site-packages/sklearn/linear_model/_logistic.py:1483: UserWarning: Setting penalty='none' will ignore the C and l1_ratio parameters\n",
      "  warnings.warn(\n"
     ]
    },
    {
     "name": "stdout",
     "output_type": "stream",
     "text": [
      "[CV] END clf__C=0.517947467923121, clf__penalty=none, clf__solver=lbfgs; total time=   0.3s\n",
      "[CV] END clf__C=0.517947467923121, clf__penalty=none, clf__solver=lbfgs; total time=   0.2s\n"
     ]
    },
    {
     "name": "stderr",
     "output_type": "stream",
     "text": [
      "/Users/guy/miniforge3/envs/.venv/lib/python3.9/site-packages/sklearn/linear_model/_logistic.py:1483: UserWarning: Setting penalty='none' will ignore the C and l1_ratio parameters\n",
      "  warnings.warn(\n",
      "/Users/guy/miniforge3/envs/.venv/lib/python3.9/site-packages/sklearn/linear_model/_logistic.py:1483: UserWarning: Setting penalty='none' will ignore the C and l1_ratio parameters\n",
      "  warnings.warn(\n"
     ]
    },
    {
     "name": "stdout",
     "output_type": "stream",
     "text": [
      "[CV] END clf__C=0.517947467923121, clf__penalty=none, clf__solver=lbfgs; total time=   0.3s\n"
     ]
    },
    {
     "name": "stderr",
     "output_type": "stream",
     "text": [
      "/Users/guy/miniforge3/envs/.venv/lib/python3.9/site-packages/sklearn/linear_model/_logistic.py:1483: UserWarning: Setting penalty='none' will ignore the C and l1_ratio parameters\n",
      "  warnings.warn(\n"
     ]
    },
    {
     "name": "stdout",
     "output_type": "stream",
     "text": [
      "[CV] END clf__C=0.517947467923121, clf__penalty=none, clf__solver=lbfgs; total time=   0.3s\n"
     ]
    },
    {
     "name": "stderr",
     "output_type": "stream",
     "text": [
      "/Users/guy/miniforge3/envs/.venv/lib/python3.9/site-packages/sklearn/linear_model/_logistic.py:1483: UserWarning: Setting penalty='none' will ignore the C and l1_ratio parameters\n",
      "  warnings.warn(\n"
     ]
    },
    {
     "name": "stdout",
     "output_type": "stream",
     "text": [
      "[CV] END clf__C=0.517947467923121, clf__penalty=none, clf__solver=lbfgs; total time=   0.3s\n"
     ]
    },
    {
     "name": "stderr",
     "output_type": "stream",
     "text": [
      "/Users/guy/miniforge3/envs/.venv/lib/python3.9/site-packages/sklearn/linear_model/_logistic.py:1483: UserWarning: Setting penalty='none' will ignore the C and l1_ratio parameters\n",
      "  warnings.warn(\n"
     ]
    },
    {
     "name": "stdout",
     "output_type": "stream",
     "text": [
      "[CV] END clf__C=0.517947467923121, clf__penalty=none, clf__solver=lbfgs; total time=   0.3s\n"
     ]
    },
    {
     "name": "stderr",
     "output_type": "stream",
     "text": [
      "/Users/guy/miniforge3/envs/.venv/lib/python3.9/site-packages/sklearn/linear_model/_logistic.py:1483: UserWarning: Setting penalty='none' will ignore the C and l1_ratio parameters\n",
      "  warnings.warn(\n"
     ]
    },
    {
     "name": "stdout",
     "output_type": "stream",
     "text": [
      "[CV] END clf__C=0.517947467923121, clf__penalty=none, clf__solver=lbfgs; total time=   0.3s\n"
     ]
    },
    {
     "name": "stderr",
     "output_type": "stream",
     "text": [
      "/Users/guy/miniforge3/envs/.venv/lib/python3.9/site-packages/sklearn/linear_model/_logistic.py:1483: UserWarning: Setting penalty='none' will ignore the C and l1_ratio parameters\n",
      "  warnings.warn(\n"
     ]
    },
    {
     "name": "stdout",
     "output_type": "stream",
     "text": [
      "[CV] END clf__C=0.517947467923121, clf__penalty=none, clf__solver=lbfgs; total time=   0.3s\n"
     ]
    },
    {
     "name": "stderr",
     "output_type": "stream",
     "text": [
      "/Users/guy/miniforge3/envs/.venv/lib/python3.9/site-packages/sklearn/linear_model/_logistic.py:1483: UserWarning: Setting penalty='none' will ignore the C and l1_ratio parameters\n",
      "  warnings.warn(\n"
     ]
    },
    {
     "name": "stdout",
     "output_type": "stream",
     "text": [
      "[CV] END clf__C=0.517947467923121, clf__penalty=none, clf__solver=lbfgs; total time=   0.3s\n"
     ]
    },
    {
     "name": "stderr",
     "output_type": "stream",
     "text": [
      "/Users/guy/miniforge3/envs/.venv/lib/python3.9/site-packages/sklearn/linear_model/_logistic.py:1483: UserWarning: Setting penalty='none' will ignore the C and l1_ratio parameters\n",
      "  warnings.warn(\n"
     ]
    },
    {
     "name": "stdout",
     "output_type": "stream",
     "text": [
      "[CV] END clf__C=0.517947467923121, clf__penalty=none, clf__solver=lbfgs; total time=   0.2s\n",
      "[CV] END clf__C=0.517947467923121, clf__penalty=none, clf__solver=liblinear; total time=   0.0s\n",
      "[CV] END clf__C=0.517947467923121, clf__penalty=none, clf__solver=liblinear; total time=   0.0s\n",
      "[CV] END clf__C=0.517947467923121, clf__penalty=none, clf__solver=liblinear; total time=   0.0s\n",
      "[CV] END clf__C=0.517947467923121, clf__penalty=none, clf__solver=liblinear; total time=   0.0s\n",
      "[CV] END clf__C=0.517947467923121, clf__penalty=none, clf__solver=liblinear; total time=   0.0s\n",
      "[CV] END clf__C=0.517947467923121, clf__penalty=none, clf__solver=liblinear; total time=   0.0s\n",
      "[CV] END clf__C=0.517947467923121, clf__penalty=none, clf__solver=liblinear; total time=   0.0s\n",
      "[CV] END clf__C=0.517947467923121, clf__penalty=none, clf__solver=liblinear; total time=   0.0s\n",
      "[CV] END clf__C=0.517947467923121, clf__penalty=none, clf__solver=liblinear; total time=   0.0s\n",
      "[CV] END clf__C=0.517947467923121, clf__penalty=none, clf__solver=liblinear; total time=   0.0s\n",
      "[CV] END clf__C=0.517947467923121, clf__penalty=none, clf__solver=liblinear; total time=   0.0s\n",
      "[CV] END clf__C=0.517947467923121, clf__penalty=none, clf__solver=liblinear; total time=   0.0s\n",
      "[CV] END clf__C=0.517947467923121, clf__penalty=none, clf__solver=liblinear; total time=   0.0s\n",
      "[CV] END clf__C=0.517947467923121, clf__penalty=none, clf__solver=liblinear; total time=   0.0s\n",
      "[CV] END clf__C=0.517947467923121, clf__penalty=none, clf__solver=liblinear; total time=   0.0s\n"
     ]
    },
    {
     "name": "stderr",
     "output_type": "stream",
     "text": [
      "/Users/guy/miniforge3/envs/.venv/lib/python3.9/site-packages/sklearn/linear_model/_logistic.py:1483: UserWarning: Setting penalty='none' will ignore the C and l1_ratio parameters\n",
      "  warnings.warn(\n"
     ]
    },
    {
     "name": "stdout",
     "output_type": "stream",
     "text": [
      "[CV] END clf__C=0.517947467923121, clf__penalty=none, clf__solver=sag; total time=   0.7s\n"
     ]
    },
    {
     "name": "stderr",
     "output_type": "stream",
     "text": [
      "/Users/guy/miniforge3/envs/.venv/lib/python3.9/site-packages/sklearn/linear_model/_logistic.py:1483: UserWarning: Setting penalty='none' will ignore the C and l1_ratio parameters\n",
      "  warnings.warn(\n"
     ]
    },
    {
     "name": "stdout",
     "output_type": "stream",
     "text": [
      "[CV] END clf__C=0.517947467923121, clf__penalty=none, clf__solver=sag; total time=   1.3s\n"
     ]
    },
    {
     "name": "stderr",
     "output_type": "stream",
     "text": [
      "/Users/guy/miniforge3/envs/.venv/lib/python3.9/site-packages/sklearn/linear_model/_logistic.py:1483: UserWarning: Setting penalty='none' will ignore the C and l1_ratio parameters\n",
      "  warnings.warn(\n"
     ]
    },
    {
     "name": "stdout",
     "output_type": "stream",
     "text": [
      "[CV] END clf__C=0.517947467923121, clf__penalty=none, clf__solver=sag; total time=   1.2s\n"
     ]
    },
    {
     "name": "stderr",
     "output_type": "stream",
     "text": [
      "/Users/guy/miniforge3/envs/.venv/lib/python3.9/site-packages/sklearn/linear_model/_logistic.py:1483: UserWarning: Setting penalty='none' will ignore the C and l1_ratio parameters\n",
      "  warnings.warn(\n"
     ]
    },
    {
     "name": "stdout",
     "output_type": "stream",
     "text": [
      "[CV] END clf__C=0.517947467923121, clf__penalty=none, clf__solver=sag; total time=   1.1s\n"
     ]
    },
    {
     "name": "stderr",
     "output_type": "stream",
     "text": [
      "/Users/guy/miniforge3/envs/.venv/lib/python3.9/site-packages/sklearn/linear_model/_logistic.py:1483: UserWarning: Setting penalty='none' will ignore the C and l1_ratio parameters\n",
      "  warnings.warn(\n"
     ]
    },
    {
     "name": "stdout",
     "output_type": "stream",
     "text": [
      "[CV] END clf__C=0.517947467923121, clf__penalty=none, clf__solver=sag; total time=   1.1s\n"
     ]
    },
    {
     "name": "stderr",
     "output_type": "stream",
     "text": [
      "/Users/guy/miniforge3/envs/.venv/lib/python3.9/site-packages/sklearn/linear_model/_logistic.py:1483: UserWarning: Setting penalty='none' will ignore the C and l1_ratio parameters\n",
      "  warnings.warn(\n"
     ]
    },
    {
     "name": "stdout",
     "output_type": "stream",
     "text": [
      "[CV] END clf__C=0.517947467923121, clf__penalty=none, clf__solver=sag; total time=   1.2s\n"
     ]
    },
    {
     "name": "stderr",
     "output_type": "stream",
     "text": [
      "/Users/guy/miniforge3/envs/.venv/lib/python3.9/site-packages/sklearn/linear_model/_logistic.py:1483: UserWarning: Setting penalty='none' will ignore the C and l1_ratio parameters\n",
      "  warnings.warn(\n"
     ]
    },
    {
     "name": "stdout",
     "output_type": "stream",
     "text": [
      "[CV] END clf__C=0.517947467923121, clf__penalty=none, clf__solver=sag; total time=   0.8s\n"
     ]
    },
    {
     "name": "stderr",
     "output_type": "stream",
     "text": [
      "/Users/guy/miniforge3/envs/.venv/lib/python3.9/site-packages/sklearn/linear_model/_logistic.py:1483: UserWarning: Setting penalty='none' will ignore the C and l1_ratio parameters\n",
      "  warnings.warn(\n"
     ]
    },
    {
     "name": "stdout",
     "output_type": "stream",
     "text": [
      "[CV] END clf__C=0.517947467923121, clf__penalty=none, clf__solver=sag; total time=   1.1s\n"
     ]
    },
    {
     "name": "stderr",
     "output_type": "stream",
     "text": [
      "/Users/guy/miniforge3/envs/.venv/lib/python3.9/site-packages/sklearn/linear_model/_logistic.py:1483: UserWarning: Setting penalty='none' will ignore the C and l1_ratio parameters\n",
      "  warnings.warn(\n"
     ]
    },
    {
     "name": "stdout",
     "output_type": "stream",
     "text": [
      "[CV] END clf__C=0.517947467923121, clf__penalty=none, clf__solver=sag; total time=   1.2s\n"
     ]
    },
    {
     "name": "stderr",
     "output_type": "stream",
     "text": [
      "/Users/guy/miniforge3/envs/.venv/lib/python3.9/site-packages/sklearn/linear_model/_logistic.py:1483: UserWarning: Setting penalty='none' will ignore the C and l1_ratio parameters\n",
      "  warnings.warn(\n"
     ]
    },
    {
     "name": "stdout",
     "output_type": "stream",
     "text": [
      "[CV] END clf__C=0.517947467923121, clf__penalty=none, clf__solver=sag; total time=   1.1s\n"
     ]
    },
    {
     "name": "stderr",
     "output_type": "stream",
     "text": [
      "/Users/guy/miniforge3/envs/.venv/lib/python3.9/site-packages/sklearn/linear_model/_logistic.py:1483: UserWarning: Setting penalty='none' will ignore the C and l1_ratio parameters\n",
      "  warnings.warn(\n"
     ]
    },
    {
     "name": "stdout",
     "output_type": "stream",
     "text": [
      "[CV] END clf__C=0.517947467923121, clf__penalty=none, clf__solver=sag; total time=   1.1s\n"
     ]
    },
    {
     "name": "stderr",
     "output_type": "stream",
     "text": [
      "/Users/guy/miniforge3/envs/.venv/lib/python3.9/site-packages/sklearn/linear_model/_logistic.py:1483: UserWarning: Setting penalty='none' will ignore the C and l1_ratio parameters\n",
      "  warnings.warn(\n"
     ]
    },
    {
     "name": "stdout",
     "output_type": "stream",
     "text": [
      "[CV] END clf__C=0.517947467923121, clf__penalty=none, clf__solver=sag; total time=   1.2s\n"
     ]
    },
    {
     "name": "stderr",
     "output_type": "stream",
     "text": [
      "/Users/guy/miniforge3/envs/.venv/lib/python3.9/site-packages/sklearn/linear_model/_logistic.py:1483: UserWarning: Setting penalty='none' will ignore the C and l1_ratio parameters\n",
      "  warnings.warn(\n"
     ]
    },
    {
     "name": "stdout",
     "output_type": "stream",
     "text": [
      "[CV] END clf__C=0.517947467923121, clf__penalty=none, clf__solver=sag; total time=   1.1s\n"
     ]
    },
    {
     "name": "stderr",
     "output_type": "stream",
     "text": [
      "/Users/guy/miniforge3/envs/.venv/lib/python3.9/site-packages/sklearn/linear_model/_logistic.py:1483: UserWarning: Setting penalty='none' will ignore the C and l1_ratio parameters\n",
      "  warnings.warn(\n"
     ]
    },
    {
     "name": "stdout",
     "output_type": "stream",
     "text": [
      "[CV] END clf__C=0.517947467923121, clf__penalty=none, clf__solver=sag; total time=   1.2s\n"
     ]
    },
    {
     "name": "stderr",
     "output_type": "stream",
     "text": [
      "/Users/guy/miniforge3/envs/.venv/lib/python3.9/site-packages/sklearn/linear_model/_logistic.py:1483: UserWarning: Setting penalty='none' will ignore the C and l1_ratio parameters\n",
      "  warnings.warn(\n"
     ]
    },
    {
     "name": "stdout",
     "output_type": "stream",
     "text": [
      "[CV] END clf__C=0.517947467923121, clf__penalty=none, clf__solver=sag; total time=   0.7s\n",
      "[CV] END clf__C=0.6105402296585328, clf__penalty=l1, clf__solver=lbfgs; total time=   0.0s\n",
      "[CV] END clf__C=0.6105402296585328, clf__penalty=l1, clf__solver=lbfgs; total time=   0.0s\n",
      "[CV] END clf__C=0.6105402296585328, clf__penalty=l1, clf__solver=lbfgs; total time=   0.0s\n",
      "[CV] END clf__C=0.6105402296585328, clf__penalty=l1, clf__solver=lbfgs; total time=   0.0s\n",
      "[CV] END clf__C=0.6105402296585328, clf__penalty=l1, clf__solver=lbfgs; total time=   0.0s\n",
      "[CV] END clf__C=0.6105402296585328, clf__penalty=l1, clf__solver=lbfgs; total time=   0.0s\n",
      "[CV] END clf__C=0.6105402296585328, clf__penalty=l1, clf__solver=lbfgs; total time=   0.0s\n",
      "[CV] END clf__C=0.6105402296585328, clf__penalty=l1, clf__solver=lbfgs; total time=   0.0s\n",
      "[CV] END clf__C=0.6105402296585328, clf__penalty=l1, clf__solver=lbfgs; total time=   0.0s\n",
      "[CV] END clf__C=0.6105402296585328, clf__penalty=l1, clf__solver=lbfgs; total time=   0.0s\n",
      "[CV] END clf__C=0.6105402296585328, clf__penalty=l1, clf__solver=lbfgs; total time=   0.0s\n",
      "[CV] END clf__C=0.6105402296585328, clf__penalty=l1, clf__solver=lbfgs; total time=   0.0s\n",
      "[CV] END clf__C=0.6105402296585328, clf__penalty=l1, clf__solver=lbfgs; total time=   0.0s\n",
      "[CV] END clf__C=0.6105402296585328, clf__penalty=l1, clf__solver=lbfgs; total time=   0.0s\n",
      "[CV] END clf__C=0.6105402296585328, clf__penalty=l1, clf__solver=lbfgs; total time=   0.0s\n",
      "[CV] END clf__C=0.6105402296585328, clf__penalty=l1, clf__solver=liblinear; total time=   0.6s\n",
      "[CV] END clf__C=0.6105402296585328, clf__penalty=l1, clf__solver=liblinear; total time=   0.5s\n",
      "[CV] END clf__C=0.6105402296585328, clf__penalty=l1, clf__solver=liblinear; total time=   0.4s\n",
      "[CV] END clf__C=0.6105402296585328, clf__penalty=l1, clf__solver=liblinear; total time=   0.5s\n",
      "[CV] END clf__C=0.6105402296585328, clf__penalty=l1, clf__solver=liblinear; total time=   0.4s\n",
      "[CV] END clf__C=0.6105402296585328, clf__penalty=l1, clf__solver=liblinear; total time=   0.5s\n",
      "[CV] END clf__C=0.6105402296585328, clf__penalty=l1, clf__solver=liblinear; total time=   0.5s\n",
      "[CV] END clf__C=0.6105402296585328, clf__penalty=l1, clf__solver=liblinear; total time=   0.3s\n",
      "[CV] END clf__C=0.6105402296585328, clf__penalty=l1, clf__solver=liblinear; total time=   0.5s\n",
      "[CV] END clf__C=0.6105402296585328, clf__penalty=l1, clf__solver=liblinear; total time=   0.5s\n",
      "[CV] END clf__C=0.6105402296585328, clf__penalty=l1, clf__solver=liblinear; total time=   0.6s\n",
      "[CV] END clf__C=0.6105402296585328, clf__penalty=l1, clf__solver=liblinear; total time=   0.4s\n",
      "[CV] END clf__C=0.6105402296585328, clf__penalty=l1, clf__solver=liblinear; total time=   0.5s\n",
      "[CV] END clf__C=0.6105402296585328, clf__penalty=l1, clf__solver=liblinear; total time=   0.5s\n",
      "[CV] END clf__C=0.6105402296585328, clf__penalty=l1, clf__solver=liblinear; total time=   0.5s\n",
      "[CV] END clf__C=0.6105402296585328, clf__penalty=l1, clf__solver=sag; total time=   0.0s\n",
      "[CV] END clf__C=0.6105402296585328, clf__penalty=l1, clf__solver=sag; total time=   0.0s\n",
      "[CV] END clf__C=0.6105402296585328, clf__penalty=l1, clf__solver=sag; total time=   0.0s\n",
      "[CV] END clf__C=0.6105402296585328, clf__penalty=l1, clf__solver=sag; total time=   0.0s\n",
      "[CV] END clf__C=0.6105402296585328, clf__penalty=l1, clf__solver=sag; total time=   0.0s\n",
      "[CV] END clf__C=0.6105402296585328, clf__penalty=l1, clf__solver=sag; total time=   0.0s\n",
      "[CV] END clf__C=0.6105402296585328, clf__penalty=l1, clf__solver=sag; total time=   0.0s\n",
      "[CV] END clf__C=0.6105402296585328, clf__penalty=l1, clf__solver=sag; total time=   0.0s\n",
      "[CV] END clf__C=0.6105402296585328, clf__penalty=l1, clf__solver=sag; total time=   0.0s\n",
      "[CV] END clf__C=0.6105402296585328, clf__penalty=l1, clf__solver=sag; total time=   0.0s\n",
      "[CV] END clf__C=0.6105402296585328, clf__penalty=l1, clf__solver=sag; total time=   0.0s\n",
      "[CV] END clf__C=0.6105402296585328, clf__penalty=l1, clf__solver=sag; total time=   0.0s\n",
      "[CV] END clf__C=0.6105402296585328, clf__penalty=l1, clf__solver=sag; total time=   0.0s\n",
      "[CV] END clf__C=0.6105402296585328, clf__penalty=l1, clf__solver=sag; total time=   0.0s\n",
      "[CV] END clf__C=0.6105402296585328, clf__penalty=l1, clf__solver=sag; total time=   0.0s\n",
      "[CV] END clf__C=0.6105402296585328, clf__penalty=l2, clf__solver=lbfgs; total time=   0.1s\n",
      "[CV] END clf__C=0.6105402296585328, clf__penalty=l2, clf__solver=lbfgs; total time=   0.1s\n",
      "[CV] END clf__C=0.6105402296585328, clf__penalty=l2, clf__solver=lbfgs; total time=   0.2s\n",
      "[CV] END clf__C=0.6105402296585328, clf__penalty=l2, clf__solver=lbfgs; total time=   0.2s\n",
      "[CV] END clf__C=0.6105402296585328, clf__penalty=l2, clf__solver=lbfgs; total time=   0.2s\n",
      "[CV] END clf__C=0.6105402296585328, clf__penalty=l2, clf__solver=lbfgs; total time=   0.1s\n",
      "[CV] END clf__C=0.6105402296585328, clf__penalty=l2, clf__solver=lbfgs; total time=   0.2s\n",
      "[CV] END clf__C=0.6105402296585328, clf__penalty=l2, clf__solver=lbfgs; total time=   0.1s\n",
      "[CV] END clf__C=0.6105402296585328, clf__penalty=l2, clf__solver=lbfgs; total time=   0.2s\n",
      "[CV] END clf__C=0.6105402296585328, clf__penalty=l2, clf__solver=lbfgs; total time=   0.2s\n",
      "[CV] END clf__C=0.6105402296585328, clf__penalty=l2, clf__solver=lbfgs; total time=   0.2s\n",
      "[CV] END clf__C=0.6105402296585328, clf__penalty=l2, clf__solver=lbfgs; total time=   0.1s\n",
      "[CV] END clf__C=0.6105402296585328, clf__penalty=l2, clf__solver=lbfgs; total time=   0.2s\n",
      "[CV] END clf__C=0.6105402296585328, clf__penalty=l2, clf__solver=lbfgs; total time=   0.2s\n",
      "[CV] END clf__C=0.6105402296585328, clf__penalty=l2, clf__solver=lbfgs; total time=   0.2s\n",
      "[CV] END clf__C=0.6105402296585328, clf__penalty=l2, clf__solver=liblinear; total time=   0.1s\n",
      "[CV] END clf__C=0.6105402296585328, clf__penalty=l2, clf__solver=liblinear; total time=   0.1s\n",
      "[CV] END clf__C=0.6105402296585328, clf__penalty=l2, clf__solver=liblinear; total time=   0.1s\n",
      "[CV] END clf__C=0.6105402296585328, clf__penalty=l2, clf__solver=liblinear; total time=   0.1s\n",
      "[CV] END clf__C=0.6105402296585328, clf__penalty=l2, clf__solver=liblinear; total time=   0.1s\n",
      "[CV] END clf__C=0.6105402296585328, clf__penalty=l2, clf__solver=liblinear; total time=   0.1s\n",
      "[CV] END clf__C=0.6105402296585328, clf__penalty=l2, clf__solver=liblinear; total time=   0.1s\n",
      "[CV] END clf__C=0.6105402296585328, clf__penalty=l2, clf__solver=liblinear; total time=   0.1s\n",
      "[CV] END clf__C=0.6105402296585328, clf__penalty=l2, clf__solver=liblinear; total time=   0.1s\n",
      "[CV] END clf__C=0.6105402296585328, clf__penalty=l2, clf__solver=liblinear; total time=   0.1s\n",
      "[CV] END clf__C=0.6105402296585328, clf__penalty=l2, clf__solver=liblinear; total time=   0.1s\n",
      "[CV] END clf__C=0.6105402296585328, clf__penalty=l2, clf__solver=liblinear; total time=   0.1s\n",
      "[CV] END clf__C=0.6105402296585328, clf__penalty=l2, clf__solver=liblinear; total time=   0.1s\n",
      "[CV] END clf__C=0.6105402296585328, clf__penalty=l2, clf__solver=liblinear; total time=   0.1s\n",
      "[CV] END clf__C=0.6105402296585328, clf__penalty=l2, clf__solver=liblinear; total time=   0.1s\n",
      "[CV] END clf__C=0.6105402296585328, clf__penalty=l2, clf__solver=sag; total time=   0.3s\n",
      "[CV] END clf__C=0.6105402296585328, clf__penalty=l2, clf__solver=sag; total time=   0.3s\n",
      "[CV] END clf__C=0.6105402296585328, clf__penalty=l2, clf__solver=sag; total time=   0.2s\n",
      "[CV] END clf__C=0.6105402296585328, clf__penalty=l2, clf__solver=sag; total time=   0.2s\n",
      "[CV] END clf__C=0.6105402296585328, clf__penalty=l2, clf__solver=sag; total time=   0.3s\n",
      "[CV] END clf__C=0.6105402296585328, clf__penalty=l2, clf__solver=sag; total time=   0.2s\n",
      "[CV] END clf__C=0.6105402296585328, clf__penalty=l2, clf__solver=sag; total time=   0.3s\n",
      "[CV] END clf__C=0.6105402296585328, clf__penalty=l2, clf__solver=sag; total time=   0.3s\n",
      "[CV] END clf__C=0.6105402296585328, clf__penalty=l2, clf__solver=sag; total time=   0.3s\n",
      "[CV] END clf__C=0.6105402296585328, clf__penalty=l2, clf__solver=sag; total time=   0.3s\n",
      "[CV] END clf__C=0.6105402296585328, clf__penalty=l2, clf__solver=sag; total time=   0.2s\n",
      "[CV] END clf__C=0.6105402296585328, clf__penalty=l2, clf__solver=sag; total time=   0.2s\n",
      "[CV] END clf__C=0.6105402296585328, clf__penalty=l2, clf__solver=sag; total time=   0.3s\n",
      "[CV] END clf__C=0.6105402296585328, clf__penalty=l2, clf__solver=sag; total time=   0.3s\n"
     ]
    },
    {
     "name": "stdout",
     "output_type": "stream",
     "text": [
      "[CV] END clf__C=0.6105402296585328, clf__penalty=l2, clf__solver=sag; total time=   0.2s\n",
      "[CV] END clf__C=0.6105402296585328, clf__penalty=none, clf__solver=lbfgs; total time=   0.2s\n"
     ]
    },
    {
     "name": "stderr",
     "output_type": "stream",
     "text": [
      "/Users/guy/miniforge3/envs/.venv/lib/python3.9/site-packages/sklearn/linear_model/_logistic.py:1483: UserWarning: Setting penalty='none' will ignore the C and l1_ratio parameters\n",
      "  warnings.warn(\n",
      "/Users/guy/miniforge3/envs/.venv/lib/python3.9/site-packages/sklearn/linear_model/_logistic.py:1483: UserWarning: Setting penalty='none' will ignore the C and l1_ratio parameters\n",
      "  warnings.warn(\n"
     ]
    },
    {
     "name": "stdout",
     "output_type": "stream",
     "text": [
      "[CV] END clf__C=0.6105402296585328, clf__penalty=none, clf__solver=lbfgs; total time=   0.3s\n"
     ]
    },
    {
     "name": "stderr",
     "output_type": "stream",
     "text": [
      "/Users/guy/miniforge3/envs/.venv/lib/python3.9/site-packages/sklearn/linear_model/_logistic.py:1483: UserWarning: Setting penalty='none' will ignore the C and l1_ratio parameters\n",
      "  warnings.warn(\n"
     ]
    },
    {
     "name": "stdout",
     "output_type": "stream",
     "text": [
      "[CV] END clf__C=0.6105402296585328, clf__penalty=none, clf__solver=lbfgs; total time=   0.3s\n"
     ]
    },
    {
     "name": "stderr",
     "output_type": "stream",
     "text": [
      "/Users/guy/miniforge3/envs/.venv/lib/python3.9/site-packages/sklearn/linear_model/_logistic.py:1483: UserWarning: Setting penalty='none' will ignore the C and l1_ratio parameters\n",
      "  warnings.warn(\n"
     ]
    },
    {
     "name": "stdout",
     "output_type": "stream",
     "text": [
      "[CV] END clf__C=0.6105402296585328, clf__penalty=none, clf__solver=lbfgs; total time=   0.3s\n"
     ]
    },
    {
     "name": "stderr",
     "output_type": "stream",
     "text": [
      "/Users/guy/miniforge3/envs/.venv/lib/python3.9/site-packages/sklearn/linear_model/_logistic.py:1483: UserWarning: Setting penalty='none' will ignore the C and l1_ratio parameters\n",
      "  warnings.warn(\n"
     ]
    },
    {
     "name": "stdout",
     "output_type": "stream",
     "text": [
      "[CV] END clf__C=0.6105402296585328, clf__penalty=none, clf__solver=lbfgs; total time=   0.3s\n"
     ]
    },
    {
     "name": "stderr",
     "output_type": "stream",
     "text": [
      "/Users/guy/miniforge3/envs/.venv/lib/python3.9/site-packages/sklearn/linear_model/_logistic.py:1483: UserWarning: Setting penalty='none' will ignore the C and l1_ratio parameters\n",
      "  warnings.warn(\n"
     ]
    },
    {
     "name": "stdout",
     "output_type": "stream",
     "text": [
      "[CV] END clf__C=0.6105402296585328, clf__penalty=none, clf__solver=lbfgs; total time=   0.3s\n"
     ]
    },
    {
     "name": "stderr",
     "output_type": "stream",
     "text": [
      "/Users/guy/miniforge3/envs/.venv/lib/python3.9/site-packages/sklearn/linear_model/_logistic.py:1483: UserWarning: Setting penalty='none' will ignore the C and l1_ratio parameters\n",
      "  warnings.warn(\n"
     ]
    },
    {
     "name": "stdout",
     "output_type": "stream",
     "text": [
      "[CV] END clf__C=0.6105402296585328, clf__penalty=none, clf__solver=lbfgs; total time=   0.2s\n"
     ]
    },
    {
     "name": "stderr",
     "output_type": "stream",
     "text": [
      "/Users/guy/miniforge3/envs/.venv/lib/python3.9/site-packages/sklearn/linear_model/_logistic.py:1483: UserWarning: Setting penalty='none' will ignore the C and l1_ratio parameters\n",
      "  warnings.warn(\n"
     ]
    },
    {
     "name": "stdout",
     "output_type": "stream",
     "text": [
      "[CV] END clf__C=0.6105402296585328, clf__penalty=none, clf__solver=lbfgs; total time=   0.3s\n"
     ]
    },
    {
     "name": "stderr",
     "output_type": "stream",
     "text": [
      "/Users/guy/miniforge3/envs/.venv/lib/python3.9/site-packages/sklearn/linear_model/_logistic.py:1483: UserWarning: Setting penalty='none' will ignore the C and l1_ratio parameters\n",
      "  warnings.warn(\n"
     ]
    },
    {
     "name": "stdout",
     "output_type": "stream",
     "text": [
      "[CV] END clf__C=0.6105402296585328, clf__penalty=none, clf__solver=lbfgs; total time=   0.3s\n"
     ]
    },
    {
     "name": "stderr",
     "output_type": "stream",
     "text": [
      "/Users/guy/miniforge3/envs/.venv/lib/python3.9/site-packages/sklearn/linear_model/_logistic.py:1483: UserWarning: Setting penalty='none' will ignore the C and l1_ratio parameters\n",
      "  warnings.warn(\n"
     ]
    },
    {
     "name": "stdout",
     "output_type": "stream",
     "text": [
      "[CV] END clf__C=0.6105402296585328, clf__penalty=none, clf__solver=lbfgs; total time=   0.3s\n"
     ]
    },
    {
     "name": "stderr",
     "output_type": "stream",
     "text": [
      "/Users/guy/miniforge3/envs/.venv/lib/python3.9/site-packages/sklearn/linear_model/_logistic.py:1483: UserWarning: Setting penalty='none' will ignore the C and l1_ratio parameters\n",
      "  warnings.warn(\n"
     ]
    },
    {
     "name": "stdout",
     "output_type": "stream",
     "text": [
      "[CV] END clf__C=0.6105402296585328, clf__penalty=none, clf__solver=lbfgs; total time=   0.3s\n"
     ]
    },
    {
     "name": "stderr",
     "output_type": "stream",
     "text": [
      "/Users/guy/miniforge3/envs/.venv/lib/python3.9/site-packages/sklearn/linear_model/_logistic.py:1483: UserWarning: Setting penalty='none' will ignore the C and l1_ratio parameters\n",
      "  warnings.warn(\n"
     ]
    },
    {
     "name": "stdout",
     "output_type": "stream",
     "text": [
      "[CV] END clf__C=0.6105402296585328, clf__penalty=none, clf__solver=lbfgs; total time=   0.3s\n"
     ]
    },
    {
     "name": "stderr",
     "output_type": "stream",
     "text": [
      "/Users/guy/miniforge3/envs/.venv/lib/python3.9/site-packages/sklearn/linear_model/_logistic.py:1483: UserWarning: Setting penalty='none' will ignore the C and l1_ratio parameters\n",
      "  warnings.warn(\n"
     ]
    },
    {
     "name": "stdout",
     "output_type": "stream",
     "text": [
      "[CV] END clf__C=0.6105402296585328, clf__penalty=none, clf__solver=lbfgs; total time=   0.3s\n"
     ]
    },
    {
     "name": "stderr",
     "output_type": "stream",
     "text": [
      "/Users/guy/miniforge3/envs/.venv/lib/python3.9/site-packages/sklearn/linear_model/_logistic.py:1483: UserWarning: Setting penalty='none' will ignore the C and l1_ratio parameters\n",
      "  warnings.warn(\n"
     ]
    },
    {
     "name": "stdout",
     "output_type": "stream",
     "text": [
      "[CV] END clf__C=0.6105402296585328, clf__penalty=none, clf__solver=lbfgs; total time=   0.3s\n"
     ]
    },
    {
     "name": "stderr",
     "output_type": "stream",
     "text": [
      "/Users/guy/miniforge3/envs/.venv/lib/python3.9/site-packages/sklearn/linear_model/_logistic.py:1483: UserWarning: Setting penalty='none' will ignore the C and l1_ratio parameters\n",
      "  warnings.warn(\n"
     ]
    },
    {
     "name": "stdout",
     "output_type": "stream",
     "text": [
      "[CV] END clf__C=0.6105402296585328, clf__penalty=none, clf__solver=lbfgs; total time=   0.3s\n",
      "[CV] END clf__C=0.6105402296585328, clf__penalty=none, clf__solver=liblinear; total time=   0.0s\n",
      "[CV] END clf__C=0.6105402296585328, clf__penalty=none, clf__solver=liblinear; total time=   0.0s\n",
      "[CV] END clf__C=0.6105402296585328, clf__penalty=none, clf__solver=liblinear; total time=   0.0s\n",
      "[CV] END clf__C=0.6105402296585328, clf__penalty=none, clf__solver=liblinear; total time=   0.0s\n",
      "[CV] END clf__C=0.6105402296585328, clf__penalty=none, clf__solver=liblinear; total time=   0.0s\n",
      "[CV] END clf__C=0.6105402296585328, clf__penalty=none, clf__solver=liblinear; total time=   0.0s\n",
      "[CV] END clf__C=0.6105402296585328, clf__penalty=none, clf__solver=liblinear; total time=   0.0s\n",
      "[CV] END clf__C=0.6105402296585328, clf__penalty=none, clf__solver=liblinear; total time=   0.0s\n",
      "[CV] END clf__C=0.6105402296585328, clf__penalty=none, clf__solver=liblinear; total time=   0.0s\n",
      "[CV] END clf__C=0.6105402296585328, clf__penalty=none, clf__solver=liblinear; total time=   0.0s\n",
      "[CV] END clf__C=0.6105402296585328, clf__penalty=none, clf__solver=liblinear; total time=   0.0s\n",
      "[CV] END clf__C=0.6105402296585328, clf__penalty=none, clf__solver=liblinear; total time=   0.0s\n",
      "[CV] END clf__C=0.6105402296585328, clf__penalty=none, clf__solver=liblinear; total time=   0.0s\n",
      "[CV] END clf__C=0.6105402296585328, clf__penalty=none, clf__solver=liblinear; total time=   0.0s\n",
      "[CV] END clf__C=0.6105402296585328, clf__penalty=none, clf__solver=liblinear; total time=   0.0s\n"
     ]
    },
    {
     "name": "stderr",
     "output_type": "stream",
     "text": [
      "/Users/guy/miniforge3/envs/.venv/lib/python3.9/site-packages/sklearn/linear_model/_logistic.py:1483: UserWarning: Setting penalty='none' will ignore the C and l1_ratio parameters\n",
      "  warnings.warn(\n"
     ]
    },
    {
     "name": "stdout",
     "output_type": "stream",
     "text": [
      "[CV] END clf__C=0.6105402296585328, clf__penalty=none, clf__solver=sag; total time=   0.7s\n"
     ]
    },
    {
     "name": "stderr",
     "output_type": "stream",
     "text": [
      "/Users/guy/miniforge3/envs/.venv/lib/python3.9/site-packages/sklearn/linear_model/_logistic.py:1483: UserWarning: Setting penalty='none' will ignore the C and l1_ratio parameters\n",
      "  warnings.warn(\n"
     ]
    },
    {
     "name": "stdout",
     "output_type": "stream",
     "text": [
      "[CV] END clf__C=0.6105402296585328, clf__penalty=none, clf__solver=sag; total time=   1.2s\n"
     ]
    },
    {
     "name": "stderr",
     "output_type": "stream",
     "text": [
      "/Users/guy/miniforge3/envs/.venv/lib/python3.9/site-packages/sklearn/linear_model/_logistic.py:1483: UserWarning: Setting penalty='none' will ignore the C and l1_ratio parameters\n",
      "  warnings.warn(\n"
     ]
    },
    {
     "name": "stdout",
     "output_type": "stream",
     "text": [
      "[CV] END clf__C=0.6105402296585328, clf__penalty=none, clf__solver=sag; total time=   1.2s\n"
     ]
    },
    {
     "name": "stderr",
     "output_type": "stream",
     "text": [
      "/Users/guy/miniforge3/envs/.venv/lib/python3.9/site-packages/sklearn/linear_model/_logistic.py:1483: UserWarning: Setting penalty='none' will ignore the C and l1_ratio parameters\n",
      "  warnings.warn(\n"
     ]
    },
    {
     "name": "stdout",
     "output_type": "stream",
     "text": [
      "[CV] END clf__C=0.6105402296585328, clf__penalty=none, clf__solver=sag; total time=   1.1s\n"
     ]
    },
    {
     "name": "stderr",
     "output_type": "stream",
     "text": [
      "/Users/guy/miniforge3/envs/.venv/lib/python3.9/site-packages/sklearn/linear_model/_logistic.py:1483: UserWarning: Setting penalty='none' will ignore the C and l1_ratio parameters\n",
      "  warnings.warn(\n"
     ]
    },
    {
     "name": "stdout",
     "output_type": "stream",
     "text": [
      "[CV] END clf__C=0.6105402296585328, clf__penalty=none, clf__solver=sag; total time=   1.1s\n"
     ]
    },
    {
     "name": "stderr",
     "output_type": "stream",
     "text": [
      "/Users/guy/miniforge3/envs/.venv/lib/python3.9/site-packages/sklearn/linear_model/_logistic.py:1483: UserWarning: Setting penalty='none' will ignore the C and l1_ratio parameters\n",
      "  warnings.warn(\n"
     ]
    },
    {
     "name": "stdout",
     "output_type": "stream",
     "text": [
      "[CV] END clf__C=0.6105402296585328, clf__penalty=none, clf__solver=sag; total time=   1.2s\n"
     ]
    },
    {
     "name": "stderr",
     "output_type": "stream",
     "text": [
      "/Users/guy/miniforge3/envs/.venv/lib/python3.9/site-packages/sklearn/linear_model/_logistic.py:1483: UserWarning: Setting penalty='none' will ignore the C and l1_ratio parameters\n",
      "  warnings.warn(\n"
     ]
    },
    {
     "name": "stdout",
     "output_type": "stream",
     "text": [
      "[CV] END clf__C=0.6105402296585328, clf__penalty=none, clf__solver=sag; total time=   0.7s\n"
     ]
    },
    {
     "name": "stderr",
     "output_type": "stream",
     "text": [
      "/Users/guy/miniforge3/envs/.venv/lib/python3.9/site-packages/sklearn/linear_model/_logistic.py:1483: UserWarning: Setting penalty='none' will ignore the C and l1_ratio parameters\n",
      "  warnings.warn(\n"
     ]
    },
    {
     "name": "stdout",
     "output_type": "stream",
     "text": [
      "[CV] END clf__C=0.6105402296585328, clf__penalty=none, clf__solver=sag; total time=   1.1s\n"
     ]
    },
    {
     "name": "stderr",
     "output_type": "stream",
     "text": [
      "/Users/guy/miniforge3/envs/.venv/lib/python3.9/site-packages/sklearn/linear_model/_logistic.py:1483: UserWarning: Setting penalty='none' will ignore the C and l1_ratio parameters\n",
      "  warnings.warn(\n"
     ]
    },
    {
     "name": "stdout",
     "output_type": "stream",
     "text": [
      "[CV] END clf__C=0.6105402296585328, clf__penalty=none, clf__solver=sag; total time=   1.2s\n"
     ]
    },
    {
     "name": "stderr",
     "output_type": "stream",
     "text": [
      "/Users/guy/miniforge3/envs/.venv/lib/python3.9/site-packages/sklearn/linear_model/_logistic.py:1483: UserWarning: Setting penalty='none' will ignore the C and l1_ratio parameters\n",
      "  warnings.warn(\n"
     ]
    },
    {
     "name": "stdout",
     "output_type": "stream",
     "text": [
      "[CV] END clf__C=0.6105402296585328, clf__penalty=none, clf__solver=sag; total time=   1.0s\n"
     ]
    },
    {
     "name": "stderr",
     "output_type": "stream",
     "text": [
      "/Users/guy/miniforge3/envs/.venv/lib/python3.9/site-packages/sklearn/linear_model/_logistic.py:1483: UserWarning: Setting penalty='none' will ignore the C and l1_ratio parameters\n",
      "  warnings.warn(\n"
     ]
    },
    {
     "name": "stdout",
     "output_type": "stream",
     "text": [
      "[CV] END clf__C=0.6105402296585328, clf__penalty=none, clf__solver=sag; total time=   1.1s\n"
     ]
    },
    {
     "name": "stderr",
     "output_type": "stream",
     "text": [
      "/Users/guy/miniforge3/envs/.venv/lib/python3.9/site-packages/sklearn/linear_model/_logistic.py:1483: UserWarning: Setting penalty='none' will ignore the C and l1_ratio parameters\n",
      "  warnings.warn(\n"
     ]
    },
    {
     "name": "stdout",
     "output_type": "stream",
     "text": [
      "[CV] END clf__C=0.6105402296585328, clf__penalty=none, clf__solver=sag; total time=   1.2s\n"
     ]
    },
    {
     "name": "stderr",
     "output_type": "stream",
     "text": [
      "/Users/guy/miniforge3/envs/.venv/lib/python3.9/site-packages/sklearn/linear_model/_logistic.py:1483: UserWarning: Setting penalty='none' will ignore the C and l1_ratio parameters\n",
      "  warnings.warn(\n"
     ]
    },
    {
     "name": "stdout",
     "output_type": "stream",
     "text": [
      "[CV] END clf__C=0.6105402296585328, clf__penalty=none, clf__solver=sag; total time=   1.2s\n"
     ]
    },
    {
     "name": "stderr",
     "output_type": "stream",
     "text": [
      "/Users/guy/miniforge3/envs/.venv/lib/python3.9/site-packages/sklearn/linear_model/_logistic.py:1483: UserWarning: Setting penalty='none' will ignore the C and l1_ratio parameters\n",
      "  warnings.warn(\n"
     ]
    },
    {
     "name": "stdout",
     "output_type": "stream",
     "text": [
      "[CV] END clf__C=0.6105402296585328, clf__penalty=none, clf__solver=sag; total time=   1.3s\n"
     ]
    },
    {
     "name": "stderr",
     "output_type": "stream",
     "text": [
      "/Users/guy/miniforge3/envs/.venv/lib/python3.9/site-packages/sklearn/linear_model/_logistic.py:1483: UserWarning: Setting penalty='none' will ignore the C and l1_ratio parameters\n",
      "  warnings.warn(\n"
     ]
    },
    {
     "name": "stdout",
     "output_type": "stream",
     "text": [
      "[CV] END clf__C=0.6105402296585328, clf__penalty=none, clf__solver=sag; total time=   0.7s\n",
      "[CV] END clf__C=0.7196856730011519, clf__penalty=l1, clf__solver=lbfgs; total time=   0.0s\n",
      "[CV] END clf__C=0.7196856730011519, clf__penalty=l1, clf__solver=lbfgs; total time=   0.0s\n",
      "[CV] END clf__C=0.7196856730011519, clf__penalty=l1, clf__solver=lbfgs; total time=   0.0s\n",
      "[CV] END clf__C=0.7196856730011519, clf__penalty=l1, clf__solver=lbfgs; total time=   0.0s\n",
      "[CV] END clf__C=0.7196856730011519, clf__penalty=l1, clf__solver=lbfgs; total time=   0.0s\n",
      "[CV] END clf__C=0.7196856730011519, clf__penalty=l1, clf__solver=lbfgs; total time=   0.0s\n",
      "[CV] END clf__C=0.7196856730011519, clf__penalty=l1, clf__solver=lbfgs; total time=   0.0s\n",
      "[CV] END clf__C=0.7196856730011519, clf__penalty=l1, clf__solver=lbfgs; total time=   0.0s\n",
      "[CV] END clf__C=0.7196856730011519, clf__penalty=l1, clf__solver=lbfgs; total time=   0.0s\n",
      "[CV] END clf__C=0.7196856730011519, clf__penalty=l1, clf__solver=lbfgs; total time=   0.0s\n",
      "[CV] END clf__C=0.7196856730011519, clf__penalty=l1, clf__solver=lbfgs; total time=   0.0s\n",
      "[CV] END clf__C=0.7196856730011519, clf__penalty=l1, clf__solver=lbfgs; total time=   0.0s\n",
      "[CV] END clf__C=0.7196856730011519, clf__penalty=l1, clf__solver=lbfgs; total time=   0.0s\n",
      "[CV] END clf__C=0.7196856730011519, clf__penalty=l1, clf__solver=lbfgs; total time=   0.0s\n",
      "[CV] END clf__C=0.7196856730011519, clf__penalty=l1, clf__solver=lbfgs; total time=   0.0s\n",
      "[CV] END clf__C=0.7196856730011519, clf__penalty=l1, clf__solver=liblinear; total time=   0.7s\n",
      "[CV] END clf__C=0.7196856730011519, clf__penalty=l1, clf__solver=liblinear; total time=   0.5s\n",
      "[CV] END clf__C=0.7196856730011519, clf__penalty=l1, clf__solver=liblinear; total time=   0.5s\n",
      "[CV] END clf__C=0.7196856730011519, clf__penalty=l1, clf__solver=liblinear; total time=   0.6s\n",
      "[CV] END clf__C=0.7196856730011519, clf__penalty=l1, clf__solver=liblinear; total time=   0.5s\n",
      "[CV] END clf__C=0.7196856730011519, clf__penalty=l1, clf__solver=liblinear; total time=   0.5s\n",
      "[CV] END clf__C=0.7196856730011519, clf__penalty=l1, clf__solver=liblinear; total time=   0.5s\n",
      "[CV] END clf__C=0.7196856730011519, clf__penalty=l1, clf__solver=liblinear; total time=   0.4s\n",
      "[CV] END clf__C=0.7196856730011519, clf__penalty=l1, clf__solver=liblinear; total time=   0.6s\n",
      "[CV] END clf__C=0.7196856730011519, clf__penalty=l1, clf__solver=liblinear; total time=   0.5s\n",
      "[CV] END clf__C=0.7196856730011519, clf__penalty=l1, clf__solver=liblinear; total time=   0.7s\n",
      "[CV] END clf__C=0.7196856730011519, clf__penalty=l1, clf__solver=liblinear; total time=   0.4s\n",
      "[CV] END clf__C=0.7196856730011519, clf__penalty=l1, clf__solver=liblinear; total time=   0.5s\n",
      "[CV] END clf__C=0.7196856730011519, clf__penalty=l1, clf__solver=liblinear; total time=   0.5s\n",
      "[CV] END clf__C=0.7196856730011519, clf__penalty=l1, clf__solver=liblinear; total time=   0.5s\n",
      "[CV] END clf__C=0.7196856730011519, clf__penalty=l1, clf__solver=sag; total time=   0.0s\n",
      "[CV] END clf__C=0.7196856730011519, clf__penalty=l1, clf__solver=sag; total time=   0.0s\n",
      "[CV] END clf__C=0.7196856730011519, clf__penalty=l1, clf__solver=sag; total time=   0.0s\n",
      "[CV] END clf__C=0.7196856730011519, clf__penalty=l1, clf__solver=sag; total time=   0.0s\n",
      "[CV] END clf__C=0.7196856730011519, clf__penalty=l1, clf__solver=sag; total time=   0.0s\n",
      "[CV] END clf__C=0.7196856730011519, clf__penalty=l1, clf__solver=sag; total time=   0.0s\n",
      "[CV] END clf__C=0.7196856730011519, clf__penalty=l1, clf__solver=sag; total time=   0.0s\n",
      "[CV] END clf__C=0.7196856730011519, clf__penalty=l1, clf__solver=sag; total time=   0.0s\n",
      "[CV] END clf__C=0.7196856730011519, clf__penalty=l1, clf__solver=sag; total time=   0.0s\n",
      "[CV] END clf__C=0.7196856730011519, clf__penalty=l1, clf__solver=sag; total time=   0.0s\n",
      "[CV] END clf__C=0.7196856730011519, clf__penalty=l1, clf__solver=sag; total time=   0.0s\n",
      "[CV] END clf__C=0.7196856730011519, clf__penalty=l1, clf__solver=sag; total time=   0.0s\n",
      "[CV] END clf__C=0.7196856730011519, clf__penalty=l1, clf__solver=sag; total time=   0.0s\n",
      "[CV] END clf__C=0.7196856730011519, clf__penalty=l1, clf__solver=sag; total time=   0.0s\n",
      "[CV] END clf__C=0.7196856730011519, clf__penalty=l1, clf__solver=sag; total time=   0.0s\n",
      "[CV] END clf__C=0.7196856730011519, clf__penalty=l2, clf__solver=lbfgs; total time=   0.1s\n",
      "[CV] END clf__C=0.7196856730011519, clf__penalty=l2, clf__solver=lbfgs; total time=   0.1s\n",
      "[CV] END clf__C=0.7196856730011519, clf__penalty=l2, clf__solver=lbfgs; total time=   0.1s\n",
      "[CV] END clf__C=0.7196856730011519, clf__penalty=l2, clf__solver=lbfgs; total time=   0.2s\n",
      "[CV] END clf__C=0.7196856730011519, clf__penalty=l2, clf__solver=lbfgs; total time=   0.2s\n",
      "[CV] END clf__C=0.7196856730011519, clf__penalty=l2, clf__solver=lbfgs; total time=   0.1s\n",
      "[CV] END clf__C=0.7196856730011519, clf__penalty=l2, clf__solver=lbfgs; total time=   0.2s\n",
      "[CV] END clf__C=0.7196856730011519, clf__penalty=l2, clf__solver=lbfgs; total time=   0.2s\n",
      "[CV] END clf__C=0.7196856730011519, clf__penalty=l2, clf__solver=lbfgs; total time=   0.2s\n",
      "[CV] END clf__C=0.7196856730011519, clf__penalty=l2, clf__solver=lbfgs; total time=   0.2s\n",
      "[CV] END clf__C=0.7196856730011519, clf__penalty=l2, clf__solver=lbfgs; total time=   0.2s\n",
      "[CV] END clf__C=0.7196856730011519, clf__penalty=l2, clf__solver=lbfgs; total time=   0.2s\n",
      "[CV] END clf__C=0.7196856730011519, clf__penalty=l2, clf__solver=lbfgs; total time=   0.2s\n",
      "[CV] END clf__C=0.7196856730011519, clf__penalty=l2, clf__solver=lbfgs; total time=   0.1s\n",
      "[CV] END clf__C=0.7196856730011519, clf__penalty=l2, clf__solver=lbfgs; total time=   0.2s\n",
      "[CV] END clf__C=0.7196856730011519, clf__penalty=l2, clf__solver=liblinear; total time=   0.1s\n",
      "[CV] END clf__C=0.7196856730011519, clf__penalty=l2, clf__solver=liblinear; total time=   0.1s\n",
      "[CV] END clf__C=0.7196856730011519, clf__penalty=l2, clf__solver=liblinear; total time=   0.1s\n",
      "[CV] END clf__C=0.7196856730011519, clf__penalty=l2, clf__solver=liblinear; total time=   0.1s\n",
      "[CV] END clf__C=0.7196856730011519, clf__penalty=l2, clf__solver=liblinear; total time=   0.1s\n",
      "[CV] END clf__C=0.7196856730011519, clf__penalty=l2, clf__solver=liblinear; total time=   0.1s\n",
      "[CV] END clf__C=0.7196856730011519, clf__penalty=l2, clf__solver=liblinear; total time=   0.1s\n",
      "[CV] END clf__C=0.7196856730011519, clf__penalty=l2, clf__solver=liblinear; total time=   0.1s\n",
      "[CV] END clf__C=0.7196856730011519, clf__penalty=l2, clf__solver=liblinear; total time=   0.1s\n",
      "[CV] END clf__C=0.7196856730011519, clf__penalty=l2, clf__solver=liblinear; total time=   0.1s\n",
      "[CV] END clf__C=0.7196856730011519, clf__penalty=l2, clf__solver=liblinear; total time=   0.1s\n",
      "[CV] END clf__C=0.7196856730011519, clf__penalty=l2, clf__solver=liblinear; total time=   0.1s\n",
      "[CV] END clf__C=0.7196856730011519, clf__penalty=l2, clf__solver=liblinear; total time=   0.1s\n",
      "[CV] END clf__C=0.7196856730011519, clf__penalty=l2, clf__solver=liblinear; total time=   0.1s\n",
      "[CV] END clf__C=0.7196856730011519, clf__penalty=l2, clf__solver=liblinear; total time=   0.1s\n",
      "[CV] END clf__C=0.7196856730011519, clf__penalty=l2, clf__solver=sag; total time=   0.3s\n",
      "[CV] END clf__C=0.7196856730011519, clf__penalty=l2, clf__solver=sag; total time=   0.3s\n",
      "[CV] END clf__C=0.7196856730011519, clf__penalty=l2, clf__solver=sag; total time=   0.2s\n",
      "[CV] END clf__C=0.7196856730011519, clf__penalty=l2, clf__solver=sag; total time=   0.3s\n",
      "[CV] END clf__C=0.7196856730011519, clf__penalty=l2, clf__solver=sag; total time=   0.2s\n",
      "[CV] END clf__C=0.7196856730011519, clf__penalty=l2, clf__solver=sag; total time=   0.3s\n",
      "[CV] END clf__C=0.7196856730011519, clf__penalty=l2, clf__solver=sag; total time=   0.3s\n",
      "[CV] END clf__C=0.7196856730011519, clf__penalty=l2, clf__solver=sag; total time=   0.2s\n",
      "[CV] END clf__C=0.7196856730011519, clf__penalty=l2, clf__solver=sag; total time=   0.3s\n",
      "[CV] END clf__C=0.7196856730011519, clf__penalty=l2, clf__solver=sag; total time=   0.3s\n",
      "[CV] END clf__C=0.7196856730011519, clf__penalty=l2, clf__solver=sag; total time=   0.3s\n",
      "[CV] END clf__C=0.7196856730011519, clf__penalty=l2, clf__solver=sag; total time=   0.3s\n",
      "[CV] END clf__C=0.7196856730011519, clf__penalty=l2, clf__solver=sag; total time=   0.3s\n",
      "[CV] END clf__C=0.7196856730011519, clf__penalty=l2, clf__solver=sag; total time=   0.3s\n"
     ]
    },
    {
     "name": "stdout",
     "output_type": "stream",
     "text": [
      "[CV] END clf__C=0.7196856730011519, clf__penalty=l2, clf__solver=sag; total time=   0.3s\n"
     ]
    },
    {
     "name": "stderr",
     "output_type": "stream",
     "text": [
      "/Users/guy/miniforge3/envs/.venv/lib/python3.9/site-packages/sklearn/linear_model/_logistic.py:1483: UserWarning: Setting penalty='none' will ignore the C and l1_ratio parameters\n",
      "  warnings.warn(\n"
     ]
    },
    {
     "name": "stdout",
     "output_type": "stream",
     "text": [
      "[CV] END clf__C=0.7196856730011519, clf__penalty=none, clf__solver=lbfgs; total time=   0.2s\n"
     ]
    },
    {
     "name": "stderr",
     "output_type": "stream",
     "text": [
      "/Users/guy/miniforge3/envs/.venv/lib/python3.9/site-packages/sklearn/linear_model/_logistic.py:1483: UserWarning: Setting penalty='none' will ignore the C and l1_ratio parameters\n",
      "  warnings.warn(\n"
     ]
    },
    {
     "name": "stdout",
     "output_type": "stream",
     "text": [
      "[CV] END clf__C=0.7196856730011519, clf__penalty=none, clf__solver=lbfgs; total time=   0.3s\n"
     ]
    },
    {
     "name": "stderr",
     "output_type": "stream",
     "text": [
      "/Users/guy/miniforge3/envs/.venv/lib/python3.9/site-packages/sklearn/linear_model/_logistic.py:1483: UserWarning: Setting penalty='none' will ignore the C and l1_ratio parameters\n",
      "  warnings.warn(\n"
     ]
    },
    {
     "name": "stdout",
     "output_type": "stream",
     "text": [
      "[CV] END clf__C=0.7196856730011519, clf__penalty=none, clf__solver=lbfgs; total time=   0.3s\n"
     ]
    },
    {
     "name": "stderr",
     "output_type": "stream",
     "text": [
      "/Users/guy/miniforge3/envs/.venv/lib/python3.9/site-packages/sklearn/linear_model/_logistic.py:1483: UserWarning: Setting penalty='none' will ignore the C and l1_ratio parameters\n",
      "  warnings.warn(\n"
     ]
    },
    {
     "name": "stdout",
     "output_type": "stream",
     "text": [
      "[CV] END clf__C=0.7196856730011519, clf__penalty=none, clf__solver=lbfgs; total time=   0.3s\n"
     ]
    },
    {
     "name": "stderr",
     "output_type": "stream",
     "text": [
      "/Users/guy/miniforge3/envs/.venv/lib/python3.9/site-packages/sklearn/linear_model/_logistic.py:1483: UserWarning: Setting penalty='none' will ignore the C and l1_ratio parameters\n",
      "  warnings.warn(\n"
     ]
    },
    {
     "name": "stdout",
     "output_type": "stream",
     "text": [
      "[CV] END clf__C=0.7196856730011519, clf__penalty=none, clf__solver=lbfgs; total time=   0.3s\n"
     ]
    },
    {
     "name": "stderr",
     "output_type": "stream",
     "text": [
      "/Users/guy/miniforge3/envs/.venv/lib/python3.9/site-packages/sklearn/linear_model/_logistic.py:1483: UserWarning: Setting penalty='none' will ignore the C and l1_ratio parameters\n",
      "  warnings.warn(\n"
     ]
    },
    {
     "name": "stdout",
     "output_type": "stream",
     "text": [
      "[CV] END clf__C=0.7196856730011519, clf__penalty=none, clf__solver=lbfgs; total time=   0.3s\n"
     ]
    },
    {
     "name": "stderr",
     "output_type": "stream",
     "text": [
      "/Users/guy/miniforge3/envs/.venv/lib/python3.9/site-packages/sklearn/linear_model/_logistic.py:1483: UserWarning: Setting penalty='none' will ignore the C and l1_ratio parameters\n",
      "  warnings.warn(\n"
     ]
    },
    {
     "name": "stdout",
     "output_type": "stream",
     "text": [
      "[CV] END clf__C=0.7196856730011519, clf__penalty=none, clf__solver=lbfgs; total time=   0.2s\n"
     ]
    },
    {
     "name": "stderr",
     "output_type": "stream",
     "text": [
      "/Users/guy/miniforge3/envs/.venv/lib/python3.9/site-packages/sklearn/linear_model/_logistic.py:1483: UserWarning: Setting penalty='none' will ignore the C and l1_ratio parameters\n",
      "  warnings.warn(\n"
     ]
    },
    {
     "name": "stdout",
     "output_type": "stream",
     "text": [
      "[CV] END clf__C=0.7196856730011519, clf__penalty=none, clf__solver=lbfgs; total time=   0.3s\n"
     ]
    },
    {
     "name": "stderr",
     "output_type": "stream",
     "text": [
      "/Users/guy/miniforge3/envs/.venv/lib/python3.9/site-packages/sklearn/linear_model/_logistic.py:1483: UserWarning: Setting penalty='none' will ignore the C and l1_ratio parameters\n",
      "  warnings.warn(\n"
     ]
    },
    {
     "name": "stdout",
     "output_type": "stream",
     "text": [
      "[CV] END clf__C=0.7196856730011519, clf__penalty=none, clf__solver=lbfgs; total time=   0.3s\n"
     ]
    },
    {
     "name": "stderr",
     "output_type": "stream",
     "text": [
      "/Users/guy/miniforge3/envs/.venv/lib/python3.9/site-packages/sklearn/linear_model/_logistic.py:1483: UserWarning: Setting penalty='none' will ignore the C and l1_ratio parameters\n",
      "  warnings.warn(\n"
     ]
    },
    {
     "name": "stdout",
     "output_type": "stream",
     "text": [
      "[CV] END clf__C=0.7196856730011519, clf__penalty=none, clf__solver=lbfgs; total time=   0.3s\n"
     ]
    },
    {
     "name": "stderr",
     "output_type": "stream",
     "text": [
      "/Users/guy/miniforge3/envs/.venv/lib/python3.9/site-packages/sklearn/linear_model/_logistic.py:1483: UserWarning: Setting penalty='none' will ignore the C and l1_ratio parameters\n",
      "  warnings.warn(\n"
     ]
    },
    {
     "name": "stdout",
     "output_type": "stream",
     "text": [
      "[CV] END clf__C=0.7196856730011519, clf__penalty=none, clf__solver=lbfgs; total time=   0.3s\n"
     ]
    },
    {
     "name": "stderr",
     "output_type": "stream",
     "text": [
      "/Users/guy/miniforge3/envs/.venv/lib/python3.9/site-packages/sklearn/linear_model/_logistic.py:1483: UserWarning: Setting penalty='none' will ignore the C and l1_ratio parameters\n",
      "  warnings.warn(\n"
     ]
    },
    {
     "name": "stdout",
     "output_type": "stream",
     "text": [
      "[CV] END clf__C=0.7196856730011519, clf__penalty=none, clf__solver=lbfgs; total time=   0.3s\n"
     ]
    },
    {
     "name": "stderr",
     "output_type": "stream",
     "text": [
      "/Users/guy/miniforge3/envs/.venv/lib/python3.9/site-packages/sklearn/linear_model/_logistic.py:1483: UserWarning: Setting penalty='none' will ignore the C and l1_ratio parameters\n",
      "  warnings.warn(\n"
     ]
    },
    {
     "name": "stdout",
     "output_type": "stream",
     "text": [
      "[CV] END clf__C=0.7196856730011519, clf__penalty=none, clf__solver=lbfgs; total time=   0.3s\n"
     ]
    },
    {
     "name": "stderr",
     "output_type": "stream",
     "text": [
      "/Users/guy/miniforge3/envs/.venv/lib/python3.9/site-packages/sklearn/linear_model/_logistic.py:1483: UserWarning: Setting penalty='none' will ignore the C and l1_ratio parameters\n",
      "  warnings.warn(\n"
     ]
    },
    {
     "name": "stdout",
     "output_type": "stream",
     "text": [
      "[CV] END clf__C=0.7196856730011519, clf__penalty=none, clf__solver=lbfgs; total time=   0.3s\n"
     ]
    },
    {
     "name": "stderr",
     "output_type": "stream",
     "text": [
      "/Users/guy/miniforge3/envs/.venv/lib/python3.9/site-packages/sklearn/linear_model/_logistic.py:1483: UserWarning: Setting penalty='none' will ignore the C and l1_ratio parameters\n",
      "  warnings.warn(\n"
     ]
    },
    {
     "name": "stdout",
     "output_type": "stream",
     "text": [
      "[CV] END clf__C=0.7196856730011519, clf__penalty=none, clf__solver=lbfgs; total time=   0.2s\n",
      "[CV] END clf__C=0.7196856730011519, clf__penalty=none, clf__solver=liblinear; total time=   0.0s\n",
      "[CV] END clf__C=0.7196856730011519, clf__penalty=none, clf__solver=liblinear; total time=   0.0s\n",
      "[CV] END clf__C=0.7196856730011519, clf__penalty=none, clf__solver=liblinear; total time=   0.0s\n",
      "[CV] END clf__C=0.7196856730011519, clf__penalty=none, clf__solver=liblinear; total time=   0.0s\n",
      "[CV] END clf__C=0.7196856730011519, clf__penalty=none, clf__solver=liblinear; total time=   0.0s\n",
      "[CV] END clf__C=0.7196856730011519, clf__penalty=none, clf__solver=liblinear; total time=   0.0s\n",
      "[CV] END clf__C=0.7196856730011519, clf__penalty=none, clf__solver=liblinear; total time=   0.0s\n",
      "[CV] END clf__C=0.7196856730011519, clf__penalty=none, clf__solver=liblinear; total time=   0.0s\n",
      "[CV] END clf__C=0.7196856730011519, clf__penalty=none, clf__solver=liblinear; total time=   0.0s\n",
      "[CV] END clf__C=0.7196856730011519, clf__penalty=none, clf__solver=liblinear; total time=   0.0s\n",
      "[CV] END clf__C=0.7196856730011519, clf__penalty=none, clf__solver=liblinear; total time=   0.0s\n",
      "[CV] END clf__C=0.7196856730011519, clf__penalty=none, clf__solver=liblinear; total time=   0.0s\n",
      "[CV] END clf__C=0.7196856730011519, clf__penalty=none, clf__solver=liblinear; total time=   0.0s\n",
      "[CV] END clf__C=0.7196856730011519, clf__penalty=none, clf__solver=liblinear; total time=   0.0s\n",
      "[CV] END clf__C=0.7196856730011519, clf__penalty=none, clf__solver=liblinear; total time=   0.0s\n"
     ]
    },
    {
     "name": "stderr",
     "output_type": "stream",
     "text": [
      "/Users/guy/miniforge3/envs/.venv/lib/python3.9/site-packages/sklearn/linear_model/_logistic.py:1483: UserWarning: Setting penalty='none' will ignore the C and l1_ratio parameters\n",
      "  warnings.warn(\n"
     ]
    },
    {
     "name": "stdout",
     "output_type": "stream",
     "text": [
      "[CV] END clf__C=0.7196856730011519, clf__penalty=none, clf__solver=sag; total time=   0.7s\n"
     ]
    },
    {
     "name": "stderr",
     "output_type": "stream",
     "text": [
      "/Users/guy/miniforge3/envs/.venv/lib/python3.9/site-packages/sklearn/linear_model/_logistic.py:1483: UserWarning: Setting penalty='none' will ignore the C and l1_ratio parameters\n",
      "  warnings.warn(\n"
     ]
    },
    {
     "name": "stdout",
     "output_type": "stream",
     "text": [
      "[CV] END clf__C=0.7196856730011519, clf__penalty=none, clf__solver=sag; total time=   1.2s\n"
     ]
    },
    {
     "name": "stderr",
     "output_type": "stream",
     "text": [
      "/Users/guy/miniforge3/envs/.venv/lib/python3.9/site-packages/sklearn/linear_model/_logistic.py:1483: UserWarning: Setting penalty='none' will ignore the C and l1_ratio parameters\n",
      "  warnings.warn(\n"
     ]
    },
    {
     "name": "stdout",
     "output_type": "stream",
     "text": [
      "[CV] END clf__C=0.7196856730011519, clf__penalty=none, clf__solver=sag; total time=   1.2s\n"
     ]
    },
    {
     "name": "stderr",
     "output_type": "stream",
     "text": [
      "/Users/guy/miniforge3/envs/.venv/lib/python3.9/site-packages/sklearn/linear_model/_logistic.py:1483: UserWarning: Setting penalty='none' will ignore the C and l1_ratio parameters\n",
      "  warnings.warn(\n"
     ]
    },
    {
     "name": "stdout",
     "output_type": "stream",
     "text": [
      "[CV] END clf__C=0.7196856730011519, clf__penalty=none, clf__solver=sag; total time=   1.1s\n"
     ]
    },
    {
     "name": "stderr",
     "output_type": "stream",
     "text": [
      "/Users/guy/miniforge3/envs/.venv/lib/python3.9/site-packages/sklearn/linear_model/_logistic.py:1483: UserWarning: Setting penalty='none' will ignore the C and l1_ratio parameters\n",
      "  warnings.warn(\n"
     ]
    },
    {
     "name": "stdout",
     "output_type": "stream",
     "text": [
      "[CV] END clf__C=0.7196856730011519, clf__penalty=none, clf__solver=sag; total time=   1.1s\n"
     ]
    },
    {
     "name": "stderr",
     "output_type": "stream",
     "text": [
      "/Users/guy/miniforge3/envs/.venv/lib/python3.9/site-packages/sklearn/linear_model/_logistic.py:1483: UserWarning: Setting penalty='none' will ignore the C and l1_ratio parameters\n",
      "  warnings.warn(\n"
     ]
    },
    {
     "name": "stdout",
     "output_type": "stream",
     "text": [
      "[CV] END clf__C=0.7196856730011519, clf__penalty=none, clf__solver=sag; total time=   1.2s\n"
     ]
    },
    {
     "name": "stderr",
     "output_type": "stream",
     "text": [
      "/Users/guy/miniforge3/envs/.venv/lib/python3.9/site-packages/sklearn/linear_model/_logistic.py:1483: UserWarning: Setting penalty='none' will ignore the C and l1_ratio parameters\n",
      "  warnings.warn(\n"
     ]
    },
    {
     "name": "stdout",
     "output_type": "stream",
     "text": [
      "[CV] END clf__C=0.7196856730011519, clf__penalty=none, clf__solver=sag; total time=   0.8s\n"
     ]
    },
    {
     "name": "stderr",
     "output_type": "stream",
     "text": [
      "/Users/guy/miniforge3/envs/.venv/lib/python3.9/site-packages/sklearn/linear_model/_logistic.py:1483: UserWarning: Setting penalty='none' will ignore the C and l1_ratio parameters\n",
      "  warnings.warn(\n"
     ]
    },
    {
     "name": "stdout",
     "output_type": "stream",
     "text": [
      "[CV] END clf__C=0.7196856730011519, clf__penalty=none, clf__solver=sag; total time=   1.2s\n"
     ]
    },
    {
     "name": "stderr",
     "output_type": "stream",
     "text": [
      "/Users/guy/miniforge3/envs/.venv/lib/python3.9/site-packages/sklearn/linear_model/_logistic.py:1483: UserWarning: Setting penalty='none' will ignore the C and l1_ratio parameters\n",
      "  warnings.warn(\n"
     ]
    },
    {
     "name": "stdout",
     "output_type": "stream",
     "text": [
      "[CV] END clf__C=0.7196856730011519, clf__penalty=none, clf__solver=sag; total time=   1.3s\n"
     ]
    },
    {
     "name": "stderr",
     "output_type": "stream",
     "text": [
      "/Users/guy/miniforge3/envs/.venv/lib/python3.9/site-packages/sklearn/linear_model/_logistic.py:1483: UserWarning: Setting penalty='none' will ignore the C and l1_ratio parameters\n",
      "  warnings.warn(\n"
     ]
    },
    {
     "name": "stdout",
     "output_type": "stream",
     "text": [
      "[CV] END clf__C=0.7196856730011519, clf__penalty=none, clf__solver=sag; total time=   1.0s\n"
     ]
    },
    {
     "name": "stderr",
     "output_type": "stream",
     "text": [
      "/Users/guy/miniforge3/envs/.venv/lib/python3.9/site-packages/sklearn/linear_model/_logistic.py:1483: UserWarning: Setting penalty='none' will ignore the C and l1_ratio parameters\n",
      "  warnings.warn(\n"
     ]
    },
    {
     "name": "stdout",
     "output_type": "stream",
     "text": [
      "[CV] END clf__C=0.7196856730011519, clf__penalty=none, clf__solver=sag; total time=   1.1s\n"
     ]
    },
    {
     "name": "stderr",
     "output_type": "stream",
     "text": [
      "/Users/guy/miniforge3/envs/.venv/lib/python3.9/site-packages/sklearn/linear_model/_logistic.py:1483: UserWarning: Setting penalty='none' will ignore the C and l1_ratio parameters\n",
      "  warnings.warn(\n"
     ]
    },
    {
     "name": "stdout",
     "output_type": "stream",
     "text": [
      "[CV] END clf__C=0.7196856730011519, clf__penalty=none, clf__solver=sag; total time=   1.2s\n"
     ]
    },
    {
     "name": "stderr",
     "output_type": "stream",
     "text": [
      "/Users/guy/miniforge3/envs/.venv/lib/python3.9/site-packages/sklearn/linear_model/_logistic.py:1483: UserWarning: Setting penalty='none' will ignore the C and l1_ratio parameters\n",
      "  warnings.warn(\n"
     ]
    },
    {
     "name": "stdout",
     "output_type": "stream",
     "text": [
      "[CV] END clf__C=0.7196856730011519, clf__penalty=none, clf__solver=sag; total time=   1.1s\n"
     ]
    },
    {
     "name": "stderr",
     "output_type": "stream",
     "text": [
      "/Users/guy/miniforge3/envs/.venv/lib/python3.9/site-packages/sklearn/linear_model/_logistic.py:1483: UserWarning: Setting penalty='none' will ignore the C and l1_ratio parameters\n",
      "  warnings.warn(\n"
     ]
    },
    {
     "name": "stdout",
     "output_type": "stream",
     "text": [
      "[CV] END clf__C=0.7196856730011519, clf__penalty=none, clf__solver=sag; total time=   1.2s\n"
     ]
    },
    {
     "name": "stderr",
     "output_type": "stream",
     "text": [
      "/Users/guy/miniforge3/envs/.venv/lib/python3.9/site-packages/sklearn/linear_model/_logistic.py:1483: UserWarning: Setting penalty='none' will ignore the C and l1_ratio parameters\n",
      "  warnings.warn(\n"
     ]
    },
    {
     "name": "stdout",
     "output_type": "stream",
     "text": [
      "[CV] END clf__C=0.7196856730011519, clf__penalty=none, clf__solver=sag; total time=   0.7s\n",
      "[CV] END clf__C=0.8483428982440719, clf__penalty=l1, clf__solver=lbfgs; total time=   0.0s\n",
      "[CV] END clf__C=0.8483428982440719, clf__penalty=l1, clf__solver=lbfgs; total time=   0.0s\n",
      "[CV] END clf__C=0.8483428982440719, clf__penalty=l1, clf__solver=lbfgs; total time=   0.0s\n",
      "[CV] END clf__C=0.8483428982440719, clf__penalty=l1, clf__solver=lbfgs; total time=   0.0s\n",
      "[CV] END clf__C=0.8483428982440719, clf__penalty=l1, clf__solver=lbfgs; total time=   0.0s\n",
      "[CV] END clf__C=0.8483428982440719, clf__penalty=l1, clf__solver=lbfgs; total time=   0.0s\n",
      "[CV] END clf__C=0.8483428982440719, clf__penalty=l1, clf__solver=lbfgs; total time=   0.0s\n",
      "[CV] END clf__C=0.8483428982440719, clf__penalty=l1, clf__solver=lbfgs; total time=   0.0s\n",
      "[CV] END clf__C=0.8483428982440719, clf__penalty=l1, clf__solver=lbfgs; total time=   0.0s\n",
      "[CV] END clf__C=0.8483428982440719, clf__penalty=l1, clf__solver=lbfgs; total time=   0.0s\n",
      "[CV] END clf__C=0.8483428982440719, clf__penalty=l1, clf__solver=lbfgs; total time=   0.0s\n",
      "[CV] END clf__C=0.8483428982440719, clf__penalty=l1, clf__solver=lbfgs; total time=   0.0s\n",
      "[CV] END clf__C=0.8483428982440719, clf__penalty=l1, clf__solver=lbfgs; total time=   0.0s\n",
      "[CV] END clf__C=0.8483428982440719, clf__penalty=l1, clf__solver=lbfgs; total time=   0.0s\n",
      "[CV] END clf__C=0.8483428982440719, clf__penalty=l1, clf__solver=lbfgs; total time=   0.0s\n",
      "[CV] END clf__C=0.8483428982440719, clf__penalty=l1, clf__solver=liblinear; total time=   0.8s\n",
      "[CV] END clf__C=0.8483428982440719, clf__penalty=l1, clf__solver=liblinear; total time=   0.6s\n",
      "[CV] END clf__C=0.8483428982440719, clf__penalty=l1, clf__solver=liblinear; total time=   0.6s\n",
      "[CV] END clf__C=0.8483428982440719, clf__penalty=l1, clf__solver=liblinear; total time=   0.7s\n",
      "[CV] END clf__C=0.8483428982440719, clf__penalty=l1, clf__solver=liblinear; total time=   0.5s\n",
      "[CV] END clf__C=0.8483428982440719, clf__penalty=l1, clf__solver=liblinear; total time=   0.7s\n",
      "[CV] END clf__C=0.8483428982440719, clf__penalty=l1, clf__solver=liblinear; total time=   0.6s\n",
      "[CV] END clf__C=0.8483428982440719, clf__penalty=l1, clf__solver=liblinear; total time=   0.6s\n",
      "[CV] END clf__C=0.8483428982440719, clf__penalty=l1, clf__solver=liblinear; total time=   0.6s\n",
      "[CV] END clf__C=0.8483428982440719, clf__penalty=l1, clf__solver=liblinear; total time=   0.5s\n",
      "[CV] END clf__C=0.8483428982440719, clf__penalty=l1, clf__solver=liblinear; total time=   0.8s\n",
      "[CV] END clf__C=0.8483428982440719, clf__penalty=l1, clf__solver=liblinear; total time=   0.5s\n",
      "[CV] END clf__C=0.8483428982440719, clf__penalty=l1, clf__solver=liblinear; total time=   0.5s\n",
      "[CV] END clf__C=0.8483428982440719, clf__penalty=l1, clf__solver=liblinear; total time=   0.6s\n",
      "[CV] END clf__C=0.8483428982440719, clf__penalty=l1, clf__solver=liblinear; total time=   0.6s\n",
      "[CV] END clf__C=0.8483428982440719, clf__penalty=l1, clf__solver=sag; total time=   0.0s\n",
      "[CV] END clf__C=0.8483428982440719, clf__penalty=l1, clf__solver=sag; total time=   0.0s\n",
      "[CV] END clf__C=0.8483428982440719, clf__penalty=l1, clf__solver=sag; total time=   0.0s\n",
      "[CV] END clf__C=0.8483428982440719, clf__penalty=l1, clf__solver=sag; total time=   0.0s\n",
      "[CV] END clf__C=0.8483428982440719, clf__penalty=l1, clf__solver=sag; total time=   0.0s\n",
      "[CV] END clf__C=0.8483428982440719, clf__penalty=l1, clf__solver=sag; total time=   0.0s\n",
      "[CV] END clf__C=0.8483428982440719, clf__penalty=l1, clf__solver=sag; total time=   0.0s\n",
      "[CV] END clf__C=0.8483428982440719, clf__penalty=l1, clf__solver=sag; total time=   0.0s\n",
      "[CV] END clf__C=0.8483428982440719, clf__penalty=l1, clf__solver=sag; total time=   0.0s\n",
      "[CV] END clf__C=0.8483428982440719, clf__penalty=l1, clf__solver=sag; total time=   0.0s\n",
      "[CV] END clf__C=0.8483428982440719, clf__penalty=l1, clf__solver=sag; total time=   0.0s\n",
      "[CV] END clf__C=0.8483428982440719, clf__penalty=l1, clf__solver=sag; total time=   0.0s\n",
      "[CV] END clf__C=0.8483428982440719, clf__penalty=l1, clf__solver=sag; total time=   0.0s\n",
      "[CV] END clf__C=0.8483428982440719, clf__penalty=l1, clf__solver=sag; total time=   0.0s\n",
      "[CV] END clf__C=0.8483428982440719, clf__penalty=l1, clf__solver=sag; total time=   0.0s\n",
      "[CV] END clf__C=0.8483428982440719, clf__penalty=l2, clf__solver=lbfgs; total time=   0.2s\n",
      "[CV] END clf__C=0.8483428982440719, clf__penalty=l2, clf__solver=lbfgs; total time=   0.2s\n",
      "[CV] END clf__C=0.8483428982440719, clf__penalty=l2, clf__solver=lbfgs; total time=   0.1s\n",
      "[CV] END clf__C=0.8483428982440719, clf__penalty=l2, clf__solver=lbfgs; total time=   0.2s\n",
      "[CV] END clf__C=0.8483428982440719, clf__penalty=l2, clf__solver=lbfgs; total time=   0.2s\n",
      "[CV] END clf__C=0.8483428982440719, clf__penalty=l2, clf__solver=lbfgs; total time=   0.2s\n",
      "[CV] END clf__C=0.8483428982440719, clf__penalty=l2, clf__solver=lbfgs; total time=   0.2s\n",
      "[CV] END clf__C=0.8483428982440719, clf__penalty=l2, clf__solver=lbfgs; total time=   0.2s\n",
      "[CV] END clf__C=0.8483428982440719, clf__penalty=l2, clf__solver=lbfgs; total time=   0.2s\n",
      "[CV] END clf__C=0.8483428982440719, clf__penalty=l2, clf__solver=lbfgs; total time=   0.2s\n",
      "[CV] END clf__C=0.8483428982440719, clf__penalty=l2, clf__solver=lbfgs; total time=   0.2s\n",
      "[CV] END clf__C=0.8483428982440719, clf__penalty=l2, clf__solver=lbfgs; total time=   0.2s\n",
      "[CV] END clf__C=0.8483428982440719, clf__penalty=l2, clf__solver=lbfgs; total time=   0.2s\n",
      "[CV] END clf__C=0.8483428982440719, clf__penalty=l2, clf__solver=lbfgs; total time=   0.2s\n",
      "[CV] END clf__C=0.8483428982440719, clf__penalty=l2, clf__solver=lbfgs; total time=   0.1s\n",
      "[CV] END clf__C=0.8483428982440719, clf__penalty=l2, clf__solver=liblinear; total time=   0.1s\n",
      "[CV] END clf__C=0.8483428982440719, clf__penalty=l2, clf__solver=liblinear; total time=   0.1s\n",
      "[CV] END clf__C=0.8483428982440719, clf__penalty=l2, clf__solver=liblinear; total time=   0.1s\n",
      "[CV] END clf__C=0.8483428982440719, clf__penalty=l2, clf__solver=liblinear; total time=   0.1s\n",
      "[CV] END clf__C=0.8483428982440719, clf__penalty=l2, clf__solver=liblinear; total time=   0.1s\n",
      "[CV] END clf__C=0.8483428982440719, clf__penalty=l2, clf__solver=liblinear; total time=   0.1s\n",
      "[CV] END clf__C=0.8483428982440719, clf__penalty=l2, clf__solver=liblinear; total time=   0.1s\n",
      "[CV] END clf__C=0.8483428982440719, clf__penalty=l2, clf__solver=liblinear; total time=   0.1s\n",
      "[CV] END clf__C=0.8483428982440719, clf__penalty=l2, clf__solver=liblinear; total time=   0.1s\n",
      "[CV] END clf__C=0.8483428982440719, clf__penalty=l2, clf__solver=liblinear; total time=   0.1s\n",
      "[CV] END clf__C=0.8483428982440719, clf__penalty=l2, clf__solver=liblinear; total time=   0.1s\n",
      "[CV] END clf__C=0.8483428982440719, clf__penalty=l2, clf__solver=liblinear; total time=   0.1s\n",
      "[CV] END clf__C=0.8483428982440719, clf__penalty=l2, clf__solver=liblinear; total time=   0.1s\n",
      "[CV] END clf__C=0.8483428982440719, clf__penalty=l2, clf__solver=liblinear; total time=   0.1s\n",
      "[CV] END clf__C=0.8483428982440719, clf__penalty=l2, clf__solver=liblinear; total time=   0.1s\n",
      "[CV] END clf__C=0.8483428982440719, clf__penalty=l2, clf__solver=sag; total time=   0.3s\n",
      "[CV] END clf__C=0.8483428982440719, clf__penalty=l2, clf__solver=sag; total time=   0.3s\n",
      "[CV] END clf__C=0.8483428982440719, clf__penalty=l2, clf__solver=sag; total time=   0.2s\n",
      "[CV] END clf__C=0.8483428982440719, clf__penalty=l2, clf__solver=sag; total time=   0.3s\n",
      "[CV] END clf__C=0.8483428982440719, clf__penalty=l2, clf__solver=sag; total time=   0.3s\n",
      "[CV] END clf__C=0.8483428982440719, clf__penalty=l2, clf__solver=sag; total time=   0.3s\n",
      "[CV] END clf__C=0.8483428982440719, clf__penalty=l2, clf__solver=sag; total time=   0.3s\n",
      "[CV] END clf__C=0.8483428982440719, clf__penalty=l2, clf__solver=sag; total time=   0.3s\n",
      "[CV] END clf__C=0.8483428982440719, clf__penalty=l2, clf__solver=sag; total time=   0.3s\n",
      "[CV] END clf__C=0.8483428982440719, clf__penalty=l2, clf__solver=sag; total time=   0.3s\n",
      "[CV] END clf__C=0.8483428982440719, clf__penalty=l2, clf__solver=sag; total time=   0.3s\n",
      "[CV] END clf__C=0.8483428982440719, clf__penalty=l2, clf__solver=sag; total time=   0.3s\n",
      "[CV] END clf__C=0.8483428982440719, clf__penalty=l2, clf__solver=sag; total time=   0.3s\n",
      "[CV] END clf__C=0.8483428982440719, clf__penalty=l2, clf__solver=sag; total time=   0.3s\n"
     ]
    },
    {
     "name": "stdout",
     "output_type": "stream",
     "text": [
      "[CV] END clf__C=0.8483428982440719, clf__penalty=l2, clf__solver=sag; total time=   0.3s\n"
     ]
    },
    {
     "name": "stderr",
     "output_type": "stream",
     "text": [
      "/Users/guy/miniforge3/envs/.venv/lib/python3.9/site-packages/sklearn/linear_model/_logistic.py:1483: UserWarning: Setting penalty='none' will ignore the C and l1_ratio parameters\n",
      "  warnings.warn(\n"
     ]
    },
    {
     "name": "stdout",
     "output_type": "stream",
     "text": [
      "[CV] END clf__C=0.8483428982440719, clf__penalty=none, clf__solver=lbfgs; total time=   0.3s\n"
     ]
    },
    {
     "name": "stderr",
     "output_type": "stream",
     "text": [
      "/Users/guy/miniforge3/envs/.venv/lib/python3.9/site-packages/sklearn/linear_model/_logistic.py:1483: UserWarning: Setting penalty='none' will ignore the C and l1_ratio parameters\n",
      "  warnings.warn(\n"
     ]
    },
    {
     "name": "stdout",
     "output_type": "stream",
     "text": [
      "[CV] END clf__C=0.8483428982440719, clf__penalty=none, clf__solver=lbfgs; total time=   0.4s\n"
     ]
    },
    {
     "name": "stderr",
     "output_type": "stream",
     "text": [
      "/Users/guy/miniforge3/envs/.venv/lib/python3.9/site-packages/sklearn/linear_model/_logistic.py:1483: UserWarning: Setting penalty='none' will ignore the C and l1_ratio parameters\n",
      "  warnings.warn(\n"
     ]
    },
    {
     "name": "stdout",
     "output_type": "stream",
     "text": [
      "[CV] END clf__C=0.8483428982440719, clf__penalty=none, clf__solver=lbfgs; total time=   0.4s\n"
     ]
    },
    {
     "name": "stderr",
     "output_type": "stream",
     "text": [
      "/Users/guy/miniforge3/envs/.venv/lib/python3.9/site-packages/sklearn/linear_model/_logistic.py:1483: UserWarning: Setting penalty='none' will ignore the C and l1_ratio parameters\n",
      "  warnings.warn(\n"
     ]
    },
    {
     "name": "stdout",
     "output_type": "stream",
     "text": [
      "[CV] END clf__C=0.8483428982440719, clf__penalty=none, clf__solver=lbfgs; total time=   0.4s\n"
     ]
    },
    {
     "name": "stderr",
     "output_type": "stream",
     "text": [
      "/Users/guy/miniforge3/envs/.venv/lib/python3.9/site-packages/sklearn/linear_model/_logistic.py:1483: UserWarning: Setting penalty='none' will ignore the C and l1_ratio parameters\n",
      "  warnings.warn(\n"
     ]
    },
    {
     "name": "stdout",
     "output_type": "stream",
     "text": [
      "[CV] END clf__C=0.8483428982440719, clf__penalty=none, clf__solver=lbfgs; total time=   0.4s\n"
     ]
    },
    {
     "name": "stderr",
     "output_type": "stream",
     "text": [
      "/Users/guy/miniforge3/envs/.venv/lib/python3.9/site-packages/sklearn/linear_model/_logistic.py:1483: UserWarning: Setting penalty='none' will ignore the C and l1_ratio parameters\n",
      "  warnings.warn(\n"
     ]
    },
    {
     "name": "stdout",
     "output_type": "stream",
     "text": [
      "[CV] END clf__C=0.8483428982440719, clf__penalty=none, clf__solver=lbfgs; total time=   0.4s\n"
     ]
    },
    {
     "name": "stderr",
     "output_type": "stream",
     "text": [
      "/Users/guy/miniforge3/envs/.venv/lib/python3.9/site-packages/sklearn/linear_model/_logistic.py:1483: UserWarning: Setting penalty='none' will ignore the C and l1_ratio parameters\n",
      "  warnings.warn(\n"
     ]
    },
    {
     "name": "stdout",
     "output_type": "stream",
     "text": [
      "[CV] END clf__C=0.8483428982440719, clf__penalty=none, clf__solver=lbfgs; total time=   0.2s\n"
     ]
    },
    {
     "name": "stderr",
     "output_type": "stream",
     "text": [
      "/Users/guy/miniforge3/envs/.venv/lib/python3.9/site-packages/sklearn/linear_model/_logistic.py:1483: UserWarning: Setting penalty='none' will ignore the C and l1_ratio parameters\n",
      "  warnings.warn(\n"
     ]
    },
    {
     "name": "stdout",
     "output_type": "stream",
     "text": [
      "[CV] END clf__C=0.8483428982440719, clf__penalty=none, clf__solver=lbfgs; total time=   0.3s\n"
     ]
    },
    {
     "name": "stderr",
     "output_type": "stream",
     "text": [
      "/Users/guy/miniforge3/envs/.venv/lib/python3.9/site-packages/sklearn/linear_model/_logistic.py:1483: UserWarning: Setting penalty='none' will ignore the C and l1_ratio parameters\n",
      "  warnings.warn(\n"
     ]
    },
    {
     "name": "stdout",
     "output_type": "stream",
     "text": [
      "[CV] END clf__C=0.8483428982440719, clf__penalty=none, clf__solver=lbfgs; total time=   0.3s\n"
     ]
    },
    {
     "name": "stderr",
     "output_type": "stream",
     "text": [
      "/Users/guy/miniforge3/envs/.venv/lib/python3.9/site-packages/sklearn/linear_model/_logistic.py:1483: UserWarning: Setting penalty='none' will ignore the C and l1_ratio parameters\n",
      "  warnings.warn(\n"
     ]
    },
    {
     "name": "stdout",
     "output_type": "stream",
     "text": [
      "[CV] END clf__C=0.8483428982440719, clf__penalty=none, clf__solver=lbfgs; total time=   0.3s\n"
     ]
    },
    {
     "name": "stderr",
     "output_type": "stream",
     "text": [
      "/Users/guy/miniforge3/envs/.venv/lib/python3.9/site-packages/sklearn/linear_model/_logistic.py:1483: UserWarning: Setting penalty='none' will ignore the C and l1_ratio parameters\n",
      "  warnings.warn(\n"
     ]
    },
    {
     "name": "stdout",
     "output_type": "stream",
     "text": [
      "[CV] END clf__C=0.8483428982440719, clf__penalty=none, clf__solver=lbfgs; total time=   0.3s\n"
     ]
    },
    {
     "name": "stderr",
     "output_type": "stream",
     "text": [
      "/Users/guy/miniforge3/envs/.venv/lib/python3.9/site-packages/sklearn/linear_model/_logistic.py:1483: UserWarning: Setting penalty='none' will ignore the C and l1_ratio parameters\n",
      "  warnings.warn(\n"
     ]
    },
    {
     "name": "stdout",
     "output_type": "stream",
     "text": [
      "[CV] END clf__C=0.8483428982440719, clf__penalty=none, clf__solver=lbfgs; total time=   0.3s\n"
     ]
    },
    {
     "name": "stderr",
     "output_type": "stream",
     "text": [
      "/Users/guy/miniforge3/envs/.venv/lib/python3.9/site-packages/sklearn/linear_model/_logistic.py:1483: UserWarning: Setting penalty='none' will ignore the C and l1_ratio parameters\n",
      "  warnings.warn(\n"
     ]
    },
    {
     "name": "stdout",
     "output_type": "stream",
     "text": [
      "[CV] END clf__C=0.8483428982440719, clf__penalty=none, clf__solver=lbfgs; total time=   0.3s\n"
     ]
    },
    {
     "name": "stderr",
     "output_type": "stream",
     "text": [
      "/Users/guy/miniforge3/envs/.venv/lib/python3.9/site-packages/sklearn/linear_model/_logistic.py:1483: UserWarning: Setting penalty='none' will ignore the C and l1_ratio parameters\n",
      "  warnings.warn(\n"
     ]
    },
    {
     "name": "stdout",
     "output_type": "stream",
     "text": [
      "[CV] END clf__C=0.8483428982440719, clf__penalty=none, clf__solver=lbfgs; total time=   0.3s\n"
     ]
    },
    {
     "name": "stderr",
     "output_type": "stream",
     "text": [
      "/Users/guy/miniforge3/envs/.venv/lib/python3.9/site-packages/sklearn/linear_model/_logistic.py:1483: UserWarning: Setting penalty='none' will ignore the C and l1_ratio parameters\n",
      "  warnings.warn(\n"
     ]
    },
    {
     "name": "stdout",
     "output_type": "stream",
     "text": [
      "[CV] END clf__C=0.8483428982440719, clf__penalty=none, clf__solver=lbfgs; total time=   0.2s\n",
      "[CV] END clf__C=0.8483428982440719, clf__penalty=none, clf__solver=liblinear; total time=   0.0s\n",
      "[CV] END clf__C=0.8483428982440719, clf__penalty=none, clf__solver=liblinear; total time=   0.0s\n",
      "[CV] END clf__C=0.8483428982440719, clf__penalty=none, clf__solver=liblinear; total time=   0.0s\n",
      "[CV] END clf__C=0.8483428982440719, clf__penalty=none, clf__solver=liblinear; total time=   0.0s\n",
      "[CV] END clf__C=0.8483428982440719, clf__penalty=none, clf__solver=liblinear; total time=   0.0s\n",
      "[CV] END clf__C=0.8483428982440719, clf__penalty=none, clf__solver=liblinear; total time=   0.0s\n",
      "[CV] END clf__C=0.8483428982440719, clf__penalty=none, clf__solver=liblinear; total time=   0.0s\n",
      "[CV] END clf__C=0.8483428982440719, clf__penalty=none, clf__solver=liblinear; total time=   0.0s\n",
      "[CV] END clf__C=0.8483428982440719, clf__penalty=none, clf__solver=liblinear; total time=   0.0s\n",
      "[CV] END clf__C=0.8483428982440719, clf__penalty=none, clf__solver=liblinear; total time=   0.0s\n",
      "[CV] END clf__C=0.8483428982440719, clf__penalty=none, clf__solver=liblinear; total time=   0.0s\n",
      "[CV] END clf__C=0.8483428982440719, clf__penalty=none, clf__solver=liblinear; total time=   0.0s\n",
      "[CV] END clf__C=0.8483428982440719, clf__penalty=none, clf__solver=liblinear; total time=   0.0s\n",
      "[CV] END clf__C=0.8483428982440719, clf__penalty=none, clf__solver=liblinear; total time=   0.0s\n",
      "[CV] END clf__C=0.8483428982440719, clf__penalty=none, clf__solver=liblinear; total time=   0.0s\n"
     ]
    },
    {
     "name": "stderr",
     "output_type": "stream",
     "text": [
      "/Users/guy/miniforge3/envs/.venv/lib/python3.9/site-packages/sklearn/linear_model/_logistic.py:1483: UserWarning: Setting penalty='none' will ignore the C and l1_ratio parameters\n",
      "  warnings.warn(\n"
     ]
    },
    {
     "name": "stdout",
     "output_type": "stream",
     "text": [
      "[CV] END clf__C=0.8483428982440719, clf__penalty=none, clf__solver=sag; total time=   0.7s\n"
     ]
    },
    {
     "name": "stderr",
     "output_type": "stream",
     "text": [
      "/Users/guy/miniforge3/envs/.venv/lib/python3.9/site-packages/sklearn/linear_model/_logistic.py:1483: UserWarning: Setting penalty='none' will ignore the C and l1_ratio parameters\n",
      "  warnings.warn(\n"
     ]
    },
    {
     "name": "stdout",
     "output_type": "stream",
     "text": [
      "[CV] END clf__C=0.8483428982440719, clf__penalty=none, clf__solver=sag; total time=   1.2s\n"
     ]
    },
    {
     "name": "stderr",
     "output_type": "stream",
     "text": [
      "/Users/guy/miniforge3/envs/.venv/lib/python3.9/site-packages/sklearn/linear_model/_logistic.py:1483: UserWarning: Setting penalty='none' will ignore the C and l1_ratio parameters\n",
      "  warnings.warn(\n"
     ]
    },
    {
     "name": "stdout",
     "output_type": "stream",
     "text": [
      "[CV] END clf__C=0.8483428982440719, clf__penalty=none, clf__solver=sag; total time=   1.2s\n"
     ]
    },
    {
     "name": "stderr",
     "output_type": "stream",
     "text": [
      "/Users/guy/miniforge3/envs/.venv/lib/python3.9/site-packages/sklearn/linear_model/_logistic.py:1483: UserWarning: Setting penalty='none' will ignore the C and l1_ratio parameters\n",
      "  warnings.warn(\n"
     ]
    },
    {
     "name": "stdout",
     "output_type": "stream",
     "text": [
      "[CV] END clf__C=0.8483428982440719, clf__penalty=none, clf__solver=sag; total time=   1.1s\n"
     ]
    },
    {
     "name": "stderr",
     "output_type": "stream",
     "text": [
      "/Users/guy/miniforge3/envs/.venv/lib/python3.9/site-packages/sklearn/linear_model/_logistic.py:1483: UserWarning: Setting penalty='none' will ignore the C and l1_ratio parameters\n",
      "  warnings.warn(\n"
     ]
    },
    {
     "name": "stdout",
     "output_type": "stream",
     "text": [
      "[CV] END clf__C=0.8483428982440719, clf__penalty=none, clf__solver=sag; total time=   1.0s\n"
     ]
    },
    {
     "name": "stderr",
     "output_type": "stream",
     "text": [
      "/Users/guy/miniforge3/envs/.venv/lib/python3.9/site-packages/sklearn/linear_model/_logistic.py:1483: UserWarning: Setting penalty='none' will ignore the C and l1_ratio parameters\n",
      "  warnings.warn(\n"
     ]
    },
    {
     "name": "stdout",
     "output_type": "stream",
     "text": [
      "[CV] END clf__C=0.8483428982440719, clf__penalty=none, clf__solver=sag; total time=   1.2s\n"
     ]
    },
    {
     "name": "stderr",
     "output_type": "stream",
     "text": [
      "/Users/guy/miniforge3/envs/.venv/lib/python3.9/site-packages/sklearn/linear_model/_logistic.py:1483: UserWarning: Setting penalty='none' will ignore the C and l1_ratio parameters\n",
      "  warnings.warn(\n"
     ]
    },
    {
     "name": "stdout",
     "output_type": "stream",
     "text": [
      "[CV] END clf__C=0.8483428982440719, clf__penalty=none, clf__solver=sag; total time=   0.8s\n"
     ]
    },
    {
     "name": "stderr",
     "output_type": "stream",
     "text": [
      "/Users/guy/miniforge3/envs/.venv/lib/python3.9/site-packages/sklearn/linear_model/_logistic.py:1483: UserWarning: Setting penalty='none' will ignore the C and l1_ratio parameters\n",
      "  warnings.warn(\n"
     ]
    },
    {
     "name": "stdout",
     "output_type": "stream",
     "text": [
      "[CV] END clf__C=0.8483428982440719, clf__penalty=none, clf__solver=sag; total time=   1.1s\n"
     ]
    },
    {
     "name": "stderr",
     "output_type": "stream",
     "text": [
      "/Users/guy/miniforge3/envs/.venv/lib/python3.9/site-packages/sklearn/linear_model/_logistic.py:1483: UserWarning: Setting penalty='none' will ignore the C and l1_ratio parameters\n",
      "  warnings.warn(\n"
     ]
    },
    {
     "name": "stdout",
     "output_type": "stream",
     "text": [
      "[CV] END clf__C=0.8483428982440719, clf__penalty=none, clf__solver=sag; total time=   1.2s\n"
     ]
    },
    {
     "name": "stderr",
     "output_type": "stream",
     "text": [
      "/Users/guy/miniforge3/envs/.venv/lib/python3.9/site-packages/sklearn/linear_model/_logistic.py:1483: UserWarning: Setting penalty='none' will ignore the C and l1_ratio parameters\n",
      "  warnings.warn(\n"
     ]
    },
    {
     "name": "stdout",
     "output_type": "stream",
     "text": [
      "[CV] END clf__C=0.8483428982440719, clf__penalty=none, clf__solver=sag; total time=   1.0s\n"
     ]
    },
    {
     "name": "stderr",
     "output_type": "stream",
     "text": [
      "/Users/guy/miniforge3/envs/.venv/lib/python3.9/site-packages/sklearn/linear_model/_logistic.py:1483: UserWarning: Setting penalty='none' will ignore the C and l1_ratio parameters\n",
      "  warnings.warn(\n"
     ]
    },
    {
     "name": "stdout",
     "output_type": "stream",
     "text": [
      "[CV] END clf__C=0.8483428982440719, clf__penalty=none, clf__solver=sag; total time=   1.1s\n"
     ]
    },
    {
     "name": "stderr",
     "output_type": "stream",
     "text": [
      "/Users/guy/miniforge3/envs/.venv/lib/python3.9/site-packages/sklearn/linear_model/_logistic.py:1483: UserWarning: Setting penalty='none' will ignore the C and l1_ratio parameters\n",
      "  warnings.warn(\n"
     ]
    },
    {
     "name": "stdout",
     "output_type": "stream",
     "text": [
      "[CV] END clf__C=0.8483428982440719, clf__penalty=none, clf__solver=sag; total time=   1.2s\n"
     ]
    },
    {
     "name": "stderr",
     "output_type": "stream",
     "text": [
      "/Users/guy/miniforge3/envs/.venv/lib/python3.9/site-packages/sklearn/linear_model/_logistic.py:1483: UserWarning: Setting penalty='none' will ignore the C and l1_ratio parameters\n",
      "  warnings.warn(\n"
     ]
    },
    {
     "name": "stdout",
     "output_type": "stream",
     "text": [
      "[CV] END clf__C=0.8483428982440719, clf__penalty=none, clf__solver=sag; total time=   1.1s\n"
     ]
    },
    {
     "name": "stderr",
     "output_type": "stream",
     "text": [
      "/Users/guy/miniforge3/envs/.venv/lib/python3.9/site-packages/sklearn/linear_model/_logistic.py:1483: UserWarning: Setting penalty='none' will ignore the C and l1_ratio parameters\n",
      "  warnings.warn(\n"
     ]
    },
    {
     "name": "stdout",
     "output_type": "stream",
     "text": [
      "[CV] END clf__C=0.8483428982440719, clf__penalty=none, clf__solver=sag; total time=   1.2s\n"
     ]
    },
    {
     "name": "stderr",
     "output_type": "stream",
     "text": [
      "/Users/guy/miniforge3/envs/.venv/lib/python3.9/site-packages/sklearn/linear_model/_logistic.py:1483: UserWarning: Setting penalty='none' will ignore the C and l1_ratio parameters\n",
      "  warnings.warn(\n"
     ]
    },
    {
     "name": "stdout",
     "output_type": "stream",
     "text": [
      "[CV] END clf__C=0.8483428982440719, clf__penalty=none, clf__solver=sag; total time=   0.7s\n",
      "[CV] END .....clf__C=1.0, clf__penalty=l1, clf__solver=lbfgs; total time=   0.0s\n",
      "[CV] END .....clf__C=1.0, clf__penalty=l1, clf__solver=lbfgs; total time=   0.0s\n",
      "[CV] END .....clf__C=1.0, clf__penalty=l1, clf__solver=lbfgs; total time=   0.0s\n",
      "[CV] END .....clf__C=1.0, clf__penalty=l1, clf__solver=lbfgs; total time=   0.0s\n",
      "[CV] END .....clf__C=1.0, clf__penalty=l1, clf__solver=lbfgs; total time=   0.0s\n",
      "[CV] END .....clf__C=1.0, clf__penalty=l1, clf__solver=lbfgs; total time=   0.0s\n",
      "[CV] END .....clf__C=1.0, clf__penalty=l1, clf__solver=lbfgs; total time=   0.0s\n",
      "[CV] END .....clf__C=1.0, clf__penalty=l1, clf__solver=lbfgs; total time=   0.0s\n",
      "[CV] END .....clf__C=1.0, clf__penalty=l1, clf__solver=lbfgs; total time=   0.0s\n",
      "[CV] END .....clf__C=1.0, clf__penalty=l1, clf__solver=lbfgs; total time=   0.0s\n",
      "[CV] END .....clf__C=1.0, clf__penalty=l1, clf__solver=lbfgs; total time=   0.0s\n",
      "[CV] END .....clf__C=1.0, clf__penalty=l1, clf__solver=lbfgs; total time=   0.0s\n",
      "[CV] END .....clf__C=1.0, clf__penalty=l1, clf__solver=lbfgs; total time=   0.0s\n",
      "[CV] END .....clf__C=1.0, clf__penalty=l1, clf__solver=lbfgs; total time=   0.0s\n",
      "[CV] END .....clf__C=1.0, clf__penalty=l1, clf__solver=lbfgs; total time=   0.0s\n",
      "[CV] END .clf__C=1.0, clf__penalty=l1, clf__solver=liblinear; total time=   0.9s\n",
      "[CV] END .clf__C=1.0, clf__penalty=l1, clf__solver=liblinear; total time=   0.9s\n",
      "[CV] END .clf__C=1.0, clf__penalty=l1, clf__solver=liblinear; total time=   0.6s\n",
      "[CV] END .clf__C=1.0, clf__penalty=l1, clf__solver=liblinear; total time=   0.8s\n",
      "[CV] END .clf__C=1.0, clf__penalty=l1, clf__solver=liblinear; total time=   0.6s\n",
      "[CV] END .clf__C=1.0, clf__penalty=l1, clf__solver=liblinear; total time=   0.9s\n",
      "[CV] END .clf__C=1.0, clf__penalty=l1, clf__solver=liblinear; total time=   0.6s\n",
      "[CV] END .clf__C=1.0, clf__penalty=l1, clf__solver=liblinear; total time=   0.5s\n",
      "[CV] END .clf__C=1.0, clf__penalty=l1, clf__solver=liblinear; total time=   0.6s\n",
      "[CV] END .clf__C=1.0, clf__penalty=l1, clf__solver=liblinear; total time=   0.7s\n",
      "[CV] END .clf__C=1.0, clf__penalty=l1, clf__solver=liblinear; total time=   0.8s\n",
      "[CV] END .clf__C=1.0, clf__penalty=l1, clf__solver=liblinear; total time=   0.5s\n",
      "[CV] END .clf__C=1.0, clf__penalty=l1, clf__solver=liblinear; total time=   0.6s\n",
      "[CV] END .clf__C=1.0, clf__penalty=l1, clf__solver=liblinear; total time=   0.6s\n",
      "[CV] END .clf__C=1.0, clf__penalty=l1, clf__solver=liblinear; total time=   0.7s\n",
      "[CV] END .......clf__C=1.0, clf__penalty=l1, clf__solver=sag; total time=   0.0s\n",
      "[CV] END .......clf__C=1.0, clf__penalty=l1, clf__solver=sag; total time=   0.0s\n",
      "[CV] END .......clf__C=1.0, clf__penalty=l1, clf__solver=sag; total time=   0.0s\n",
      "[CV] END .......clf__C=1.0, clf__penalty=l1, clf__solver=sag; total time=   0.0s\n",
      "[CV] END .......clf__C=1.0, clf__penalty=l1, clf__solver=sag; total time=   0.0s\n",
      "[CV] END .......clf__C=1.0, clf__penalty=l1, clf__solver=sag; total time=   0.0s\n",
      "[CV] END .......clf__C=1.0, clf__penalty=l1, clf__solver=sag; total time=   0.0s\n",
      "[CV] END .......clf__C=1.0, clf__penalty=l1, clf__solver=sag; total time=   0.0s\n",
      "[CV] END .......clf__C=1.0, clf__penalty=l1, clf__solver=sag; total time=   0.0s\n",
      "[CV] END .......clf__C=1.0, clf__penalty=l1, clf__solver=sag; total time=   0.0s\n",
      "[CV] END .......clf__C=1.0, clf__penalty=l1, clf__solver=sag; total time=   0.0s\n",
      "[CV] END .......clf__C=1.0, clf__penalty=l1, clf__solver=sag; total time=   0.0s\n",
      "[CV] END .......clf__C=1.0, clf__penalty=l1, clf__solver=sag; total time=   0.0s\n",
      "[CV] END .......clf__C=1.0, clf__penalty=l1, clf__solver=sag; total time=   0.0s\n",
      "[CV] END .......clf__C=1.0, clf__penalty=l1, clf__solver=sag; total time=   0.0s\n",
      "[CV] END .....clf__C=1.0, clf__penalty=l2, clf__solver=lbfgs; total time=   0.2s\n",
      "[CV] END .....clf__C=1.0, clf__penalty=l2, clf__solver=lbfgs; total time=   0.1s\n",
      "[CV] END .....clf__C=1.0, clf__penalty=l2, clf__solver=lbfgs; total time=   0.2s\n",
      "[CV] END .....clf__C=1.0, clf__penalty=l2, clf__solver=lbfgs; total time=   0.2s\n",
      "[CV] END .....clf__C=1.0, clf__penalty=l2, clf__solver=lbfgs; total time=   0.2s\n",
      "[CV] END .....clf__C=1.0, clf__penalty=l2, clf__solver=lbfgs; total time=   0.2s\n",
      "[CV] END .....clf__C=1.0, clf__penalty=l2, clf__solver=lbfgs; total time=   0.2s\n",
      "[CV] END .....clf__C=1.0, clf__penalty=l2, clf__solver=lbfgs; total time=   0.2s\n",
      "[CV] END .....clf__C=1.0, clf__penalty=l2, clf__solver=lbfgs; total time=   0.2s\n",
      "[CV] END .....clf__C=1.0, clf__penalty=l2, clf__solver=lbfgs; total time=   0.2s\n",
      "[CV] END .....clf__C=1.0, clf__penalty=l2, clf__solver=lbfgs; total time=   0.2s\n",
      "[CV] END .....clf__C=1.0, clf__penalty=l2, clf__solver=lbfgs; total time=   0.2s\n",
      "[CV] END .....clf__C=1.0, clf__penalty=l2, clf__solver=lbfgs; total time=   0.2s\n",
      "[CV] END .....clf__C=1.0, clf__penalty=l2, clf__solver=lbfgs; total time=   0.2s\n",
      "[CV] END .....clf__C=1.0, clf__penalty=l2, clf__solver=lbfgs; total time=   0.2s\n",
      "[CV] END .clf__C=1.0, clf__penalty=l2, clf__solver=liblinear; total time=   0.1s\n",
      "[CV] END .clf__C=1.0, clf__penalty=l2, clf__solver=liblinear; total time=   0.1s\n",
      "[CV] END .clf__C=1.0, clf__penalty=l2, clf__solver=liblinear; total time=   0.1s\n",
      "[CV] END .clf__C=1.0, clf__penalty=l2, clf__solver=liblinear; total time=   0.1s\n",
      "[CV] END .clf__C=1.0, clf__penalty=l2, clf__solver=liblinear; total time=   0.1s\n",
      "[CV] END .clf__C=1.0, clf__penalty=l2, clf__solver=liblinear; total time=   0.1s\n",
      "[CV] END .clf__C=1.0, clf__penalty=l2, clf__solver=liblinear; total time=   0.1s\n",
      "[CV] END .clf__C=1.0, clf__penalty=l2, clf__solver=liblinear; total time=   0.1s\n",
      "[CV] END .clf__C=1.0, clf__penalty=l2, clf__solver=liblinear; total time=   0.1s\n",
      "[CV] END .clf__C=1.0, clf__penalty=l2, clf__solver=liblinear; total time=   0.1s\n",
      "[CV] END .clf__C=1.0, clf__penalty=l2, clf__solver=liblinear; total time=   0.1s\n",
      "[CV] END .clf__C=1.0, clf__penalty=l2, clf__solver=liblinear; total time=   0.1s\n",
      "[CV] END .clf__C=1.0, clf__penalty=l2, clf__solver=liblinear; total time=   0.1s\n",
      "[CV] END .clf__C=1.0, clf__penalty=l2, clf__solver=liblinear; total time=   0.1s\n",
      "[CV] END .clf__C=1.0, clf__penalty=l2, clf__solver=liblinear; total time=   0.1s\n",
      "[CV] END .......clf__C=1.0, clf__penalty=l2, clf__solver=sag; total time=   0.3s\n",
      "[CV] END .......clf__C=1.0, clf__penalty=l2, clf__solver=sag; total time=   0.3s\n",
      "[CV] END .......clf__C=1.0, clf__penalty=l2, clf__solver=sag; total time=   0.3s\n",
      "[CV] END .......clf__C=1.0, clf__penalty=l2, clf__solver=sag; total time=   0.3s\n",
      "[CV] END .......clf__C=1.0, clf__penalty=l2, clf__solver=sag; total time=   0.3s\n",
      "[CV] END .......clf__C=1.0, clf__penalty=l2, clf__solver=sag; total time=   0.3s\n",
      "[CV] END .......clf__C=1.0, clf__penalty=l2, clf__solver=sag; total time=   0.3s\n",
      "[CV] END .......clf__C=1.0, clf__penalty=l2, clf__solver=sag; total time=   0.3s\n",
      "[CV] END .......clf__C=1.0, clf__penalty=l2, clf__solver=sag; total time=   0.3s\n",
      "[CV] END .......clf__C=1.0, clf__penalty=l2, clf__solver=sag; total time=   0.3s\n",
      "[CV] END .......clf__C=1.0, clf__penalty=l2, clf__solver=sag; total time=   0.3s\n",
      "[CV] END .......clf__C=1.0, clf__penalty=l2, clf__solver=sag; total time=   0.3s\n",
      "[CV] END .......clf__C=1.0, clf__penalty=l2, clf__solver=sag; total time=   0.3s\n",
      "[CV] END .......clf__C=1.0, clf__penalty=l2, clf__solver=sag; total time=   0.3s\n",
      "[CV] END .......clf__C=1.0, clf__penalty=l2, clf__solver=sag; total time=   0.3s\n",
      "[CV] END ...clf__C=1.0, clf__penalty=none, clf__solver=lbfgs; total time=   0.2s\n",
      "[CV] END ...clf__C=1.0, clf__penalty=none, clf__solver=lbfgs; total time=   0.3s\n",
      "[CV] END ...clf__C=1.0, clf__penalty=none, clf__solver=lbfgs; total time=   0.3s\n",
      "[CV] END ...clf__C=1.0, clf__penalty=none, clf__solver=lbfgs; total time=   0.3s\n",
      "[CV] END ...clf__C=1.0, clf__penalty=none, clf__solver=lbfgs; total time=   0.3s\n",
      "[CV] END ...clf__C=1.0, clf__penalty=none, clf__solver=lbfgs; total time=   0.3s\n",
      "[CV] END ...clf__C=1.0, clf__penalty=none, clf__solver=lbfgs; total time=   0.2s\n",
      "[CV] END ...clf__C=1.0, clf__penalty=none, clf__solver=lbfgs; total time=   0.3s\n",
      "[CV] END ...clf__C=1.0, clf__penalty=none, clf__solver=lbfgs; total time=   0.3s\n",
      "[CV] END ...clf__C=1.0, clf__penalty=none, clf__solver=lbfgs; total time=   0.3s\n",
      "[CV] END ...clf__C=1.0, clf__penalty=none, clf__solver=lbfgs; total time=   0.3s\n"
     ]
    },
    {
     "name": "stdout",
     "output_type": "stream",
     "text": [
      "[CV] END ...clf__C=1.0, clf__penalty=none, clf__solver=lbfgs; total time=   0.3s\n",
      "[CV] END ...clf__C=1.0, clf__penalty=none, clf__solver=lbfgs; total time=   0.3s\n",
      "[CV] END ...clf__C=1.0, clf__penalty=none, clf__solver=lbfgs; total time=   0.3s\n",
      "[CV] END ...clf__C=1.0, clf__penalty=none, clf__solver=lbfgs; total time=   0.2s\n",
      "[CV] END clf__C=1.0, clf__penalty=none, clf__solver=liblinear; total time=   0.0s\n",
      "[CV] END clf__C=1.0, clf__penalty=none, clf__solver=liblinear; total time=   0.0s\n",
      "[CV] END clf__C=1.0, clf__penalty=none, clf__solver=liblinear; total time=   0.0s\n",
      "[CV] END clf__C=1.0, clf__penalty=none, clf__solver=liblinear; total time=   0.0s\n",
      "[CV] END clf__C=1.0, clf__penalty=none, clf__solver=liblinear; total time=   0.0s\n",
      "[CV] END clf__C=1.0, clf__penalty=none, clf__solver=liblinear; total time=   0.0s\n",
      "[CV] END clf__C=1.0, clf__penalty=none, clf__solver=liblinear; total time=   0.0s\n",
      "[CV] END clf__C=1.0, clf__penalty=none, clf__solver=liblinear; total time=   0.0s\n",
      "[CV] END clf__C=1.0, clf__penalty=none, clf__solver=liblinear; total time=   0.0s\n",
      "[CV] END clf__C=1.0, clf__penalty=none, clf__solver=liblinear; total time=   0.0s\n",
      "[CV] END clf__C=1.0, clf__penalty=none, clf__solver=liblinear; total time=   0.0s\n",
      "[CV] END clf__C=1.0, clf__penalty=none, clf__solver=liblinear; total time=   0.0s\n",
      "[CV] END clf__C=1.0, clf__penalty=none, clf__solver=liblinear; total time=   0.0s\n",
      "[CV] END clf__C=1.0, clf__penalty=none, clf__solver=liblinear; total time=   0.0s\n",
      "[CV] END clf__C=1.0, clf__penalty=none, clf__solver=liblinear; total time=   0.0s\n",
      "[CV] END .....clf__C=1.0, clf__penalty=none, clf__solver=sag; total time=   0.7s\n",
      "[CV] END .....clf__C=1.0, clf__penalty=none, clf__solver=sag; total time=   1.2s\n",
      "[CV] END .....clf__C=1.0, clf__penalty=none, clf__solver=sag; total time=   1.2s\n",
      "[CV] END .....clf__C=1.0, clf__penalty=none, clf__solver=sag; total time=   1.1s\n",
      "[CV] END .....clf__C=1.0, clf__penalty=none, clf__solver=sag; total time=   1.0s\n",
      "[CV] END .....clf__C=1.0, clf__penalty=none, clf__solver=sag; total time=   1.2s\n",
      "[CV] END .....clf__C=1.0, clf__penalty=none, clf__solver=sag; total time=   0.7s\n",
      "[CV] END .....clf__C=1.0, clf__penalty=none, clf__solver=sag; total time=   1.1s\n",
      "[CV] END .....clf__C=1.0, clf__penalty=none, clf__solver=sag; total time=   1.2s\n",
      "[CV] END .....clf__C=1.0, clf__penalty=none, clf__solver=sag; total time=   1.1s\n",
      "[CV] END .....clf__C=1.0, clf__penalty=none, clf__solver=sag; total time=   1.1s\n",
      "[CV] END .....clf__C=1.0, clf__penalty=none, clf__solver=sag; total time=   1.2s\n",
      "[CV] END .....clf__C=1.0, clf__penalty=none, clf__solver=sag; total time=   1.1s\n",
      "[CV] END .....clf__C=1.0, clf__penalty=none, clf__solver=sag; total time=   1.2s\n",
      "[CV] END .....clf__C=1.0, clf__penalty=none, clf__solver=sag; total time=   0.7s\n"
     ]
    },
    {
     "name": "stderr",
     "output_type": "stream",
     "text": [
      "/Users/guy/miniforge3/envs/.venv/lib/python3.9/site-packages/sklearn/model_selection/_validation.py:372: FitFailedWarning: \n",
      "675 fits failed out of a total of 2025.\n",
      "The score on these train-test partitions for these parameters will be set to nan.\n",
      "If these failures are not expected, you can try to debug them by setting error_score='raise'.\n",
      "\n",
      "Below are more details about the failures:\n",
      "--------------------------------------------------------------------------------\n",
      "225 fits failed with the following error:\n",
      "Traceback (most recent call last):\n",
      "  File \"/Users/guy/miniforge3/envs/.venv/lib/python3.9/site-packages/sklearn/model_selection/_validation.py\", line 681, in _fit_and_score\n",
      "    estimator.fit(X_train, y_train, **fit_params)\n",
      "  File \"/Users/guy/miniforge3/envs/.venv/lib/python3.9/site-packages/sklearn/pipeline.py\", line 394, in fit\n",
      "    self._final_estimator.fit(Xt, y, **fit_params_last_step)\n",
      "  File \"/Users/guy/miniforge3/envs/.venv/lib/python3.9/site-packages/sklearn/linear_model/_logistic.py\", line 1461, in fit\n",
      "    solver = _check_solver(self.solver, self.penalty, self.dual)\n",
      "  File \"/Users/guy/miniforge3/envs/.venv/lib/python3.9/site-packages/sklearn/linear_model/_logistic.py\", line 447, in _check_solver\n",
      "    raise ValueError(\n",
      "ValueError: Solver lbfgs supports only 'l2' or 'none' penalties, got l1 penalty.\n",
      "\n",
      "--------------------------------------------------------------------------------\n",
      "225 fits failed with the following error:\n",
      "Traceback (most recent call last):\n",
      "  File \"/Users/guy/miniforge3/envs/.venv/lib/python3.9/site-packages/sklearn/model_selection/_validation.py\", line 681, in _fit_and_score\n",
      "    estimator.fit(X_train, y_train, **fit_params)\n",
      "  File \"/Users/guy/miniforge3/envs/.venv/lib/python3.9/site-packages/sklearn/pipeline.py\", line 394, in fit\n",
      "    self._final_estimator.fit(Xt, y, **fit_params_last_step)\n",
      "  File \"/Users/guy/miniforge3/envs/.venv/lib/python3.9/site-packages/sklearn/linear_model/_logistic.py\", line 1461, in fit\n",
      "    solver = _check_solver(self.solver, self.penalty, self.dual)\n",
      "  File \"/Users/guy/miniforge3/envs/.venv/lib/python3.9/site-packages/sklearn/linear_model/_logistic.py\", line 447, in _check_solver\n",
      "    raise ValueError(\n",
      "ValueError: Solver sag supports only 'l2' or 'none' penalties, got l1 penalty.\n",
      "\n",
      "--------------------------------------------------------------------------------\n",
      "225 fits failed with the following error:\n",
      "Traceback (most recent call last):\n",
      "  File \"/Users/guy/miniforge3/envs/.venv/lib/python3.9/site-packages/sklearn/model_selection/_validation.py\", line 681, in _fit_and_score\n",
      "    estimator.fit(X_train, y_train, **fit_params)\n",
      "  File \"/Users/guy/miniforge3/envs/.venv/lib/python3.9/site-packages/sklearn/pipeline.py\", line 394, in fit\n",
      "    self._final_estimator.fit(Xt, y, **fit_params_last_step)\n",
      "  File \"/Users/guy/miniforge3/envs/.venv/lib/python3.9/site-packages/sklearn/linear_model/_logistic.py\", line 1461, in fit\n",
      "    solver = _check_solver(self.solver, self.penalty, self.dual)\n",
      "  File \"/Users/guy/miniforge3/envs/.venv/lib/python3.9/site-packages/sklearn/linear_model/_logistic.py\", line 464, in _check_solver\n",
      "    raise ValueError(\"penalty='none' is not supported for the liblinear solver\")\n",
      "ValueError: penalty='none' is not supported for the liblinear solver\n",
      "\n",
      "  warnings.warn(some_fits_failed_message, FitFailedWarning)\n",
      "/Users/guy/miniforge3/envs/.venv/lib/python3.9/site-packages/sklearn/model_selection/_search.py:969: UserWarning: One or more of the test scores are non-finite: [       nan 0.6032297         nan 0.6103429  0.60770196 0.61034048\n",
      " 0.61373546        nan 0.61371412        nan 0.60660081        nan\n",
      " 0.61084219 0.6090236  0.61084918 0.61373546        nan 0.61371267\n",
      "        nan 0.60878507        nan 0.6112844  0.61006539 0.61129428\n",
      " 0.61373546        nan 0.61371514        nan 0.61190339        nan\n",
      " 0.61161771 0.6108988  0.61162573 0.61373546        nan 0.61371554\n",
      "        nan 0.61533347        nan 0.61189067 0.61165362 0.61188655\n",
      " 0.61373546        nan 0.61371432        nan 0.61746069        nan\n",
      " 0.61205629 0.61216757 0.61204659 0.61373546        nan 0.61371492\n",
      "        nan 0.61811564        nan 0.61218959 0.61262202 0.61218933\n",
      " 0.61373546        nan 0.6137137         nan 0.61874909        nan\n",
      " 0.61228069 0.61298798 0.6122809  0.61373546        nan 0.61371473\n",
      "        nan 0.61977874        nan 0.61239028 0.61321742 0.61239406\n",
      " 0.61373546        nan 0.61371596        nan 0.62061118        nan\n",
      " 0.6125251  0.61343765 0.61252274 0.61373546        nan 0.61371309\n",
      "        nan 0.6212495         nan 0.61263727 0.6135649  0.61263357\n",
      " 0.61373546        nan 0.61371493        nan 0.62155544        nan\n",
      " 0.61264081 0.61372999 0.61262805 0.61373546        nan 0.61371308\n",
      "        nan 0.62165375        nan 0.61265521 0.61380392 0.61266004\n",
      " 0.61373546        nan 0.61371309        nan 0.62109026        nan\n",
      " 0.61267437 0.61385514 0.61269849 0.61373546        nan 0.61371432\n",
      "        nan 0.62032703        nan 0.61273415 0.61386942 0.61274544\n",
      " 0.61373546        nan 0.61371267]\n",
      "  warnings.warn(\n"
     ]
    }
   ],
   "source": [
    "gcv_score, fp_rate, tp_rate = generate_evaluate_model(X_train[most_impactful_columns], X_test[most_impactful_columns], \n",
    "                                    y_train, y_test, gridsearch_model)"
   ]
  },
  {
   "cell_type": "code",
   "execution_count": 87,
   "metadata": {},
   "outputs": [
    {
     "data": {
      "image/png": "[encoded data removed]",
      "text/plain": [
       "<Figure size 432x288 with 1 Axes>"
      ]
     },
     "metadata": {
      "needs_background": "light"
     },
     "output_type": "display_data"
    },
    {
     "name": "stdout",
     "output_type": "stream",
     "text": [
      "ROC AUC score for optimised model: 0.6753\n",
      "Best parameters: {'clf__C': 0.7196856730011519, 'clf__penalty': 'l1', 'clf__solver': 'liblinear'}\n"
     ]
    }
   ],
   "source": [
    "# Plot the ROC curve for the optimised model\n",
    "plt.plot(fp_rate, tp_rate)\n",
    "plt.plot([0, 1], [0, 1], linestyle='--')\n",
    "plt.xlabel('False positive rate')\n",
    "plt.ylabel('True positive rate')\n",
    "plt.title('ROC curves: optimised model')\n",
    "plt.show();\n",
    "\n",
    "# Print the ROC AUC score and the best hyperparameters\n",
    "print('ROC AUC score for optimised model: {:.4f}'.format(gcv_score))\n",
    "print('Best parameters: ', end='')\n",
    "print(gridsearch_model.best_params_)"
   ]
  },
  {
   "cell_type": "markdown",
   "metadata": {},
   "source": [
    "Using GridsearchCV has resulted in a small improvement in the ROC AUC score: from 0.6743 to 0.6753."
   ]
  },
  {
   "cell_type": "markdown",
   "metadata": {},
   "source": [
    "## Part 3: Kaggle Competition\n",
    "We'll now apply our optimised model to the TEST dataset and make predictions to submit to the [Kaggle competition](https://www.kaggle.com/c/udacity-arvato-identify-customers/)."
   ]
  },
  {
   "cell_type": "code",
   "execution_count": 94,
   "metadata": {},
   "outputs": [
    {
     "name": "stdout",
     "output_type": "stream",
     "text": [
      "42833 rows and 366 columns.\n",
      "360 columns of type 'number'.\n",
      "6 columns of type 'object'.\n",
      "14% of the data is null.\n"
     ]
    },
    {
     "name": "stderr",
     "output_type": "stream",
     "text": [
      "/Users/guy/miniforge3/envs/.venv/lib/python3.9/site-packages/IPython/core/interactiveshell.py:3444: DtypeWarning: Columns (18,19) have mixed types.Specify dtype option on import or set low_memory=False.\n",
      "  exec(code_obj, self.user_global_ns, self.user_ns)\n"
     ]
    }
   ],
   "source": [
    "# Uncomment/comment the appropriate paths for working from the Udacity workspace, or locally\n",
    "# mailout_train_path = '../../data/Term2/capstone/arvato_data/Udacity_MAILOUT_052018_TEST.csv'\n",
    "mailout_test_path = './Data/Udacity_MAILOUT_052018_TEST.csv'\n",
    "\n",
    "mailout_test = pd.read_csv(mailout_test_path, sep=';')\n",
    "dataframe_overview(mailout_test)"
   ]
  },
  {
   "cell_type": "markdown",
   "metadata": {},
   "source": [
    "We can use our cleaning function again to clean the dataset. This time, however, we **don't** want to drop any rows (we want to make a prediction for every row), so we set the missing data threshold to 1 (100%) to ensure no rows are dropped. The missing data will be imputed instead."
   ]
  },
  {
   "cell_type": "code",
   "execution_count": 95,
   "metadata": {},
   "outputs": [
    {
     "name": "stdout",
     "output_type": "stream",
     "text": [
      "Replacing invalid X values... \n",
      "Found 7 values matching '/X+/' in column 'CAMEO_DEU_2015'. replaced with NaN.\n",
      "Found 7 values matching '/X+/' in column 'CAMEO_DEUG_2015'. replaced with NaN.\n",
      "Found 7 values matching '/X+/' in column 'CAMEO_INTL_2015'. replaced with NaN.\n",
      "Complete.\n",
      "Replacing unknown values with NaN... Complete.\n",
      "Dropping unknown columns... Complete.\n",
      "Finding and dropping columns with over 50% NaN... Complete.\n",
      "Finding and dropping rows with over 100% NaN... Complete.\n",
      "Imputing NaN values with most frequent values... Complete.\n",
      "Encoding non-numeric columns... \n",
      "Encoding column 'CAMEO_DEU_2015'... Complete.\n",
      "Encoding column 'OST_WEST_KZ'... Complete.\n",
      "Complete.\n",
      "Cleaned dataframe returned.\n"
     ]
    }
   ],
   "source": [
    "mailout_test_clean, _, _ = clean_df(mailout_test, cat_cols_to_encode, col_nan_threshold=0.5, row_nan_threshold=1)"
   ]
  },
  {
   "cell_type": "markdown",
   "metadata": {},
   "source": [
    "The model we have selected uses a subset of the columns. Let's reduce the cleaned dataset down to these columns, and then look at its properties again."
   ]
  },
  {
   "cell_type": "code",
   "execution_count": 96,
   "metadata": {},
   "outputs": [
    {
     "name": "stdout",
     "output_type": "stream",
     "text": [
      "42833 rows and 48 columns.\n",
      "48 columns of type 'number'.\n",
      "0 columns of type 'object'.\n",
      "0% of the data is null.\n"
     ]
    }
   ],
   "source": [
    "mailout_test_subset = mailout_test_clean[most_impactful_columns]\n",
    "dataframe_overview(mailout_test_subset)"
   ]
  },
  {
   "cell_type": "markdown",
   "metadata": {},
   "source": [
    "The dataset is now clean: fully numeric, no missing data, and reduced down to the columns used in our model. We can now use the optimised model generated using GridsearchCV to make predictions based on this data. "
   ]
  },
  {
   "cell_type": "code",
   "execution_count": 97,
   "metadata": {},
   "outputs": [],
   "source": [
    "mailout_test_preds = gridsearch_model.predict_proba(mailout_test_subset)\n",
    "# Slice down to the probabilities of row being in class 1 (i.e. a customer)\n",
    "mailout_test_class_1 = mailout_test_preds[:, 1]"
   ]
  },
  {
   "cell_type": "code",
   "execution_count": 98,
   "metadata": {},
   "outputs": [
    {
     "data": {
      "text/html": [
       "<div>\n",
       "<style scoped>\n",
       "    .dataframe tbody tr th:only-of-type {\n",
       "        vertical-align: middle;\n",
       "    }\n",
       "\n",
       "    .dataframe tbody tr th {\n",
       "        vertical-align: top;\n",
       "    }\n",
       "\n",
       "    .dataframe thead th {\n",
       "        text-align: right;\n",
       "    }\n",
       "</style>\n",
       "<table border=\"1\" class=\"dataframe\">\n",
       "  <thead>\n",
       "    <tr style=\"text-align: right;\">\n",
       "      <th></th>\n",
       "      <th>RESPONSE</th>\n",
       "    </tr>\n",
       "    <tr>\n",
       "      <th>LNR</th>\n",
       "      <th></th>\n",
       "    </tr>\n",
       "  </thead>\n",
       "  <tbody>\n",
       "    <tr>\n",
       "      <th>1754</th>\n",
       "      <td>0.021354</td>\n",
       "    </tr>\n",
       "    <tr>\n",
       "      <th>1770</th>\n",
       "      <td>0.022784</td>\n",
       "    </tr>\n",
       "    <tr>\n",
       "      <th>1465</th>\n",
       "      <td>0.004784</td>\n",
       "    </tr>\n",
       "    <tr>\n",
       "      <th>1470</th>\n",
       "      <td>0.003675</td>\n",
       "    </tr>\n",
       "    <tr>\n",
       "      <th>1478</th>\n",
       "      <td>0.007795</td>\n",
       "    </tr>\n",
       "  </tbody>\n",
       "</table>\n",
       "</div>"
      ],
      "text/plain": [
       "      RESPONSE\n",
       "LNR           \n",
       "1754  0.021354\n",
       "1770  0.022784\n",
       "1465  0.004784\n",
       "1470  0.003675\n",
       "1478  0.007795"
      ]
     },
     "execution_count": 98,
     "metadata": {},
     "output_type": "execute_result"
    }
   ],
   "source": [
    "# Construct a dataframe of the predictions with the LNR as the index\n",
    "kaggle_df = pd.DataFrame(mailout_test_class_1, index=mailout_test['LNR'], columns=['RESPONSE'])\n",
    "kaggle_df.head()"
   ]
  },
  {
   "cell_type": "code",
   "execution_count": 99,
   "metadata": {},
   "outputs": [],
   "source": [
    "# Export as a CSV file to submit to the Kaggle competition\n",
    "kaggle_df.to_csv('./kaggle_competition.csv')"
   ]
  },
  {
   "cell_type": "markdown",
   "metadata": {},
   "source": [
    "![Kaggle screenshot](kaggle_screenshot.png)"
   ]
  }
 ],
 "metadata": {
  "kernelspec": {
   "display_name": "Python 3 (ipykernel)",
   "language": "python",
   "name": "python3"
  },
  "language_info": {
   "codemirror_mode": {
    "name": "ipython",
    "version": 3
   },
   "file_extension": ".py",
   "mimetype": "text/x-python",
   "name": "python",
   "nbconvert_exporter": "python",
   "pygments_lexer": "ipython3",
   "version": "3.9.7"
  }
 },
 "nbformat": 4,
 "nbformat_minor": 2
}
