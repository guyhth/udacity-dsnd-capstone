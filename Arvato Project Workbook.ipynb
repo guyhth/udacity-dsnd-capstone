{
 "cells": [
  {
   "cell_type": "markdown",
   "metadata": {},
   "source": [
    "# Capstone Project: Create a Customer Segmentation Report for Arvato Financial Services\n",
    "\n",
    "In this project, you will analyze demographics data for customers of a mail-order sales company in Germany, comparing it against demographics information for the general population. You'll use unsupervised learning techniques to perform customer segmentation, identifying the parts of the population that best describe the core customer base of the company. Then, you'll apply what you've learned on a third dataset with demographics information for targets of a marketing campaign for the company, and use a model to predict which individuals are most likely to convert into becoming customers for the company. The data that you will use has been provided by our partners at Bertelsmann Arvato Analytics, and represents a real-life data science task.\n",
    "\n",
    "If you completed the first term of this program, you will be familiar with the first part of this project, from the unsupervised learning project. The versions of those two datasets used in this project will include many more features and has not been pre-cleaned. You are also free to choose whatever approach you'd like to analyzing the data rather than follow pre-determined steps. In your work on this project, make sure that you carefully document your steps and decisions, since your main deliverable for this project will be a blog post reporting your findings."
   ]
  },
  {
   "cell_type": "code",
   "execution_count": 74,
   "metadata": {},
   "outputs": [],
   "source": [
    "# Import libraries\n",
    "import numpy as np\n",
    "import pandas as pd\n",
    "import matplotlib.pyplot as plt\n",
    "from sklearn import preprocessing\n",
    "from sklearn.impute import SimpleImputer\n",
    "from sklearn.decomposition import PCA\n",
    "from sklearn.cluster import KMeans\n",
    "from sklearn.pipeline import Pipeline\n",
    "from sklearn.model_selection import train_test_split, GridSearchCV, RepeatedStratifiedKFold\n",
    "from sklearn.metrics import roc_auc_score, roc_curve, accuracy_score, f1_score\n",
    "from sklearn.ensemble import RandomForestClassifier, AdaBoostClassifier, GradientBoostingClassifier\n",
    "from sklearn.linear_model import LogisticRegression\n",
    "import pickle\n",
    "from IPython.display import display, display_markdown\n",
    "from imblearn.over_sampling import SMOTE\n",
    "\n",
    "# Magic word for producing visualizations in notebook\n",
    "%matplotlib inline"
   ]
  },
  {
   "cell_type": "markdown",
   "metadata": {},
   "source": [
    "## Part 0: Get to Know the Data\n",
    "\n",
    "There are four data files associated with this project:\n",
    "\n",
    "- `Udacity_AZDIAS_052018.csv`: Demographics data for the general population of Germany; 891 211 persons (rows) x 366 features (columns).\n",
    "- `Udacity_CUSTOMERS_052018.csv`: Demographics data for customers of a mail-order company; 191 652 persons (rows) x 369 features (columns).\n",
    "- `Udacity_MAILOUT_052018_TRAIN.csv`: Demographics data for individuals who were targets of a marketing campaign; 42 982 persons (rows) x 367 (columns).\n",
    "- `Udacity_MAILOUT_052018_TEST.csv`: Demographics data for individuals who were targets of a marketing campaign; 42 833 persons (rows) x 366 (columns).\n",
    "\n",
    "Each row of the demographics files represents a single person, but also includes information outside of individuals, including information about their household, building, and neighborhood. Use the information from the first two files to figure out how customers (\"CUSTOMERS\") are similar to or differ from the general population at large (\"AZDIAS\"), then use your analysis to make predictions on the other two files (\"MAILOUT\"), predicting which recipients are most likely to become a customer for the mail-order company.\n",
    "\n",
    "The \"CUSTOMERS\" file contains three extra columns ('CUSTOMER_GROUP', 'ONLINE_PURCHASE', and 'PRODUCT_GROUP'), which provide broad information about the customers depicted in the file. The original \"MAILOUT\" file included one additional column, \"RESPONSE\", which indicated whether or not each recipient became a customer of the company. For the \"TRAIN\" subset, this column has been retained, but in the \"TEST\" subset it has been removed; it is against that withheld column that your final predictions will be assessed in the Kaggle competition.\n",
    "\n",
    "Otherwise, all of the remaining columns are the same between the three data files. For more information about the columns depicted in the files, you can refer to two Excel spreadsheets provided in the workspace. [One of them](./DIAS Information Levels - Attributes 2017.xlsx) is a top-level list of attributes and descriptions, organized by informational category. [The other](./DIAS Attributes - Values 2017.xlsx) is a detailed mapping of data values for each feature in alphabetical order.\n",
    "\n",
    "In the below cell, we've provided some initial code to load in the first two datasets. Note for all of the `.csv` data files in this project that they're semicolon (`;`) delimited, so an additional argument in the [`read_csv()`](https://pandas.pydata.org/pandas-docs/stable/generated/pandas.read_csv.html) call has been included to read in the data properly. Also, considering the size of the datasets, it may take some time for them to load completely.\n",
    "\n",
    "You'll notice when the data is loaded in that a warning message will immediately pop up. Before you really start digging into the modeling and analysis, you're going to need to perform some cleaning. Take some time to browse the structure of the data and look over the informational spreadsheets to understand the data values. Make some decisions on which features to keep, which features to drop, and if any revisions need to be made on data formats. It'll be a good idea to create a function with pre-processing steps, since you'll need to clean all of the datasets before you work with them."
   ]
  },
  {
   "cell_type": "code",
   "execution_count": 2,
   "metadata": {},
   "outputs": [],
   "source": [
    "# Uncomment and use this cell when loading from the csv files in the Udacity workspace\n",
    "\n",
    "# Load in the data\n",
    "# print('Loading azdias data... ', end='')\n",
    "# azdias = pd.read_csv('../../data/Term2/capstone/arvato_data/Udacity_AZDIAS_052018.csv', sep=';')\n",
    "# azdias = pd.read_csv('./Data/Udacity_AZDIAS_052018.csv', sep=';')\n",
    "# print(\"Done!\")\n",
    "\n",
    "# print('Loading customers data... ', end='')\n",
    "# # customers = pd.read_csv('../../data/Term2/capstone/arvato_data/Udacity_CUSTOMERS_052018.csv', sep=';')\n",
    "# customers = pd.read_csv('./Data/Udacity_CUSTOMERS_052018.csv', sep=';')\n",
    "# print(\"Done!\")"
   ]
  },
  {
   "cell_type": "code",
   "execution_count": 3,
   "metadata": {},
   "outputs": [
    {
     "name": "stdout",
     "output_type": "stream",
     "text": [
      "Loading azdias data... Done!\n",
      "Loading customers data... Done!\n"
     ]
    }
   ],
   "source": [
    "# Use this cell when loading from the saved pickle files\n",
    "\n",
    "# # Load in the data\n",
    "print('Loading azdias data... ', end='')\n",
    "with open('azdias.pk', 'rb') as file_handle:\n",
    "    azdias = pickle.load(file_handle)\n",
    "print(\"Done!\")\n",
    "\n",
    "print('Loading customers data... ', end='')\n",
    "with open('customers.pk', 'rb') as file_handle:\n",
    "    customers = pickle.load(file_handle)\n",
    "print(\"Done!\")"
   ]
  },
  {
   "cell_type": "markdown",
   "metadata": {},
   "source": [
    "Start by printing out a few statistics about the dataframes; their sizes, column types, and how much data is missing."
   ]
  },
  {
   "cell_type": "code",
   "execution_count": 4,
   "metadata": {},
   "outputs": [],
   "source": [
    "def dataframe_overview(df):\n",
    "    ''' Calculate and output various statistics about a dataframe\n",
    "    \n",
    "    Args:\n",
    "        df (DataFrame): dataframe to analyse\n",
    "    '''\n",
    "    # Shape\n",
    "    print(\"{} rows and {} columns.\".format(df.shape[0], df.shape[1]))\n",
    "    \n",
    "    # Column types\n",
    "    types = ['number', 'object']\n",
    "    for col_type in types:\n",
    "        count = df.select_dtypes(include=col_type).shape[1]\n",
    "        print('{} columns of type \\'{}\\'.'.format(count, col_type))\n",
    "    \n",
    "    # Missing data\n",
    "    missing_fraction = df.isna().mean().mean()\n",
    "    print('{:.0%} of the data is null.'.format(missing_fraction))\n",
    "    "
   ]
  },
  {
   "cell_type": "code",
   "execution_count": 5,
   "metadata": {},
   "outputs": [
    {
     "name": "stdout",
     "output_type": "stream",
     "text": [
      "Overview of azdias:\n",
      "891221 rows and 366 columns.\n",
      "360 columns of type 'number'.\n",
      "6 columns of type 'object'.\n",
      "10% of the data is null.\n",
      "\n",
      "Overview of customers:\n",
      "191652 rows and 369 columns.\n",
      "361 columns of type 'number'.\n",
      "8 columns of type 'object'.\n",
      "20% of the data is null.\n"
     ]
    }
   ],
   "source": [
    "print('Overview of azdias:')\n",
    "dataframe_overview(azdias)\n",
    "print('')\n",
    "print('Overview of customers:')\n",
    "dataframe_overview(customers)"
   ]
  },
  {
   "cell_type": "markdown",
   "metadata": {},
   "source": [
    "### 0.1 Invalid values\n",
    "Loading the `azdias` data gives a warning that columns 18 and 19 have mixed types. Before we proceed, let's check out those columns to see what is triggering the warning."
   ]
  },
  {
   "cell_type": "code",
   "execution_count": 6,
   "metadata": {},
   "outputs": [
    {
     "data": {
      "text/plain": [
       "8      78023\n",
       "9      62578\n",
       "6      61253\n",
       "4      60185\n",
       "8.0    56418\n",
       "3      50360\n",
       "2      48276\n",
       "9.0    45599\n",
       "7      45021\n",
       "6.0    44621\n",
       "4.0    43727\n",
       "3.0    36419\n",
       "2.0    34955\n",
       "7.0    32912\n",
       "5      32292\n",
       "5.0    23018\n",
       "1      20997\n",
       "1.0    15215\n",
       "X        373\n",
       "Name: CAMEO_DEUG_2015, dtype: int64"
      ]
     },
     "execution_count": 6,
     "metadata": {},
     "output_type": "execute_result"
    }
   ],
   "source": [
    "azdias.iloc[:, 18].value_counts()"
   ]
  },
  {
   "cell_type": "code",
   "execution_count": 7,
   "metadata": {},
   "outputs": [
    {
     "data": {
      "text/plain": [
       "51      77576\n",
       "51.0    56118\n",
       "41      53459\n",
       "24      52882\n",
       "41.0    38877\n",
       "24.0    38276\n",
       "14      36524\n",
       "43      32730\n",
       "14.0    26360\n",
       "54      26207\n",
       "43.0    23942\n",
       "25      22837\n",
       "54.0    19184\n",
       "22      19173\n",
       "25.0    16791\n",
       "23      15653\n",
       "13      15272\n",
       "45      15206\n",
       "22.0    13982\n",
       "55      13842\n",
       "52      11836\n",
       "23.0    11097\n",
       "13.0    11064\n",
       "31      11041\n",
       "45.0    10926\n",
       "34      10737\n",
       "55.0    10113\n",
       "15       9832\n",
       "52.0     8706\n",
       "44       8543\n",
       "31.0     7983\n",
       "34.0     7787\n",
       "12       7645\n",
       "15.0     7142\n",
       "44.0     6277\n",
       "35       6090\n",
       "32       6067\n",
       "33       5833\n",
       "12.0     5604\n",
       "32.0     4287\n",
       "35.0     4266\n",
       "33.0     4102\n",
       "XX        373\n",
       "Name: CAMEO_INTL_2015, dtype: int64"
      ]
     },
     "execution_count": 7,
     "metadata": {},
     "output_type": "execute_result"
    }
   ],
   "source": [
    "azdias.iloc[:, 19].value_counts()"
   ]
  },
  {
   "cell_type": "markdown",
   "metadata": {},
   "source": [
    "We can see that column 18 (`CAMEO_DEUG_2015`) has 373 rows with the value `X`, and column 19 (`CAMEO_INTL_2015`) has 373 rows with the value `XX`. According to the `DIAS Attributes - Values 2017.xlsx` file these columns should only have integer values, so we should set these to NaN and set the column type to numeric. This will also fix the problem of having (for example) `35` and `35.0` counted as different values.\n",
    "\n",
    "\n",
    "Whilst no other columns raised an error due to this, let's check out all columns that have been read in as type `object`. These could be hiding similar values if the column only contains strings."
   ]
  },
  {
   "cell_type": "code",
   "execution_count": 8,
   "metadata": {},
   "outputs": [
    {
     "name": "stdout",
     "output_type": "stream",
     "text": [
      "Found 373 values matching '/X+/' in column 'CAMEO_DEU_2015'.\n",
      "Found 373 values matching '/X+/' in column 'CAMEO_DEUG_2015'.\n",
      "Found 373 values matching '/X+/' in column 'CAMEO_INTL_2015'.\n"
     ]
    },
    {
     "data": {
      "text/plain": [
       "['CAMEO_DEU_2015', 'CAMEO_DEUG_2015', 'CAMEO_INTL_2015']"
      ]
     },
     "execution_count": 8,
     "metadata": {},
     "output_type": "execute_result"
    }
   ],
   "source": [
    "# List to hold column names in\n",
    "cols_with_x = []\n",
    "\n",
    "# Iterate through columns with type object\n",
    "for col in azdias.columns[azdias.dtypes == 'object']:\n",
    "    # Count the number of values with /X+/ (i.e. X, XX)\n",
    "    xs_found = azdias[col].str.match(r'X+', na=False).sum()\n",
    "    # If found, print the column name and number found\n",
    "    if xs_found > 0:\n",
    "        print(\"Found {} values matching '/X+/' in column '{}'.\".format(xs_found, col))\n",
    "        cols_with_x.append(col)\n",
    "        \n",
    "cols_with_x"
   ]
  },
  {
   "cell_type": "markdown",
   "metadata": {},
   "source": [
    "There are three columns (`CAMEO_DEU_2015`, `CAMEO_DEUG_2015`, `CAMEO_INTL_2015`) that have invalid X or XX values. We'll adapt the code above to define a function to replace these values with NaN."
   ]
  },
  {
   "cell_type": "code",
   "execution_count": 9,
   "metadata": {},
   "outputs": [],
   "source": [
    "def replace_invalid_x_values(df):\n",
    "    ''' Replace invalid values ('X', 'XX') with np.nan and convert to numeric if possible\n",
    "    \n",
    "    Args:\n",
    "        df (DataFrame): dataframe to process\n",
    "    Returns:\n",
    "        df (DataFrame): processed dataframe\n",
    "    '''\n",
    "    # Iterate through all columns with type object\n",
    "    for col in df.columns[df.dtypes == 'object']:\n",
    "        xs_found = df[col].str.match(r'X+', na=False).sum()\n",
    "        if xs_found > 0:\n",
    "            df[col] = df[col].replace(r'X+', np.nan, regex=True)\n",
    "            print(\"Found {} values matching '/X+/' in column '{}'. replaced with NaN.\".format(xs_found, col))\n",
    "            # If possible, convert to numeric\n",
    "            df[col] = pd.to_numeric(df[col], errors='ignore')\n",
    "    \n",
    "    return df"
   ]
  },
  {
   "cell_type": "markdown",
   "metadata": {},
   "source": [
    "The `DIAS Attributes - Values 2017.xlsx` file tells us that some columns are using values other than NaN to denote missing data; such as -1, 0, or 9. We should replace these values with NaN to get a better picture of missing data in the dataset. To do this efficiently, we can use the Excel file to generate a mapping of column names to values used for unknown data."
   ]
  },
  {
   "cell_type": "code",
   "execution_count": 10,
   "metadata": {},
   "outputs": [
    {
     "data": {
      "text/html": [
       "<div>\n",
       "<style scoped>\n",
       "    .dataframe tbody tr th:only-of-type {\n",
       "        vertical-align: middle;\n",
       "    }\n",
       "\n",
       "    .dataframe tbody tr th {\n",
       "        vertical-align: top;\n",
       "    }\n",
       "\n",
       "    .dataframe thead th {\n",
       "        text-align: right;\n",
       "    }\n",
       "</style>\n",
       "<table border=\"1\" class=\"dataframe\">\n",
       "  <thead>\n",
       "    <tr style=\"text-align: right;\">\n",
       "      <th></th>\n",
       "      <th>Unnamed: 0</th>\n",
       "      <th>Attribute</th>\n",
       "      <th>Description</th>\n",
       "      <th>Value</th>\n",
       "      <th>Meaning</th>\n",
       "    </tr>\n",
       "  </thead>\n",
       "  <tbody>\n",
       "    <tr>\n",
       "      <th>0</th>\n",
       "      <td>NaN</td>\n",
       "      <td>AGER_TYP</td>\n",
       "      <td>best-ager typology</td>\n",
       "      <td>-1</td>\n",
       "      <td>unknown</td>\n",
       "    </tr>\n",
       "    <tr>\n",
       "      <th>1</th>\n",
       "      <td>NaN</td>\n",
       "      <td>NaN</td>\n",
       "      <td>NaN</td>\n",
       "      <td>0</td>\n",
       "      <td>no classification possible</td>\n",
       "    </tr>\n",
       "    <tr>\n",
       "      <th>2</th>\n",
       "      <td>NaN</td>\n",
       "      <td>NaN</td>\n",
       "      <td>NaN</td>\n",
       "      <td>1</td>\n",
       "      <td>passive elderly</td>\n",
       "    </tr>\n",
       "    <tr>\n",
       "      <th>3</th>\n",
       "      <td>NaN</td>\n",
       "      <td>NaN</td>\n",
       "      <td>NaN</td>\n",
       "      <td>2</td>\n",
       "      <td>cultural elderly</td>\n",
       "    </tr>\n",
       "    <tr>\n",
       "      <th>4</th>\n",
       "      <td>NaN</td>\n",
       "      <td>NaN</td>\n",
       "      <td>NaN</td>\n",
       "      <td>3</td>\n",
       "      <td>experience-driven elderly</td>\n",
       "    </tr>\n",
       "  </tbody>\n",
       "</table>\n",
       "</div>"
      ],
      "text/plain": [
       "   Unnamed: 0 Attribute         Description Value                     Meaning\n",
       "0         NaN  AGER_TYP  best-ager typology    -1                     unknown\n",
       "1         NaN       NaN                 NaN     0  no classification possible\n",
       "2         NaN       NaN                 NaN     1             passive elderly\n",
       "3         NaN       NaN                 NaN     2            cultural elderly\n",
       "4         NaN       NaN                 NaN     3   experience-driven elderly"
      ]
     },
     "execution_count": 10,
     "metadata": {},
     "output_type": "execute_result"
    }
   ],
   "source": [
    "# Use the provided Excel file to generate a mapping of columns to the values used for unknown data\n",
    "# Load in the Excel file\n",
    "attributes_df = pd.read_excel('DIAS Attributes - Values 2017.xlsx', skiprows=[0])\n",
    "attributes_df.head()"
   ]
  },
  {
   "cell_type": "code",
   "execution_count": 11,
   "metadata": {},
   "outputs": [
    {
     "data": {
      "text/html": [
       "<div>\n",
       "<style scoped>\n",
       "    .dataframe tbody tr th:only-of-type {\n",
       "        vertical-align: middle;\n",
       "    }\n",
       "\n",
       "    .dataframe tbody tr th {\n",
       "        vertical-align: top;\n",
       "    }\n",
       "\n",
       "    .dataframe thead th {\n",
       "        text-align: right;\n",
       "    }\n",
       "</style>\n",
       "<table border=\"1\" class=\"dataframe\">\n",
       "  <thead>\n",
       "    <tr style=\"text-align: right;\">\n",
       "      <th></th>\n",
       "      <th>Attribute</th>\n",
       "      <th>Description</th>\n",
       "      <th>Value</th>\n",
       "      <th>Meaning</th>\n",
       "    </tr>\n",
       "  </thead>\n",
       "  <tbody>\n",
       "    <tr>\n",
       "      <th>0</th>\n",
       "      <td>AGER_TYP</td>\n",
       "      <td>best-ager typology</td>\n",
       "      <td>-1</td>\n",
       "      <td>unknown</td>\n",
       "    </tr>\n",
       "    <tr>\n",
       "      <th>1</th>\n",
       "      <td>AGER_TYP</td>\n",
       "      <td>best-ager typology</td>\n",
       "      <td>0</td>\n",
       "      <td>no classification possible</td>\n",
       "    </tr>\n",
       "    <tr>\n",
       "      <th>2</th>\n",
       "      <td>AGER_TYP</td>\n",
       "      <td>best-ager typology</td>\n",
       "      <td>1</td>\n",
       "      <td>passive elderly</td>\n",
       "    </tr>\n",
       "    <tr>\n",
       "      <th>3</th>\n",
       "      <td>AGER_TYP</td>\n",
       "      <td>best-ager typology</td>\n",
       "      <td>2</td>\n",
       "      <td>cultural elderly</td>\n",
       "    </tr>\n",
       "    <tr>\n",
       "      <th>4</th>\n",
       "      <td>AGER_TYP</td>\n",
       "      <td>best-ager typology</td>\n",
       "      <td>3</td>\n",
       "      <td>experience-driven elderly</td>\n",
       "    </tr>\n",
       "  </tbody>\n",
       "</table>\n",
       "</div>"
      ],
      "text/plain": [
       "  Attribute         Description Value                     Meaning\n",
       "0  AGER_TYP  best-ager typology    -1                     unknown\n",
       "1  AGER_TYP  best-ager typology     0  no classification possible\n",
       "2  AGER_TYP  best-ager typology     1             passive elderly\n",
       "3  AGER_TYP  best-ager typology     2            cultural elderly\n",
       "4  AGER_TYP  best-ager typology     3   experience-driven elderly"
      ]
     },
     "execution_count": 11,
     "metadata": {},
     "output_type": "execute_result"
    }
   ],
   "source": [
    "# Drop the empty first column, and forward fill in the NaNs in the Attribute and Description columns\n",
    "attributes_df.drop(labels=['Unnamed: 0'], axis=1, inplace=True)\n",
    "attributes_df[['Attribute', 'Description']] = attributes_df[['Attribute', 'Description']].fillna(method='ffill')\n",
    "attributes_df.head()"
   ]
  },
  {
   "cell_type": "code",
   "execution_count": 12,
   "metadata": {},
   "outputs": [
    {
     "data": {
      "text/html": [
       "<div>\n",
       "<style scoped>\n",
       "    .dataframe tbody tr th:only-of-type {\n",
       "        vertical-align: middle;\n",
       "    }\n",
       "\n",
       "    .dataframe tbody tr th {\n",
       "        vertical-align: top;\n",
       "    }\n",
       "\n",
       "    .dataframe thead th {\n",
       "        text-align: right;\n",
       "    }\n",
       "</style>\n",
       "<table border=\"1\" class=\"dataframe\">\n",
       "  <thead>\n",
       "    <tr style=\"text-align: right;\">\n",
       "      <th></th>\n",
       "      <th>Attribute</th>\n",
       "      <th>Value</th>\n",
       "    </tr>\n",
       "  </thead>\n",
       "  <tbody>\n",
       "    <tr>\n",
       "      <th>0</th>\n",
       "      <td>AGER_TYP</td>\n",
       "      <td>-1</td>\n",
       "    </tr>\n",
       "    <tr>\n",
       "      <th>5</th>\n",
       "      <td>ALTERSKATEGORIE_GROB</td>\n",
       "      <td>-1, 0</td>\n",
       "    </tr>\n",
       "    <tr>\n",
       "      <th>11</th>\n",
       "      <td>ALTER_HH</td>\n",
       "      <td>0</td>\n",
       "    </tr>\n",
       "    <tr>\n",
       "      <th>33</th>\n",
       "      <td>ANREDE_KZ</td>\n",
       "      <td>-1, 0</td>\n",
       "    </tr>\n",
       "    <tr>\n",
       "      <th>40</th>\n",
       "      <td>BALLRAUM</td>\n",
       "      <td>-1</td>\n",
       "    </tr>\n",
       "  </tbody>\n",
       "</table>\n",
       "</div>"
      ],
      "text/plain": [
       "               Attribute  Value\n",
       "0               AGER_TYP     -1\n",
       "5   ALTERSKATEGORIE_GROB  -1, 0\n",
       "11              ALTER_HH      0\n",
       "33             ANREDE_KZ  -1, 0\n",
       "40              BALLRAUM     -1"
      ]
     },
     "execution_count": 12,
     "metadata": {},
     "output_type": "execute_result"
    }
   ],
   "source": [
    "# Filter down to only the rows concerning values for unknown data\n",
    "unknown_val_df = attributes_df[['Attribute', 'Value']][attributes_df['Meaning'].str.startswith('unknown', na=False)]\n",
    "unknown_val_df.head()"
   ]
  },
  {
   "cell_type": "code",
   "execution_count": 13,
   "metadata": {},
   "outputs": [
    {
     "data": {
      "text/plain": [
       "{'AGER_TYP': -1,\n",
       " 'ALTERSKATEGORIE_GROB': [-1, 0],\n",
       " 'ALTER_HH': 0,\n",
       " 'ANREDE_KZ': [-1, 0],\n",
       " 'BALLRAUM': -1,\n",
       " 'BIP_FLAG': -1,\n",
       " 'CAMEO_DEUG_2015': -1,\n",
       " 'CAMEO_DEUINTL_2015': -1,\n",
       " 'CJT_GESAMTTYP': 0,\n",
       " 'D19_KK_KUNDENTYP': -1,\n",
       " 'EWDICHTE': -1,\n",
       " 'FINANZTYP': -1,\n",
       " 'FINANZ_ANLEGER': -1,\n",
       " 'FINANZ_HAUSBAUER': -1,\n",
       " 'FINANZ_MINIMALIST': -1,\n",
       " 'FINANZ_SPARER': -1,\n",
       " 'FINANZ_UNAUFFAELLIGER': -1,\n",
       " 'FINANZ_VORSORGER': -1,\n",
       " 'GEBAEUDETYP': [-1, 0],\n",
       " 'GEOSCORE_KLS7': [-1, 0],\n",
       " 'HAUSHALTSSTRUKTUR': [-1, 0],\n",
       " 'HEALTH_TYP': -1,\n",
       " 'HH_EINKOMMEN_SCORE': [-1, 0],\n",
       " 'INNENSTADT': -1,\n",
       " 'KBA05_ALTER1': [-1, 9],\n",
       " 'KBA05_ALTER2': [-1, 9],\n",
       " 'KBA05_ALTER3': [-1, 9],\n",
       " 'KBA05_ALTER4': [-1, 9],\n",
       " 'KBA05_ANHANG': [-1, 9],\n",
       " 'KBA05_ANTG1': -1,\n",
       " 'KBA05_ANTG2': -1,\n",
       " 'KBA05_ANTG3': -1,\n",
       " 'KBA05_ANTG4': -1,\n",
       " 'KBA05_AUTOQUOT': [-1, 9],\n",
       " 'KBA05_BAUMAX': [-1, 0],\n",
       " 'KBA05_CCM1': [-1, 9],\n",
       " 'KBA05_CCM2': [-1, 9],\n",
       " 'KBA05_CCM3': [-1, 9],\n",
       " 'KBA05_CCM4': [-1, 9],\n",
       " 'KBA05_DIESEL': [-1, 9],\n",
       " 'KBA05_FRAU': [-1, 9],\n",
       " 'KBA05_GBZ': [-1, 0],\n",
       " 'KBA05_HERST1': [-1, 9],\n",
       " 'KBA05_HERST2': [-1, 9],\n",
       " 'KBA05_HERST3': [-1, 9],\n",
       " 'KBA05_HERST4': [-1, 9],\n",
       " 'KBA05_HERST5': [-1, 9],\n",
       " 'KBA05_HERSTTEMP': [-1, 9],\n",
       " 'KBA05_KRSAQUOT': [-1, 9],\n",
       " 'KBA05_KRSHERST1': [-1, 9],\n",
       " 'KBA05_KRSHERST2': [-1, 9],\n",
       " 'KBA05_KRSHERST3': [-1, 9],\n",
       " 'KBA05_KRSKLEIN': [-1, 9],\n",
       " 'KBA05_KRSOBER': [-1, 9],\n",
       " 'KBA05_KRSVAN': [-1, 9],\n",
       " 'KBA05_KRSZUL': [-1, 9],\n",
       " 'KBA05_KW1': [-1, 9],\n",
       " 'KBA05_KW2': [-1, 9],\n",
       " 'KBA05_KW3': [-1, 9],\n",
       " 'KBA05_MAXAH': [-1, 9],\n",
       " 'KBA05_MAXBJ': [-1, 9],\n",
       " 'KBA05_MAXHERST': [-1, 9],\n",
       " 'KBA05_MAXSEG': [-1, 9],\n",
       " 'KBA05_MAXVORB': [-1, 9],\n",
       " 'KBA05_MOD1': [-1, 9],\n",
       " 'KBA05_MOD2': [-1, 9],\n",
       " 'KBA05_MOD3': [-1, 9],\n",
       " 'KBA05_MOD4': [-1, 9],\n",
       " 'KBA05_MOD8': [-1, 9],\n",
       " 'KBA05_MODTEMP': [-1, 9],\n",
       " 'KBA05_MOTOR': [-1, 9],\n",
       " 'KBA05_MOTRAD': [-1, 9],\n",
       " 'KBA05_SEG1': [-1, 9],\n",
       " 'KBA05_SEG10': [-1, 9],\n",
       " 'KBA05_SEG2': [-1, 9],\n",
       " 'KBA05_SEG3': [-1, 9],\n",
       " 'KBA05_SEG4': [-1, 9],\n",
       " 'KBA05_SEG5': [-1, 9],\n",
       " 'KBA05_SEG6': [-1, 9],\n",
       " 'KBA05_SEG7': [-1, 9],\n",
       " 'KBA05_SEG8': [-1, 9],\n",
       " 'KBA05_SEG9': [-1, 9],\n",
       " 'KBA05_VORB0': [-1, 9],\n",
       " 'KBA05_VORB1': [-1, 9],\n",
       " 'KBA05_VORB2': [-1, 9],\n",
       " 'KBA05_ZUL1': [-1, 9],\n",
       " 'KBA05_ZUL2': [-1, 9],\n",
       " 'KBA05_ZUL3': [-1, 9],\n",
       " 'KBA05_ZUL4': [-1, 9],\n",
       " 'KBA13_ALTERHALTER_30': -1,\n",
       " 'KBA13_ALTERHALTER_45': -1,\n",
       " 'KBA13_ALTERHALTER_60': -1,\n",
       " 'KBA13_ALTERHALTER_61': -1,\n",
       " 'KBA13_AUDI': -1,\n",
       " 'KBA13_AUTOQUOTE': -1,\n",
       " 'KBA13_BJ_1999': -1,\n",
       " 'KBA13_BJ_2000': -1,\n",
       " 'KBA13_BJ_2004': -1,\n",
       " 'KBA13_BJ_2006': -1,\n",
       " 'KBA13_BJ_2008': -1,\n",
       " 'KBA13_BJ_2009': -1,\n",
       " 'KBA13_BMW': -1,\n",
       " 'KBA13_CCM_1000': -1,\n",
       " 'KBA13_CCM_1200': -1,\n",
       " 'KBA13_CCM_1400': -1,\n",
       " 'KBA13_CCM_0_1400': -1,\n",
       " 'KBA13_CCM_1500': -1,\n",
       " 'KBA13_CCM_1400_2500': -1,\n",
       " 'KBA13_CCM_1600': -1,\n",
       " 'KBA13_CCM_1800': -1,\n",
       " 'KBA13_CCM_2000': -1,\n",
       " 'KBA13_CCM_2500': -1,\n",
       " 'KBA13_CCM_2501': -1,\n",
       " 'KBA13_CCM_3000': -1,\n",
       " 'KBA13_CCM_3001': -1,\n",
       " 'KBA13_FAB_ASIEN': -1,\n",
       " 'KBA13_FAB_SONSTIGE': -1,\n",
       " 'KBA13_FIAT': -1,\n",
       " 'KBA13_FORD': -1,\n",
       " 'KBA13_HALTER_20': -1,\n",
       " 'KBA13_HALTER_25': -1,\n",
       " 'KBA13_HALTER_30': -1,\n",
       " 'KBA13_HALTER_35': -1,\n",
       " 'KBA13_HALTER_40': -1,\n",
       " 'KBA13_HALTER_45': -1,\n",
       " 'KBA13_HALTER_50': -1,\n",
       " 'KBA13_HALTER_55': -1,\n",
       " 'KBA13_HALTER_60': -1,\n",
       " 'KBA13_HALTER_65': -1,\n",
       " 'KBA13_HALTER_66': -1,\n",
       " 'KBA13_HERST_ASIEN': -1,\n",
       " 'KBA13_HERST_AUDI_VW': -1,\n",
       " 'KBA13_HERST_BMW_BENZ': -1,\n",
       " 'KBA13_HERST_EUROPA': -1,\n",
       " 'KBA13_HERST_FORD_OPEL': -1,\n",
       " 'KBA13_HERST_SONST': -1,\n",
       " 'KBA13_KMH_110': -1,\n",
       " 'KBA13_KMH_140': -1,\n",
       " 'KBA13_KMH_180': -1,\n",
       " 'KBA13_KMH_0_140': -1,\n",
       " 'KBA13_KMH_140_210': -1,\n",
       " 'KBA13_KMH_211': -1,\n",
       " 'KBA13_KMH_250': -1,\n",
       " 'KBA13_KMH_251': -1,\n",
       " 'KBA13_KRSAQUOT': -1,\n",
       " 'KBA13_KRSHERST_AUDI_VW': -1,\n",
       " 'KBA13_KRSHERST_BMW_BENZ': -1,\n",
       " 'KBA13_KRSHERST_FORD_OPEL': -1,\n",
       " 'KBA13_KRSSEG_KLEIN': -1,\n",
       " 'KBA13_KRSSEG_OBER': -1,\n",
       " 'KBA13_KRSSEG_VAN': -1,\n",
       " 'KBA13_KRSZUL_NEU': -1,\n",
       " 'KBA13_KW_30': -1,\n",
       " 'KBA13_KW_40': -1,\n",
       " 'KBA13_KW_50': -1,\n",
       " 'KBA13_KW_60': -1,\n",
       " 'KBA13_KW_0_60': -1,\n",
       " 'KBA13_KW_70': -1,\n",
       " 'KBA13_KW_61_120': -1,\n",
       " 'KBA13_KW_80': -1,\n",
       " 'KBA13_KW_90': -1,\n",
       " 'KBA13_KW_110': -1,\n",
       " 'KBA13_KW_120': -1,\n",
       " 'KBA13_KW_121': -1,\n",
       " 'KBA13_MAZDA': -1,\n",
       " 'KBA13_MERCEDES': -1,\n",
       " 'KBA13_MOTOR': -1,\n",
       " 'KBA13_NISSAN': -1,\n",
       " 'KBA13_OPEL': -1,\n",
       " 'KBA13_PEUGEOT': -1,\n",
       " 'KBA13_RENAULT': -1,\n",
       " 'KBA13_SEG_GELAENDEWAGEN': -1,\n",
       " 'KBA13_SEG_GROSSRAUMVANS': -1,\n",
       " 'KBA13_SEG_KLEINST': -1,\n",
       " 'KBA13_SEG_KLEINWAGEN': -1,\n",
       " 'KBA13_SEG_KOMPAKTKLASSE': -1,\n",
       " 'KBA13_SEG_MINIVANS': -1,\n",
       " 'KBA13_SEG_MINIWAGEN': -1,\n",
       " 'KBA13_SEG_MITTELKLASSE': -1,\n",
       " 'KBA13_SEG_OBEREMITTELKLASSE': -1,\n",
       " 'KBA13_SEG_OBERKLASSE': -1,\n",
       " 'KBA13_SEG_SONSTIGE': -1,\n",
       " 'KBA13_SEG_SPORTWAGEN': -1,\n",
       " 'KBA13_SEG_UTILITIES': -1,\n",
       " 'KBA13_SEG_VAN': -1,\n",
       " 'KBA13_SEG_WOHNMOBILE': -1,\n",
       " 'KBA13_SITZE_4': -1,\n",
       " 'KBA13_SITZE_5': -1,\n",
       " 'KBA13_SITZE_6': -1,\n",
       " 'KBA13_TOYOTA': -1,\n",
       " 'KBA13_VORB_0': -1,\n",
       " 'KBA13_VORB_1': -1,\n",
       " 'KBA13_VORB_1_2': -1,\n",
       " 'KBA13_VORB_2': -1,\n",
       " 'KBA13_VORB_3': -1,\n",
       " 'KBA13_VW': -1,\n",
       " 'KKK': [-1, 0],\n",
       " 'NATIONALITAET_KZ': [-1, 0],\n",
       " 'ORTSGR_KLS9': [-1],\n",
       " 'OST_WEST_KZ': -1,\n",
       " 'PLZ8_ANTG1': -1,\n",
       " 'PLZ8_ANTG2': -1,\n",
       " 'PLZ8_ANTG3': -1,\n",
       " 'PLZ8_ANTG4': -1,\n",
       " 'PLZ8_GBZ': -1,\n",
       " 'PLZ8_HHZ': -1,\n",
       " 'PRAEGENDE_JUGENDJAHRE': [-1, 0],\n",
       " 'REGIOTYP': [-1, 0],\n",
       " 'RELAT_AB': [-1, 9],\n",
       " 'RETOURTYP_BK_S': 0,\n",
       " 'SEMIO_DOM': [-1, 9],\n",
       " 'SEMIO_ERL': [-1, 9],\n",
       " 'SEMIO_FAM': [-1, 9],\n",
       " 'SEMIO_KAEM': [-1, 9],\n",
       " 'SEMIO_KRIT': [-1, 9],\n",
       " 'SEMIO_KULT': [-1, 9],\n",
       " 'SEMIO_LUST': [-1, 9],\n",
       " 'SEMIO_MAT': [-1, 9],\n",
       " 'SEMIO_PFLICHT': [-1, 9],\n",
       " 'SEMIO_RAT': [-1, 9],\n",
       " 'SEMIO_REL': [-1, 9],\n",
       " 'SEMIO_SOZ': [-1, 9],\n",
       " 'SEMIO_TRADV': [-1, 9],\n",
       " 'SEMIO_VERT': [-1, 9],\n",
       " 'SHOPPER_TYP': -1,\n",
       " 'SOHO_FLAG': -1,\n",
       " 'TITEL_KZ': [-1, 0],\n",
       " 'VERS_TYP': -1,\n",
       " 'WOHNDAUER_2008': [-1, 0],\n",
       " 'WOHNLAGE': -1,\n",
       " 'WACHSTUMSGEBIET_NB': [-1, 0],\n",
       " 'W_KEIT_KIND_HH': [-1, 0],\n",
       " 'ZABEOTYP': [-1, 9]}"
      ]
     },
     "execution_count": 13,
     "metadata": {},
     "output_type": "execute_result"
    }
   ],
   "source": [
    "# Convert to dict, and split out strings into lists of ints\n",
    "unknown_value_dict = dict(zip(unknown_val_df['Attribute'], unknown_val_df['Value']))\n",
    "\n",
    "for k, v in unknown_value_dict.items():\n",
    "    if type(v) == str:\n",
    "        unknown_value_dict[k] = list(map(int, list(v.split(','))))\n",
    "\n",
    "unknown_value_dict"
   ]
  },
  {
   "cell_type": "markdown",
   "metadata": {},
   "source": [
    "We can use this dictionary to replace these values in the dataframe with NaN."
   ]
  },
  {
   "cell_type": "code",
   "execution_count": 14,
   "metadata": {},
   "outputs": [],
   "source": [
    "def replace_unknown_with_nan(df, unknown_value_dict):\n",
    "    ''' Replace values in the dataframe with np.nan using the provided dict as a map\n",
    "    \n",
    "    Args:\n",
    "        df (DataFrame): dataframe to process\n",
    "        unknown_value_dict (dict): mapping of column names to values used for unknown data\n",
    "    Returns:\n",
    "        df (DataFrame): processed dataframe\n",
    "        columns_not_found (list): list of columns in the dict not found in the dataframe\n",
    "    \n",
    "    '''\n",
    "    # Keep track of any columns not found in the dataset\n",
    "    columns_not_found = []\n",
    "    \n",
    "    # Iterate through the dict of alternative values for null data, replacing with nan\n",
    "    for col_name, null_values in unknown_value_dict.items():\n",
    "        if col_name in df.columns:\n",
    "            df[col_name] = df[col_name].replace(null_values, np.nan)\n",
    "        else:\n",
    "            columns_not_found.append(col_name)\n",
    "    \n",
    "    return df, columns_not_found"
   ]
  },
  {
   "cell_type": "markdown",
   "metadata": {},
   "source": [
    "We can also use the Excel file to generate a list of columns for which we have explanations of their meanings. We cannot be sure of the meaning of any additional columns in the dataset, and should drop them."
   ]
  },
  {
   "cell_type": "code",
   "execution_count": 15,
   "metadata": {},
   "outputs": [
    {
     "name": "stdout",
     "output_type": "stream",
     "text": [
      "There are 314 columns with known meanings.\n",
      "There are 94 columns in the dataframe without a known meaning.\n",
      "['AKT_DAT_KL' 'ALTERSKATEGORIE_FEIN' 'ALTER_KIND1' 'ALTER_KIND2'\n",
      " 'ALTER_KIND3' 'ALTER_KIND4' 'ANZ_KINDER' 'ANZ_STATISTISCHE_HAUSHALTE'\n",
      " 'ARBEIT' 'CAMEO_INTL_2015' 'CJT_KATALOGNUTZER' 'CJT_TYP_1' 'CJT_TYP_2'\n",
      " 'CJT_TYP_3' 'CJT_TYP_4' 'CJT_TYP_5' 'CJT_TYP_6' 'D19_BANKEN_DIREKT'\n",
      " 'D19_BANKEN_GROSS' 'D19_BANKEN_LOKAL' 'D19_BANKEN_REST'\n",
      " 'D19_BEKLEIDUNG_GEH' 'D19_BEKLEIDUNG_REST' 'D19_BILDUNG' 'D19_BIO_OEKO'\n",
      " 'D19_BUCH_CD' 'D19_DIGIT_SERV' 'D19_DROGERIEARTIKEL' 'D19_ENERGIE'\n",
      " 'D19_FREIZEIT' 'D19_GARTEN' 'D19_HANDWERK' 'D19_HAUS_DEKO'\n",
      " 'D19_KINDERARTIKEL' 'D19_KONSUMTYP_MAX' 'D19_KOSMETIK' 'D19_LEBENSMITTEL'\n",
      " 'D19_LETZTER_KAUF_BRANCHE' 'D19_LOTTO' 'D19_NAHRUNGSERGAENZUNG'\n",
      " 'D19_RATGEBER' 'D19_REISEN' 'D19_SAMMELARTIKEL' 'D19_SCHUHE'\n",
      " 'D19_SONSTIGE' 'D19_SOZIALES' 'D19_TECHNIK' 'D19_TELKO_MOBILE'\n",
      " 'D19_TELKO_ONLINE_QUOTE_12' 'D19_TELKO_REST' 'D19_TIERARTIKEL'\n",
      " 'D19_VERSAND_REST' 'D19_VERSICHERUNGEN' 'D19_VERSI_DATUM'\n",
      " 'D19_VERSI_OFFLINE_DATUM' 'D19_VERSI_ONLINE_DATUM'\n",
      " 'D19_VERSI_ONLINE_QUOTE_12' 'D19_VOLLSORTIMENT' 'D19_WEIN_FEINKOST'\n",
      " 'DSL_FLAG' 'EINGEFUEGT_AM' 'EINGEZOGENAM_HH_JAHR' 'EXTSEL992'\n",
      " 'FIRMENDICHTE' 'GEMEINDETYP' 'HH_DELTA_FLAG' 'KBA13_ANTG1' 'KBA13_ANTG2'\n",
      " 'KBA13_ANTG3' 'KBA13_ANTG4' 'KBA13_BAUMAX' 'KBA13_CCM_1401_2500'\n",
      " 'KBA13_GBZ' 'KBA13_HHZ' 'KBA13_KMH_210' 'KK_KUNDENTYP' 'KOMBIALTER'\n",
      " 'KONSUMZELLE' 'LNR' 'MOBI_RASTER' 'RT_KEIN_ANREIZ' 'RT_SCHNAEPPCHEN'\n",
      " 'RT_UEBERGROESSE' 'SOHO_KZ' 'STRUKTURTYP' 'UMFELD_ALT' 'UMFELD_JUNG'\n",
      " 'UNGLEICHENN_FLAG' 'VERDICHTUNGSRAUM' 'VHA' 'VHN' 'VK_DHT4A' 'VK_DISTANZ'\n",
      " 'VK_ZG11']\n"
     ]
    }
   ],
   "source": [
    "known_columns = attributes_df['Attribute'].unique()\n",
    "print('There are {} columns with known meanings.'.format(len(known_columns)))\n",
    "\n",
    "unknown_columns = np.setdiff1d(azdias.columns, known_columns)\n",
    "print('There are {} columns in the dataframe without a known meaning.'.format(len(unknown_columns)))\n",
    "\n",
    "print(unknown_columns)"
   ]
  },
  {
   "cell_type": "markdown",
   "metadata": {},
   "source": [
    "### 0.2 Missing values\n",
    "Next, we'll look how much data is missing in the `azdias` dataframe, and use this as a basis to determine if any columns and rows need to be dropped."
   ]
  },
  {
   "cell_type": "code",
   "execution_count": 16,
   "metadata": {},
   "outputs": [],
   "source": [
    "# Define a function to calculate the fraction of nan values in each column\n",
    "def get_null_fractions(df, threshold, plot=False):\n",
    "    ''' Function to return the columns with fraction of null data\n",
    "        greater than the threshold value. Optionally plot the results.\n",
    "        \n",
    "    Args:\n",
    "        df (DataFrame): dataframe to analyse\n",
    "        threshold (float): return columns with fraction over this value\n",
    "        plot (boolean): whether to plot the result (default=False)\n",
    "    Return:\n",
    "        fraction_null (Series): Columns and the fraction of null values\n",
    "    \n",
    "    '''\n",
    "    \n",
    "    fraction_null = df.isna().mean()\n",
    "    fraction_null = fraction_null[fraction_null > threshold]\n",
    "    \n",
    "    if plot == True:\n",
    "        fraction_null.plot(kind=\"bar\")\n",
    "        plt.xlabel(\"Column name\")\n",
    "        plt.ylabel(\"Fraction of NaN values\")\n",
    "        plt.title(\"Columns with >{:.0%} values as NaN\".format(threshold));\n",
    "        \n",
    "    return fraction_null"
   ]
  },
  {
   "cell_type": "code",
   "execution_count": 17,
   "metadata": {},
   "outputs": [
    {
     "data": {
      "text/plain": [
       "ALTER_KIND1     0.909048\n",
       "ALTER_KIND2     0.966900\n",
       "ALTER_KIND3     0.993077\n",
       "ALTER_KIND4     0.998648\n",
       "EXTSEL992       0.733996\n",
       "KK_KUNDENTYP    0.655967\n",
       "dtype: float64"
      ]
     },
     "execution_count": 17,
     "metadata": {},
     "output_type": "execute_result"
    },
    {
     "data": {
      "image/png": "[encoded data removed]",
      "text/plain": [
       "<Figure size 432x288 with 1 Axes>"
      ]
     },
     "metadata": {
      "needs_background": "light"
     },
     "output_type": "display_data"
    }
   ],
   "source": [
    "# Show columns with more than 50% null values\n",
    "get_null_fractions(azdias, threshold=0.5, plot=True)"
   ]
  },
  {
   "cell_type": "markdown",
   "metadata": {},
   "source": [
    "We can see that there are six columns with over half null values. There may be more once we have run the function to replace the additional values for unknown data with NaN. We will later drop these columns from the dataset with the following function."
   ]
  },
  {
   "cell_type": "code",
   "execution_count": 18,
   "metadata": {},
   "outputs": [],
   "source": [
    "def drop_columns(df, columns):\n",
    "    ''' Drop columns from the dataframe\n",
    "    \n",
    "    Args:\n",
    "        df (DataFrame): dataframe to process\n",
    "        columns (list): columns to drop\n",
    "    Return:\n",
    "        df_dropped (DataFrame): dataframe with columns dropped\n",
    "    '''\n",
    "    df_dropped = df.drop(labels=columns, axis=1)\n",
    "    \n",
    "    return df_dropped"
   ]
  },
  {
   "cell_type": "markdown",
   "metadata": {},
   "source": [
    "Now let's look at missing values by row."
   ]
  },
  {
   "cell_type": "code",
   "execution_count": 19,
   "metadata": {},
   "outputs": [
    {
     "data": {
      "image/png": "[encoded data removed]",
      "text/plain": [
       "<Figure size 432x288 with 1 Axes>"
      ]
     },
     "metadata": {
      "needs_background": "light"
     },
     "output_type": "display_data"
    }
   ],
   "source": [
    "# Calculate the fraction of null values on each row of the dataframe\n",
    "fraction_null_by_row = azdias.isna().mean(axis=1)\n",
    "\n",
    "# Plot a weighted histogram of the result\n",
    "plt.hist(fraction_null_by_row, weights=np.ones(len(fraction_null_by_row)) / len(fraction_null_by_row))\n",
    "plt.xlabel(\"Fraction of null values\")\n",
    "plt.ylabel(\"Fraction of dataset\")\n",
    "plt.title(\"Histogram of null values by row\");"
   ]
  },
  {
   "cell_type": "markdown",
   "metadata": {},
   "source": [
    "We can see that most of the rows (>80%) have few missing values (<20%), so we can quite agressively remove rows with missing values without significantly impacting the size of our dataset. We'll drop rows with >20% missing values."
   ]
  },
  {
   "cell_type": "code",
   "execution_count": 20,
   "metadata": {},
   "outputs": [],
   "source": [
    "def drop_rows_with_missing_values(df, threshold):\n",
    "    ''' Drop rows in the dataframe where the fraction of missing values exceeds a threshold\n",
    "    \n",
    "    Args:\n",
    "        df (DataFrame): dataframe to process\n",
    "        threshold (float): threshold of missing values above which a row will be dropped\n",
    "    Returns:\n",
    "        df_dropped (DataFrame): processed dataframe\n",
    "    '''\n",
    "    fraction_null_by_row = df.isna().mean(axis=1)\n",
    "    # Get indices of rows where the threshold of null values is exceeded\n",
    "    idx_to_drop = fraction_null_by_row[fraction_null_by_row > threshold].index\n",
    "    # Drop these from the dataframe\n",
    "    df_dropped = df.drop(labels=idx_to_drop, axis=0)\n",
    "    \n",
    "    return df_dropped"
   ]
  },
  {
   "cell_type": "markdown",
   "metadata": {},
   "source": [
    "### 0.3 Non-numeric columns\n",
    "There are a few remaining non-numeric columns in the dataset. As most ML models work best with numeric data, we should convert them where possible."
   ]
  },
  {
   "cell_type": "code",
   "execution_count": 21,
   "metadata": {},
   "outputs": [
    {
     "data": {
      "text/html": [
       "<div>\n",
       "<style scoped>\n",
       "    .dataframe tbody tr th:only-of-type {\n",
       "        vertical-align: middle;\n",
       "    }\n",
       "\n",
       "    .dataframe tbody tr th {\n",
       "        vertical-align: top;\n",
       "    }\n",
       "\n",
       "    .dataframe thead th {\n",
       "        text-align: right;\n",
       "    }\n",
       "</style>\n",
       "<table border=\"1\" class=\"dataframe\">\n",
       "  <thead>\n",
       "    <tr style=\"text-align: right;\">\n",
       "      <th></th>\n",
       "      <th>CAMEO_DEU_2015</th>\n",
       "      <th>CAMEO_DEUG_2015</th>\n",
       "      <th>CAMEO_INTL_2015</th>\n",
       "      <th>D19_LETZTER_KAUF_BRANCHE</th>\n",
       "      <th>EINGEFUEGT_AM</th>\n",
       "      <th>OST_WEST_KZ</th>\n",
       "    </tr>\n",
       "  </thead>\n",
       "  <tbody>\n",
       "    <tr>\n",
       "      <th>0</th>\n",
       "      <td>NaN</td>\n",
       "      <td>NaN</td>\n",
       "      <td>NaN</td>\n",
       "      <td>NaN</td>\n",
       "      <td>NaN</td>\n",
       "      <td>NaN</td>\n",
       "    </tr>\n",
       "    <tr>\n",
       "      <th>1</th>\n",
       "      <td>8A</td>\n",
       "      <td>8.0</td>\n",
       "      <td>51.0</td>\n",
       "      <td>NaN</td>\n",
       "      <td>1992-02-10 00:00:00</td>\n",
       "      <td>W</td>\n",
       "    </tr>\n",
       "    <tr>\n",
       "      <th>2</th>\n",
       "      <td>4C</td>\n",
       "      <td>4.0</td>\n",
       "      <td>24.0</td>\n",
       "      <td>D19_UNBEKANNT</td>\n",
       "      <td>1992-02-12 00:00:00</td>\n",
       "      <td>W</td>\n",
       "    </tr>\n",
       "    <tr>\n",
       "      <th>3</th>\n",
       "      <td>2A</td>\n",
       "      <td>2.0</td>\n",
       "      <td>12.0</td>\n",
       "      <td>D19_UNBEKANNT</td>\n",
       "      <td>1997-04-21 00:00:00</td>\n",
       "      <td>W</td>\n",
       "    </tr>\n",
       "    <tr>\n",
       "      <th>4</th>\n",
       "      <td>6B</td>\n",
       "      <td>6.0</td>\n",
       "      <td>43.0</td>\n",
       "      <td>D19_SCHUHE</td>\n",
       "      <td>1992-02-12 00:00:00</td>\n",
       "      <td>W</td>\n",
       "    </tr>\n",
       "  </tbody>\n",
       "</table>\n",
       "</div>"
      ],
      "text/plain": [
       "  CAMEO_DEU_2015 CAMEO_DEUG_2015 CAMEO_INTL_2015 D19_LETZTER_KAUF_BRANCHE  \\\n",
       "0            NaN             NaN             NaN                      NaN   \n",
       "1             8A             8.0            51.0                      NaN   \n",
       "2             4C             4.0            24.0            D19_UNBEKANNT   \n",
       "3             2A             2.0            12.0            D19_UNBEKANNT   \n",
       "4             6B             6.0            43.0               D19_SCHUHE   \n",
       "\n",
       "         EINGEFUEGT_AM OST_WEST_KZ  \n",
       "0                  NaN         NaN  \n",
       "1  1992-02-10 00:00:00           W  \n",
       "2  1992-02-12 00:00:00           W  \n",
       "3  1997-04-21 00:00:00           W  \n",
       "4  1992-02-12 00:00:00           W  "
      ]
     },
     "execution_count": 21,
     "metadata": {},
     "output_type": "execute_result"
    }
   ],
   "source": [
    "# Look at non-numeric columns in the dataset\n",
    "azdias[azdias.columns[azdias.dtypes == 'object']].head()"
   ]
  },
  {
   "cell_type": "markdown",
   "metadata": {},
   "source": [
    "We know from earlier that:\n",
    "* `CAMEO_DEUG_2015` and `CAMEO_INTL_2015` will be numeric once we have run our cleaning function, and\n",
    "* `D19_LETZTER_KAUF_BRANCHE` and `EINGEFUEGT_AM` are on the list of unknown columns generated earlier, and will be dropped, and\n",
    "* `CAMEO_DEU_2015` is a non-numeric column.\n",
    "\n",
    "Let's look at the remaining column, `OST_WEST_KZ`."
   ]
  },
  {
   "cell_type": "code",
   "execution_count": 22,
   "metadata": {},
   "outputs": [
    {
     "name": "stdout",
     "output_type": "stream",
     "text": [
      "W    629528\n",
      "O    168545\n",
      "Name: OST_WEST_KZ, dtype: int64\n"
     ]
    }
   ],
   "source": [
    "print(azdias['OST_WEST_KZ'].value_counts())"
   ]
  },
  {
   "cell_type": "markdown",
   "metadata": {},
   "source": [
    "`CAMEO_DEU_2015` and `OST_WEST_KZ` can be simply encoded numerically using sklearn's `LabelEncoder` function."
   ]
  },
  {
   "cell_type": "code",
   "execution_count": 23,
   "metadata": {},
   "outputs": [],
   "source": [
    "def encode_categorical_columns(df, columns, encoders_to_use=None):\n",
    "    ''' Encode categorical columns with sklearn's LabelEncoder function\n",
    "    \n",
    "    Args:\n",
    "        df (DataFrame): dataframe to process\n",
    "        columns: categorical columns to encode\n",
    "        encoders_to_use (list): list of pre-fitted encoders to use, otherwise will be generated (default None)\n",
    "    Returns:\n",
    "        df (DataFrame): dataframe with columns encoded\n",
    "        encoders_used (list): list of fitted encoders used\n",
    "    '''\n",
    "    \n",
    "    encoders_used = []\n",
    "    \n",
    "    for i, col in enumerate(columns):\n",
    "        print(\"Encoding column '{}'... \".format(col), end=\"\")\n",
    "        if encoders_to_use is None:\n",
    "            le = preprocessing.LabelEncoder()\n",
    "            le.fit(df[col].dropna().unique())\n",
    "        else:\n",
    "            le = encoders_to_use[i]\n",
    "            print(\"Using existing encoder... \", end=\"\")\n",
    "        df[col] = le.transform(df[col])\n",
    "        encoders_used.append(le)\n",
    "        print(\"Complete.\")\n",
    "        \n",
    "    return df, encoders_used"
   ]
  },
  {
   "cell_type": "markdown",
   "metadata": {},
   "source": [
    "### 0.4 Imputing missing values\n",
    "For the remaining missing values in the dataset we can fill with the modal value."
   ]
  },
  {
   "cell_type": "code",
   "execution_count": 24,
   "metadata": {},
   "outputs": [],
   "source": [
    "def impute_with_mode(df):\n",
    "    ''' Impute missing values in the dataframe with the most frequent value.\n",
    "        Uses sklearn's SimpleImputer.\n",
    "    \n",
    "    Args:\n",
    "        df (DataFrame): dataframe to process\n",
    "    Returns:\n",
    "        df (DataFrame): dataframe with values imputed\n",
    "    \n",
    "    '''\n",
    "    imputer = SimpleImputer(strategy='most_frequent', missing_values=np.nan)\n",
    "    imputer = imputer.fit(df)\n",
    "    \n",
    "    df.iloc[:,:] = imputer.transform(df)\n",
    "    \n",
    "    return df"
   ]
  },
  {
   "cell_type": "markdown",
   "metadata": {},
   "source": [
    "### 0.5 Bringing it all together\n",
    "Now we can bring all of the steps together into a single function that will:\n",
    "1. Remove invalid values (e.g. X, XX)\n",
    "2. Replace values used for unknown data with NaN\n",
    "3. Drop columns for which we don't know their meaning\n",
    "4. Identify and drop columns and rows with lots of missing values\n",
    "5. Drop or encode non-numeric columns\n",
    "6. Impute missing values"
   ]
  },
  {
   "cell_type": "code",
   "execution_count": 25,
   "metadata": {},
   "outputs": [],
   "source": [
    "cat_cols_to_encode = ['CAMEO_DEU_2015', 'OST_WEST_KZ']\n",
    "\n",
    "def clean_df(df, cols_to_encode, columns_to_drop=None, col_nan_threshold=0.5, row_nan_threshold=0.2, encoders=None):\n",
    "    ''' Clean dataframe\n",
    "    \n",
    "    Args:\n",
    "        df (DataFrame): DataFrame to clean\n",
    "        cols_to_encode (list): list of non-numeric columns to encode numerically.\n",
    "        columns_to_drop (list): list of columns to drop, if known.\n",
    "            Otherwise columns with null fraction > col_nan_threshold will be dropped (default None).\n",
    "        col_nan_threshold (float): fraction of null values allowed before column is dropped (default 0.5).\n",
    "        row_nan_threshold (float): fraction of null values allowed before row is dropped (default 0.2).\n",
    "        encoders (list): list of pre-fitted encoders to use with coles_to_encode (default None)\n",
    "    Returns:\n",
    "        df_clean (DataFrame): cleaned DataFrame\n",
    "        cols_with_missing (list): list of columns with null fraction > col_nan_threshold that were dropped.\n",
    "        encoders (list): list of fitted encoders used with coles_to_encode\n",
    "    \n",
    "    '''\n",
    "    # Replace invalid X values\n",
    "    print('Replacing invalid X values... ')\n",
    "    df_clean = replace_invalid_x_values(df)\n",
    "    print('Complete.')\n",
    "\n",
    "    # Replace values used for unknown data with np.nan\n",
    "    print('Replacing unknown values with NaN... ', end='')\n",
    "    df_clean, _ = replace_unknown_with_nan(df_clean, unknown_value_dict)\n",
    "    print('Complete.')\n",
    "\n",
    "    # Drop columns for which we don't know their meaning\n",
    "    print('Dropping unknown columns... ', end='')\n",
    "    df_clean = drop_columns(df_clean, unknown_columns)\n",
    "    print('Complete.')\n",
    "\n",
    "    # Find columns with nan fraction over threshold, and drop\n",
    "    # If columns passed as argument, use these instead\n",
    "    if columns_to_drop is None:\n",
    "        cols_with_missing = get_null_fractions(df_clean, threshold=col_nan_threshold)\n",
    "    else:\n",
    "        cols_with_missing = columns_to_drop\n",
    "\n",
    "    print('Finding and dropping columns with over {:.0%} NaN... '.format(col_nan_threshold), end='')\n",
    "    df_clean = drop_columns(df_clean, cols_with_missing.index)\n",
    "    print('Complete.')\n",
    "\n",
    "    # Find rows with nan fraction over threshold, and drop\n",
    "    print('Finding and dropping rows with over {:.0%} NaN... '.format(row_nan_threshold), end='')\n",
    "    df_clean = drop_rows_with_missing_values(df_clean, threshold=row_nan_threshold)\n",
    "    print('Complete.')\n",
    "\n",
    "    # Impute nan values with most frequent value\n",
    "    print('Imputing NaN values with most frequent values... ', end='')\n",
    "    df_clean = impute_with_mode(df_clean)\n",
    "    print('Complete.')\n",
    "\n",
    "    # Encode non-numeric columns, using pre-fitted encoders if given\n",
    "    print('Encoding non-numeric columns... ')\n",
    "    if encoders is None:\n",
    "        df_clean, encoders = encode_categorical_columns(df_clean, cat_cols_to_encode)\n",
    "    else:\n",
    "        df_clean, encoders = encode_categorical_columns(df_clean, cat_cols_to_encode, encoders_to_use=encoders)\n",
    "    print('Complete.')\n",
    "\n",
    "    # Return cleaned dataframe\n",
    "    print('Cleaned dataframe returned.')\n",
    "    return df_clean, cols_with_missing, encoders\n",
    "\n",
    "def clean_dataframes(df_azdias, df_customers, cols_to_encode):\n",
    "    ''' Cleans the two dataframes, dropping same columns in df_customers as found in df_azdias\n",
    "    \n",
    "    Args:\n",
    "        df_azdias (DataFrame): DataFrame of general population\n",
    "        df_customers (DataFrame): DataFrame of customers\n",
    "        cols_to_encode (list): list of non-numeric columns to encode numerically \n",
    "    Returns:\n",
    "        df_azdias_clean (DataFrame): Cleaned dataframe of general population\n",
    "        df_customers_clean (DataFrame): Cleaned dataframe of customers\n",
    "    '''\n",
    "    \n",
    "    print('Cleaning azdias dataframe...')\n",
    "    df_azdias_clean, cols_to_drop, encoders = clean_df(df_azdias, cat_cols_to_encode)\n",
    "    print('==========')\n",
    "    print('Cleaning customers dataframe...')\n",
    "    df_customers_clean, _, _ = clean_df(df_customers, cat_cols_to_encode, cols_to_drop, encoders=encoders)\n",
    "\n",
    "    # Return cleaned dataframe\n",
    "    return df_azdias_clean, df_customers_clean"
   ]
  },
  {
   "cell_type": "code",
   "execution_count": 26,
   "metadata": {},
   "outputs": [
    {
     "name": "stdout",
     "output_type": "stream",
     "text": [
      "Cleaning azdias dataframe...\n",
      "Replacing invalid X values... \n",
      "Found 373 values matching '/X+/' in column 'CAMEO_DEU_2015'. replaced with NaN.\n",
      "Found 373 values matching '/X+/' in column 'CAMEO_DEUG_2015'. replaced with NaN.\n",
      "Found 373 values matching '/X+/' in column 'CAMEO_INTL_2015'. replaced with NaN.\n",
      "Complete.\n",
      "Replacing unknown values with NaN... Complete.\n",
      "Dropping unknown columns... Complete.\n",
      "Finding and dropping columns with over 50% NaN... Complete.\n",
      "Finding and dropping rows with over 20% NaN... Complete.\n",
      "Imputing NaN values with most frequent values... Complete.\n",
      "Encoding non-numeric columns... \n",
      "Encoding column 'CAMEO_DEU_2015'... Complete.\n",
      "Encoding column 'OST_WEST_KZ'... Complete.\n",
      "Complete.\n",
      "Cleaned dataframe returned.\n",
      "==========\n",
      "Cleaning customers dataframe...\n",
      "Replacing invalid X values... \n",
      "Found 126 values matching '/X+/' in column 'CAMEO_DEU_2015'. replaced with NaN.\n",
      "Found 126 values matching '/X+/' in column 'CAMEO_DEUG_2015'. replaced with NaN.\n",
      "Found 126 values matching '/X+/' in column 'CAMEO_INTL_2015'. replaced with NaN.\n",
      "Complete.\n",
      "Replacing unknown values with NaN... Complete.\n",
      "Dropping unknown columns... Complete.\n",
      "Finding and dropping columns with over 50% NaN... Complete.\n",
      "Finding and dropping rows with over 20% NaN... Complete.\n",
      "Imputing NaN values with most frequent values... Complete.\n",
      "Encoding non-numeric columns... \n",
      "Encoding column 'CAMEO_DEU_2015'... Using existing encoder... Complete.\n",
      "Encoding column 'OST_WEST_KZ'... Using existing encoder... Complete.\n",
      "Complete.\n",
      "Cleaned dataframe returned.\n"
     ]
    }
   ],
   "source": [
    "azdias_clean, customers_clean = clean_dataframes(azdias, customers, cat_cols_to_encode)"
   ]
  },
  {
   "cell_type": "markdown",
   "metadata": {},
   "source": [
    "Now that we've cleaned the dataframes, let's re-run the overview function to see how they are looking."
   ]
  },
  {
   "cell_type": "code",
   "execution_count": 27,
   "metadata": {},
   "outputs": [
    {
     "name": "stdout",
     "output_type": "stream",
     "text": [
      "Overview of azdias_clean:\n",
      "737288 rows and 269 columns.\n",
      "269 columns of type 'number'.\n",
      "0 columns of type 'object'.\n",
      "0% of the data is null.\n",
      "\n",
      "Overview of customers_clean:\n",
      "134246 rows and 272 columns.\n",
      "270 columns of type 'number'.\n",
      "2 columns of type 'object'.\n",
      "0% of the data is null.\n"
     ]
    }
   ],
   "source": [
    "print('Overview of azdias_clean:')\n",
    "dataframe_overview(azdias_clean)\n",
    "print('')\n",
    "print('Overview of customers_clean:')\n",
    "dataframe_overview(customers_clean)"
   ]
  },
  {
   "cell_type": "markdown",
   "metadata": {},
   "source": [
    "Great! We've got no null values, and the only non-numeric columns are two of the extra columns in the customers dataframe (expected)."
   ]
  },
  {
   "cell_type": "markdown",
   "metadata": {},
   "source": [
    "## Part 1: Customer Segmentation Report\n",
    "\n",
    "The main bulk of your analysis will come in this part of the project. Here, you should use unsupervised learning techniques to describe the relationship between the demographics of the company's existing customers and the general population of Germany. By the end of this part, you should be able to describe parts of the general population that are more likely to be part of the mail-order company's main customer base, and which parts of the general population are less so."
   ]
  },
  {
   "cell_type": "markdown",
   "metadata": {},
   "source": [
    "To describe the relationship between the demographics of the company's existing customers and the general population of Germany we will use *k*-means clustering. To reduce the computational complexity we first want to reduce the dimensionality of the datasets. We will do this with PCA (Principal Component Analysis); identifying the aspects of the data that explain the majority of the variance seen in the data."
   ]
  },
  {
   "cell_type": "markdown",
   "metadata": {},
   "source": [
    "### 1.1 Principal Component Analysis\n",
    "To perform PCA, we first need to scale the data such that each column has the same variance. We can use sklearn's [`StandardScaler`](https://scikit-learn.org/stable/modules/generated/sklearn.preprocessing.StandardScaler.html) to do this."
   ]
  },
  {
   "cell_type": "code",
   "execution_count": 28,
   "metadata": {},
   "outputs": [],
   "source": [
    "scaler = preprocessing.StandardScaler()\n",
    "azdias_scaled = scaler.fit(azdias_clean).transform(azdias_clean)"
   ]
  },
  {
   "cell_type": "markdown",
   "metadata": {},
   "source": [
    "Now we can apply PCA, and look at how the number of components relates to the level of explained variance."
   ]
  },
  {
   "cell_type": "code",
   "execution_count": 29,
   "metadata": {},
   "outputs": [
    {
     "data": {
      "image/png": "[encoded data removed]",
      "text/plain": [
       "<Figure size 432x288 with 1 Axes>"
      ]
     },
     "metadata": {
      "needs_background": "light"
     },
     "output_type": "display_data"
    }
   ],
   "source": [
    "pca = PCA()\n",
    "pca.fit(azdias_scaled)\n",
    "\n",
    "# Plot explained variance against number of components\n",
    "cum_var = np.cumsum(pca.explained_variance_ratio_)\n",
    "plt.plot(cum_var)\n",
    "plt.xlabel('Number of components')\n",
    "plt.ylabel('Explained variance')\n",
    "plt.title('Explained variance vs. number of components');"
   ]
  },
  {
   "cell_type": "code",
   "execution_count": 30,
   "metadata": {},
   "outputs": [
    {
     "name": "stdout",
     "output_type": "stream",
     "text": [
      "104 components can be used to explain 85% of the variance.\n"
     ]
    }
   ],
   "source": [
    "var_threshold = 0.85\n",
    "num_components = np.where(cum_var > 0.85)[0][0]\n",
    "\n",
    "print('{} components can be used to explain {:.0%} of the variance.'.format(num_components, var_threshold))"
   ]
  },
  {
   "cell_type": "markdown",
   "metadata": {},
   "source": [
    "We can see from the PCA analysis that we only need 104 components to explain 85% of the variance in the dataset. We can repeat the PCA process with this number of components to produce a reduced dataset for use with *k*-means clustering."
   ]
  },
  {
   "cell_type": "code",
   "execution_count": 31,
   "metadata": {},
   "outputs": [],
   "source": [
    "pca = PCA(n_components=num_components)\n",
    "azdias_reduced = pca.fit(azdias_scaled).transform(azdias_scaled)"
   ]
  },
  {
   "cell_type": "code",
   "execution_count": 32,
   "metadata": {},
   "outputs": [
    {
     "name": "stdout",
     "output_type": "stream",
     "text": [
      "Shape of reduced dataset: (737288, 104)\n",
      "85% variance explained.\n"
     ]
    }
   ],
   "source": [
    "# Verify that the reduced dataset has the properties we expect\n",
    "print('Shape of reduced dataset: {}'.format(azdias_reduced.shape))\n",
    "print('{:.0%} variance explained.'.format(np.sum(pca.explained_variance_ratio_)))"
   ]
  },
  {
   "cell_type": "markdown",
   "metadata": {},
   "source": [
    "### 1.2 *k*-means clustering\n",
    "We can now apply *k*-means clustering to the reduced dataset. The optimal number of clusters, *k*, can be determined by using the elbow method. We will run through a range of number of clusters, and store the interia (sum of squared distances of samples to their closest cluster center) for each. By plotting this we will find the lowest value of *k* that provides a good (low) intertia value. "
   ]
  },
  {
   "cell_type": "code",
   "execution_count": 33,
   "metadata": {},
   "outputs": [
    {
     "name": "stdout",
     "output_type": "stream",
     "text": [
      "1 clusters, inertia=168141301.\n",
      "2 clusters, inertia=156191054.\n",
      "3 clusters, inertia=150792868.\n",
      "4 clusters, inertia=146416100.\n",
      "5 clusters, inertia=142988209.\n",
      "6 clusters, inertia=140893572.\n",
      "7 clusters, inertia=139148214.\n",
      "8 clusters, inertia=137483608.\n",
      "9 clusters, inertia=135957700.\n",
      "10 clusters, inertia=134800223.\n",
      "11 clusters, inertia=133786820.\n",
      "12 clusters, inertia=132942911.\n",
      "13 clusters, inertia=132192898.\n",
      "14 clusters, inertia=131519088.\n",
      "15 clusters, inertia=130902626.\n"
     ]
    }
   ],
   "source": [
    "# Range of k values to test\n",
    "k_range = range(1,16)\n",
    "# List to store the inertia values in\n",
    "inertias = []\n",
    "# Iterate through k values, storing inertia values\n",
    "for k in k_range:\n",
    "    kmc = KMeans(n_clusters=k, init='k-means++')\n",
    "    kmc.fit(azdias_reduced)\n",
    "    inertias.append(kmc.inertia_)\n",
    "    print('{} clusters, inertia={:.0f}.'.format(k, kmc.inertia_))"
   ]
  },
  {
   "cell_type": "code",
   "execution_count": 34,
   "metadata": {},
   "outputs": [
    {
     "data": {
      "image/png": "[encoded data removed]",
      "text/plain": [
       "<Figure size 432x288 with 1 Axes>"
      ]
     },
     "metadata": {
      "needs_background": "light"
     },
     "output_type": "display_data"
    }
   ],
   "source": [
    "# Plot inertia vs. the number of clusters\n",
    "plt.plot(k_range, inertias, '-o')\n",
    "plt.xlabel('Number of clusters')\n",
    "plt.ylabel('Inertia')\n",
    "plt.title('Inertia vs. number of clusters')\n",
    "plt.xticks(k_range);"
   ]
  },
  {
   "cell_type": "markdown",
   "metadata": {},
   "source": [
    "Whilst there isn't a sharp 'elbow', we can see that by *k*=10 the curve has flattened considerably. We will use this value."
   ]
  },
  {
   "cell_type": "code",
   "execution_count": 35,
   "metadata": {},
   "outputs": [],
   "source": [
    "k_clusters = 10"
   ]
  },
  {
   "cell_type": "markdown",
   "metadata": {},
   "source": [
    "Using the azdias dataset we've determined:\n",
    "\n",
    "1. The number of components to use in PCA to reduce the dimensionality, and\n",
    "2. The number of clusters to use in *k*-means clustering.\n",
    "\n",
    "We can now create a pipeline with all of the required steps (scale, reduce, cluster). We will `fit()` the pipeline using the azdias dataset, and then use `predict()` on both datasets."
   ]
  },
  {
   "cell_type": "code",
   "execution_count": 36,
   "metadata": {},
   "outputs": [],
   "source": [
    "# Define the pipeline of transformations required\n",
    "# Setting a static random_state for PCA and KMeans to give repeatable output\n",
    "pipeline = Pipeline([\n",
    "    ('scale', preprocessing.StandardScaler()),\n",
    "    ('reduce', PCA(n_components=num_components, random_state=42)),\n",
    "    ('cluster', KMeans(n_clusters=k_clusters, init='k-means++', random_state=21))\n",
    "])\n",
    "\n",
    "# Fit the pipeline on the azdias data\n",
    "pipeline.fit(azdias_clean)\n",
    "\n",
    "# Predict to get the clustered data\n",
    "azdias_clustered = pipeline.predict(azdias_clean)\n",
    "azdias_clustered_df = pd.DataFrame(azdias_clustered, columns=['Cluster'])\n",
    "\n",
    "# For the customers data, select only columns that are in the azdias dataset (i.e. not the extra 3)\n",
    "customers_clustered = pipeline.predict(customers_clean[azdias_clean.columns])\n",
    "customers_clustered_df = pd.DataFrame(customers_clustered, columns=['Cluster'])"
   ]
  },
  {
   "cell_type": "code",
   "execution_count": 37,
   "metadata": {},
   "outputs": [
    {
     "data": {
      "image/png": "[encoded data removed]",
      "text/plain": [
       "<Figure size 432x288 with 1 Axes>"
      ]
     },
     "metadata": {
      "needs_background": "light"
     },
     "output_type": "display_data"
    }
   ],
   "source": [
    "azdias_counts = azdias_clustered_df.value_counts().sort_index()\n",
    "\n",
    "plt.bar(np.arange(k_clusters)+1, azdias_counts.values)\n",
    "plt.xticks(np.arange(k_clusters)+1)\n",
    "plt.xlabel('Cluster')\n",
    "plt.ylabel('Count')\n",
    "plt.title('Count of records in each cluster (azdias)');"
   ]
  },
  {
   "cell_type": "code",
   "execution_count": 38,
   "metadata": {},
   "outputs": [
    {
     "data": {
      "image/png": "[encoded data removed]",
      "text/plain": [
       "<Figure size 432x288 with 1 Axes>"
      ]
     },
     "metadata": {
      "needs_background": "light"
     },
     "output_type": "display_data"
    }
   ],
   "source": [
    "customers_counts = customers_clustered_df.value_counts().sort_index()\n",
    "\n",
    "plt.bar(np.arange(k_clusters)+1, customers_counts.values)\n",
    "plt.xticks(np.arange(k_clusters)+1)\n",
    "plt.xlabel('Cluster')\n",
    "plt.ylabel('Count')\n",
    "plt.title('Count of records in each cluster (customers)');"
   ]
  },
  {
   "cell_type": "markdown",
   "metadata": {},
   "source": [
    "### 1.3 Comparison of customers to overall population\n",
    "Now that we have clustered both the overall population data and the customers data, we can compare them and determine which parts of the population are more or less likely to be customers."
   ]
  },
  {
   "cell_type": "code",
   "execution_count": 39,
   "metadata": {},
   "outputs": [
    {
     "data": {
      "text/html": [
       "<div>\n",
       "<style scoped>\n",
       "    .dataframe tbody tr th:only-of-type {\n",
       "        vertical-align: middle;\n",
       "    }\n",
       "\n",
       "    .dataframe tbody tr th {\n",
       "        vertical-align: top;\n",
       "    }\n",
       "\n",
       "    .dataframe thead th {\n",
       "        text-align: right;\n",
       "    }\n",
       "</style>\n",
       "<table border=\"1\" class=\"dataframe\">\n",
       "  <thead>\n",
       "    <tr style=\"text-align: right;\">\n",
       "      <th></th>\n",
       "      <th>Population Abs.</th>\n",
       "      <th>Customers Abs.</th>\n",
       "      <th>Population %</th>\n",
       "      <th>Customers %</th>\n",
       "      <th>Delta</th>\n",
       "    </tr>\n",
       "  </thead>\n",
       "  <tbody>\n",
       "    <tr>\n",
       "      <th>1</th>\n",
       "      <td>57924</td>\n",
       "      <td>6222</td>\n",
       "      <td>7.856360</td>\n",
       "      <td>4.634775</td>\n",
       "      <td>-3.221585</td>\n",
       "    </tr>\n",
       "    <tr>\n",
       "      <th>2</th>\n",
       "      <td>94448</td>\n",
       "      <td>1138</td>\n",
       "      <td>12.810191</td>\n",
       "      <td>0.847698</td>\n",
       "      <td>-11.962493</td>\n",
       "    </tr>\n",
       "    <tr>\n",
       "      <th>3</th>\n",
       "      <td>108734</td>\n",
       "      <td>35120</td>\n",
       "      <td>14.747833</td>\n",
       "      <td>26.160928</td>\n",
       "      <td>11.413096</td>\n",
       "    </tr>\n",
       "    <tr>\n",
       "      <th>4</th>\n",
       "      <td>75606</td>\n",
       "      <td>1969</td>\n",
       "      <td>10.254609</td>\n",
       "      <td>1.466710</td>\n",
       "      <td>-8.787898</td>\n",
       "    </tr>\n",
       "    <tr>\n",
       "      <th>5</th>\n",
       "      <td>96289</td>\n",
       "      <td>32219</td>\n",
       "      <td>13.059890</td>\n",
       "      <td>23.999970</td>\n",
       "      <td>10.940080</td>\n",
       "    </tr>\n",
       "    <tr>\n",
       "      <th>6</th>\n",
       "      <td>49343</td>\n",
       "      <td>3386</td>\n",
       "      <td>6.692500</td>\n",
       "      <td>2.522235</td>\n",
       "      <td>-4.170265</td>\n",
       "    </tr>\n",
       "    <tr>\n",
       "      <th>7</th>\n",
       "      <td>56556</td>\n",
       "      <td>2697</td>\n",
       "      <td>7.670815</td>\n",
       "      <td>2.008998</td>\n",
       "      <td>-5.661817</td>\n",
       "    </tr>\n",
       "    <tr>\n",
       "      <th>8</th>\n",
       "      <td>67140</td>\n",
       "      <td>30102</td>\n",
       "      <td>9.106347</td>\n",
       "      <td>22.423014</td>\n",
       "      <td>13.316668</td>\n",
       "    </tr>\n",
       "    <tr>\n",
       "      <th>9</th>\n",
       "      <td>37480</td>\n",
       "      <td>5484</td>\n",
       "      <td>5.083495</td>\n",
       "      <td>4.085038</td>\n",
       "      <td>-0.998457</td>\n",
       "    </tr>\n",
       "    <tr>\n",
       "      <th>10</th>\n",
       "      <td>93768</td>\n",
       "      <td>15909</td>\n",
       "      <td>12.717961</td>\n",
       "      <td>11.850632</td>\n",
       "      <td>-0.867329</td>\n",
       "    </tr>\n",
       "  </tbody>\n",
       "</table>\n",
       "</div>"
      ],
      "text/plain": [
       "    Population Abs.  Customers Abs.  Population %  Customers %      Delta\n",
       "1             57924            6222      7.856360     4.634775  -3.221585\n",
       "2             94448            1138     12.810191     0.847698 -11.962493\n",
       "3            108734           35120     14.747833    26.160928  11.413096\n",
       "4             75606            1969     10.254609     1.466710  -8.787898\n",
       "5             96289           32219     13.059890    23.999970  10.940080\n",
       "6             49343            3386      6.692500     2.522235  -4.170265\n",
       "7             56556            2697      7.670815     2.008998  -5.661817\n",
       "8             67140           30102      9.106347    22.423014  13.316668\n",
       "9             37480            5484      5.083495     4.085038  -0.998457\n",
       "10            93768           15909     12.717961    11.850632  -0.867329"
      ]
     },
     "execution_count": 39,
     "metadata": {},
     "output_type": "execute_result"
    }
   ],
   "source": [
    "# Combine the cluster information into a single df, and calculate proportions and differences\n",
    "df_clusters = pd.DataFrame(index=np.arange(k_clusters)+1, columns=['Population Abs.', 'Customers Abs.'])\n",
    "# Insert absolute counts of each cluster\n",
    "df_clusters['Population Abs.'] = azdias_counts.values\n",
    "df_clusters['Customers Abs.'] = customers_counts.values\n",
    "# Normalise relative to number of records in each dataset\n",
    "df_clusters['Population %'] = 100*df_clusters['Population Abs.'] / azdias_counts.sum()\n",
    "df_clusters['Customers %'] = 100*df_clusters['Customers Abs.'] / customers_counts.sum()\n",
    "# Calculate the difference between the customers and population dataset\n",
    "df_clusters['Delta'] = df_clusters['Customers %']-df_clusters['Population %']\n",
    "\n",
    "df_clusters"
   ]
  },
  {
   "cell_type": "code",
   "execution_count": 40,
   "metadata": {},
   "outputs": [
    {
     "data": {
      "image/png": "[encoded data removed]",
      "text/plain": [
       "<Figure size 432x288 with 1 Axes>"
      ]
     },
     "metadata": {
      "needs_background": "light"
     },
     "output_type": "display_data"
    }
   ],
   "source": [
    "# Plot the % of records in each cluster for both the customers and overall population\n",
    "plt.bar([x-0.1 for x in df_clusters.index], height=df_clusters['Population %'], width=0.2)\n",
    "plt.bar([x+0.1 for x in df_clusters.index], height=df_clusters['Customers %'], width=0.2)\n",
    "plt.xticks(df_clusters.index)\n",
    "plt.xlabel('Cluster')\n",
    "plt.ylabel('% of records')\n",
    "plt.legend(['Population', 'Customers']);"
   ]
  },
  {
   "cell_type": "markdown",
   "metadata": {},
   "source": [
    "We can see that there are significant differences. These will be easier to see if we just plot the sorted differences."
   ]
  },
  {
   "cell_type": "code",
   "execution_count": 41,
   "metadata": {},
   "outputs": [
    {
     "data": {
      "image/png": "[encoded data removed]",
      "text/plain": [
       "<Figure size 432x288 with 1 Axes>"
      ]
     },
     "metadata": {
      "needs_background": "light"
     },
     "output_type": "display_data"
    }
   ],
   "source": [
    "# Sort the dataframe by the size of the difference\n",
    "df_clusters = df_clusters.sort_values(by='Delta', ascending=False)\n",
    "\n",
    "# Plot the differences between the customers data and the overall population\n",
    "df_clusters['Delta'].plot.bar()\n",
    "plt.xlabel('Cluster')\n",
    "plt.ylabel('pp difference')\n",
    "plt.title('Difference between customers and overall population');"
   ]
  },
  {
   "cell_type": "code",
   "execution_count": 42,
   "metadata": {},
   "outputs": [
    {
     "name": "stdout",
     "output_type": "stream",
     "text": [
      "Clusters [8, 3] have higher representation in the customers dataset.\n",
      "Clusters [4, 2] have lower representation in the customers dataset.\n"
     ]
    }
   ],
   "source": [
    "# Pull out the top and bottom two clusters\n",
    "top_two = list(df_clusters.index[:2])\n",
    "bottom_two = list(df_clusters.index[-2:])\n",
    "\n",
    "print('Clusters {} have higher representation in the customers dataset.'.format(top_two))\n",
    "print('Clusters {} have lower representation in the customers dataset.'.format(bottom_two))"
   ]
  },
  {
   "cell_type": "markdown",
   "metadata": {},
   "source": [
    "### 1.4 Cluster meanings"
   ]
  },
  {
   "cell_type": "markdown",
   "metadata": {},
   "source": [
    "We know now which clusters are over- and under-represented in the customers dataset versus the general population. To interpret the meanings of these clusters, and therefore understand the demographic factors that make someone more or less likely to be a customer, we can run the inverse of the steps in the pipeline to get back to the original, untransformed data."
   ]
  },
  {
   "cell_type": "code",
   "execution_count": 43,
   "metadata": {},
   "outputs": [],
   "source": [
    "def sorted_columns_from_cluster(pl, cluster):\n",
    "    ''' Invert the pipeline operations to recover data in original form,\n",
    "        and sort by most impactful columns for a given cluster.\n",
    "        \n",
    "    Args:\n",
    "        pl (Pipeline): pipeline to invert\n",
    "        cluster (int): cluster number to investigate\n",
    "    Returns:\n",
    "        cluster_df (DataFrame): DataFrame with column names as index, scaled\n",
    "        and unscaled values, sorted by scaled value descending\n",
    "    '''\n",
    "    # Get scale, reduce, and cluster steps from pipeline\n",
    "    scl = pl.named_steps['scale']\n",
    "    pca = pl.named_steps['reduce']\n",
    "    kmc = pl.named_steps['cluster']\n",
    "    \n",
    "    # Invert the PCA transform on the cluster centres. Gives scaled values.\n",
    "    inv_cluster = pca.inverse_transform(kmc.cluster_centers_)\n",
    "    # Invert the scaling transform on the cluster centers. Gives unscaled values.\n",
    "    inv_scale = scl.inverse_transform(inv_cluster)\n",
    "    \n",
    "    # Put the values for the selected cluster into a dataframe\n",
    "    cluster_df = pd.DataFrame(inv_cluster[cluster-1], index=azdias_clean.columns, columns=['Scaled Value'])\n",
    "    cluster_df['Value'] = inv_scale[cluster-1]\n",
    "    \n",
    "    # Sort by the scaled value - largest impact first\n",
    "    cluster_df.sort_values(by='Scaled Value', ascending=False, inplace=True)\n",
    "    \n",
    "    return cluster_df\n",
    "\n",
    "def display_cluster_meaning(pl, cluster_numbers, display_n=5):\n",
    "    ''' Displays the top indicators for a given cluster number by inverting the\n",
    "        steps of the pipeline to recover the original, untransformed data.\n",
    "    \n",
    "    Args:\n",
    "        pl (Pipline): pipeline with scale, reduce, and cluster steps\n",
    "        cluster_number (list): list of cluster numbers to display meaning of\n",
    "        display_n (int): number of indicators to display (default 5)\n",
    "    '''\n",
    "    \n",
    "    for c in cluster_numbers:\n",
    "        cluster_df = sorted_columns_from_cluster(pl, c)\n",
    "\n",
    "        # Get descriptions and meanings for each factor\n",
    "        descriptions = []\n",
    "        meanings = []\n",
    "\n",
    "        for i in range(len(cluster_df)):\n",
    "            # Get the description of the factor\n",
    "            attr = attributes_df[attributes_df['Attribute'] == cluster_df.iloc[i].name]\n",
    "            descriptions.append(attr['Description'].values[0])\n",
    "            # Try to look up the meaning of the value\n",
    "            # This is a quick approach that doesn't always succeed\n",
    "            val = np.floor(cluster_df.iloc[i]['Value'])\n",
    "            try:\n",
    "                meaning = list(attr[attr['Value'] == val]['Meaning'])[0]\n",
    "            # If there isn't a match (due to encoding etc.), just fill with nan\n",
    "            except:\n",
    "                meaning = np.nan\n",
    "            meanings.append(meaning)\n",
    "\n",
    "        cluster_df['Description'] = descriptions\n",
    "        cluster_df['Meaning'] = meanings\n",
    "\n",
    "        # Display the result using Ipython.display to format nicely\n",
    "        display_markdown('Top {} indicators in cluster {}'.format(display_n, c), raw=True)\n",
    "        display(cluster_df.head(display_n))\n",
    "        display_markdown('---', raw=True)"
   ]
  },
  {
   "cell_type": "code",
   "execution_count": 44,
   "metadata": {},
   "outputs": [
    {
     "data": {
      "text/markdown": [
       "#### Top positive clusters for customers"
      ]
     },
     "metadata": {},
     "output_type": "display_data"
    },
    {
     "data": {
      "text/markdown": [
       "Top 5 indicators in cluster 8"
      ]
     },
     "metadata": {},
     "output_type": "display_data"
    },
    {
     "data": {
      "text/html": [
       "<div>\n",
       "<style scoped>\n",
       "    .dataframe tbody tr th:only-of-type {\n",
       "        vertical-align: middle;\n",
       "    }\n",
       "\n",
       "    .dataframe tbody tr th {\n",
       "        vertical-align: top;\n",
       "    }\n",
       "\n",
       "    .dataframe thead th {\n",
       "        text-align: right;\n",
       "    }\n",
       "</style>\n",
       "<table border=\"1\" class=\"dataframe\">\n",
       "  <thead>\n",
       "    <tr style=\"text-align: right;\">\n",
       "      <th></th>\n",
       "      <th>Scaled Value</th>\n",
       "      <th>Value</th>\n",
       "      <th>Description</th>\n",
       "      <th>Meaning</th>\n",
       "    </tr>\n",
       "  </thead>\n",
       "  <tbody>\n",
       "    <tr>\n",
       "      <th>KBA13_HERST_BMW_BENZ</th>\n",
       "      <td>1.146467</td>\n",
       "      <td>4.340128</td>\n",
       "      <td>share of BMW &amp; Mercedes Benz within the PLZ8</td>\n",
       "      <td>high</td>\n",
       "    </tr>\n",
       "    <tr>\n",
       "      <th>KBA13_KMH_211</th>\n",
       "      <td>1.078980</td>\n",
       "      <td>4.068134</td>\n",
       "      <td>share of cars with a greater max speed than 21...</td>\n",
       "      <td>high</td>\n",
       "    </tr>\n",
       "    <tr>\n",
       "      <th>KBA05_KW3</th>\n",
       "      <td>1.070460</td>\n",
       "      <td>2.716527</td>\n",
       "      <td>share of cars with an engine power of more tha...</td>\n",
       "      <td>average</td>\n",
       "    </tr>\n",
       "    <tr>\n",
       "      <th>KBA13_KMH_250</th>\n",
       "      <td>1.062502</td>\n",
       "      <td>4.040511</td>\n",
       "      <td>share of cars with max speed between 210 and 2...</td>\n",
       "      <td>high</td>\n",
       "    </tr>\n",
       "    <tr>\n",
       "      <th>KBA13_KW_121</th>\n",
       "      <td>1.047008</td>\n",
       "      <td>4.009916</td>\n",
       "      <td>share of cars with an engine power more than 1...</td>\n",
       "      <td>high</td>\n",
       "    </tr>\n",
       "  </tbody>\n",
       "</table>\n",
       "</div>"
      ],
      "text/plain": [
       "                      Scaled Value     Value  \\\n",
       "KBA13_HERST_BMW_BENZ      1.146467  4.340128   \n",
       "KBA13_KMH_211             1.078980  4.068134   \n",
       "KBA05_KW3                 1.070460  2.716527   \n",
       "KBA13_KMH_250             1.062502  4.040511   \n",
       "KBA13_KW_121              1.047008  4.009916   \n",
       "\n",
       "                                                            Description  \\\n",
       "KBA13_HERST_BMW_BENZ       share of BMW & Mercedes Benz within the PLZ8   \n",
       "KBA13_KMH_211         share of cars with a greater max speed than 21...   \n",
       "KBA05_KW3             share of cars with an engine power of more tha...   \n",
       "KBA13_KMH_250         share of cars with max speed between 210 and 2...   \n",
       "KBA13_KW_121          share of cars with an engine power more than 1...   \n",
       "\n",
       "                      Meaning  \n",
       "KBA13_HERST_BMW_BENZ     high  \n",
       "KBA13_KMH_211            high  \n",
       "KBA05_KW3             average  \n",
       "KBA13_KMH_250            high  \n",
       "KBA13_KW_121             high  "
      ]
     },
     "metadata": {},
     "output_type": "display_data"
    },
    {
     "data": {
      "text/markdown": [
       "---"
      ]
     },
     "metadata": {},
     "output_type": "display_data"
    },
    {
     "data": {
      "text/markdown": [
       "Top 5 indicators in cluster 3"
      ]
     },
     "metadata": {},
     "output_type": "display_data"
    },
    {
     "data": {
      "text/html": [
       "<div>\n",
       "<style scoped>\n",
       "    .dataframe tbody tr th:only-of-type {\n",
       "        vertical-align: middle;\n",
       "    }\n",
       "\n",
       "    .dataframe tbody tr th {\n",
       "        vertical-align: top;\n",
       "    }\n",
       "\n",
       "    .dataframe thead th {\n",
       "        text-align: right;\n",
       "    }\n",
       "</style>\n",
       "<table border=\"1\" class=\"dataframe\">\n",
       "  <thead>\n",
       "    <tr style=\"text-align: right;\">\n",
       "      <th></th>\n",
       "      <th>Scaled Value</th>\n",
       "      <th>Value</th>\n",
       "      <th>Description</th>\n",
       "      <th>Meaning</th>\n",
       "    </tr>\n",
       "  </thead>\n",
       "  <tbody>\n",
       "    <tr>\n",
       "      <th>FINANZ_MINIMALIST</th>\n",
       "      <td>0.932199</td>\n",
       "      <td>4.327413</td>\n",
       "      <td>financial typology: low financial interest</td>\n",
       "      <td>low</td>\n",
       "    </tr>\n",
       "    <tr>\n",
       "      <th>LP_STATUS_GROB</th>\n",
       "      <td>0.889486</td>\n",
       "      <td>3.766027</td>\n",
       "      <td>social status rough</td>\n",
       "      <td>average earners</td>\n",
       "    </tr>\n",
       "    <tr>\n",
       "      <th>LP_STATUS_FEIN</th>\n",
       "      <td>0.889404</td>\n",
       "      <td>7.817798</td>\n",
       "      <td>social status fine</td>\n",
       "      <td>title holder-households</td>\n",
       "    </tr>\n",
       "    <tr>\n",
       "      <th>MOBI_REGIO</th>\n",
       "      <td>0.864633</td>\n",
       "      <td>4.222542</td>\n",
       "      <td>moving patterns</td>\n",
       "      <td>low mobility</td>\n",
       "    </tr>\n",
       "    <tr>\n",
       "      <th>KBA05_ANTG1</th>\n",
       "      <td>0.852761</td>\n",
       "      <td>2.719043</td>\n",
       "      <td>number of 1-2 family houses in the cell</td>\n",
       "      <td>average share of 1-2 family homes</td>\n",
       "    </tr>\n",
       "  </tbody>\n",
       "</table>\n",
       "</div>"
      ],
      "text/plain": [
       "                   Scaled Value     Value  \\\n",
       "FINANZ_MINIMALIST      0.932199  4.327413   \n",
       "LP_STATUS_GROB         0.889486  3.766027   \n",
       "LP_STATUS_FEIN         0.889404  7.817798   \n",
       "MOBI_REGIO             0.864633  4.222542   \n",
       "KBA05_ANTG1            0.852761  2.719043   \n",
       "\n",
       "                                                  Description  \\\n",
       "FINANZ_MINIMALIST  financial typology: low financial interest   \n",
       "LP_STATUS_GROB                            social status rough   \n",
       "LP_STATUS_FEIN                             social status fine   \n",
       "MOBI_REGIO                                    moving patterns   \n",
       "KBA05_ANTG1           number of 1-2 family houses in the cell   \n",
       "\n",
       "                                             Meaning  \n",
       "FINANZ_MINIMALIST                                low  \n",
       "LP_STATUS_GROB                       average earners  \n",
       "LP_STATUS_FEIN               title holder-households  \n",
       "MOBI_REGIO                              low mobility  \n",
       "KBA05_ANTG1        average share of 1-2 family homes  "
      ]
     },
     "metadata": {},
     "output_type": "display_data"
    },
    {
     "data": {
      "text/markdown": [
       "---"
      ]
     },
     "metadata": {},
     "output_type": "display_data"
    },
    {
     "data": {
      "text/markdown": [
       "#### Top negative clusters for customers"
      ]
     },
     "metadata": {},
     "output_type": "display_data"
    },
    {
     "data": {
      "text/markdown": [
       "Top 5 indicators in cluster 4"
      ]
     },
     "metadata": {},
     "output_type": "display_data"
    },
    {
     "data": {
      "text/html": [
       "<div>\n",
       "<style scoped>\n",
       "    .dataframe tbody tr th:only-of-type {\n",
       "        vertical-align: middle;\n",
       "    }\n",
       "\n",
       "    .dataframe tbody tr th {\n",
       "        vertical-align: top;\n",
       "    }\n",
       "\n",
       "    .dataframe thead th {\n",
       "        text-align: right;\n",
       "    }\n",
       "</style>\n",
       "<table border=\"1\" class=\"dataframe\">\n",
       "  <thead>\n",
       "    <tr style=\"text-align: right;\">\n",
       "      <th></th>\n",
       "      <th>Scaled Value</th>\n",
       "      <th>Value</th>\n",
       "      <th>Description</th>\n",
       "      <th>Meaning</th>\n",
       "    </tr>\n",
       "  </thead>\n",
       "  <tbody>\n",
       "    <tr>\n",
       "      <th>CAMEO_DEUG_2015</th>\n",
       "      <td>1.028027</td>\n",
       "      <td>8.134478</td>\n",
       "      <td>CAMEO classification 2015 - Uppergroup</td>\n",
       "      <td>working class</td>\n",
       "    </tr>\n",
       "    <tr>\n",
       "      <th>CAMEO_DEU_2015</th>\n",
       "      <td>1.023443</td>\n",
       "      <td>36.316060</td>\n",
       "      <td>CAMEO classification 2015 - detailled classifi...</td>\n",
       "      <td>NaN</td>\n",
       "    </tr>\n",
       "    <tr>\n",
       "      <th>PLZ8_ANTG3</th>\n",
       "      <td>1.007601</td>\n",
       "      <td>2.598444</td>\n",
       "      <td>number of 6-10 family houses in the PLZ8</td>\n",
       "      <td>average share</td>\n",
       "    </tr>\n",
       "    <tr>\n",
       "      <th>PLZ8_BAUMAX</th>\n",
       "      <td>0.991467</td>\n",
       "      <td>3.389536</td>\n",
       "      <td>most common building-type within the PLZ8</td>\n",
       "      <td>mainly 6-10 family homes</td>\n",
       "    </tr>\n",
       "    <tr>\n",
       "      <th>PLZ8_ANTG4</th>\n",
       "      <td>0.985764</td>\n",
       "      <td>1.416316</td>\n",
       "      <td>number of &gt;10 family houses in the PLZ8</td>\n",
       "      <td>low share</td>\n",
       "    </tr>\n",
       "  </tbody>\n",
       "</table>\n",
       "</div>"
      ],
      "text/plain": [
       "                 Scaled Value      Value  \\\n",
       "CAMEO_DEUG_2015      1.028027   8.134478   \n",
       "CAMEO_DEU_2015       1.023443  36.316060   \n",
       "PLZ8_ANTG3           1.007601   2.598444   \n",
       "PLZ8_BAUMAX          0.991467   3.389536   \n",
       "PLZ8_ANTG4           0.985764   1.416316   \n",
       "\n",
       "                                                       Description  \\\n",
       "CAMEO_DEUG_2015             CAMEO classification 2015 - Uppergroup   \n",
       "CAMEO_DEU_2015   CAMEO classification 2015 - detailled classifi...   \n",
       "PLZ8_ANTG3                number of 6-10 family houses in the PLZ8   \n",
       "PLZ8_BAUMAX              most common building-type within the PLZ8   \n",
       "PLZ8_ANTG4                 number of >10 family houses in the PLZ8   \n",
       "\n",
       "                                  Meaning  \n",
       "CAMEO_DEUG_2015             working class  \n",
       "CAMEO_DEU_2015                        NaN  \n",
       "PLZ8_ANTG3                  average share  \n",
       "PLZ8_BAUMAX      mainly 6-10 family homes  \n",
       "PLZ8_ANTG4                      low share  "
      ]
     },
     "metadata": {},
     "output_type": "display_data"
    },
    {
     "data": {
      "text/markdown": [
       "---"
      ]
     },
     "metadata": {},
     "output_type": "display_data"
    },
    {
     "data": {
      "text/markdown": [
       "Top 5 indicators in cluster 2"
      ]
     },
     "metadata": {},
     "output_type": "display_data"
    },
    {
     "data": {
      "text/html": [
       "<div>\n",
       "<style scoped>\n",
       "    .dataframe tbody tr th:only-of-type {\n",
       "        vertical-align: middle;\n",
       "    }\n",
       "\n",
       "    .dataframe tbody tr th {\n",
       "        vertical-align: top;\n",
       "    }\n",
       "\n",
       "    .dataframe thead th {\n",
       "        text-align: right;\n",
       "    }\n",
       "</style>\n",
       "<table border=\"1\" class=\"dataframe\">\n",
       "  <thead>\n",
       "    <tr style=\"text-align: right;\">\n",
       "      <th></th>\n",
       "      <th>Scaled Value</th>\n",
       "      <th>Value</th>\n",
       "      <th>Description</th>\n",
       "      <th>Meaning</th>\n",
       "    </tr>\n",
       "  </thead>\n",
       "  <tbody>\n",
       "    <tr>\n",
       "      <th>FINANZ_UNAUFFAELLIGER</th>\n",
       "      <td>0.979717</td>\n",
       "      <td>3.961057</td>\n",
       "      <td>financial typology: unremarkable</td>\n",
       "      <td>average</td>\n",
       "    </tr>\n",
       "    <tr>\n",
       "      <th>FINANZ_SPARER</th>\n",
       "      <td>0.974304</td>\n",
       "      <td>4.177056</td>\n",
       "      <td>financial typology: money saver</td>\n",
       "      <td>low</td>\n",
       "    </tr>\n",
       "    <tr>\n",
       "      <th>SEMIO_PFLICHT</th>\n",
       "      <td>0.887807</td>\n",
       "      <td>5.873671</td>\n",
       "      <td>affinity indicating in what way the person is ...</td>\n",
       "      <td>low affinity</td>\n",
       "    </tr>\n",
       "    <tr>\n",
       "      <th>PRAEGENDE_JUGENDJAHRE</th>\n",
       "      <td>0.870331</td>\n",
       "      <td>12.887388</td>\n",
       "      <td>dominating movement in the person's youth (ava...</td>\n",
       "      <td>80ies - FDJ / communist party youth organisati...</td>\n",
       "    </tr>\n",
       "    <tr>\n",
       "      <th>FINANZ_ANLEGER</th>\n",
       "      <td>0.867017</td>\n",
       "      <td>4.129912</td>\n",
       "      <td>financial typology: investor</td>\n",
       "      <td>low</td>\n",
       "    </tr>\n",
       "  </tbody>\n",
       "</table>\n",
       "</div>"
      ],
      "text/plain": [
       "                       Scaled Value      Value  \\\n",
       "FINANZ_UNAUFFAELLIGER      0.979717   3.961057   \n",
       "FINANZ_SPARER              0.974304   4.177056   \n",
       "SEMIO_PFLICHT              0.887807   5.873671   \n",
       "PRAEGENDE_JUGENDJAHRE      0.870331  12.887388   \n",
       "FINANZ_ANLEGER             0.867017   4.129912   \n",
       "\n",
       "                                                             Description  \\\n",
       "FINANZ_UNAUFFAELLIGER                   financial typology: unremarkable   \n",
       "FINANZ_SPARER                            financial typology: money saver   \n",
       "SEMIO_PFLICHT          affinity indicating in what way the person is ...   \n",
       "PRAEGENDE_JUGENDJAHRE  dominating movement in the person's youth (ava...   \n",
       "FINANZ_ANLEGER                              financial typology: investor   \n",
       "\n",
       "                                                                 Meaning  \n",
       "FINANZ_UNAUFFAELLIGER                                            average  \n",
       "FINANZ_SPARER                                                        low  \n",
       "SEMIO_PFLICHT                                               low affinity  \n",
       "PRAEGENDE_JUGENDJAHRE  80ies - FDJ / communist party youth organisati...  \n",
       "FINANZ_ANLEGER                                                       low  "
      ]
     },
     "metadata": {},
     "output_type": "display_data"
    },
    {
     "data": {
      "text/markdown": [
       "---"
      ]
     },
     "metadata": {},
     "output_type": "display_data"
    }
   ],
   "source": [
    "# Display meanings of the top and bottom two clusters\n",
    "display_markdown('#### Top positive clusters for customers', raw=True)\n",
    "display_cluster_meaning(pipeline, top_two)\n",
    "display_markdown('#### Top negative clusters for customers', raw=True)\n",
    "display_cluster_meaning(pipeline, bottom_two)"
   ]
  },
  {
   "cell_type": "markdown",
   "metadata": {},
   "source": [
    "From this we can describe what characteristics make a person in the general population more or less likely to be a customer.\n",
    "\n",
    "From clusters 8 and 3 we can see that customers are **more** likely to:\n",
    "* Live in an area with a high proportion high-end cars (BMW and Mercedes-Benz)\n",
    "* Live in an area with a high proportion of high-powered cars (max. speed > 210 kph, engine power > 121 kW)\n",
    "* Low mobility, owning homes in lower density areas\n",
    "* Have average income\n",
    "* Have interest in finances (inferred from \"low financial interest\" being \"low\")\n",
    "\n",
    "From clusters 4 and 2 we can see that customers are **less** likely to:\n",
    "* Be financial investors or money savers\n",
    "* Be \"working class\"\n",
    "* Live in an area with mainly 6-10 family homes (i.e. high density)\n",
    "\n",
    "**In summary: financially-aware people with average income, but high expenditure (high-end cars, home ownership) are most likely to be customers.**"
   ]
  },
  {
   "cell_type": "markdown",
   "metadata": {},
   "source": [
    "## Part 2: Supervised Learning Model\n",
    "\n",
    "Now that you've found which parts of the population are more likely to be customers of the mail-order company, it's time to build a prediction model. Each of the rows in the \"MAILOUT\" data files represents an individual that was targeted for a mailout campaign. Ideally, we should be able to use the demographic information from each individual to decide whether or not it will be worth it to include that person in the campaign.\n",
    "\n",
    "The \"MAILOUT\" data has been split into two approximately equal parts, each with almost 43 000 data rows. In this part, you can verify your model with the \"TRAIN\" partition, which includes a column, \"RESPONSE\", that states whether or not a person became a customer of the company following the campaign. In the next part, you'll need to create predictions on the \"TEST\" partition, where the \"RESPONSE\" column has been withheld."
   ]
  },
  {
   "cell_type": "code",
   "execution_count": 45,
   "metadata": {},
   "outputs": [
    {
     "name": "stderr",
     "output_type": "stream",
     "text": [
      "/Users/guy/miniforge3/envs/.venv/lib/python3.9/site-packages/IPython/core/interactiveshell.py:3444: DtypeWarning: Columns (18,19) have mixed types.Specify dtype option on import or set low_memory=False.\n",
      "  exec(code_obj, self.user_global_ns, self.user_ns)\n"
     ]
    }
   ],
   "source": [
    "# mailout_train = pd.read_csv('../../data/Term2/capstone/arvato_data/Udacity_MAILOUT_052018_TRAIN.csv', sep=';')\n",
    "mailout_train = pd.read_csv('./Data/Udacity_MAILOUT_052018_TRAIN.csv', sep=';')"
   ]
  },
  {
   "cell_type": "markdown",
   "metadata": {},
   "source": [
    "### 2.1 Cleaning the data\n",
    "As with the previous data files, we need to clean the data before we can use it to generate a model. We can use the same functions that we defined previously to do this.\n",
    "\n",
    "First, let's look at an overview."
   ]
  },
  {
   "cell_type": "code",
   "execution_count": 46,
   "metadata": {},
   "outputs": [
    {
     "name": "stdout",
     "output_type": "stream",
     "text": [
      "42962 rows and 367 columns.\n",
      "361 columns of type 'number'.\n",
      "6 columns of type 'object'.\n",
      "14% of the data is null.\n"
     ]
    }
   ],
   "source": [
    "dataframe_overview(mailout_train)"
   ]
  },
  {
   "cell_type": "markdown",
   "metadata": {},
   "source": [
    "Now let's apply the same cleaning steps to the data. As a reminder, this will:\n",
    "1. Remove invalid values (e.g. X, XX)\n",
    "2. Replace values used for unknown data with NaN\n",
    "3. Drop columns for which we don't know their meaning\n",
    "4. Identify and drop columns and rows with lots of missing values\n",
    "5. Drop or encode non-numeric columns\n",
    "6. Impute missing values"
   ]
  },
  {
   "cell_type": "code",
   "execution_count": 47,
   "metadata": {},
   "outputs": [
    {
     "name": "stdout",
     "output_type": "stream",
     "text": [
      "Replacing invalid X values... \n",
      "Found 11 values matching '/X+/' in column 'CAMEO_DEU_2015'. replaced with NaN.\n",
      "Found 11 values matching '/X+/' in column 'CAMEO_DEUG_2015'. replaced with NaN.\n",
      "Found 11 values matching '/X+/' in column 'CAMEO_INTL_2015'. replaced with NaN.\n",
      "Complete.\n",
      "Replacing unknown values with NaN... Complete.\n",
      "Dropping unknown columns... Complete.\n",
      "Finding and dropping columns with over 50% NaN... Complete.\n",
      "Finding and dropping rows with over 20% NaN... Complete.\n",
      "Imputing NaN values with most frequent values... Complete.\n",
      "Encoding non-numeric columns... \n",
      "Encoding column 'CAMEO_DEU_2015'... Complete.\n",
      "Encoding column 'OST_WEST_KZ'... Complete.\n",
      "Complete.\n",
      "Cleaned dataframe returned.\n"
     ]
    }
   ],
   "source": [
    "mailout_train_clean, mailout_dropped_cols, mailout_encoders = clean_df(mailout_train, cat_cols_to_encode)"
   ]
  },
  {
   "cell_type": "markdown",
   "metadata": {},
   "source": [
    "Let's see what it looks like now."
   ]
  },
  {
   "cell_type": "code",
   "execution_count": 48,
   "metadata": {},
   "outputs": [
    {
     "name": "stdout",
     "output_type": "stream",
     "text": [
      "33837 rows and 271 columns.\n",
      "271 columns of type 'number'.\n",
      "0 columns of type 'object'.\n",
      "0% of the data is null.\n"
     ]
    },
    {
     "data": {
      "text/plain": [
       "KBA05_BAUMAX    0.534891\n",
       "TITEL_KZ        0.995042\n",
       "dtype: float64"
      ]
     },
     "execution_count": 48,
     "metadata": {},
     "output_type": "execute_result"
    }
   ],
   "source": [
    "dataframe_overview(mailout_train_clean)\n",
    "\n",
    "mailout_dropped_cols"
   ]
  },
  {
   "cell_type": "markdown",
   "metadata": {},
   "source": [
    "Great! We've removed or imputed all the null data, and have only numeric columns in the dataset. Two columns were dropped due to high fractions of null values: `KBA05_BAUMAX` and `TITEL_KZ`, with 53% and 99% null values, respectively.\n",
    "\n",
    "### 2.2 Addressing imbalance\n",
    "\n",
    "> REMOTE SMOTE - NOT REQUIRED (AND NEGATIVE EFFECT?) IF USING ROC AUC TO SCORE MODELS\n",
    "\n",
    "The `RESPONSE` column contains the values we want to predict. Let's take a look at this column in more detail."
   ]
  },
  {
   "cell_type": "code",
   "execution_count": 49,
   "metadata": {},
   "outputs": [
    {
     "name": "stdout",
     "output_type": "stream",
     "text": [
      "0    33421\n",
      "1      416\n",
      "Name: RESPONSE, dtype: int64\n"
     ]
    },
    {
     "data": {
      "image/png": "[encoded data removed]",
      "text/plain": [
       "<Figure size 432x288 with 1 Axes>"
      ]
     },
     "metadata": {},
     "output_type": "display_data"
    }
   ],
   "source": [
    "# Print and plot the counts of values in the RESPONSE column\n",
    "response_counts = mailout_train_clean['RESPONSE'].value_counts()\n",
    "print(response_counts)\n",
    "\n",
    "plt.pie(response_counts)\n",
    "plt.legend(response_counts.index);"
   ]
  },
  {
   "cell_type": "markdown",
   "metadata": {},
   "source": [
    "We can see that this is very imbalanced; there are ~80x more zeroes (no reponse) compared to ones (reponse). We need to address this imbalanced before creating our model, otherwise it's likely that the model will overpredict the minority class (no response) as an outcome.\n",
    "\n",
    "We will use **S**ynthetic **M**inority **O**versampling **Te**chnique (SMOTE) to generate synthetic observations of the minority class to bring the dataset back into balance. We will use `imblearn`'s [SMOTE()](https://imbalanced-learn.org/dev/references/generated/imblearn.over_sampling.SMOTE.html) class for this. This will be performed on the training data only - test data should only be real data."
   ]
  },
  {
   "cell_type": "code",
   "execution_count": 50,
   "metadata": {},
   "outputs": [],
   "source": [
    "# Split the data into X (factors) and y (response) dataframes\n",
    "y = mailout_train_clean['RESPONSE']\n",
    "X = mailout_train_clean.drop(columns=['RESPONSE'])\n",
    "\n",
    "# Split into test and train datasets\n",
    "X_train, X_test, y_train, y_test = train_test_split(X, y, test_size=0.25, random_state=42)\n",
    "\n",
    "# Use a static random state for repeatability during testing\n",
    "sm = SMOTE(random_state=42)\n",
    "X_train_res, y_train_res = sm.fit_resample(X_train, y_train)"
   ]
  },
  {
   "cell_type": "code",
   "execution_count": 51,
   "metadata": {},
   "outputs": [
    {
     "name": "stdout",
     "output_type": "stream",
     "text": [
      "0    25054\n",
      "1    25054\n",
      "Name: RESPONSE, dtype: int64\n"
     ]
    },
    {
     "data": {
      "image/png": "[encoded data removed]",
      "text/plain": [
       "<Figure size 432x288 with 1 Axes>"
      ]
     },
     "metadata": {},
     "output_type": "display_data"
    }
   ],
   "source": [
    "# Let's check that it's had the effect we expect\n",
    "response_counts = y_train_res.value_counts()\n",
    "print(response_counts)\n",
    "\n",
    "plt.pie(response_counts)\n",
    "plt.legend(response_counts.index);"
   ]
  },
  {
   "cell_type": "markdown",
   "metadata": {},
   "source": [
    "We can see that our resampled training data now has an equal number of points in the two output classes (zero and one).\n",
    "### 2.3 Evaluating different modelling approaches\n",
    "Now that we have clean and balanced data, we can begin to generate models and evaluate their performance. The variables we're going to explore are:\n",
    "\n",
    "1. Inclusion of all columns, versus the most impactful columns as found in our unsupervised model in part 1.\n",
    "2. Different machine learning models (e.g. Random Forest, AdaBoost, Gradient Boost).\n",
    "3. Hyperparameter tuning of the best model/columns combination using GridSearchCV.\n",
    "\n",
    "\n",
    "#### 2.3.1 Column selection\n",
    "For (1), we will take the top two clusters that positively correlate with customers, and the bottom two clusters that negatively correlated with customers (we identified these in section 1.3). From each of these we'll take the 10 columns that had the biggest impact on the cluster, for a total of 40 columns. Some columns may appear in more than one cluster, so we'll then remove duplicates to give us our final list of most impactful columns."
   ]
  },
  {
   "cell_type": "code",
   "execution_count": 81,
   "metadata": {},
   "outputs": [
    {
     "name": "stdout",
     "output_type": "stream",
     "text": [
      "Selected 59 columns with best potential to identify a customer.\n"
     ]
    }
   ],
   "source": [
    "# Top two positive correlating clusters and negative correlating clusters\n",
    "most_impactful_clusters = top_two + bottom_two\n",
    "\n",
    "most_impactful_columns = []\n",
    "\n",
    "for cluster in most_impactful_clusters:\n",
    "    # Get columns and values from the cluster\n",
    "    df_cluster = sorted_columns_from_cluster(pipeline, cluster)\n",
    "    # Add the top 15 columns to the list of impactful columns\n",
    "    most_impactful_columns += list(df_cluster.index)[:15]\n",
    "    \n",
    "# Create a set to remove any duplicated columns\n",
    "most_impactful_columns = set(most_impactful_columns)\n",
    "\n",
    "print('Selected {} columns with best potential to identify a customer.'.format(len(most_impactful_columns)))"
   ]
  },
  {
   "cell_type": "markdown",
   "metadata": {},
   "source": [
    "#### 2.3.2 Model selection"
   ]
  },
  {
   "cell_type": "code",
   "execution_count": 68,
   "metadata": {},
   "outputs": [],
   "source": [
    "def generate_evaluate_model(X_train, X_test, y_train, y_test, model):\n",
    "    ''' \n",
    "    '''    \n",
    "    model.fit(X_train, y_train)\n",
    "    y_pred = model.predict_proba(X_test)\n",
    "    \n",
    "    roc_auc = roc_auc_score(y_test, y_pred[:,1])\n",
    "    fp_rate, tp_rate, threshold = roc_curve(y_test, y_pred[:,1])\n",
    "    \n",
    "    return roc_auc, fp_rate, tp_rate"
   ]
  },
  {
   "cell_type": "code",
   "execution_count": 82,
   "metadata": {},
   "outputs": [
    {
     "data": {
      "image/png": "[encoded data removed]",
      "text/plain": [
       "<Figure size 432x288 with 1 Axes>"
      ]
     },
     "metadata": {
      "needs_background": "light"
     },
     "output_type": "display_data"
    },
    {
     "data": {
      "image/png": "[encoded data removed]",
      "text/plain": [
       "<Figure size 432x288 with 1 Axes>"
      ]
     },
     "metadata": {
      "needs_background": "light"
     },
     "output_type": "display_data"
    },
    {
     "data": {
      "image/png": "[encoded data removed]",
      "text/plain": [
       "<Figure size 432x288 with 1 Axes>"
      ]
     },
     "metadata": {
      "needs_background": "light"
     },
     "output_type": "display_data"
    }
   ],
   "source": [
    "models = {\n",
    "    'LogisticRegression': LogisticRegression(max_iter=1000, random_state=42),\n",
    "    'RandomForest' : RandomForestClassifier(n_jobs=-1, random_state=42),\n",
    "#     'AdaBoost': AdaBoostClassifier(random_state=42),\n",
    "    'GradientBoosting': GradientBoostingClassifier(random_state=42)\n",
    "#     'XGBoost': xgb.XGBClassifier(random_state=42, use_label_encoder=False, n_jobs=0, eval_metric='logloss')\n",
    "}\n",
    "\n",
    "columns = {\n",
    "    'All columns': X_train.columns,\n",
    "    'Most impactful columns': most_impactful_columns\n",
    "}\n",
    "\n",
    "for model_name, model in models.items():\n",
    "    pl = Pipeline([\n",
    "        ('scale', preprocessing.MinMaxScaler()),\n",
    "        ('clf', model)\n",
    "    ])\n",
    "    \n",
    "    for cols_name, cols in columns.items():\n",
    "        model_title = '{} ({})'.format(model_name, cols_name)\n",
    "        score, fp_rate, tp_rate = generate_evaluate_model(X_train[cols], X_test[cols], y_train, y_test, pl)        \n",
    "        plt.plot(fp_rate, tp_rate, label='{} (AUC: {:.4f})'.format(cols_name, score))\n",
    "\n",
    "    plt.plot([0, 1], [0, 1], linestyle='--')\n",
    "    plt.xlabel('False positive rate')\n",
    "    plt.ylabel('True positive rate')\n",
    "    plt.title('ROC curves: {}'.format(model_name))\n",
    "    plt.legend()\n",
    "    plt.show();"
   ]
  },
  {
   "cell_type": "markdown",
   "metadata": {},
   "source": [
    "The charts above show that the model based on the LogisticRegression classifier using only the 59 most impactful columns gives the highest ROC AUC score (0.6651). We will use this model, and try to optimise it using GridSearchCV.\n",
    "\n",
    "#### 2.3.3 Model optimisation"
   ]
  },
  {
   "cell_type": "code",
   "execution_count": 104,
   "metadata": {},
   "outputs": [],
   "source": [
    "estimator_pipeline = Pipeline([\n",
    "        ('scale', preprocessing.MinMaxScaler()),\n",
    "        ('clf', LogisticRegression(max_iter=1000))\n",
    "    ])\n",
    "\n",
    "parameters = {\n",
    "    'clf__penalty': ['l1', 'l2', 'none'],\n",
    "    'clf__solver': ['lbfgs', 'liblinear', 'sag'],\n",
    "    'clf__C': np.logspace(-1, 0, 15)\n",
    "}\n",
    "\n",
    "cv = RepeatedStratifiedKFold(n_splits=5, n_repeats=3, random_state=42)\n",
    "\n",
    "gridsearch_model = GridSearchCV(estimator=estimator_pipeline, param_grid=parameters, \n",
    "                                verbose=3, scoring='roc_auc', cv=cv)"
   ]
  },
  {
   "cell_type": "markdown",
   "metadata": {},
   "source": [
    "*TODO:* Note about expecting errors due to invalid combinations of parameters."
   ]
  },
  {
   "cell_type": "code",
   "execution_count": 105,
   "metadata": {},
   "outputs": [
    {
     "name": "stdout",
     "output_type": "stream",
     "text": [
      "Fitting 15 folds for each of 135 candidates, totalling 2025 fits\n",
      "[CV 1/15] END clf__C=0.1, clf__penalty=l1, clf__solver=lbfgs;, score=nan total time=   0.0s\n",
      "[CV 2/15] END clf__C=0.1, clf__penalty=l1, clf__solver=lbfgs;, score=nan total time=   0.0s\n",
      "[CV 3/15] END clf__C=0.1, clf__penalty=l1, clf__solver=lbfgs;, score=nan total time=   0.0s\n",
      "[CV 4/15] END clf__C=0.1, clf__penalty=l1, clf__solver=lbfgs;, score=nan total time=   0.0s\n",
      "[CV 5/15] END clf__C=0.1, clf__penalty=l1, clf__solver=lbfgs;, score=nan total time=   0.0s\n",
      "[CV 6/15] END clf__C=0.1, clf__penalty=l1, clf__solver=lbfgs;, score=nan total time=   0.0s\n",
      "[CV 7/15] END clf__C=0.1, clf__penalty=l1, clf__solver=lbfgs;, score=nan total time=   0.0s\n",
      "[CV 8/15] END clf__C=0.1, clf__penalty=l1, clf__solver=lbfgs;, score=nan total time=   0.0s\n",
      "[CV 9/15] END clf__C=0.1, clf__penalty=l1, clf__solver=lbfgs;, score=nan total time=   0.0s\n",
      "[CV 10/15] END clf__C=0.1, clf__penalty=l1, clf__solver=lbfgs;, score=nan total time=   0.0s\n",
      "[CV 11/15] END clf__C=0.1, clf__penalty=l1, clf__solver=lbfgs;, score=nan total time=   0.0s\n",
      "[CV 12/15] END clf__C=0.1, clf__penalty=l1, clf__solver=lbfgs;, score=nan total time=   0.0s\n",
      "[CV 13/15] END clf__C=0.1, clf__penalty=l1, clf__solver=lbfgs;, score=nan total time=   0.0s\n",
      "[CV 14/15] END clf__C=0.1, clf__penalty=l1, clf__solver=lbfgs;, score=nan total time=   0.0s\n",
      "[CV 15/15] END clf__C=0.1, clf__penalty=l1, clf__solver=lbfgs;, score=nan total time=   0.0s\n",
      "[CV 1/15] END clf__C=0.1, clf__penalty=l1, clf__solver=liblinear;, score=0.610 total time=   0.1s\n",
      "[CV 2/15] END clf__C=0.1, clf__penalty=l1, clf__solver=liblinear;, score=0.610 total time=   0.2s\n",
      "[CV 3/15] END clf__C=0.1, clf__penalty=l1, clf__solver=liblinear;, score=0.634 total time=   0.2s\n",
      "[CV 4/15] END clf__C=0.1, clf__penalty=l1, clf__solver=liblinear;, score=0.593 total time=   0.2s\n",
      "[CV 5/15] END clf__C=0.1, clf__penalty=l1, clf__solver=liblinear;, score=0.570 total time=   0.2s\n",
      "[CV 6/15] END clf__C=0.1, clf__penalty=l1, clf__solver=liblinear;, score=0.578 total time=   0.2s\n",
      "[CV 7/15] END clf__C=0.1, clf__penalty=l1, clf__solver=liblinear;, score=0.638 total time=   0.2s\n",
      "[CV 8/15] END clf__C=0.1, clf__penalty=l1, clf__solver=liblinear;, score=0.616 total time=   0.2s\n",
      "[CV 9/15] END clf__C=0.1, clf__penalty=l1, clf__solver=liblinear;, score=0.590 total time=   0.1s\n",
      "[CV 10/15] END clf__C=0.1, clf__penalty=l1, clf__solver=liblinear;, score=0.595 total time=   0.1s\n",
      "[CV 11/15] END clf__C=0.1, clf__penalty=l1, clf__solver=liblinear;, score=0.604 total time=   0.2s\n",
      "[CV 12/15] END clf__C=0.1, clf__penalty=l1, clf__solver=liblinear;, score=0.562 total time=   0.2s\n",
      "[CV 13/15] END clf__C=0.1, clf__penalty=l1, clf__solver=liblinear;, score=0.563 total time=   0.2s\n",
      "[CV 14/15] END clf__C=0.1, clf__penalty=l1, clf__solver=liblinear;, score=0.632 total time=   0.2s\n",
      "[CV 15/15] END clf__C=0.1, clf__penalty=l1, clf__solver=liblinear;, score=0.630 total time=   0.1s\n",
      "[CV 1/15] END clf__C=0.1, clf__penalty=l1, clf__solver=sag;, score=nan total time=   0.0s\n",
      "[CV 2/15] END clf__C=0.1, clf__penalty=l1, clf__solver=sag;, score=nan total time=   0.0s\n",
      "[CV 3/15] END clf__C=0.1, clf__penalty=l1, clf__solver=sag;, score=nan total time=   0.0s\n",
      "[CV 4/15] END clf__C=0.1, clf__penalty=l1, clf__solver=sag;, score=nan total time=   0.0s\n",
      "[CV 5/15] END clf__C=0.1, clf__penalty=l1, clf__solver=sag;, score=nan total time=   0.0s\n",
      "[CV 6/15] END clf__C=0.1, clf__penalty=l1, clf__solver=sag;, score=nan total time=   0.0s\n",
      "[CV 7/15] END clf__C=0.1, clf__penalty=l1, clf__solver=sag;, score=nan total time=   0.0s\n",
      "[CV 8/15] END clf__C=0.1, clf__penalty=l1, clf__solver=sag;, score=nan total time=   0.0s\n",
      "[CV 9/15] END clf__C=0.1, clf__penalty=l1, clf__solver=sag;, score=nan total time=   0.0s\n",
      "[CV 10/15] END clf__C=0.1, clf__penalty=l1, clf__solver=sag;, score=nan total time=   0.0s\n",
      "[CV 11/15] END clf__C=0.1, clf__penalty=l1, clf__solver=sag;, score=nan total time=   0.0s\n",
      "[CV 12/15] END clf__C=0.1, clf__penalty=l1, clf__solver=sag;, score=nan total time=   0.0s\n",
      "[CV 13/15] END clf__C=0.1, clf__penalty=l1, clf__solver=sag;, score=nan total time=   0.0s\n",
      "[CV 14/15] END clf__C=0.1, clf__penalty=l1, clf__solver=sag;, score=nan total time=   0.0s\n",
      "[CV 15/15] END clf__C=0.1, clf__penalty=l1, clf__solver=sag;, score=nan total time=   0.0s\n",
      "[CV 1/15] END clf__C=0.1, clf__penalty=l2, clf__solver=lbfgs;, score=0.641 total time=   0.1s\n",
      "[CV 2/15] END clf__C=0.1, clf__penalty=l2, clf__solver=lbfgs;, score=0.625 total time=   0.1s\n",
      "[CV 3/15] END clf__C=0.1, clf__penalty=l2, clf__solver=lbfgs;, score=0.628 total time=   0.1s\n",
      "[CV 4/15] END clf__C=0.1, clf__penalty=l2, clf__solver=lbfgs;, score=0.581 total time=   0.1s\n",
      "[CV 5/15] END clf__C=0.1, clf__penalty=l2, clf__solver=lbfgs;, score=0.580 total time=   0.1s\n",
      "[CV 6/15] END clf__C=0.1, clf__penalty=l2, clf__solver=lbfgs;, score=0.548 total time=   0.1s\n",
      "[CV 7/15] END clf__C=0.1, clf__penalty=l2, clf__solver=lbfgs;, score=0.640 total time=   0.1s\n",
      "[CV 8/15] END clf__C=0.1, clf__penalty=l2, clf__solver=lbfgs;, score=0.659 total time=   0.1s\n",
      "[CV 9/15] END clf__C=0.1, clf__penalty=l2, clf__solver=lbfgs;, score=0.586 total time=   0.1s\n",
      "[CV 10/15] END clf__C=0.1, clf__penalty=l2, clf__solver=lbfgs;, score=0.600 total time=   0.1s\n",
      "[CV 11/15] END clf__C=0.1, clf__penalty=l2, clf__solver=lbfgs;, score=0.588 total time=   0.1s\n",
      "[CV 12/15] END clf__C=0.1, clf__penalty=l2, clf__solver=lbfgs;, score=0.590 total time=   0.1s\n",
      "[CV 13/15] END clf__C=0.1, clf__penalty=l2, clf__solver=lbfgs;, score=0.624 total time=   0.1s\n",
      "[CV 14/15] END clf__C=0.1, clf__penalty=l2, clf__solver=lbfgs;, score=0.633 total time=   0.1s\n",
      "[CV 15/15] END clf__C=0.1, clf__penalty=l2, clf__solver=lbfgs;, score=0.657 total time=   0.1s\n",
      "[CV 1/15] END clf__C=0.1, clf__penalty=l2, clf__solver=liblinear;, score=0.656 total time=   0.1s\n",
      "[CV 2/15] END clf__C=0.1, clf__penalty=l2, clf__solver=liblinear;, score=0.612 total time=   0.1s\n",
      "[CV 3/15] END clf__C=0.1, clf__penalty=l2, clf__solver=liblinear;, score=0.601 total time=   0.1s\n",
      "[CV 4/15] END clf__C=0.1, clf__penalty=l2, clf__solver=liblinear;, score=0.604 total time=   0.1s\n",
      "[CV 5/15] END clf__C=0.1, clf__penalty=l2, clf__solver=liblinear;, score=0.577 total time=   0.1s\n",
      "[CV 6/15] END clf__C=0.1, clf__penalty=l2, clf__solver=liblinear;, score=0.534 total time=   0.1s\n",
      "[CV 7/15] END clf__C=0.1, clf__penalty=l2, clf__solver=liblinear;, score=0.656 total time=   0.1s\n",
      "[CV 8/15] END clf__C=0.1, clf__penalty=l2, clf__solver=liblinear;, score=0.643 total time=   0.1s\n",
      "[CV 9/15] END clf__C=0.1, clf__penalty=l2, clf__solver=liblinear;, score=0.580 total time=   0.1s\n",
      "[CV 10/15] END clf__C=0.1, clf__penalty=l2, clf__solver=liblinear;, score=0.619 total time=   0.1s\n",
      "[CV 11/15] END clf__C=0.1, clf__penalty=l2, clf__solver=liblinear;, score=0.601 total time=   0.1s\n",
      "[CV 12/15] END clf__C=0.1, clf__penalty=l2, clf__solver=liblinear;, score=0.585 total time=   0.1s\n",
      "[CV 13/15] END clf__C=0.1, clf__penalty=l2, clf__solver=liblinear;, score=0.610 total time=   0.1s\n",
      "[CV 14/15] END clf__C=0.1, clf__penalty=l2, clf__solver=liblinear;, score=0.618 total time=   0.1s\n",
      "[CV 15/15] END clf__C=0.1, clf__penalty=l2, clf__solver=liblinear;, score=0.666 total time=   0.1s\n",
      "[CV 1/15] END clf__C=0.1, clf__penalty=l2, clf__solver=sag;, score=0.641 total time=   0.2s\n",
      "[CV 2/15] END clf__C=0.1, clf__penalty=l2, clf__solver=sag;, score=0.625 total time=   0.2s\n",
      "[CV 3/15] END clf__C=0.1, clf__penalty=l2, clf__solver=sag;, score=0.628 total time=   0.2s\n",
      "[CV 4/15] END clf__C=0.1, clf__penalty=l2, clf__solver=sag;, score=0.581 total time=   0.2s\n",
      "[CV 5/15] END clf__C=0.1, clf__penalty=l2, clf__solver=sag;, score=0.580 total time=   0.2s\n",
      "[CV 6/15] END clf__C=0.1, clf__penalty=l2, clf__solver=sag;, score=0.548 total time=   0.2s\n",
      "[CV 7/15] END clf__C=0.1, clf__penalty=l2, clf__solver=sag;, score=0.640 total time=   0.2s\n",
      "[CV 8/15] END clf__C=0.1, clf__penalty=l2, clf__solver=sag;, score=0.659 total time=   0.2s\n",
      "[CV 9/15] END clf__C=0.1, clf__penalty=l2, clf__solver=sag;, score=0.586 total time=   0.2s\n",
      "[CV 10/15] END clf__C=0.1, clf__penalty=l2, clf__solver=sag;, score=0.600 total time=   0.2s\n",
      "[CV 11/15] END clf__C=0.1, clf__penalty=l2, clf__solver=sag;, score=0.588 total time=   0.2s\n",
      "[CV 12/15] END clf__C=0.1, clf__penalty=l2, clf__solver=sag;, score=0.590 total time=   0.2s\n"
     ]
    },
    {
     "name": "stdout",
     "output_type": "stream",
     "text": [
      "[CV 13/15] END clf__C=0.1, clf__penalty=l2, clf__solver=sag;, score=0.624 total time=   0.2s\n",
      "[CV 14/15] END clf__C=0.1, clf__penalty=l2, clf__solver=sag;, score=0.633 total time=   0.2s\n",
      "[CV 15/15] END clf__C=0.1, clf__penalty=l2, clf__solver=sag;, score=0.657 total time=   0.2s\n"
     ]
    },
    {
     "name": "stderr",
     "output_type": "stream",
     "text": [
      "/Users/guy/miniforge3/envs/.venv/lib/python3.9/site-packages/sklearn/linear_model/_logistic.py:1483: UserWarning: Setting penalty='none' will ignore the C and l1_ratio parameters\n",
      "  warnings.warn(\n"
     ]
    },
    {
     "name": "stdout",
     "output_type": "stream",
     "text": [
      "[CV 1/15] END clf__C=0.1, clf__penalty=none, clf__solver=lbfgs;, score=0.635 total time=   0.3s\n"
     ]
    },
    {
     "name": "stderr",
     "output_type": "stream",
     "text": [
      "/Users/guy/miniforge3/envs/.venv/lib/python3.9/site-packages/sklearn/linear_model/_logistic.py:1483: UserWarning: Setting penalty='none' will ignore the C and l1_ratio parameters\n",
      "  warnings.warn(\n"
     ]
    },
    {
     "name": "stdout",
     "output_type": "stream",
     "text": [
      "[CV 2/15] END clf__C=0.1, clf__penalty=none, clf__solver=lbfgs;, score=0.619 total time=   0.4s\n"
     ]
    },
    {
     "name": "stderr",
     "output_type": "stream",
     "text": [
      "/Users/guy/miniforge3/envs/.venv/lib/python3.9/site-packages/sklearn/linear_model/_logistic.py:1483: UserWarning: Setting penalty='none' will ignore the C and l1_ratio parameters\n",
      "  warnings.warn(\n"
     ]
    },
    {
     "name": "stdout",
     "output_type": "stream",
     "text": [
      "[CV 3/15] END clf__C=0.1, clf__penalty=none, clf__solver=lbfgs;, score=0.640 total time=   0.4s\n"
     ]
    },
    {
     "name": "stderr",
     "output_type": "stream",
     "text": [
      "/Users/guy/miniforge3/envs/.venv/lib/python3.9/site-packages/sklearn/linear_model/_logistic.py:1483: UserWarning: Setting penalty='none' will ignore the C and l1_ratio parameters\n",
      "  warnings.warn(\n"
     ]
    },
    {
     "name": "stdout",
     "output_type": "stream",
     "text": [
      "[CV 4/15] END clf__C=0.1, clf__penalty=none, clf__solver=lbfgs;, score=0.565 total time=   0.4s\n"
     ]
    },
    {
     "name": "stderr",
     "output_type": "stream",
     "text": [
      "/Users/guy/miniforge3/envs/.venv/lib/python3.9/site-packages/sklearn/linear_model/_logistic.py:1483: UserWarning: Setting penalty='none' will ignore the C and l1_ratio parameters\n",
      "  warnings.warn(\n"
     ]
    },
    {
     "name": "stdout",
     "output_type": "stream",
     "text": [
      "[CV 5/15] END clf__C=0.1, clf__penalty=none, clf__solver=lbfgs;, score=0.582 total time=   0.4s\n"
     ]
    },
    {
     "name": "stderr",
     "output_type": "stream",
     "text": [
      "/Users/guy/miniforge3/envs/.venv/lib/python3.9/site-packages/sklearn/linear_model/_logistic.py:1483: UserWarning: Setting penalty='none' will ignore the C and l1_ratio parameters\n",
      "  warnings.warn(\n"
     ]
    },
    {
     "name": "stdout",
     "output_type": "stream",
     "text": [
      "[CV 6/15] END clf__C=0.1, clf__penalty=none, clf__solver=lbfgs;, score=0.554 total time=   0.4s\n"
     ]
    },
    {
     "name": "stderr",
     "output_type": "stream",
     "text": [
      "/Users/guy/miniforge3/envs/.venv/lib/python3.9/site-packages/sklearn/linear_model/_logistic.py:1483: UserWarning: Setting penalty='none' will ignore the C and l1_ratio parameters\n",
      "  warnings.warn(\n"
     ]
    },
    {
     "name": "stdout",
     "output_type": "stream",
     "text": [
      "[CV 7/15] END clf__C=0.1, clf__penalty=none, clf__solver=lbfgs;, score=0.649 total time=   0.4s\n"
     ]
    },
    {
     "name": "stderr",
     "output_type": "stream",
     "text": [
      "/Users/guy/miniforge3/envs/.venv/lib/python3.9/site-packages/sklearn/linear_model/_logistic.py:1483: UserWarning: Setting penalty='none' will ignore the C and l1_ratio parameters\n",
      "  warnings.warn(\n"
     ]
    },
    {
     "name": "stdout",
     "output_type": "stream",
     "text": [
      "[CV 8/15] END clf__C=0.1, clf__penalty=none, clf__solver=lbfgs;, score=0.653 total time=   0.5s\n"
     ]
    },
    {
     "name": "stderr",
     "output_type": "stream",
     "text": [
      "/Users/guy/miniforge3/envs/.venv/lib/python3.9/site-packages/sklearn/linear_model/_logistic.py:1483: UserWarning: Setting penalty='none' will ignore the C and l1_ratio parameters\n",
      "  warnings.warn(\n"
     ]
    },
    {
     "name": "stdout",
     "output_type": "stream",
     "text": [
      "[CV 9/15] END clf__C=0.1, clf__penalty=none, clf__solver=lbfgs;, score=0.584 total time=   0.4s\n"
     ]
    },
    {
     "name": "stderr",
     "output_type": "stream",
     "text": [
      "/Users/guy/miniforge3/envs/.venv/lib/python3.9/site-packages/sklearn/linear_model/_logistic.py:1483: UserWarning: Setting penalty='none' will ignore the C and l1_ratio parameters\n",
      "  warnings.warn(\n"
     ]
    },
    {
     "name": "stdout",
     "output_type": "stream",
     "text": [
      "[CV 10/15] END clf__C=0.1, clf__penalty=none, clf__solver=lbfgs;, score=0.623 total time=   0.4s\n"
     ]
    },
    {
     "name": "stderr",
     "output_type": "stream",
     "text": [
      "/Users/guy/miniforge3/envs/.venv/lib/python3.9/site-packages/sklearn/linear_model/_logistic.py:1483: UserWarning: Setting penalty='none' will ignore the C and l1_ratio parameters\n",
      "  warnings.warn(\n"
     ]
    },
    {
     "name": "stdout",
     "output_type": "stream",
     "text": [
      "[CV 11/15] END clf__C=0.1, clf__penalty=none, clf__solver=lbfgs;, score=0.576 total time=   0.4s\n"
     ]
    },
    {
     "name": "stderr",
     "output_type": "stream",
     "text": [
      "/Users/guy/miniforge3/envs/.venv/lib/python3.9/site-packages/sklearn/linear_model/_logistic.py:1483: UserWarning: Setting penalty='none' will ignore the C and l1_ratio parameters\n",
      "  warnings.warn(\n"
     ]
    },
    {
     "name": "stdout",
     "output_type": "stream",
     "text": [
      "[CV 12/15] END clf__C=0.1, clf__penalty=none, clf__solver=lbfgs;, score=0.586 total time=   0.4s\n"
     ]
    },
    {
     "name": "stderr",
     "output_type": "stream",
     "text": [
      "/Users/guy/miniforge3/envs/.venv/lib/python3.9/site-packages/sklearn/linear_model/_logistic.py:1483: UserWarning: Setting penalty='none' will ignore the C and l1_ratio parameters\n",
      "  warnings.warn(\n"
     ]
    },
    {
     "name": "stdout",
     "output_type": "stream",
     "text": [
      "[CV 13/15] END clf__C=0.1, clf__penalty=none, clf__solver=lbfgs;, score=0.643 total time=   0.4s\n"
     ]
    },
    {
     "name": "stderr",
     "output_type": "stream",
     "text": [
      "/Users/guy/miniforge3/envs/.venv/lib/python3.9/site-packages/sklearn/linear_model/_logistic.py:1483: UserWarning: Setting penalty='none' will ignore the C and l1_ratio parameters\n",
      "  warnings.warn(\n"
     ]
    },
    {
     "name": "stdout",
     "output_type": "stream",
     "text": [
      "[CV 14/15] END clf__C=0.1, clf__penalty=none, clf__solver=lbfgs;, score=0.633 total time=   0.4s\n"
     ]
    },
    {
     "name": "stderr",
     "output_type": "stream",
     "text": [
      "/Users/guy/miniforge3/envs/.venv/lib/python3.9/site-packages/sklearn/linear_model/_logistic.py:1483: UserWarning: Setting penalty='none' will ignore the C and l1_ratio parameters\n",
      "  warnings.warn(\n"
     ]
    },
    {
     "name": "stdout",
     "output_type": "stream",
     "text": [
      "[CV 15/15] END clf__C=0.1, clf__penalty=none, clf__solver=lbfgs;, score=0.668 total time=   0.3s\n",
      "[CV 1/15] END clf__C=0.1, clf__penalty=none, clf__solver=liblinear;, score=nan total time=   0.0s\n",
      "[CV 2/15] END clf__C=0.1, clf__penalty=none, clf__solver=liblinear;, score=nan total time=   0.0s\n",
      "[CV 3/15] END clf__C=0.1, clf__penalty=none, clf__solver=liblinear;, score=nan total time=   0.0s\n",
      "[CV 4/15] END clf__C=0.1, clf__penalty=none, clf__solver=liblinear;, score=nan total time=   0.0s\n",
      "[CV 5/15] END clf__C=0.1, clf__penalty=none, clf__solver=liblinear;, score=nan total time=   0.0s\n",
      "[CV 6/15] END clf__C=0.1, clf__penalty=none, clf__solver=liblinear;, score=nan total time=   0.0s\n",
      "[CV 7/15] END clf__C=0.1, clf__penalty=none, clf__solver=liblinear;, score=nan total time=   0.0s\n",
      "[CV 8/15] END clf__C=0.1, clf__penalty=none, clf__solver=liblinear;, score=nan total time=   0.0s\n",
      "[CV 9/15] END clf__C=0.1, clf__penalty=none, clf__solver=liblinear;, score=nan total time=   0.0s\n",
      "[CV 10/15] END clf__C=0.1, clf__penalty=none, clf__solver=liblinear;, score=nan total time=   0.0s\n",
      "[CV 11/15] END clf__C=0.1, clf__penalty=none, clf__solver=liblinear;, score=nan total time=   0.0s\n",
      "[CV 12/15] END clf__C=0.1, clf__penalty=none, clf__solver=liblinear;, score=nan total time=   0.0s\n",
      "[CV 13/15] END clf__C=0.1, clf__penalty=none, clf__solver=liblinear;, score=nan total time=   0.0s\n",
      "[CV 14/15] END clf__C=0.1, clf__penalty=none, clf__solver=liblinear;, score=nan total time=   0.0s\n",
      "[CV 15/15] END clf__C=0.1, clf__penalty=none, clf__solver=liblinear;, score=nan total time=   0.0s\n"
     ]
    },
    {
     "name": "stderr",
     "output_type": "stream",
     "text": [
      "/Users/guy/miniforge3/envs/.venv/lib/python3.9/site-packages/sklearn/linear_model/_logistic.py:1483: UserWarning: Setting penalty='none' will ignore the C and l1_ratio parameters\n",
      "  warnings.warn(\n"
     ]
    },
    {
     "name": "stdout",
     "output_type": "stream",
     "text": [
      "[CV 1/15] END clf__C=0.1, clf__penalty=none, clf__solver=sag;, score=0.635 total time=   0.9s\n"
     ]
    },
    {
     "name": "stderr",
     "output_type": "stream",
     "text": [
      "/Users/guy/miniforge3/envs/.venv/lib/python3.9/site-packages/sklearn/linear_model/_logistic.py:1483: UserWarning: Setting penalty='none' will ignore the C and l1_ratio parameters\n",
      "  warnings.warn(\n"
     ]
    },
    {
     "name": "stdout",
     "output_type": "stream",
     "text": [
      "[CV 2/15] END clf__C=0.1, clf__penalty=none, clf__solver=sag;, score=0.619 total time=   1.6s\n"
     ]
    },
    {
     "name": "stderr",
     "output_type": "stream",
     "text": [
      "/Users/guy/miniforge3/envs/.venv/lib/python3.9/site-packages/sklearn/linear_model/_logistic.py:1483: UserWarning: Setting penalty='none' will ignore the C and l1_ratio parameters\n",
      "  warnings.warn(\n"
     ]
    },
    {
     "name": "stdout",
     "output_type": "stream",
     "text": [
      "[CV 3/15] END clf__C=0.1, clf__penalty=none, clf__solver=sag;, score=0.640 total time=   1.6s\n"
     ]
    },
    {
     "name": "stderr",
     "output_type": "stream",
     "text": [
      "/Users/guy/miniforge3/envs/.venv/lib/python3.9/site-packages/sklearn/linear_model/_logistic.py:1483: UserWarning: Setting penalty='none' will ignore the C and l1_ratio parameters\n",
      "  warnings.warn(\n"
     ]
    },
    {
     "name": "stdout",
     "output_type": "stream",
     "text": [
      "[CV 4/15] END clf__C=0.1, clf__penalty=none, clf__solver=sag;, score=0.565 total time=   1.4s\n"
     ]
    },
    {
     "name": "stderr",
     "output_type": "stream",
     "text": [
      "/Users/guy/miniforge3/envs/.venv/lib/python3.9/site-packages/sklearn/linear_model/_logistic.py:1483: UserWarning: Setting penalty='none' will ignore the C and l1_ratio parameters\n",
      "  warnings.warn(\n"
     ]
    },
    {
     "name": "stdout",
     "output_type": "stream",
     "text": [
      "[CV 5/15] END clf__C=0.1, clf__penalty=none, clf__solver=sag;, score=0.582 total time=   1.4s\n"
     ]
    },
    {
     "name": "stderr",
     "output_type": "stream",
     "text": [
      "/Users/guy/miniforge3/envs/.venv/lib/python3.9/site-packages/sklearn/linear_model/_logistic.py:1483: UserWarning: Setting penalty='none' will ignore the C and l1_ratio parameters\n",
      "  warnings.warn(\n"
     ]
    },
    {
     "name": "stdout",
     "output_type": "stream",
     "text": [
      "[CV 6/15] END clf__C=0.1, clf__penalty=none, clf__solver=sag;, score=0.554 total time=   1.6s\n"
     ]
    },
    {
     "name": "stderr",
     "output_type": "stream",
     "text": [
      "/Users/guy/miniforge3/envs/.venv/lib/python3.9/site-packages/sklearn/linear_model/_logistic.py:1483: UserWarning: Setting penalty='none' will ignore the C and l1_ratio parameters\n",
      "  warnings.warn(\n"
     ]
    },
    {
     "name": "stdout",
     "output_type": "stream",
     "text": [
      "[CV 7/15] END clf__C=0.1, clf__penalty=none, clf__solver=sag;, score=0.649 total time=   1.1s\n"
     ]
    },
    {
     "name": "stderr",
     "output_type": "stream",
     "text": [
      "/Users/guy/miniforge3/envs/.venv/lib/python3.9/site-packages/sklearn/linear_model/_logistic.py:1483: UserWarning: Setting penalty='none' will ignore the C and l1_ratio parameters\n",
      "  warnings.warn(\n"
     ]
    },
    {
     "name": "stdout",
     "output_type": "stream",
     "text": [
      "[CV 8/15] END clf__C=0.1, clf__penalty=none, clf__solver=sag;, score=0.653 total time=   1.6s\n"
     ]
    },
    {
     "name": "stderr",
     "output_type": "stream",
     "text": [
      "/Users/guy/miniforge3/envs/.venv/lib/python3.9/site-packages/sklearn/linear_model/_logistic.py:1483: UserWarning: Setting penalty='none' will ignore the C and l1_ratio parameters\n",
      "  warnings.warn(\n"
     ]
    },
    {
     "name": "stdout",
     "output_type": "stream",
     "text": [
      "[CV 9/15] END clf__C=0.1, clf__penalty=none, clf__solver=sag;, score=0.584 total time=   1.6s\n"
     ]
    },
    {
     "name": "stderr",
     "output_type": "stream",
     "text": [
      "/Users/guy/miniforge3/envs/.venv/lib/python3.9/site-packages/sklearn/linear_model/_logistic.py:1483: UserWarning: Setting penalty='none' will ignore the C and l1_ratio parameters\n",
      "  warnings.warn(\n"
     ]
    },
    {
     "name": "stdout",
     "output_type": "stream",
     "text": [
      "[CV 10/15] END clf__C=0.1, clf__penalty=none, clf__solver=sag;, score=0.622 total time=   1.4s\n"
     ]
    },
    {
     "name": "stderr",
     "output_type": "stream",
     "text": [
      "/Users/guy/miniforge3/envs/.venv/lib/python3.9/site-packages/sklearn/linear_model/_logistic.py:1483: UserWarning: Setting penalty='none' will ignore the C and l1_ratio parameters\n",
      "  warnings.warn(\n"
     ]
    },
    {
     "name": "stdout",
     "output_type": "stream",
     "text": [
      "[CV 11/15] END clf__C=0.1, clf__penalty=none, clf__solver=sag;, score=0.576 total time=   1.4s\n"
     ]
    },
    {
     "name": "stderr",
     "output_type": "stream",
     "text": [
      "/Users/guy/miniforge3/envs/.venv/lib/python3.9/site-packages/sklearn/linear_model/_logistic.py:1483: UserWarning: Setting penalty='none' will ignore the C and l1_ratio parameters\n",
      "  warnings.warn(\n"
     ]
    },
    {
     "name": "stdout",
     "output_type": "stream",
     "text": [
      "[CV 12/15] END clf__C=0.1, clf__penalty=none, clf__solver=sag;, score=0.586 total time=   1.6s\n"
     ]
    },
    {
     "name": "stderr",
     "output_type": "stream",
     "text": [
      "/Users/guy/miniforge3/envs/.venv/lib/python3.9/site-packages/sklearn/linear_model/_logistic.py:1483: UserWarning: Setting penalty='none' will ignore the C and l1_ratio parameters\n",
      "  warnings.warn(\n"
     ]
    },
    {
     "name": "stdout",
     "output_type": "stream",
     "text": [
      "[CV 13/15] END clf__C=0.1, clf__penalty=none, clf__solver=sag;, score=0.643 total time=   1.5s\n"
     ]
    },
    {
     "name": "stderr",
     "output_type": "stream",
     "text": [
      "/Users/guy/miniforge3/envs/.venv/lib/python3.9/site-packages/sklearn/linear_model/_logistic.py:1483: UserWarning: Setting penalty='none' will ignore the C and l1_ratio parameters\n",
      "  warnings.warn(\n"
     ]
    },
    {
     "name": "stdout",
     "output_type": "stream",
     "text": [
      "[CV 14/15] END clf__C=0.1, clf__penalty=none, clf__solver=sag;, score=0.633 total time=   1.6s\n"
     ]
    },
    {
     "name": "stderr",
     "output_type": "stream",
     "text": [
      "/Users/guy/miniforge3/envs/.venv/lib/python3.9/site-packages/sklearn/linear_model/_logistic.py:1483: UserWarning: Setting penalty='none' will ignore the C and l1_ratio parameters\n",
      "  warnings.warn(\n"
     ]
    },
    {
     "name": "stdout",
     "output_type": "stream",
     "text": [
      "[CV 15/15] END clf__C=0.1, clf__penalty=none, clf__solver=sag;, score=0.668 total time=   0.9s\n",
      "[CV 1/15] END clf__C=0.11787686347935872, clf__penalty=l1, clf__solver=lbfgs;, score=nan total time=   0.0s\n",
      "[CV 2/15] END clf__C=0.11787686347935872, clf__penalty=l1, clf__solver=lbfgs;, score=nan total time=   0.0s\n",
      "[CV 3/15] END clf__C=0.11787686347935872, clf__penalty=l1, clf__solver=lbfgs;, score=nan total time=   0.0s\n",
      "[CV 4/15] END clf__C=0.11787686347935872, clf__penalty=l1, clf__solver=lbfgs;, score=nan total time=   0.0s\n",
      "[CV 5/15] END clf__C=0.11787686347935872, clf__penalty=l1, clf__solver=lbfgs;, score=nan total time=   0.0s\n",
      "[CV 6/15] END clf__C=0.11787686347935872, clf__penalty=l1, clf__solver=lbfgs;, score=nan total time=   0.0s\n",
      "[CV 7/15] END clf__C=0.11787686347935872, clf__penalty=l1, clf__solver=lbfgs;, score=nan total time=   0.0s\n",
      "[CV 8/15] END clf__C=0.11787686347935872, clf__penalty=l1, clf__solver=lbfgs;, score=nan total time=   0.0s\n",
      "[CV 9/15] END clf__C=0.11787686347935872, clf__penalty=l1, clf__solver=lbfgs;, score=nan total time=   0.0s\n",
      "[CV 10/15] END clf__C=0.11787686347935872, clf__penalty=l1, clf__solver=lbfgs;, score=nan total time=   0.0s\n",
      "[CV 11/15] END clf__C=0.11787686347935872, clf__penalty=l1, clf__solver=lbfgs;, score=nan total time=   0.0s\n",
      "[CV 12/15] END clf__C=0.11787686347935872, clf__penalty=l1, clf__solver=lbfgs;, score=nan total time=   0.0s\n",
      "[CV 13/15] END clf__C=0.11787686347935872, clf__penalty=l1, clf__solver=lbfgs;, score=nan total time=   0.0s\n",
      "[CV 14/15] END clf__C=0.11787686347935872, clf__penalty=l1, clf__solver=lbfgs;, score=nan total time=   0.0s\n",
      "[CV 15/15] END clf__C=0.11787686347935872, clf__penalty=l1, clf__solver=lbfgs;, score=nan total time=   0.0s\n",
      "[CV 1/15] END clf__C=0.11787686347935872, clf__penalty=l1, clf__solver=liblinear;, score=0.621 total time=   0.2s\n",
      "[CV 2/15] END clf__C=0.11787686347935872, clf__penalty=l1, clf__solver=liblinear;, score=0.616 total time=   0.2s\n",
      "[CV 3/15] END clf__C=0.11787686347935872, clf__penalty=l1, clf__solver=liblinear;, score=0.640 total time=   0.2s\n",
      "[CV 4/15] END clf__C=0.11787686347935872, clf__penalty=l1, clf__solver=liblinear;, score=0.589 total time=   0.2s\n",
      "[CV 5/15] END clf__C=0.11787686347935872, clf__penalty=l1, clf__solver=liblinear;, score=0.573 total time=   0.2s\n",
      "[CV 6/15] END clf__C=0.11787686347935872, clf__penalty=l1, clf__solver=liblinear;, score=0.576 total time=   0.2s\n",
      "[CV 7/15] END clf__C=0.11787686347935872, clf__penalty=l1, clf__solver=liblinear;, score=0.646 total time=   0.2s\n",
      "[CV 8/15] END clf__C=0.11787686347935872, clf__penalty=l1, clf__solver=liblinear;, score=0.624 total time=   0.2s\n",
      "[CV 9/15] END clf__C=0.11787686347935872, clf__penalty=l1, clf__solver=liblinear;, score=0.592 total time=   0.2s\n",
      "[CV 10/15] END clf__C=0.11787686347935872, clf__penalty=l1, clf__solver=liblinear;, score=0.600 total time=   0.2s\n",
      "[CV 11/15] END clf__C=0.11787686347935872, clf__penalty=l1, clf__solver=liblinear;, score=0.608 total time=   0.2s\n",
      "[CV 12/15] END clf__C=0.11787686347935872, clf__penalty=l1, clf__solver=liblinear;, score=0.565 total time=   0.2s\n",
      "[CV 13/15] END clf__C=0.11787686347935872, clf__penalty=l1, clf__solver=liblinear;, score=0.571 total time=   0.2s\n",
      "[CV 14/15] END clf__C=0.11787686347935872, clf__penalty=l1, clf__solver=liblinear;, score=0.642 total time=   0.2s\n",
      "[CV 15/15] END clf__C=0.11787686347935872, clf__penalty=l1, clf__solver=liblinear;, score=0.645 total time=   0.2s\n",
      "[CV 1/15] END clf__C=0.11787686347935872, clf__penalty=l1, clf__solver=sag;, score=nan total time=   0.0s\n",
      "[CV 2/15] END clf__C=0.11787686347935872, clf__penalty=l1, clf__solver=sag;, score=nan total time=   0.0s\n",
      "[CV 3/15] END clf__C=0.11787686347935872, clf__penalty=l1, clf__solver=sag;, score=nan total time=   0.0s\n",
      "[CV 4/15] END clf__C=0.11787686347935872, clf__penalty=l1, clf__solver=sag;, score=nan total time=   0.0s\n",
      "[CV 5/15] END clf__C=0.11787686347935872, clf__penalty=l1, clf__solver=sag;, score=nan total time=   0.0s\n",
      "[CV 6/15] END clf__C=0.11787686347935872, clf__penalty=l1, clf__solver=sag;, score=nan total time=   0.0s\n",
      "[CV 7/15] END clf__C=0.11787686347935872, clf__penalty=l1, clf__solver=sag;, score=nan total time=   0.0s\n",
      "[CV 8/15] END clf__C=0.11787686347935872, clf__penalty=l1, clf__solver=sag;, score=nan total time=   0.0s\n",
      "[CV 9/15] END clf__C=0.11787686347935872, clf__penalty=l1, clf__solver=sag;, score=nan total time=   0.0s\n",
      "[CV 10/15] END clf__C=0.11787686347935872, clf__penalty=l1, clf__solver=sag;, score=nan total time=   0.0s\n",
      "[CV 11/15] END clf__C=0.11787686347935872, clf__penalty=l1, clf__solver=sag;, score=nan total time=   0.0s\n",
      "[CV 12/15] END clf__C=0.11787686347935872, clf__penalty=l1, clf__solver=sag;, score=nan total time=   0.0s\n",
      "[CV 13/15] END clf__C=0.11787686347935872, clf__penalty=l1, clf__solver=sag;, score=nan total time=   0.0s\n",
      "[CV 14/15] END clf__C=0.11787686347935872, clf__penalty=l1, clf__solver=sag;, score=nan total time=   0.0s\n",
      "[CV 15/15] END clf__C=0.11787686347935872, clf__penalty=l1, clf__solver=sag;, score=nan total time=   0.0s\n",
      "[CV 1/15] END clf__C=0.11787686347935872, clf__penalty=l2, clf__solver=lbfgs;, score=0.641 total time=   0.1s\n",
      "[CV 2/15] END clf__C=0.11787686347935872, clf__penalty=l2, clf__solver=lbfgs;, score=0.625 total time=   0.1s\n",
      "[CV 3/15] END clf__C=0.11787686347935872, clf__penalty=l2, clf__solver=lbfgs;, score=0.629 total time=   0.1s\n",
      "[CV 4/15] END clf__C=0.11787686347935872, clf__penalty=l2, clf__solver=lbfgs;, score=0.580 total time=   0.1s\n",
      "[CV 5/15] END clf__C=0.11787686347935872, clf__penalty=l2, clf__solver=lbfgs;, score=0.580 total time=   0.1s\n",
      "[CV 6/15] END clf__C=0.11787686347935872, clf__penalty=l2, clf__solver=lbfgs;, score=0.548 total time=   0.1s\n",
      "[CV 7/15] END clf__C=0.11787686347935872, clf__penalty=l2, clf__solver=lbfgs;, score=0.641 total time=   0.1s\n",
      "[CV 8/15] END clf__C=0.11787686347935872, clf__penalty=l2, clf__solver=lbfgs;, score=0.660 total time=   0.1s\n",
      "[CV 9/15] END clf__C=0.11787686347935872, clf__penalty=l2, clf__solver=lbfgs;, score=0.586 total time=   0.1s\n",
      "[CV 10/15] END clf__C=0.11787686347935872, clf__penalty=l2, clf__solver=lbfgs;, score=0.602 total time=   0.1s\n",
      "[CV 11/15] END clf__C=0.11787686347935872, clf__penalty=l2, clf__solver=lbfgs;, score=0.587 total time=   0.1s\n",
      "[CV 12/15] END clf__C=0.11787686347935872, clf__penalty=l2, clf__solver=lbfgs;, score=0.590 total time=   0.1s\n",
      "[CV 13/15] END clf__C=0.11787686347935872, clf__penalty=l2, clf__solver=lbfgs;, score=0.625 total time=   0.1s\n",
      "[CV 14/15] END clf__C=0.11787686347935872, clf__penalty=l2, clf__solver=lbfgs;, score=0.634 total time=   0.1s\n",
      "[CV 15/15] END clf__C=0.11787686347935872, clf__penalty=l2, clf__solver=lbfgs;, score=0.659 total time=   0.1s\n",
      "[CV 1/15] END clf__C=0.11787686347935872, clf__penalty=l2, clf__solver=liblinear;, score=0.655 total time=   0.1s\n",
      "[CV 2/15] END clf__C=0.11787686347935872, clf__penalty=l2, clf__solver=liblinear;, score=0.614 total time=   0.1s\n",
      "[CV 3/15] END clf__C=0.11787686347935872, clf__penalty=l2, clf__solver=liblinear;, score=0.605 total time=   0.1s\n",
      "[CV 4/15] END clf__C=0.11787686347935872, clf__penalty=l2, clf__solver=liblinear;, score=0.602 total time=   0.1s\n",
      "[CV 5/15] END clf__C=0.11787686347935872, clf__penalty=l2, clf__solver=liblinear;, score=0.577 total time=   0.1s\n",
      "[CV 6/15] END clf__C=0.11787686347935872, clf__penalty=l2, clf__solver=liblinear;, score=0.535 total time=   0.1s\n",
      "[CV 7/15] END clf__C=0.11787686347935872, clf__penalty=l2, clf__solver=liblinear;, score=0.656 total time=   0.1s\n",
      "[CV 8/15] END clf__C=0.11787686347935872, clf__penalty=l2, clf__solver=liblinear;, score=0.647 total time=   0.1s\n",
      "[CV 9/15] END clf__C=0.11787686347935872, clf__penalty=l2, clf__solver=liblinear;, score=0.581 total time=   0.1s\n",
      "[CV 10/15] END clf__C=0.11787686347935872, clf__penalty=l2, clf__solver=liblinear;, score=0.619 total time=   0.1s\n",
      "[CV 11/15] END clf__C=0.11787686347935872, clf__penalty=l2, clf__solver=liblinear;, score=0.600 total time=   0.1s\n",
      "[CV 12/15] END clf__C=0.11787686347935872, clf__penalty=l2, clf__solver=liblinear;, score=0.585 total time=   0.1s\n",
      "[CV 13/15] END clf__C=0.11787686347935872, clf__penalty=l2, clf__solver=liblinear;, score=0.613 total time=   0.1s\n",
      "[CV 14/15] END clf__C=0.11787686347935872, clf__penalty=l2, clf__solver=liblinear;, score=0.620 total time=   0.1s\n"
     ]
    },
    {
     "name": "stdout",
     "output_type": "stream",
     "text": [
      "[CV 15/15] END clf__C=0.11787686347935872, clf__penalty=l2, clf__solver=liblinear;, score=0.668 total time=   0.1s\n",
      "[CV 1/15] END clf__C=0.11787686347935872, clf__penalty=l2, clf__solver=sag;, score=0.641 total time=   0.2s\n",
      "[CV 2/15] END clf__C=0.11787686347935872, clf__penalty=l2, clf__solver=sag;, score=0.625 total time=   0.2s\n",
      "[CV 3/15] END clf__C=0.11787686347935872, clf__penalty=l2, clf__solver=sag;, score=0.629 total time=   0.2s\n",
      "[CV 4/15] END clf__C=0.11787686347935872, clf__penalty=l2, clf__solver=sag;, score=0.580 total time=   0.2s\n",
      "[CV 5/15] END clf__C=0.11787686347935872, clf__penalty=l2, clf__solver=sag;, score=0.580 total time=   0.2s\n",
      "[CV 6/15] END clf__C=0.11787686347935872, clf__penalty=l2, clf__solver=sag;, score=0.548 total time=   0.2s\n",
      "[CV 7/15] END clf__C=0.11787686347935872, clf__penalty=l2, clf__solver=sag;, score=0.641 total time=   0.2s\n",
      "[CV 8/15] END clf__C=0.11787686347935872, clf__penalty=l2, clf__solver=sag;, score=0.660 total time=   0.2s\n",
      "[CV 9/15] END clf__C=0.11787686347935872, clf__penalty=l2, clf__solver=sag;, score=0.586 total time=   0.2s\n",
      "[CV 10/15] END clf__C=0.11787686347935872, clf__penalty=l2, clf__solver=sag;, score=0.602 total time=   0.2s\n",
      "[CV 11/15] END clf__C=0.11787686347935872, clf__penalty=l2, clf__solver=sag;, score=0.587 total time=   0.2s\n",
      "[CV 12/15] END clf__C=0.11787686347935872, clf__penalty=l2, clf__solver=sag;, score=0.589 total time=   0.2s\n",
      "[CV 13/15] END clf__C=0.11787686347935872, clf__penalty=l2, clf__solver=sag;, score=0.625 total time=   0.2s\n",
      "[CV 14/15] END clf__C=0.11787686347935872, clf__penalty=l2, clf__solver=sag;, score=0.634 total time=   0.2s\n",
      "[CV 15/15] END clf__C=0.11787686347935872, clf__penalty=l2, clf__solver=sag;, score=0.659 total time=   0.2s\n"
     ]
    },
    {
     "name": "stderr",
     "output_type": "stream",
     "text": [
      "/Users/guy/miniforge3/envs/.venv/lib/python3.9/site-packages/sklearn/linear_model/_logistic.py:1483: UserWarning: Setting penalty='none' will ignore the C and l1_ratio parameters\n",
      "  warnings.warn(\n"
     ]
    },
    {
     "name": "stdout",
     "output_type": "stream",
     "text": [
      "[CV 1/15] END clf__C=0.11787686347935872, clf__penalty=none, clf__solver=lbfgs;, score=0.635 total time=   0.3s\n"
     ]
    },
    {
     "name": "stderr",
     "output_type": "stream",
     "text": [
      "/Users/guy/miniforge3/envs/.venv/lib/python3.9/site-packages/sklearn/linear_model/_logistic.py:1483: UserWarning: Setting penalty='none' will ignore the C and l1_ratio parameters\n",
      "  warnings.warn(\n"
     ]
    },
    {
     "name": "stdout",
     "output_type": "stream",
     "text": [
      "[CV 2/15] END clf__C=0.11787686347935872, clf__penalty=none, clf__solver=lbfgs;, score=0.619 total time=   0.4s\n"
     ]
    },
    {
     "name": "stderr",
     "output_type": "stream",
     "text": [
      "/Users/guy/miniforge3/envs/.venv/lib/python3.9/site-packages/sklearn/linear_model/_logistic.py:1483: UserWarning: Setting penalty='none' will ignore the C and l1_ratio parameters\n",
      "  warnings.warn(\n"
     ]
    },
    {
     "name": "stdout",
     "output_type": "stream",
     "text": [
      "[CV 3/15] END clf__C=0.11787686347935872, clf__penalty=none, clf__solver=lbfgs;, score=0.640 total time=   0.4s\n"
     ]
    },
    {
     "name": "stderr",
     "output_type": "stream",
     "text": [
      "/Users/guy/miniforge3/envs/.venv/lib/python3.9/site-packages/sklearn/linear_model/_logistic.py:1483: UserWarning: Setting penalty='none' will ignore the C and l1_ratio parameters\n",
      "  warnings.warn(\n"
     ]
    },
    {
     "name": "stdout",
     "output_type": "stream",
     "text": [
      "[CV 4/15] END clf__C=0.11787686347935872, clf__penalty=none, clf__solver=lbfgs;, score=0.565 total time=   0.4s\n"
     ]
    },
    {
     "name": "stderr",
     "output_type": "stream",
     "text": [
      "/Users/guy/miniforge3/envs/.venv/lib/python3.9/site-packages/sklearn/linear_model/_logistic.py:1483: UserWarning: Setting penalty='none' will ignore the C and l1_ratio parameters\n",
      "  warnings.warn(\n"
     ]
    },
    {
     "name": "stdout",
     "output_type": "stream",
     "text": [
      "[CV 5/15] END clf__C=0.11787686347935872, clf__penalty=none, clf__solver=lbfgs;, score=0.582 total time=   0.4s\n"
     ]
    },
    {
     "name": "stderr",
     "output_type": "stream",
     "text": [
      "/Users/guy/miniforge3/envs/.venv/lib/python3.9/site-packages/sklearn/linear_model/_logistic.py:1483: UserWarning: Setting penalty='none' will ignore the C and l1_ratio parameters\n",
      "  warnings.warn(\n"
     ]
    },
    {
     "name": "stdout",
     "output_type": "stream",
     "text": [
      "[CV 6/15] END clf__C=0.11787686347935872, clf__penalty=none, clf__solver=lbfgs;, score=0.554 total time=   0.4s\n"
     ]
    },
    {
     "name": "stderr",
     "output_type": "stream",
     "text": [
      "/Users/guy/miniforge3/envs/.venv/lib/python3.9/site-packages/sklearn/linear_model/_logistic.py:1483: UserWarning: Setting penalty='none' will ignore the C and l1_ratio parameters\n",
      "  warnings.warn(\n"
     ]
    },
    {
     "name": "stdout",
     "output_type": "stream",
     "text": [
      "[CV 7/15] END clf__C=0.11787686347935872, clf__penalty=none, clf__solver=lbfgs;, score=0.649 total time=   0.4s\n"
     ]
    },
    {
     "name": "stderr",
     "output_type": "stream",
     "text": [
      "/Users/guy/miniforge3/envs/.venv/lib/python3.9/site-packages/sklearn/linear_model/_logistic.py:1483: UserWarning: Setting penalty='none' will ignore the C and l1_ratio parameters\n",
      "  warnings.warn(\n"
     ]
    },
    {
     "name": "stdout",
     "output_type": "stream",
     "text": [
      "[CV 8/15] END clf__C=0.11787686347935872, clf__penalty=none, clf__solver=lbfgs;, score=0.653 total time=   0.5s\n"
     ]
    },
    {
     "name": "stderr",
     "output_type": "stream",
     "text": [
      "/Users/guy/miniforge3/envs/.venv/lib/python3.9/site-packages/sklearn/linear_model/_logistic.py:1483: UserWarning: Setting penalty='none' will ignore the C and l1_ratio parameters\n",
      "  warnings.warn(\n"
     ]
    },
    {
     "name": "stdout",
     "output_type": "stream",
     "text": [
      "[CV 9/15] END clf__C=0.11787686347935872, clf__penalty=none, clf__solver=lbfgs;, score=0.584 total time=   0.4s\n"
     ]
    },
    {
     "name": "stderr",
     "output_type": "stream",
     "text": [
      "/Users/guy/miniforge3/envs/.venv/lib/python3.9/site-packages/sklearn/linear_model/_logistic.py:1483: UserWarning: Setting penalty='none' will ignore the C and l1_ratio parameters\n",
      "  warnings.warn(\n"
     ]
    },
    {
     "name": "stdout",
     "output_type": "stream",
     "text": [
      "[CV 10/15] END clf__C=0.11787686347935872, clf__penalty=none, clf__solver=lbfgs;, score=0.623 total time=   0.4s\n"
     ]
    },
    {
     "name": "stderr",
     "output_type": "stream",
     "text": [
      "/Users/guy/miniforge3/envs/.venv/lib/python3.9/site-packages/sklearn/linear_model/_logistic.py:1483: UserWarning: Setting penalty='none' will ignore the C and l1_ratio parameters\n",
      "  warnings.warn(\n"
     ]
    },
    {
     "name": "stdout",
     "output_type": "stream",
     "text": [
      "[CV 11/15] END clf__C=0.11787686347935872, clf__penalty=none, clf__solver=lbfgs;, score=0.576 total time=   0.4s\n"
     ]
    },
    {
     "name": "stderr",
     "output_type": "stream",
     "text": [
      "/Users/guy/miniforge3/envs/.venv/lib/python3.9/site-packages/sklearn/linear_model/_logistic.py:1483: UserWarning: Setting penalty='none' will ignore the C and l1_ratio parameters\n",
      "  warnings.warn(\n"
     ]
    },
    {
     "name": "stdout",
     "output_type": "stream",
     "text": [
      "[CV 12/15] END clf__C=0.11787686347935872, clf__penalty=none, clf__solver=lbfgs;, score=0.586 total time=   0.4s\n"
     ]
    },
    {
     "name": "stderr",
     "output_type": "stream",
     "text": [
      "/Users/guy/miniforge3/envs/.venv/lib/python3.9/site-packages/sklearn/linear_model/_logistic.py:1483: UserWarning: Setting penalty='none' will ignore the C and l1_ratio parameters\n",
      "  warnings.warn(\n"
     ]
    },
    {
     "name": "stdout",
     "output_type": "stream",
     "text": [
      "[CV 13/15] END clf__C=0.11787686347935872, clf__penalty=none, clf__solver=lbfgs;, score=0.643 total time=   0.5s\n"
     ]
    },
    {
     "name": "stderr",
     "output_type": "stream",
     "text": [
      "/Users/guy/miniforge3/envs/.venv/lib/python3.9/site-packages/sklearn/linear_model/_logistic.py:1483: UserWarning: Setting penalty='none' will ignore the C and l1_ratio parameters\n",
      "  warnings.warn(\n"
     ]
    },
    {
     "name": "stdout",
     "output_type": "stream",
     "text": [
      "[CV 14/15] END clf__C=0.11787686347935872, clf__penalty=none, clf__solver=lbfgs;, score=0.633 total time=   0.4s\n"
     ]
    },
    {
     "name": "stderr",
     "output_type": "stream",
     "text": [
      "/Users/guy/miniforge3/envs/.venv/lib/python3.9/site-packages/sklearn/linear_model/_logistic.py:1483: UserWarning: Setting penalty='none' will ignore the C and l1_ratio parameters\n",
      "  warnings.warn(\n"
     ]
    },
    {
     "name": "stdout",
     "output_type": "stream",
     "text": [
      "[CV 15/15] END clf__C=0.11787686347935872, clf__penalty=none, clf__solver=lbfgs;, score=0.668 total time=   0.3s\n",
      "[CV 1/15] END clf__C=0.11787686347935872, clf__penalty=none, clf__solver=liblinear;, score=nan total time=   0.0s\n",
      "[CV 2/15] END clf__C=0.11787686347935872, clf__penalty=none, clf__solver=liblinear;, score=nan total time=   0.0s\n",
      "[CV 3/15] END clf__C=0.11787686347935872, clf__penalty=none, clf__solver=liblinear;, score=nan total time=   0.0s\n",
      "[CV 4/15] END clf__C=0.11787686347935872, clf__penalty=none, clf__solver=liblinear;, score=nan total time=   0.0s\n",
      "[CV 5/15] END clf__C=0.11787686347935872, clf__penalty=none, clf__solver=liblinear;, score=nan total time=   0.0s\n",
      "[CV 6/15] END clf__C=0.11787686347935872, clf__penalty=none, clf__solver=liblinear;, score=nan total time=   0.0s\n",
      "[CV 7/15] END clf__C=0.11787686347935872, clf__penalty=none, clf__solver=liblinear;, score=nan total time=   0.0s\n",
      "[CV 8/15] END clf__C=0.11787686347935872, clf__penalty=none, clf__solver=liblinear;, score=nan total time=   0.0s\n",
      "[CV 9/15] END clf__C=0.11787686347935872, clf__penalty=none, clf__solver=liblinear;, score=nan total time=   0.0s\n",
      "[CV 10/15] END clf__C=0.11787686347935872, clf__penalty=none, clf__solver=liblinear;, score=nan total time=   0.0s\n",
      "[CV 11/15] END clf__C=0.11787686347935872, clf__penalty=none, clf__solver=liblinear;, score=nan total time=   0.0s\n",
      "[CV 12/15] END clf__C=0.11787686347935872, clf__penalty=none, clf__solver=liblinear;, score=nan total time=   0.0s\n",
      "[CV 13/15] END clf__C=0.11787686347935872, clf__penalty=none, clf__solver=liblinear;, score=nan total time=   0.0s\n",
      "[CV 14/15] END clf__C=0.11787686347935872, clf__penalty=none, clf__solver=liblinear;, score=nan total time=   0.0s\n",
      "[CV 15/15] END clf__C=0.11787686347935872, clf__penalty=none, clf__solver=liblinear;, score=nan total time=   0.0s\n"
     ]
    },
    {
     "name": "stderr",
     "output_type": "stream",
     "text": [
      "/Users/guy/miniforge3/envs/.venv/lib/python3.9/site-packages/sklearn/linear_model/_logistic.py:1483: UserWarning: Setting penalty='none' will ignore the C and l1_ratio parameters\n",
      "  warnings.warn(\n"
     ]
    },
    {
     "name": "stdout",
     "output_type": "stream",
     "text": [
      "[CV 1/15] END clf__C=0.11787686347935872, clf__penalty=none, clf__solver=sag;, score=0.635 total time=   1.0s\n"
     ]
    },
    {
     "name": "stderr",
     "output_type": "stream",
     "text": [
      "/Users/guy/miniforge3/envs/.venv/lib/python3.9/site-packages/sklearn/linear_model/_logistic.py:1483: UserWarning: Setting penalty='none' will ignore the C and l1_ratio parameters\n",
      "  warnings.warn(\n"
     ]
    },
    {
     "name": "stdout",
     "output_type": "stream",
     "text": [
      "[CV 2/15] END clf__C=0.11787686347935872, clf__penalty=none, clf__solver=sag;, score=0.619 total time=   1.6s\n"
     ]
    },
    {
     "name": "stderr",
     "output_type": "stream",
     "text": [
      "/Users/guy/miniforge3/envs/.venv/lib/python3.9/site-packages/sklearn/linear_model/_logistic.py:1483: UserWarning: Setting penalty='none' will ignore the C and l1_ratio parameters\n",
      "  warnings.warn(\n"
     ]
    },
    {
     "name": "stdout",
     "output_type": "stream",
     "text": [
      "[CV 3/15] END clf__C=0.11787686347935872, clf__penalty=none, clf__solver=sag;, score=0.640 total time=   1.6s\n"
     ]
    },
    {
     "name": "stderr",
     "output_type": "stream",
     "text": [
      "/Users/guy/miniforge3/envs/.venv/lib/python3.9/site-packages/sklearn/linear_model/_logistic.py:1483: UserWarning: Setting penalty='none' will ignore the C and l1_ratio parameters\n",
      "  warnings.warn(\n"
     ]
    },
    {
     "name": "stdout",
     "output_type": "stream",
     "text": [
      "[CV 4/15] END clf__C=0.11787686347935872, clf__penalty=none, clf__solver=sag;, score=0.565 total time=   1.5s\n"
     ]
    },
    {
     "name": "stderr",
     "output_type": "stream",
     "text": [
      "/Users/guy/miniforge3/envs/.venv/lib/python3.9/site-packages/sklearn/linear_model/_logistic.py:1483: UserWarning: Setting penalty='none' will ignore the C and l1_ratio parameters\n",
      "  warnings.warn(\n"
     ]
    },
    {
     "name": "stdout",
     "output_type": "stream",
     "text": [
      "[CV 5/15] END clf__C=0.11787686347935872, clf__penalty=none, clf__solver=sag;, score=0.582 total time=   1.5s\n"
     ]
    },
    {
     "name": "stderr",
     "output_type": "stream",
     "text": [
      "/Users/guy/miniforge3/envs/.venv/lib/python3.9/site-packages/sklearn/linear_model/_logistic.py:1483: UserWarning: Setting penalty='none' will ignore the C and l1_ratio parameters\n",
      "  warnings.warn(\n"
     ]
    },
    {
     "name": "stdout",
     "output_type": "stream",
     "text": [
      "[CV 6/15] END clf__C=0.11787686347935872, clf__penalty=none, clf__solver=sag;, score=0.554 total time=   1.6s\n"
     ]
    },
    {
     "name": "stderr",
     "output_type": "stream",
     "text": [
      "/Users/guy/miniforge3/envs/.venv/lib/python3.9/site-packages/sklearn/linear_model/_logistic.py:1483: UserWarning: Setting penalty='none' will ignore the C and l1_ratio parameters\n",
      "  warnings.warn(\n"
     ]
    },
    {
     "name": "stdout",
     "output_type": "stream",
     "text": [
      "[CV 7/15] END clf__C=0.11787686347935872, clf__penalty=none, clf__solver=sag;, score=0.649 total time=   1.1s\n"
     ]
    },
    {
     "name": "stderr",
     "output_type": "stream",
     "text": [
      "/Users/guy/miniforge3/envs/.venv/lib/python3.9/site-packages/sklearn/linear_model/_logistic.py:1483: UserWarning: Setting penalty='none' will ignore the C and l1_ratio parameters\n",
      "  warnings.warn(\n"
     ]
    },
    {
     "name": "stdout",
     "output_type": "stream",
     "text": [
      "[CV 8/15] END clf__C=0.11787686347935872, clf__penalty=none, clf__solver=sag;, score=0.653 total time=   1.6s\n"
     ]
    },
    {
     "name": "stderr",
     "output_type": "stream",
     "text": [
      "/Users/guy/miniforge3/envs/.venv/lib/python3.9/site-packages/sklearn/linear_model/_logistic.py:1483: UserWarning: Setting penalty='none' will ignore the C and l1_ratio parameters\n",
      "  warnings.warn(\n"
     ]
    },
    {
     "name": "stdout",
     "output_type": "stream",
     "text": [
      "[CV 9/15] END clf__C=0.11787686347935872, clf__penalty=none, clf__solver=sag;, score=0.584 total time=   1.6s\n"
     ]
    },
    {
     "name": "stderr",
     "output_type": "stream",
     "text": [
      "/Users/guy/miniforge3/envs/.venv/lib/python3.9/site-packages/sklearn/linear_model/_logistic.py:1483: UserWarning: Setting penalty='none' will ignore the C and l1_ratio parameters\n",
      "  warnings.warn(\n"
     ]
    },
    {
     "name": "stdout",
     "output_type": "stream",
     "text": [
      "[CV 10/15] END clf__C=0.11787686347935872, clf__penalty=none, clf__solver=sag;, score=0.622 total time=   1.4s\n"
     ]
    },
    {
     "name": "stderr",
     "output_type": "stream",
     "text": [
      "/Users/guy/miniforge3/envs/.venv/lib/python3.9/site-packages/sklearn/linear_model/_logistic.py:1483: UserWarning: Setting penalty='none' will ignore the C and l1_ratio parameters\n",
      "  warnings.warn(\n"
     ]
    },
    {
     "name": "stdout",
     "output_type": "stream",
     "text": [
      "[CV 11/15] END clf__C=0.11787686347935872, clf__penalty=none, clf__solver=sag;, score=0.576 total time=   1.4s\n"
     ]
    },
    {
     "name": "stderr",
     "output_type": "stream",
     "text": [
      "/Users/guy/miniforge3/envs/.venv/lib/python3.9/site-packages/sklearn/linear_model/_logistic.py:1483: UserWarning: Setting penalty='none' will ignore the C and l1_ratio parameters\n",
      "  warnings.warn(\n"
     ]
    },
    {
     "name": "stdout",
     "output_type": "stream",
     "text": [
      "[CV 12/15] END clf__C=0.11787686347935872, clf__penalty=none, clf__solver=sag;, score=0.586 total time=   1.6s\n"
     ]
    },
    {
     "name": "stderr",
     "output_type": "stream",
     "text": [
      "/Users/guy/miniforge3/envs/.venv/lib/python3.9/site-packages/sklearn/linear_model/_logistic.py:1483: UserWarning: Setting penalty='none' will ignore the C and l1_ratio parameters\n",
      "  warnings.warn(\n"
     ]
    },
    {
     "name": "stdout",
     "output_type": "stream",
     "text": [
      "[CV 13/15] END clf__C=0.11787686347935872, clf__penalty=none, clf__solver=sag;, score=0.643 total time=   1.6s\n"
     ]
    },
    {
     "name": "stderr",
     "output_type": "stream",
     "text": [
      "/Users/guy/miniforge3/envs/.venv/lib/python3.9/site-packages/sklearn/linear_model/_logistic.py:1483: UserWarning: Setting penalty='none' will ignore the C and l1_ratio parameters\n",
      "  warnings.warn(\n"
     ]
    },
    {
     "name": "stdout",
     "output_type": "stream",
     "text": [
      "[CV 14/15] END clf__C=0.11787686347935872, clf__penalty=none, clf__solver=sag;, score=0.633 total time=   1.6s\n"
     ]
    },
    {
     "name": "stderr",
     "output_type": "stream",
     "text": [
      "/Users/guy/miniforge3/envs/.venv/lib/python3.9/site-packages/sklearn/linear_model/_logistic.py:1483: UserWarning: Setting penalty='none' will ignore the C and l1_ratio parameters\n",
      "  warnings.warn(\n"
     ]
    },
    {
     "name": "stdout",
     "output_type": "stream",
     "text": [
      "[CV 15/15] END clf__C=0.11787686347935872, clf__penalty=none, clf__solver=sag;, score=0.668 total time=   0.9s\n",
      "[CV 1/15] END clf__C=0.13894954943731375, clf__penalty=l1, clf__solver=lbfgs;, score=nan total time=   0.0s\n",
      "[CV 2/15] END clf__C=0.13894954943731375, clf__penalty=l1, clf__solver=lbfgs;, score=nan total time=   0.0s\n",
      "[CV 3/15] END clf__C=0.13894954943731375, clf__penalty=l1, clf__solver=lbfgs;, score=nan total time=   0.0s\n",
      "[CV 4/15] END clf__C=0.13894954943731375, clf__penalty=l1, clf__solver=lbfgs;, score=nan total time=   0.0s\n",
      "[CV 5/15] END clf__C=0.13894954943731375, clf__penalty=l1, clf__solver=lbfgs;, score=nan total time=   0.0s\n",
      "[CV 6/15] END clf__C=0.13894954943731375, clf__penalty=l1, clf__solver=lbfgs;, score=nan total time=   0.0s\n",
      "[CV 7/15] END clf__C=0.13894954943731375, clf__penalty=l1, clf__solver=lbfgs;, score=nan total time=   0.0s\n",
      "[CV 8/15] END clf__C=0.13894954943731375, clf__penalty=l1, clf__solver=lbfgs;, score=nan total time=   0.0s\n",
      "[CV 9/15] END clf__C=0.13894954943731375, clf__penalty=l1, clf__solver=lbfgs;, score=nan total time=   0.0s\n",
      "[CV 10/15] END clf__C=0.13894954943731375, clf__penalty=l1, clf__solver=lbfgs;, score=nan total time=   0.0s\n",
      "[CV 11/15] END clf__C=0.13894954943731375, clf__penalty=l1, clf__solver=lbfgs;, score=nan total time=   0.0s\n",
      "[CV 12/15] END clf__C=0.13894954943731375, clf__penalty=l1, clf__solver=lbfgs;, score=nan total time=   0.0s\n",
      "[CV 13/15] END clf__C=0.13894954943731375, clf__penalty=l1, clf__solver=lbfgs;, score=nan total time=   0.0s\n",
      "[CV 14/15] END clf__C=0.13894954943731375, clf__penalty=l1, clf__solver=lbfgs;, score=nan total time=   0.0s\n",
      "[CV 15/15] END clf__C=0.13894954943731375, clf__penalty=l1, clf__solver=lbfgs;, score=nan total time=   0.0s\n",
      "[CV 1/15] END clf__C=0.13894954943731375, clf__penalty=l1, clf__solver=liblinear;, score=0.636 total time=   0.2s\n",
      "[CV 2/15] END clf__C=0.13894954943731375, clf__penalty=l1, clf__solver=liblinear;, score=0.622 total time=   0.2s\n",
      "[CV 3/15] END clf__C=0.13894954943731375, clf__penalty=l1, clf__solver=liblinear;, score=0.642 total time=   0.2s\n",
      "[CV 4/15] END clf__C=0.13894954943731375, clf__penalty=l1, clf__solver=liblinear;, score=0.586 total time=   0.2s\n",
      "[CV 5/15] END clf__C=0.13894954943731375, clf__penalty=l1, clf__solver=liblinear;, score=0.580 total time=   0.2s\n",
      "[CV 6/15] END clf__C=0.13894954943731375, clf__penalty=l1, clf__solver=liblinear;, score=0.573 total time=   0.2s\n",
      "[CV 7/15] END clf__C=0.13894954943731375, clf__penalty=l1, clf__solver=liblinear;, score=0.649 total time=   0.2s\n",
      "[CV 8/15] END clf__C=0.13894954943731375, clf__penalty=l1, clf__solver=liblinear;, score=0.639 total time=   0.2s\n",
      "[CV 9/15] END clf__C=0.13894954943731375, clf__penalty=l1, clf__solver=liblinear;, score=0.597 total time=   0.2s\n",
      "[CV 10/15] END clf__C=0.13894954943731375, clf__penalty=l1, clf__solver=liblinear;, score=0.612 total time=   0.2s\n",
      "[CV 11/15] END clf__C=0.13894954943731375, clf__penalty=l1, clf__solver=liblinear;, score=0.609 total time=   0.2s\n",
      "[CV 12/15] END clf__C=0.13894954943731375, clf__penalty=l1, clf__solver=liblinear;, score=0.569 total time=   0.2s\n",
      "[CV 13/15] END clf__C=0.13894954943731375, clf__penalty=l1, clf__solver=liblinear;, score=0.579 total time=   0.2s\n",
      "[CV 14/15] END clf__C=0.13894954943731375, clf__penalty=l1, clf__solver=liblinear;, score=0.650 total time=   0.2s\n",
      "[CV 15/15] END clf__C=0.13894954943731375, clf__penalty=l1, clf__solver=liblinear;, score=0.654 total time=   0.2s\n",
      "[CV 1/15] END clf__C=0.13894954943731375, clf__penalty=l1, clf__solver=sag;, score=nan total time=   0.0s\n",
      "[CV 2/15] END clf__C=0.13894954943731375, clf__penalty=l1, clf__solver=sag;, score=nan total time=   0.0s\n",
      "[CV 3/15] END clf__C=0.13894954943731375, clf__penalty=l1, clf__solver=sag;, score=nan total time=   0.0s\n",
      "[CV 4/15] END clf__C=0.13894954943731375, clf__penalty=l1, clf__solver=sag;, score=nan total time=   0.0s\n",
      "[CV 5/15] END clf__C=0.13894954943731375, clf__penalty=l1, clf__solver=sag;, score=nan total time=   0.0s\n",
      "[CV 6/15] END clf__C=0.13894954943731375, clf__penalty=l1, clf__solver=sag;, score=nan total time=   0.0s\n",
      "[CV 7/15] END clf__C=0.13894954943731375, clf__penalty=l1, clf__solver=sag;, score=nan total time=   0.0s\n",
      "[CV 8/15] END clf__C=0.13894954943731375, clf__penalty=l1, clf__solver=sag;, score=nan total time=   0.0s\n",
      "[CV 9/15] END clf__C=0.13894954943731375, clf__penalty=l1, clf__solver=sag;, score=nan total time=   0.0s\n",
      "[CV 10/15] END clf__C=0.13894954943731375, clf__penalty=l1, clf__solver=sag;, score=nan total time=   0.0s\n",
      "[CV 11/15] END clf__C=0.13894954943731375, clf__penalty=l1, clf__solver=sag;, score=nan total time=   0.0s\n",
      "[CV 12/15] END clf__C=0.13894954943731375, clf__penalty=l1, clf__solver=sag;, score=nan total time=   0.0s\n",
      "[CV 13/15] END clf__C=0.13894954943731375, clf__penalty=l1, clf__solver=sag;, score=nan total time=   0.0s\n",
      "[CV 14/15] END clf__C=0.13894954943731375, clf__penalty=l1, clf__solver=sag;, score=nan total time=   0.0s\n",
      "[CV 15/15] END clf__C=0.13894954943731375, clf__penalty=l1, clf__solver=sag;, score=nan total time=   0.0s\n",
      "[CV 1/15] END clf__C=0.13894954943731375, clf__penalty=l2, clf__solver=lbfgs;, score=0.641 total time=   0.1s\n",
      "[CV 2/15] END clf__C=0.13894954943731375, clf__penalty=l2, clf__solver=lbfgs;, score=0.626 total time=   0.1s\n",
      "[CV 3/15] END clf__C=0.13894954943731375, clf__penalty=l2, clf__solver=lbfgs;, score=0.629 total time=   0.1s\n",
      "[CV 4/15] END clf__C=0.13894954943731375, clf__penalty=l2, clf__solver=lbfgs;, score=0.579 total time=   0.1s\n",
      "[CV 5/15] END clf__C=0.13894954943731375, clf__penalty=l2, clf__solver=lbfgs;, score=0.580 total time=   0.1s\n",
      "[CV 6/15] END clf__C=0.13894954943731375, clf__penalty=l2, clf__solver=lbfgs;, score=0.548 total time=   0.1s\n",
      "[CV 7/15] END clf__C=0.13894954943731375, clf__penalty=l2, clf__solver=lbfgs;, score=0.642 total time=   0.1s\n",
      "[CV 8/15] END clf__C=0.13894954943731375, clf__penalty=l2, clf__solver=lbfgs;, score=0.660 total time=   0.1s\n",
      "[CV 9/15] END clf__C=0.13894954943731375, clf__penalty=l2, clf__solver=lbfgs;, score=0.586 total time=   0.1s\n",
      "[CV 10/15] END clf__C=0.13894954943731375, clf__penalty=l2, clf__solver=lbfgs;, score=0.604 total time=   0.1s\n",
      "[CV 11/15] END clf__C=0.13894954943731375, clf__penalty=l2, clf__solver=lbfgs;, score=0.587 total time=   0.1s\n",
      "[CV 12/15] END clf__C=0.13894954943731375, clf__penalty=l2, clf__solver=lbfgs;, score=0.589 total time=   0.1s\n",
      "[CV 13/15] END clf__C=0.13894954943731375, clf__penalty=l2, clf__solver=lbfgs;, score=0.627 total time=   0.1s\n",
      "[CV 14/15] END clf__C=0.13894954943731375, clf__penalty=l2, clf__solver=lbfgs;, score=0.634 total time=   0.1s\n",
      "[CV 15/15] END clf__C=0.13894954943731375, clf__penalty=l2, clf__solver=lbfgs;, score=0.661 total time=   0.1s\n",
      "[CV 1/15] END clf__C=0.13894954943731375, clf__penalty=l2, clf__solver=liblinear;, score=0.655 total time=   0.1s\n",
      "[CV 2/15] END clf__C=0.13894954943731375, clf__penalty=l2, clf__solver=liblinear;, score=0.616 total time=   0.1s\n",
      "[CV 3/15] END clf__C=0.13894954943731375, clf__penalty=l2, clf__solver=liblinear;, score=0.608 total time=   0.1s\n",
      "[CV 4/15] END clf__C=0.13894954943731375, clf__penalty=l2, clf__solver=liblinear;, score=0.600 total time=   0.1s\n",
      "[CV 5/15] END clf__C=0.13894954943731375, clf__penalty=l2, clf__solver=liblinear;, score=0.577 total time=   0.1s\n",
      "[CV 6/15] END clf__C=0.13894954943731375, clf__penalty=l2, clf__solver=liblinear;, score=0.536 total time=   0.1s\n",
      "[CV 7/15] END clf__C=0.13894954943731375, clf__penalty=l2, clf__solver=liblinear;, score=0.656 total time=   0.1s\n",
      "[CV 8/15] END clf__C=0.13894954943731375, clf__penalty=l2, clf__solver=liblinear;, score=0.649 total time=   0.1s\n",
      "[CV 9/15] END clf__C=0.13894954943731375, clf__penalty=l2, clf__solver=liblinear;, score=0.581 total time=   0.1s\n",
      "[CV 10/15] END clf__C=0.13894954943731375, clf__penalty=l2, clf__solver=liblinear;, score=0.620 total time=   0.1s\n",
      "[CV 11/15] END clf__C=0.13894954943731375, clf__penalty=l2, clf__solver=liblinear;, score=0.600 total time=   0.1s\n",
      "[CV 12/15] END clf__C=0.13894954943731375, clf__penalty=l2, clf__solver=liblinear;, score=0.585 total time=   0.1s\n",
      "[CV 13/15] END clf__C=0.13894954943731375, clf__penalty=l2, clf__solver=liblinear;, score=0.616 total time=   0.1s\n",
      "[CV 14/15] END clf__C=0.13894954943731375, clf__penalty=l2, clf__solver=liblinear;, score=0.622 total time=   0.1s\n"
     ]
    },
    {
     "name": "stdout",
     "output_type": "stream",
     "text": [
      "[CV 15/15] END clf__C=0.13894954943731375, clf__penalty=l2, clf__solver=liblinear;, score=0.670 total time=   0.1s\n",
      "[CV 1/15] END clf__C=0.13894954943731375, clf__penalty=l2, clf__solver=sag;, score=0.641 total time=   0.2s\n",
      "[CV 2/15] END clf__C=0.13894954943731375, clf__penalty=l2, clf__solver=sag;, score=0.626 total time=   0.2s\n",
      "[CV 3/15] END clf__C=0.13894954943731375, clf__penalty=l2, clf__solver=sag;, score=0.629 total time=   0.2s\n",
      "[CV 4/15] END clf__C=0.13894954943731375, clf__penalty=l2, clf__solver=sag;, score=0.579 total time=   0.2s\n",
      "[CV 5/15] END clf__C=0.13894954943731375, clf__penalty=l2, clf__solver=sag;, score=0.580 total time=   0.2s\n",
      "[CV 6/15] END clf__C=0.13894954943731375, clf__penalty=l2, clf__solver=sag;, score=0.548 total time=   0.2s\n",
      "[CV 7/15] END clf__C=0.13894954943731375, clf__penalty=l2, clf__solver=sag;, score=0.642 total time=   0.2s\n",
      "[CV 8/15] END clf__C=0.13894954943731375, clf__penalty=l2, clf__solver=sag;, score=0.660 total time=   0.2s\n",
      "[CV 9/15] END clf__C=0.13894954943731375, clf__penalty=l2, clf__solver=sag;, score=0.586 total time=   0.2s\n",
      "[CV 10/15] END clf__C=0.13894954943731375, clf__penalty=l2, clf__solver=sag;, score=0.604 total time=   0.2s\n",
      "[CV 11/15] END clf__C=0.13894954943731375, clf__penalty=l2, clf__solver=sag;, score=0.587 total time=   0.2s\n",
      "[CV 12/15] END clf__C=0.13894954943731375, clf__penalty=l2, clf__solver=sag;, score=0.589 total time=   0.2s\n",
      "[CV 13/15] END clf__C=0.13894954943731375, clf__penalty=l2, clf__solver=sag;, score=0.627 total time=   0.2s\n",
      "[CV 14/15] END clf__C=0.13894954943731375, clf__penalty=l2, clf__solver=sag;, score=0.634 total time=   0.2s\n",
      "[CV 15/15] END clf__C=0.13894954943731375, clf__penalty=l2, clf__solver=sag;, score=0.661 total time=   0.2s\n"
     ]
    },
    {
     "name": "stderr",
     "output_type": "stream",
     "text": [
      "/Users/guy/miniforge3/envs/.venv/lib/python3.9/site-packages/sklearn/linear_model/_logistic.py:1483: UserWarning: Setting penalty='none' will ignore the C and l1_ratio parameters\n",
      "  warnings.warn(\n"
     ]
    },
    {
     "name": "stdout",
     "output_type": "stream",
     "text": [
      "[CV 1/15] END clf__C=0.13894954943731375, clf__penalty=none, clf__solver=lbfgs;, score=0.635 total time=   0.3s\n"
     ]
    },
    {
     "name": "stderr",
     "output_type": "stream",
     "text": [
      "/Users/guy/miniforge3/envs/.venv/lib/python3.9/site-packages/sklearn/linear_model/_logistic.py:1483: UserWarning: Setting penalty='none' will ignore the C and l1_ratio parameters\n",
      "  warnings.warn(\n"
     ]
    },
    {
     "name": "stdout",
     "output_type": "stream",
     "text": [
      "[CV 2/15] END clf__C=0.13894954943731375, clf__penalty=none, clf__solver=lbfgs;, score=0.619 total time=   0.4s\n"
     ]
    },
    {
     "name": "stderr",
     "output_type": "stream",
     "text": [
      "/Users/guy/miniforge3/envs/.venv/lib/python3.9/site-packages/sklearn/linear_model/_logistic.py:1483: UserWarning: Setting penalty='none' will ignore the C and l1_ratio parameters\n",
      "  warnings.warn(\n"
     ]
    },
    {
     "name": "stdout",
     "output_type": "stream",
     "text": [
      "[CV 3/15] END clf__C=0.13894954943731375, clf__penalty=none, clf__solver=lbfgs;, score=0.640 total time=   0.4s\n"
     ]
    },
    {
     "name": "stderr",
     "output_type": "stream",
     "text": [
      "/Users/guy/miniforge3/envs/.venv/lib/python3.9/site-packages/sklearn/linear_model/_logistic.py:1483: UserWarning: Setting penalty='none' will ignore the C and l1_ratio parameters\n",
      "  warnings.warn(\n"
     ]
    },
    {
     "name": "stdout",
     "output_type": "stream",
     "text": [
      "[CV 4/15] END clf__C=0.13894954943731375, clf__penalty=none, clf__solver=lbfgs;, score=0.565 total time=   0.4s\n"
     ]
    },
    {
     "name": "stderr",
     "output_type": "stream",
     "text": [
      "/Users/guy/miniforge3/envs/.venv/lib/python3.9/site-packages/sklearn/linear_model/_logistic.py:1483: UserWarning: Setting penalty='none' will ignore the C and l1_ratio parameters\n",
      "  warnings.warn(\n"
     ]
    },
    {
     "name": "stdout",
     "output_type": "stream",
     "text": [
      "[CV 5/15] END clf__C=0.13894954943731375, clf__penalty=none, clf__solver=lbfgs;, score=0.582 total time=   0.4s\n"
     ]
    },
    {
     "name": "stderr",
     "output_type": "stream",
     "text": [
      "/Users/guy/miniforge3/envs/.venv/lib/python3.9/site-packages/sklearn/linear_model/_logistic.py:1483: UserWarning: Setting penalty='none' will ignore the C and l1_ratio parameters\n",
      "  warnings.warn(\n"
     ]
    },
    {
     "name": "stdout",
     "output_type": "stream",
     "text": [
      "[CV 6/15] END clf__C=0.13894954943731375, clf__penalty=none, clf__solver=lbfgs;, score=0.554 total time=   0.4s\n"
     ]
    },
    {
     "name": "stderr",
     "output_type": "stream",
     "text": [
      "/Users/guy/miniforge3/envs/.venv/lib/python3.9/site-packages/sklearn/linear_model/_logistic.py:1483: UserWarning: Setting penalty='none' will ignore the C and l1_ratio parameters\n",
      "  warnings.warn(\n"
     ]
    },
    {
     "name": "stdout",
     "output_type": "stream",
     "text": [
      "[CV 7/15] END clf__C=0.13894954943731375, clf__penalty=none, clf__solver=lbfgs;, score=0.649 total time=   0.4s\n"
     ]
    },
    {
     "name": "stderr",
     "output_type": "stream",
     "text": [
      "/Users/guy/miniforge3/envs/.venv/lib/python3.9/site-packages/sklearn/linear_model/_logistic.py:1483: UserWarning: Setting penalty='none' will ignore the C and l1_ratio parameters\n",
      "  warnings.warn(\n"
     ]
    },
    {
     "name": "stdout",
     "output_type": "stream",
     "text": [
      "[CV 8/15] END clf__C=0.13894954943731375, clf__penalty=none, clf__solver=lbfgs;, score=0.653 total time=   0.4s\n"
     ]
    },
    {
     "name": "stderr",
     "output_type": "stream",
     "text": [
      "/Users/guy/miniforge3/envs/.venv/lib/python3.9/site-packages/sklearn/linear_model/_logistic.py:1483: UserWarning: Setting penalty='none' will ignore the C and l1_ratio parameters\n",
      "  warnings.warn(\n"
     ]
    },
    {
     "name": "stdout",
     "output_type": "stream",
     "text": [
      "[CV 9/15] END clf__C=0.13894954943731375, clf__penalty=none, clf__solver=lbfgs;, score=0.584 total time=   0.4s\n"
     ]
    },
    {
     "name": "stderr",
     "output_type": "stream",
     "text": [
      "/Users/guy/miniforge3/envs/.venv/lib/python3.9/site-packages/sklearn/linear_model/_logistic.py:1483: UserWarning: Setting penalty='none' will ignore the C and l1_ratio parameters\n",
      "  warnings.warn(\n"
     ]
    },
    {
     "name": "stdout",
     "output_type": "stream",
     "text": [
      "[CV 10/15] END clf__C=0.13894954943731375, clf__penalty=none, clf__solver=lbfgs;, score=0.623 total time=   0.4s\n"
     ]
    },
    {
     "name": "stderr",
     "output_type": "stream",
     "text": [
      "/Users/guy/miniforge3/envs/.venv/lib/python3.9/site-packages/sklearn/linear_model/_logistic.py:1483: UserWarning: Setting penalty='none' will ignore the C and l1_ratio parameters\n",
      "  warnings.warn(\n"
     ]
    },
    {
     "name": "stdout",
     "output_type": "stream",
     "text": [
      "[CV 11/15] END clf__C=0.13894954943731375, clf__penalty=none, clf__solver=lbfgs;, score=0.576 total time=   0.4s\n"
     ]
    },
    {
     "name": "stderr",
     "output_type": "stream",
     "text": [
      "/Users/guy/miniforge3/envs/.venv/lib/python3.9/site-packages/sklearn/linear_model/_logistic.py:1483: UserWarning: Setting penalty='none' will ignore the C and l1_ratio parameters\n",
      "  warnings.warn(\n"
     ]
    },
    {
     "name": "stdout",
     "output_type": "stream",
     "text": [
      "[CV 12/15] END clf__C=0.13894954943731375, clf__penalty=none, clf__solver=lbfgs;, score=0.586 total time=   0.4s\n"
     ]
    },
    {
     "name": "stderr",
     "output_type": "stream",
     "text": [
      "/Users/guy/miniforge3/envs/.venv/lib/python3.9/site-packages/sklearn/linear_model/_logistic.py:1483: UserWarning: Setting penalty='none' will ignore the C and l1_ratio parameters\n",
      "  warnings.warn(\n"
     ]
    },
    {
     "name": "stdout",
     "output_type": "stream",
     "text": [
      "[CV 13/15] END clf__C=0.13894954943731375, clf__penalty=none, clf__solver=lbfgs;, score=0.643 total time=   0.4s\n"
     ]
    },
    {
     "name": "stderr",
     "output_type": "stream",
     "text": [
      "/Users/guy/miniforge3/envs/.venv/lib/python3.9/site-packages/sklearn/linear_model/_logistic.py:1483: UserWarning: Setting penalty='none' will ignore the C and l1_ratio parameters\n",
      "  warnings.warn(\n"
     ]
    },
    {
     "name": "stdout",
     "output_type": "stream",
     "text": [
      "[CV 14/15] END clf__C=0.13894954943731375, clf__penalty=none, clf__solver=lbfgs;, score=0.633 total time=   0.4s\n"
     ]
    },
    {
     "name": "stderr",
     "output_type": "stream",
     "text": [
      "/Users/guy/miniforge3/envs/.venv/lib/python3.9/site-packages/sklearn/linear_model/_logistic.py:1483: UserWarning: Setting penalty='none' will ignore the C and l1_ratio parameters\n",
      "  warnings.warn(\n"
     ]
    },
    {
     "name": "stdout",
     "output_type": "stream",
     "text": [
      "[CV 15/15] END clf__C=0.13894954943731375, clf__penalty=none, clf__solver=lbfgs;, score=0.668 total time=   0.3s\n",
      "[CV 1/15] END clf__C=0.13894954943731375, clf__penalty=none, clf__solver=liblinear;, score=nan total time=   0.0s\n",
      "[CV 2/15] END clf__C=0.13894954943731375, clf__penalty=none, clf__solver=liblinear;, score=nan total time=   0.0s\n",
      "[CV 3/15] END clf__C=0.13894954943731375, clf__penalty=none, clf__solver=liblinear;, score=nan total time=   0.0s\n",
      "[CV 4/15] END clf__C=0.13894954943731375, clf__penalty=none, clf__solver=liblinear;, score=nan total time=   0.0s\n",
      "[CV 5/15] END clf__C=0.13894954943731375, clf__penalty=none, clf__solver=liblinear;, score=nan total time=   0.0s\n",
      "[CV 6/15] END clf__C=0.13894954943731375, clf__penalty=none, clf__solver=liblinear;, score=nan total time=   0.0s\n",
      "[CV 7/15] END clf__C=0.13894954943731375, clf__penalty=none, clf__solver=liblinear;, score=nan total time=   0.0s\n",
      "[CV 8/15] END clf__C=0.13894954943731375, clf__penalty=none, clf__solver=liblinear;, score=nan total time=   0.0s\n",
      "[CV 9/15] END clf__C=0.13894954943731375, clf__penalty=none, clf__solver=liblinear;, score=nan total time=   0.0s\n",
      "[CV 10/15] END clf__C=0.13894954943731375, clf__penalty=none, clf__solver=liblinear;, score=nan total time=   0.0s\n",
      "[CV 11/15] END clf__C=0.13894954943731375, clf__penalty=none, clf__solver=liblinear;, score=nan total time=   0.0s\n",
      "[CV 12/15] END clf__C=0.13894954943731375, clf__penalty=none, clf__solver=liblinear;, score=nan total time=   0.0s\n",
      "[CV 13/15] END clf__C=0.13894954943731375, clf__penalty=none, clf__solver=liblinear;, score=nan total time=   0.0s\n",
      "[CV 14/15] END clf__C=0.13894954943731375, clf__penalty=none, clf__solver=liblinear;, score=nan total time=   0.0s\n",
      "[CV 15/15] END clf__C=0.13894954943731375, clf__penalty=none, clf__solver=liblinear;, score=nan total time=   0.0s\n"
     ]
    },
    {
     "name": "stderr",
     "output_type": "stream",
     "text": [
      "/Users/guy/miniforge3/envs/.venv/lib/python3.9/site-packages/sklearn/linear_model/_logistic.py:1483: UserWarning: Setting penalty='none' will ignore the C and l1_ratio parameters\n",
      "  warnings.warn(\n"
     ]
    },
    {
     "name": "stdout",
     "output_type": "stream",
     "text": [
      "[CV 1/15] END clf__C=0.13894954943731375, clf__penalty=none, clf__solver=sag;, score=0.635 total time=   0.9s\n"
     ]
    },
    {
     "name": "stderr",
     "output_type": "stream",
     "text": [
      "/Users/guy/miniforge3/envs/.venv/lib/python3.9/site-packages/sklearn/linear_model/_logistic.py:1483: UserWarning: Setting penalty='none' will ignore the C and l1_ratio parameters\n",
      "  warnings.warn(\n"
     ]
    },
    {
     "name": "stdout",
     "output_type": "stream",
     "text": [
      "[CV 2/15] END clf__C=0.13894954943731375, clf__penalty=none, clf__solver=sag;, score=0.619 total time=   1.6s\n"
     ]
    },
    {
     "name": "stderr",
     "output_type": "stream",
     "text": [
      "/Users/guy/miniforge3/envs/.venv/lib/python3.9/site-packages/sklearn/linear_model/_logistic.py:1483: UserWarning: Setting penalty='none' will ignore the C and l1_ratio parameters\n",
      "  warnings.warn(\n"
     ]
    },
    {
     "name": "stdout",
     "output_type": "stream",
     "text": [
      "[CV 3/15] END clf__C=0.13894954943731375, clf__penalty=none, clf__solver=sag;, score=0.640 total time=   1.6s\n"
     ]
    },
    {
     "name": "stderr",
     "output_type": "stream",
     "text": [
      "/Users/guy/miniforge3/envs/.venv/lib/python3.9/site-packages/sklearn/linear_model/_logistic.py:1483: UserWarning: Setting penalty='none' will ignore the C and l1_ratio parameters\n",
      "  warnings.warn(\n"
     ]
    },
    {
     "name": "stdout",
     "output_type": "stream",
     "text": [
      "[CV 4/15] END clf__C=0.13894954943731375, clf__penalty=none, clf__solver=sag;, score=0.565 total time=   1.5s\n"
     ]
    },
    {
     "name": "stderr",
     "output_type": "stream",
     "text": [
      "/Users/guy/miniforge3/envs/.venv/lib/python3.9/site-packages/sklearn/linear_model/_logistic.py:1483: UserWarning: Setting penalty='none' will ignore the C and l1_ratio parameters\n",
      "  warnings.warn(\n"
     ]
    },
    {
     "name": "stdout",
     "output_type": "stream",
     "text": [
      "[CV 5/15] END clf__C=0.13894954943731375, clf__penalty=none, clf__solver=sag;, score=0.582 total time=   1.4s\n"
     ]
    },
    {
     "name": "stderr",
     "output_type": "stream",
     "text": [
      "/Users/guy/miniforge3/envs/.venv/lib/python3.9/site-packages/sklearn/linear_model/_logistic.py:1483: UserWarning: Setting penalty='none' will ignore the C and l1_ratio parameters\n",
      "  warnings.warn(\n"
     ]
    },
    {
     "name": "stdout",
     "output_type": "stream",
     "text": [
      "[CV 6/15] END clf__C=0.13894954943731375, clf__penalty=none, clf__solver=sag;, score=0.554 total time=   1.6s\n"
     ]
    },
    {
     "name": "stderr",
     "output_type": "stream",
     "text": [
      "/Users/guy/miniforge3/envs/.venv/lib/python3.9/site-packages/sklearn/linear_model/_logistic.py:1483: UserWarning: Setting penalty='none' will ignore the C and l1_ratio parameters\n",
      "  warnings.warn(\n"
     ]
    },
    {
     "name": "stdout",
     "output_type": "stream",
     "text": [
      "[CV 7/15] END clf__C=0.13894954943731375, clf__penalty=none, clf__solver=sag;, score=0.649 total time=   1.1s\n"
     ]
    },
    {
     "name": "stderr",
     "output_type": "stream",
     "text": [
      "/Users/guy/miniforge3/envs/.venv/lib/python3.9/site-packages/sklearn/linear_model/_logistic.py:1483: UserWarning: Setting penalty='none' will ignore the C and l1_ratio parameters\n",
      "  warnings.warn(\n"
     ]
    },
    {
     "name": "stdout",
     "output_type": "stream",
     "text": [
      "[CV 8/15] END clf__C=0.13894954943731375, clf__penalty=none, clf__solver=sag;, score=0.653 total time=   1.5s\n"
     ]
    },
    {
     "name": "stderr",
     "output_type": "stream",
     "text": [
      "/Users/guy/miniforge3/envs/.venv/lib/python3.9/site-packages/sklearn/linear_model/_logistic.py:1483: UserWarning: Setting penalty='none' will ignore the C and l1_ratio parameters\n",
      "  warnings.warn(\n"
     ]
    },
    {
     "name": "stdout",
     "output_type": "stream",
     "text": [
      "[CV 9/15] END clf__C=0.13894954943731375, clf__penalty=none, clf__solver=sag;, score=0.584 total time=   1.6s\n"
     ]
    },
    {
     "name": "stderr",
     "output_type": "stream",
     "text": [
      "/Users/guy/miniforge3/envs/.venv/lib/python3.9/site-packages/sklearn/linear_model/_logistic.py:1483: UserWarning: Setting penalty='none' will ignore the C and l1_ratio parameters\n",
      "  warnings.warn(\n"
     ]
    },
    {
     "name": "stdout",
     "output_type": "stream",
     "text": [
      "[CV 10/15] END clf__C=0.13894954943731375, clf__penalty=none, clf__solver=sag;, score=0.622 total time=   1.4s\n"
     ]
    },
    {
     "name": "stderr",
     "output_type": "stream",
     "text": [
      "/Users/guy/miniforge3/envs/.venv/lib/python3.9/site-packages/sklearn/linear_model/_logistic.py:1483: UserWarning: Setting penalty='none' will ignore the C and l1_ratio parameters\n",
      "  warnings.warn(\n"
     ]
    },
    {
     "name": "stdout",
     "output_type": "stream",
     "text": [
      "[CV 11/15] END clf__C=0.13894954943731375, clf__penalty=none, clf__solver=sag;, score=0.576 total time=   1.4s\n"
     ]
    },
    {
     "name": "stderr",
     "output_type": "stream",
     "text": [
      "/Users/guy/miniforge3/envs/.venv/lib/python3.9/site-packages/sklearn/linear_model/_logistic.py:1483: UserWarning: Setting penalty='none' will ignore the C and l1_ratio parameters\n",
      "  warnings.warn(\n"
     ]
    },
    {
     "name": "stdout",
     "output_type": "stream",
     "text": [
      "[CV 12/15] END clf__C=0.13894954943731375, clf__penalty=none, clf__solver=sag;, score=0.586 total time=   1.6s\n"
     ]
    },
    {
     "name": "stderr",
     "output_type": "stream",
     "text": [
      "/Users/guy/miniforge3/envs/.venv/lib/python3.9/site-packages/sklearn/linear_model/_logistic.py:1483: UserWarning: Setting penalty='none' will ignore the C and l1_ratio parameters\n",
      "  warnings.warn(\n"
     ]
    },
    {
     "name": "stdout",
     "output_type": "stream",
     "text": [
      "[CV 13/15] END clf__C=0.13894954943731375, clf__penalty=none, clf__solver=sag;, score=0.643 total time=   1.6s\n"
     ]
    },
    {
     "name": "stderr",
     "output_type": "stream",
     "text": [
      "/Users/guy/miniforge3/envs/.venv/lib/python3.9/site-packages/sklearn/linear_model/_logistic.py:1483: UserWarning: Setting penalty='none' will ignore the C and l1_ratio parameters\n",
      "  warnings.warn(\n"
     ]
    },
    {
     "name": "stdout",
     "output_type": "stream",
     "text": [
      "[CV 14/15] END clf__C=0.13894954943731375, clf__penalty=none, clf__solver=sag;, score=0.633 total time=   1.6s\n"
     ]
    },
    {
     "name": "stderr",
     "output_type": "stream",
     "text": [
      "/Users/guy/miniforge3/envs/.venv/lib/python3.9/site-packages/sklearn/linear_model/_logistic.py:1483: UserWarning: Setting penalty='none' will ignore the C and l1_ratio parameters\n",
      "  warnings.warn(\n"
     ]
    },
    {
     "name": "stdout",
     "output_type": "stream",
     "text": [
      "[CV 15/15] END clf__C=0.13894954943731375, clf__penalty=none, clf__solver=sag;, score=0.668 total time=   0.9s\n",
      "[CV 1/15] END clf__C=0.16378937069540642, clf__penalty=l1, clf__solver=lbfgs;, score=nan total time=   0.0s\n",
      "[CV 2/15] END clf__C=0.16378937069540642, clf__penalty=l1, clf__solver=lbfgs;, score=nan total time=   0.0s\n",
      "[CV 3/15] END clf__C=0.16378937069540642, clf__penalty=l1, clf__solver=lbfgs;, score=nan total time=   0.0s\n",
      "[CV 4/15] END clf__C=0.16378937069540642, clf__penalty=l1, clf__solver=lbfgs;, score=nan total time=   0.0s\n",
      "[CV 5/15] END clf__C=0.16378937069540642, clf__penalty=l1, clf__solver=lbfgs;, score=nan total time=   0.0s\n",
      "[CV 6/15] END clf__C=0.16378937069540642, clf__penalty=l1, clf__solver=lbfgs;, score=nan total time=   0.0s\n",
      "[CV 7/15] END clf__C=0.16378937069540642, clf__penalty=l1, clf__solver=lbfgs;, score=nan total time=   0.0s\n",
      "[CV 8/15] END clf__C=0.16378937069540642, clf__penalty=l1, clf__solver=lbfgs;, score=nan total time=   0.0s\n",
      "[CV 9/15] END clf__C=0.16378937069540642, clf__penalty=l1, clf__solver=lbfgs;, score=nan total time=   0.0s\n",
      "[CV 10/15] END clf__C=0.16378937069540642, clf__penalty=l1, clf__solver=lbfgs;, score=nan total time=   0.0s\n",
      "[CV 11/15] END clf__C=0.16378937069540642, clf__penalty=l1, clf__solver=lbfgs;, score=nan total time=   0.0s\n",
      "[CV 12/15] END clf__C=0.16378937069540642, clf__penalty=l1, clf__solver=lbfgs;, score=nan total time=   0.0s\n",
      "[CV 13/15] END clf__C=0.16378937069540642, clf__penalty=l1, clf__solver=lbfgs;, score=nan total time=   0.0s\n",
      "[CV 14/15] END clf__C=0.16378937069540642, clf__penalty=l1, clf__solver=lbfgs;, score=nan total time=   0.0s\n",
      "[CV 15/15] END clf__C=0.16378937069540642, clf__penalty=l1, clf__solver=lbfgs;, score=nan total time=   0.0s\n",
      "[CV 1/15] END clf__C=0.16378937069540642, clf__penalty=l1, clf__solver=liblinear;, score=0.645 total time=   0.2s\n",
      "[CV 2/15] END clf__C=0.16378937069540642, clf__penalty=l1, clf__solver=liblinear;, score=0.626 total time=   0.2s\n",
      "[CV 3/15] END clf__C=0.16378937069540642, clf__penalty=l1, clf__solver=liblinear;, score=0.641 total time=   0.3s\n",
      "[CV 4/15] END clf__C=0.16378937069540642, clf__penalty=l1, clf__solver=liblinear;, score=0.586 total time=   0.2s\n",
      "[CV 5/15] END clf__C=0.16378937069540642, clf__penalty=l1, clf__solver=liblinear;, score=0.584 total time=   0.2s\n",
      "[CV 6/15] END clf__C=0.16378937069540642, clf__penalty=l1, clf__solver=liblinear;, score=0.572 total time=   0.2s\n",
      "[CV 7/15] END clf__C=0.16378937069540642, clf__penalty=l1, clf__solver=liblinear;, score=0.651 total time=   0.2s\n",
      "[CV 8/15] END clf__C=0.16378937069540642, clf__penalty=l1, clf__solver=liblinear;, score=0.649 total time=   0.2s\n",
      "[CV 9/15] END clf__C=0.16378937069540642, clf__penalty=l1, clf__solver=liblinear;, score=0.602 total time=   0.2s\n",
      "[CV 10/15] END clf__C=0.16378937069540642, clf__penalty=l1, clf__solver=liblinear;, score=0.621 total time=   0.2s\n",
      "[CV 11/15] END clf__C=0.16378937069540642, clf__penalty=l1, clf__solver=liblinear;, score=0.612 total time=   0.2s\n",
      "[CV 12/15] END clf__C=0.16378937069540642, clf__penalty=l1, clf__solver=liblinear;, score=0.572 total time=   0.2s\n",
      "[CV 13/15] END clf__C=0.16378937069540642, clf__penalty=l1, clf__solver=liblinear;, score=0.591 total time=   0.2s\n",
      "[CV 14/15] END clf__C=0.16378937069540642, clf__penalty=l1, clf__solver=liblinear;, score=0.652 total time=   0.3s\n",
      "[CV 15/15] END clf__C=0.16378937069540642, clf__penalty=l1, clf__solver=liblinear;, score=0.659 total time=   0.2s\n",
      "[CV 1/15] END clf__C=0.16378937069540642, clf__penalty=l1, clf__solver=sag;, score=nan total time=   0.0s\n",
      "[CV 2/15] END clf__C=0.16378937069540642, clf__penalty=l1, clf__solver=sag;, score=nan total time=   0.0s\n",
      "[CV 3/15] END clf__C=0.16378937069540642, clf__penalty=l1, clf__solver=sag;, score=nan total time=   0.0s\n",
      "[CV 4/15] END clf__C=0.16378937069540642, clf__penalty=l1, clf__solver=sag;, score=nan total time=   0.0s\n",
      "[CV 5/15] END clf__C=0.16378937069540642, clf__penalty=l1, clf__solver=sag;, score=nan total time=   0.0s\n",
      "[CV 6/15] END clf__C=0.16378937069540642, clf__penalty=l1, clf__solver=sag;, score=nan total time=   0.0s\n",
      "[CV 7/15] END clf__C=0.16378937069540642, clf__penalty=l1, clf__solver=sag;, score=nan total time=   0.0s\n",
      "[CV 8/15] END clf__C=0.16378937069540642, clf__penalty=l1, clf__solver=sag;, score=nan total time=   0.0s\n",
      "[CV 9/15] END clf__C=0.16378937069540642, clf__penalty=l1, clf__solver=sag;, score=nan total time=   0.0s\n",
      "[CV 10/15] END clf__C=0.16378937069540642, clf__penalty=l1, clf__solver=sag;, score=nan total time=   0.0s\n",
      "[CV 11/15] END clf__C=0.16378937069540642, clf__penalty=l1, clf__solver=sag;, score=nan total time=   0.0s\n",
      "[CV 12/15] END clf__C=0.16378937069540642, clf__penalty=l1, clf__solver=sag;, score=nan total time=   0.0s\n",
      "[CV 13/15] END clf__C=0.16378937069540642, clf__penalty=l1, clf__solver=sag;, score=nan total time=   0.0s\n",
      "[CV 14/15] END clf__C=0.16378937069540642, clf__penalty=l1, clf__solver=sag;, score=nan total time=   0.0s\n",
      "[CV 15/15] END clf__C=0.16378937069540642, clf__penalty=l1, clf__solver=sag;, score=nan total time=   0.0s\n",
      "[CV 1/15] END clf__C=0.16378937069540642, clf__penalty=l2, clf__solver=lbfgs;, score=0.641 total time=   0.1s\n",
      "[CV 2/15] END clf__C=0.16378937069540642, clf__penalty=l2, clf__solver=lbfgs;, score=0.626 total time=   0.1s\n",
      "[CV 3/15] END clf__C=0.16378937069540642, clf__penalty=l2, clf__solver=lbfgs;, score=0.630 total time=   0.1s\n",
      "[CV 4/15] END clf__C=0.16378937069540642, clf__penalty=l2, clf__solver=lbfgs;, score=0.578 total time=   0.1s\n",
      "[CV 5/15] END clf__C=0.16378937069540642, clf__penalty=l2, clf__solver=lbfgs;, score=0.580 total time=   0.1s\n",
      "[CV 6/15] END clf__C=0.16378937069540642, clf__penalty=l2, clf__solver=lbfgs;, score=0.549 total time=   0.1s\n",
      "[CV 7/15] END clf__C=0.16378937069540642, clf__penalty=l2, clf__solver=lbfgs;, score=0.643 total time=   0.1s\n",
      "[CV 8/15] END clf__C=0.16378937069540642, clf__penalty=l2, clf__solver=lbfgs;, score=0.661 total time=   0.1s\n",
      "[CV 9/15] END clf__C=0.16378937069540642, clf__penalty=l2, clf__solver=lbfgs;, score=0.586 total time=   0.1s\n",
      "[CV 10/15] END clf__C=0.16378937069540642, clf__penalty=l2, clf__solver=lbfgs;, score=0.605 total time=   0.1s\n",
      "[CV 11/15] END clf__C=0.16378937069540642, clf__penalty=l2, clf__solver=lbfgs;, score=0.586 total time=   0.1s\n",
      "[CV 12/15] END clf__C=0.16378937069540642, clf__penalty=l2, clf__solver=lbfgs;, score=0.588 total time=   0.1s\n",
      "[CV 13/15] END clf__C=0.16378937069540642, clf__penalty=l2, clf__solver=lbfgs;, score=0.628 total time=   0.1s\n",
      "[CV 14/15] END clf__C=0.16378937069540642, clf__penalty=l2, clf__solver=lbfgs;, score=0.635 total time=   0.1s\n",
      "[CV 15/15] END clf__C=0.16378937069540642, clf__penalty=l2, clf__solver=lbfgs;, score=0.663 total time=   0.1s\n",
      "[CV 1/15] END clf__C=0.16378937069540642, clf__penalty=l2, clf__solver=liblinear;, score=0.655 total time=   0.1s\n",
      "[CV 2/15] END clf__C=0.16378937069540642, clf__penalty=l2, clf__solver=liblinear;, score=0.618 total time=   0.1s\n",
      "[CV 3/15] END clf__C=0.16378937069540642, clf__penalty=l2, clf__solver=liblinear;, score=0.612 total time=   0.1s\n",
      "[CV 4/15] END clf__C=0.16378937069540642, clf__penalty=l2, clf__solver=liblinear;, score=0.599 total time=   0.1s\n",
      "[CV 5/15] END clf__C=0.16378937069540642, clf__penalty=l2, clf__solver=liblinear;, score=0.578 total time=   0.1s\n",
      "[CV 6/15] END clf__C=0.16378937069540642, clf__penalty=l2, clf__solver=liblinear;, score=0.537 total time=   0.1s\n",
      "[CV 7/15] END clf__C=0.16378937069540642, clf__penalty=l2, clf__solver=liblinear;, score=0.656 total time=   0.1s\n",
      "[CV 8/15] END clf__C=0.16378937069540642, clf__penalty=l2, clf__solver=liblinear;, score=0.652 total time=   0.1s\n",
      "[CV 9/15] END clf__C=0.16378937069540642, clf__penalty=l2, clf__solver=liblinear;, score=0.581 total time=   0.1s\n",
      "[CV 10/15] END clf__C=0.16378937069540642, clf__penalty=l2, clf__solver=liblinear;, score=0.620 total time=   0.1s\n",
      "[CV 11/15] END clf__C=0.16378937069540642, clf__penalty=l2, clf__solver=liblinear;, score=0.598 total time=   0.1s\n",
      "[CV 12/15] END clf__C=0.16378937069540642, clf__penalty=l2, clf__solver=liblinear;, score=0.586 total time=   0.1s\n",
      "[CV 13/15] END clf__C=0.16378937069540642, clf__penalty=l2, clf__solver=liblinear;, score=0.619 total time=   0.1s\n",
      "[CV 14/15] END clf__C=0.16378937069540642, clf__penalty=l2, clf__solver=liblinear;, score=0.623 total time=   0.1s\n"
     ]
    },
    {
     "name": "stdout",
     "output_type": "stream",
     "text": [
      "[CV 15/15] END clf__C=0.16378937069540642, clf__penalty=l2, clf__solver=liblinear;, score=0.671 total time=   0.1s\n",
      "[CV 1/15] END clf__C=0.16378937069540642, clf__penalty=l2, clf__solver=sag;, score=0.641 total time=   0.2s\n",
      "[CV 2/15] END clf__C=0.16378937069540642, clf__penalty=l2, clf__solver=sag;, score=0.626 total time=   0.2s\n",
      "[CV 3/15] END clf__C=0.16378937069540642, clf__penalty=l2, clf__solver=sag;, score=0.630 total time=   0.2s\n",
      "[CV 4/15] END clf__C=0.16378937069540642, clf__penalty=l2, clf__solver=sag;, score=0.578 total time=   0.2s\n",
      "[CV 5/15] END clf__C=0.16378937069540642, clf__penalty=l2, clf__solver=sag;, score=0.580 total time=   0.2s\n",
      "[CV 6/15] END clf__C=0.16378937069540642, clf__penalty=l2, clf__solver=sag;, score=0.548 total time=   0.2s\n",
      "[CV 7/15] END clf__C=0.16378937069540642, clf__penalty=l2, clf__solver=sag;, score=0.643 total time=   0.2s\n",
      "[CV 8/15] END clf__C=0.16378937069540642, clf__penalty=l2, clf__solver=sag;, score=0.661 total time=   0.2s\n",
      "[CV 9/15] END clf__C=0.16378937069540642, clf__penalty=l2, clf__solver=sag;, score=0.586 total time=   0.2s\n",
      "[CV 10/15] END clf__C=0.16378937069540642, clf__penalty=l2, clf__solver=sag;, score=0.605 total time=   0.3s\n",
      "[CV 11/15] END clf__C=0.16378937069540642, clf__penalty=l2, clf__solver=sag;, score=0.586 total time=   0.2s\n",
      "[CV 12/15] END clf__C=0.16378937069540642, clf__penalty=l2, clf__solver=sag;, score=0.588 total time=   0.2s\n",
      "[CV 13/15] END clf__C=0.16378937069540642, clf__penalty=l2, clf__solver=sag;, score=0.628 total time=   0.2s\n",
      "[CV 14/15] END clf__C=0.16378937069540642, clf__penalty=l2, clf__solver=sag;, score=0.635 total time=   0.2s\n",
      "[CV 15/15] END clf__C=0.16378937069540642, clf__penalty=l2, clf__solver=sag;, score=0.663 total time=   0.2s\n"
     ]
    },
    {
     "name": "stderr",
     "output_type": "stream",
     "text": [
      "/Users/guy/miniforge3/envs/.venv/lib/python3.9/site-packages/sklearn/linear_model/_logistic.py:1483: UserWarning: Setting penalty='none' will ignore the C and l1_ratio parameters\n",
      "  warnings.warn(\n"
     ]
    },
    {
     "name": "stdout",
     "output_type": "stream",
     "text": [
      "[CV 1/15] END clf__C=0.16378937069540642, clf__penalty=none, clf__solver=lbfgs;, score=0.635 total time=   0.3s\n"
     ]
    },
    {
     "name": "stderr",
     "output_type": "stream",
     "text": [
      "/Users/guy/miniforge3/envs/.venv/lib/python3.9/site-packages/sklearn/linear_model/_logistic.py:1483: UserWarning: Setting penalty='none' will ignore the C and l1_ratio parameters\n",
      "  warnings.warn(\n"
     ]
    },
    {
     "name": "stdout",
     "output_type": "stream",
     "text": [
      "[CV 2/15] END clf__C=0.16378937069540642, clf__penalty=none, clf__solver=lbfgs;, score=0.619 total time=   0.4s\n"
     ]
    },
    {
     "name": "stderr",
     "output_type": "stream",
     "text": [
      "/Users/guy/miniforge3/envs/.venv/lib/python3.9/site-packages/sklearn/linear_model/_logistic.py:1483: UserWarning: Setting penalty='none' will ignore the C and l1_ratio parameters\n",
      "  warnings.warn(\n"
     ]
    },
    {
     "name": "stdout",
     "output_type": "stream",
     "text": [
      "[CV 3/15] END clf__C=0.16378937069540642, clf__penalty=none, clf__solver=lbfgs;, score=0.640 total time=   0.4s\n"
     ]
    },
    {
     "name": "stderr",
     "output_type": "stream",
     "text": [
      "/Users/guy/miniforge3/envs/.venv/lib/python3.9/site-packages/sklearn/linear_model/_logistic.py:1483: UserWarning: Setting penalty='none' will ignore the C and l1_ratio parameters\n",
      "  warnings.warn(\n"
     ]
    },
    {
     "name": "stdout",
     "output_type": "stream",
     "text": [
      "[CV 4/15] END clf__C=0.16378937069540642, clf__penalty=none, clf__solver=lbfgs;, score=0.565 total time=   0.4s\n"
     ]
    },
    {
     "name": "stderr",
     "output_type": "stream",
     "text": [
      "/Users/guy/miniforge3/envs/.venv/lib/python3.9/site-packages/sklearn/linear_model/_logistic.py:1483: UserWarning: Setting penalty='none' will ignore the C and l1_ratio parameters\n",
      "  warnings.warn(\n"
     ]
    },
    {
     "name": "stdout",
     "output_type": "stream",
     "text": [
      "[CV 5/15] END clf__C=0.16378937069540642, clf__penalty=none, clf__solver=lbfgs;, score=0.582 total time=   0.4s\n"
     ]
    },
    {
     "name": "stderr",
     "output_type": "stream",
     "text": [
      "/Users/guy/miniforge3/envs/.venv/lib/python3.9/site-packages/sklearn/linear_model/_logistic.py:1483: UserWarning: Setting penalty='none' will ignore the C and l1_ratio parameters\n",
      "  warnings.warn(\n"
     ]
    },
    {
     "name": "stdout",
     "output_type": "stream",
     "text": [
      "[CV 6/15] END clf__C=0.16378937069540642, clf__penalty=none, clf__solver=lbfgs;, score=0.554 total time=   0.4s\n"
     ]
    },
    {
     "name": "stderr",
     "output_type": "stream",
     "text": [
      "/Users/guy/miniforge3/envs/.venv/lib/python3.9/site-packages/sklearn/linear_model/_logistic.py:1483: UserWarning: Setting penalty='none' will ignore the C and l1_ratio parameters\n",
      "  warnings.warn(\n"
     ]
    },
    {
     "name": "stdout",
     "output_type": "stream",
     "text": [
      "[CV 7/15] END clf__C=0.16378937069540642, clf__penalty=none, clf__solver=lbfgs;, score=0.649 total time=   0.4s\n"
     ]
    },
    {
     "name": "stderr",
     "output_type": "stream",
     "text": [
      "/Users/guy/miniforge3/envs/.venv/lib/python3.9/site-packages/sklearn/linear_model/_logistic.py:1483: UserWarning: Setting penalty='none' will ignore the C and l1_ratio parameters\n",
      "  warnings.warn(\n"
     ]
    },
    {
     "name": "stdout",
     "output_type": "stream",
     "text": [
      "[CV 8/15] END clf__C=0.16378937069540642, clf__penalty=none, clf__solver=lbfgs;, score=0.653 total time=   0.4s\n"
     ]
    },
    {
     "name": "stderr",
     "output_type": "stream",
     "text": [
      "/Users/guy/miniforge3/envs/.venv/lib/python3.9/site-packages/sklearn/linear_model/_logistic.py:1483: UserWarning: Setting penalty='none' will ignore the C and l1_ratio parameters\n",
      "  warnings.warn(\n"
     ]
    },
    {
     "name": "stdout",
     "output_type": "stream",
     "text": [
      "[CV 9/15] END clf__C=0.16378937069540642, clf__penalty=none, clf__solver=lbfgs;, score=0.584 total time=   0.4s\n"
     ]
    },
    {
     "name": "stderr",
     "output_type": "stream",
     "text": [
      "/Users/guy/miniforge3/envs/.venv/lib/python3.9/site-packages/sklearn/linear_model/_logistic.py:1483: UserWarning: Setting penalty='none' will ignore the C and l1_ratio parameters\n",
      "  warnings.warn(\n"
     ]
    },
    {
     "name": "stdout",
     "output_type": "stream",
     "text": [
      "[CV 10/15] END clf__C=0.16378937069540642, clf__penalty=none, clf__solver=lbfgs;, score=0.623 total time=   0.4s\n"
     ]
    },
    {
     "name": "stderr",
     "output_type": "stream",
     "text": [
      "/Users/guy/miniforge3/envs/.venv/lib/python3.9/site-packages/sklearn/linear_model/_logistic.py:1483: UserWarning: Setting penalty='none' will ignore the C and l1_ratio parameters\n",
      "  warnings.warn(\n"
     ]
    },
    {
     "name": "stdout",
     "output_type": "stream",
     "text": [
      "[CV 11/15] END clf__C=0.16378937069540642, clf__penalty=none, clf__solver=lbfgs;, score=0.576 total time=   0.4s\n"
     ]
    },
    {
     "name": "stderr",
     "output_type": "stream",
     "text": [
      "/Users/guy/miniforge3/envs/.venv/lib/python3.9/site-packages/sklearn/linear_model/_logistic.py:1483: UserWarning: Setting penalty='none' will ignore the C and l1_ratio parameters\n",
      "  warnings.warn(\n"
     ]
    },
    {
     "name": "stdout",
     "output_type": "stream",
     "text": [
      "[CV 12/15] END clf__C=0.16378937069540642, clf__penalty=none, clf__solver=lbfgs;, score=0.586 total time=   0.4s\n"
     ]
    },
    {
     "name": "stderr",
     "output_type": "stream",
     "text": [
      "/Users/guy/miniforge3/envs/.venv/lib/python3.9/site-packages/sklearn/linear_model/_logistic.py:1483: UserWarning: Setting penalty='none' will ignore the C and l1_ratio parameters\n",
      "  warnings.warn(\n"
     ]
    },
    {
     "name": "stdout",
     "output_type": "stream",
     "text": [
      "[CV 13/15] END clf__C=0.16378937069540642, clf__penalty=none, clf__solver=lbfgs;, score=0.643 total time=   0.4s\n"
     ]
    },
    {
     "name": "stderr",
     "output_type": "stream",
     "text": [
      "/Users/guy/miniforge3/envs/.venv/lib/python3.9/site-packages/sklearn/linear_model/_logistic.py:1483: UserWarning: Setting penalty='none' will ignore the C and l1_ratio parameters\n",
      "  warnings.warn(\n"
     ]
    },
    {
     "name": "stdout",
     "output_type": "stream",
     "text": [
      "[CV 14/15] END clf__C=0.16378937069540642, clf__penalty=none, clf__solver=lbfgs;, score=0.633 total time=   0.4s\n"
     ]
    },
    {
     "name": "stderr",
     "output_type": "stream",
     "text": [
      "/Users/guy/miniforge3/envs/.venv/lib/python3.9/site-packages/sklearn/linear_model/_logistic.py:1483: UserWarning: Setting penalty='none' will ignore the C and l1_ratio parameters\n",
      "  warnings.warn(\n"
     ]
    },
    {
     "name": "stdout",
     "output_type": "stream",
     "text": [
      "[CV 15/15] END clf__C=0.16378937069540642, clf__penalty=none, clf__solver=lbfgs;, score=0.668 total time=   0.3s\n",
      "[CV 1/15] END clf__C=0.16378937069540642, clf__penalty=none, clf__solver=liblinear;, score=nan total time=   0.0s\n",
      "[CV 2/15] END clf__C=0.16378937069540642, clf__penalty=none, clf__solver=liblinear;, score=nan total time=   0.0s\n",
      "[CV 3/15] END clf__C=0.16378937069540642, clf__penalty=none, clf__solver=liblinear;, score=nan total time=   0.0s\n",
      "[CV 4/15] END clf__C=0.16378937069540642, clf__penalty=none, clf__solver=liblinear;, score=nan total time=   0.0s\n",
      "[CV 5/15] END clf__C=0.16378937069540642, clf__penalty=none, clf__solver=liblinear;, score=nan total time=   0.0s\n",
      "[CV 6/15] END clf__C=0.16378937069540642, clf__penalty=none, clf__solver=liblinear;, score=nan total time=   0.0s\n",
      "[CV 7/15] END clf__C=0.16378937069540642, clf__penalty=none, clf__solver=liblinear;, score=nan total time=   0.0s\n",
      "[CV 8/15] END clf__C=0.16378937069540642, clf__penalty=none, clf__solver=liblinear;, score=nan total time=   0.0s\n",
      "[CV 9/15] END clf__C=0.16378937069540642, clf__penalty=none, clf__solver=liblinear;, score=nan total time=   0.0s\n",
      "[CV 10/15] END clf__C=0.16378937069540642, clf__penalty=none, clf__solver=liblinear;, score=nan total time=   0.0s\n",
      "[CV 11/15] END clf__C=0.16378937069540642, clf__penalty=none, clf__solver=liblinear;, score=nan total time=   0.0s\n",
      "[CV 12/15] END clf__C=0.16378937069540642, clf__penalty=none, clf__solver=liblinear;, score=nan total time=   0.0s\n",
      "[CV 13/15] END clf__C=0.16378937069540642, clf__penalty=none, clf__solver=liblinear;, score=nan total time=   0.0s\n",
      "[CV 14/15] END clf__C=0.16378937069540642, clf__penalty=none, clf__solver=liblinear;, score=nan total time=   0.0s\n",
      "[CV 15/15] END clf__C=0.16378937069540642, clf__penalty=none, clf__solver=liblinear;, score=nan total time=   0.0s\n"
     ]
    },
    {
     "name": "stderr",
     "output_type": "stream",
     "text": [
      "/Users/guy/miniforge3/envs/.venv/lib/python3.9/site-packages/sklearn/linear_model/_logistic.py:1483: UserWarning: Setting penalty='none' will ignore the C and l1_ratio parameters\n",
      "  warnings.warn(\n"
     ]
    },
    {
     "name": "stdout",
     "output_type": "stream",
     "text": [
      "[CV 1/15] END clf__C=0.16378937069540642, clf__penalty=none, clf__solver=sag;, score=0.635 total time=   0.9s\n"
     ]
    },
    {
     "name": "stderr",
     "output_type": "stream",
     "text": [
      "/Users/guy/miniforge3/envs/.venv/lib/python3.9/site-packages/sklearn/linear_model/_logistic.py:1483: UserWarning: Setting penalty='none' will ignore the C and l1_ratio parameters\n",
      "  warnings.warn(\n"
     ]
    },
    {
     "name": "stdout",
     "output_type": "stream",
     "text": [
      "[CV 2/15] END clf__C=0.16378937069540642, clf__penalty=none, clf__solver=sag;, score=0.619 total time=   1.6s\n"
     ]
    },
    {
     "name": "stderr",
     "output_type": "stream",
     "text": [
      "/Users/guy/miniforge3/envs/.venv/lib/python3.9/site-packages/sklearn/linear_model/_logistic.py:1483: UserWarning: Setting penalty='none' will ignore the C and l1_ratio parameters\n",
      "  warnings.warn(\n"
     ]
    },
    {
     "name": "stdout",
     "output_type": "stream",
     "text": [
      "[CV 3/15] END clf__C=0.16378937069540642, clf__penalty=none, clf__solver=sag;, score=0.640 total time=   1.6s\n"
     ]
    },
    {
     "name": "stderr",
     "output_type": "stream",
     "text": [
      "/Users/guy/miniforge3/envs/.venv/lib/python3.9/site-packages/sklearn/linear_model/_logistic.py:1483: UserWarning: Setting penalty='none' will ignore the C and l1_ratio parameters\n",
      "  warnings.warn(\n"
     ]
    },
    {
     "name": "stdout",
     "output_type": "stream",
     "text": [
      "[CV 4/15] END clf__C=0.16378937069540642, clf__penalty=none, clf__solver=sag;, score=0.565 total time=   1.5s\n"
     ]
    },
    {
     "name": "stderr",
     "output_type": "stream",
     "text": [
      "/Users/guy/miniforge3/envs/.venv/lib/python3.9/site-packages/sklearn/linear_model/_logistic.py:1483: UserWarning: Setting penalty='none' will ignore the C and l1_ratio parameters\n",
      "  warnings.warn(\n"
     ]
    },
    {
     "name": "stdout",
     "output_type": "stream",
     "text": [
      "[CV 5/15] END clf__C=0.16378937069540642, clf__penalty=none, clf__solver=sag;, score=0.582 total time=   1.4s\n"
     ]
    },
    {
     "name": "stderr",
     "output_type": "stream",
     "text": [
      "/Users/guy/miniforge3/envs/.venv/lib/python3.9/site-packages/sklearn/linear_model/_logistic.py:1483: UserWarning: Setting penalty='none' will ignore the C and l1_ratio parameters\n",
      "  warnings.warn(\n"
     ]
    },
    {
     "name": "stdout",
     "output_type": "stream",
     "text": [
      "[CV 6/15] END clf__C=0.16378937069540642, clf__penalty=none, clf__solver=sag;, score=0.554 total time=   1.6s\n"
     ]
    },
    {
     "name": "stderr",
     "output_type": "stream",
     "text": [
      "/Users/guy/miniforge3/envs/.venv/lib/python3.9/site-packages/sklearn/linear_model/_logistic.py:1483: UserWarning: Setting penalty='none' will ignore the C and l1_ratio parameters\n",
      "  warnings.warn(\n"
     ]
    },
    {
     "name": "stdout",
     "output_type": "stream",
     "text": [
      "[CV 7/15] END clf__C=0.16378937069540642, clf__penalty=none, clf__solver=sag;, score=0.649 total time=   1.2s\n"
     ]
    },
    {
     "name": "stderr",
     "output_type": "stream",
     "text": [
      "/Users/guy/miniforge3/envs/.venv/lib/python3.9/site-packages/sklearn/linear_model/_logistic.py:1483: UserWarning: Setting penalty='none' will ignore the C and l1_ratio parameters\n",
      "  warnings.warn(\n"
     ]
    },
    {
     "name": "stdout",
     "output_type": "stream",
     "text": [
      "[CV 8/15] END clf__C=0.16378937069540642, clf__penalty=none, clf__solver=sag;, score=0.653 total time=   1.6s\n"
     ]
    },
    {
     "name": "stderr",
     "output_type": "stream",
     "text": [
      "/Users/guy/miniforge3/envs/.venv/lib/python3.9/site-packages/sklearn/linear_model/_logistic.py:1483: UserWarning: Setting penalty='none' will ignore the C and l1_ratio parameters\n",
      "  warnings.warn(\n"
     ]
    },
    {
     "name": "stdout",
     "output_type": "stream",
     "text": [
      "[CV 9/15] END clf__C=0.16378937069540642, clf__penalty=none, clf__solver=sag;, score=0.584 total time=   1.6s\n"
     ]
    },
    {
     "name": "stderr",
     "output_type": "stream",
     "text": [
      "/Users/guy/miniforge3/envs/.venv/lib/python3.9/site-packages/sklearn/linear_model/_logistic.py:1483: UserWarning: Setting penalty='none' will ignore the C and l1_ratio parameters\n",
      "  warnings.warn(\n"
     ]
    },
    {
     "name": "stdout",
     "output_type": "stream",
     "text": [
      "[CV 10/15] END clf__C=0.16378937069540642, clf__penalty=none, clf__solver=sag;, score=0.622 total time=   1.4s\n"
     ]
    },
    {
     "name": "stderr",
     "output_type": "stream",
     "text": [
      "/Users/guy/miniforge3/envs/.venv/lib/python3.9/site-packages/sklearn/linear_model/_logistic.py:1483: UserWarning: Setting penalty='none' will ignore the C and l1_ratio parameters\n",
      "  warnings.warn(\n"
     ]
    },
    {
     "name": "stdout",
     "output_type": "stream",
     "text": [
      "[CV 11/15] END clf__C=0.16378937069540642, clf__penalty=none, clf__solver=sag;, score=0.576 total time=   1.4s\n"
     ]
    },
    {
     "name": "stderr",
     "output_type": "stream",
     "text": [
      "/Users/guy/miniforge3/envs/.venv/lib/python3.9/site-packages/sklearn/linear_model/_logistic.py:1483: UserWarning: Setting penalty='none' will ignore the C and l1_ratio parameters\n",
      "  warnings.warn(\n"
     ]
    },
    {
     "name": "stdout",
     "output_type": "stream",
     "text": [
      "[CV 12/15] END clf__C=0.16378937069540642, clf__penalty=none, clf__solver=sag;, score=0.586 total time=   1.6s\n"
     ]
    },
    {
     "name": "stderr",
     "output_type": "stream",
     "text": [
      "/Users/guy/miniforge3/envs/.venv/lib/python3.9/site-packages/sklearn/linear_model/_logistic.py:1483: UserWarning: Setting penalty='none' will ignore the C and l1_ratio parameters\n",
      "  warnings.warn(\n"
     ]
    },
    {
     "name": "stdout",
     "output_type": "stream",
     "text": [
      "[CV 13/15] END clf__C=0.16378937069540642, clf__penalty=none, clf__solver=sag;, score=0.643 total time=   1.5s\n"
     ]
    },
    {
     "name": "stderr",
     "output_type": "stream",
     "text": [
      "/Users/guy/miniforge3/envs/.venv/lib/python3.9/site-packages/sklearn/linear_model/_logistic.py:1483: UserWarning: Setting penalty='none' will ignore the C and l1_ratio parameters\n",
      "  warnings.warn(\n"
     ]
    },
    {
     "name": "stdout",
     "output_type": "stream",
     "text": [
      "[CV 14/15] END clf__C=0.16378937069540642, clf__penalty=none, clf__solver=sag;, score=0.633 total time=   1.6s\n"
     ]
    },
    {
     "name": "stderr",
     "output_type": "stream",
     "text": [
      "/Users/guy/miniforge3/envs/.venv/lib/python3.9/site-packages/sklearn/linear_model/_logistic.py:1483: UserWarning: Setting penalty='none' will ignore the C and l1_ratio parameters\n",
      "  warnings.warn(\n"
     ]
    },
    {
     "name": "stdout",
     "output_type": "stream",
     "text": [
      "[CV 15/15] END clf__C=0.16378937069540642, clf__penalty=none, clf__solver=sag;, score=0.668 total time=   0.9s\n",
      "[CV 1/15] END clf__C=0.193069772888325, clf__penalty=l1, clf__solver=lbfgs;, score=nan total time=   0.0s\n",
      "[CV 2/15] END clf__C=0.193069772888325, clf__penalty=l1, clf__solver=lbfgs;, score=nan total time=   0.0s\n",
      "[CV 3/15] END clf__C=0.193069772888325, clf__penalty=l1, clf__solver=lbfgs;, score=nan total time=   0.0s\n",
      "[CV 4/15] END clf__C=0.193069772888325, clf__penalty=l1, clf__solver=lbfgs;, score=nan total time=   0.0s\n",
      "[CV 5/15] END clf__C=0.193069772888325, clf__penalty=l1, clf__solver=lbfgs;, score=nan total time=   0.0s\n",
      "[CV 6/15] END clf__C=0.193069772888325, clf__penalty=l1, clf__solver=lbfgs;, score=nan total time=   0.0s\n",
      "[CV 7/15] END clf__C=0.193069772888325, clf__penalty=l1, clf__solver=lbfgs;, score=nan total time=   0.0s\n",
      "[CV 8/15] END clf__C=0.193069772888325, clf__penalty=l1, clf__solver=lbfgs;, score=nan total time=   0.0s\n",
      "[CV 9/15] END clf__C=0.193069772888325, clf__penalty=l1, clf__solver=lbfgs;, score=nan total time=   0.0s\n",
      "[CV 10/15] END clf__C=0.193069772888325, clf__penalty=l1, clf__solver=lbfgs;, score=nan total time=   0.0s\n",
      "[CV 11/15] END clf__C=0.193069772888325, clf__penalty=l1, clf__solver=lbfgs;, score=nan total time=   0.0s\n",
      "[CV 12/15] END clf__C=0.193069772888325, clf__penalty=l1, clf__solver=lbfgs;, score=nan total time=   0.0s\n",
      "[CV 13/15] END clf__C=0.193069772888325, clf__penalty=l1, clf__solver=lbfgs;, score=nan total time=   0.0s\n",
      "[CV 14/15] END clf__C=0.193069772888325, clf__penalty=l1, clf__solver=lbfgs;, score=nan total time=   0.0s\n",
      "[CV 15/15] END clf__C=0.193069772888325, clf__penalty=l1, clf__solver=lbfgs;, score=nan total time=   0.0s\n",
      "[CV 1/15] END clf__C=0.193069772888325, clf__penalty=l1, clf__solver=liblinear;, score=0.654 total time=   0.2s\n",
      "[CV 2/15] END clf__C=0.193069772888325, clf__penalty=l1, clf__solver=liblinear;, score=0.628 total time=   0.2s\n",
      "[CV 3/15] END clf__C=0.193069772888325, clf__penalty=l1, clf__solver=liblinear;, score=0.642 total time=   0.3s\n",
      "[CV 4/15] END clf__C=0.193069772888325, clf__penalty=l1, clf__solver=liblinear;, score=0.588 total time=   0.3s\n",
      "[CV 5/15] END clf__C=0.193069772888325, clf__penalty=l1, clf__solver=liblinear;, score=0.586 total time=   0.2s\n",
      "[CV 6/15] END clf__C=0.193069772888325, clf__penalty=l1, clf__solver=liblinear;, score=0.572 total time=   0.3s\n",
      "[CV 7/15] END clf__C=0.193069772888325, clf__penalty=l1, clf__solver=liblinear;, score=0.651 total time=   0.3s\n",
      "[CV 8/15] END clf__C=0.193069772888325, clf__penalty=l1, clf__solver=liblinear;, score=0.656 total time=   0.3s\n",
      "[CV 9/15] END clf__C=0.193069772888325, clf__penalty=l1, clf__solver=liblinear;, score=0.605 total time=   0.3s\n",
      "[CV 10/15] END clf__C=0.193069772888325, clf__penalty=l1, clf__solver=liblinear;, score=0.630 total time=   0.2s\n",
      "[CV 11/15] END clf__C=0.193069772888325, clf__penalty=l1, clf__solver=liblinear;, score=0.614 total time=   0.3s\n",
      "[CV 12/15] END clf__C=0.193069772888325, clf__penalty=l1, clf__solver=liblinear;, score=0.573 total time=   0.2s\n",
      "[CV 13/15] END clf__C=0.193069772888325, clf__penalty=l1, clf__solver=liblinear;, score=0.599 total time=   0.2s\n",
      "[CV 14/15] END clf__C=0.193069772888325, clf__penalty=l1, clf__solver=liblinear;, score=0.655 total time=   0.3s\n",
      "[CV 15/15] END clf__C=0.193069772888325, clf__penalty=l1, clf__solver=liblinear;, score=0.663 total time=   0.3s\n",
      "[CV 1/15] END clf__C=0.193069772888325, clf__penalty=l1, clf__solver=sag;, score=nan total time=   0.0s\n",
      "[CV 2/15] END clf__C=0.193069772888325, clf__penalty=l1, clf__solver=sag;, score=nan total time=   0.0s\n",
      "[CV 3/15] END clf__C=0.193069772888325, clf__penalty=l1, clf__solver=sag;, score=nan total time=   0.0s\n",
      "[CV 4/15] END clf__C=0.193069772888325, clf__penalty=l1, clf__solver=sag;, score=nan total time=   0.0s\n",
      "[CV 5/15] END clf__C=0.193069772888325, clf__penalty=l1, clf__solver=sag;, score=nan total time=   0.0s\n",
      "[CV 6/15] END clf__C=0.193069772888325, clf__penalty=l1, clf__solver=sag;, score=nan total time=   0.0s\n",
      "[CV 7/15] END clf__C=0.193069772888325, clf__penalty=l1, clf__solver=sag;, score=nan total time=   0.0s\n",
      "[CV 8/15] END clf__C=0.193069772888325, clf__penalty=l1, clf__solver=sag;, score=nan total time=   0.0s\n",
      "[CV 9/15] END clf__C=0.193069772888325, clf__penalty=l1, clf__solver=sag;, score=nan total time=   0.0s\n",
      "[CV 10/15] END clf__C=0.193069772888325, clf__penalty=l1, clf__solver=sag;, score=nan total time=   0.0s\n",
      "[CV 11/15] END clf__C=0.193069772888325, clf__penalty=l1, clf__solver=sag;, score=nan total time=   0.0s\n",
      "[CV 12/15] END clf__C=0.193069772888325, clf__penalty=l1, clf__solver=sag;, score=nan total time=   0.0s\n",
      "[CV 13/15] END clf__C=0.193069772888325, clf__penalty=l1, clf__solver=sag;, score=nan total time=   0.0s\n",
      "[CV 14/15] END clf__C=0.193069772888325, clf__penalty=l1, clf__solver=sag;, score=nan total time=   0.0s\n",
      "[CV 15/15] END clf__C=0.193069772888325, clf__penalty=l1, clf__solver=sag;, score=nan total time=   0.0s\n",
      "[CV 1/15] END clf__C=0.193069772888325, clf__penalty=l2, clf__solver=lbfgs;, score=0.641 total time=   0.1s\n",
      "[CV 2/15] END clf__C=0.193069772888325, clf__penalty=l2, clf__solver=lbfgs;, score=0.626 total time=   0.1s\n",
      "[CV 3/15] END clf__C=0.193069772888325, clf__penalty=l2, clf__solver=lbfgs;, score=0.631 total time=   0.2s\n",
      "[CV 4/15] END clf__C=0.193069772888325, clf__penalty=l2, clf__solver=lbfgs;, score=0.577 total time=   0.2s\n",
      "[CV 5/15] END clf__C=0.193069772888325, clf__penalty=l2, clf__solver=lbfgs;, score=0.580 total time=   0.1s\n",
      "[CV 6/15] END clf__C=0.193069772888325, clf__penalty=l2, clf__solver=lbfgs;, score=0.549 total time=   0.1s\n",
      "[CV 7/15] END clf__C=0.193069772888325, clf__penalty=l2, clf__solver=lbfgs;, score=0.643 total time=   0.1s\n",
      "[CV 8/15] END clf__C=0.193069772888325, clf__penalty=l2, clf__solver=lbfgs;, score=0.661 total time=   0.1s\n",
      "[CV 9/15] END clf__C=0.193069772888325, clf__penalty=l2, clf__solver=lbfgs;, score=0.585 total time=   0.1s\n",
      "[CV 10/15] END clf__C=0.193069772888325, clf__penalty=l2, clf__solver=lbfgs;, score=0.606 total time=   0.1s\n",
      "[CV 11/15] END clf__C=0.193069772888325, clf__penalty=l2, clf__solver=lbfgs;, score=0.585 total time=   0.2s\n",
      "[CV 12/15] END clf__C=0.193069772888325, clf__penalty=l2, clf__solver=lbfgs;, score=0.588 total time=   0.2s\n",
      "[CV 13/15] END clf__C=0.193069772888325, clf__penalty=l2, clf__solver=lbfgs;, score=0.629 total time=   0.2s\n",
      "[CV 14/15] END clf__C=0.193069772888325, clf__penalty=l2, clf__solver=lbfgs;, score=0.635 total time=   0.1s\n",
      "[CV 15/15] END clf__C=0.193069772888325, clf__penalty=l2, clf__solver=lbfgs;, score=0.664 total time=   0.1s\n",
      "[CV 1/15] END clf__C=0.193069772888325, clf__penalty=l2, clf__solver=liblinear;, score=0.654 total time=   0.1s\n",
      "[CV 2/15] END clf__C=0.193069772888325, clf__penalty=l2, clf__solver=liblinear;, score=0.619 total time=   0.1s\n",
      "[CV 3/15] END clf__C=0.193069772888325, clf__penalty=l2, clf__solver=liblinear;, score=0.614 total time=   0.1s\n",
      "[CV 4/15] END clf__C=0.193069772888325, clf__penalty=l2, clf__solver=liblinear;, score=0.597 total time=   0.1s\n",
      "[CV 5/15] END clf__C=0.193069772888325, clf__penalty=l2, clf__solver=liblinear;, score=0.578 total time=   0.1s\n",
      "[CV 6/15] END clf__C=0.193069772888325, clf__penalty=l2, clf__solver=liblinear;, score=0.538 total time=   0.1s\n",
      "[CV 7/15] END clf__C=0.193069772888325, clf__penalty=l2, clf__solver=liblinear;, score=0.656 total time=   0.1s\n",
      "[CV 8/15] END clf__C=0.193069772888325, clf__penalty=l2, clf__solver=liblinear;, score=0.654 total time=   0.1s\n",
      "[CV 9/15] END clf__C=0.193069772888325, clf__penalty=l2, clf__solver=liblinear;, score=0.582 total time=   0.1s\n",
      "[CV 10/15] END clf__C=0.193069772888325, clf__penalty=l2, clf__solver=liblinear;, score=0.621 total time=   0.1s\n",
      "[CV 11/15] END clf__C=0.193069772888325, clf__penalty=l2, clf__solver=liblinear;, score=0.597 total time=   0.1s\n",
      "[CV 12/15] END clf__C=0.193069772888325, clf__penalty=l2, clf__solver=liblinear;, score=0.586 total time=   0.1s\n",
      "[CV 13/15] END clf__C=0.193069772888325, clf__penalty=l2, clf__solver=liblinear;, score=0.622 total time=   0.1s\n",
      "[CV 14/15] END clf__C=0.193069772888325, clf__penalty=l2, clf__solver=liblinear;, score=0.625 total time=   0.1s\n",
      "[CV 15/15] END clf__C=0.193069772888325, clf__penalty=l2, clf__solver=liblinear;, score=0.672 total time=   0.1s\n"
     ]
    },
    {
     "name": "stdout",
     "output_type": "stream",
     "text": [
      "[CV 1/15] END clf__C=0.193069772888325, clf__penalty=l2, clf__solver=sag;, score=0.641 total time=   0.3s\n",
      "[CV 2/15] END clf__C=0.193069772888325, clf__penalty=l2, clf__solver=sag;, score=0.626 total time=   0.3s\n",
      "[CV 3/15] END clf__C=0.193069772888325, clf__penalty=l2, clf__solver=sag;, score=0.631 total time=   0.2s\n",
      "[CV 4/15] END clf__C=0.193069772888325, clf__penalty=l2, clf__solver=sag;, score=0.577 total time=   0.3s\n",
      "[CV 5/15] END clf__C=0.193069772888325, clf__penalty=l2, clf__solver=sag;, score=0.580 total time=   0.3s\n",
      "[CV 6/15] END clf__C=0.193069772888325, clf__penalty=l2, clf__solver=sag;, score=0.549 total time=   0.3s\n",
      "[CV 7/15] END clf__C=0.193069772888325, clf__penalty=l2, clf__solver=sag;, score=0.643 total time=   0.3s\n",
      "[CV 8/15] END clf__C=0.193069772888325, clf__penalty=l2, clf__solver=sag;, score=0.661 total time=   0.3s\n",
      "[CV 9/15] END clf__C=0.193069772888325, clf__penalty=l2, clf__solver=sag;, score=0.585 total time=   0.3s\n",
      "[CV 10/15] END clf__C=0.193069772888325, clf__penalty=l2, clf__solver=sag;, score=0.606 total time=   0.3s\n",
      "[CV 11/15] END clf__C=0.193069772888325, clf__penalty=l2, clf__solver=sag;, score=0.585 total time=   0.3s\n",
      "[CV 12/15] END clf__C=0.193069772888325, clf__penalty=l2, clf__solver=sag;, score=0.588 total time=   0.3s\n",
      "[CV 13/15] END clf__C=0.193069772888325, clf__penalty=l2, clf__solver=sag;, score=0.629 total time=   0.3s\n",
      "[CV 14/15] END clf__C=0.193069772888325, clf__penalty=l2, clf__solver=sag;, score=0.635 total time=   0.3s\n",
      "[CV 15/15] END clf__C=0.193069772888325, clf__penalty=l2, clf__solver=sag;, score=0.664 total time=   0.3s\n"
     ]
    },
    {
     "name": "stderr",
     "output_type": "stream",
     "text": [
      "/Users/guy/miniforge3/envs/.venv/lib/python3.9/site-packages/sklearn/linear_model/_logistic.py:1483: UserWarning: Setting penalty='none' will ignore the C and l1_ratio parameters\n",
      "  warnings.warn(\n"
     ]
    },
    {
     "name": "stdout",
     "output_type": "stream",
     "text": [
      "[CV 1/15] END clf__C=0.193069772888325, clf__penalty=none, clf__solver=lbfgs;, score=0.635 total time=   0.3s\n"
     ]
    },
    {
     "name": "stderr",
     "output_type": "stream",
     "text": [
      "/Users/guy/miniforge3/envs/.venv/lib/python3.9/site-packages/sklearn/linear_model/_logistic.py:1483: UserWarning: Setting penalty='none' will ignore the C and l1_ratio parameters\n",
      "  warnings.warn(\n"
     ]
    },
    {
     "name": "stdout",
     "output_type": "stream",
     "text": [
      "[CV 2/15] END clf__C=0.193069772888325, clf__penalty=none, clf__solver=lbfgs;, score=0.619 total time=   0.4s\n"
     ]
    },
    {
     "name": "stderr",
     "output_type": "stream",
     "text": [
      "/Users/guy/miniforge3/envs/.venv/lib/python3.9/site-packages/sklearn/linear_model/_logistic.py:1483: UserWarning: Setting penalty='none' will ignore the C and l1_ratio parameters\n",
      "  warnings.warn(\n"
     ]
    },
    {
     "name": "stdout",
     "output_type": "stream",
     "text": [
      "[CV 3/15] END clf__C=0.193069772888325, clf__penalty=none, clf__solver=lbfgs;, score=0.640 total time=   0.4s\n"
     ]
    },
    {
     "name": "stderr",
     "output_type": "stream",
     "text": [
      "/Users/guy/miniforge3/envs/.venv/lib/python3.9/site-packages/sklearn/linear_model/_logistic.py:1483: UserWarning: Setting penalty='none' will ignore the C and l1_ratio parameters\n",
      "  warnings.warn(\n"
     ]
    },
    {
     "name": "stdout",
     "output_type": "stream",
     "text": [
      "[CV 4/15] END clf__C=0.193069772888325, clf__penalty=none, clf__solver=lbfgs;, score=0.565 total time=   0.4s\n"
     ]
    },
    {
     "name": "stderr",
     "output_type": "stream",
     "text": [
      "/Users/guy/miniforge3/envs/.venv/lib/python3.9/site-packages/sklearn/linear_model/_logistic.py:1483: UserWarning: Setting penalty='none' will ignore the C and l1_ratio parameters\n",
      "  warnings.warn(\n"
     ]
    },
    {
     "name": "stdout",
     "output_type": "stream",
     "text": [
      "[CV 5/15] END clf__C=0.193069772888325, clf__penalty=none, clf__solver=lbfgs;, score=0.582 total time=   0.4s\n"
     ]
    },
    {
     "name": "stderr",
     "output_type": "stream",
     "text": [
      "/Users/guy/miniforge3/envs/.venv/lib/python3.9/site-packages/sklearn/linear_model/_logistic.py:1483: UserWarning: Setting penalty='none' will ignore the C and l1_ratio parameters\n",
      "  warnings.warn(\n"
     ]
    },
    {
     "name": "stdout",
     "output_type": "stream",
     "text": [
      "[CV 6/15] END clf__C=0.193069772888325, clf__penalty=none, clf__solver=lbfgs;, score=0.554 total time=   0.4s\n"
     ]
    },
    {
     "name": "stderr",
     "output_type": "stream",
     "text": [
      "/Users/guy/miniforge3/envs/.venv/lib/python3.9/site-packages/sklearn/linear_model/_logistic.py:1483: UserWarning: Setting penalty='none' will ignore the C and l1_ratio parameters\n",
      "  warnings.warn(\n"
     ]
    },
    {
     "name": "stdout",
     "output_type": "stream",
     "text": [
      "[CV 7/15] END clf__C=0.193069772888325, clf__penalty=none, clf__solver=lbfgs;, score=0.649 total time=   0.4s\n"
     ]
    },
    {
     "name": "stderr",
     "output_type": "stream",
     "text": [
      "/Users/guy/miniforge3/envs/.venv/lib/python3.9/site-packages/sklearn/linear_model/_logistic.py:1483: UserWarning: Setting penalty='none' will ignore the C and l1_ratio parameters\n",
      "  warnings.warn(\n"
     ]
    },
    {
     "name": "stdout",
     "output_type": "stream",
     "text": [
      "[CV 8/15] END clf__C=0.193069772888325, clf__penalty=none, clf__solver=lbfgs;, score=0.653 total time=   0.4s\n"
     ]
    },
    {
     "name": "stderr",
     "output_type": "stream",
     "text": [
      "/Users/guy/miniforge3/envs/.venv/lib/python3.9/site-packages/sklearn/linear_model/_logistic.py:1483: UserWarning: Setting penalty='none' will ignore the C and l1_ratio parameters\n",
      "  warnings.warn(\n"
     ]
    },
    {
     "name": "stdout",
     "output_type": "stream",
     "text": [
      "[CV 9/15] END clf__C=0.193069772888325, clf__penalty=none, clf__solver=lbfgs;, score=0.584 total time=   0.4s\n"
     ]
    },
    {
     "name": "stderr",
     "output_type": "stream",
     "text": [
      "/Users/guy/miniforge3/envs/.venv/lib/python3.9/site-packages/sklearn/linear_model/_logistic.py:1483: UserWarning: Setting penalty='none' will ignore the C and l1_ratio parameters\n",
      "  warnings.warn(\n"
     ]
    },
    {
     "name": "stdout",
     "output_type": "stream",
     "text": [
      "[CV 10/15] END clf__C=0.193069772888325, clf__penalty=none, clf__solver=lbfgs;, score=0.623 total time=   0.4s\n"
     ]
    },
    {
     "name": "stderr",
     "output_type": "stream",
     "text": [
      "/Users/guy/miniforge3/envs/.venv/lib/python3.9/site-packages/sklearn/linear_model/_logistic.py:1483: UserWarning: Setting penalty='none' will ignore the C and l1_ratio parameters\n",
      "  warnings.warn(\n"
     ]
    },
    {
     "name": "stdout",
     "output_type": "stream",
     "text": [
      "[CV 11/15] END clf__C=0.193069772888325, clf__penalty=none, clf__solver=lbfgs;, score=0.576 total time=   0.4s\n"
     ]
    },
    {
     "name": "stderr",
     "output_type": "stream",
     "text": [
      "/Users/guy/miniforge3/envs/.venv/lib/python3.9/site-packages/sklearn/linear_model/_logistic.py:1483: UserWarning: Setting penalty='none' will ignore the C and l1_ratio parameters\n",
      "  warnings.warn(\n"
     ]
    },
    {
     "name": "stdout",
     "output_type": "stream",
     "text": [
      "[CV 12/15] END clf__C=0.193069772888325, clf__penalty=none, clf__solver=lbfgs;, score=0.586 total time=   0.4s\n"
     ]
    },
    {
     "name": "stderr",
     "output_type": "stream",
     "text": [
      "/Users/guy/miniforge3/envs/.venv/lib/python3.9/site-packages/sklearn/linear_model/_logistic.py:1483: UserWarning: Setting penalty='none' will ignore the C and l1_ratio parameters\n",
      "  warnings.warn(\n"
     ]
    },
    {
     "name": "stdout",
     "output_type": "stream",
     "text": [
      "[CV 13/15] END clf__C=0.193069772888325, clf__penalty=none, clf__solver=lbfgs;, score=0.643 total time=   0.4s\n"
     ]
    },
    {
     "name": "stderr",
     "output_type": "stream",
     "text": [
      "/Users/guy/miniforge3/envs/.venv/lib/python3.9/site-packages/sklearn/linear_model/_logistic.py:1483: UserWarning: Setting penalty='none' will ignore the C and l1_ratio parameters\n",
      "  warnings.warn(\n"
     ]
    },
    {
     "name": "stdout",
     "output_type": "stream",
     "text": [
      "[CV 14/15] END clf__C=0.193069772888325, clf__penalty=none, clf__solver=lbfgs;, score=0.633 total time=   0.4s\n"
     ]
    },
    {
     "name": "stderr",
     "output_type": "stream",
     "text": [
      "/Users/guy/miniforge3/envs/.venv/lib/python3.9/site-packages/sklearn/linear_model/_logistic.py:1483: UserWarning: Setting penalty='none' will ignore the C and l1_ratio parameters\n",
      "  warnings.warn(\n"
     ]
    },
    {
     "name": "stdout",
     "output_type": "stream",
     "text": [
      "[CV 15/15] END clf__C=0.193069772888325, clf__penalty=none, clf__solver=lbfgs;, score=0.668 total time=   0.3s\n",
      "[CV 1/15] END clf__C=0.193069772888325, clf__penalty=none, clf__solver=liblinear;, score=nan total time=   0.0s\n",
      "[CV 2/15] END clf__C=0.193069772888325, clf__penalty=none, clf__solver=liblinear;, score=nan total time=   0.0s\n",
      "[CV 3/15] END clf__C=0.193069772888325, clf__penalty=none, clf__solver=liblinear;, score=nan total time=   0.0s\n",
      "[CV 4/15] END clf__C=0.193069772888325, clf__penalty=none, clf__solver=liblinear;, score=nan total time=   0.0s\n",
      "[CV 5/15] END clf__C=0.193069772888325, clf__penalty=none, clf__solver=liblinear;, score=nan total time=   0.0s\n",
      "[CV 6/15] END clf__C=0.193069772888325, clf__penalty=none, clf__solver=liblinear;, score=nan total time=   0.0s\n",
      "[CV 7/15] END clf__C=0.193069772888325, clf__penalty=none, clf__solver=liblinear;, score=nan total time=   0.0s\n",
      "[CV 8/15] END clf__C=0.193069772888325, clf__penalty=none, clf__solver=liblinear;, score=nan total time=   0.0s\n",
      "[CV 9/15] END clf__C=0.193069772888325, clf__penalty=none, clf__solver=liblinear;, score=nan total time=   0.0s\n",
      "[CV 10/15] END clf__C=0.193069772888325, clf__penalty=none, clf__solver=liblinear;, score=nan total time=   0.0s\n",
      "[CV 11/15] END clf__C=0.193069772888325, clf__penalty=none, clf__solver=liblinear;, score=nan total time=   0.0s\n",
      "[CV 12/15] END clf__C=0.193069772888325, clf__penalty=none, clf__solver=liblinear;, score=nan total time=   0.0s\n",
      "[CV 13/15] END clf__C=0.193069772888325, clf__penalty=none, clf__solver=liblinear;, score=nan total time=   0.0s\n",
      "[CV 14/15] END clf__C=0.193069772888325, clf__penalty=none, clf__solver=liblinear;, score=nan total time=   0.0s\n",
      "[CV 15/15] END clf__C=0.193069772888325, clf__penalty=none, clf__solver=liblinear;, score=nan total time=   0.0s\n"
     ]
    },
    {
     "name": "stderr",
     "output_type": "stream",
     "text": [
      "/Users/guy/miniforge3/envs/.venv/lib/python3.9/site-packages/sklearn/linear_model/_logistic.py:1483: UserWarning: Setting penalty='none' will ignore the C and l1_ratio parameters\n",
      "  warnings.warn(\n"
     ]
    },
    {
     "name": "stdout",
     "output_type": "stream",
     "text": [
      "[CV 1/15] END clf__C=0.193069772888325, clf__penalty=none, clf__solver=sag;, score=0.635 total time=   0.9s\n"
     ]
    },
    {
     "name": "stderr",
     "output_type": "stream",
     "text": [
      "/Users/guy/miniforge3/envs/.venv/lib/python3.9/site-packages/sklearn/linear_model/_logistic.py:1483: UserWarning: Setting penalty='none' will ignore the C and l1_ratio parameters\n",
      "  warnings.warn(\n"
     ]
    },
    {
     "name": "stdout",
     "output_type": "stream",
     "text": [
      "[CV 2/15] END clf__C=0.193069772888325, clf__penalty=none, clf__solver=sag;, score=0.619 total time=   1.6s\n"
     ]
    },
    {
     "name": "stderr",
     "output_type": "stream",
     "text": [
      "/Users/guy/miniforge3/envs/.venv/lib/python3.9/site-packages/sklearn/linear_model/_logistic.py:1483: UserWarning: Setting penalty='none' will ignore the C and l1_ratio parameters\n",
      "  warnings.warn(\n"
     ]
    },
    {
     "name": "stdout",
     "output_type": "stream",
     "text": [
      "[CV 3/15] END clf__C=0.193069772888325, clf__penalty=none, clf__solver=sag;, score=0.640 total time=   1.6s\n"
     ]
    },
    {
     "name": "stderr",
     "output_type": "stream",
     "text": [
      "/Users/guy/miniforge3/envs/.venv/lib/python3.9/site-packages/sklearn/linear_model/_logistic.py:1483: UserWarning: Setting penalty='none' will ignore the C and l1_ratio parameters\n",
      "  warnings.warn(\n"
     ]
    },
    {
     "name": "stdout",
     "output_type": "stream",
     "text": [
      "[CV 4/15] END clf__C=0.193069772888325, clf__penalty=none, clf__solver=sag;, score=0.565 total time=   1.4s\n"
     ]
    },
    {
     "name": "stderr",
     "output_type": "stream",
     "text": [
      "/Users/guy/miniforge3/envs/.venv/lib/python3.9/site-packages/sklearn/linear_model/_logistic.py:1483: UserWarning: Setting penalty='none' will ignore the C and l1_ratio parameters\n",
      "  warnings.warn(\n"
     ]
    },
    {
     "name": "stdout",
     "output_type": "stream",
     "text": [
      "[CV 5/15] END clf__C=0.193069772888325, clf__penalty=none, clf__solver=sag;, score=0.582 total time=   1.4s\n"
     ]
    },
    {
     "name": "stderr",
     "output_type": "stream",
     "text": [
      "/Users/guy/miniforge3/envs/.venv/lib/python3.9/site-packages/sklearn/linear_model/_logistic.py:1483: UserWarning: Setting penalty='none' will ignore the C and l1_ratio parameters\n",
      "  warnings.warn(\n"
     ]
    },
    {
     "name": "stdout",
     "output_type": "stream",
     "text": [
      "[CV 6/15] END clf__C=0.193069772888325, clf__penalty=none, clf__solver=sag;, score=0.554 total time=   1.6s\n"
     ]
    },
    {
     "name": "stderr",
     "output_type": "stream",
     "text": [
      "/Users/guy/miniforge3/envs/.venv/lib/python3.9/site-packages/sklearn/linear_model/_logistic.py:1483: UserWarning: Setting penalty='none' will ignore the C and l1_ratio parameters\n",
      "  warnings.warn(\n"
     ]
    },
    {
     "name": "stdout",
     "output_type": "stream",
     "text": [
      "[CV 7/15] END clf__C=0.193069772888325, clf__penalty=none, clf__solver=sag;, score=0.649 total time=   1.2s\n"
     ]
    },
    {
     "name": "stderr",
     "output_type": "stream",
     "text": [
      "/Users/guy/miniforge3/envs/.venv/lib/python3.9/site-packages/sklearn/linear_model/_logistic.py:1483: UserWarning: Setting penalty='none' will ignore the C and l1_ratio parameters\n",
      "  warnings.warn(\n"
     ]
    },
    {
     "name": "stdout",
     "output_type": "stream",
     "text": [
      "[CV 8/15] END clf__C=0.193069772888325, clf__penalty=none, clf__solver=sag;, score=0.653 total time=   1.6s\n"
     ]
    },
    {
     "name": "stderr",
     "output_type": "stream",
     "text": [
      "/Users/guy/miniforge3/envs/.venv/lib/python3.9/site-packages/sklearn/linear_model/_logistic.py:1483: UserWarning: Setting penalty='none' will ignore the C and l1_ratio parameters\n",
      "  warnings.warn(\n"
     ]
    },
    {
     "name": "stdout",
     "output_type": "stream",
     "text": [
      "[CV 9/15] END clf__C=0.193069772888325, clf__penalty=none, clf__solver=sag;, score=0.584 total time=   1.6s\n"
     ]
    },
    {
     "name": "stderr",
     "output_type": "stream",
     "text": [
      "/Users/guy/miniforge3/envs/.venv/lib/python3.9/site-packages/sklearn/linear_model/_logistic.py:1483: UserWarning: Setting penalty='none' will ignore the C and l1_ratio parameters\n",
      "  warnings.warn(\n"
     ]
    },
    {
     "name": "stdout",
     "output_type": "stream",
     "text": [
      "[CV 10/15] END clf__C=0.193069772888325, clf__penalty=none, clf__solver=sag;, score=0.622 total time=   1.4s\n"
     ]
    },
    {
     "name": "stderr",
     "output_type": "stream",
     "text": [
      "/Users/guy/miniforge3/envs/.venv/lib/python3.9/site-packages/sklearn/linear_model/_logistic.py:1483: UserWarning: Setting penalty='none' will ignore the C and l1_ratio parameters\n",
      "  warnings.warn(\n"
     ]
    },
    {
     "name": "stdout",
     "output_type": "stream",
     "text": [
      "[CV 11/15] END clf__C=0.193069772888325, clf__penalty=none, clf__solver=sag;, score=0.576 total time=   1.4s\n"
     ]
    },
    {
     "name": "stderr",
     "output_type": "stream",
     "text": [
      "/Users/guy/miniforge3/envs/.venv/lib/python3.9/site-packages/sklearn/linear_model/_logistic.py:1483: UserWarning: Setting penalty='none' will ignore the C and l1_ratio parameters\n",
      "  warnings.warn(\n"
     ]
    },
    {
     "name": "stdout",
     "output_type": "stream",
     "text": [
      "[CV 12/15] END clf__C=0.193069772888325, clf__penalty=none, clf__solver=sag;, score=0.586 total time=   1.6s\n"
     ]
    },
    {
     "name": "stderr",
     "output_type": "stream",
     "text": [
      "/Users/guy/miniforge3/envs/.venv/lib/python3.9/site-packages/sklearn/linear_model/_logistic.py:1483: UserWarning: Setting penalty='none' will ignore the C and l1_ratio parameters\n",
      "  warnings.warn(\n"
     ]
    },
    {
     "name": "stdout",
     "output_type": "stream",
     "text": [
      "[CV 13/15] END clf__C=0.193069772888325, clf__penalty=none, clf__solver=sag;, score=0.643 total time=   1.6s\n"
     ]
    },
    {
     "name": "stderr",
     "output_type": "stream",
     "text": [
      "/Users/guy/miniforge3/envs/.venv/lib/python3.9/site-packages/sklearn/linear_model/_logistic.py:1483: UserWarning: Setting penalty='none' will ignore the C and l1_ratio parameters\n",
      "  warnings.warn(\n"
     ]
    },
    {
     "name": "stdout",
     "output_type": "stream",
     "text": [
      "[CV 14/15] END clf__C=0.193069772888325, clf__penalty=none, clf__solver=sag;, score=0.633 total time=   1.6s\n"
     ]
    },
    {
     "name": "stderr",
     "output_type": "stream",
     "text": [
      "/Users/guy/miniforge3/envs/.venv/lib/python3.9/site-packages/sklearn/linear_model/_logistic.py:1483: UserWarning: Setting penalty='none' will ignore the C and l1_ratio parameters\n",
      "  warnings.warn(\n"
     ]
    },
    {
     "name": "stdout",
     "output_type": "stream",
     "text": [
      "[CV 15/15] END clf__C=0.193069772888325, clf__penalty=none, clf__solver=sag;, score=0.668 total time=   0.9s\n",
      "[CV 1/15] END clf__C=0.22758459260747882, clf__penalty=l1, clf__solver=lbfgs;, score=nan total time=   0.0s\n",
      "[CV 2/15] END clf__C=0.22758459260747882, clf__penalty=l1, clf__solver=lbfgs;, score=nan total time=   0.0s\n",
      "[CV 3/15] END clf__C=0.22758459260747882, clf__penalty=l1, clf__solver=lbfgs;, score=nan total time=   0.0s\n",
      "[CV 4/15] END clf__C=0.22758459260747882, clf__penalty=l1, clf__solver=lbfgs;, score=nan total time=   0.0s\n",
      "[CV 5/15] END clf__C=0.22758459260747882, clf__penalty=l1, clf__solver=lbfgs;, score=nan total time=   0.0s\n",
      "[CV 6/15] END clf__C=0.22758459260747882, clf__penalty=l1, clf__solver=lbfgs;, score=nan total time=   0.0s\n",
      "[CV 7/15] END clf__C=0.22758459260747882, clf__penalty=l1, clf__solver=lbfgs;, score=nan total time=   0.0s\n",
      "[CV 8/15] END clf__C=0.22758459260747882, clf__penalty=l1, clf__solver=lbfgs;, score=nan total time=   0.0s\n",
      "[CV 9/15] END clf__C=0.22758459260747882, clf__penalty=l1, clf__solver=lbfgs;, score=nan total time=   0.0s\n",
      "[CV 10/15] END clf__C=0.22758459260747882, clf__penalty=l1, clf__solver=lbfgs;, score=nan total time=   0.0s\n",
      "[CV 11/15] END clf__C=0.22758459260747882, clf__penalty=l1, clf__solver=lbfgs;, score=nan total time=   0.0s\n",
      "[CV 12/15] END clf__C=0.22758459260747882, clf__penalty=l1, clf__solver=lbfgs;, score=nan total time=   0.0s\n",
      "[CV 13/15] END clf__C=0.22758459260747882, clf__penalty=l1, clf__solver=lbfgs;, score=nan total time=   0.0s\n",
      "[CV 14/15] END clf__C=0.22758459260747882, clf__penalty=l1, clf__solver=lbfgs;, score=nan total time=   0.0s\n",
      "[CV 15/15] END clf__C=0.22758459260747882, clf__penalty=l1, clf__solver=lbfgs;, score=nan total time=   0.0s\n",
      "[CV 1/15] END clf__C=0.22758459260747882, clf__penalty=l1, clf__solver=liblinear;, score=0.660 total time=   0.3s\n",
      "[CV 2/15] END clf__C=0.22758459260747882, clf__penalty=l1, clf__solver=liblinear;, score=0.628 total time=   0.3s\n",
      "[CV 3/15] END clf__C=0.22758459260747882, clf__penalty=l1, clf__solver=liblinear;, score=0.640 total time=   0.4s\n",
      "[CV 4/15] END clf__C=0.22758459260747882, clf__penalty=l1, clf__solver=liblinear;, score=0.592 total time=   0.3s\n",
      "[CV 5/15] END clf__C=0.22758459260747882, clf__penalty=l1, clf__solver=liblinear;, score=0.587 total time=   0.3s\n",
      "[CV 6/15] END clf__C=0.22758459260747882, clf__penalty=l1, clf__solver=liblinear;, score=0.571 total time=   0.3s\n",
      "[CV 7/15] END clf__C=0.22758459260747882, clf__penalty=l1, clf__solver=liblinear;, score=0.652 total time=   0.3s\n",
      "[CV 8/15] END clf__C=0.22758459260747882, clf__penalty=l1, clf__solver=liblinear;, score=0.661 total time=   0.3s\n",
      "[CV 9/15] END clf__C=0.22758459260747882, clf__penalty=l1, clf__solver=liblinear;, score=0.608 total time=   0.3s\n",
      "[CV 10/15] END clf__C=0.22758459260747882, clf__penalty=l1, clf__solver=liblinear;, score=0.635 total time=   0.3s\n",
      "[CV 11/15] END clf__C=0.22758459260747882, clf__penalty=l1, clf__solver=liblinear;, score=0.616 total time=   0.3s\n",
      "[CV 12/15] END clf__C=0.22758459260747882, clf__penalty=l1, clf__solver=liblinear;, score=0.573 total time=   0.2s\n",
      "[CV 13/15] END clf__C=0.22758459260747882, clf__penalty=l1, clf__solver=liblinear;, score=0.606 total time=   0.3s\n",
      "[CV 14/15] END clf__C=0.22758459260747882, clf__penalty=l1, clf__solver=liblinear;, score=0.655 total time=   0.3s\n",
      "[CV 15/15] END clf__C=0.22758459260747882, clf__penalty=l1, clf__solver=liblinear;, score=0.666 total time=   0.4s\n",
      "[CV 1/15] END clf__C=0.22758459260747882, clf__penalty=l1, clf__solver=sag;, score=nan total time=   0.0s\n",
      "[CV 2/15] END clf__C=0.22758459260747882, clf__penalty=l1, clf__solver=sag;, score=nan total time=   0.0s\n",
      "[CV 3/15] END clf__C=0.22758459260747882, clf__penalty=l1, clf__solver=sag;, score=nan total time=   0.0s\n",
      "[CV 4/15] END clf__C=0.22758459260747882, clf__penalty=l1, clf__solver=sag;, score=nan total time=   0.0s\n",
      "[CV 5/15] END clf__C=0.22758459260747882, clf__penalty=l1, clf__solver=sag;, score=nan total time=   0.0s\n",
      "[CV 6/15] END clf__C=0.22758459260747882, clf__penalty=l1, clf__solver=sag;, score=nan total time=   0.0s\n",
      "[CV 7/15] END clf__C=0.22758459260747882, clf__penalty=l1, clf__solver=sag;, score=nan total time=   0.0s\n",
      "[CV 8/15] END clf__C=0.22758459260747882, clf__penalty=l1, clf__solver=sag;, score=nan total time=   0.0s\n",
      "[CV 9/15] END clf__C=0.22758459260747882, clf__penalty=l1, clf__solver=sag;, score=nan total time=   0.0s\n",
      "[CV 10/15] END clf__C=0.22758459260747882, clf__penalty=l1, clf__solver=sag;, score=nan total time=   0.0s\n",
      "[CV 11/15] END clf__C=0.22758459260747882, clf__penalty=l1, clf__solver=sag;, score=nan total time=   0.0s\n",
      "[CV 12/15] END clf__C=0.22758459260747882, clf__penalty=l1, clf__solver=sag;, score=nan total time=   0.0s\n",
      "[CV 13/15] END clf__C=0.22758459260747882, clf__penalty=l1, clf__solver=sag;, score=nan total time=   0.0s\n",
      "[CV 14/15] END clf__C=0.22758459260747882, clf__penalty=l1, clf__solver=sag;, score=nan total time=   0.0s\n",
      "[CV 15/15] END clf__C=0.22758459260747882, clf__penalty=l1, clf__solver=sag;, score=nan total time=   0.0s\n",
      "[CV 1/15] END clf__C=0.22758459260747882, clf__penalty=l2, clf__solver=lbfgs;, score=0.641 total time=   0.1s\n",
      "[CV 2/15] END clf__C=0.22758459260747882, clf__penalty=l2, clf__solver=lbfgs;, score=0.627 total time=   0.1s\n",
      "[CV 3/15] END clf__C=0.22758459260747882, clf__penalty=l2, clf__solver=lbfgs;, score=0.631 total time=   0.1s\n",
      "[CV 4/15] END clf__C=0.22758459260747882, clf__penalty=l2, clf__solver=lbfgs;, score=0.576 total time=   0.2s\n",
      "[CV 5/15] END clf__C=0.22758459260747882, clf__penalty=l2, clf__solver=lbfgs;, score=0.580 total time=   0.2s\n",
      "[CV 6/15] END clf__C=0.22758459260747882, clf__penalty=l2, clf__solver=lbfgs;, score=0.548 total time=   0.1s\n",
      "[CV 7/15] END clf__C=0.22758459260747882, clf__penalty=l2, clf__solver=lbfgs;, score=0.643 total time=   0.1s\n",
      "[CV 8/15] END clf__C=0.22758459260747882, clf__penalty=l2, clf__solver=lbfgs;, score=0.661 total time=   0.1s\n",
      "[CV 9/15] END clf__C=0.22758459260747882, clf__penalty=l2, clf__solver=lbfgs;, score=0.585 total time=   0.2s\n",
      "[CV 10/15] END clf__C=0.22758459260747882, clf__penalty=l2, clf__solver=lbfgs;, score=0.608 total time=   0.1s\n",
      "[CV 11/15] END clf__C=0.22758459260747882, clf__penalty=l2, clf__solver=lbfgs;, score=0.585 total time=   0.1s\n",
      "[CV 12/15] END clf__C=0.22758459260747882, clf__penalty=l2, clf__solver=lbfgs;, score=0.587 total time=   0.2s\n",
      "[CV 13/15] END clf__C=0.22758459260747882, clf__penalty=l2, clf__solver=lbfgs;, score=0.630 total time=   0.1s\n",
      "[CV 14/15] END clf__C=0.22758459260747882, clf__penalty=l2, clf__solver=lbfgs;, score=0.636 total time=   0.2s\n",
      "[CV 15/15] END clf__C=0.22758459260747882, clf__penalty=l2, clf__solver=lbfgs;, score=0.665 total time=   0.1s\n",
      "[CV 1/15] END clf__C=0.22758459260747882, clf__penalty=l2, clf__solver=liblinear;, score=0.654 total time=   0.1s\n",
      "[CV 2/15] END clf__C=0.22758459260747882, clf__penalty=l2, clf__solver=liblinear;, score=0.619 total time=   0.1s\n",
      "[CV 3/15] END clf__C=0.22758459260747882, clf__penalty=l2, clf__solver=liblinear;, score=0.617 total time=   0.1s\n",
      "[CV 4/15] END clf__C=0.22758459260747882, clf__penalty=l2, clf__solver=liblinear;, score=0.595 total time=   0.1s\n",
      "[CV 5/15] END clf__C=0.22758459260747882, clf__penalty=l2, clf__solver=liblinear;, score=0.578 total time=   0.1s\n",
      "[CV 6/15] END clf__C=0.22758459260747882, clf__penalty=l2, clf__solver=liblinear;, score=0.540 total time=   0.1s\n",
      "[CV 7/15] END clf__C=0.22758459260747882, clf__penalty=l2, clf__solver=liblinear;, score=0.655 total time=   0.1s\n",
      "[CV 8/15] END clf__C=0.22758459260747882, clf__penalty=l2, clf__solver=liblinear;, score=0.655 total time=   0.1s\n",
      "[CV 9/15] END clf__C=0.22758459260747882, clf__penalty=l2, clf__solver=liblinear;, score=0.582 total time=   0.1s\n",
      "[CV 10/15] END clf__C=0.22758459260747882, clf__penalty=l2, clf__solver=liblinear;, score=0.621 total time=   0.1s\n",
      "[CV 11/15] END clf__C=0.22758459260747882, clf__penalty=l2, clf__solver=liblinear;, score=0.596 total time=   0.1s\n",
      "[CV 12/15] END clf__C=0.22758459260747882, clf__penalty=l2, clf__solver=liblinear;, score=0.586 total time=   0.1s\n",
      "[CV 13/15] END clf__C=0.22758459260747882, clf__penalty=l2, clf__solver=liblinear;, score=0.624 total time=   0.1s\n",
      "[CV 14/15] END clf__C=0.22758459260747882, clf__penalty=l2, clf__solver=liblinear;, score=0.626 total time=   0.1s\n"
     ]
    },
    {
     "name": "stdout",
     "output_type": "stream",
     "text": [
      "[CV 15/15] END clf__C=0.22758459260747882, clf__penalty=l2, clf__solver=liblinear;, score=0.673 total time=   0.1s\n",
      "[CV 1/15] END clf__C=0.22758459260747882, clf__penalty=l2, clf__solver=sag;, score=0.641 total time=   0.3s\n",
      "[CV 2/15] END clf__C=0.22758459260747882, clf__penalty=l2, clf__solver=sag;, score=0.627 total time=   0.3s\n",
      "[CV 3/15] END clf__C=0.22758459260747882, clf__penalty=l2, clf__solver=sag;, score=0.631 total time=   0.3s\n",
      "[CV 4/15] END clf__C=0.22758459260747882, clf__penalty=l2, clf__solver=sag;, score=0.576 total time=   0.3s\n",
      "[CV 5/15] END clf__C=0.22758459260747882, clf__penalty=l2, clf__solver=sag;, score=0.580 total time=   0.3s\n",
      "[CV 6/15] END clf__C=0.22758459260747882, clf__penalty=l2, clf__solver=sag;, score=0.548 total time=   0.3s\n",
      "[CV 7/15] END clf__C=0.22758459260747882, clf__penalty=l2, clf__solver=sag;, score=0.643 total time=   0.3s\n",
      "[CV 8/15] END clf__C=0.22758459260747882, clf__penalty=l2, clf__solver=sag;, score=0.661 total time=   0.3s\n",
      "[CV 9/15] END clf__C=0.22758459260747882, clf__penalty=l2, clf__solver=sag;, score=0.585 total time=   0.3s\n",
      "[CV 10/15] END clf__C=0.22758459260747882, clf__penalty=l2, clf__solver=sag;, score=0.608 total time=   0.3s\n",
      "[CV 11/15] END clf__C=0.22758459260747882, clf__penalty=l2, clf__solver=sag;, score=0.585 total time=   0.3s\n",
      "[CV 12/15] END clf__C=0.22758459260747882, clf__penalty=l2, clf__solver=sag;, score=0.587 total time=   0.3s\n",
      "[CV 13/15] END clf__C=0.22758459260747882, clf__penalty=l2, clf__solver=sag;, score=0.630 total time=   0.3s\n",
      "[CV 14/15] END clf__C=0.22758459260747882, clf__penalty=l2, clf__solver=sag;, score=0.636 total time=   0.3s\n",
      "[CV 15/15] END clf__C=0.22758459260747882, clf__penalty=l2, clf__solver=sag;, score=0.665 total time=   0.3s\n"
     ]
    },
    {
     "name": "stderr",
     "output_type": "stream",
     "text": [
      "/Users/guy/miniforge3/envs/.venv/lib/python3.9/site-packages/sklearn/linear_model/_logistic.py:1483: UserWarning: Setting penalty='none' will ignore the C and l1_ratio parameters\n",
      "  warnings.warn(\n"
     ]
    },
    {
     "name": "stdout",
     "output_type": "stream",
     "text": [
      "[CV 1/15] END clf__C=0.22758459260747882, clf__penalty=none, clf__solver=lbfgs;, score=0.635 total time=   0.3s\n"
     ]
    },
    {
     "name": "stderr",
     "output_type": "stream",
     "text": [
      "/Users/guy/miniforge3/envs/.venv/lib/python3.9/site-packages/sklearn/linear_model/_logistic.py:1483: UserWarning: Setting penalty='none' will ignore the C and l1_ratio parameters\n",
      "  warnings.warn(\n"
     ]
    },
    {
     "name": "stdout",
     "output_type": "stream",
     "text": [
      "[CV 2/15] END clf__C=0.22758459260747882, clf__penalty=none, clf__solver=lbfgs;, score=0.619 total time=   0.4s\n"
     ]
    },
    {
     "name": "stderr",
     "output_type": "stream",
     "text": [
      "/Users/guy/miniforge3/envs/.venv/lib/python3.9/site-packages/sklearn/linear_model/_logistic.py:1483: UserWarning: Setting penalty='none' will ignore the C and l1_ratio parameters\n",
      "  warnings.warn(\n"
     ]
    },
    {
     "name": "stdout",
     "output_type": "stream",
     "text": [
      "[CV 3/15] END clf__C=0.22758459260747882, clf__penalty=none, clf__solver=lbfgs;, score=0.640 total time=   0.4s\n"
     ]
    },
    {
     "name": "stderr",
     "output_type": "stream",
     "text": [
      "/Users/guy/miniforge3/envs/.venv/lib/python3.9/site-packages/sklearn/linear_model/_logistic.py:1483: UserWarning: Setting penalty='none' will ignore the C and l1_ratio parameters\n",
      "  warnings.warn(\n"
     ]
    },
    {
     "name": "stdout",
     "output_type": "stream",
     "text": [
      "[CV 4/15] END clf__C=0.22758459260747882, clf__penalty=none, clf__solver=lbfgs;, score=0.565 total time=   0.4s\n"
     ]
    },
    {
     "name": "stderr",
     "output_type": "stream",
     "text": [
      "/Users/guy/miniforge3/envs/.venv/lib/python3.9/site-packages/sklearn/linear_model/_logistic.py:1483: UserWarning: Setting penalty='none' will ignore the C and l1_ratio parameters\n",
      "  warnings.warn(\n"
     ]
    },
    {
     "name": "stdout",
     "output_type": "stream",
     "text": [
      "[CV 5/15] END clf__C=0.22758459260747882, clf__penalty=none, clf__solver=lbfgs;, score=0.582 total time=   0.4s\n"
     ]
    },
    {
     "name": "stderr",
     "output_type": "stream",
     "text": [
      "/Users/guy/miniforge3/envs/.venv/lib/python3.9/site-packages/sklearn/linear_model/_logistic.py:1483: UserWarning: Setting penalty='none' will ignore the C and l1_ratio parameters\n",
      "  warnings.warn(\n"
     ]
    },
    {
     "name": "stdout",
     "output_type": "stream",
     "text": [
      "[CV 6/15] END clf__C=0.22758459260747882, clf__penalty=none, clf__solver=lbfgs;, score=0.554 total time=   0.4s\n"
     ]
    },
    {
     "name": "stderr",
     "output_type": "stream",
     "text": [
      "/Users/guy/miniforge3/envs/.venv/lib/python3.9/site-packages/sklearn/linear_model/_logistic.py:1483: UserWarning: Setting penalty='none' will ignore the C and l1_ratio parameters\n",
      "  warnings.warn(\n"
     ]
    },
    {
     "name": "stdout",
     "output_type": "stream",
     "text": [
      "[CV 7/15] END clf__C=0.22758459260747882, clf__penalty=none, clf__solver=lbfgs;, score=0.649 total time=   0.4s\n"
     ]
    },
    {
     "name": "stderr",
     "output_type": "stream",
     "text": [
      "/Users/guy/miniforge3/envs/.venv/lib/python3.9/site-packages/sklearn/linear_model/_logistic.py:1483: UserWarning: Setting penalty='none' will ignore the C and l1_ratio parameters\n",
      "  warnings.warn(\n"
     ]
    },
    {
     "name": "stdout",
     "output_type": "stream",
     "text": [
      "[CV 8/15] END clf__C=0.22758459260747882, clf__penalty=none, clf__solver=lbfgs;, score=0.653 total time=   0.4s\n"
     ]
    },
    {
     "name": "stderr",
     "output_type": "stream",
     "text": [
      "/Users/guy/miniforge3/envs/.venv/lib/python3.9/site-packages/sklearn/linear_model/_logistic.py:1483: UserWarning: Setting penalty='none' will ignore the C and l1_ratio parameters\n",
      "  warnings.warn(\n"
     ]
    },
    {
     "name": "stdout",
     "output_type": "stream",
     "text": [
      "[CV 9/15] END clf__C=0.22758459260747882, clf__penalty=none, clf__solver=lbfgs;, score=0.584 total time=   0.4s\n"
     ]
    },
    {
     "name": "stderr",
     "output_type": "stream",
     "text": [
      "/Users/guy/miniforge3/envs/.venv/lib/python3.9/site-packages/sklearn/linear_model/_logistic.py:1483: UserWarning: Setting penalty='none' will ignore the C and l1_ratio parameters\n",
      "  warnings.warn(\n"
     ]
    },
    {
     "name": "stdout",
     "output_type": "stream",
     "text": [
      "[CV 10/15] END clf__C=0.22758459260747882, clf__penalty=none, clf__solver=lbfgs;, score=0.623 total time=   0.4s\n"
     ]
    },
    {
     "name": "stderr",
     "output_type": "stream",
     "text": [
      "/Users/guy/miniforge3/envs/.venv/lib/python3.9/site-packages/sklearn/linear_model/_logistic.py:1483: UserWarning: Setting penalty='none' will ignore the C and l1_ratio parameters\n",
      "  warnings.warn(\n"
     ]
    },
    {
     "name": "stdout",
     "output_type": "stream",
     "text": [
      "[CV 11/15] END clf__C=0.22758459260747882, clf__penalty=none, clf__solver=lbfgs;, score=0.576 total time=   0.4s\n"
     ]
    },
    {
     "name": "stderr",
     "output_type": "stream",
     "text": [
      "/Users/guy/miniforge3/envs/.venv/lib/python3.9/site-packages/sklearn/linear_model/_logistic.py:1483: UserWarning: Setting penalty='none' will ignore the C and l1_ratio parameters\n",
      "  warnings.warn(\n"
     ]
    },
    {
     "name": "stdout",
     "output_type": "stream",
     "text": [
      "[CV 12/15] END clf__C=0.22758459260747882, clf__penalty=none, clf__solver=lbfgs;, score=0.586 total time=   0.4s\n"
     ]
    },
    {
     "name": "stderr",
     "output_type": "stream",
     "text": [
      "/Users/guy/miniforge3/envs/.venv/lib/python3.9/site-packages/sklearn/linear_model/_logistic.py:1483: UserWarning: Setting penalty='none' will ignore the C and l1_ratio parameters\n",
      "  warnings.warn(\n"
     ]
    },
    {
     "name": "stdout",
     "output_type": "stream",
     "text": [
      "[CV 13/15] END clf__C=0.22758459260747882, clf__penalty=none, clf__solver=lbfgs;, score=0.643 total time=   0.4s\n"
     ]
    },
    {
     "name": "stderr",
     "output_type": "stream",
     "text": [
      "/Users/guy/miniforge3/envs/.venv/lib/python3.9/site-packages/sklearn/linear_model/_logistic.py:1483: UserWarning: Setting penalty='none' will ignore the C and l1_ratio parameters\n",
      "  warnings.warn(\n"
     ]
    },
    {
     "name": "stdout",
     "output_type": "stream",
     "text": [
      "[CV 14/15] END clf__C=0.22758459260747882, clf__penalty=none, clf__solver=lbfgs;, score=0.633 total time=   0.4s\n"
     ]
    },
    {
     "name": "stderr",
     "output_type": "stream",
     "text": [
      "/Users/guy/miniforge3/envs/.venv/lib/python3.9/site-packages/sklearn/linear_model/_logistic.py:1483: UserWarning: Setting penalty='none' will ignore the C and l1_ratio parameters\n",
      "  warnings.warn(\n"
     ]
    },
    {
     "name": "stdout",
     "output_type": "stream",
     "text": [
      "[CV 15/15] END clf__C=0.22758459260747882, clf__penalty=none, clf__solver=lbfgs;, score=0.668 total time=   0.3s\n",
      "[CV 1/15] END clf__C=0.22758459260747882, clf__penalty=none, clf__solver=liblinear;, score=nan total time=   0.0s\n",
      "[CV 2/15] END clf__C=0.22758459260747882, clf__penalty=none, clf__solver=liblinear;, score=nan total time=   0.0s\n",
      "[CV 3/15] END clf__C=0.22758459260747882, clf__penalty=none, clf__solver=liblinear;, score=nan total time=   0.0s\n",
      "[CV 4/15] END clf__C=0.22758459260747882, clf__penalty=none, clf__solver=liblinear;, score=nan total time=   0.0s\n",
      "[CV 5/15] END clf__C=0.22758459260747882, clf__penalty=none, clf__solver=liblinear;, score=nan total time=   0.0s\n",
      "[CV 6/15] END clf__C=0.22758459260747882, clf__penalty=none, clf__solver=liblinear;, score=nan total time=   0.0s\n",
      "[CV 7/15] END clf__C=0.22758459260747882, clf__penalty=none, clf__solver=liblinear;, score=nan total time=   0.0s\n",
      "[CV 8/15] END clf__C=0.22758459260747882, clf__penalty=none, clf__solver=liblinear;, score=nan total time=   0.0s\n",
      "[CV 9/15] END clf__C=0.22758459260747882, clf__penalty=none, clf__solver=liblinear;, score=nan total time=   0.0s\n",
      "[CV 10/15] END clf__C=0.22758459260747882, clf__penalty=none, clf__solver=liblinear;, score=nan total time=   0.0s\n",
      "[CV 11/15] END clf__C=0.22758459260747882, clf__penalty=none, clf__solver=liblinear;, score=nan total time=   0.0s\n",
      "[CV 12/15] END clf__C=0.22758459260747882, clf__penalty=none, clf__solver=liblinear;, score=nan total time=   0.0s\n",
      "[CV 13/15] END clf__C=0.22758459260747882, clf__penalty=none, clf__solver=liblinear;, score=nan total time=   0.0s\n",
      "[CV 14/15] END clf__C=0.22758459260747882, clf__penalty=none, clf__solver=liblinear;, score=nan total time=   0.0s\n",
      "[CV 15/15] END clf__C=0.22758459260747882, clf__penalty=none, clf__solver=liblinear;, score=nan total time=   0.0s\n"
     ]
    },
    {
     "name": "stderr",
     "output_type": "stream",
     "text": [
      "/Users/guy/miniforge3/envs/.venv/lib/python3.9/site-packages/sklearn/linear_model/_logistic.py:1483: UserWarning: Setting penalty='none' will ignore the C and l1_ratio parameters\n",
      "  warnings.warn(\n"
     ]
    },
    {
     "name": "stdout",
     "output_type": "stream",
     "text": [
      "[CV 1/15] END clf__C=0.22758459260747882, clf__penalty=none, clf__solver=sag;, score=0.635 total time=   0.9s\n"
     ]
    },
    {
     "name": "stderr",
     "output_type": "stream",
     "text": [
      "/Users/guy/miniforge3/envs/.venv/lib/python3.9/site-packages/sklearn/linear_model/_logistic.py:1483: UserWarning: Setting penalty='none' will ignore the C and l1_ratio parameters\n",
      "  warnings.warn(\n"
     ]
    },
    {
     "name": "stdout",
     "output_type": "stream",
     "text": [
      "[CV 2/15] END clf__C=0.22758459260747882, clf__penalty=none, clf__solver=sag;, score=0.619 total time=   1.6s\n"
     ]
    },
    {
     "name": "stderr",
     "output_type": "stream",
     "text": [
      "/Users/guy/miniforge3/envs/.venv/lib/python3.9/site-packages/sklearn/linear_model/_logistic.py:1483: UserWarning: Setting penalty='none' will ignore the C and l1_ratio parameters\n",
      "  warnings.warn(\n"
     ]
    },
    {
     "name": "stdout",
     "output_type": "stream",
     "text": [
      "[CV 3/15] END clf__C=0.22758459260747882, clf__penalty=none, clf__solver=sag;, score=0.640 total time=   1.6s\n"
     ]
    },
    {
     "name": "stderr",
     "output_type": "stream",
     "text": [
      "/Users/guy/miniforge3/envs/.venv/lib/python3.9/site-packages/sklearn/linear_model/_logistic.py:1483: UserWarning: Setting penalty='none' will ignore the C and l1_ratio parameters\n",
      "  warnings.warn(\n"
     ]
    },
    {
     "name": "stdout",
     "output_type": "stream",
     "text": [
      "[CV 4/15] END clf__C=0.22758459260747882, clf__penalty=none, clf__solver=sag;, score=0.565 total time=   1.5s\n"
     ]
    },
    {
     "name": "stderr",
     "output_type": "stream",
     "text": [
      "/Users/guy/miniforge3/envs/.venv/lib/python3.9/site-packages/sklearn/linear_model/_logistic.py:1483: UserWarning: Setting penalty='none' will ignore the C and l1_ratio parameters\n",
      "  warnings.warn(\n"
     ]
    },
    {
     "name": "stdout",
     "output_type": "stream",
     "text": [
      "[CV 5/15] END clf__C=0.22758459260747882, clf__penalty=none, clf__solver=sag;, score=0.582 total time=   1.4s\n"
     ]
    },
    {
     "name": "stderr",
     "output_type": "stream",
     "text": [
      "/Users/guy/miniforge3/envs/.venv/lib/python3.9/site-packages/sklearn/linear_model/_logistic.py:1483: UserWarning: Setting penalty='none' will ignore the C and l1_ratio parameters\n",
      "  warnings.warn(\n"
     ]
    },
    {
     "name": "stdout",
     "output_type": "stream",
     "text": [
      "[CV 6/15] END clf__C=0.22758459260747882, clf__penalty=none, clf__solver=sag;, score=0.554 total time=   1.6s\n"
     ]
    },
    {
     "name": "stderr",
     "output_type": "stream",
     "text": [
      "/Users/guy/miniforge3/envs/.venv/lib/python3.9/site-packages/sklearn/linear_model/_logistic.py:1483: UserWarning: Setting penalty='none' will ignore the C and l1_ratio parameters\n",
      "  warnings.warn(\n"
     ]
    },
    {
     "name": "stdout",
     "output_type": "stream",
     "text": [
      "[CV 7/15] END clf__C=0.22758459260747882, clf__penalty=none, clf__solver=sag;, score=0.649 total time=   1.1s\n"
     ]
    },
    {
     "name": "stderr",
     "output_type": "stream",
     "text": [
      "/Users/guy/miniforge3/envs/.venv/lib/python3.9/site-packages/sklearn/linear_model/_logistic.py:1483: UserWarning: Setting penalty='none' will ignore the C and l1_ratio parameters\n",
      "  warnings.warn(\n"
     ]
    },
    {
     "name": "stdout",
     "output_type": "stream",
     "text": [
      "[CV 8/15] END clf__C=0.22758459260747882, clf__penalty=none, clf__solver=sag;, score=0.653 total time=   1.6s\n"
     ]
    },
    {
     "name": "stderr",
     "output_type": "stream",
     "text": [
      "/Users/guy/miniforge3/envs/.venv/lib/python3.9/site-packages/sklearn/linear_model/_logistic.py:1483: UserWarning: Setting penalty='none' will ignore the C and l1_ratio parameters\n",
      "  warnings.warn(\n"
     ]
    },
    {
     "name": "stdout",
     "output_type": "stream",
     "text": [
      "[CV 9/15] END clf__C=0.22758459260747882, clf__penalty=none, clf__solver=sag;, score=0.584 total time=   1.6s\n"
     ]
    },
    {
     "name": "stderr",
     "output_type": "stream",
     "text": [
      "/Users/guy/miniforge3/envs/.venv/lib/python3.9/site-packages/sklearn/linear_model/_logistic.py:1483: UserWarning: Setting penalty='none' will ignore the C and l1_ratio parameters\n",
      "  warnings.warn(\n"
     ]
    },
    {
     "name": "stdout",
     "output_type": "stream",
     "text": [
      "[CV 10/15] END clf__C=0.22758459260747882, clf__penalty=none, clf__solver=sag;, score=0.622 total time=   1.4s\n"
     ]
    },
    {
     "name": "stderr",
     "output_type": "stream",
     "text": [
      "/Users/guy/miniforge3/envs/.venv/lib/python3.9/site-packages/sklearn/linear_model/_logistic.py:1483: UserWarning: Setting penalty='none' will ignore the C and l1_ratio parameters\n",
      "  warnings.warn(\n"
     ]
    },
    {
     "name": "stdout",
     "output_type": "stream",
     "text": [
      "[CV 11/15] END clf__C=0.22758459260747882, clf__penalty=none, clf__solver=sag;, score=0.576 total time=   1.4s\n"
     ]
    },
    {
     "name": "stderr",
     "output_type": "stream",
     "text": [
      "/Users/guy/miniforge3/envs/.venv/lib/python3.9/site-packages/sklearn/linear_model/_logistic.py:1483: UserWarning: Setting penalty='none' will ignore the C and l1_ratio parameters\n",
      "  warnings.warn(\n"
     ]
    },
    {
     "name": "stdout",
     "output_type": "stream",
     "text": [
      "[CV 12/15] END clf__C=0.22758459260747882, clf__penalty=none, clf__solver=sag;, score=0.586 total time=   1.6s\n"
     ]
    },
    {
     "name": "stderr",
     "output_type": "stream",
     "text": [
      "/Users/guy/miniforge3/envs/.venv/lib/python3.9/site-packages/sklearn/linear_model/_logistic.py:1483: UserWarning: Setting penalty='none' will ignore the C and l1_ratio parameters\n",
      "  warnings.warn(\n"
     ]
    },
    {
     "name": "stdout",
     "output_type": "stream",
     "text": [
      "[CV 13/15] END clf__C=0.22758459260747882, clf__penalty=none, clf__solver=sag;, score=0.643 total time=   1.5s\n"
     ]
    },
    {
     "name": "stderr",
     "output_type": "stream",
     "text": [
      "/Users/guy/miniforge3/envs/.venv/lib/python3.9/site-packages/sklearn/linear_model/_logistic.py:1483: UserWarning: Setting penalty='none' will ignore the C and l1_ratio parameters\n",
      "  warnings.warn(\n"
     ]
    },
    {
     "name": "stdout",
     "output_type": "stream",
     "text": [
      "[CV 14/15] END clf__C=0.22758459260747882, clf__penalty=none, clf__solver=sag;, score=0.633 total time=   1.6s\n"
     ]
    },
    {
     "name": "stderr",
     "output_type": "stream",
     "text": [
      "/Users/guy/miniforge3/envs/.venv/lib/python3.9/site-packages/sklearn/linear_model/_logistic.py:1483: UserWarning: Setting penalty='none' will ignore the C and l1_ratio parameters\n",
      "  warnings.warn(\n"
     ]
    },
    {
     "name": "stdout",
     "output_type": "stream",
     "text": [
      "[CV 15/15] END clf__C=0.22758459260747882, clf__penalty=none, clf__solver=sag;, score=0.668 total time=   0.9s\n",
      "[CV 1/15] END clf__C=0.2682695795279726, clf__penalty=l1, clf__solver=lbfgs;, score=nan total time=   0.0s\n",
      "[CV 2/15] END clf__C=0.2682695795279726, clf__penalty=l1, clf__solver=lbfgs;, score=nan total time=   0.0s\n",
      "[CV 3/15] END clf__C=0.2682695795279726, clf__penalty=l1, clf__solver=lbfgs;, score=nan total time=   0.0s\n",
      "[CV 4/15] END clf__C=0.2682695795279726, clf__penalty=l1, clf__solver=lbfgs;, score=nan total time=   0.0s\n",
      "[CV 5/15] END clf__C=0.2682695795279726, clf__penalty=l1, clf__solver=lbfgs;, score=nan total time=   0.0s\n",
      "[CV 6/15] END clf__C=0.2682695795279726, clf__penalty=l1, clf__solver=lbfgs;, score=nan total time=   0.0s\n",
      "[CV 7/15] END clf__C=0.2682695795279726, clf__penalty=l1, clf__solver=lbfgs;, score=nan total time=   0.0s\n",
      "[CV 8/15] END clf__C=0.2682695795279726, clf__penalty=l1, clf__solver=lbfgs;, score=nan total time=   0.0s\n",
      "[CV 9/15] END clf__C=0.2682695795279726, clf__penalty=l1, clf__solver=lbfgs;, score=nan total time=   0.0s\n",
      "[CV 10/15] END clf__C=0.2682695795279726, clf__penalty=l1, clf__solver=lbfgs;, score=nan total time=   0.0s\n",
      "[CV 11/15] END clf__C=0.2682695795279726, clf__penalty=l1, clf__solver=lbfgs;, score=nan total time=   0.0s\n",
      "[CV 12/15] END clf__C=0.2682695795279726, clf__penalty=l1, clf__solver=lbfgs;, score=nan total time=   0.0s\n",
      "[CV 13/15] END clf__C=0.2682695795279726, clf__penalty=l1, clf__solver=lbfgs;, score=nan total time=   0.0s\n",
      "[CV 14/15] END clf__C=0.2682695795279726, clf__penalty=l1, clf__solver=lbfgs;, score=nan total time=   0.0s\n",
      "[CV 15/15] END clf__C=0.2682695795279726, clf__penalty=l1, clf__solver=lbfgs;, score=nan total time=   0.0s\n",
      "[CV 1/15] END clf__C=0.2682695795279726, clf__penalty=l1, clf__solver=liblinear;, score=0.663 total time=   0.2s\n",
      "[CV 2/15] END clf__C=0.2682695795279726, clf__penalty=l1, clf__solver=liblinear;, score=0.626 total time=   0.3s\n",
      "[CV 3/15] END clf__C=0.2682695795279726, clf__penalty=l1, clf__solver=liblinear;, score=0.636 total time=   0.4s\n",
      "[CV 4/15] END clf__C=0.2682695795279726, clf__penalty=l1, clf__solver=liblinear;, score=0.595 total time=   0.3s\n",
      "[CV 5/15] END clf__C=0.2682695795279726, clf__penalty=l1, clf__solver=liblinear;, score=0.589 total time=   0.3s\n",
      "[CV 6/15] END clf__C=0.2682695795279726, clf__penalty=l1, clf__solver=liblinear;, score=0.570 total time=   0.3s\n",
      "[CV 7/15] END clf__C=0.2682695795279726, clf__penalty=l1, clf__solver=liblinear;, score=0.651 total time=   0.3s\n",
      "[CV 8/15] END clf__C=0.2682695795279726, clf__penalty=l1, clf__solver=liblinear;, score=0.664 total time=   0.3s\n",
      "[CV 9/15] END clf__C=0.2682695795279726, clf__penalty=l1, clf__solver=liblinear;, score=0.609 total time=   0.4s\n",
      "[CV 10/15] END clf__C=0.2682695795279726, clf__penalty=l1, clf__solver=liblinear;, score=0.638 total time=   0.3s\n",
      "[CV 11/15] END clf__C=0.2682695795279726, clf__penalty=l1, clf__solver=liblinear;, score=0.617 total time=   0.4s\n",
      "[CV 12/15] END clf__C=0.2682695795279726, clf__penalty=l1, clf__solver=liblinear;, score=0.573 total time=   0.3s\n",
      "[CV 13/15] END clf__C=0.2682695795279726, clf__penalty=l1, clf__solver=liblinear;, score=0.611 total time=   0.3s\n",
      "[CV 14/15] END clf__C=0.2682695795279726, clf__penalty=l1, clf__solver=liblinear;, score=0.654 total time=   0.4s\n",
      "[CV 15/15] END clf__C=0.2682695795279726, clf__penalty=l1, clf__solver=liblinear;, score=0.673 total time=   0.4s\n",
      "[CV 1/15] END clf__C=0.2682695795279726, clf__penalty=l1, clf__solver=sag;, score=nan total time=   0.0s\n",
      "[CV 2/15] END clf__C=0.2682695795279726, clf__penalty=l1, clf__solver=sag;, score=nan total time=   0.0s\n",
      "[CV 3/15] END clf__C=0.2682695795279726, clf__penalty=l1, clf__solver=sag;, score=nan total time=   0.0s\n",
      "[CV 4/15] END clf__C=0.2682695795279726, clf__penalty=l1, clf__solver=sag;, score=nan total time=   0.0s\n",
      "[CV 5/15] END clf__C=0.2682695795279726, clf__penalty=l1, clf__solver=sag;, score=nan total time=   0.0s\n",
      "[CV 6/15] END clf__C=0.2682695795279726, clf__penalty=l1, clf__solver=sag;, score=nan total time=   0.0s\n",
      "[CV 7/15] END clf__C=0.2682695795279726, clf__penalty=l1, clf__solver=sag;, score=nan total time=   0.0s\n",
      "[CV 8/15] END clf__C=0.2682695795279726, clf__penalty=l1, clf__solver=sag;, score=nan total time=   0.0s\n",
      "[CV 9/15] END clf__C=0.2682695795279726, clf__penalty=l1, clf__solver=sag;, score=nan total time=   0.0s\n",
      "[CV 10/15] END clf__C=0.2682695795279726, clf__penalty=l1, clf__solver=sag;, score=nan total time=   0.0s\n",
      "[CV 11/15] END clf__C=0.2682695795279726, clf__penalty=l1, clf__solver=sag;, score=nan total time=   0.0s\n",
      "[CV 12/15] END clf__C=0.2682695795279726, clf__penalty=l1, clf__solver=sag;, score=nan total time=   0.0s\n",
      "[CV 13/15] END clf__C=0.2682695795279726, clf__penalty=l1, clf__solver=sag;, score=nan total time=   0.0s\n",
      "[CV 14/15] END clf__C=0.2682695795279726, clf__penalty=l1, clf__solver=sag;, score=nan total time=   0.0s\n",
      "[CV 15/15] END clf__C=0.2682695795279726, clf__penalty=l1, clf__solver=sag;, score=nan total time=   0.0s\n",
      "[CV 1/15] END clf__C=0.2682695795279726, clf__penalty=l2, clf__solver=lbfgs;, score=0.640 total time=   0.2s\n",
      "[CV 2/15] END clf__C=0.2682695795279726, clf__penalty=l2, clf__solver=lbfgs;, score=0.627 total time=   0.2s\n",
      "[CV 3/15] END clf__C=0.2682695795279726, clf__penalty=l2, clf__solver=lbfgs;, score=0.632 total time=   0.2s\n",
      "[CV 4/15] END clf__C=0.2682695795279726, clf__penalty=l2, clf__solver=lbfgs;, score=0.575 total time=   0.1s\n",
      "[CV 5/15] END clf__C=0.2682695795279726, clf__penalty=l2, clf__solver=lbfgs;, score=0.580 total time=   0.2s\n",
      "[CV 6/15] END clf__C=0.2682695795279726, clf__penalty=l2, clf__solver=lbfgs;, score=0.548 total time=   0.2s\n",
      "[CV 7/15] END clf__C=0.2682695795279726, clf__penalty=l2, clf__solver=lbfgs;, score=0.644 total time=   0.2s\n",
      "[CV 8/15] END clf__C=0.2682695795279726, clf__penalty=l2, clf__solver=lbfgs;, score=0.661 total time=   0.2s\n",
      "[CV 9/15] END clf__C=0.2682695795279726, clf__penalty=l2, clf__solver=lbfgs;, score=0.585 total time=   0.2s\n",
      "[CV 10/15] END clf__C=0.2682695795279726, clf__penalty=l2, clf__solver=lbfgs;, score=0.609 total time=   0.2s\n",
      "[CV 11/15] END clf__C=0.2682695795279726, clf__penalty=l2, clf__solver=lbfgs;, score=0.584 total time=   0.2s\n",
      "[CV 12/15] END clf__C=0.2682695795279726, clf__penalty=l2, clf__solver=lbfgs;, score=0.586 total time=   0.2s\n",
      "[CV 13/15] END clf__C=0.2682695795279726, clf__penalty=l2, clf__solver=lbfgs;, score=0.631 total time=   0.2s\n",
      "[CV 14/15] END clf__C=0.2682695795279726, clf__penalty=l2, clf__solver=lbfgs;, score=0.636 total time=   0.1s\n",
      "[CV 15/15] END clf__C=0.2682695795279726, clf__penalty=l2, clf__solver=lbfgs;, score=0.666 total time=   0.2s\n",
      "[CV 1/15] END clf__C=0.2682695795279726, clf__penalty=l2, clf__solver=liblinear;, score=0.653 total time=   0.1s\n",
      "[CV 2/15] END clf__C=0.2682695795279726, clf__penalty=l2, clf__solver=liblinear;, score=0.620 total time=   0.1s\n",
      "[CV 3/15] END clf__C=0.2682695795279726, clf__penalty=l2, clf__solver=liblinear;, score=0.619 total time=   0.1s\n",
      "[CV 4/15] END clf__C=0.2682695795279726, clf__penalty=l2, clf__solver=liblinear;, score=0.593 total time=   0.1s\n",
      "[CV 5/15] END clf__C=0.2682695795279726, clf__penalty=l2, clf__solver=liblinear;, score=0.579 total time=   0.1s\n",
      "[CV 6/15] END clf__C=0.2682695795279726, clf__penalty=l2, clf__solver=liblinear;, score=0.541 total time=   0.1s\n",
      "[CV 7/15] END clf__C=0.2682695795279726, clf__penalty=l2, clf__solver=liblinear;, score=0.654 total time=   0.1s\n",
      "[CV 8/15] END clf__C=0.2682695795279726, clf__penalty=l2, clf__solver=liblinear;, score=0.657 total time=   0.1s\n",
      "[CV 9/15] END clf__C=0.2682695795279726, clf__penalty=l2, clf__solver=liblinear;, score=0.582 total time=   0.1s\n",
      "[CV 10/15] END clf__C=0.2682695795279726, clf__penalty=l2, clf__solver=liblinear;, score=0.622 total time=   0.1s\n",
      "[CV 11/15] END clf__C=0.2682695795279726, clf__penalty=l2, clf__solver=liblinear;, score=0.595 total time=   0.1s\n",
      "[CV 12/15] END clf__C=0.2682695795279726, clf__penalty=l2, clf__solver=liblinear;, score=0.585 total time=   0.1s\n",
      "[CV 13/15] END clf__C=0.2682695795279726, clf__penalty=l2, clf__solver=liblinear;, score=0.626 total time=   0.1s\n",
      "[CV 14/15] END clf__C=0.2682695795279726, clf__penalty=l2, clf__solver=liblinear;, score=0.626 total time=   0.1s\n"
     ]
    },
    {
     "name": "stdout",
     "output_type": "stream",
     "text": [
      "[CV 15/15] END clf__C=0.2682695795279726, clf__penalty=l2, clf__solver=liblinear;, score=0.673 total time=   0.1s\n",
      "[CV 1/15] END clf__C=0.2682695795279726, clf__penalty=l2, clf__solver=sag;, score=0.640 total time=   0.3s\n",
      "[CV 2/15] END clf__C=0.2682695795279726, clf__penalty=l2, clf__solver=sag;, score=0.627 total time=   0.3s\n",
      "[CV 3/15] END clf__C=0.2682695795279726, clf__penalty=l2, clf__solver=sag;, score=0.632 total time=   0.3s\n",
      "[CV 4/15] END clf__C=0.2682695795279726, clf__penalty=l2, clf__solver=sag;, score=0.575 total time=   0.3s\n",
      "[CV 5/15] END clf__C=0.2682695795279726, clf__penalty=l2, clf__solver=sag;, score=0.580 total time=   0.3s\n",
      "[CV 6/15] END clf__C=0.2682695795279726, clf__penalty=l2, clf__solver=sag;, score=0.548 total time=   0.3s\n",
      "[CV 7/15] END clf__C=0.2682695795279726, clf__penalty=l2, clf__solver=sag;, score=0.644 total time=   0.3s\n",
      "[CV 8/15] END clf__C=0.2682695795279726, clf__penalty=l2, clf__solver=sag;, score=0.661 total time=   0.3s\n",
      "[CV 9/15] END clf__C=0.2682695795279726, clf__penalty=l2, clf__solver=sag;, score=0.585 total time=   0.3s\n",
      "[CV 10/15] END clf__C=0.2682695795279726, clf__penalty=l2, clf__solver=sag;, score=0.609 total time=   0.3s\n",
      "[CV 11/15] END clf__C=0.2682695795279726, clf__penalty=l2, clf__solver=sag;, score=0.584 total time=   0.3s\n",
      "[CV 12/15] END clf__C=0.2682695795279726, clf__penalty=l2, clf__solver=sag;, score=0.586 total time=   0.3s\n",
      "[CV 13/15] END clf__C=0.2682695795279726, clf__penalty=l2, clf__solver=sag;, score=0.631 total time=   0.3s\n",
      "[CV 14/15] END clf__C=0.2682695795279726, clf__penalty=l2, clf__solver=sag;, score=0.636 total time=   0.3s\n",
      "[CV 15/15] END clf__C=0.2682695795279726, clf__penalty=l2, clf__solver=sag;, score=0.666 total time=   0.3s\n"
     ]
    },
    {
     "name": "stderr",
     "output_type": "stream",
     "text": [
      "/Users/guy/miniforge3/envs/.venv/lib/python3.9/site-packages/sklearn/linear_model/_logistic.py:1483: UserWarning: Setting penalty='none' will ignore the C and l1_ratio parameters\n",
      "  warnings.warn(\n"
     ]
    },
    {
     "name": "stdout",
     "output_type": "stream",
     "text": [
      "[CV 1/15] END clf__C=0.2682695795279726, clf__penalty=none, clf__solver=lbfgs;, score=0.635 total time=   0.3s\n"
     ]
    },
    {
     "name": "stderr",
     "output_type": "stream",
     "text": [
      "/Users/guy/miniforge3/envs/.venv/lib/python3.9/site-packages/sklearn/linear_model/_logistic.py:1483: UserWarning: Setting penalty='none' will ignore the C and l1_ratio parameters\n",
      "  warnings.warn(\n"
     ]
    },
    {
     "name": "stdout",
     "output_type": "stream",
     "text": [
      "[CV 2/15] END clf__C=0.2682695795279726, clf__penalty=none, clf__solver=lbfgs;, score=0.619 total time=   0.4s\n"
     ]
    },
    {
     "name": "stderr",
     "output_type": "stream",
     "text": [
      "/Users/guy/miniforge3/envs/.venv/lib/python3.9/site-packages/sklearn/linear_model/_logistic.py:1483: UserWarning: Setting penalty='none' will ignore the C and l1_ratio parameters\n",
      "  warnings.warn(\n"
     ]
    },
    {
     "name": "stdout",
     "output_type": "stream",
     "text": [
      "[CV 3/15] END clf__C=0.2682695795279726, clf__penalty=none, clf__solver=lbfgs;, score=0.640 total time=   0.4s\n"
     ]
    },
    {
     "name": "stderr",
     "output_type": "stream",
     "text": [
      "/Users/guy/miniforge3/envs/.venv/lib/python3.9/site-packages/sklearn/linear_model/_logistic.py:1483: UserWarning: Setting penalty='none' will ignore the C and l1_ratio parameters\n",
      "  warnings.warn(\n"
     ]
    },
    {
     "name": "stdout",
     "output_type": "stream",
     "text": [
      "[CV 4/15] END clf__C=0.2682695795279726, clf__penalty=none, clf__solver=lbfgs;, score=0.565 total time=   0.4s\n"
     ]
    },
    {
     "name": "stderr",
     "output_type": "stream",
     "text": [
      "/Users/guy/miniforge3/envs/.venv/lib/python3.9/site-packages/sklearn/linear_model/_logistic.py:1483: UserWarning: Setting penalty='none' will ignore the C and l1_ratio parameters\n",
      "  warnings.warn(\n"
     ]
    },
    {
     "name": "stdout",
     "output_type": "stream",
     "text": [
      "[CV 5/15] END clf__C=0.2682695795279726, clf__penalty=none, clf__solver=lbfgs;, score=0.582 total time=   0.3s\n"
     ]
    },
    {
     "name": "stderr",
     "output_type": "stream",
     "text": [
      "/Users/guy/miniforge3/envs/.venv/lib/python3.9/site-packages/sklearn/linear_model/_logistic.py:1483: UserWarning: Setting penalty='none' will ignore the C and l1_ratio parameters\n",
      "  warnings.warn(\n"
     ]
    },
    {
     "name": "stdout",
     "output_type": "stream",
     "text": [
      "[CV 6/15] END clf__C=0.2682695795279726, clf__penalty=none, clf__solver=lbfgs;, score=0.554 total time=   0.4s\n"
     ]
    },
    {
     "name": "stderr",
     "output_type": "stream",
     "text": [
      "/Users/guy/miniforge3/envs/.venv/lib/python3.9/site-packages/sklearn/linear_model/_logistic.py:1483: UserWarning: Setting penalty='none' will ignore the C and l1_ratio parameters\n",
      "  warnings.warn(\n"
     ]
    },
    {
     "name": "stdout",
     "output_type": "stream",
     "text": [
      "[CV 7/15] END clf__C=0.2682695795279726, clf__penalty=none, clf__solver=lbfgs;, score=0.649 total time=   0.4s\n"
     ]
    },
    {
     "name": "stderr",
     "output_type": "stream",
     "text": [
      "/Users/guy/miniforge3/envs/.venv/lib/python3.9/site-packages/sklearn/linear_model/_logistic.py:1483: UserWarning: Setting penalty='none' will ignore the C and l1_ratio parameters\n",
      "  warnings.warn(\n"
     ]
    },
    {
     "name": "stdout",
     "output_type": "stream",
     "text": [
      "[CV 8/15] END clf__C=0.2682695795279726, clf__penalty=none, clf__solver=lbfgs;, score=0.653 total time=   0.4s\n"
     ]
    },
    {
     "name": "stderr",
     "output_type": "stream",
     "text": [
      "/Users/guy/miniforge3/envs/.venv/lib/python3.9/site-packages/sklearn/linear_model/_logistic.py:1483: UserWarning: Setting penalty='none' will ignore the C and l1_ratio parameters\n",
      "  warnings.warn(\n"
     ]
    },
    {
     "name": "stdout",
     "output_type": "stream",
     "text": [
      "[CV 9/15] END clf__C=0.2682695795279726, clf__penalty=none, clf__solver=lbfgs;, score=0.584 total time=   0.4s\n"
     ]
    },
    {
     "name": "stderr",
     "output_type": "stream",
     "text": [
      "/Users/guy/miniforge3/envs/.venv/lib/python3.9/site-packages/sklearn/linear_model/_logistic.py:1483: UserWarning: Setting penalty='none' will ignore the C and l1_ratio parameters\n",
      "  warnings.warn(\n"
     ]
    },
    {
     "name": "stdout",
     "output_type": "stream",
     "text": [
      "[CV 10/15] END clf__C=0.2682695795279726, clf__penalty=none, clf__solver=lbfgs;, score=0.623 total time=   0.4s\n"
     ]
    },
    {
     "name": "stderr",
     "output_type": "stream",
     "text": [
      "/Users/guy/miniforge3/envs/.venv/lib/python3.9/site-packages/sklearn/linear_model/_logistic.py:1483: UserWarning: Setting penalty='none' will ignore the C and l1_ratio parameters\n",
      "  warnings.warn(\n"
     ]
    },
    {
     "name": "stdout",
     "output_type": "stream",
     "text": [
      "[CV 11/15] END clf__C=0.2682695795279726, clf__penalty=none, clf__solver=lbfgs;, score=0.576 total time=   0.4s\n"
     ]
    },
    {
     "name": "stderr",
     "output_type": "stream",
     "text": [
      "/Users/guy/miniforge3/envs/.venv/lib/python3.9/site-packages/sklearn/linear_model/_logistic.py:1483: UserWarning: Setting penalty='none' will ignore the C and l1_ratio parameters\n",
      "  warnings.warn(\n"
     ]
    },
    {
     "name": "stdout",
     "output_type": "stream",
     "text": [
      "[CV 12/15] END clf__C=0.2682695795279726, clf__penalty=none, clf__solver=lbfgs;, score=0.586 total time=   0.3s\n"
     ]
    },
    {
     "name": "stderr",
     "output_type": "stream",
     "text": [
      "/Users/guy/miniforge3/envs/.venv/lib/python3.9/site-packages/sklearn/linear_model/_logistic.py:1483: UserWarning: Setting penalty='none' will ignore the C and l1_ratio parameters\n",
      "  warnings.warn(\n"
     ]
    },
    {
     "name": "stdout",
     "output_type": "stream",
     "text": [
      "[CV 13/15] END clf__C=0.2682695795279726, clf__penalty=none, clf__solver=lbfgs;, score=0.643 total time=   0.4s\n"
     ]
    },
    {
     "name": "stderr",
     "output_type": "stream",
     "text": [
      "/Users/guy/miniforge3/envs/.venv/lib/python3.9/site-packages/sklearn/linear_model/_logistic.py:1483: UserWarning: Setting penalty='none' will ignore the C and l1_ratio parameters\n",
      "  warnings.warn(\n"
     ]
    },
    {
     "name": "stdout",
     "output_type": "stream",
     "text": [
      "[CV 14/15] END clf__C=0.2682695795279726, clf__penalty=none, clf__solver=lbfgs;, score=0.633 total time=   0.4s\n"
     ]
    },
    {
     "name": "stderr",
     "output_type": "stream",
     "text": [
      "/Users/guy/miniforge3/envs/.venv/lib/python3.9/site-packages/sklearn/linear_model/_logistic.py:1483: UserWarning: Setting penalty='none' will ignore the C and l1_ratio parameters\n",
      "  warnings.warn(\n"
     ]
    },
    {
     "name": "stdout",
     "output_type": "stream",
     "text": [
      "[CV 15/15] END clf__C=0.2682695795279726, clf__penalty=none, clf__solver=lbfgs;, score=0.668 total time=   0.3s\n",
      "[CV 1/15] END clf__C=0.2682695795279726, clf__penalty=none, clf__solver=liblinear;, score=nan total time=   0.0s\n",
      "[CV 2/15] END clf__C=0.2682695795279726, clf__penalty=none, clf__solver=liblinear;, score=nan total time=   0.0s\n",
      "[CV 3/15] END clf__C=0.2682695795279726, clf__penalty=none, clf__solver=liblinear;, score=nan total time=   0.0s\n",
      "[CV 4/15] END clf__C=0.2682695795279726, clf__penalty=none, clf__solver=liblinear;, score=nan total time=   0.0s\n",
      "[CV 5/15] END clf__C=0.2682695795279726, clf__penalty=none, clf__solver=liblinear;, score=nan total time=   0.0s\n",
      "[CV 6/15] END clf__C=0.2682695795279726, clf__penalty=none, clf__solver=liblinear;, score=nan total time=   0.0s\n",
      "[CV 7/15] END clf__C=0.2682695795279726, clf__penalty=none, clf__solver=liblinear;, score=nan total time=   0.0s\n",
      "[CV 8/15] END clf__C=0.2682695795279726, clf__penalty=none, clf__solver=liblinear;, score=nan total time=   0.0s\n",
      "[CV 9/15] END clf__C=0.2682695795279726, clf__penalty=none, clf__solver=liblinear;, score=nan total time=   0.0s\n",
      "[CV 10/15] END clf__C=0.2682695795279726, clf__penalty=none, clf__solver=liblinear;, score=nan total time=   0.0s\n",
      "[CV 11/15] END clf__C=0.2682695795279726, clf__penalty=none, clf__solver=liblinear;, score=nan total time=   0.0s\n",
      "[CV 12/15] END clf__C=0.2682695795279726, clf__penalty=none, clf__solver=liblinear;, score=nan total time=   0.0s\n",
      "[CV 13/15] END clf__C=0.2682695795279726, clf__penalty=none, clf__solver=liblinear;, score=nan total time=   0.0s\n",
      "[CV 14/15] END clf__C=0.2682695795279726, clf__penalty=none, clf__solver=liblinear;, score=nan total time=   0.0s\n",
      "[CV 15/15] END clf__C=0.2682695795279726, clf__penalty=none, clf__solver=liblinear;, score=nan total time=   0.0s\n"
     ]
    },
    {
     "name": "stderr",
     "output_type": "stream",
     "text": [
      "/Users/guy/miniforge3/envs/.venv/lib/python3.9/site-packages/sklearn/linear_model/_logistic.py:1483: UserWarning: Setting penalty='none' will ignore the C and l1_ratio parameters\n",
      "  warnings.warn(\n"
     ]
    },
    {
     "name": "stdout",
     "output_type": "stream",
     "text": [
      "[CV 1/15] END clf__C=0.2682695795279726, clf__penalty=none, clf__solver=sag;, score=0.635 total time=   0.9s\n"
     ]
    },
    {
     "name": "stderr",
     "output_type": "stream",
     "text": [
      "/Users/guy/miniforge3/envs/.venv/lib/python3.9/site-packages/sklearn/linear_model/_logistic.py:1483: UserWarning: Setting penalty='none' will ignore the C and l1_ratio parameters\n",
      "  warnings.warn(\n"
     ]
    },
    {
     "name": "stdout",
     "output_type": "stream",
     "text": [
      "[CV 2/15] END clf__C=0.2682695795279726, clf__penalty=none, clf__solver=sag;, score=0.619 total time=   1.6s\n"
     ]
    },
    {
     "name": "stderr",
     "output_type": "stream",
     "text": [
      "/Users/guy/miniforge3/envs/.venv/lib/python3.9/site-packages/sklearn/linear_model/_logistic.py:1483: UserWarning: Setting penalty='none' will ignore the C and l1_ratio parameters\n",
      "  warnings.warn(\n"
     ]
    },
    {
     "name": "stdout",
     "output_type": "stream",
     "text": [
      "[CV 3/15] END clf__C=0.2682695795279726, clf__penalty=none, clf__solver=sag;, score=0.640 total time=   1.6s\n"
     ]
    },
    {
     "name": "stderr",
     "output_type": "stream",
     "text": [
      "/Users/guy/miniforge3/envs/.venv/lib/python3.9/site-packages/sklearn/linear_model/_logistic.py:1483: UserWarning: Setting penalty='none' will ignore the C and l1_ratio parameters\n",
      "  warnings.warn(\n"
     ]
    },
    {
     "name": "stdout",
     "output_type": "stream",
     "text": [
      "[CV 4/15] END clf__C=0.2682695795279726, clf__penalty=none, clf__solver=sag;, score=0.565 total time=   1.5s\n"
     ]
    },
    {
     "name": "stderr",
     "output_type": "stream",
     "text": [
      "/Users/guy/miniforge3/envs/.venv/lib/python3.9/site-packages/sklearn/linear_model/_logistic.py:1483: UserWarning: Setting penalty='none' will ignore the C and l1_ratio parameters\n",
      "  warnings.warn(\n"
     ]
    },
    {
     "name": "stdout",
     "output_type": "stream",
     "text": [
      "[CV 5/15] END clf__C=0.2682695795279726, clf__penalty=none, clf__solver=sag;, score=0.582 total time=   1.5s\n"
     ]
    },
    {
     "name": "stderr",
     "output_type": "stream",
     "text": [
      "/Users/guy/miniforge3/envs/.venv/lib/python3.9/site-packages/sklearn/linear_model/_logistic.py:1483: UserWarning: Setting penalty='none' will ignore the C and l1_ratio parameters\n",
      "  warnings.warn(\n"
     ]
    },
    {
     "name": "stdout",
     "output_type": "stream",
     "text": [
      "[CV 6/15] END clf__C=0.2682695795279726, clf__penalty=none, clf__solver=sag;, score=0.554 total time=   1.6s\n"
     ]
    },
    {
     "name": "stderr",
     "output_type": "stream",
     "text": [
      "/Users/guy/miniforge3/envs/.venv/lib/python3.9/site-packages/sklearn/linear_model/_logistic.py:1483: UserWarning: Setting penalty='none' will ignore the C and l1_ratio parameters\n",
      "  warnings.warn(\n"
     ]
    },
    {
     "name": "stdout",
     "output_type": "stream",
     "text": [
      "[CV 7/15] END clf__C=0.2682695795279726, clf__penalty=none, clf__solver=sag;, score=0.649 total time=   1.1s\n"
     ]
    },
    {
     "name": "stderr",
     "output_type": "stream",
     "text": [
      "/Users/guy/miniforge3/envs/.venv/lib/python3.9/site-packages/sklearn/linear_model/_logistic.py:1483: UserWarning: Setting penalty='none' will ignore the C and l1_ratio parameters\n",
      "  warnings.warn(\n"
     ]
    },
    {
     "name": "stdout",
     "output_type": "stream",
     "text": [
      "[CV 8/15] END clf__C=0.2682695795279726, clf__penalty=none, clf__solver=sag;, score=0.653 total time=   1.6s\n"
     ]
    },
    {
     "name": "stderr",
     "output_type": "stream",
     "text": [
      "/Users/guy/miniforge3/envs/.venv/lib/python3.9/site-packages/sklearn/linear_model/_logistic.py:1483: UserWarning: Setting penalty='none' will ignore the C and l1_ratio parameters\n",
      "  warnings.warn(\n"
     ]
    },
    {
     "name": "stdout",
     "output_type": "stream",
     "text": [
      "[CV 9/15] END clf__C=0.2682695795279726, clf__penalty=none, clf__solver=sag;, score=0.584 total time=   1.6s\n"
     ]
    },
    {
     "name": "stderr",
     "output_type": "stream",
     "text": [
      "/Users/guy/miniforge3/envs/.venv/lib/python3.9/site-packages/sklearn/linear_model/_logistic.py:1483: UserWarning: Setting penalty='none' will ignore the C and l1_ratio parameters\n",
      "  warnings.warn(\n"
     ]
    },
    {
     "name": "stdout",
     "output_type": "stream",
     "text": [
      "[CV 10/15] END clf__C=0.2682695795279726, clf__penalty=none, clf__solver=sag;, score=0.622 total time=   1.4s\n"
     ]
    },
    {
     "name": "stderr",
     "output_type": "stream",
     "text": [
      "/Users/guy/miniforge3/envs/.venv/lib/python3.9/site-packages/sklearn/linear_model/_logistic.py:1483: UserWarning: Setting penalty='none' will ignore the C and l1_ratio parameters\n",
      "  warnings.warn(\n"
     ]
    },
    {
     "name": "stdout",
     "output_type": "stream",
     "text": [
      "[CV 11/15] END clf__C=0.2682695795279726, clf__penalty=none, clf__solver=sag;, score=0.576 total time=   1.4s\n"
     ]
    },
    {
     "name": "stderr",
     "output_type": "stream",
     "text": [
      "/Users/guy/miniforge3/envs/.venv/lib/python3.9/site-packages/sklearn/linear_model/_logistic.py:1483: UserWarning: Setting penalty='none' will ignore the C and l1_ratio parameters\n",
      "  warnings.warn(\n"
     ]
    },
    {
     "name": "stdout",
     "output_type": "stream",
     "text": [
      "[CV 12/15] END clf__C=0.2682695795279726, clf__penalty=none, clf__solver=sag;, score=0.586 total time=   1.6s\n"
     ]
    },
    {
     "name": "stderr",
     "output_type": "stream",
     "text": [
      "/Users/guy/miniforge3/envs/.venv/lib/python3.9/site-packages/sklearn/linear_model/_logistic.py:1483: UserWarning: Setting penalty='none' will ignore the C and l1_ratio parameters\n",
      "  warnings.warn(\n"
     ]
    },
    {
     "name": "stdout",
     "output_type": "stream",
     "text": [
      "[CV 13/15] END clf__C=0.2682695795279726, clf__penalty=none, clf__solver=sag;, score=0.643 total time=   1.5s\n"
     ]
    },
    {
     "name": "stderr",
     "output_type": "stream",
     "text": [
      "/Users/guy/miniforge3/envs/.venv/lib/python3.9/site-packages/sklearn/linear_model/_logistic.py:1483: UserWarning: Setting penalty='none' will ignore the C and l1_ratio parameters\n",
      "  warnings.warn(\n"
     ]
    },
    {
     "name": "stdout",
     "output_type": "stream",
     "text": [
      "[CV 14/15] END clf__C=0.2682695795279726, clf__penalty=none, clf__solver=sag;, score=0.633 total time=   1.6s\n"
     ]
    },
    {
     "name": "stderr",
     "output_type": "stream",
     "text": [
      "/Users/guy/miniforge3/envs/.venv/lib/python3.9/site-packages/sklearn/linear_model/_logistic.py:1483: UserWarning: Setting penalty='none' will ignore the C and l1_ratio parameters\n",
      "  warnings.warn(\n"
     ]
    },
    {
     "name": "stdout",
     "output_type": "stream",
     "text": [
      "[CV 15/15] END clf__C=0.2682695795279726, clf__penalty=none, clf__solver=sag;, score=0.668 total time=   0.9s\n",
      "[CV 1/15] END clf__C=0.31622776601683794, clf__penalty=l1, clf__solver=lbfgs;, score=nan total time=   0.0s\n",
      "[CV 2/15] END clf__C=0.31622776601683794, clf__penalty=l1, clf__solver=lbfgs;, score=nan total time=   0.0s\n",
      "[CV 3/15] END clf__C=0.31622776601683794, clf__penalty=l1, clf__solver=lbfgs;, score=nan total time=   0.0s\n",
      "[CV 4/15] END clf__C=0.31622776601683794, clf__penalty=l1, clf__solver=lbfgs;, score=nan total time=   0.0s\n",
      "[CV 5/15] END clf__C=0.31622776601683794, clf__penalty=l1, clf__solver=lbfgs;, score=nan total time=   0.0s\n",
      "[CV 6/15] END clf__C=0.31622776601683794, clf__penalty=l1, clf__solver=lbfgs;, score=nan total time=   0.0s\n",
      "[CV 7/15] END clf__C=0.31622776601683794, clf__penalty=l1, clf__solver=lbfgs;, score=nan total time=   0.0s\n",
      "[CV 8/15] END clf__C=0.31622776601683794, clf__penalty=l1, clf__solver=lbfgs;, score=nan total time=   0.0s\n",
      "[CV 9/15] END clf__C=0.31622776601683794, clf__penalty=l1, clf__solver=lbfgs;, score=nan total time=   0.0s\n",
      "[CV 10/15] END clf__C=0.31622776601683794, clf__penalty=l1, clf__solver=lbfgs;, score=nan total time=   0.0s\n",
      "[CV 11/15] END clf__C=0.31622776601683794, clf__penalty=l1, clf__solver=lbfgs;, score=nan total time=   0.0s\n",
      "[CV 12/15] END clf__C=0.31622776601683794, clf__penalty=l1, clf__solver=lbfgs;, score=nan total time=   0.0s\n",
      "[CV 13/15] END clf__C=0.31622776601683794, clf__penalty=l1, clf__solver=lbfgs;, score=nan total time=   0.0s\n",
      "[CV 14/15] END clf__C=0.31622776601683794, clf__penalty=l1, clf__solver=lbfgs;, score=nan total time=   0.0s\n",
      "[CV 15/15] END clf__C=0.31622776601683794, clf__penalty=l1, clf__solver=lbfgs;, score=nan total time=   0.0s\n",
      "[CV 1/15] END clf__C=0.31622776601683794, clf__penalty=l1, clf__solver=liblinear;, score=0.663 total time=   0.4s\n",
      "[CV 2/15] END clf__C=0.31622776601683794, clf__penalty=l1, clf__solver=liblinear;, score=0.625 total time=   0.3s\n",
      "[CV 3/15] END clf__C=0.31622776601683794, clf__penalty=l1, clf__solver=liblinear;, score=0.634 total time=   0.5s\n",
      "[CV 4/15] END clf__C=0.31622776601683794, clf__penalty=l1, clf__solver=liblinear;, score=0.597 total time=   0.3s\n",
      "[CV 5/15] END clf__C=0.31622776601683794, clf__penalty=l1, clf__solver=liblinear;, score=0.590 total time=   0.3s\n",
      "[CV 6/15] END clf__C=0.31622776601683794, clf__penalty=l1, clf__solver=liblinear;, score=0.567 total time=   0.4s\n",
      "[CV 7/15] END clf__C=0.31622776601683794, clf__penalty=l1, clf__solver=liblinear;, score=0.651 total time=   0.4s\n",
      "[CV 8/15] END clf__C=0.31622776601683794, clf__penalty=l1, clf__solver=liblinear;, score=0.667 total time=   0.3s\n",
      "[CV 9/15] END clf__C=0.31622776601683794, clf__penalty=l1, clf__solver=liblinear;, score=0.606 total time=   0.4s\n",
      "[CV 10/15] END clf__C=0.31622776601683794, clf__penalty=l1, clf__solver=liblinear;, score=0.637 total time=   0.3s\n",
      "[CV 11/15] END clf__C=0.31622776601683794, clf__penalty=l1, clf__solver=liblinear;, score=0.619 total time=   0.4s\n",
      "[CV 12/15] END clf__C=0.31622776601683794, clf__penalty=l1, clf__solver=liblinear;, score=0.573 total time=   0.3s\n",
      "[CV 13/15] END clf__C=0.31622776601683794, clf__penalty=l1, clf__solver=liblinear;, score=0.615 total time=   0.4s\n",
      "[CV 14/15] END clf__C=0.31622776601683794, clf__penalty=l1, clf__solver=liblinear;, score=0.653 total time=   0.4s\n",
      "[CV 15/15] END clf__C=0.31622776601683794, clf__penalty=l1, clf__solver=liblinear;, score=0.678 total time=   0.5s\n",
      "[CV 1/15] END clf__C=0.31622776601683794, clf__penalty=l1, clf__solver=sag;, score=nan total time=   0.0s\n",
      "[CV 2/15] END clf__C=0.31622776601683794, clf__penalty=l1, clf__solver=sag;, score=nan total time=   0.0s\n",
      "[CV 3/15] END clf__C=0.31622776601683794, clf__penalty=l1, clf__solver=sag;, score=nan total time=   0.0s\n",
      "[CV 4/15] END clf__C=0.31622776601683794, clf__penalty=l1, clf__solver=sag;, score=nan total time=   0.0s\n",
      "[CV 5/15] END clf__C=0.31622776601683794, clf__penalty=l1, clf__solver=sag;, score=nan total time=   0.0s\n",
      "[CV 6/15] END clf__C=0.31622776601683794, clf__penalty=l1, clf__solver=sag;, score=nan total time=   0.0s\n",
      "[CV 7/15] END clf__C=0.31622776601683794, clf__penalty=l1, clf__solver=sag;, score=nan total time=   0.0s\n",
      "[CV 8/15] END clf__C=0.31622776601683794, clf__penalty=l1, clf__solver=sag;, score=nan total time=   0.0s\n",
      "[CV 9/15] END clf__C=0.31622776601683794, clf__penalty=l1, clf__solver=sag;, score=nan total time=   0.0s\n",
      "[CV 10/15] END clf__C=0.31622776601683794, clf__penalty=l1, clf__solver=sag;, score=nan total time=   0.0s\n",
      "[CV 11/15] END clf__C=0.31622776601683794, clf__penalty=l1, clf__solver=sag;, score=nan total time=   0.0s\n",
      "[CV 12/15] END clf__C=0.31622776601683794, clf__penalty=l1, clf__solver=sag;, score=nan total time=   0.0s\n",
      "[CV 13/15] END clf__C=0.31622776601683794, clf__penalty=l1, clf__solver=sag;, score=nan total time=   0.0s\n",
      "[CV 14/15] END clf__C=0.31622776601683794, clf__penalty=l1, clf__solver=sag;, score=nan total time=   0.0s\n",
      "[CV 15/15] END clf__C=0.31622776601683794, clf__penalty=l1, clf__solver=sag;, score=nan total time=   0.0s\n",
      "[CV 1/15] END clf__C=0.31622776601683794, clf__penalty=l2, clf__solver=lbfgs;, score=0.640 total time=   0.2s\n",
      "[CV 2/15] END clf__C=0.31622776601683794, clf__penalty=l2, clf__solver=lbfgs;, score=0.627 total time=   0.2s\n",
      "[CV 3/15] END clf__C=0.31622776601683794, clf__penalty=l2, clf__solver=lbfgs;, score=0.632 total time=   0.2s\n",
      "[CV 4/15] END clf__C=0.31622776601683794, clf__penalty=l2, clf__solver=lbfgs;, score=0.574 total time=   0.2s\n",
      "[CV 5/15] END clf__C=0.31622776601683794, clf__penalty=l2, clf__solver=lbfgs;, score=0.580 total time=   0.2s\n",
      "[CV 6/15] END clf__C=0.31622776601683794, clf__penalty=l2, clf__solver=lbfgs;, score=0.549 total time=   0.2s\n",
      "[CV 7/15] END clf__C=0.31622776601683794, clf__penalty=l2, clf__solver=lbfgs;, score=0.644 total time=   0.2s\n",
      "[CV 8/15] END clf__C=0.31622776601683794, clf__penalty=l2, clf__solver=lbfgs;, score=0.660 total time=   0.1s\n",
      "[CV 9/15] END clf__C=0.31622776601683794, clf__penalty=l2, clf__solver=lbfgs;, score=0.585 total time=   0.2s\n",
      "[CV 10/15] END clf__C=0.31622776601683794, clf__penalty=l2, clf__solver=lbfgs;, score=0.611 total time=   0.2s\n",
      "[CV 11/15] END clf__C=0.31622776601683794, clf__penalty=l2, clf__solver=lbfgs;, score=0.583 total time=   0.2s\n",
      "[CV 12/15] END clf__C=0.31622776601683794, clf__penalty=l2, clf__solver=lbfgs;, score=0.586 total time=   0.2s\n",
      "[CV 13/15] END clf__C=0.31622776601683794, clf__penalty=l2, clf__solver=lbfgs;, score=0.632 total time=   0.2s\n",
      "[CV 14/15] END clf__C=0.31622776601683794, clf__penalty=l2, clf__solver=lbfgs;, score=0.636 total time=   0.2s\n",
      "[CV 15/15] END clf__C=0.31622776601683794, clf__penalty=l2, clf__solver=lbfgs;, score=0.667 total time=   0.2s\n",
      "[CV 1/15] END clf__C=0.31622776601683794, clf__penalty=l2, clf__solver=liblinear;, score=0.651 total time=   0.1s\n",
      "[CV 2/15] END clf__C=0.31622776601683794, clf__penalty=l2, clf__solver=liblinear;, score=0.620 total time=   0.1s\n",
      "[CV 3/15] END clf__C=0.31622776601683794, clf__penalty=l2, clf__solver=liblinear;, score=0.620 total time=   0.1s\n",
      "[CV 4/15] END clf__C=0.31622776601683794, clf__penalty=l2, clf__solver=liblinear;, score=0.592 total time=   0.1s\n",
      "[CV 5/15] END clf__C=0.31622776601683794, clf__penalty=l2, clf__solver=liblinear;, score=0.579 total time=   0.1s\n",
      "[CV 6/15] END clf__C=0.31622776601683794, clf__penalty=l2, clf__solver=liblinear;, score=0.541 total time=   0.1s\n",
      "[CV 7/15] END clf__C=0.31622776601683794, clf__penalty=l2, clf__solver=liblinear;, score=0.654 total time=   0.1s\n",
      "[CV 8/15] END clf__C=0.31622776601683794, clf__penalty=l2, clf__solver=liblinear;, score=0.658 total time=   0.1s\n",
      "[CV 9/15] END clf__C=0.31622776601683794, clf__penalty=l2, clf__solver=liblinear;, score=0.583 total time=   0.1s\n",
      "[CV 10/15] END clf__C=0.31622776601683794, clf__penalty=l2, clf__solver=liblinear;, score=0.622 total time=   0.1s\n",
      "[CV 11/15] END clf__C=0.31622776601683794, clf__penalty=l2, clf__solver=liblinear;, score=0.594 total time=   0.1s\n",
      "[CV 12/15] END clf__C=0.31622776601683794, clf__penalty=l2, clf__solver=liblinear;, score=0.585 total time=   0.1s\n",
      "[CV 13/15] END clf__C=0.31622776601683794, clf__penalty=l2, clf__solver=liblinear;, score=0.628 total time=   0.1s\n",
      "[CV 14/15] END clf__C=0.31622776601683794, clf__penalty=l2, clf__solver=liblinear;, score=0.627 total time=   0.1s\n"
     ]
    },
    {
     "name": "stdout",
     "output_type": "stream",
     "text": [
      "[CV 15/15] END clf__C=0.31622776601683794, clf__penalty=l2, clf__solver=liblinear;, score=0.673 total time=   0.1s\n",
      "[CV 1/15] END clf__C=0.31622776601683794, clf__penalty=l2, clf__solver=sag;, score=0.640 total time=   0.3s\n",
      "[CV 2/15] END clf__C=0.31622776601683794, clf__penalty=l2, clf__solver=sag;, score=0.627 total time=   0.3s\n",
      "[CV 3/15] END clf__C=0.31622776601683794, clf__penalty=l2, clf__solver=sag;, score=0.632 total time=   0.3s\n",
      "[CV 4/15] END clf__C=0.31622776601683794, clf__penalty=l2, clf__solver=sag;, score=0.575 total time=   0.3s\n",
      "[CV 5/15] END clf__C=0.31622776601683794, clf__penalty=l2, clf__solver=sag;, score=0.580 total time=   0.3s\n",
      "[CV 6/15] END clf__C=0.31622776601683794, clf__penalty=l2, clf__solver=sag;, score=0.549 total time=   0.3s\n",
      "[CV 7/15] END clf__C=0.31622776601683794, clf__penalty=l2, clf__solver=sag;, score=0.644 total time=   0.3s\n",
      "[CV 8/15] END clf__C=0.31622776601683794, clf__penalty=l2, clf__solver=sag;, score=0.660 total time=   0.3s\n",
      "[CV 9/15] END clf__C=0.31622776601683794, clf__penalty=l2, clf__solver=sag;, score=0.585 total time=   0.3s\n",
      "[CV 10/15] END clf__C=0.31622776601683794, clf__penalty=l2, clf__solver=sag;, score=0.611 total time=   0.3s\n",
      "[CV 11/15] END clf__C=0.31622776601683794, clf__penalty=l2, clf__solver=sag;, score=0.583 total time=   0.3s\n",
      "[CV 12/15] END clf__C=0.31622776601683794, clf__penalty=l2, clf__solver=sag;, score=0.586 total time=   0.3s\n",
      "[CV 13/15] END clf__C=0.31622776601683794, clf__penalty=l2, clf__solver=sag;, score=0.632 total time=   0.3s\n",
      "[CV 14/15] END clf__C=0.31622776601683794, clf__penalty=l2, clf__solver=sag;, score=0.636 total time=   0.3s\n",
      "[CV 15/15] END clf__C=0.31622776601683794, clf__penalty=l2, clf__solver=sag;, score=0.667 total time=   0.3s\n"
     ]
    },
    {
     "name": "stderr",
     "output_type": "stream",
     "text": [
      "/Users/guy/miniforge3/envs/.venv/lib/python3.9/site-packages/sklearn/linear_model/_logistic.py:1483: UserWarning: Setting penalty='none' will ignore the C and l1_ratio parameters\n",
      "  warnings.warn(\n"
     ]
    },
    {
     "name": "stdout",
     "output_type": "stream",
     "text": [
      "[CV 1/15] END clf__C=0.31622776601683794, clf__penalty=none, clf__solver=lbfgs;, score=0.635 total time=   0.3s\n"
     ]
    },
    {
     "name": "stderr",
     "output_type": "stream",
     "text": [
      "/Users/guy/miniforge3/envs/.venv/lib/python3.9/site-packages/sklearn/linear_model/_logistic.py:1483: UserWarning: Setting penalty='none' will ignore the C and l1_ratio parameters\n",
      "  warnings.warn(\n"
     ]
    },
    {
     "name": "stdout",
     "output_type": "stream",
     "text": [
      "[CV 2/15] END clf__C=0.31622776601683794, clf__penalty=none, clf__solver=lbfgs;, score=0.619 total time=   0.4s\n"
     ]
    },
    {
     "name": "stderr",
     "output_type": "stream",
     "text": [
      "/Users/guy/miniforge3/envs/.venv/lib/python3.9/site-packages/sklearn/linear_model/_logistic.py:1483: UserWarning: Setting penalty='none' will ignore the C and l1_ratio parameters\n",
      "  warnings.warn(\n"
     ]
    },
    {
     "name": "stdout",
     "output_type": "stream",
     "text": [
      "[CV 3/15] END clf__C=0.31622776601683794, clf__penalty=none, clf__solver=lbfgs;, score=0.640 total time=   0.4s\n"
     ]
    },
    {
     "name": "stderr",
     "output_type": "stream",
     "text": [
      "/Users/guy/miniforge3/envs/.venv/lib/python3.9/site-packages/sklearn/linear_model/_logistic.py:1483: UserWarning: Setting penalty='none' will ignore the C and l1_ratio parameters\n",
      "  warnings.warn(\n"
     ]
    },
    {
     "name": "stdout",
     "output_type": "stream",
     "text": [
      "[CV 4/15] END clf__C=0.31622776601683794, clf__penalty=none, clf__solver=lbfgs;, score=0.565 total time=   0.4s\n"
     ]
    },
    {
     "name": "stderr",
     "output_type": "stream",
     "text": [
      "/Users/guy/miniforge3/envs/.venv/lib/python3.9/site-packages/sklearn/linear_model/_logistic.py:1483: UserWarning: Setting penalty='none' will ignore the C and l1_ratio parameters\n",
      "  warnings.warn(\n"
     ]
    },
    {
     "name": "stdout",
     "output_type": "stream",
     "text": [
      "[CV 5/15] END clf__C=0.31622776601683794, clf__penalty=none, clf__solver=lbfgs;, score=0.582 total time=   0.4s\n"
     ]
    },
    {
     "name": "stderr",
     "output_type": "stream",
     "text": [
      "/Users/guy/miniforge3/envs/.venv/lib/python3.9/site-packages/sklearn/linear_model/_logistic.py:1483: UserWarning: Setting penalty='none' will ignore the C and l1_ratio parameters\n",
      "  warnings.warn(\n"
     ]
    },
    {
     "name": "stdout",
     "output_type": "stream",
     "text": [
      "[CV 6/15] END clf__C=0.31622776601683794, clf__penalty=none, clf__solver=lbfgs;, score=0.554 total time=   0.4s\n"
     ]
    },
    {
     "name": "stderr",
     "output_type": "stream",
     "text": [
      "/Users/guy/miniforge3/envs/.venv/lib/python3.9/site-packages/sklearn/linear_model/_logistic.py:1483: UserWarning: Setting penalty='none' will ignore the C and l1_ratio parameters\n",
      "  warnings.warn(\n"
     ]
    },
    {
     "name": "stdout",
     "output_type": "stream",
     "text": [
      "[CV 7/15] END clf__C=0.31622776601683794, clf__penalty=none, clf__solver=lbfgs;, score=0.649 total time=   0.4s\n"
     ]
    },
    {
     "name": "stderr",
     "output_type": "stream",
     "text": [
      "/Users/guy/miniforge3/envs/.venv/lib/python3.9/site-packages/sklearn/linear_model/_logistic.py:1483: UserWarning: Setting penalty='none' will ignore the C and l1_ratio parameters\n",
      "  warnings.warn(\n"
     ]
    },
    {
     "name": "stdout",
     "output_type": "stream",
     "text": [
      "[CV 8/15] END clf__C=0.31622776601683794, clf__penalty=none, clf__solver=lbfgs;, score=0.653 total time=   0.5s\n"
     ]
    },
    {
     "name": "stderr",
     "output_type": "stream",
     "text": [
      "/Users/guy/miniforge3/envs/.venv/lib/python3.9/site-packages/sklearn/linear_model/_logistic.py:1483: UserWarning: Setting penalty='none' will ignore the C and l1_ratio parameters\n",
      "  warnings.warn(\n"
     ]
    },
    {
     "name": "stdout",
     "output_type": "stream",
     "text": [
      "[CV 9/15] END clf__C=0.31622776601683794, clf__penalty=none, clf__solver=lbfgs;, score=0.584 total time=   0.4s\n"
     ]
    },
    {
     "name": "stderr",
     "output_type": "stream",
     "text": [
      "/Users/guy/miniforge3/envs/.venv/lib/python3.9/site-packages/sklearn/linear_model/_logistic.py:1483: UserWarning: Setting penalty='none' will ignore the C and l1_ratio parameters\n",
      "  warnings.warn(\n"
     ]
    },
    {
     "name": "stdout",
     "output_type": "stream",
     "text": [
      "[CV 10/15] END clf__C=0.31622776601683794, clf__penalty=none, clf__solver=lbfgs;, score=0.623 total time=   0.4s\n"
     ]
    },
    {
     "name": "stderr",
     "output_type": "stream",
     "text": [
      "/Users/guy/miniforge3/envs/.venv/lib/python3.9/site-packages/sklearn/linear_model/_logistic.py:1483: UserWarning: Setting penalty='none' will ignore the C and l1_ratio parameters\n",
      "  warnings.warn(\n"
     ]
    },
    {
     "name": "stdout",
     "output_type": "stream",
     "text": [
      "[CV 11/15] END clf__C=0.31622776601683794, clf__penalty=none, clf__solver=lbfgs;, score=0.576 total time=   0.4s\n"
     ]
    },
    {
     "name": "stderr",
     "output_type": "stream",
     "text": [
      "/Users/guy/miniforge3/envs/.venv/lib/python3.9/site-packages/sklearn/linear_model/_logistic.py:1483: UserWarning: Setting penalty='none' will ignore the C and l1_ratio parameters\n",
      "  warnings.warn(\n"
     ]
    },
    {
     "name": "stdout",
     "output_type": "stream",
     "text": [
      "[CV 12/15] END clf__C=0.31622776601683794, clf__penalty=none, clf__solver=lbfgs;, score=0.586 total time=   0.4s\n"
     ]
    },
    {
     "name": "stderr",
     "output_type": "stream",
     "text": [
      "/Users/guy/miniforge3/envs/.venv/lib/python3.9/site-packages/sklearn/linear_model/_logistic.py:1483: UserWarning: Setting penalty='none' will ignore the C and l1_ratio parameters\n",
      "  warnings.warn(\n"
     ]
    },
    {
     "name": "stdout",
     "output_type": "stream",
     "text": [
      "[CV 13/15] END clf__C=0.31622776601683794, clf__penalty=none, clf__solver=lbfgs;, score=0.643 total time=   0.5s\n"
     ]
    },
    {
     "name": "stderr",
     "output_type": "stream",
     "text": [
      "/Users/guy/miniforge3/envs/.venv/lib/python3.9/site-packages/sklearn/linear_model/_logistic.py:1483: UserWarning: Setting penalty='none' will ignore the C and l1_ratio parameters\n",
      "  warnings.warn(\n"
     ]
    },
    {
     "name": "stdout",
     "output_type": "stream",
     "text": [
      "[CV 14/15] END clf__C=0.31622776601683794, clf__penalty=none, clf__solver=lbfgs;, score=0.633 total time=   0.5s\n"
     ]
    },
    {
     "name": "stderr",
     "output_type": "stream",
     "text": [
      "/Users/guy/miniforge3/envs/.venv/lib/python3.9/site-packages/sklearn/linear_model/_logistic.py:1483: UserWarning: Setting penalty='none' will ignore the C and l1_ratio parameters\n",
      "  warnings.warn(\n"
     ]
    },
    {
     "name": "stdout",
     "output_type": "stream",
     "text": [
      "[CV 15/15] END clf__C=0.31622776601683794, clf__penalty=none, clf__solver=lbfgs;, score=0.668 total time=   0.4s\n",
      "[CV 1/15] END clf__C=0.31622776601683794, clf__penalty=none, clf__solver=liblinear;, score=nan total time=   0.0s\n",
      "[CV 2/15] END clf__C=0.31622776601683794, clf__penalty=none, clf__solver=liblinear;, score=nan total time=   0.0s\n",
      "[CV 3/15] END clf__C=0.31622776601683794, clf__penalty=none, clf__solver=liblinear;, score=nan total time=   0.0s\n",
      "[CV 4/15] END clf__C=0.31622776601683794, clf__penalty=none, clf__solver=liblinear;, score=nan total time=   0.0s\n",
      "[CV 5/15] END clf__C=0.31622776601683794, clf__penalty=none, clf__solver=liblinear;, score=nan total time=   0.0s\n",
      "[CV 6/15] END clf__C=0.31622776601683794, clf__penalty=none, clf__solver=liblinear;, score=nan total time=   0.0s\n",
      "[CV 7/15] END clf__C=0.31622776601683794, clf__penalty=none, clf__solver=liblinear;, score=nan total time=   0.0s\n",
      "[CV 8/15] END clf__C=0.31622776601683794, clf__penalty=none, clf__solver=liblinear;, score=nan total time=   0.0s\n",
      "[CV 9/15] END clf__C=0.31622776601683794, clf__penalty=none, clf__solver=liblinear;, score=nan total time=   0.0s\n",
      "[CV 10/15] END clf__C=0.31622776601683794, clf__penalty=none, clf__solver=liblinear;, score=nan total time=   0.0s\n",
      "[CV 11/15] END clf__C=0.31622776601683794, clf__penalty=none, clf__solver=liblinear;, score=nan total time=   0.0s\n",
      "[CV 12/15] END clf__C=0.31622776601683794, clf__penalty=none, clf__solver=liblinear;, score=nan total time=   0.0s\n",
      "[CV 13/15] END clf__C=0.31622776601683794, clf__penalty=none, clf__solver=liblinear;, score=nan total time=   0.0s\n",
      "[CV 14/15] END clf__C=0.31622776601683794, clf__penalty=none, clf__solver=liblinear;, score=nan total time=   0.0s\n",
      "[CV 15/15] END clf__C=0.31622776601683794, clf__penalty=none, clf__solver=liblinear;, score=nan total time=   0.0s\n"
     ]
    },
    {
     "name": "stderr",
     "output_type": "stream",
     "text": [
      "/Users/guy/miniforge3/envs/.venv/lib/python3.9/site-packages/sklearn/linear_model/_logistic.py:1483: UserWarning: Setting penalty='none' will ignore the C and l1_ratio parameters\n",
      "  warnings.warn(\n"
     ]
    },
    {
     "name": "stdout",
     "output_type": "stream",
     "text": [
      "[CV 1/15] END clf__C=0.31622776601683794, clf__penalty=none, clf__solver=sag;, score=0.635 total time=   1.1s\n"
     ]
    },
    {
     "name": "stderr",
     "output_type": "stream",
     "text": [
      "/Users/guy/miniforge3/envs/.venv/lib/python3.9/site-packages/sklearn/linear_model/_logistic.py:1483: UserWarning: Setting penalty='none' will ignore the C and l1_ratio parameters\n",
      "  warnings.warn(\n"
     ]
    },
    {
     "name": "stdout",
     "output_type": "stream",
     "text": [
      "[CV 2/15] END clf__C=0.31622776601683794, clf__penalty=none, clf__solver=sag;, score=0.619 total time=   1.9s\n"
     ]
    },
    {
     "name": "stderr",
     "output_type": "stream",
     "text": [
      "/Users/guy/miniforge3/envs/.venv/lib/python3.9/site-packages/sklearn/linear_model/_logistic.py:1483: UserWarning: Setting penalty='none' will ignore the C and l1_ratio parameters\n",
      "  warnings.warn(\n"
     ]
    },
    {
     "name": "stdout",
     "output_type": "stream",
     "text": [
      "[CV 3/15] END clf__C=0.31622776601683794, clf__penalty=none, clf__solver=sag;, score=0.640 total time=   1.9s\n"
     ]
    },
    {
     "name": "stderr",
     "output_type": "stream",
     "text": [
      "/Users/guy/miniforge3/envs/.venv/lib/python3.9/site-packages/sklearn/linear_model/_logistic.py:1483: UserWarning: Setting penalty='none' will ignore the C and l1_ratio parameters\n",
      "  warnings.warn(\n"
     ]
    },
    {
     "name": "stdout",
     "output_type": "stream",
     "text": [
      "[CV 4/15] END clf__C=0.31622776601683794, clf__penalty=none, clf__solver=sag;, score=0.565 total time=   1.4s\n"
     ]
    },
    {
     "name": "stderr",
     "output_type": "stream",
     "text": [
      "/Users/guy/miniforge3/envs/.venv/lib/python3.9/site-packages/sklearn/linear_model/_logistic.py:1483: UserWarning: Setting penalty='none' will ignore the C and l1_ratio parameters\n",
      "  warnings.warn(\n"
     ]
    },
    {
     "name": "stdout",
     "output_type": "stream",
     "text": [
      "[CV 5/15] END clf__C=0.31622776601683794, clf__penalty=none, clf__solver=sag;, score=0.582 total time=   1.5s\n"
     ]
    },
    {
     "name": "stderr",
     "output_type": "stream",
     "text": [
      "/Users/guy/miniforge3/envs/.venv/lib/python3.9/site-packages/sklearn/linear_model/_logistic.py:1483: UserWarning: Setting penalty='none' will ignore the C and l1_ratio parameters\n",
      "  warnings.warn(\n"
     ]
    },
    {
     "name": "stdout",
     "output_type": "stream",
     "text": [
      "[CV 6/15] END clf__C=0.31622776601683794, clf__penalty=none, clf__solver=sag;, score=0.554 total time=   1.6s\n"
     ]
    },
    {
     "name": "stderr",
     "output_type": "stream",
     "text": [
      "/Users/guy/miniforge3/envs/.venv/lib/python3.9/site-packages/sklearn/linear_model/_logistic.py:1483: UserWarning: Setting penalty='none' will ignore the C and l1_ratio parameters\n",
      "  warnings.warn(\n"
     ]
    },
    {
     "name": "stdout",
     "output_type": "stream",
     "text": [
      "[CV 7/15] END clf__C=0.31622776601683794, clf__penalty=none, clf__solver=sag;, score=0.649 total time=   1.2s\n"
     ]
    },
    {
     "name": "stderr",
     "output_type": "stream",
     "text": [
      "/Users/guy/miniforge3/envs/.venv/lib/python3.9/site-packages/sklearn/linear_model/_logistic.py:1483: UserWarning: Setting penalty='none' will ignore the C and l1_ratio parameters\n",
      "  warnings.warn(\n"
     ]
    },
    {
     "name": "stdout",
     "output_type": "stream",
     "text": [
      "[CV 8/15] END clf__C=0.31622776601683794, clf__penalty=none, clf__solver=sag;, score=0.653 total time=   1.6s\n"
     ]
    },
    {
     "name": "stderr",
     "output_type": "stream",
     "text": [
      "/Users/guy/miniforge3/envs/.venv/lib/python3.9/site-packages/sklearn/linear_model/_logistic.py:1483: UserWarning: Setting penalty='none' will ignore the C and l1_ratio parameters\n",
      "  warnings.warn(\n"
     ]
    },
    {
     "name": "stdout",
     "output_type": "stream",
     "text": [
      "[CV 9/15] END clf__C=0.31622776601683794, clf__penalty=none, clf__solver=sag;, score=0.584 total time=   1.6s\n"
     ]
    },
    {
     "name": "stderr",
     "output_type": "stream",
     "text": [
      "/Users/guy/miniforge3/envs/.venv/lib/python3.9/site-packages/sklearn/linear_model/_logistic.py:1483: UserWarning: Setting penalty='none' will ignore the C and l1_ratio parameters\n",
      "  warnings.warn(\n"
     ]
    },
    {
     "name": "stdout",
     "output_type": "stream",
     "text": [
      "[CV 10/15] END clf__C=0.31622776601683794, clf__penalty=none, clf__solver=sag;, score=0.622 total time=   1.4s\n"
     ]
    },
    {
     "name": "stderr",
     "output_type": "stream",
     "text": [
      "/Users/guy/miniforge3/envs/.venv/lib/python3.9/site-packages/sklearn/linear_model/_logistic.py:1483: UserWarning: Setting penalty='none' will ignore the C and l1_ratio parameters\n",
      "  warnings.warn(\n"
     ]
    },
    {
     "name": "stdout",
     "output_type": "stream",
     "text": [
      "[CV 11/15] END clf__C=0.31622776601683794, clf__penalty=none, clf__solver=sag;, score=0.576 total time=   1.4s\n"
     ]
    },
    {
     "name": "stderr",
     "output_type": "stream",
     "text": [
      "/Users/guy/miniforge3/envs/.venv/lib/python3.9/site-packages/sklearn/linear_model/_logistic.py:1483: UserWarning: Setting penalty='none' will ignore the C and l1_ratio parameters\n",
      "  warnings.warn(\n"
     ]
    },
    {
     "name": "stdout",
     "output_type": "stream",
     "text": [
      "[CV 12/15] END clf__C=0.31622776601683794, clf__penalty=none, clf__solver=sag;, score=0.586 total time=   1.6s\n"
     ]
    },
    {
     "name": "stderr",
     "output_type": "stream",
     "text": [
      "/Users/guy/miniforge3/envs/.venv/lib/python3.9/site-packages/sklearn/linear_model/_logistic.py:1483: UserWarning: Setting penalty='none' will ignore the C and l1_ratio parameters\n",
      "  warnings.warn(\n"
     ]
    },
    {
     "name": "stdout",
     "output_type": "stream",
     "text": [
      "[CV 13/15] END clf__C=0.31622776601683794, clf__penalty=none, clf__solver=sag;, score=0.643 total time=   1.5s\n"
     ]
    },
    {
     "name": "stderr",
     "output_type": "stream",
     "text": [
      "/Users/guy/miniforge3/envs/.venv/lib/python3.9/site-packages/sklearn/linear_model/_logistic.py:1483: UserWarning: Setting penalty='none' will ignore the C and l1_ratio parameters\n",
      "  warnings.warn(\n"
     ]
    },
    {
     "name": "stdout",
     "output_type": "stream",
     "text": [
      "[CV 14/15] END clf__C=0.31622776601683794, clf__penalty=none, clf__solver=sag;, score=0.633 total time=   1.6s\n"
     ]
    },
    {
     "name": "stderr",
     "output_type": "stream",
     "text": [
      "/Users/guy/miniforge3/envs/.venv/lib/python3.9/site-packages/sklearn/linear_model/_logistic.py:1483: UserWarning: Setting penalty='none' will ignore the C and l1_ratio parameters\n",
      "  warnings.warn(\n"
     ]
    },
    {
     "name": "stdout",
     "output_type": "stream",
     "text": [
      "[CV 15/15] END clf__C=0.31622776601683794, clf__penalty=none, clf__solver=sag;, score=0.668 total time=   0.9s\n",
      "[CV 1/15] END clf__C=0.372759372031494, clf__penalty=l1, clf__solver=lbfgs;, score=nan total time=   0.0s\n",
      "[CV 2/15] END clf__C=0.372759372031494, clf__penalty=l1, clf__solver=lbfgs;, score=nan total time=   0.0s\n",
      "[CV 3/15] END clf__C=0.372759372031494, clf__penalty=l1, clf__solver=lbfgs;, score=nan total time=   0.0s\n",
      "[CV 4/15] END clf__C=0.372759372031494, clf__penalty=l1, clf__solver=lbfgs;, score=nan total time=   0.0s\n",
      "[CV 5/15] END clf__C=0.372759372031494, clf__penalty=l1, clf__solver=lbfgs;, score=nan total time=   0.0s\n",
      "[CV 6/15] END clf__C=0.372759372031494, clf__penalty=l1, clf__solver=lbfgs;, score=nan total time=   0.0s\n",
      "[CV 7/15] END clf__C=0.372759372031494, clf__penalty=l1, clf__solver=lbfgs;, score=nan total time=   0.0s\n",
      "[CV 8/15] END clf__C=0.372759372031494, clf__penalty=l1, clf__solver=lbfgs;, score=nan total time=   0.0s\n",
      "[CV 9/15] END clf__C=0.372759372031494, clf__penalty=l1, clf__solver=lbfgs;, score=nan total time=   0.0s\n",
      "[CV 10/15] END clf__C=0.372759372031494, clf__penalty=l1, clf__solver=lbfgs;, score=nan total time=   0.0s\n",
      "[CV 11/15] END clf__C=0.372759372031494, clf__penalty=l1, clf__solver=lbfgs;, score=nan total time=   0.0s\n",
      "[CV 12/15] END clf__C=0.372759372031494, clf__penalty=l1, clf__solver=lbfgs;, score=nan total time=   0.0s\n",
      "[CV 13/15] END clf__C=0.372759372031494, clf__penalty=l1, clf__solver=lbfgs;, score=nan total time=   0.0s\n",
      "[CV 14/15] END clf__C=0.372759372031494, clf__penalty=l1, clf__solver=lbfgs;, score=nan total time=   0.0s\n",
      "[CV 15/15] END clf__C=0.372759372031494, clf__penalty=l1, clf__solver=lbfgs;, score=nan total time=   0.0s\n",
      "[CV 1/15] END clf__C=0.372759372031494, clf__penalty=l1, clf__solver=liblinear;, score=0.663 total time=   0.4s\n",
      "[CV 2/15] END clf__C=0.372759372031494, clf__penalty=l1, clf__solver=liblinear;, score=0.625 total time=   0.3s\n",
      "[CV 3/15] END clf__C=0.372759372031494, clf__penalty=l1, clf__solver=liblinear;, score=0.632 total time=   0.5s\n",
      "[CV 4/15] END clf__C=0.372759372031494, clf__penalty=l1, clf__solver=liblinear;, score=0.597 total time=   0.4s\n",
      "[CV 5/15] END clf__C=0.372759372031494, clf__penalty=l1, clf__solver=liblinear;, score=0.592 total time=   0.4s\n",
      "[CV 6/15] END clf__C=0.372759372031494, clf__penalty=l1, clf__solver=liblinear;, score=0.566 total time=   0.5s\n",
      "[CV 7/15] END clf__C=0.372759372031494, clf__penalty=l1, clf__solver=liblinear;, score=0.651 total time=   0.4s\n",
      "[CV 8/15] END clf__C=0.372759372031494, clf__penalty=l1, clf__solver=liblinear;, score=0.666 total time=   0.3s\n",
      "[CV 9/15] END clf__C=0.372759372031494, clf__penalty=l1, clf__solver=liblinear;, score=0.602 total time=   0.5s\n",
      "[CV 10/15] END clf__C=0.372759372031494, clf__penalty=l1, clf__solver=liblinear;, score=0.635 total time=   0.4s\n",
      "[CV 11/15] END clf__C=0.372759372031494, clf__penalty=l1, clf__solver=liblinear;, score=0.620 total time=   0.5s\n",
      "[CV 12/15] END clf__C=0.372759372031494, clf__penalty=l1, clf__solver=liblinear;, score=0.574 total time=   0.3s\n",
      "[CV 13/15] END clf__C=0.372759372031494, clf__penalty=l1, clf__solver=liblinear;, score=0.619 total time=   0.4s\n",
      "[CV 14/15] END clf__C=0.372759372031494, clf__penalty=l1, clf__solver=liblinear;, score=0.653 total time=   0.4s\n",
      "[CV 15/15] END clf__C=0.372759372031494, clf__penalty=l1, clf__solver=liblinear;, score=0.681 total time=   0.5s\n",
      "[CV 1/15] END clf__C=0.372759372031494, clf__penalty=l1, clf__solver=sag;, score=nan total time=   0.0s\n",
      "[CV 2/15] END clf__C=0.372759372031494, clf__penalty=l1, clf__solver=sag;, score=nan total time=   0.0s\n",
      "[CV 3/15] END clf__C=0.372759372031494, clf__penalty=l1, clf__solver=sag;, score=nan total time=   0.0s\n",
      "[CV 4/15] END clf__C=0.372759372031494, clf__penalty=l1, clf__solver=sag;, score=nan total time=   0.0s\n",
      "[CV 5/15] END clf__C=0.372759372031494, clf__penalty=l1, clf__solver=sag;, score=nan total time=   0.0s\n",
      "[CV 6/15] END clf__C=0.372759372031494, clf__penalty=l1, clf__solver=sag;, score=nan total time=   0.0s\n",
      "[CV 7/15] END clf__C=0.372759372031494, clf__penalty=l1, clf__solver=sag;, score=nan total time=   0.0s\n",
      "[CV 8/15] END clf__C=0.372759372031494, clf__penalty=l1, clf__solver=sag;, score=nan total time=   0.0s\n",
      "[CV 9/15] END clf__C=0.372759372031494, clf__penalty=l1, clf__solver=sag;, score=nan total time=   0.0s\n",
      "[CV 10/15] END clf__C=0.372759372031494, clf__penalty=l1, clf__solver=sag;, score=nan total time=   0.0s\n",
      "[CV 11/15] END clf__C=0.372759372031494, clf__penalty=l1, clf__solver=sag;, score=nan total time=   0.0s\n",
      "[CV 12/15] END clf__C=0.372759372031494, clf__penalty=l1, clf__solver=sag;, score=nan total time=   0.0s\n",
      "[CV 13/15] END clf__C=0.372759372031494, clf__penalty=l1, clf__solver=sag;, score=nan total time=   0.0s\n",
      "[CV 14/15] END clf__C=0.372759372031494, clf__penalty=l1, clf__solver=sag;, score=nan total time=   0.0s\n",
      "[CV 15/15] END clf__C=0.372759372031494, clf__penalty=l1, clf__solver=sag;, score=nan total time=   0.0s\n",
      "[CV 1/15] END clf__C=0.372759372031494, clf__penalty=l2, clf__solver=lbfgs;, score=0.639 total time=   0.2s\n",
      "[CV 2/15] END clf__C=0.372759372031494, clf__penalty=l2, clf__solver=lbfgs;, score=0.626 total time=   0.2s\n",
      "[CV 3/15] END clf__C=0.372759372031494, clf__penalty=l2, clf__solver=lbfgs;, score=0.633 total time=   0.2s\n",
      "[CV 4/15] END clf__C=0.372759372031494, clf__penalty=l2, clf__solver=lbfgs;, score=0.574 total time=   0.2s\n",
      "[CV 5/15] END clf__C=0.372759372031494, clf__penalty=l2, clf__solver=lbfgs;, score=0.579 total time=   0.2s\n",
      "[CV 6/15] END clf__C=0.372759372031494, clf__penalty=l2, clf__solver=lbfgs;, score=0.549 total time=   0.2s\n",
      "[CV 7/15] END clf__C=0.372759372031494, clf__penalty=l2, clf__solver=lbfgs;, score=0.644 total time=   0.2s\n",
      "[CV 8/15] END clf__C=0.372759372031494, clf__penalty=l2, clf__solver=lbfgs;, score=0.660 total time=   0.2s\n",
      "[CV 9/15] END clf__C=0.372759372031494, clf__penalty=l2, clf__solver=lbfgs;, score=0.585 total time=   0.2s\n",
      "[CV 10/15] END clf__C=0.372759372031494, clf__penalty=l2, clf__solver=lbfgs;, score=0.612 total time=   0.2s\n",
      "[CV 11/15] END clf__C=0.372759372031494, clf__penalty=l2, clf__solver=lbfgs;, score=0.583 total time=   0.2s\n",
      "[CV 12/15] END clf__C=0.372759372031494, clf__penalty=l2, clf__solver=lbfgs;, score=0.585 total time=   0.2s\n",
      "[CV 13/15] END clf__C=0.372759372031494, clf__penalty=l2, clf__solver=lbfgs;, score=0.633 total time=   0.2s\n",
      "[CV 14/15] END clf__C=0.372759372031494, clf__penalty=l2, clf__solver=lbfgs;, score=0.636 total time=   0.2s\n",
      "[CV 15/15] END clf__C=0.372759372031494, clf__penalty=l2, clf__solver=lbfgs;, score=0.668 total time=   0.2s\n",
      "[CV 1/15] END clf__C=0.372759372031494, clf__penalty=l2, clf__solver=liblinear;, score=0.650 total time=   0.1s\n",
      "[CV 2/15] END clf__C=0.372759372031494, clf__penalty=l2, clf__solver=liblinear;, score=0.621 total time=   0.1s\n",
      "[CV 3/15] END clf__C=0.372759372031494, clf__penalty=l2, clf__solver=liblinear;, score=0.622 total time=   0.1s\n",
      "[CV 4/15] END clf__C=0.372759372031494, clf__penalty=l2, clf__solver=liblinear;, score=0.590 total time=   0.1s\n",
      "[CV 5/15] END clf__C=0.372759372031494, clf__penalty=l2, clf__solver=liblinear;, score=0.579 total time=   0.1s\n",
      "[CV 6/15] END clf__C=0.372759372031494, clf__penalty=l2, clf__solver=liblinear;, score=0.542 total time=   0.1s\n",
      "[CV 7/15] END clf__C=0.372759372031494, clf__penalty=l2, clf__solver=liblinear;, score=0.653 total time=   0.1s\n",
      "[CV 8/15] END clf__C=0.372759372031494, clf__penalty=l2, clf__solver=liblinear;, score=0.658 total time=   0.1s\n",
      "[CV 9/15] END clf__C=0.372759372031494, clf__penalty=l2, clf__solver=liblinear;, score=0.583 total time=   0.1s\n",
      "[CV 10/15] END clf__C=0.372759372031494, clf__penalty=l2, clf__solver=liblinear;, score=0.623 total time=   0.1s\n",
      "[CV 11/15] END clf__C=0.372759372031494, clf__penalty=l2, clf__solver=liblinear;, score=0.593 total time=   0.1s\n",
      "[CV 12/15] END clf__C=0.372759372031494, clf__penalty=l2, clf__solver=liblinear;, score=0.585 total time=   0.1s\n",
      "[CV 13/15] END clf__C=0.372759372031494, clf__penalty=l2, clf__solver=liblinear;, score=0.629 total time=   0.1s\n",
      "[CV 14/15] END clf__C=0.372759372031494, clf__penalty=l2, clf__solver=liblinear;, score=0.628 total time=   0.1s\n",
      "[CV 15/15] END clf__C=0.372759372031494, clf__penalty=l2, clf__solver=liblinear;, score=0.673 total time=   0.1s\n"
     ]
    },
    {
     "name": "stdout",
     "output_type": "stream",
     "text": [
      "[CV 1/15] END clf__C=0.372759372031494, clf__penalty=l2, clf__solver=sag;, score=0.640 total time=   0.3s\n",
      "[CV 2/15] END clf__C=0.372759372031494, clf__penalty=l2, clf__solver=sag;, score=0.627 total time=   0.3s\n",
      "[CV 3/15] END clf__C=0.372759372031494, clf__penalty=l2, clf__solver=sag;, score=0.633 total time=   0.3s\n",
      "[CV 4/15] END clf__C=0.372759372031494, clf__penalty=l2, clf__solver=sag;, score=0.574 total time=   0.3s\n",
      "[CV 5/15] END clf__C=0.372759372031494, clf__penalty=l2, clf__solver=sag;, score=0.579 total time=   0.3s\n",
      "[CV 6/15] END clf__C=0.372759372031494, clf__penalty=l2, clf__solver=sag;, score=0.549 total time=   0.3s\n",
      "[CV 7/15] END clf__C=0.372759372031494, clf__penalty=l2, clf__solver=sag;, score=0.644 total time=   0.3s\n",
      "[CV 8/15] END clf__C=0.372759372031494, clf__penalty=l2, clf__solver=sag;, score=0.660 total time=   0.3s\n",
      "[CV 9/15] END clf__C=0.372759372031494, clf__penalty=l2, clf__solver=sag;, score=0.585 total time=   0.3s\n",
      "[CV 10/15] END clf__C=0.372759372031494, clf__penalty=l2, clf__solver=sag;, score=0.612 total time=   0.3s\n",
      "[CV 11/15] END clf__C=0.372759372031494, clf__penalty=l2, clf__solver=sag;, score=0.583 total time=   0.3s\n",
      "[CV 12/15] END clf__C=0.372759372031494, clf__penalty=l2, clf__solver=sag;, score=0.586 total time=   0.3s\n",
      "[CV 13/15] END clf__C=0.372759372031494, clf__penalty=l2, clf__solver=sag;, score=0.633 total time=   0.3s\n",
      "[CV 14/15] END clf__C=0.372759372031494, clf__penalty=l2, clf__solver=sag;, score=0.636 total time=   0.3s\n",
      "[CV 15/15] END clf__C=0.372759372031494, clf__penalty=l2, clf__solver=sag;, score=0.668 total time=   0.3s\n"
     ]
    },
    {
     "name": "stderr",
     "output_type": "stream",
     "text": [
      "/Users/guy/miniforge3/envs/.venv/lib/python3.9/site-packages/sklearn/linear_model/_logistic.py:1483: UserWarning: Setting penalty='none' will ignore the C and l1_ratio parameters\n",
      "  warnings.warn(\n"
     ]
    },
    {
     "name": "stdout",
     "output_type": "stream",
     "text": [
      "[CV 1/15] END clf__C=0.372759372031494, clf__penalty=none, clf__solver=lbfgs;, score=0.635 total time=   0.3s\n"
     ]
    },
    {
     "name": "stderr",
     "output_type": "stream",
     "text": [
      "/Users/guy/miniforge3/envs/.venv/lib/python3.9/site-packages/sklearn/linear_model/_logistic.py:1483: UserWarning: Setting penalty='none' will ignore the C and l1_ratio parameters\n",
      "  warnings.warn(\n"
     ]
    },
    {
     "name": "stdout",
     "output_type": "stream",
     "text": [
      "[CV 2/15] END clf__C=0.372759372031494, clf__penalty=none, clf__solver=lbfgs;, score=0.619 total time=   0.4s\n"
     ]
    },
    {
     "name": "stderr",
     "output_type": "stream",
     "text": [
      "/Users/guy/miniforge3/envs/.venv/lib/python3.9/site-packages/sklearn/linear_model/_logistic.py:1483: UserWarning: Setting penalty='none' will ignore the C and l1_ratio parameters\n",
      "  warnings.warn(\n"
     ]
    },
    {
     "name": "stdout",
     "output_type": "stream",
     "text": [
      "[CV 3/15] END clf__C=0.372759372031494, clf__penalty=none, clf__solver=lbfgs;, score=0.640 total time=   0.4s\n"
     ]
    },
    {
     "name": "stderr",
     "output_type": "stream",
     "text": [
      "/Users/guy/miniforge3/envs/.venv/lib/python3.9/site-packages/sklearn/linear_model/_logistic.py:1483: UserWarning: Setting penalty='none' will ignore the C and l1_ratio parameters\n",
      "  warnings.warn(\n"
     ]
    },
    {
     "name": "stdout",
     "output_type": "stream",
     "text": [
      "[CV 4/15] END clf__C=0.372759372031494, clf__penalty=none, clf__solver=lbfgs;, score=0.565 total time=   0.4s\n"
     ]
    },
    {
     "name": "stderr",
     "output_type": "stream",
     "text": [
      "/Users/guy/miniforge3/envs/.venv/lib/python3.9/site-packages/sklearn/linear_model/_logistic.py:1483: UserWarning: Setting penalty='none' will ignore the C and l1_ratio parameters\n",
      "  warnings.warn(\n"
     ]
    },
    {
     "name": "stdout",
     "output_type": "stream",
     "text": [
      "[CV 5/15] END clf__C=0.372759372031494, clf__penalty=none, clf__solver=lbfgs;, score=0.582 total time=   0.4s\n"
     ]
    },
    {
     "name": "stderr",
     "output_type": "stream",
     "text": [
      "/Users/guy/miniforge3/envs/.venv/lib/python3.9/site-packages/sklearn/linear_model/_logistic.py:1483: UserWarning: Setting penalty='none' will ignore the C and l1_ratio parameters\n",
      "  warnings.warn(\n"
     ]
    },
    {
     "name": "stdout",
     "output_type": "stream",
     "text": [
      "[CV 6/15] END clf__C=0.372759372031494, clf__penalty=none, clf__solver=lbfgs;, score=0.554 total time=   0.4s\n"
     ]
    },
    {
     "name": "stderr",
     "output_type": "stream",
     "text": [
      "/Users/guy/miniforge3/envs/.venv/lib/python3.9/site-packages/sklearn/linear_model/_logistic.py:1483: UserWarning: Setting penalty='none' will ignore the C and l1_ratio parameters\n",
      "  warnings.warn(\n"
     ]
    },
    {
     "name": "stdout",
     "output_type": "stream",
     "text": [
      "[CV 7/15] END clf__C=0.372759372031494, clf__penalty=none, clf__solver=lbfgs;, score=0.649 total time=   0.4s\n"
     ]
    },
    {
     "name": "stderr",
     "output_type": "stream",
     "text": [
      "/Users/guy/miniforge3/envs/.venv/lib/python3.9/site-packages/sklearn/linear_model/_logistic.py:1483: UserWarning: Setting penalty='none' will ignore the C and l1_ratio parameters\n",
      "  warnings.warn(\n"
     ]
    },
    {
     "name": "stdout",
     "output_type": "stream",
     "text": [
      "[CV 8/15] END clf__C=0.372759372031494, clf__penalty=none, clf__solver=lbfgs;, score=0.653 total time=   0.4s\n"
     ]
    },
    {
     "name": "stderr",
     "output_type": "stream",
     "text": [
      "/Users/guy/miniforge3/envs/.venv/lib/python3.9/site-packages/sklearn/linear_model/_logistic.py:1483: UserWarning: Setting penalty='none' will ignore the C and l1_ratio parameters\n",
      "  warnings.warn(\n"
     ]
    },
    {
     "name": "stdout",
     "output_type": "stream",
     "text": [
      "[CV 9/15] END clf__C=0.372759372031494, clf__penalty=none, clf__solver=lbfgs;, score=0.584 total time=   0.4s\n"
     ]
    },
    {
     "name": "stderr",
     "output_type": "stream",
     "text": [
      "/Users/guy/miniforge3/envs/.venv/lib/python3.9/site-packages/sklearn/linear_model/_logistic.py:1483: UserWarning: Setting penalty='none' will ignore the C and l1_ratio parameters\n",
      "  warnings.warn(\n"
     ]
    },
    {
     "name": "stdout",
     "output_type": "stream",
     "text": [
      "[CV 10/15] END clf__C=0.372759372031494, clf__penalty=none, clf__solver=lbfgs;, score=0.623 total time=   0.4s\n"
     ]
    },
    {
     "name": "stderr",
     "output_type": "stream",
     "text": [
      "/Users/guy/miniforge3/envs/.venv/lib/python3.9/site-packages/sklearn/linear_model/_logistic.py:1483: UserWarning: Setting penalty='none' will ignore the C and l1_ratio parameters\n",
      "  warnings.warn(\n"
     ]
    },
    {
     "name": "stdout",
     "output_type": "stream",
     "text": [
      "[CV 11/15] END clf__C=0.372759372031494, clf__penalty=none, clf__solver=lbfgs;, score=0.576 total time=   0.4s\n"
     ]
    },
    {
     "name": "stderr",
     "output_type": "stream",
     "text": [
      "/Users/guy/miniforge3/envs/.venv/lib/python3.9/site-packages/sklearn/linear_model/_logistic.py:1483: UserWarning: Setting penalty='none' will ignore the C and l1_ratio parameters\n",
      "  warnings.warn(\n"
     ]
    },
    {
     "name": "stdout",
     "output_type": "stream",
     "text": [
      "[CV 12/15] END clf__C=0.372759372031494, clf__penalty=none, clf__solver=lbfgs;, score=0.586 total time=   0.4s\n"
     ]
    },
    {
     "name": "stderr",
     "output_type": "stream",
     "text": [
      "/Users/guy/miniforge3/envs/.venv/lib/python3.9/site-packages/sklearn/linear_model/_logistic.py:1483: UserWarning: Setting penalty='none' will ignore the C and l1_ratio parameters\n",
      "  warnings.warn(\n"
     ]
    },
    {
     "name": "stdout",
     "output_type": "stream",
     "text": [
      "[CV 13/15] END clf__C=0.372759372031494, clf__penalty=none, clf__solver=lbfgs;, score=0.643 total time=   0.4s\n"
     ]
    },
    {
     "name": "stderr",
     "output_type": "stream",
     "text": [
      "/Users/guy/miniforge3/envs/.venv/lib/python3.9/site-packages/sklearn/linear_model/_logistic.py:1483: UserWarning: Setting penalty='none' will ignore the C and l1_ratio parameters\n",
      "  warnings.warn(\n"
     ]
    },
    {
     "name": "stdout",
     "output_type": "stream",
     "text": [
      "[CV 14/15] END clf__C=0.372759372031494, clf__penalty=none, clf__solver=lbfgs;, score=0.633 total time=   0.4s\n"
     ]
    },
    {
     "name": "stderr",
     "output_type": "stream",
     "text": [
      "/Users/guy/miniforge3/envs/.venv/lib/python3.9/site-packages/sklearn/linear_model/_logistic.py:1483: UserWarning: Setting penalty='none' will ignore the C and l1_ratio parameters\n",
      "  warnings.warn(\n"
     ]
    },
    {
     "name": "stdout",
     "output_type": "stream",
     "text": [
      "[CV 15/15] END clf__C=0.372759372031494, clf__penalty=none, clf__solver=lbfgs;, score=0.668 total time=   0.3s\n",
      "[CV 1/15] END clf__C=0.372759372031494, clf__penalty=none, clf__solver=liblinear;, score=nan total time=   0.0s\n",
      "[CV 2/15] END clf__C=0.372759372031494, clf__penalty=none, clf__solver=liblinear;, score=nan total time=   0.0s\n",
      "[CV 3/15] END clf__C=0.372759372031494, clf__penalty=none, clf__solver=liblinear;, score=nan total time=   0.0s\n",
      "[CV 4/15] END clf__C=0.372759372031494, clf__penalty=none, clf__solver=liblinear;, score=nan total time=   0.0s\n",
      "[CV 5/15] END clf__C=0.372759372031494, clf__penalty=none, clf__solver=liblinear;, score=nan total time=   0.0s\n",
      "[CV 6/15] END clf__C=0.372759372031494, clf__penalty=none, clf__solver=liblinear;, score=nan total time=   0.0s\n",
      "[CV 7/15] END clf__C=0.372759372031494, clf__penalty=none, clf__solver=liblinear;, score=nan total time=   0.0s\n",
      "[CV 8/15] END clf__C=0.372759372031494, clf__penalty=none, clf__solver=liblinear;, score=nan total time=   0.0s\n",
      "[CV 9/15] END clf__C=0.372759372031494, clf__penalty=none, clf__solver=liblinear;, score=nan total time=   0.0s\n",
      "[CV 10/15] END clf__C=0.372759372031494, clf__penalty=none, clf__solver=liblinear;, score=nan total time=   0.0s\n",
      "[CV 11/15] END clf__C=0.372759372031494, clf__penalty=none, clf__solver=liblinear;, score=nan total time=   0.0s\n",
      "[CV 12/15] END clf__C=0.372759372031494, clf__penalty=none, clf__solver=liblinear;, score=nan total time=   0.0s\n",
      "[CV 13/15] END clf__C=0.372759372031494, clf__penalty=none, clf__solver=liblinear;, score=nan total time=   0.0s\n",
      "[CV 14/15] END clf__C=0.372759372031494, clf__penalty=none, clf__solver=liblinear;, score=nan total time=   0.0s\n",
      "[CV 15/15] END clf__C=0.372759372031494, clf__penalty=none, clf__solver=liblinear;, score=nan total time=   0.0s\n"
     ]
    },
    {
     "name": "stderr",
     "output_type": "stream",
     "text": [
      "/Users/guy/miniforge3/envs/.venv/lib/python3.9/site-packages/sklearn/linear_model/_logistic.py:1483: UserWarning: Setting penalty='none' will ignore the C and l1_ratio parameters\n",
      "  warnings.warn(\n"
     ]
    },
    {
     "name": "stdout",
     "output_type": "stream",
     "text": [
      "[CV 1/15] END clf__C=0.372759372031494, clf__penalty=none, clf__solver=sag;, score=0.635 total time=   0.9s\n"
     ]
    },
    {
     "name": "stderr",
     "output_type": "stream",
     "text": [
      "/Users/guy/miniforge3/envs/.venv/lib/python3.9/site-packages/sklearn/linear_model/_logistic.py:1483: UserWarning: Setting penalty='none' will ignore the C and l1_ratio parameters\n",
      "  warnings.warn(\n"
     ]
    },
    {
     "name": "stdout",
     "output_type": "stream",
     "text": [
      "[CV 2/15] END clf__C=0.372759372031494, clf__penalty=none, clf__solver=sag;, score=0.619 total time=   1.6s\n"
     ]
    },
    {
     "name": "stderr",
     "output_type": "stream",
     "text": [
      "/Users/guy/miniforge3/envs/.venv/lib/python3.9/site-packages/sklearn/linear_model/_logistic.py:1483: UserWarning: Setting penalty='none' will ignore the C and l1_ratio parameters\n",
      "  warnings.warn(\n"
     ]
    },
    {
     "name": "stdout",
     "output_type": "stream",
     "text": [
      "[CV 3/15] END clf__C=0.372759372031494, clf__penalty=none, clf__solver=sag;, score=0.640 total time=   1.6s\n"
     ]
    },
    {
     "name": "stderr",
     "output_type": "stream",
     "text": [
      "/Users/guy/miniforge3/envs/.venv/lib/python3.9/site-packages/sklearn/linear_model/_logistic.py:1483: UserWarning: Setting penalty='none' will ignore the C and l1_ratio parameters\n",
      "  warnings.warn(\n"
     ]
    },
    {
     "name": "stdout",
     "output_type": "stream",
     "text": [
      "[CV 4/15] END clf__C=0.372759372031494, clf__penalty=none, clf__solver=sag;, score=0.565 total time=   1.5s\n"
     ]
    },
    {
     "name": "stderr",
     "output_type": "stream",
     "text": [
      "/Users/guy/miniforge3/envs/.venv/lib/python3.9/site-packages/sklearn/linear_model/_logistic.py:1483: UserWarning: Setting penalty='none' will ignore the C and l1_ratio parameters\n",
      "  warnings.warn(\n"
     ]
    },
    {
     "name": "stdout",
     "output_type": "stream",
     "text": [
      "[CV 5/15] END clf__C=0.372759372031494, clf__penalty=none, clf__solver=sag;, score=0.582 total time=   1.4s\n"
     ]
    },
    {
     "name": "stderr",
     "output_type": "stream",
     "text": [
      "/Users/guy/miniforge3/envs/.venv/lib/python3.9/site-packages/sklearn/linear_model/_logistic.py:1483: UserWarning: Setting penalty='none' will ignore the C and l1_ratio parameters\n",
      "  warnings.warn(\n"
     ]
    },
    {
     "name": "stdout",
     "output_type": "stream",
     "text": [
      "[CV 6/15] END clf__C=0.372759372031494, clf__penalty=none, clf__solver=sag;, score=0.554 total time=   1.6s\n"
     ]
    },
    {
     "name": "stderr",
     "output_type": "stream",
     "text": [
      "/Users/guy/miniforge3/envs/.venv/lib/python3.9/site-packages/sklearn/linear_model/_logistic.py:1483: UserWarning: Setting penalty='none' will ignore the C and l1_ratio parameters\n",
      "  warnings.warn(\n"
     ]
    },
    {
     "name": "stdout",
     "output_type": "stream",
     "text": [
      "[CV 7/15] END clf__C=0.372759372031494, clf__penalty=none, clf__solver=sag;, score=0.649 total time=   1.1s\n"
     ]
    },
    {
     "name": "stderr",
     "output_type": "stream",
     "text": [
      "/Users/guy/miniforge3/envs/.venv/lib/python3.9/site-packages/sklearn/linear_model/_logistic.py:1483: UserWarning: Setting penalty='none' will ignore the C and l1_ratio parameters\n",
      "  warnings.warn(\n"
     ]
    },
    {
     "name": "stdout",
     "output_type": "stream",
     "text": [
      "[CV 8/15] END clf__C=0.372759372031494, clf__penalty=none, clf__solver=sag;, score=0.653 total time=   1.6s\n"
     ]
    },
    {
     "name": "stderr",
     "output_type": "stream",
     "text": [
      "/Users/guy/miniforge3/envs/.venv/lib/python3.9/site-packages/sklearn/linear_model/_logistic.py:1483: UserWarning: Setting penalty='none' will ignore the C and l1_ratio parameters\n",
      "  warnings.warn(\n"
     ]
    },
    {
     "name": "stdout",
     "output_type": "stream",
     "text": [
      "[CV 9/15] END clf__C=0.372759372031494, clf__penalty=none, clf__solver=sag;, score=0.584 total time=   1.6s\n"
     ]
    },
    {
     "name": "stderr",
     "output_type": "stream",
     "text": [
      "/Users/guy/miniforge3/envs/.venv/lib/python3.9/site-packages/sklearn/linear_model/_logistic.py:1483: UserWarning: Setting penalty='none' will ignore the C and l1_ratio parameters\n",
      "  warnings.warn(\n"
     ]
    },
    {
     "name": "stdout",
     "output_type": "stream",
     "text": [
      "[CV 10/15] END clf__C=0.372759372031494, clf__penalty=none, clf__solver=sag;, score=0.622 total time=   1.4s\n"
     ]
    },
    {
     "name": "stderr",
     "output_type": "stream",
     "text": [
      "/Users/guy/miniforge3/envs/.venv/lib/python3.9/site-packages/sklearn/linear_model/_logistic.py:1483: UserWarning: Setting penalty='none' will ignore the C and l1_ratio parameters\n",
      "  warnings.warn(\n"
     ]
    },
    {
     "name": "stdout",
     "output_type": "stream",
     "text": [
      "[CV 11/15] END clf__C=0.372759372031494, clf__penalty=none, clf__solver=sag;, score=0.576 total time=   1.4s\n"
     ]
    },
    {
     "name": "stderr",
     "output_type": "stream",
     "text": [
      "/Users/guy/miniforge3/envs/.venv/lib/python3.9/site-packages/sklearn/linear_model/_logistic.py:1483: UserWarning: Setting penalty='none' will ignore the C and l1_ratio parameters\n",
      "  warnings.warn(\n"
     ]
    },
    {
     "name": "stdout",
     "output_type": "stream",
     "text": [
      "[CV 12/15] END clf__C=0.372759372031494, clf__penalty=none, clf__solver=sag;, score=0.586 total time=   1.6s\n"
     ]
    },
    {
     "name": "stderr",
     "output_type": "stream",
     "text": [
      "/Users/guy/miniforge3/envs/.venv/lib/python3.9/site-packages/sklearn/linear_model/_logistic.py:1483: UserWarning: Setting penalty='none' will ignore the C and l1_ratio parameters\n",
      "  warnings.warn(\n"
     ]
    },
    {
     "name": "stdout",
     "output_type": "stream",
     "text": [
      "[CV 13/15] END clf__C=0.372759372031494, clf__penalty=none, clf__solver=sag;, score=0.643 total time=   1.5s\n"
     ]
    },
    {
     "name": "stderr",
     "output_type": "stream",
     "text": [
      "/Users/guy/miniforge3/envs/.venv/lib/python3.9/site-packages/sklearn/linear_model/_logistic.py:1483: UserWarning: Setting penalty='none' will ignore the C and l1_ratio parameters\n",
      "  warnings.warn(\n"
     ]
    },
    {
     "name": "stdout",
     "output_type": "stream",
     "text": [
      "[CV 14/15] END clf__C=0.372759372031494, clf__penalty=none, clf__solver=sag;, score=0.633 total time=   1.6s\n"
     ]
    },
    {
     "name": "stderr",
     "output_type": "stream",
     "text": [
      "/Users/guy/miniforge3/envs/.venv/lib/python3.9/site-packages/sklearn/linear_model/_logistic.py:1483: UserWarning: Setting penalty='none' will ignore the C and l1_ratio parameters\n",
      "  warnings.warn(\n"
     ]
    },
    {
     "name": "stdout",
     "output_type": "stream",
     "text": [
      "[CV 15/15] END clf__C=0.372759372031494, clf__penalty=none, clf__solver=sag;, score=0.668 total time=   0.9s\n",
      "[CV 1/15] END clf__C=0.43939705607607904, clf__penalty=l1, clf__solver=lbfgs;, score=nan total time=   0.0s\n",
      "[CV 2/15] END clf__C=0.43939705607607904, clf__penalty=l1, clf__solver=lbfgs;, score=nan total time=   0.0s\n",
      "[CV 3/15] END clf__C=0.43939705607607904, clf__penalty=l1, clf__solver=lbfgs;, score=nan total time=   0.0s\n",
      "[CV 4/15] END clf__C=0.43939705607607904, clf__penalty=l1, clf__solver=lbfgs;, score=nan total time=   0.0s\n",
      "[CV 5/15] END clf__C=0.43939705607607904, clf__penalty=l1, clf__solver=lbfgs;, score=nan total time=   0.0s\n",
      "[CV 6/15] END clf__C=0.43939705607607904, clf__penalty=l1, clf__solver=lbfgs;, score=nan total time=   0.0s\n",
      "[CV 7/15] END clf__C=0.43939705607607904, clf__penalty=l1, clf__solver=lbfgs;, score=nan total time=   0.0s\n",
      "[CV 8/15] END clf__C=0.43939705607607904, clf__penalty=l1, clf__solver=lbfgs;, score=nan total time=   0.0s\n",
      "[CV 9/15] END clf__C=0.43939705607607904, clf__penalty=l1, clf__solver=lbfgs;, score=nan total time=   0.0s\n",
      "[CV 10/15] END clf__C=0.43939705607607904, clf__penalty=l1, clf__solver=lbfgs;, score=nan total time=   0.0s\n",
      "[CV 11/15] END clf__C=0.43939705607607904, clf__penalty=l1, clf__solver=lbfgs;, score=nan total time=   0.0s\n",
      "[CV 12/15] END clf__C=0.43939705607607904, clf__penalty=l1, clf__solver=lbfgs;, score=nan total time=   0.0s\n",
      "[CV 13/15] END clf__C=0.43939705607607904, clf__penalty=l1, clf__solver=lbfgs;, score=nan total time=   0.0s\n",
      "[CV 14/15] END clf__C=0.43939705607607904, clf__penalty=l1, clf__solver=lbfgs;, score=nan total time=   0.0s\n",
      "[CV 15/15] END clf__C=0.43939705607607904, clf__penalty=l1, clf__solver=lbfgs;, score=nan total time=   0.0s\n",
      "[CV 1/15] END clf__C=0.43939705607607904, clf__penalty=l1, clf__solver=liblinear;, score=0.663 total time=   0.5s\n",
      "[CV 2/15] END clf__C=0.43939705607607904, clf__penalty=l1, clf__solver=liblinear;, score=0.623 total time=   0.4s\n",
      "[CV 3/15] END clf__C=0.43939705607607904, clf__penalty=l1, clf__solver=liblinear;, score=0.631 total time=   0.6s\n",
      "[CV 4/15] END clf__C=0.43939705607607904, clf__penalty=l1, clf__solver=liblinear;, score=0.598 total time=   0.4s\n",
      "[CV 5/15] END clf__C=0.43939705607607904, clf__penalty=l1, clf__solver=liblinear;, score=0.592 total time=   0.4s\n",
      "[CV 6/15] END clf__C=0.43939705607607904, clf__penalty=l1, clf__solver=liblinear;, score=0.564 total time=   0.5s\n",
      "[CV 7/15] END clf__C=0.43939705607607904, clf__penalty=l1, clf__solver=liblinear;, score=0.652 total time=   0.5s\n",
      "[CV 8/15] END clf__C=0.43939705607607904, clf__penalty=l1, clf__solver=liblinear;, score=0.669 total time=   0.4s\n",
      "[CV 9/15] END clf__C=0.43939705607607904, clf__penalty=l1, clf__solver=liblinear;, score=0.599 total time=   0.5s\n",
      "[CV 10/15] END clf__C=0.43939705607607904, clf__penalty=l1, clf__solver=liblinear;, score=0.633 total time=   0.4s\n",
      "[CV 11/15] END clf__C=0.43939705607607904, clf__penalty=l1, clf__solver=liblinear;, score=0.620 total time=   0.5s\n",
      "[CV 12/15] END clf__C=0.43939705607607904, clf__penalty=l1, clf__solver=liblinear;, score=0.575 total time=   0.4s\n",
      "[CV 13/15] END clf__C=0.43939705607607904, clf__penalty=l1, clf__solver=liblinear;, score=0.622 total time=   0.5s\n",
      "[CV 14/15] END clf__C=0.43939705607607904, clf__penalty=l1, clf__solver=liblinear;, score=0.653 total time=   0.5s\n",
      "[CV 15/15] END clf__C=0.43939705607607904, clf__penalty=l1, clf__solver=liblinear;, score=0.683 total time=   0.6s\n",
      "[CV 1/15] END clf__C=0.43939705607607904, clf__penalty=l1, clf__solver=sag;, score=nan total time=   0.0s\n",
      "[CV 2/15] END clf__C=0.43939705607607904, clf__penalty=l1, clf__solver=sag;, score=nan total time=   0.0s\n",
      "[CV 3/15] END clf__C=0.43939705607607904, clf__penalty=l1, clf__solver=sag;, score=nan total time=   0.0s\n",
      "[CV 4/15] END clf__C=0.43939705607607904, clf__penalty=l1, clf__solver=sag;, score=nan total time=   0.0s\n",
      "[CV 5/15] END clf__C=0.43939705607607904, clf__penalty=l1, clf__solver=sag;, score=nan total time=   0.0s\n",
      "[CV 6/15] END clf__C=0.43939705607607904, clf__penalty=l1, clf__solver=sag;, score=nan total time=   0.0s\n",
      "[CV 7/15] END clf__C=0.43939705607607904, clf__penalty=l1, clf__solver=sag;, score=nan total time=   0.0s\n",
      "[CV 8/15] END clf__C=0.43939705607607904, clf__penalty=l1, clf__solver=sag;, score=nan total time=   0.0s\n",
      "[CV 9/15] END clf__C=0.43939705607607904, clf__penalty=l1, clf__solver=sag;, score=nan total time=   0.0s\n",
      "[CV 10/15] END clf__C=0.43939705607607904, clf__penalty=l1, clf__solver=sag;, score=nan total time=   0.0s\n",
      "[CV 11/15] END clf__C=0.43939705607607904, clf__penalty=l1, clf__solver=sag;, score=nan total time=   0.0s\n",
      "[CV 12/15] END clf__C=0.43939705607607904, clf__penalty=l1, clf__solver=sag;, score=nan total time=   0.0s\n",
      "[CV 13/15] END clf__C=0.43939705607607904, clf__penalty=l1, clf__solver=sag;, score=nan total time=   0.0s\n",
      "[CV 14/15] END clf__C=0.43939705607607904, clf__penalty=l1, clf__solver=sag;, score=nan total time=   0.0s\n",
      "[CV 15/15] END clf__C=0.43939705607607904, clf__penalty=l1, clf__solver=sag;, score=nan total time=   0.0s\n",
      "[CV 1/15] END clf__C=0.43939705607607904, clf__penalty=l2, clf__solver=lbfgs;, score=0.639 total time=   0.2s\n",
      "[CV 2/15] END clf__C=0.43939705607607904, clf__penalty=l2, clf__solver=lbfgs;, score=0.626 total time=   0.2s\n",
      "[CV 3/15] END clf__C=0.43939705607607904, clf__penalty=l2, clf__solver=lbfgs;, score=0.633 total time=   0.2s\n",
      "[CV 4/15] END clf__C=0.43939705607607904, clf__penalty=l2, clf__solver=lbfgs;, score=0.573 total time=   0.2s\n",
      "[CV 5/15] END clf__C=0.43939705607607904, clf__penalty=l2, clf__solver=lbfgs;, score=0.579 total time=   0.2s\n",
      "[CV 6/15] END clf__C=0.43939705607607904, clf__penalty=l2, clf__solver=lbfgs;, score=0.549 total time=   0.2s\n",
      "[CV 7/15] END clf__C=0.43939705607607904, clf__penalty=l2, clf__solver=lbfgs;, score=0.644 total time=   0.2s\n",
      "[CV 8/15] END clf__C=0.43939705607607904, clf__penalty=l2, clf__solver=lbfgs;, score=0.659 total time=   0.2s\n",
      "[CV 9/15] END clf__C=0.43939705607607904, clf__penalty=l2, clf__solver=lbfgs;, score=0.585 total time=   0.2s\n",
      "[CV 10/15] END clf__C=0.43939705607607904, clf__penalty=l2, clf__solver=lbfgs;, score=0.613 total time=   0.2s\n",
      "[CV 11/15] END clf__C=0.43939705607607904, clf__penalty=l2, clf__solver=lbfgs;, score=0.582 total time=   0.2s\n",
      "[CV 12/15] END clf__C=0.43939705607607904, clf__penalty=l2, clf__solver=lbfgs;, score=0.585 total time=   0.2s\n",
      "[CV 13/15] END clf__C=0.43939705607607904, clf__penalty=l2, clf__solver=lbfgs;, score=0.633 total time=   0.2s\n",
      "[CV 14/15] END clf__C=0.43939705607607904, clf__penalty=l2, clf__solver=lbfgs;, score=0.636 total time=   0.2s\n",
      "[CV 15/15] END clf__C=0.43939705607607904, clf__penalty=l2, clf__solver=lbfgs;, score=0.668 total time=   0.2s\n",
      "[CV 1/15] END clf__C=0.43939705607607904, clf__penalty=l2, clf__solver=liblinear;, score=0.649 total time=   0.1s\n",
      "[CV 2/15] END clf__C=0.43939705607607904, clf__penalty=l2, clf__solver=liblinear;, score=0.621 total time=   0.1s\n",
      "[CV 3/15] END clf__C=0.43939705607607904, clf__penalty=l2, clf__solver=liblinear;, score=0.624 total time=   0.1s\n",
      "[CV 4/15] END clf__C=0.43939705607607904, clf__penalty=l2, clf__solver=liblinear;, score=0.588 total time=   0.1s\n",
      "[CV 5/15] END clf__C=0.43939705607607904, clf__penalty=l2, clf__solver=liblinear;, score=0.579 total time=   0.1s\n",
      "[CV 6/15] END clf__C=0.43939705607607904, clf__penalty=l2, clf__solver=liblinear;, score=0.543 total time=   0.1s\n",
      "[CV 7/15] END clf__C=0.43939705607607904, clf__penalty=l2, clf__solver=liblinear;, score=0.652 total time=   0.1s\n",
      "[CV 8/15] END clf__C=0.43939705607607904, clf__penalty=l2, clf__solver=liblinear;, score=0.659 total time=   0.1s\n",
      "[CV 9/15] END clf__C=0.43939705607607904, clf__penalty=l2, clf__solver=liblinear;, score=0.583 total time=   0.1s\n",
      "[CV 10/15] END clf__C=0.43939705607607904, clf__penalty=l2, clf__solver=liblinear;, score=0.623 total time=   0.1s\n",
      "[CV 11/15] END clf__C=0.43939705607607904, clf__penalty=l2, clf__solver=liblinear;, score=0.592 total time=   0.1s\n",
      "[CV 12/15] END clf__C=0.43939705607607904, clf__penalty=l2, clf__solver=liblinear;, score=0.585 total time=   0.1s\n",
      "[CV 13/15] END clf__C=0.43939705607607904, clf__penalty=l2, clf__solver=liblinear;, score=0.631 total time=   0.1s\n",
      "[CV 14/15] END clf__C=0.43939705607607904, clf__penalty=l2, clf__solver=liblinear;, score=0.629 total time=   0.1s\n"
     ]
    },
    {
     "name": "stdout",
     "output_type": "stream",
     "text": [
      "[CV 15/15] END clf__C=0.43939705607607904, clf__penalty=l2, clf__solver=liblinear;, score=0.673 total time=   0.1s\n",
      "[CV 1/15] END clf__C=0.43939705607607904, clf__penalty=l2, clf__solver=sag;, score=0.639 total time=   0.3s\n",
      "[CV 2/15] END clf__C=0.43939705607607904, clf__penalty=l2, clf__solver=sag;, score=0.626 total time=   0.3s\n",
      "[CV 3/15] END clf__C=0.43939705607607904, clf__penalty=l2, clf__solver=sag;, score=0.633 total time=   0.3s\n",
      "[CV 4/15] END clf__C=0.43939705607607904, clf__penalty=l2, clf__solver=sag;, score=0.573 total time=   0.3s\n",
      "[CV 5/15] END clf__C=0.43939705607607904, clf__penalty=l2, clf__solver=sag;, score=0.579 total time=   0.4s\n",
      "[CV 6/15] END clf__C=0.43939705607607904, clf__penalty=l2, clf__solver=sag;, score=0.549 total time=   0.4s\n",
      "[CV 7/15] END clf__C=0.43939705607607904, clf__penalty=l2, clf__solver=sag;, score=0.644 total time=   0.4s\n",
      "[CV 8/15] END clf__C=0.43939705607607904, clf__penalty=l2, clf__solver=sag;, score=0.659 total time=   0.4s\n",
      "[CV 9/15] END clf__C=0.43939705607607904, clf__penalty=l2, clf__solver=sag;, score=0.585 total time=   0.4s\n",
      "[CV 10/15] END clf__C=0.43939705607607904, clf__penalty=l2, clf__solver=sag;, score=0.613 total time=   0.4s\n",
      "[CV 11/15] END clf__C=0.43939705607607904, clf__penalty=l2, clf__solver=sag;, score=0.582 total time=   0.4s\n",
      "[CV 12/15] END clf__C=0.43939705607607904, clf__penalty=l2, clf__solver=sag;, score=0.585 total time=   0.3s\n",
      "[CV 13/15] END clf__C=0.43939705607607904, clf__penalty=l2, clf__solver=sag;, score=0.633 total time=   0.3s\n",
      "[CV 14/15] END clf__C=0.43939705607607904, clf__penalty=l2, clf__solver=sag;, score=0.636 total time=   0.3s\n",
      "[CV 15/15] END clf__C=0.43939705607607904, clf__penalty=l2, clf__solver=sag;, score=0.668 total time=   0.3s\n"
     ]
    },
    {
     "name": "stderr",
     "output_type": "stream",
     "text": [
      "/Users/guy/miniforge3/envs/.venv/lib/python3.9/site-packages/sklearn/linear_model/_logistic.py:1483: UserWarning: Setting penalty='none' will ignore the C and l1_ratio parameters\n",
      "  warnings.warn(\n"
     ]
    },
    {
     "name": "stdout",
     "output_type": "stream",
     "text": [
      "[CV 1/15] END clf__C=0.43939705607607904, clf__penalty=none, clf__solver=lbfgs;, score=0.635 total time=   0.3s\n"
     ]
    },
    {
     "name": "stderr",
     "output_type": "stream",
     "text": [
      "/Users/guy/miniforge3/envs/.venv/lib/python3.9/site-packages/sklearn/linear_model/_logistic.py:1483: UserWarning: Setting penalty='none' will ignore the C and l1_ratio parameters\n",
      "  warnings.warn(\n"
     ]
    },
    {
     "name": "stdout",
     "output_type": "stream",
     "text": [
      "[CV 2/15] END clf__C=0.43939705607607904, clf__penalty=none, clf__solver=lbfgs;, score=0.619 total time=   0.4s\n"
     ]
    },
    {
     "name": "stderr",
     "output_type": "stream",
     "text": [
      "/Users/guy/miniforge3/envs/.venv/lib/python3.9/site-packages/sklearn/linear_model/_logistic.py:1483: UserWarning: Setting penalty='none' will ignore the C and l1_ratio parameters\n",
      "  warnings.warn(\n"
     ]
    },
    {
     "name": "stdout",
     "output_type": "stream",
     "text": [
      "[CV 3/15] END clf__C=0.43939705607607904, clf__penalty=none, clf__solver=lbfgs;, score=0.640 total time=   0.4s\n"
     ]
    },
    {
     "name": "stderr",
     "output_type": "stream",
     "text": [
      "/Users/guy/miniforge3/envs/.venv/lib/python3.9/site-packages/sklearn/linear_model/_logistic.py:1483: UserWarning: Setting penalty='none' will ignore the C and l1_ratio parameters\n",
      "  warnings.warn(\n"
     ]
    },
    {
     "name": "stdout",
     "output_type": "stream",
     "text": [
      "[CV 4/15] END clf__C=0.43939705607607904, clf__penalty=none, clf__solver=lbfgs;, score=0.565 total time=   0.4s\n"
     ]
    },
    {
     "name": "stderr",
     "output_type": "stream",
     "text": [
      "/Users/guy/miniforge3/envs/.venv/lib/python3.9/site-packages/sklearn/linear_model/_logistic.py:1483: UserWarning: Setting penalty='none' will ignore the C and l1_ratio parameters\n",
      "  warnings.warn(\n"
     ]
    },
    {
     "name": "stdout",
     "output_type": "stream",
     "text": [
      "[CV 5/15] END clf__C=0.43939705607607904, clf__penalty=none, clf__solver=lbfgs;, score=0.582 total time=   0.4s\n"
     ]
    },
    {
     "name": "stderr",
     "output_type": "stream",
     "text": [
      "/Users/guy/miniforge3/envs/.venv/lib/python3.9/site-packages/sklearn/linear_model/_logistic.py:1483: UserWarning: Setting penalty='none' will ignore the C and l1_ratio parameters\n",
      "  warnings.warn(\n"
     ]
    },
    {
     "name": "stdout",
     "output_type": "stream",
     "text": [
      "[CV 6/15] END clf__C=0.43939705607607904, clf__penalty=none, clf__solver=lbfgs;, score=0.554 total time=   0.4s\n"
     ]
    },
    {
     "name": "stderr",
     "output_type": "stream",
     "text": [
      "/Users/guy/miniforge3/envs/.venv/lib/python3.9/site-packages/sklearn/linear_model/_logistic.py:1483: UserWarning: Setting penalty='none' will ignore the C and l1_ratio parameters\n",
      "  warnings.warn(\n"
     ]
    },
    {
     "name": "stdout",
     "output_type": "stream",
     "text": [
      "[CV 7/15] END clf__C=0.43939705607607904, clf__penalty=none, clf__solver=lbfgs;, score=0.649 total time=   0.4s\n"
     ]
    },
    {
     "name": "stderr",
     "output_type": "stream",
     "text": [
      "/Users/guy/miniforge3/envs/.venv/lib/python3.9/site-packages/sklearn/linear_model/_logistic.py:1483: UserWarning: Setting penalty='none' will ignore the C and l1_ratio parameters\n",
      "  warnings.warn(\n"
     ]
    },
    {
     "name": "stdout",
     "output_type": "stream",
     "text": [
      "[CV 8/15] END clf__C=0.43939705607607904, clf__penalty=none, clf__solver=lbfgs;, score=0.653 total time=   0.4s\n"
     ]
    },
    {
     "name": "stderr",
     "output_type": "stream",
     "text": [
      "/Users/guy/miniforge3/envs/.venv/lib/python3.9/site-packages/sklearn/linear_model/_logistic.py:1483: UserWarning: Setting penalty='none' will ignore the C and l1_ratio parameters\n",
      "  warnings.warn(\n"
     ]
    },
    {
     "name": "stdout",
     "output_type": "stream",
     "text": [
      "[CV 9/15] END clf__C=0.43939705607607904, clf__penalty=none, clf__solver=lbfgs;, score=0.584 total time=   0.4s\n"
     ]
    },
    {
     "name": "stderr",
     "output_type": "stream",
     "text": [
      "/Users/guy/miniforge3/envs/.venv/lib/python3.9/site-packages/sklearn/linear_model/_logistic.py:1483: UserWarning: Setting penalty='none' will ignore the C and l1_ratio parameters\n",
      "  warnings.warn(\n"
     ]
    },
    {
     "name": "stdout",
     "output_type": "stream",
     "text": [
      "[CV 10/15] END clf__C=0.43939705607607904, clf__penalty=none, clf__solver=lbfgs;, score=0.623 total time=   0.4s\n"
     ]
    },
    {
     "name": "stderr",
     "output_type": "stream",
     "text": [
      "/Users/guy/miniforge3/envs/.venv/lib/python3.9/site-packages/sklearn/linear_model/_logistic.py:1483: UserWarning: Setting penalty='none' will ignore the C and l1_ratio parameters\n",
      "  warnings.warn(\n"
     ]
    },
    {
     "name": "stdout",
     "output_type": "stream",
     "text": [
      "[CV 11/15] END clf__C=0.43939705607607904, clf__penalty=none, clf__solver=lbfgs;, score=0.576 total time=   0.4s\n"
     ]
    },
    {
     "name": "stderr",
     "output_type": "stream",
     "text": [
      "/Users/guy/miniforge3/envs/.venv/lib/python3.9/site-packages/sklearn/linear_model/_logistic.py:1483: UserWarning: Setting penalty='none' will ignore the C and l1_ratio parameters\n",
      "  warnings.warn(\n"
     ]
    },
    {
     "name": "stdout",
     "output_type": "stream",
     "text": [
      "[CV 12/15] END clf__C=0.43939705607607904, clf__penalty=none, clf__solver=lbfgs;, score=0.586 total time=   0.4s\n"
     ]
    },
    {
     "name": "stderr",
     "output_type": "stream",
     "text": [
      "/Users/guy/miniforge3/envs/.venv/lib/python3.9/site-packages/sklearn/linear_model/_logistic.py:1483: UserWarning: Setting penalty='none' will ignore the C and l1_ratio parameters\n",
      "  warnings.warn(\n"
     ]
    },
    {
     "name": "stdout",
     "output_type": "stream",
     "text": [
      "[CV 13/15] END clf__C=0.43939705607607904, clf__penalty=none, clf__solver=lbfgs;, score=0.643 total time=   0.4s\n"
     ]
    },
    {
     "name": "stderr",
     "output_type": "stream",
     "text": [
      "/Users/guy/miniforge3/envs/.venv/lib/python3.9/site-packages/sklearn/linear_model/_logistic.py:1483: UserWarning: Setting penalty='none' will ignore the C and l1_ratio parameters\n",
      "  warnings.warn(\n"
     ]
    },
    {
     "name": "stdout",
     "output_type": "stream",
     "text": [
      "[CV 14/15] END clf__C=0.43939705607607904, clf__penalty=none, clf__solver=lbfgs;, score=0.633 total time=   0.4s\n"
     ]
    },
    {
     "name": "stderr",
     "output_type": "stream",
     "text": [
      "/Users/guy/miniforge3/envs/.venv/lib/python3.9/site-packages/sklearn/linear_model/_logistic.py:1483: UserWarning: Setting penalty='none' will ignore the C and l1_ratio parameters\n",
      "  warnings.warn(\n"
     ]
    },
    {
     "name": "stdout",
     "output_type": "stream",
     "text": [
      "[CV 15/15] END clf__C=0.43939705607607904, clf__penalty=none, clf__solver=lbfgs;, score=0.668 total time=   0.3s\n",
      "[CV 1/15] END clf__C=0.43939705607607904, clf__penalty=none, clf__solver=liblinear;, score=nan total time=   0.0s\n",
      "[CV 2/15] END clf__C=0.43939705607607904, clf__penalty=none, clf__solver=liblinear;, score=nan total time=   0.0s\n",
      "[CV 3/15] END clf__C=0.43939705607607904, clf__penalty=none, clf__solver=liblinear;, score=nan total time=   0.0s\n",
      "[CV 4/15] END clf__C=0.43939705607607904, clf__penalty=none, clf__solver=liblinear;, score=nan total time=   0.0s\n",
      "[CV 5/15] END clf__C=0.43939705607607904, clf__penalty=none, clf__solver=liblinear;, score=nan total time=   0.0s\n",
      "[CV 6/15] END clf__C=0.43939705607607904, clf__penalty=none, clf__solver=liblinear;, score=nan total time=   0.0s\n",
      "[CV 7/15] END clf__C=0.43939705607607904, clf__penalty=none, clf__solver=liblinear;, score=nan total time=   0.0s\n",
      "[CV 8/15] END clf__C=0.43939705607607904, clf__penalty=none, clf__solver=liblinear;, score=nan total time=   0.0s\n",
      "[CV 9/15] END clf__C=0.43939705607607904, clf__penalty=none, clf__solver=liblinear;, score=nan total time=   0.0s\n",
      "[CV 10/15] END clf__C=0.43939705607607904, clf__penalty=none, clf__solver=liblinear;, score=nan total time=   0.0s\n",
      "[CV 11/15] END clf__C=0.43939705607607904, clf__penalty=none, clf__solver=liblinear;, score=nan total time=   0.0s\n",
      "[CV 12/15] END clf__C=0.43939705607607904, clf__penalty=none, clf__solver=liblinear;, score=nan total time=   0.0s\n",
      "[CV 13/15] END clf__C=0.43939705607607904, clf__penalty=none, clf__solver=liblinear;, score=nan total time=   0.0s\n",
      "[CV 14/15] END clf__C=0.43939705607607904, clf__penalty=none, clf__solver=liblinear;, score=nan total time=   0.0s\n",
      "[CV 15/15] END clf__C=0.43939705607607904, clf__penalty=none, clf__solver=liblinear;, score=nan total time=   0.0s\n"
     ]
    },
    {
     "name": "stderr",
     "output_type": "stream",
     "text": [
      "/Users/guy/miniforge3/envs/.venv/lib/python3.9/site-packages/sklearn/linear_model/_logistic.py:1483: UserWarning: Setting penalty='none' will ignore the C and l1_ratio parameters\n",
      "  warnings.warn(\n"
     ]
    },
    {
     "name": "stdout",
     "output_type": "stream",
     "text": [
      "[CV 1/15] END clf__C=0.43939705607607904, clf__penalty=none, clf__solver=sag;, score=0.635 total time=   0.9s\n"
     ]
    },
    {
     "name": "stderr",
     "output_type": "stream",
     "text": [
      "/Users/guy/miniforge3/envs/.venv/lib/python3.9/site-packages/sklearn/linear_model/_logistic.py:1483: UserWarning: Setting penalty='none' will ignore the C and l1_ratio parameters\n",
      "  warnings.warn(\n"
     ]
    },
    {
     "name": "stdout",
     "output_type": "stream",
     "text": [
      "[CV 2/15] END clf__C=0.43939705607607904, clf__penalty=none, clf__solver=sag;, score=0.619 total time=   1.6s\n"
     ]
    },
    {
     "name": "stderr",
     "output_type": "stream",
     "text": [
      "/Users/guy/miniforge3/envs/.venv/lib/python3.9/site-packages/sklearn/linear_model/_logistic.py:1483: UserWarning: Setting penalty='none' will ignore the C and l1_ratio parameters\n",
      "  warnings.warn(\n"
     ]
    },
    {
     "name": "stdout",
     "output_type": "stream",
     "text": [
      "[CV 3/15] END clf__C=0.43939705607607904, clf__penalty=none, clf__solver=sag;, score=0.640 total time=   1.6s\n"
     ]
    },
    {
     "name": "stderr",
     "output_type": "stream",
     "text": [
      "/Users/guy/miniforge3/envs/.venv/lib/python3.9/site-packages/sklearn/linear_model/_logistic.py:1483: UserWarning: Setting penalty='none' will ignore the C and l1_ratio parameters\n",
      "  warnings.warn(\n"
     ]
    },
    {
     "name": "stdout",
     "output_type": "stream",
     "text": [
      "[CV 4/15] END clf__C=0.43939705607607904, clf__penalty=none, clf__solver=sag;, score=0.565 total time=   1.5s\n"
     ]
    },
    {
     "name": "stderr",
     "output_type": "stream",
     "text": [
      "/Users/guy/miniforge3/envs/.venv/lib/python3.9/site-packages/sklearn/linear_model/_logistic.py:1483: UserWarning: Setting penalty='none' will ignore the C and l1_ratio parameters\n",
      "  warnings.warn(\n"
     ]
    },
    {
     "name": "stdout",
     "output_type": "stream",
     "text": [
      "[CV 5/15] END clf__C=0.43939705607607904, clf__penalty=none, clf__solver=sag;, score=0.582 total time=   1.4s\n"
     ]
    },
    {
     "name": "stderr",
     "output_type": "stream",
     "text": [
      "/Users/guy/miniforge3/envs/.venv/lib/python3.9/site-packages/sklearn/linear_model/_logistic.py:1483: UserWarning: Setting penalty='none' will ignore the C and l1_ratio parameters\n",
      "  warnings.warn(\n"
     ]
    },
    {
     "name": "stdout",
     "output_type": "stream",
     "text": [
      "[CV 6/15] END clf__C=0.43939705607607904, clf__penalty=none, clf__solver=sag;, score=0.554 total time=   1.6s\n"
     ]
    },
    {
     "name": "stderr",
     "output_type": "stream",
     "text": [
      "/Users/guy/miniforge3/envs/.venv/lib/python3.9/site-packages/sklearn/linear_model/_logistic.py:1483: UserWarning: Setting penalty='none' will ignore the C and l1_ratio parameters\n",
      "  warnings.warn(\n"
     ]
    },
    {
     "name": "stdout",
     "output_type": "stream",
     "text": [
      "[CV 7/15] END clf__C=0.43939705607607904, clf__penalty=none, clf__solver=sag;, score=0.649 total time=   1.1s\n"
     ]
    },
    {
     "name": "stderr",
     "output_type": "stream",
     "text": [
      "/Users/guy/miniforge3/envs/.venv/lib/python3.9/site-packages/sklearn/linear_model/_logistic.py:1483: UserWarning: Setting penalty='none' will ignore the C and l1_ratio parameters\n",
      "  warnings.warn(\n"
     ]
    },
    {
     "name": "stdout",
     "output_type": "stream",
     "text": [
      "[CV 8/15] END clf__C=0.43939705607607904, clf__penalty=none, clf__solver=sag;, score=0.653 total time=   1.6s\n"
     ]
    },
    {
     "name": "stderr",
     "output_type": "stream",
     "text": [
      "/Users/guy/miniforge3/envs/.venv/lib/python3.9/site-packages/sklearn/linear_model/_logistic.py:1483: UserWarning: Setting penalty='none' will ignore the C and l1_ratio parameters\n",
      "  warnings.warn(\n"
     ]
    },
    {
     "name": "stdout",
     "output_type": "stream",
     "text": [
      "[CV 9/15] END clf__C=0.43939705607607904, clf__penalty=none, clf__solver=sag;, score=0.584 total time=   1.6s\n"
     ]
    },
    {
     "name": "stderr",
     "output_type": "stream",
     "text": [
      "/Users/guy/miniforge3/envs/.venv/lib/python3.9/site-packages/sklearn/linear_model/_logistic.py:1483: UserWarning: Setting penalty='none' will ignore the C and l1_ratio parameters\n",
      "  warnings.warn(\n"
     ]
    },
    {
     "name": "stdout",
     "output_type": "stream",
     "text": [
      "[CV 10/15] END clf__C=0.43939705607607904, clf__penalty=none, clf__solver=sag;, score=0.622 total time=   1.4s\n"
     ]
    },
    {
     "name": "stderr",
     "output_type": "stream",
     "text": [
      "/Users/guy/miniforge3/envs/.venv/lib/python3.9/site-packages/sklearn/linear_model/_logistic.py:1483: UserWarning: Setting penalty='none' will ignore the C and l1_ratio parameters\n",
      "  warnings.warn(\n"
     ]
    },
    {
     "name": "stdout",
     "output_type": "stream",
     "text": [
      "[CV 11/15] END clf__C=0.43939705607607904, clf__penalty=none, clf__solver=sag;, score=0.576 total time=   1.4s\n"
     ]
    },
    {
     "name": "stderr",
     "output_type": "stream",
     "text": [
      "/Users/guy/miniforge3/envs/.venv/lib/python3.9/site-packages/sklearn/linear_model/_logistic.py:1483: UserWarning: Setting penalty='none' will ignore the C and l1_ratio parameters\n",
      "  warnings.warn(\n"
     ]
    },
    {
     "name": "stdout",
     "output_type": "stream",
     "text": [
      "[CV 12/15] END clf__C=0.43939705607607904, clf__penalty=none, clf__solver=sag;, score=0.586 total time=   1.6s\n"
     ]
    },
    {
     "name": "stderr",
     "output_type": "stream",
     "text": [
      "/Users/guy/miniforge3/envs/.venv/lib/python3.9/site-packages/sklearn/linear_model/_logistic.py:1483: UserWarning: Setting penalty='none' will ignore the C and l1_ratio parameters\n",
      "  warnings.warn(\n"
     ]
    },
    {
     "name": "stdout",
     "output_type": "stream",
     "text": [
      "[CV 13/15] END clf__C=0.43939705607607904, clf__penalty=none, clf__solver=sag;, score=0.643 total time=   1.6s\n"
     ]
    },
    {
     "name": "stderr",
     "output_type": "stream",
     "text": [
      "/Users/guy/miniforge3/envs/.venv/lib/python3.9/site-packages/sklearn/linear_model/_logistic.py:1483: UserWarning: Setting penalty='none' will ignore the C and l1_ratio parameters\n",
      "  warnings.warn(\n"
     ]
    },
    {
     "name": "stdout",
     "output_type": "stream",
     "text": [
      "[CV 14/15] END clf__C=0.43939705607607904, clf__penalty=none, clf__solver=sag;, score=0.633 total time=   1.6s\n"
     ]
    },
    {
     "name": "stderr",
     "output_type": "stream",
     "text": [
      "/Users/guy/miniforge3/envs/.venv/lib/python3.9/site-packages/sklearn/linear_model/_logistic.py:1483: UserWarning: Setting penalty='none' will ignore the C and l1_ratio parameters\n",
      "  warnings.warn(\n"
     ]
    },
    {
     "name": "stdout",
     "output_type": "stream",
     "text": [
      "[CV 15/15] END clf__C=0.43939705607607904, clf__penalty=none, clf__solver=sag;, score=0.668 total time=   0.9s\n",
      "[CV 1/15] END clf__C=0.517947467923121, clf__penalty=l1, clf__solver=lbfgs;, score=nan total time=   0.0s\n",
      "[CV 2/15] END clf__C=0.517947467923121, clf__penalty=l1, clf__solver=lbfgs;, score=nan total time=   0.0s\n",
      "[CV 3/15] END clf__C=0.517947467923121, clf__penalty=l1, clf__solver=lbfgs;, score=nan total time=   0.0s\n",
      "[CV 4/15] END clf__C=0.517947467923121, clf__penalty=l1, clf__solver=lbfgs;, score=nan total time=   0.0s\n",
      "[CV 5/15] END clf__C=0.517947467923121, clf__penalty=l1, clf__solver=lbfgs;, score=nan total time=   0.0s\n",
      "[CV 6/15] END clf__C=0.517947467923121, clf__penalty=l1, clf__solver=lbfgs;, score=nan total time=   0.0s\n",
      "[CV 7/15] END clf__C=0.517947467923121, clf__penalty=l1, clf__solver=lbfgs;, score=nan total time=   0.0s\n",
      "[CV 8/15] END clf__C=0.517947467923121, clf__penalty=l1, clf__solver=lbfgs;, score=nan total time=   0.0s\n",
      "[CV 9/15] END clf__C=0.517947467923121, clf__penalty=l1, clf__solver=lbfgs;, score=nan total time=   0.0s\n",
      "[CV 10/15] END clf__C=0.517947467923121, clf__penalty=l1, clf__solver=lbfgs;, score=nan total time=   0.0s\n",
      "[CV 11/15] END clf__C=0.517947467923121, clf__penalty=l1, clf__solver=lbfgs;, score=nan total time=   0.0s\n",
      "[CV 12/15] END clf__C=0.517947467923121, clf__penalty=l1, clf__solver=lbfgs;, score=nan total time=   0.0s\n",
      "[CV 13/15] END clf__C=0.517947467923121, clf__penalty=l1, clf__solver=lbfgs;, score=nan total time=   0.0s\n",
      "[CV 14/15] END clf__C=0.517947467923121, clf__penalty=l1, clf__solver=lbfgs;, score=nan total time=   0.0s\n",
      "[CV 15/15] END clf__C=0.517947467923121, clf__penalty=l1, clf__solver=lbfgs;, score=nan total time=   0.0s\n",
      "[CV 1/15] END clf__C=0.517947467923121, clf__penalty=l1, clf__solver=liblinear;, score=0.661 total time=   0.6s\n",
      "[CV 2/15] END clf__C=0.517947467923121, clf__penalty=l1, clf__solver=liblinear;, score=0.623 total time=   0.5s\n",
      "[CV 3/15] END clf__C=0.517947467923121, clf__penalty=l1, clf__solver=liblinear;, score=0.630 total time=   0.6s\n",
      "[CV 4/15] END clf__C=0.517947467923121, clf__penalty=l1, clf__solver=liblinear;, score=0.597 total time=   0.7s\n",
      "[CV 5/15] END clf__C=0.517947467923121, clf__penalty=l1, clf__solver=liblinear;, score=0.592 total time=   0.5s\n",
      "[CV 6/15] END clf__C=0.517947467923121, clf__penalty=l1, clf__solver=liblinear;, score=0.562 total time=   0.7s\n",
      "[CV 7/15] END clf__C=0.517947467923121, clf__penalty=l1, clf__solver=liblinear;, score=0.653 total time=   0.6s\n",
      "[CV 8/15] END clf__C=0.517947467923121, clf__penalty=l1, clf__solver=liblinear;, score=0.670 total time=   0.5s\n",
      "[CV 9/15] END clf__C=0.517947467923121, clf__penalty=l1, clf__solver=liblinear;, score=0.595 total time=   0.6s\n",
      "[CV 10/15] END clf__C=0.517947467923121, clf__penalty=l1, clf__solver=liblinear;, score=0.631 total time=   0.6s\n",
      "[CV 11/15] END clf__C=0.517947467923121, clf__penalty=l1, clf__solver=liblinear;, score=0.618 total time=   0.6s\n",
      "[CV 12/15] END clf__C=0.517947467923121, clf__penalty=l1, clf__solver=liblinear;, score=0.578 total time=   0.4s\n",
      "[CV 13/15] END clf__C=0.517947467923121, clf__penalty=l1, clf__solver=liblinear;, score=0.626 total time=   0.5s\n",
      "[CV 14/15] END clf__C=0.517947467923121, clf__penalty=l1, clf__solver=liblinear;, score=0.651 total time=   0.6s\n",
      "[CV 15/15] END clf__C=0.517947467923121, clf__penalty=l1, clf__solver=liblinear;, score=0.684 total time=   0.7s\n",
      "[CV 1/15] END clf__C=0.517947467923121, clf__penalty=l1, clf__solver=sag;, score=nan total time=   0.0s\n",
      "[CV 2/15] END clf__C=0.517947467923121, clf__penalty=l1, clf__solver=sag;, score=nan total time=   0.0s\n",
      "[CV 3/15] END clf__C=0.517947467923121, clf__penalty=l1, clf__solver=sag;, score=nan total time=   0.0s\n",
      "[CV 4/15] END clf__C=0.517947467923121, clf__penalty=l1, clf__solver=sag;, score=nan total time=   0.0s\n",
      "[CV 5/15] END clf__C=0.517947467923121, clf__penalty=l1, clf__solver=sag;, score=nan total time=   0.0s\n",
      "[CV 6/15] END clf__C=0.517947467923121, clf__penalty=l1, clf__solver=sag;, score=nan total time=   0.0s\n",
      "[CV 7/15] END clf__C=0.517947467923121, clf__penalty=l1, clf__solver=sag;, score=nan total time=   0.0s\n",
      "[CV 8/15] END clf__C=0.517947467923121, clf__penalty=l1, clf__solver=sag;, score=nan total time=   0.0s\n",
      "[CV 9/15] END clf__C=0.517947467923121, clf__penalty=l1, clf__solver=sag;, score=nan total time=   0.0s\n",
      "[CV 10/15] END clf__C=0.517947467923121, clf__penalty=l1, clf__solver=sag;, score=nan total time=   0.0s\n",
      "[CV 11/15] END clf__C=0.517947467923121, clf__penalty=l1, clf__solver=sag;, score=nan total time=   0.0s\n",
      "[CV 12/15] END clf__C=0.517947467923121, clf__penalty=l1, clf__solver=sag;, score=nan total time=   0.0s\n",
      "[CV 13/15] END clf__C=0.517947467923121, clf__penalty=l1, clf__solver=sag;, score=nan total time=   0.0s\n",
      "[CV 14/15] END clf__C=0.517947467923121, clf__penalty=l1, clf__solver=sag;, score=nan total time=   0.0s\n",
      "[CV 15/15] END clf__C=0.517947467923121, clf__penalty=l1, clf__solver=sag;, score=nan total time=   0.0s\n",
      "[CV 1/15] END clf__C=0.517947467923121, clf__penalty=l2, clf__solver=lbfgs;, score=0.639 total time=   0.2s\n",
      "[CV 2/15] END clf__C=0.517947467923121, clf__penalty=l2, clf__solver=lbfgs;, score=0.626 total time=   0.2s\n",
      "[CV 3/15] END clf__C=0.517947467923121, clf__penalty=l2, clf__solver=lbfgs;, score=0.633 total time=   0.2s\n",
      "[CV 4/15] END clf__C=0.517947467923121, clf__penalty=l2, clf__solver=lbfgs;, score=0.572 total time=   0.2s\n",
      "[CV 5/15] END clf__C=0.517947467923121, clf__penalty=l2, clf__solver=lbfgs;, score=0.579 total time=   0.2s\n",
      "[CV 6/15] END clf__C=0.517947467923121, clf__penalty=l2, clf__solver=lbfgs;, score=0.549 total time=   0.2s\n",
      "[CV 7/15] END clf__C=0.517947467923121, clf__penalty=l2, clf__solver=lbfgs;, score=0.644 total time=   0.2s\n",
      "[CV 8/15] END clf__C=0.517947467923121, clf__penalty=l2, clf__solver=lbfgs;, score=0.659 total time=   0.2s\n",
      "[CV 9/15] END clf__C=0.517947467923121, clf__penalty=l2, clf__solver=lbfgs;, score=0.585 total time=   0.2s\n",
      "[CV 10/15] END clf__C=0.517947467923121, clf__penalty=l2, clf__solver=lbfgs;, score=0.614 total time=   0.2s\n",
      "[CV 11/15] END clf__C=0.517947467923121, clf__penalty=l2, clf__solver=lbfgs;, score=0.581 total time=   0.2s\n",
      "[CV 12/15] END clf__C=0.517947467923121, clf__penalty=l2, clf__solver=lbfgs;, score=0.585 total time=   0.2s\n",
      "[CV 13/15] END clf__C=0.517947467923121, clf__penalty=l2, clf__solver=lbfgs;, score=0.634 total time=   0.2s\n",
      "[CV 14/15] END clf__C=0.517947467923121, clf__penalty=l2, clf__solver=lbfgs;, score=0.636 total time=   0.2s\n",
      "[CV 15/15] END clf__C=0.517947467923121, clf__penalty=l2, clf__solver=lbfgs;, score=0.669 total time=   0.2s\n",
      "[CV 1/15] END clf__C=0.517947467923121, clf__penalty=l2, clf__solver=liblinear;, score=0.648 total time=   0.1s\n",
      "[CV 2/15] END clf__C=0.517947467923121, clf__penalty=l2, clf__solver=liblinear;, score=0.621 total time=   0.1s\n",
      "[CV 3/15] END clf__C=0.517947467923121, clf__penalty=l2, clf__solver=liblinear;, score=0.625 total time=   0.1s\n",
      "[CV 4/15] END clf__C=0.517947467923121, clf__penalty=l2, clf__solver=liblinear;, score=0.587 total time=   0.1s\n",
      "[CV 5/15] END clf__C=0.517947467923121, clf__penalty=l2, clf__solver=liblinear;, score=0.579 total time=   0.1s\n",
      "[CV 6/15] END clf__C=0.517947467923121, clf__penalty=l2, clf__solver=liblinear;, score=0.544 total time=   0.1s\n",
      "[CV 7/15] END clf__C=0.517947467923121, clf__penalty=l2, clf__solver=liblinear;, score=0.652 total time=   0.1s\n",
      "[CV 8/15] END clf__C=0.517947467923121, clf__penalty=l2, clf__solver=liblinear;, score=0.659 total time=   0.1s\n",
      "[CV 9/15] END clf__C=0.517947467923121, clf__penalty=l2, clf__solver=liblinear;, score=0.583 total time=   0.1s\n",
      "[CV 10/15] END clf__C=0.517947467923121, clf__penalty=l2, clf__solver=liblinear;, score=0.624 total time=   0.1s\n",
      "[CV 11/15] END clf__C=0.517947467923121, clf__penalty=l2, clf__solver=liblinear;, score=0.591 total time=   0.1s\n",
      "[CV 12/15] END clf__C=0.517947467923121, clf__penalty=l2, clf__solver=liblinear;, score=0.585 total time=   0.1s\n",
      "[CV 13/15] END clf__C=0.517947467923121, clf__penalty=l2, clf__solver=liblinear;, score=0.632 total time=   0.1s\n",
      "[CV 14/15] END clf__C=0.517947467923121, clf__penalty=l2, clf__solver=liblinear;, score=0.629 total time=   0.1s\n",
      "[CV 15/15] END clf__C=0.517947467923121, clf__penalty=l2, clf__solver=liblinear;, score=0.673 total time=   0.1s\n"
     ]
    },
    {
     "name": "stdout",
     "output_type": "stream",
     "text": [
      "[CV 1/15] END clf__C=0.517947467923121, clf__penalty=l2, clf__solver=sag;, score=0.639 total time=   0.4s\n",
      "[CV 2/15] END clf__C=0.517947467923121, clf__penalty=l2, clf__solver=sag;, score=0.626 total time=   0.4s\n",
      "[CV 3/15] END clf__C=0.517947467923121, clf__penalty=l2, clf__solver=sag;, score=0.633 total time=   0.3s\n",
      "[CV 4/15] END clf__C=0.517947467923121, clf__penalty=l2, clf__solver=sag;, score=0.572 total time=   0.4s\n",
      "[CV 5/15] END clf__C=0.517947467923121, clf__penalty=l2, clf__solver=sag;, score=0.579 total time=   0.3s\n",
      "[CV 6/15] END clf__C=0.517947467923121, clf__penalty=l2, clf__solver=sag;, score=0.549 total time=   0.3s\n",
      "[CV 7/15] END clf__C=0.517947467923121, clf__penalty=l2, clf__solver=sag;, score=0.644 total time=   0.4s\n",
      "[CV 8/15] END clf__C=0.517947467923121, clf__penalty=l2, clf__solver=sag;, score=0.659 total time=   0.4s\n",
      "[CV 9/15] END clf__C=0.517947467923121, clf__penalty=l2, clf__solver=sag;, score=0.585 total time=   0.3s\n",
      "[CV 10/15] END clf__C=0.517947467923121, clf__penalty=l2, clf__solver=sag;, score=0.614 total time=   0.4s\n",
      "[CV 11/15] END clf__C=0.517947467923121, clf__penalty=l2, clf__solver=sag;, score=0.581 total time=   0.4s\n",
      "[CV 12/15] END clf__C=0.517947467923121, clf__penalty=l2, clf__solver=sag;, score=0.585 total time=   0.3s\n",
      "[CV 13/15] END clf__C=0.517947467923121, clf__penalty=l2, clf__solver=sag;, score=0.634 total time=   0.3s\n",
      "[CV 14/15] END clf__C=0.517947467923121, clf__penalty=l2, clf__solver=sag;, score=0.636 total time=   0.3s\n",
      "[CV 15/15] END clf__C=0.517947467923121, clf__penalty=l2, clf__solver=sag;, score=0.669 total time=   0.4s\n"
     ]
    },
    {
     "name": "stderr",
     "output_type": "stream",
     "text": [
      "/Users/guy/miniforge3/envs/.venv/lib/python3.9/site-packages/sklearn/linear_model/_logistic.py:1483: UserWarning: Setting penalty='none' will ignore the C and l1_ratio parameters\n",
      "  warnings.warn(\n"
     ]
    },
    {
     "name": "stdout",
     "output_type": "stream",
     "text": [
      "[CV 1/15] END clf__C=0.517947467923121, clf__penalty=none, clf__solver=lbfgs;, score=0.635 total time=   0.3s\n"
     ]
    },
    {
     "name": "stderr",
     "output_type": "stream",
     "text": [
      "/Users/guy/miniforge3/envs/.venv/lib/python3.9/site-packages/sklearn/linear_model/_logistic.py:1483: UserWarning: Setting penalty='none' will ignore the C and l1_ratio parameters\n",
      "  warnings.warn(\n"
     ]
    },
    {
     "name": "stdout",
     "output_type": "stream",
     "text": [
      "[CV 2/15] END clf__C=0.517947467923121, clf__penalty=none, clf__solver=lbfgs;, score=0.619 total time=   0.4s\n"
     ]
    },
    {
     "name": "stderr",
     "output_type": "stream",
     "text": [
      "/Users/guy/miniforge3/envs/.venv/lib/python3.9/site-packages/sklearn/linear_model/_logistic.py:1483: UserWarning: Setting penalty='none' will ignore the C and l1_ratio parameters\n",
      "  warnings.warn(\n"
     ]
    },
    {
     "name": "stdout",
     "output_type": "stream",
     "text": [
      "[CV 3/15] END clf__C=0.517947467923121, clf__penalty=none, clf__solver=lbfgs;, score=0.640 total time=   0.4s\n"
     ]
    },
    {
     "name": "stderr",
     "output_type": "stream",
     "text": [
      "/Users/guy/miniforge3/envs/.venv/lib/python3.9/site-packages/sklearn/linear_model/_logistic.py:1483: UserWarning: Setting penalty='none' will ignore the C and l1_ratio parameters\n",
      "  warnings.warn(\n"
     ]
    },
    {
     "name": "stdout",
     "output_type": "stream",
     "text": [
      "[CV 4/15] END clf__C=0.517947467923121, clf__penalty=none, clf__solver=lbfgs;, score=0.565 total time=   0.4s\n"
     ]
    },
    {
     "name": "stderr",
     "output_type": "stream",
     "text": [
      "/Users/guy/miniforge3/envs/.venv/lib/python3.9/site-packages/sklearn/linear_model/_logistic.py:1483: UserWarning: Setting penalty='none' will ignore the C and l1_ratio parameters\n",
      "  warnings.warn(\n"
     ]
    },
    {
     "name": "stdout",
     "output_type": "stream",
     "text": [
      "[CV 5/15] END clf__C=0.517947467923121, clf__penalty=none, clf__solver=lbfgs;, score=0.582 total time=   0.4s\n"
     ]
    },
    {
     "name": "stderr",
     "output_type": "stream",
     "text": [
      "/Users/guy/miniforge3/envs/.venv/lib/python3.9/site-packages/sklearn/linear_model/_logistic.py:1483: UserWarning: Setting penalty='none' will ignore the C and l1_ratio parameters\n",
      "  warnings.warn(\n"
     ]
    },
    {
     "name": "stdout",
     "output_type": "stream",
     "text": [
      "[CV 6/15] END clf__C=0.517947467923121, clf__penalty=none, clf__solver=lbfgs;, score=0.554 total time=   0.4s\n"
     ]
    },
    {
     "name": "stderr",
     "output_type": "stream",
     "text": [
      "/Users/guy/miniforge3/envs/.venv/lib/python3.9/site-packages/sklearn/linear_model/_logistic.py:1483: UserWarning: Setting penalty='none' will ignore the C and l1_ratio parameters\n",
      "  warnings.warn(\n"
     ]
    },
    {
     "name": "stdout",
     "output_type": "stream",
     "text": [
      "[CV 7/15] END clf__C=0.517947467923121, clf__penalty=none, clf__solver=lbfgs;, score=0.649 total time=   0.4s\n"
     ]
    },
    {
     "name": "stderr",
     "output_type": "stream",
     "text": [
      "/Users/guy/miniforge3/envs/.venv/lib/python3.9/site-packages/sklearn/linear_model/_logistic.py:1483: UserWarning: Setting penalty='none' will ignore the C and l1_ratio parameters\n",
      "  warnings.warn(\n"
     ]
    },
    {
     "name": "stdout",
     "output_type": "stream",
     "text": [
      "[CV 8/15] END clf__C=0.517947467923121, clf__penalty=none, clf__solver=lbfgs;, score=0.653 total time=   0.4s\n"
     ]
    },
    {
     "name": "stderr",
     "output_type": "stream",
     "text": [
      "/Users/guy/miniforge3/envs/.venv/lib/python3.9/site-packages/sklearn/linear_model/_logistic.py:1483: UserWarning: Setting penalty='none' will ignore the C and l1_ratio parameters\n",
      "  warnings.warn(\n"
     ]
    },
    {
     "name": "stdout",
     "output_type": "stream",
     "text": [
      "[CV 9/15] END clf__C=0.517947467923121, clf__penalty=none, clf__solver=lbfgs;, score=0.584 total time=   0.4s\n"
     ]
    },
    {
     "name": "stderr",
     "output_type": "stream",
     "text": [
      "/Users/guy/miniforge3/envs/.venv/lib/python3.9/site-packages/sklearn/linear_model/_logistic.py:1483: UserWarning: Setting penalty='none' will ignore the C and l1_ratio parameters\n",
      "  warnings.warn(\n"
     ]
    },
    {
     "name": "stdout",
     "output_type": "stream",
     "text": [
      "[CV 10/15] END clf__C=0.517947467923121, clf__penalty=none, clf__solver=lbfgs;, score=0.623 total time=   0.4s\n"
     ]
    },
    {
     "name": "stderr",
     "output_type": "stream",
     "text": [
      "/Users/guy/miniforge3/envs/.venv/lib/python3.9/site-packages/sklearn/linear_model/_logistic.py:1483: UserWarning: Setting penalty='none' will ignore the C and l1_ratio parameters\n",
      "  warnings.warn(\n"
     ]
    },
    {
     "name": "stdout",
     "output_type": "stream",
     "text": [
      "[CV 11/15] END clf__C=0.517947467923121, clf__penalty=none, clf__solver=lbfgs;, score=0.576 total time=   0.4s\n"
     ]
    },
    {
     "name": "stderr",
     "output_type": "stream",
     "text": [
      "/Users/guy/miniforge3/envs/.venv/lib/python3.9/site-packages/sklearn/linear_model/_logistic.py:1483: UserWarning: Setting penalty='none' will ignore the C and l1_ratio parameters\n",
      "  warnings.warn(\n"
     ]
    },
    {
     "name": "stdout",
     "output_type": "stream",
     "text": [
      "[CV 12/15] END clf__C=0.517947467923121, clf__penalty=none, clf__solver=lbfgs;, score=0.586 total time=   0.3s\n"
     ]
    },
    {
     "name": "stderr",
     "output_type": "stream",
     "text": [
      "/Users/guy/miniforge3/envs/.venv/lib/python3.9/site-packages/sklearn/linear_model/_logistic.py:1483: UserWarning: Setting penalty='none' will ignore the C and l1_ratio parameters\n",
      "  warnings.warn(\n"
     ]
    },
    {
     "name": "stdout",
     "output_type": "stream",
     "text": [
      "[CV 13/15] END clf__C=0.517947467923121, clf__penalty=none, clf__solver=lbfgs;, score=0.643 total time=   0.5s\n"
     ]
    },
    {
     "name": "stderr",
     "output_type": "stream",
     "text": [
      "/Users/guy/miniforge3/envs/.venv/lib/python3.9/site-packages/sklearn/linear_model/_logistic.py:1483: UserWarning: Setting penalty='none' will ignore the C and l1_ratio parameters\n",
      "  warnings.warn(\n"
     ]
    },
    {
     "name": "stdout",
     "output_type": "stream",
     "text": [
      "[CV 14/15] END clf__C=0.517947467923121, clf__penalty=none, clf__solver=lbfgs;, score=0.633 total time=   0.4s\n"
     ]
    },
    {
     "name": "stderr",
     "output_type": "stream",
     "text": [
      "/Users/guy/miniforge3/envs/.venv/lib/python3.9/site-packages/sklearn/linear_model/_logistic.py:1483: UserWarning: Setting penalty='none' will ignore the C and l1_ratio parameters\n",
      "  warnings.warn(\n"
     ]
    },
    {
     "name": "stdout",
     "output_type": "stream",
     "text": [
      "[CV 15/15] END clf__C=0.517947467923121, clf__penalty=none, clf__solver=lbfgs;, score=0.668 total time=   0.3s\n",
      "[CV 1/15] END clf__C=0.517947467923121, clf__penalty=none, clf__solver=liblinear;, score=nan total time=   0.0s\n",
      "[CV 2/15] END clf__C=0.517947467923121, clf__penalty=none, clf__solver=liblinear;, score=nan total time=   0.0s\n",
      "[CV 3/15] END clf__C=0.517947467923121, clf__penalty=none, clf__solver=liblinear;, score=nan total time=   0.0s\n",
      "[CV 4/15] END clf__C=0.517947467923121, clf__penalty=none, clf__solver=liblinear;, score=nan total time=   0.0s\n",
      "[CV 5/15] END clf__C=0.517947467923121, clf__penalty=none, clf__solver=liblinear;, score=nan total time=   0.0s\n",
      "[CV 6/15] END clf__C=0.517947467923121, clf__penalty=none, clf__solver=liblinear;, score=nan total time=   0.0s\n",
      "[CV 7/15] END clf__C=0.517947467923121, clf__penalty=none, clf__solver=liblinear;, score=nan total time=   0.0s\n",
      "[CV 8/15] END clf__C=0.517947467923121, clf__penalty=none, clf__solver=liblinear;, score=nan total time=   0.0s\n",
      "[CV 9/15] END clf__C=0.517947467923121, clf__penalty=none, clf__solver=liblinear;, score=nan total time=   0.0s\n",
      "[CV 10/15] END clf__C=0.517947467923121, clf__penalty=none, clf__solver=liblinear;, score=nan total time=   0.0s\n",
      "[CV 11/15] END clf__C=0.517947467923121, clf__penalty=none, clf__solver=liblinear;, score=nan total time=   0.0s\n",
      "[CV 12/15] END clf__C=0.517947467923121, clf__penalty=none, clf__solver=liblinear;, score=nan total time=   0.0s\n",
      "[CV 13/15] END clf__C=0.517947467923121, clf__penalty=none, clf__solver=liblinear;, score=nan total time=   0.0s\n",
      "[CV 14/15] END clf__C=0.517947467923121, clf__penalty=none, clf__solver=liblinear;, score=nan total time=   0.0s\n",
      "[CV 15/15] END clf__C=0.517947467923121, clf__penalty=none, clf__solver=liblinear;, score=nan total time=   0.0s\n"
     ]
    },
    {
     "name": "stderr",
     "output_type": "stream",
     "text": [
      "/Users/guy/miniforge3/envs/.venv/lib/python3.9/site-packages/sklearn/linear_model/_logistic.py:1483: UserWarning: Setting penalty='none' will ignore the C and l1_ratio parameters\n",
      "  warnings.warn(\n"
     ]
    },
    {
     "name": "stdout",
     "output_type": "stream",
     "text": [
      "[CV 1/15] END clf__C=0.517947467923121, clf__penalty=none, clf__solver=sag;, score=0.635 total time=   0.9s\n"
     ]
    },
    {
     "name": "stderr",
     "output_type": "stream",
     "text": [
      "/Users/guy/miniforge3/envs/.venv/lib/python3.9/site-packages/sklearn/linear_model/_logistic.py:1483: UserWarning: Setting penalty='none' will ignore the C and l1_ratio parameters\n",
      "  warnings.warn(\n"
     ]
    },
    {
     "name": "stdout",
     "output_type": "stream",
     "text": [
      "[CV 2/15] END clf__C=0.517947467923121, clf__penalty=none, clf__solver=sag;, score=0.619 total time=   1.6s\n"
     ]
    },
    {
     "name": "stderr",
     "output_type": "stream",
     "text": [
      "/Users/guy/miniforge3/envs/.venv/lib/python3.9/site-packages/sklearn/linear_model/_logistic.py:1483: UserWarning: Setting penalty='none' will ignore the C and l1_ratio parameters\n",
      "  warnings.warn(\n"
     ]
    },
    {
     "name": "stdout",
     "output_type": "stream",
     "text": [
      "[CV 3/15] END clf__C=0.517947467923121, clf__penalty=none, clf__solver=sag;, score=0.640 total time=   1.6s\n"
     ]
    },
    {
     "name": "stderr",
     "output_type": "stream",
     "text": [
      "/Users/guy/miniforge3/envs/.venv/lib/python3.9/site-packages/sklearn/linear_model/_logistic.py:1483: UserWarning: Setting penalty='none' will ignore the C and l1_ratio parameters\n",
      "  warnings.warn(\n"
     ]
    },
    {
     "name": "stdout",
     "output_type": "stream",
     "text": [
      "[CV 4/15] END clf__C=0.517947467923121, clf__penalty=none, clf__solver=sag;, score=0.565 total time=   1.5s\n"
     ]
    },
    {
     "name": "stderr",
     "output_type": "stream",
     "text": [
      "/Users/guy/miniforge3/envs/.venv/lib/python3.9/site-packages/sklearn/linear_model/_logistic.py:1483: UserWarning: Setting penalty='none' will ignore the C and l1_ratio parameters\n",
      "  warnings.warn(\n"
     ]
    },
    {
     "name": "stdout",
     "output_type": "stream",
     "text": [
      "[CV 5/15] END clf__C=0.517947467923121, clf__penalty=none, clf__solver=sag;, score=0.582 total time=   1.4s\n"
     ]
    },
    {
     "name": "stderr",
     "output_type": "stream",
     "text": [
      "/Users/guy/miniforge3/envs/.venv/lib/python3.9/site-packages/sklearn/linear_model/_logistic.py:1483: UserWarning: Setting penalty='none' will ignore the C and l1_ratio parameters\n",
      "  warnings.warn(\n"
     ]
    },
    {
     "name": "stdout",
     "output_type": "stream",
     "text": [
      "[CV 6/15] END clf__C=0.517947467923121, clf__penalty=none, clf__solver=sag;, score=0.554 total time=   1.6s\n"
     ]
    },
    {
     "name": "stderr",
     "output_type": "stream",
     "text": [
      "/Users/guy/miniforge3/envs/.venv/lib/python3.9/site-packages/sklearn/linear_model/_logistic.py:1483: UserWarning: Setting penalty='none' will ignore the C and l1_ratio parameters\n",
      "  warnings.warn(\n"
     ]
    },
    {
     "name": "stdout",
     "output_type": "stream",
     "text": [
      "[CV 7/15] END clf__C=0.517947467923121, clf__penalty=none, clf__solver=sag;, score=0.649 total time=   1.2s\n"
     ]
    },
    {
     "name": "stderr",
     "output_type": "stream",
     "text": [
      "/Users/guy/miniforge3/envs/.venv/lib/python3.9/site-packages/sklearn/linear_model/_logistic.py:1483: UserWarning: Setting penalty='none' will ignore the C and l1_ratio parameters\n",
      "  warnings.warn(\n"
     ]
    },
    {
     "name": "stdout",
     "output_type": "stream",
     "text": [
      "[CV 8/15] END clf__C=0.517947467923121, clf__penalty=none, clf__solver=sag;, score=0.653 total time=   1.5s\n"
     ]
    },
    {
     "name": "stderr",
     "output_type": "stream",
     "text": [
      "/Users/guy/miniforge3/envs/.venv/lib/python3.9/site-packages/sklearn/linear_model/_logistic.py:1483: UserWarning: Setting penalty='none' will ignore the C and l1_ratio parameters\n",
      "  warnings.warn(\n"
     ]
    },
    {
     "name": "stdout",
     "output_type": "stream",
     "text": [
      "[CV 9/15] END clf__C=0.517947467923121, clf__penalty=none, clf__solver=sag;, score=0.584 total time=   1.6s\n"
     ]
    },
    {
     "name": "stderr",
     "output_type": "stream",
     "text": [
      "/Users/guy/miniforge3/envs/.venv/lib/python3.9/site-packages/sklearn/linear_model/_logistic.py:1483: UserWarning: Setting penalty='none' will ignore the C and l1_ratio parameters\n",
      "  warnings.warn(\n"
     ]
    },
    {
     "name": "stdout",
     "output_type": "stream",
     "text": [
      "[CV 10/15] END clf__C=0.517947467923121, clf__penalty=none, clf__solver=sag;, score=0.622 total time=   1.4s\n"
     ]
    },
    {
     "name": "stderr",
     "output_type": "stream",
     "text": [
      "/Users/guy/miniforge3/envs/.venv/lib/python3.9/site-packages/sklearn/linear_model/_logistic.py:1483: UserWarning: Setting penalty='none' will ignore the C and l1_ratio parameters\n",
      "  warnings.warn(\n"
     ]
    },
    {
     "name": "stdout",
     "output_type": "stream",
     "text": [
      "[CV 11/15] END clf__C=0.517947467923121, clf__penalty=none, clf__solver=sag;, score=0.576 total time=   1.4s\n"
     ]
    },
    {
     "name": "stderr",
     "output_type": "stream",
     "text": [
      "/Users/guy/miniforge3/envs/.venv/lib/python3.9/site-packages/sklearn/linear_model/_logistic.py:1483: UserWarning: Setting penalty='none' will ignore the C and l1_ratio parameters\n",
      "  warnings.warn(\n"
     ]
    },
    {
     "name": "stdout",
     "output_type": "stream",
     "text": [
      "[CV 12/15] END clf__C=0.517947467923121, clf__penalty=none, clf__solver=sag;, score=0.586 total time=   1.6s\n"
     ]
    },
    {
     "name": "stderr",
     "output_type": "stream",
     "text": [
      "/Users/guy/miniforge3/envs/.venv/lib/python3.9/site-packages/sklearn/linear_model/_logistic.py:1483: UserWarning: Setting penalty='none' will ignore the C and l1_ratio parameters\n",
      "  warnings.warn(\n"
     ]
    },
    {
     "name": "stdout",
     "output_type": "stream",
     "text": [
      "[CV 13/15] END clf__C=0.517947467923121, clf__penalty=none, clf__solver=sag;, score=0.643 total time=   1.5s\n"
     ]
    },
    {
     "name": "stderr",
     "output_type": "stream",
     "text": [
      "/Users/guy/miniforge3/envs/.venv/lib/python3.9/site-packages/sklearn/linear_model/_logistic.py:1483: UserWarning: Setting penalty='none' will ignore the C and l1_ratio parameters\n",
      "  warnings.warn(\n"
     ]
    },
    {
     "name": "stdout",
     "output_type": "stream",
     "text": [
      "[CV 14/15] END clf__C=0.517947467923121, clf__penalty=none, clf__solver=sag;, score=0.633 total time=   1.6s\n"
     ]
    },
    {
     "name": "stderr",
     "output_type": "stream",
     "text": [
      "/Users/guy/miniforge3/envs/.venv/lib/python3.9/site-packages/sklearn/linear_model/_logistic.py:1483: UserWarning: Setting penalty='none' will ignore the C and l1_ratio parameters\n",
      "  warnings.warn(\n"
     ]
    },
    {
     "name": "stdout",
     "output_type": "stream",
     "text": [
      "[CV 15/15] END clf__C=0.517947467923121, clf__penalty=none, clf__solver=sag;, score=0.668 total time=   0.9s\n",
      "[CV 1/15] END clf__C=0.6105402296585328, clf__penalty=l1, clf__solver=lbfgs;, score=nan total time=   0.0s\n",
      "[CV 2/15] END clf__C=0.6105402296585328, clf__penalty=l1, clf__solver=lbfgs;, score=nan total time=   0.0s\n",
      "[CV 3/15] END clf__C=0.6105402296585328, clf__penalty=l1, clf__solver=lbfgs;, score=nan total time=   0.0s\n",
      "[CV 4/15] END clf__C=0.6105402296585328, clf__penalty=l1, clf__solver=lbfgs;, score=nan total time=   0.0s\n",
      "[CV 5/15] END clf__C=0.6105402296585328, clf__penalty=l1, clf__solver=lbfgs;, score=nan total time=   0.0s\n",
      "[CV 6/15] END clf__C=0.6105402296585328, clf__penalty=l1, clf__solver=lbfgs;, score=nan total time=   0.0s\n",
      "[CV 7/15] END clf__C=0.6105402296585328, clf__penalty=l1, clf__solver=lbfgs;, score=nan total time=   0.0s\n",
      "[CV 8/15] END clf__C=0.6105402296585328, clf__penalty=l1, clf__solver=lbfgs;, score=nan total time=   0.0s\n",
      "[CV 9/15] END clf__C=0.6105402296585328, clf__penalty=l1, clf__solver=lbfgs;, score=nan total time=   0.0s\n",
      "[CV 10/15] END clf__C=0.6105402296585328, clf__penalty=l1, clf__solver=lbfgs;, score=nan total time=   0.0s\n",
      "[CV 11/15] END clf__C=0.6105402296585328, clf__penalty=l1, clf__solver=lbfgs;, score=nan total time=   0.0s\n",
      "[CV 12/15] END clf__C=0.6105402296585328, clf__penalty=l1, clf__solver=lbfgs;, score=nan total time=   0.0s\n",
      "[CV 13/15] END clf__C=0.6105402296585328, clf__penalty=l1, clf__solver=lbfgs;, score=nan total time=   0.0s\n",
      "[CV 14/15] END clf__C=0.6105402296585328, clf__penalty=l1, clf__solver=lbfgs;, score=nan total time=   0.0s\n",
      "[CV 15/15] END clf__C=0.6105402296585328, clf__penalty=l1, clf__solver=lbfgs;, score=nan total time=   0.0s\n",
      "[CV 1/15] END clf__C=0.6105402296585328, clf__penalty=l1, clf__solver=liblinear;, score=0.658 total time=   0.7s\n",
      "[CV 2/15] END clf__C=0.6105402296585328, clf__penalty=l1, clf__solver=liblinear;, score=0.622 total time=   0.5s\n",
      "[CV 3/15] END clf__C=0.6105402296585328, clf__penalty=l1, clf__solver=liblinear;, score=0.630 total time=   0.6s\n",
      "[CV 4/15] END clf__C=0.6105402296585328, clf__penalty=l1, clf__solver=liblinear;, score=0.596 total time=   0.9s\n",
      "[CV 5/15] END clf__C=0.6105402296585328, clf__penalty=l1, clf__solver=liblinear;, score=0.592 total time=   0.6s\n",
      "[CV 6/15] END clf__C=0.6105402296585328, clf__penalty=l1, clf__solver=liblinear;, score=0.560 total time=   0.7s\n",
      "[CV 7/15] END clf__C=0.6105402296585328, clf__penalty=l1, clf__solver=liblinear;, score=0.654 total time=   0.6s\n",
      "[CV 8/15] END clf__C=0.6105402296585328, clf__penalty=l1, clf__solver=liblinear;, score=0.672 total time=   0.5s\n",
      "[CV 9/15] END clf__C=0.6105402296585328, clf__penalty=l1, clf__solver=liblinear;, score=0.594 total time=   0.7s\n",
      "[CV 10/15] END clf__C=0.6105402296585328, clf__penalty=l1, clf__solver=liblinear;, score=0.630 total time=   0.8s\n",
      "[CV 11/15] END clf__C=0.6105402296585328, clf__penalty=l1, clf__solver=liblinear;, score=0.616 total time=   0.7s\n",
      "[CV 12/15] END clf__C=0.6105402296585328, clf__penalty=l1, clf__solver=liblinear;, score=0.580 total time=   0.7s\n",
      "[CV 13/15] END clf__C=0.6105402296585328, clf__penalty=l1, clf__solver=liblinear;, score=0.630 total time=   0.7s\n",
      "[CV 14/15] END clf__C=0.6105402296585328, clf__penalty=l1, clf__solver=liblinear;, score=0.649 total time=   0.6s\n",
      "[CV 15/15] END clf__C=0.6105402296585328, clf__penalty=l1, clf__solver=liblinear;, score=0.684 total time=   0.7s\n",
      "[CV 1/15] END clf__C=0.6105402296585328, clf__penalty=l1, clf__solver=sag;, score=nan total time=   0.0s\n",
      "[CV 2/15] END clf__C=0.6105402296585328, clf__penalty=l1, clf__solver=sag;, score=nan total time=   0.0s\n",
      "[CV 3/15] END clf__C=0.6105402296585328, clf__penalty=l1, clf__solver=sag;, score=nan total time=   0.0s\n",
      "[CV 4/15] END clf__C=0.6105402296585328, clf__penalty=l1, clf__solver=sag;, score=nan total time=   0.0s\n",
      "[CV 5/15] END clf__C=0.6105402296585328, clf__penalty=l1, clf__solver=sag;, score=nan total time=   0.0s\n",
      "[CV 6/15] END clf__C=0.6105402296585328, clf__penalty=l1, clf__solver=sag;, score=nan total time=   0.0s\n",
      "[CV 7/15] END clf__C=0.6105402296585328, clf__penalty=l1, clf__solver=sag;, score=nan total time=   0.0s\n",
      "[CV 8/15] END clf__C=0.6105402296585328, clf__penalty=l1, clf__solver=sag;, score=nan total time=   0.0s\n",
      "[CV 9/15] END clf__C=0.6105402296585328, clf__penalty=l1, clf__solver=sag;, score=nan total time=   0.0s\n",
      "[CV 10/15] END clf__C=0.6105402296585328, clf__penalty=l1, clf__solver=sag;, score=nan total time=   0.0s\n",
      "[CV 11/15] END clf__C=0.6105402296585328, clf__penalty=l1, clf__solver=sag;, score=nan total time=   0.0s\n",
      "[CV 12/15] END clf__C=0.6105402296585328, clf__penalty=l1, clf__solver=sag;, score=nan total time=   0.0s\n",
      "[CV 13/15] END clf__C=0.6105402296585328, clf__penalty=l1, clf__solver=sag;, score=nan total time=   0.0s\n",
      "[CV 14/15] END clf__C=0.6105402296585328, clf__penalty=l1, clf__solver=sag;, score=nan total time=   0.0s\n",
      "[CV 15/15] END clf__C=0.6105402296585328, clf__penalty=l1, clf__solver=sag;, score=nan total time=   0.0s\n",
      "[CV 1/15] END clf__C=0.6105402296585328, clf__penalty=l2, clf__solver=lbfgs;, score=0.638 total time=   0.2s\n",
      "[CV 2/15] END clf__C=0.6105402296585328, clf__penalty=l2, clf__solver=lbfgs;, score=0.626 total time=   0.2s\n",
      "[CV 3/15] END clf__C=0.6105402296585328, clf__penalty=l2, clf__solver=lbfgs;, score=0.634 total time=   0.2s\n",
      "[CV 4/15] END clf__C=0.6105402296585328, clf__penalty=l2, clf__solver=lbfgs;, score=0.571 total time=   0.2s\n",
      "[CV 5/15] END clf__C=0.6105402296585328, clf__penalty=l2, clf__solver=lbfgs;, score=0.579 total time=   0.2s\n",
      "[CV 6/15] END clf__C=0.6105402296585328, clf__penalty=l2, clf__solver=lbfgs;, score=0.549 total time=   0.2s\n",
      "[CV 7/15] END clf__C=0.6105402296585328, clf__penalty=l2, clf__solver=lbfgs;, score=0.644 total time=   0.2s\n",
      "[CV 8/15] END clf__C=0.6105402296585328, clf__penalty=l2, clf__solver=lbfgs;, score=0.658 total time=   0.2s\n",
      "[CV 9/15] END clf__C=0.6105402296585328, clf__penalty=l2, clf__solver=lbfgs;, score=0.585 total time=   0.2s\n",
      "[CV 10/15] END clf__C=0.6105402296585328, clf__penalty=l2, clf__solver=lbfgs;, score=0.615 total time=   0.2s\n",
      "[CV 11/15] END clf__C=0.6105402296585328, clf__penalty=l2, clf__solver=lbfgs;, score=0.581 total time=   0.2s\n",
      "[CV 12/15] END clf__C=0.6105402296585328, clf__penalty=l2, clf__solver=lbfgs;, score=0.585 total time=   0.2s\n",
      "[CV 13/15] END clf__C=0.6105402296585328, clf__penalty=l2, clf__solver=lbfgs;, score=0.635 total time=   0.2s\n",
      "[CV 14/15] END clf__C=0.6105402296585328, clf__penalty=l2, clf__solver=lbfgs;, score=0.636 total time=   0.2s\n",
      "[CV 15/15] END clf__C=0.6105402296585328, clf__penalty=l2, clf__solver=lbfgs;, score=0.669 total time=   0.2s\n",
      "[CV 1/15] END clf__C=0.6105402296585328, clf__penalty=l2, clf__solver=liblinear;, score=0.647 total time=   0.1s\n",
      "[CV 2/15] END clf__C=0.6105402296585328, clf__penalty=l2, clf__solver=liblinear;, score=0.621 total time=   0.1s\n",
      "[CV 3/15] END clf__C=0.6105402296585328, clf__penalty=l2, clf__solver=liblinear;, score=0.627 total time=   0.1s\n",
      "[CV 4/15] END clf__C=0.6105402296585328, clf__penalty=l2, clf__solver=liblinear;, score=0.585 total time=   0.1s\n",
      "[CV 5/15] END clf__C=0.6105402296585328, clf__penalty=l2, clf__solver=liblinear;, score=0.579 total time=   0.1s\n",
      "[CV 6/15] END clf__C=0.6105402296585328, clf__penalty=l2, clf__solver=liblinear;, score=0.544 total time=   0.1s\n",
      "[CV 7/15] END clf__C=0.6105402296585328, clf__penalty=l2, clf__solver=liblinear;, score=0.651 total time=   0.1s\n",
      "[CV 8/15] END clf__C=0.6105402296585328, clf__penalty=l2, clf__solver=liblinear;, score=0.659 total time=   0.1s\n",
      "[CV 9/15] END clf__C=0.6105402296585328, clf__penalty=l2, clf__solver=liblinear;, score=0.584 total time=   0.1s\n",
      "[CV 10/15] END clf__C=0.6105402296585328, clf__penalty=l2, clf__solver=liblinear;, score=0.624 total time=   0.1s\n",
      "[CV 11/15] END clf__C=0.6105402296585328, clf__penalty=l2, clf__solver=liblinear;, score=0.590 total time=   0.1s\n",
      "[CV 12/15] END clf__C=0.6105402296585328, clf__penalty=l2, clf__solver=liblinear;, score=0.585 total time=   0.1s\n",
      "[CV 13/15] END clf__C=0.6105402296585328, clf__penalty=l2, clf__solver=liblinear;, score=0.633 total time=   0.1s\n",
      "[CV 14/15] END clf__C=0.6105402296585328, clf__penalty=l2, clf__solver=liblinear;, score=0.630 total time=   0.1s\n"
     ]
    },
    {
     "name": "stdout",
     "output_type": "stream",
     "text": [
      "[CV 15/15] END clf__C=0.6105402296585328, clf__penalty=l2, clf__solver=liblinear;, score=0.673 total time=   0.1s\n",
      "[CV 1/15] END clf__C=0.6105402296585328, clf__penalty=l2, clf__solver=sag;, score=0.638 total time=   0.4s\n",
      "[CV 2/15] END clf__C=0.6105402296585328, clf__penalty=l2, clf__solver=sag;, score=0.626 total time=   0.4s\n",
      "[CV 3/15] END clf__C=0.6105402296585328, clf__penalty=l2, clf__solver=sag;, score=0.634 total time=   0.3s\n",
      "[CV 4/15] END clf__C=0.6105402296585328, clf__penalty=l2, clf__solver=sag;, score=0.571 total time=   0.4s\n",
      "[CV 5/15] END clf__C=0.6105402296585328, clf__penalty=l2, clf__solver=sag;, score=0.579 total time=   0.4s\n",
      "[CV 6/15] END clf__C=0.6105402296585328, clf__penalty=l2, clf__solver=sag;, score=0.549 total time=   0.4s\n",
      "[CV 7/15] END clf__C=0.6105402296585328, clf__penalty=l2, clf__solver=sag;, score=0.644 total time=   0.4s\n",
      "[CV 8/15] END clf__C=0.6105402296585328, clf__penalty=l2, clf__solver=sag;, score=0.658 total time=   0.4s\n",
      "[CV 9/15] END clf__C=0.6105402296585328, clf__penalty=l2, clf__solver=sag;, score=0.585 total time=   0.4s\n",
      "[CV 10/15] END clf__C=0.6105402296585328, clf__penalty=l2, clf__solver=sag;, score=0.615 total time=   0.4s\n",
      "[CV 11/15] END clf__C=0.6105402296585328, clf__penalty=l2, clf__solver=sag;, score=0.581 total time=   0.4s\n",
      "[CV 12/15] END clf__C=0.6105402296585328, clf__penalty=l2, clf__solver=sag;, score=0.585 total time=   0.4s\n",
      "[CV 13/15] END clf__C=0.6105402296585328, clf__penalty=l2, clf__solver=sag;, score=0.635 total time=   0.4s\n",
      "[CV 14/15] END clf__C=0.6105402296585328, clf__penalty=l2, clf__solver=sag;, score=0.636 total time=   0.4s\n",
      "[CV 15/15] END clf__C=0.6105402296585328, clf__penalty=l2, clf__solver=sag;, score=0.669 total time=   0.4s\n"
     ]
    },
    {
     "name": "stderr",
     "output_type": "stream",
     "text": [
      "/Users/guy/miniforge3/envs/.venv/lib/python3.9/site-packages/sklearn/linear_model/_logistic.py:1483: UserWarning: Setting penalty='none' will ignore the C and l1_ratio parameters\n",
      "  warnings.warn(\n"
     ]
    },
    {
     "name": "stdout",
     "output_type": "stream",
     "text": [
      "[CV 1/15] END clf__C=0.6105402296585328, clf__penalty=none, clf__solver=lbfgs;, score=0.635 total time=   0.3s\n"
     ]
    },
    {
     "name": "stderr",
     "output_type": "stream",
     "text": [
      "/Users/guy/miniforge3/envs/.venv/lib/python3.9/site-packages/sklearn/linear_model/_logistic.py:1483: UserWarning: Setting penalty='none' will ignore the C and l1_ratio parameters\n",
      "  warnings.warn(\n"
     ]
    },
    {
     "name": "stdout",
     "output_type": "stream",
     "text": [
      "[CV 2/15] END clf__C=0.6105402296585328, clf__penalty=none, clf__solver=lbfgs;, score=0.619 total time=   0.5s\n"
     ]
    },
    {
     "name": "stderr",
     "output_type": "stream",
     "text": [
      "/Users/guy/miniforge3/envs/.venv/lib/python3.9/site-packages/sklearn/linear_model/_logistic.py:1483: UserWarning: Setting penalty='none' will ignore the C and l1_ratio parameters\n",
      "  warnings.warn(\n"
     ]
    },
    {
     "name": "stdout",
     "output_type": "stream",
     "text": [
      "[CV 3/15] END clf__C=0.6105402296585328, clf__penalty=none, clf__solver=lbfgs;, score=0.640 total time=   0.5s\n"
     ]
    },
    {
     "name": "stderr",
     "output_type": "stream",
     "text": [
      "/Users/guy/miniforge3/envs/.venv/lib/python3.9/site-packages/sklearn/linear_model/_logistic.py:1483: UserWarning: Setting penalty='none' will ignore the C and l1_ratio parameters\n",
      "  warnings.warn(\n"
     ]
    },
    {
     "name": "stdout",
     "output_type": "stream",
     "text": [
      "[CV 4/15] END clf__C=0.6105402296585328, clf__penalty=none, clf__solver=lbfgs;, score=0.565 total time=   0.4s\n"
     ]
    },
    {
     "name": "stderr",
     "output_type": "stream",
     "text": [
      "/Users/guy/miniforge3/envs/.venv/lib/python3.9/site-packages/sklearn/linear_model/_logistic.py:1483: UserWarning: Setting penalty='none' will ignore the C and l1_ratio parameters\n",
      "  warnings.warn(\n"
     ]
    },
    {
     "name": "stdout",
     "output_type": "stream",
     "text": [
      "[CV 5/15] END clf__C=0.6105402296585328, clf__penalty=none, clf__solver=lbfgs;, score=0.582 total time=   0.4s\n"
     ]
    },
    {
     "name": "stderr",
     "output_type": "stream",
     "text": [
      "/Users/guy/miniforge3/envs/.venv/lib/python3.9/site-packages/sklearn/linear_model/_logistic.py:1483: UserWarning: Setting penalty='none' will ignore the C and l1_ratio parameters\n",
      "  warnings.warn(\n"
     ]
    },
    {
     "name": "stdout",
     "output_type": "stream",
     "text": [
      "[CV 6/15] END clf__C=0.6105402296585328, clf__penalty=none, clf__solver=lbfgs;, score=0.554 total time=   0.4s\n"
     ]
    },
    {
     "name": "stderr",
     "output_type": "stream",
     "text": [
      "/Users/guy/miniforge3/envs/.venv/lib/python3.9/site-packages/sklearn/linear_model/_logistic.py:1483: UserWarning: Setting penalty='none' will ignore the C and l1_ratio parameters\n",
      "  warnings.warn(\n"
     ]
    },
    {
     "name": "stdout",
     "output_type": "stream",
     "text": [
      "[CV 7/15] END clf__C=0.6105402296585328, clf__penalty=none, clf__solver=lbfgs;, score=0.649 total time=   0.5s\n"
     ]
    },
    {
     "name": "stderr",
     "output_type": "stream",
     "text": [
      "/Users/guy/miniforge3/envs/.venv/lib/python3.9/site-packages/sklearn/linear_model/_logistic.py:1483: UserWarning: Setting penalty='none' will ignore the C and l1_ratio parameters\n",
      "  warnings.warn(\n"
     ]
    },
    {
     "name": "stdout",
     "output_type": "stream",
     "text": [
      "[CV 8/15] END clf__C=0.6105402296585328, clf__penalty=none, clf__solver=lbfgs;, score=0.653 total time=   0.5s\n"
     ]
    },
    {
     "name": "stderr",
     "output_type": "stream",
     "text": [
      "/Users/guy/miniforge3/envs/.venv/lib/python3.9/site-packages/sklearn/linear_model/_logistic.py:1483: UserWarning: Setting penalty='none' will ignore the C and l1_ratio parameters\n",
      "  warnings.warn(\n"
     ]
    },
    {
     "name": "stdout",
     "output_type": "stream",
     "text": [
      "[CV 9/15] END clf__C=0.6105402296585328, clf__penalty=none, clf__solver=lbfgs;, score=0.584 total time=   0.5s\n"
     ]
    },
    {
     "name": "stderr",
     "output_type": "stream",
     "text": [
      "/Users/guy/miniforge3/envs/.venv/lib/python3.9/site-packages/sklearn/linear_model/_logistic.py:1483: UserWarning: Setting penalty='none' will ignore the C and l1_ratio parameters\n",
      "  warnings.warn(\n"
     ]
    },
    {
     "name": "stdout",
     "output_type": "stream",
     "text": [
      "[CV 10/15] END clf__C=0.6105402296585328, clf__penalty=none, clf__solver=lbfgs;, score=0.623 total time=   0.5s\n"
     ]
    },
    {
     "name": "stderr",
     "output_type": "stream",
     "text": [
      "/Users/guy/miniforge3/envs/.venv/lib/python3.9/site-packages/sklearn/linear_model/_logistic.py:1483: UserWarning: Setting penalty='none' will ignore the C and l1_ratio parameters\n",
      "  warnings.warn(\n"
     ]
    },
    {
     "name": "stdout",
     "output_type": "stream",
     "text": [
      "[CV 11/15] END clf__C=0.6105402296585328, clf__penalty=none, clf__solver=lbfgs;, score=0.576 total time=   0.5s\n"
     ]
    },
    {
     "name": "stderr",
     "output_type": "stream",
     "text": [
      "/Users/guy/miniforge3/envs/.venv/lib/python3.9/site-packages/sklearn/linear_model/_logistic.py:1483: UserWarning: Setting penalty='none' will ignore the C and l1_ratio parameters\n",
      "  warnings.warn(\n"
     ]
    },
    {
     "name": "stdout",
     "output_type": "stream",
     "text": [
      "[CV 12/15] END clf__C=0.6105402296585328, clf__penalty=none, clf__solver=lbfgs;, score=0.586 total time=   0.4s\n"
     ]
    },
    {
     "name": "stderr",
     "output_type": "stream",
     "text": [
      "/Users/guy/miniforge3/envs/.venv/lib/python3.9/site-packages/sklearn/linear_model/_logistic.py:1483: UserWarning: Setting penalty='none' will ignore the C and l1_ratio parameters\n",
      "  warnings.warn(\n"
     ]
    },
    {
     "name": "stdout",
     "output_type": "stream",
     "text": [
      "[CV 13/15] END clf__C=0.6105402296585328, clf__penalty=none, clf__solver=lbfgs;, score=0.643 total time=   0.5s\n"
     ]
    },
    {
     "name": "stderr",
     "output_type": "stream",
     "text": [
      "/Users/guy/miniforge3/envs/.venv/lib/python3.9/site-packages/sklearn/linear_model/_logistic.py:1483: UserWarning: Setting penalty='none' will ignore the C and l1_ratio parameters\n",
      "  warnings.warn(\n"
     ]
    },
    {
     "name": "stdout",
     "output_type": "stream",
     "text": [
      "[CV 14/15] END clf__C=0.6105402296585328, clf__penalty=none, clf__solver=lbfgs;, score=0.633 total time=   0.5s\n"
     ]
    },
    {
     "name": "stderr",
     "output_type": "stream",
     "text": [
      "/Users/guy/miniforge3/envs/.venv/lib/python3.9/site-packages/sklearn/linear_model/_logistic.py:1483: UserWarning: Setting penalty='none' will ignore the C and l1_ratio parameters\n",
      "  warnings.warn(\n"
     ]
    },
    {
     "name": "stdout",
     "output_type": "stream",
     "text": [
      "[CV 15/15] END clf__C=0.6105402296585328, clf__penalty=none, clf__solver=lbfgs;, score=0.668 total time=   0.3s\n",
      "[CV 1/15] END clf__C=0.6105402296585328, clf__penalty=none, clf__solver=liblinear;, score=nan total time=   0.0s\n",
      "[CV 2/15] END clf__C=0.6105402296585328, clf__penalty=none, clf__solver=liblinear;, score=nan total time=   0.0s\n",
      "[CV 3/15] END clf__C=0.6105402296585328, clf__penalty=none, clf__solver=liblinear;, score=nan total time=   0.0s\n",
      "[CV 4/15] END clf__C=0.6105402296585328, clf__penalty=none, clf__solver=liblinear;, score=nan total time=   0.0s\n",
      "[CV 5/15] END clf__C=0.6105402296585328, clf__penalty=none, clf__solver=liblinear;, score=nan total time=   0.0s\n",
      "[CV 6/15] END clf__C=0.6105402296585328, clf__penalty=none, clf__solver=liblinear;, score=nan total time=   0.0s\n",
      "[CV 7/15] END clf__C=0.6105402296585328, clf__penalty=none, clf__solver=liblinear;, score=nan total time=   0.0s\n",
      "[CV 8/15] END clf__C=0.6105402296585328, clf__penalty=none, clf__solver=liblinear;, score=nan total time=   0.0s\n",
      "[CV 9/15] END clf__C=0.6105402296585328, clf__penalty=none, clf__solver=liblinear;, score=nan total time=   0.0s\n",
      "[CV 10/15] END clf__C=0.6105402296585328, clf__penalty=none, clf__solver=liblinear;, score=nan total time=   0.0s\n",
      "[CV 11/15] END clf__C=0.6105402296585328, clf__penalty=none, clf__solver=liblinear;, score=nan total time=   0.0s\n",
      "[CV 12/15] END clf__C=0.6105402296585328, clf__penalty=none, clf__solver=liblinear;, score=nan total time=   0.0s\n",
      "[CV 13/15] END clf__C=0.6105402296585328, clf__penalty=none, clf__solver=liblinear;, score=nan total time=   0.0s\n",
      "[CV 14/15] END clf__C=0.6105402296585328, clf__penalty=none, clf__solver=liblinear;, score=nan total time=   0.0s\n",
      "[CV 15/15] END clf__C=0.6105402296585328, clf__penalty=none, clf__solver=liblinear;, score=nan total time=   0.0s\n"
     ]
    },
    {
     "name": "stderr",
     "output_type": "stream",
     "text": [
      "/Users/guy/miniforge3/envs/.venv/lib/python3.9/site-packages/sklearn/linear_model/_logistic.py:1483: UserWarning: Setting penalty='none' will ignore the C and l1_ratio parameters\n",
      "  warnings.warn(\n"
     ]
    },
    {
     "name": "stdout",
     "output_type": "stream",
     "text": [
      "[CV 1/15] END clf__C=0.6105402296585328, clf__penalty=none, clf__solver=sag;, score=0.635 total time=   0.9s\n"
     ]
    },
    {
     "name": "stderr",
     "output_type": "stream",
     "text": [
      "/Users/guy/miniforge3/envs/.venv/lib/python3.9/site-packages/sklearn/linear_model/_logistic.py:1483: UserWarning: Setting penalty='none' will ignore the C and l1_ratio parameters\n",
      "  warnings.warn(\n"
     ]
    },
    {
     "name": "stdout",
     "output_type": "stream",
     "text": [
      "[CV 2/15] END clf__C=0.6105402296585328, clf__penalty=none, clf__solver=sag;, score=0.619 total time=   1.6s\n"
     ]
    },
    {
     "name": "stderr",
     "output_type": "stream",
     "text": [
      "/Users/guy/miniforge3/envs/.venv/lib/python3.9/site-packages/sklearn/linear_model/_logistic.py:1483: UserWarning: Setting penalty='none' will ignore the C and l1_ratio parameters\n",
      "  warnings.warn(\n"
     ]
    },
    {
     "name": "stdout",
     "output_type": "stream",
     "text": [
      "[CV 3/15] END clf__C=0.6105402296585328, clf__penalty=none, clf__solver=sag;, score=0.640 total time=   1.9s\n"
     ]
    },
    {
     "name": "stderr",
     "output_type": "stream",
     "text": [
      "/Users/guy/miniforge3/envs/.venv/lib/python3.9/site-packages/sklearn/linear_model/_logistic.py:1483: UserWarning: Setting penalty='none' will ignore the C and l1_ratio parameters\n",
      "  warnings.warn(\n"
     ]
    },
    {
     "name": "stdout",
     "output_type": "stream",
     "text": [
      "[CV 4/15] END clf__C=0.6105402296585328, clf__penalty=none, clf__solver=sag;, score=0.565 total time=   1.5s\n"
     ]
    },
    {
     "name": "stderr",
     "output_type": "stream",
     "text": [
      "/Users/guy/miniforge3/envs/.venv/lib/python3.9/site-packages/sklearn/linear_model/_logistic.py:1483: UserWarning: Setting penalty='none' will ignore the C and l1_ratio parameters\n",
      "  warnings.warn(\n"
     ]
    },
    {
     "name": "stdout",
     "output_type": "stream",
     "text": [
      "[CV 5/15] END clf__C=0.6105402296585328, clf__penalty=none, clf__solver=sag;, score=0.582 total time=   1.4s\n"
     ]
    },
    {
     "name": "stderr",
     "output_type": "stream",
     "text": [
      "/Users/guy/miniforge3/envs/.venv/lib/python3.9/site-packages/sklearn/linear_model/_logistic.py:1483: UserWarning: Setting penalty='none' will ignore the C and l1_ratio parameters\n",
      "  warnings.warn(\n"
     ]
    },
    {
     "name": "stdout",
     "output_type": "stream",
     "text": [
      "[CV 6/15] END clf__C=0.6105402296585328, clf__penalty=none, clf__solver=sag;, score=0.554 total time=   1.6s\n"
     ]
    },
    {
     "name": "stderr",
     "output_type": "stream",
     "text": [
      "/Users/guy/miniforge3/envs/.venv/lib/python3.9/site-packages/sklearn/linear_model/_logistic.py:1483: UserWarning: Setting penalty='none' will ignore the C and l1_ratio parameters\n",
      "  warnings.warn(\n"
     ]
    },
    {
     "name": "stdout",
     "output_type": "stream",
     "text": [
      "[CV 7/15] END clf__C=0.6105402296585328, clf__penalty=none, clf__solver=sag;, score=0.649 total time=   1.2s\n"
     ]
    },
    {
     "name": "stderr",
     "output_type": "stream",
     "text": [
      "/Users/guy/miniforge3/envs/.venv/lib/python3.9/site-packages/sklearn/linear_model/_logistic.py:1483: UserWarning: Setting penalty='none' will ignore the C and l1_ratio parameters\n",
      "  warnings.warn(\n"
     ]
    },
    {
     "name": "stdout",
     "output_type": "stream",
     "text": [
      "[CV 8/15] END clf__C=0.6105402296585328, clf__penalty=none, clf__solver=sag;, score=0.653 total time=   1.6s\n"
     ]
    },
    {
     "name": "stderr",
     "output_type": "stream",
     "text": [
      "/Users/guy/miniforge3/envs/.venv/lib/python3.9/site-packages/sklearn/linear_model/_logistic.py:1483: UserWarning: Setting penalty='none' will ignore the C and l1_ratio parameters\n",
      "  warnings.warn(\n"
     ]
    },
    {
     "name": "stdout",
     "output_type": "stream",
     "text": [
      "[CV 9/15] END clf__C=0.6105402296585328, clf__penalty=none, clf__solver=sag;, score=0.584 total time=   1.6s\n"
     ]
    },
    {
     "name": "stderr",
     "output_type": "stream",
     "text": [
      "/Users/guy/miniforge3/envs/.venv/lib/python3.9/site-packages/sklearn/linear_model/_logistic.py:1483: UserWarning: Setting penalty='none' will ignore the C and l1_ratio parameters\n",
      "  warnings.warn(\n"
     ]
    },
    {
     "name": "stdout",
     "output_type": "stream",
     "text": [
      "[CV 10/15] END clf__C=0.6105402296585328, clf__penalty=none, clf__solver=sag;, score=0.622 total time=   1.5s\n"
     ]
    },
    {
     "name": "stderr",
     "output_type": "stream",
     "text": [
      "/Users/guy/miniforge3/envs/.venv/lib/python3.9/site-packages/sklearn/linear_model/_logistic.py:1483: UserWarning: Setting penalty='none' will ignore the C and l1_ratio parameters\n",
      "  warnings.warn(\n"
     ]
    },
    {
     "name": "stdout",
     "output_type": "stream",
     "text": [
      "[CV 11/15] END clf__C=0.6105402296585328, clf__penalty=none, clf__solver=sag;, score=0.576 total time=   1.4s\n"
     ]
    },
    {
     "name": "stderr",
     "output_type": "stream",
     "text": [
      "/Users/guy/miniforge3/envs/.venv/lib/python3.9/site-packages/sklearn/linear_model/_logistic.py:1483: UserWarning: Setting penalty='none' will ignore the C and l1_ratio parameters\n",
      "  warnings.warn(\n"
     ]
    },
    {
     "name": "stdout",
     "output_type": "stream",
     "text": [
      "[CV 12/15] END clf__C=0.6105402296585328, clf__penalty=none, clf__solver=sag;, score=0.586 total time=   1.6s\n"
     ]
    },
    {
     "name": "stderr",
     "output_type": "stream",
     "text": [
      "/Users/guy/miniforge3/envs/.venv/lib/python3.9/site-packages/sklearn/linear_model/_logistic.py:1483: UserWarning: Setting penalty='none' will ignore the C and l1_ratio parameters\n",
      "  warnings.warn(\n"
     ]
    },
    {
     "name": "stdout",
     "output_type": "stream",
     "text": [
      "[CV 13/15] END clf__C=0.6105402296585328, clf__penalty=none, clf__solver=sag;, score=0.643 total time=   1.6s\n"
     ]
    },
    {
     "name": "stderr",
     "output_type": "stream",
     "text": [
      "/Users/guy/miniforge3/envs/.venv/lib/python3.9/site-packages/sklearn/linear_model/_logistic.py:1483: UserWarning: Setting penalty='none' will ignore the C and l1_ratio parameters\n",
      "  warnings.warn(\n"
     ]
    },
    {
     "name": "stdout",
     "output_type": "stream",
     "text": [
      "[CV 14/15] END clf__C=0.6105402296585328, clf__penalty=none, clf__solver=sag;, score=0.633 total time=   1.6s\n"
     ]
    },
    {
     "name": "stderr",
     "output_type": "stream",
     "text": [
      "/Users/guy/miniforge3/envs/.venv/lib/python3.9/site-packages/sklearn/linear_model/_logistic.py:1483: UserWarning: Setting penalty='none' will ignore the C and l1_ratio parameters\n",
      "  warnings.warn(\n"
     ]
    },
    {
     "name": "stdout",
     "output_type": "stream",
     "text": [
      "[CV 15/15] END clf__C=0.6105402296585328, clf__penalty=none, clf__solver=sag;, score=0.668 total time=   0.9s\n",
      "[CV 1/15] END clf__C=0.7196856730011519, clf__penalty=l1, clf__solver=lbfgs;, score=nan total time=   0.0s\n",
      "[CV 2/15] END clf__C=0.7196856730011519, clf__penalty=l1, clf__solver=lbfgs;, score=nan total time=   0.0s\n",
      "[CV 3/15] END clf__C=0.7196856730011519, clf__penalty=l1, clf__solver=lbfgs;, score=nan total time=   0.0s\n",
      "[CV 4/15] END clf__C=0.7196856730011519, clf__penalty=l1, clf__solver=lbfgs;, score=nan total time=   0.0s\n",
      "[CV 5/15] END clf__C=0.7196856730011519, clf__penalty=l1, clf__solver=lbfgs;, score=nan total time=   0.0s\n",
      "[CV 6/15] END clf__C=0.7196856730011519, clf__penalty=l1, clf__solver=lbfgs;, score=nan total time=   0.0s\n",
      "[CV 7/15] END clf__C=0.7196856730011519, clf__penalty=l1, clf__solver=lbfgs;, score=nan total time=   0.0s\n",
      "[CV 8/15] END clf__C=0.7196856730011519, clf__penalty=l1, clf__solver=lbfgs;, score=nan total time=   0.0s\n",
      "[CV 9/15] END clf__C=0.7196856730011519, clf__penalty=l1, clf__solver=lbfgs;, score=nan total time=   0.0s\n",
      "[CV 10/15] END clf__C=0.7196856730011519, clf__penalty=l1, clf__solver=lbfgs;, score=nan total time=   0.0s\n",
      "[CV 11/15] END clf__C=0.7196856730011519, clf__penalty=l1, clf__solver=lbfgs;, score=nan total time=   0.0s\n",
      "[CV 12/15] END clf__C=0.7196856730011519, clf__penalty=l1, clf__solver=lbfgs;, score=nan total time=   0.0s\n",
      "[CV 13/15] END clf__C=0.7196856730011519, clf__penalty=l1, clf__solver=lbfgs;, score=nan total time=   0.0s\n",
      "[CV 14/15] END clf__C=0.7196856730011519, clf__penalty=l1, clf__solver=lbfgs;, score=nan total time=   0.0s\n",
      "[CV 15/15] END clf__C=0.7196856730011519, clf__penalty=l1, clf__solver=lbfgs;, score=nan total time=   0.0s\n",
      "[CV 1/15] END clf__C=0.7196856730011519, clf__penalty=l1, clf__solver=liblinear;, score=0.655 total time=   0.7s\n",
      "[CV 2/15] END clf__C=0.7196856730011519, clf__penalty=l1, clf__solver=liblinear;, score=0.622 total time=   0.6s\n",
      "[CV 3/15] END clf__C=0.7196856730011519, clf__penalty=l1, clf__solver=liblinear;, score=0.632 total time=   0.3s\n",
      "[CV 4/15] END clf__C=0.7196856730011519, clf__penalty=l1, clf__solver=liblinear;, score=0.595 total time=   1.1s\n",
      "[CV 5/15] END clf__C=0.7196856730011519, clf__penalty=l1, clf__solver=liblinear;, score=0.591 total time=   0.6s\n",
      "[CV 6/15] END clf__C=0.7196856730011519, clf__penalty=l1, clf__solver=liblinear;, score=0.560 total time=   0.8s\n",
      "[CV 7/15] END clf__C=0.7196856730011519, clf__penalty=l1, clf__solver=liblinear;, score=0.653 total time=   0.6s\n",
      "[CV 8/15] END clf__C=0.7196856730011519, clf__penalty=l1, clf__solver=liblinear;, score=0.674 total time=   0.5s\n",
      "[CV 9/15] END clf__C=0.7196856730011519, clf__penalty=l1, clf__solver=liblinear;, score=0.593 total time=   0.8s\n",
      "[CV 10/15] END clf__C=0.7196856730011519, clf__penalty=l1, clf__solver=liblinear;, score=0.629 total time=   0.8s\n",
      "[CV 11/15] END clf__C=0.7196856730011519, clf__penalty=l1, clf__solver=liblinear;, score=0.612 total time=   1.0s\n",
      "[CV 12/15] END clf__C=0.7196856730011519, clf__penalty=l1, clf__solver=liblinear;, score=0.581 total time=   0.6s\n",
      "[CV 13/15] END clf__C=0.7196856730011519, clf__penalty=l1, clf__solver=liblinear;, score=0.632 total time=   0.7s\n",
      "[CV 14/15] END clf__C=0.7196856730011519, clf__penalty=l1, clf__solver=liblinear;, score=0.648 total time=   0.8s\n",
      "[CV 15/15] END clf__C=0.7196856730011519, clf__penalty=l1, clf__solver=liblinear;, score=0.682 total time=   0.7s\n",
      "[CV 1/15] END clf__C=0.7196856730011519, clf__penalty=l1, clf__solver=sag;, score=nan total time=   0.0s\n",
      "[CV 2/15] END clf__C=0.7196856730011519, clf__penalty=l1, clf__solver=sag;, score=nan total time=   0.0s\n",
      "[CV 3/15] END clf__C=0.7196856730011519, clf__penalty=l1, clf__solver=sag;, score=nan total time=   0.0s\n",
      "[CV 4/15] END clf__C=0.7196856730011519, clf__penalty=l1, clf__solver=sag;, score=nan total time=   0.0s\n",
      "[CV 5/15] END clf__C=0.7196856730011519, clf__penalty=l1, clf__solver=sag;, score=nan total time=   0.0s\n",
      "[CV 6/15] END clf__C=0.7196856730011519, clf__penalty=l1, clf__solver=sag;, score=nan total time=   0.0s\n",
      "[CV 7/15] END clf__C=0.7196856730011519, clf__penalty=l1, clf__solver=sag;, score=nan total time=   0.0s\n",
      "[CV 8/15] END clf__C=0.7196856730011519, clf__penalty=l1, clf__solver=sag;, score=nan total time=   0.0s\n",
      "[CV 9/15] END clf__C=0.7196856730011519, clf__penalty=l1, clf__solver=sag;, score=nan total time=   0.0s\n",
      "[CV 10/15] END clf__C=0.7196856730011519, clf__penalty=l1, clf__solver=sag;, score=nan total time=   0.0s\n",
      "[CV 11/15] END clf__C=0.7196856730011519, clf__penalty=l1, clf__solver=sag;, score=nan total time=   0.0s\n",
      "[CV 12/15] END clf__C=0.7196856730011519, clf__penalty=l1, clf__solver=sag;, score=nan total time=   0.0s\n",
      "[CV 13/15] END clf__C=0.7196856730011519, clf__penalty=l1, clf__solver=sag;, score=nan total time=   0.0s\n",
      "[CV 14/15] END clf__C=0.7196856730011519, clf__penalty=l1, clf__solver=sag;, score=nan total time=   0.0s\n",
      "[CV 15/15] END clf__C=0.7196856730011519, clf__penalty=l1, clf__solver=sag;, score=nan total time=   0.0s\n",
      "[CV 1/15] END clf__C=0.7196856730011519, clf__penalty=l2, clf__solver=lbfgs;, score=0.638 total time=   0.2s\n",
      "[CV 2/15] END clf__C=0.7196856730011519, clf__penalty=l2, clf__solver=lbfgs;, score=0.625 total time=   0.2s\n",
      "[CV 3/15] END clf__C=0.7196856730011519, clf__penalty=l2, clf__solver=lbfgs;, score=0.634 total time=   0.2s\n",
      "[CV 4/15] END clf__C=0.7196856730011519, clf__penalty=l2, clf__solver=lbfgs;, score=0.571 total time=   0.2s\n",
      "[CV 5/15] END clf__C=0.7196856730011519, clf__penalty=l2, clf__solver=lbfgs;, score=0.579 total time=   0.2s\n",
      "[CV 6/15] END clf__C=0.7196856730011519, clf__penalty=l2, clf__solver=lbfgs;, score=0.549 total time=   0.2s\n",
      "[CV 7/15] END clf__C=0.7196856730011519, clf__penalty=l2, clf__solver=lbfgs;, score=0.644 total time=   0.2s\n",
      "[CV 8/15] END clf__C=0.7196856730011519, clf__penalty=l2, clf__solver=lbfgs;, score=0.657 total time=   0.2s\n",
      "[CV 9/15] END clf__C=0.7196856730011519, clf__penalty=l2, clf__solver=lbfgs;, score=0.585 total time=   0.2s\n",
      "[CV 10/15] END clf__C=0.7196856730011519, clf__penalty=l2, clf__solver=lbfgs;, score=0.616 total time=   0.2s\n",
      "[CV 11/15] END clf__C=0.7196856730011519, clf__penalty=l2, clf__solver=lbfgs;, score=0.580 total time=   0.2s\n",
      "[CV 12/15] END clf__C=0.7196856730011519, clf__penalty=l2, clf__solver=lbfgs;, score=0.584 total time=   0.2s\n",
      "[CV 13/15] END clf__C=0.7196856730011519, clf__penalty=l2, clf__solver=lbfgs;, score=0.636 total time=   0.2s\n",
      "[CV 14/15] END clf__C=0.7196856730011519, clf__penalty=l2, clf__solver=lbfgs;, score=0.636 total time=   0.2s\n",
      "[CV 15/15] END clf__C=0.7196856730011519, clf__penalty=l2, clf__solver=lbfgs;, score=0.669 total time=   0.2s\n",
      "[CV 1/15] END clf__C=0.7196856730011519, clf__penalty=l2, clf__solver=liblinear;, score=0.645 total time=   0.1s\n",
      "[CV 2/15] END clf__C=0.7196856730011519, clf__penalty=l2, clf__solver=liblinear;, score=0.621 total time=   0.1s\n",
      "[CV 3/15] END clf__C=0.7196856730011519, clf__penalty=l2, clf__solver=liblinear;, score=0.628 total time=   0.1s\n",
      "[CV 4/15] END clf__C=0.7196856730011519, clf__penalty=l2, clf__solver=liblinear;, score=0.584 total time=   0.1s\n",
      "[CV 5/15] END clf__C=0.7196856730011519, clf__penalty=l2, clf__solver=liblinear;, score=0.579 total time=   0.1s\n",
      "[CV 6/15] END clf__C=0.7196856730011519, clf__penalty=l2, clf__solver=liblinear;, score=0.545 total time=   0.1s\n",
      "[CV 7/15] END clf__C=0.7196856730011519, clf__penalty=l2, clf__solver=liblinear;, score=0.651 total time=   0.1s\n",
      "[CV 8/15] END clf__C=0.7196856730011519, clf__penalty=l2, clf__solver=liblinear;, score=0.659 total time=   0.1s\n",
      "[CV 9/15] END clf__C=0.7196856730011519, clf__penalty=l2, clf__solver=liblinear;, score=0.584 total time=   0.1s\n",
      "[CV 10/15] END clf__C=0.7196856730011519, clf__penalty=l2, clf__solver=liblinear;, score=0.625 total time=   0.1s\n",
      "[CV 11/15] END clf__C=0.7196856730011519, clf__penalty=l2, clf__solver=liblinear;, score=0.588 total time=   0.1s\n",
      "[CV 12/15] END clf__C=0.7196856730011519, clf__penalty=l2, clf__solver=liblinear;, score=0.585 total time=   0.1s\n",
      "[CV 13/15] END clf__C=0.7196856730011519, clf__penalty=l2, clf__solver=liblinear;, score=0.634 total time=   0.1s\n",
      "[CV 14/15] END clf__C=0.7196856730011519, clf__penalty=l2, clf__solver=liblinear;, score=0.630 total time=   0.1s\n"
     ]
    },
    {
     "name": "stdout",
     "output_type": "stream",
     "text": [
      "[CV 15/15] END clf__C=0.7196856730011519, clf__penalty=l2, clf__solver=liblinear;, score=0.673 total time=   0.1s\n",
      "[CV 1/15] END clf__C=0.7196856730011519, clf__penalty=l2, clf__solver=sag;, score=0.638 total time=   0.4s\n",
      "[CV 2/15] END clf__C=0.7196856730011519, clf__penalty=l2, clf__solver=sag;, score=0.625 total time=   0.4s\n",
      "[CV 3/15] END clf__C=0.7196856730011519, clf__penalty=l2, clf__solver=sag;, score=0.634 total time=   0.4s\n",
      "[CV 4/15] END clf__C=0.7196856730011519, clf__penalty=l2, clf__solver=sag;, score=0.571 total time=   0.4s\n",
      "[CV 5/15] END clf__C=0.7196856730011519, clf__penalty=l2, clf__solver=sag;, score=0.579 total time=   0.4s\n",
      "[CV 6/15] END clf__C=0.7196856730011519, clf__penalty=l2, clf__solver=sag;, score=0.549 total time=   0.4s\n",
      "[CV 7/15] END clf__C=0.7196856730011519, clf__penalty=l2, clf__solver=sag;, score=0.644 total time=   0.4s\n",
      "[CV 8/15] END clf__C=0.7196856730011519, clf__penalty=l2, clf__solver=sag;, score=0.657 total time=   0.4s\n",
      "[CV 9/15] END clf__C=0.7196856730011519, clf__penalty=l2, clf__solver=sag;, score=0.585 total time=   0.4s\n",
      "[CV 10/15] END clf__C=0.7196856730011519, clf__penalty=l2, clf__solver=sag;, score=0.616 total time=   0.4s\n",
      "[CV 11/15] END clf__C=0.7196856730011519, clf__penalty=l2, clf__solver=sag;, score=0.580 total time=   0.4s\n",
      "[CV 12/15] END clf__C=0.7196856730011519, clf__penalty=l2, clf__solver=sag;, score=0.584 total time=   0.4s\n",
      "[CV 13/15] END clf__C=0.7196856730011519, clf__penalty=l2, clf__solver=sag;, score=0.636 total time=   0.4s\n",
      "[CV 14/15] END clf__C=0.7196856730011519, clf__penalty=l2, clf__solver=sag;, score=0.636 total time=   0.4s\n",
      "[CV 15/15] END clf__C=0.7196856730011519, clf__penalty=l2, clf__solver=sag;, score=0.669 total time=   0.4s\n"
     ]
    },
    {
     "name": "stderr",
     "output_type": "stream",
     "text": [
      "/Users/guy/miniforge3/envs/.venv/lib/python3.9/site-packages/sklearn/linear_model/_logistic.py:1483: UserWarning: Setting penalty='none' will ignore the C and l1_ratio parameters\n",
      "  warnings.warn(\n"
     ]
    },
    {
     "name": "stdout",
     "output_type": "stream",
     "text": [
      "[CV 1/15] END clf__C=0.7196856730011519, clf__penalty=none, clf__solver=lbfgs;, score=0.635 total time=   0.3s\n"
     ]
    },
    {
     "name": "stderr",
     "output_type": "stream",
     "text": [
      "/Users/guy/miniforge3/envs/.venv/lib/python3.9/site-packages/sklearn/linear_model/_logistic.py:1483: UserWarning: Setting penalty='none' will ignore the C and l1_ratio parameters\n",
      "  warnings.warn(\n"
     ]
    },
    {
     "name": "stdout",
     "output_type": "stream",
     "text": [
      "[CV 2/15] END clf__C=0.7196856730011519, clf__penalty=none, clf__solver=lbfgs;, score=0.619 total time=   0.4s\n"
     ]
    },
    {
     "name": "stderr",
     "output_type": "stream",
     "text": [
      "/Users/guy/miniforge3/envs/.venv/lib/python3.9/site-packages/sklearn/linear_model/_logistic.py:1483: UserWarning: Setting penalty='none' will ignore the C and l1_ratio parameters\n",
      "  warnings.warn(\n"
     ]
    },
    {
     "name": "stdout",
     "output_type": "stream",
     "text": [
      "[CV 3/15] END clf__C=0.7196856730011519, clf__penalty=none, clf__solver=lbfgs;, score=0.640 total time=   0.4s\n"
     ]
    },
    {
     "name": "stderr",
     "output_type": "stream",
     "text": [
      "/Users/guy/miniforge3/envs/.venv/lib/python3.9/site-packages/sklearn/linear_model/_logistic.py:1483: UserWarning: Setting penalty='none' will ignore the C and l1_ratio parameters\n",
      "  warnings.warn(\n"
     ]
    },
    {
     "name": "stdout",
     "output_type": "stream",
     "text": [
      "[CV 4/15] END clf__C=0.7196856730011519, clf__penalty=none, clf__solver=lbfgs;, score=0.565 total time=   0.4s\n"
     ]
    },
    {
     "name": "stderr",
     "output_type": "stream",
     "text": [
      "/Users/guy/miniforge3/envs/.venv/lib/python3.9/site-packages/sklearn/linear_model/_logistic.py:1483: UserWarning: Setting penalty='none' will ignore the C and l1_ratio parameters\n",
      "  warnings.warn(\n"
     ]
    },
    {
     "name": "stdout",
     "output_type": "stream",
     "text": [
      "[CV 5/15] END clf__C=0.7196856730011519, clf__penalty=none, clf__solver=lbfgs;, score=0.582 total time=   0.4s\n"
     ]
    },
    {
     "name": "stderr",
     "output_type": "stream",
     "text": [
      "/Users/guy/miniforge3/envs/.venv/lib/python3.9/site-packages/sklearn/linear_model/_logistic.py:1483: UserWarning: Setting penalty='none' will ignore the C and l1_ratio parameters\n",
      "  warnings.warn(\n"
     ]
    },
    {
     "name": "stdout",
     "output_type": "stream",
     "text": [
      "[CV 6/15] END clf__C=0.7196856730011519, clf__penalty=none, clf__solver=lbfgs;, score=0.554 total time=   0.4s\n"
     ]
    },
    {
     "name": "stderr",
     "output_type": "stream",
     "text": [
      "/Users/guy/miniforge3/envs/.venv/lib/python3.9/site-packages/sklearn/linear_model/_logistic.py:1483: UserWarning: Setting penalty='none' will ignore the C and l1_ratio parameters\n",
      "  warnings.warn(\n"
     ]
    },
    {
     "name": "stdout",
     "output_type": "stream",
     "text": [
      "[CV 7/15] END clf__C=0.7196856730011519, clf__penalty=none, clf__solver=lbfgs;, score=0.649 total time=   0.4s\n"
     ]
    },
    {
     "name": "stderr",
     "output_type": "stream",
     "text": [
      "/Users/guy/miniforge3/envs/.venv/lib/python3.9/site-packages/sklearn/linear_model/_logistic.py:1483: UserWarning: Setting penalty='none' will ignore the C and l1_ratio parameters\n",
      "  warnings.warn(\n"
     ]
    },
    {
     "name": "stdout",
     "output_type": "stream",
     "text": [
      "[CV 8/15] END clf__C=0.7196856730011519, clf__penalty=none, clf__solver=lbfgs;, score=0.653 total time=   0.4s\n"
     ]
    },
    {
     "name": "stderr",
     "output_type": "stream",
     "text": [
      "/Users/guy/miniforge3/envs/.venv/lib/python3.9/site-packages/sklearn/linear_model/_logistic.py:1483: UserWarning: Setting penalty='none' will ignore the C and l1_ratio parameters\n",
      "  warnings.warn(\n"
     ]
    },
    {
     "name": "stdout",
     "output_type": "stream",
     "text": [
      "[CV 9/15] END clf__C=0.7196856730011519, clf__penalty=none, clf__solver=lbfgs;, score=0.584 total time=   0.5s\n"
     ]
    },
    {
     "name": "stderr",
     "output_type": "stream",
     "text": [
      "/Users/guy/miniforge3/envs/.venv/lib/python3.9/site-packages/sklearn/linear_model/_logistic.py:1483: UserWarning: Setting penalty='none' will ignore the C and l1_ratio parameters\n",
      "  warnings.warn(\n"
     ]
    },
    {
     "name": "stdout",
     "output_type": "stream",
     "text": [
      "[CV 10/15] END clf__C=0.7196856730011519, clf__penalty=none, clf__solver=lbfgs;, score=0.623 total time=   0.5s\n"
     ]
    },
    {
     "name": "stderr",
     "output_type": "stream",
     "text": [
      "/Users/guy/miniforge3/envs/.venv/lib/python3.9/site-packages/sklearn/linear_model/_logistic.py:1483: UserWarning: Setting penalty='none' will ignore the C and l1_ratio parameters\n",
      "  warnings.warn(\n"
     ]
    },
    {
     "name": "stdout",
     "output_type": "stream",
     "text": [
      "[CV 11/15] END clf__C=0.7196856730011519, clf__penalty=none, clf__solver=lbfgs;, score=0.576 total time=   0.4s\n"
     ]
    },
    {
     "name": "stderr",
     "output_type": "stream",
     "text": [
      "/Users/guy/miniforge3/envs/.venv/lib/python3.9/site-packages/sklearn/linear_model/_logistic.py:1483: UserWarning: Setting penalty='none' will ignore the C and l1_ratio parameters\n",
      "  warnings.warn(\n"
     ]
    },
    {
     "name": "stdout",
     "output_type": "stream",
     "text": [
      "[CV 12/15] END clf__C=0.7196856730011519, clf__penalty=none, clf__solver=lbfgs;, score=0.586 total time=   0.4s\n"
     ]
    },
    {
     "name": "stderr",
     "output_type": "stream",
     "text": [
      "/Users/guy/miniforge3/envs/.venv/lib/python3.9/site-packages/sklearn/linear_model/_logistic.py:1483: UserWarning: Setting penalty='none' will ignore the C and l1_ratio parameters\n",
      "  warnings.warn(\n"
     ]
    },
    {
     "name": "stdout",
     "output_type": "stream",
     "text": [
      "[CV 13/15] END clf__C=0.7196856730011519, clf__penalty=none, clf__solver=lbfgs;, score=0.643 total time=   0.5s\n"
     ]
    },
    {
     "name": "stderr",
     "output_type": "stream",
     "text": [
      "/Users/guy/miniforge3/envs/.venv/lib/python3.9/site-packages/sklearn/linear_model/_logistic.py:1483: UserWarning: Setting penalty='none' will ignore the C and l1_ratio parameters\n",
      "  warnings.warn(\n"
     ]
    },
    {
     "name": "stdout",
     "output_type": "stream",
     "text": [
      "[CV 14/15] END clf__C=0.7196856730011519, clf__penalty=none, clf__solver=lbfgs;, score=0.633 total time=   0.4s\n"
     ]
    },
    {
     "name": "stderr",
     "output_type": "stream",
     "text": [
      "/Users/guy/miniforge3/envs/.venv/lib/python3.9/site-packages/sklearn/linear_model/_logistic.py:1483: UserWarning: Setting penalty='none' will ignore the C and l1_ratio parameters\n",
      "  warnings.warn(\n"
     ]
    },
    {
     "name": "stdout",
     "output_type": "stream",
     "text": [
      "[CV 15/15] END clf__C=0.7196856730011519, clf__penalty=none, clf__solver=lbfgs;, score=0.668 total time=   0.4s\n",
      "[CV 1/15] END clf__C=0.7196856730011519, clf__penalty=none, clf__solver=liblinear;, score=nan total time=   0.0s\n",
      "[CV 2/15] END clf__C=0.7196856730011519, clf__penalty=none, clf__solver=liblinear;, score=nan total time=   0.0s\n",
      "[CV 3/15] END clf__C=0.7196856730011519, clf__penalty=none, clf__solver=liblinear;, score=nan total time=   0.0s\n",
      "[CV 4/15] END clf__C=0.7196856730011519, clf__penalty=none, clf__solver=liblinear;, score=nan total time=   0.0s\n",
      "[CV 5/15] END clf__C=0.7196856730011519, clf__penalty=none, clf__solver=liblinear;, score=nan total time=   0.0s\n",
      "[CV 6/15] END clf__C=0.7196856730011519, clf__penalty=none, clf__solver=liblinear;, score=nan total time=   0.0s\n",
      "[CV 7/15] END clf__C=0.7196856730011519, clf__penalty=none, clf__solver=liblinear;, score=nan total time=   0.0s\n",
      "[CV 8/15] END clf__C=0.7196856730011519, clf__penalty=none, clf__solver=liblinear;, score=nan total time=   0.0s\n",
      "[CV 9/15] END clf__C=0.7196856730011519, clf__penalty=none, clf__solver=liblinear;, score=nan total time=   0.0s\n",
      "[CV 10/15] END clf__C=0.7196856730011519, clf__penalty=none, clf__solver=liblinear;, score=nan total time=   0.0s\n",
      "[CV 11/15] END clf__C=0.7196856730011519, clf__penalty=none, clf__solver=liblinear;, score=nan total time=   0.0s\n",
      "[CV 12/15] END clf__C=0.7196856730011519, clf__penalty=none, clf__solver=liblinear;, score=nan total time=   0.0s\n",
      "[CV 13/15] END clf__C=0.7196856730011519, clf__penalty=none, clf__solver=liblinear;, score=nan total time=   0.0s\n",
      "[CV 14/15] END clf__C=0.7196856730011519, clf__penalty=none, clf__solver=liblinear;, score=nan total time=   0.0s\n",
      "[CV 15/15] END clf__C=0.7196856730011519, clf__penalty=none, clf__solver=liblinear;, score=nan total time=   0.0s\n"
     ]
    },
    {
     "name": "stderr",
     "output_type": "stream",
     "text": [
      "/Users/guy/miniforge3/envs/.venv/lib/python3.9/site-packages/sklearn/linear_model/_logistic.py:1483: UserWarning: Setting penalty='none' will ignore the C and l1_ratio parameters\n",
      "  warnings.warn(\n"
     ]
    },
    {
     "name": "stdout",
     "output_type": "stream",
     "text": [
      "[CV 1/15] END clf__C=0.7196856730011519, clf__penalty=none, clf__solver=sag;, score=0.635 total time=   0.9s\n"
     ]
    },
    {
     "name": "stderr",
     "output_type": "stream",
     "text": [
      "/Users/guy/miniforge3/envs/.venv/lib/python3.9/site-packages/sklearn/linear_model/_logistic.py:1483: UserWarning: Setting penalty='none' will ignore the C and l1_ratio parameters\n",
      "  warnings.warn(\n"
     ]
    },
    {
     "name": "stdout",
     "output_type": "stream",
     "text": [
      "[CV 2/15] END clf__C=0.7196856730011519, clf__penalty=none, clf__solver=sag;, score=0.619 total time=   1.6s\n"
     ]
    },
    {
     "name": "stderr",
     "output_type": "stream",
     "text": [
      "/Users/guy/miniforge3/envs/.venv/lib/python3.9/site-packages/sklearn/linear_model/_logistic.py:1483: UserWarning: Setting penalty='none' will ignore the C and l1_ratio parameters\n",
      "  warnings.warn(\n"
     ]
    },
    {
     "name": "stdout",
     "output_type": "stream",
     "text": [
      "[CV 3/15] END clf__C=0.7196856730011519, clf__penalty=none, clf__solver=sag;, score=0.640 total time=   1.6s\n"
     ]
    },
    {
     "name": "stderr",
     "output_type": "stream",
     "text": [
      "/Users/guy/miniforge3/envs/.venv/lib/python3.9/site-packages/sklearn/linear_model/_logistic.py:1483: UserWarning: Setting penalty='none' will ignore the C and l1_ratio parameters\n",
      "  warnings.warn(\n"
     ]
    },
    {
     "name": "stdout",
     "output_type": "stream",
     "text": [
      "[CV 4/15] END clf__C=0.7196856730011519, clf__penalty=none, clf__solver=sag;, score=0.565 total time=   1.8s\n"
     ]
    },
    {
     "name": "stderr",
     "output_type": "stream",
     "text": [
      "/Users/guy/miniforge3/envs/.venv/lib/python3.9/site-packages/sklearn/linear_model/_logistic.py:1483: UserWarning: Setting penalty='none' will ignore the C and l1_ratio parameters\n",
      "  warnings.warn(\n"
     ]
    },
    {
     "name": "stdout",
     "output_type": "stream",
     "text": [
      "[CV 5/15] END clf__C=0.7196856730011519, clf__penalty=none, clf__solver=sag;, score=0.582 total time=   1.7s\n"
     ]
    },
    {
     "name": "stderr",
     "output_type": "stream",
     "text": [
      "/Users/guy/miniforge3/envs/.venv/lib/python3.9/site-packages/sklearn/linear_model/_logistic.py:1483: UserWarning: Setting penalty='none' will ignore the C and l1_ratio parameters\n",
      "  warnings.warn(\n"
     ]
    },
    {
     "name": "stdout",
     "output_type": "stream",
     "text": [
      "[CV 6/15] END clf__C=0.7196856730011519, clf__penalty=none, clf__solver=sag;, score=0.554 total time=   1.8s\n"
     ]
    },
    {
     "name": "stderr",
     "output_type": "stream",
     "text": [
      "/Users/guy/miniforge3/envs/.venv/lib/python3.9/site-packages/sklearn/linear_model/_logistic.py:1483: UserWarning: Setting penalty='none' will ignore the C and l1_ratio parameters\n",
      "  warnings.warn(\n"
     ]
    },
    {
     "name": "stdout",
     "output_type": "stream",
     "text": [
      "[CV 7/15] END clf__C=0.7196856730011519, clf__penalty=none, clf__solver=sag;, score=0.649 total time=   1.1s\n"
     ]
    },
    {
     "name": "stderr",
     "output_type": "stream",
     "text": [
      "/Users/guy/miniforge3/envs/.venv/lib/python3.9/site-packages/sklearn/linear_model/_logistic.py:1483: UserWarning: Setting penalty='none' will ignore the C and l1_ratio parameters\n",
      "  warnings.warn(\n"
     ]
    },
    {
     "name": "stdout",
     "output_type": "stream",
     "text": [
      "[CV 8/15] END clf__C=0.7196856730011519, clf__penalty=none, clf__solver=sag;, score=0.653 total time=   1.6s\n"
     ]
    },
    {
     "name": "stderr",
     "output_type": "stream",
     "text": [
      "/Users/guy/miniforge3/envs/.venv/lib/python3.9/site-packages/sklearn/linear_model/_logistic.py:1483: UserWarning: Setting penalty='none' will ignore the C and l1_ratio parameters\n",
      "  warnings.warn(\n"
     ]
    },
    {
     "name": "stdout",
     "output_type": "stream",
     "text": [
      "[CV 9/15] END clf__C=0.7196856730011519, clf__penalty=none, clf__solver=sag;, score=0.584 total time=   1.6s\n"
     ]
    },
    {
     "name": "stderr",
     "output_type": "stream",
     "text": [
      "/Users/guy/miniforge3/envs/.venv/lib/python3.9/site-packages/sklearn/linear_model/_logistic.py:1483: UserWarning: Setting penalty='none' will ignore the C and l1_ratio parameters\n",
      "  warnings.warn(\n"
     ]
    },
    {
     "name": "stdout",
     "output_type": "stream",
     "text": [
      "[CV 10/15] END clf__C=0.7196856730011519, clf__penalty=none, clf__solver=sag;, score=0.622 total time=   1.4s\n"
     ]
    },
    {
     "name": "stderr",
     "output_type": "stream",
     "text": [
      "/Users/guy/miniforge3/envs/.venv/lib/python3.9/site-packages/sklearn/linear_model/_logistic.py:1483: UserWarning: Setting penalty='none' will ignore the C and l1_ratio parameters\n",
      "  warnings.warn(\n"
     ]
    },
    {
     "name": "stdout",
     "output_type": "stream",
     "text": [
      "[CV 11/15] END clf__C=0.7196856730011519, clf__penalty=none, clf__solver=sag;, score=0.576 total time=   1.4s\n"
     ]
    },
    {
     "name": "stderr",
     "output_type": "stream",
     "text": [
      "/Users/guy/miniforge3/envs/.venv/lib/python3.9/site-packages/sklearn/linear_model/_logistic.py:1483: UserWarning: Setting penalty='none' will ignore the C and l1_ratio parameters\n",
      "  warnings.warn(\n"
     ]
    },
    {
     "name": "stdout",
     "output_type": "stream",
     "text": [
      "[CV 12/15] END clf__C=0.7196856730011519, clf__penalty=none, clf__solver=sag;, score=0.586 total time=   1.6s\n"
     ]
    },
    {
     "name": "stderr",
     "output_type": "stream",
     "text": [
      "/Users/guy/miniforge3/envs/.venv/lib/python3.9/site-packages/sklearn/linear_model/_logistic.py:1483: UserWarning: Setting penalty='none' will ignore the C and l1_ratio parameters\n",
      "  warnings.warn(\n"
     ]
    },
    {
     "name": "stdout",
     "output_type": "stream",
     "text": [
      "[CV 13/15] END clf__C=0.7196856730011519, clf__penalty=none, clf__solver=sag;, score=0.643 total time=   1.6s\n"
     ]
    },
    {
     "name": "stderr",
     "output_type": "stream",
     "text": [
      "/Users/guy/miniforge3/envs/.venv/lib/python3.9/site-packages/sklearn/linear_model/_logistic.py:1483: UserWarning: Setting penalty='none' will ignore the C and l1_ratio parameters\n",
      "  warnings.warn(\n"
     ]
    },
    {
     "name": "stdout",
     "output_type": "stream",
     "text": [
      "[CV 14/15] END clf__C=0.7196856730011519, clf__penalty=none, clf__solver=sag;, score=0.633 total time=   1.6s\n"
     ]
    },
    {
     "name": "stderr",
     "output_type": "stream",
     "text": [
      "/Users/guy/miniforge3/envs/.venv/lib/python3.9/site-packages/sklearn/linear_model/_logistic.py:1483: UserWarning: Setting penalty='none' will ignore the C and l1_ratio parameters\n",
      "  warnings.warn(\n"
     ]
    },
    {
     "name": "stdout",
     "output_type": "stream",
     "text": [
      "[CV 15/15] END clf__C=0.7196856730011519, clf__penalty=none, clf__solver=sag;, score=0.668 total time=   0.9s\n",
      "[CV 1/15] END clf__C=0.8483428982440719, clf__penalty=l1, clf__solver=lbfgs;, score=nan total time=   0.0s\n",
      "[CV 2/15] END clf__C=0.8483428982440719, clf__penalty=l1, clf__solver=lbfgs;, score=nan total time=   0.0s\n",
      "[CV 3/15] END clf__C=0.8483428982440719, clf__penalty=l1, clf__solver=lbfgs;, score=nan total time=   0.0s\n",
      "[CV 4/15] END clf__C=0.8483428982440719, clf__penalty=l1, clf__solver=lbfgs;, score=nan total time=   0.0s\n",
      "[CV 5/15] END clf__C=0.8483428982440719, clf__penalty=l1, clf__solver=lbfgs;, score=nan total time=   0.0s\n",
      "[CV 6/15] END clf__C=0.8483428982440719, clf__penalty=l1, clf__solver=lbfgs;, score=nan total time=   0.0s\n",
      "[CV 7/15] END clf__C=0.8483428982440719, clf__penalty=l1, clf__solver=lbfgs;, score=nan total time=   0.0s\n",
      "[CV 8/15] END clf__C=0.8483428982440719, clf__penalty=l1, clf__solver=lbfgs;, score=nan total time=   0.0s\n",
      "[CV 9/15] END clf__C=0.8483428982440719, clf__penalty=l1, clf__solver=lbfgs;, score=nan total time=   0.0s\n",
      "[CV 10/15] END clf__C=0.8483428982440719, clf__penalty=l1, clf__solver=lbfgs;, score=nan total time=   0.0s\n",
      "[CV 11/15] END clf__C=0.8483428982440719, clf__penalty=l1, clf__solver=lbfgs;, score=nan total time=   0.0s\n",
      "[CV 12/15] END clf__C=0.8483428982440719, clf__penalty=l1, clf__solver=lbfgs;, score=nan total time=   0.0s\n",
      "[CV 13/15] END clf__C=0.8483428982440719, clf__penalty=l1, clf__solver=lbfgs;, score=nan total time=   0.0s\n",
      "[CV 14/15] END clf__C=0.8483428982440719, clf__penalty=l1, clf__solver=lbfgs;, score=nan total time=   0.0s\n",
      "[CV 15/15] END clf__C=0.8483428982440719, clf__penalty=l1, clf__solver=lbfgs;, score=nan total time=   0.0s\n",
      "[CV 1/15] END clf__C=0.8483428982440719, clf__penalty=l1, clf__solver=liblinear;, score=0.652 total time=   0.8s\n",
      "[CV 2/15] END clf__C=0.8483428982440719, clf__penalty=l1, clf__solver=liblinear;, score=0.623 total time=   0.8s\n",
      "[CV 3/15] END clf__C=0.8483428982440719, clf__penalty=l1, clf__solver=liblinear;, score=0.633 total time=   0.8s\n",
      "[CV 4/15] END clf__C=0.8483428982440719, clf__penalty=l1, clf__solver=liblinear;, score=0.594 total time=   1.1s\n",
      "[CV 5/15] END clf__C=0.8483428982440719, clf__penalty=l1, clf__solver=liblinear;, score=0.591 total time=   0.7s\n",
      "[CV 6/15] END clf__C=0.8483428982440719, clf__penalty=l1, clf__solver=liblinear;, score=0.558 total time=   1.1s\n",
      "[CV 7/15] END clf__C=0.8483428982440719, clf__penalty=l1, clf__solver=liblinear;, score=0.652 total time=   0.7s\n",
      "[CV 8/15] END clf__C=0.8483428982440719, clf__penalty=l1, clf__solver=liblinear;, score=0.675 total time=   0.6s\n",
      "[CV 9/15] END clf__C=0.8483428982440719, clf__penalty=l1, clf__solver=liblinear;, score=0.592 total time=   0.8s\n",
      "[CV 10/15] END clf__C=0.8483428982440719, clf__penalty=l1, clf__solver=liblinear;, score=0.627 total time=   0.9s\n",
      "[CV 11/15] END clf__C=0.8483428982440719, clf__penalty=l1, clf__solver=liblinear;, score=0.607 total time=   0.8s\n",
      "[CV 12/15] END clf__C=0.8483428982440719, clf__penalty=l1, clf__solver=liblinear;, score=0.581 total time=   0.7s\n",
      "[CV 13/15] END clf__C=0.8483428982440719, clf__penalty=l1, clf__solver=liblinear;, score=0.635 total time=   0.8s\n",
      "[CV 14/15] END clf__C=0.8483428982440719, clf__penalty=l1, clf__solver=liblinear;, score=0.647 total time=   0.8s\n",
      "[CV 15/15] END clf__C=0.8483428982440719, clf__penalty=l1, clf__solver=liblinear;, score=0.681 total time=   0.7s\n",
      "[CV 1/15] END clf__C=0.8483428982440719, clf__penalty=l1, clf__solver=sag;, score=nan total time=   0.0s\n",
      "[CV 2/15] END clf__C=0.8483428982440719, clf__penalty=l1, clf__solver=sag;, score=nan total time=   0.0s\n",
      "[CV 3/15] END clf__C=0.8483428982440719, clf__penalty=l1, clf__solver=sag;, score=nan total time=   0.0s\n",
      "[CV 4/15] END clf__C=0.8483428982440719, clf__penalty=l1, clf__solver=sag;, score=nan total time=   0.0s\n",
      "[CV 5/15] END clf__C=0.8483428982440719, clf__penalty=l1, clf__solver=sag;, score=nan total time=   0.0s\n",
      "[CV 6/15] END clf__C=0.8483428982440719, clf__penalty=l1, clf__solver=sag;, score=nan total time=   0.0s\n",
      "[CV 7/15] END clf__C=0.8483428982440719, clf__penalty=l1, clf__solver=sag;, score=nan total time=   0.0s\n",
      "[CV 8/15] END clf__C=0.8483428982440719, clf__penalty=l1, clf__solver=sag;, score=nan total time=   0.0s\n",
      "[CV 9/15] END clf__C=0.8483428982440719, clf__penalty=l1, clf__solver=sag;, score=nan total time=   0.0s\n",
      "[CV 10/15] END clf__C=0.8483428982440719, clf__penalty=l1, clf__solver=sag;, score=nan total time=   0.0s\n",
      "[CV 11/15] END clf__C=0.8483428982440719, clf__penalty=l1, clf__solver=sag;, score=nan total time=   0.0s\n",
      "[CV 12/15] END clf__C=0.8483428982440719, clf__penalty=l1, clf__solver=sag;, score=nan total time=   0.0s\n",
      "[CV 13/15] END clf__C=0.8483428982440719, clf__penalty=l1, clf__solver=sag;, score=nan total time=   0.0s\n",
      "[CV 14/15] END clf__C=0.8483428982440719, clf__penalty=l1, clf__solver=sag;, score=nan total time=   0.0s\n",
      "[CV 15/15] END clf__C=0.8483428982440719, clf__penalty=l1, clf__solver=sag;, score=nan total time=   0.0s\n",
      "[CV 1/15] END clf__C=0.8483428982440719, clf__penalty=l2, clf__solver=lbfgs;, score=0.638 total time=   0.3s\n",
      "[CV 2/15] END clf__C=0.8483428982440719, clf__penalty=l2, clf__solver=lbfgs;, score=0.625 total time=   0.3s\n",
      "[CV 3/15] END clf__C=0.8483428982440719, clf__penalty=l2, clf__solver=lbfgs;, score=0.635 total time=   0.2s\n",
      "[CV 4/15] END clf__C=0.8483428982440719, clf__penalty=l2, clf__solver=lbfgs;, score=0.570 total time=   0.2s\n",
      "[CV 5/15] END clf__C=0.8483428982440719, clf__penalty=l2, clf__solver=lbfgs;, score=0.579 total time=   0.2s\n",
      "[CV 6/15] END clf__C=0.8483428982440719, clf__penalty=l2, clf__solver=lbfgs;, score=0.549 total time=   0.2s\n",
      "[CV 7/15] END clf__C=0.8483428982440719, clf__penalty=l2, clf__solver=lbfgs;, score=0.644 total time=   0.2s\n",
      "[CV 8/15] END clf__C=0.8483428982440719, clf__penalty=l2, clf__solver=lbfgs;, score=0.657 total time=   0.2s\n",
      "[CV 9/15] END clf__C=0.8483428982440719, clf__penalty=l2, clf__solver=lbfgs;, score=0.585 total time=   0.2s\n",
      "[CV 10/15] END clf__C=0.8483428982440719, clf__penalty=l2, clf__solver=lbfgs;, score=0.617 total time=   0.2s\n",
      "[CV 11/15] END clf__C=0.8483428982440719, clf__penalty=l2, clf__solver=lbfgs;, score=0.580 total time=   0.2s\n",
      "[CV 12/15] END clf__C=0.8483428982440719, clf__penalty=l2, clf__solver=lbfgs;, score=0.584 total time=   0.3s\n",
      "[CV 13/15] END clf__C=0.8483428982440719, clf__penalty=l2, clf__solver=lbfgs;, score=0.636 total time=   0.3s\n",
      "[CV 14/15] END clf__C=0.8483428982440719, clf__penalty=l2, clf__solver=lbfgs;, score=0.636 total time=   0.3s\n",
      "[CV 15/15] END clf__C=0.8483428982440719, clf__penalty=l2, clf__solver=lbfgs;, score=0.669 total time=   0.3s\n",
      "[CV 1/15] END clf__C=0.8483428982440719, clf__penalty=l2, clf__solver=liblinear;, score=0.644 total time=   0.1s\n",
      "[CV 2/15] END clf__C=0.8483428982440719, clf__penalty=l2, clf__solver=liblinear;, score=0.622 total time=   0.1s\n",
      "[CV 3/15] END clf__C=0.8483428982440719, clf__penalty=l2, clf__solver=liblinear;, score=0.629 total time=   0.1s\n",
      "[CV 4/15] END clf__C=0.8483428982440719, clf__penalty=l2, clf__solver=liblinear;, score=0.583 total time=   0.1s\n",
      "[CV 5/15] END clf__C=0.8483428982440719, clf__penalty=l2, clf__solver=liblinear;, score=0.579 total time=   0.1s\n",
      "[CV 6/15] END clf__C=0.8483428982440719, clf__penalty=l2, clf__solver=liblinear;, score=0.545 total time=   0.1s\n",
      "[CV 7/15] END clf__C=0.8483428982440719, clf__penalty=l2, clf__solver=liblinear;, score=0.650 total time=   0.1s\n",
      "[CV 8/15] END clf__C=0.8483428982440719, clf__penalty=l2, clf__solver=liblinear;, score=0.659 total time=   0.1s\n",
      "[CV 9/15] END clf__C=0.8483428982440719, clf__penalty=l2, clf__solver=liblinear;, score=0.584 total time=   0.1s\n",
      "[CV 10/15] END clf__C=0.8483428982440719, clf__penalty=l2, clf__solver=liblinear;, score=0.625 total time=   0.1s\n",
      "[CV 11/15] END clf__C=0.8483428982440719, clf__penalty=l2, clf__solver=liblinear;, score=0.588 total time=   0.1s\n",
      "[CV 12/15] END clf__C=0.8483428982440719, clf__penalty=l2, clf__solver=liblinear;, score=0.585 total time=   0.1s\n",
      "[CV 13/15] END clf__C=0.8483428982440719, clf__penalty=l2, clf__solver=liblinear;, score=0.635 total time=   0.1s\n",
      "[CV 14/15] END clf__C=0.8483428982440719, clf__penalty=l2, clf__solver=liblinear;, score=0.630 total time=   0.1s\n",
      "[CV 15/15] END clf__C=0.8483428982440719, clf__penalty=l2, clf__solver=liblinear;, score=0.673 total time=   0.1s\n"
     ]
    },
    {
     "name": "stdout",
     "output_type": "stream",
     "text": [
      "[CV 1/15] END clf__C=0.8483428982440719, clf__penalty=l2, clf__solver=sag;, score=0.638 total time=   0.5s\n",
      "[CV 2/15] END clf__C=0.8483428982440719, clf__penalty=l2, clf__solver=sag;, score=0.625 total time=   0.4s\n",
      "[CV 3/15] END clf__C=0.8483428982440719, clf__penalty=l2, clf__solver=sag;, score=0.635 total time=   0.4s\n",
      "[CV 4/15] END clf__C=0.8483428982440719, clf__penalty=l2, clf__solver=sag;, score=0.570 total time=   0.4s\n",
      "[CV 5/15] END clf__C=0.8483428982440719, clf__penalty=l2, clf__solver=sag;, score=0.579 total time=   0.4s\n",
      "[CV 6/15] END clf__C=0.8483428982440719, clf__penalty=l2, clf__solver=sag;, score=0.549 total time=   0.4s\n",
      "[CV 7/15] END clf__C=0.8483428982440719, clf__penalty=l2, clf__solver=sag;, score=0.644 total time=   0.4s\n",
      "[CV 8/15] END clf__C=0.8483428982440719, clf__penalty=l2, clf__solver=sag;, score=0.657 total time=   0.4s\n",
      "[CV 9/15] END clf__C=0.8483428982440719, clf__penalty=l2, clf__solver=sag;, score=0.585 total time=   0.4s\n",
      "[CV 10/15] END clf__C=0.8483428982440719, clf__penalty=l2, clf__solver=sag;, score=0.617 total time=   0.5s\n",
      "[CV 11/15] END clf__C=0.8483428982440719, clf__penalty=l2, clf__solver=sag;, score=0.580 total time=   0.4s\n",
      "[CV 12/15] END clf__C=0.8483428982440719, clf__penalty=l2, clf__solver=sag;, score=0.584 total time=   0.5s\n",
      "[CV 13/15] END clf__C=0.8483428982440719, clf__penalty=l2, clf__solver=sag;, score=0.636 total time=   0.4s\n",
      "[CV 14/15] END clf__C=0.8483428982440719, clf__penalty=l2, clf__solver=sag;, score=0.636 total time=   0.4s\n",
      "[CV 15/15] END clf__C=0.8483428982440719, clf__penalty=l2, clf__solver=sag;, score=0.669 total time=   0.5s\n"
     ]
    },
    {
     "name": "stderr",
     "output_type": "stream",
     "text": [
      "/Users/guy/miniforge3/envs/.venv/lib/python3.9/site-packages/sklearn/linear_model/_logistic.py:1483: UserWarning: Setting penalty='none' will ignore the C and l1_ratio parameters\n",
      "  warnings.warn(\n"
     ]
    },
    {
     "name": "stdout",
     "output_type": "stream",
     "text": [
      "[CV 1/15] END clf__C=0.8483428982440719, clf__penalty=none, clf__solver=lbfgs;, score=0.635 total time=   0.3s\n"
     ]
    },
    {
     "name": "stderr",
     "output_type": "stream",
     "text": [
      "/Users/guy/miniforge3/envs/.venv/lib/python3.9/site-packages/sklearn/linear_model/_logistic.py:1483: UserWarning: Setting penalty='none' will ignore the C and l1_ratio parameters\n",
      "  warnings.warn(\n"
     ]
    },
    {
     "name": "stdout",
     "output_type": "stream",
     "text": [
      "[CV 2/15] END clf__C=0.8483428982440719, clf__penalty=none, clf__solver=lbfgs;, score=0.619 total time=   0.4s\n"
     ]
    },
    {
     "name": "stderr",
     "output_type": "stream",
     "text": [
      "/Users/guy/miniforge3/envs/.venv/lib/python3.9/site-packages/sklearn/linear_model/_logistic.py:1483: UserWarning: Setting penalty='none' will ignore the C and l1_ratio parameters\n",
      "  warnings.warn(\n"
     ]
    },
    {
     "name": "stdout",
     "output_type": "stream",
     "text": [
      "[CV 3/15] END clf__C=0.8483428982440719, clf__penalty=none, clf__solver=lbfgs;, score=0.640 total time=   0.4s\n"
     ]
    },
    {
     "name": "stderr",
     "output_type": "stream",
     "text": [
      "/Users/guy/miniforge3/envs/.venv/lib/python3.9/site-packages/sklearn/linear_model/_logistic.py:1483: UserWarning: Setting penalty='none' will ignore the C and l1_ratio parameters\n",
      "  warnings.warn(\n"
     ]
    },
    {
     "name": "stdout",
     "output_type": "stream",
     "text": [
      "[CV 4/15] END clf__C=0.8483428982440719, clf__penalty=none, clf__solver=lbfgs;, score=0.565 total time=   0.4s\n"
     ]
    },
    {
     "name": "stderr",
     "output_type": "stream",
     "text": [
      "/Users/guy/miniforge3/envs/.venv/lib/python3.9/site-packages/sklearn/linear_model/_logistic.py:1483: UserWarning: Setting penalty='none' will ignore the C and l1_ratio parameters\n",
      "  warnings.warn(\n"
     ]
    },
    {
     "name": "stdout",
     "output_type": "stream",
     "text": [
      "[CV 5/15] END clf__C=0.8483428982440719, clf__penalty=none, clf__solver=lbfgs;, score=0.582 total time=   0.4s\n"
     ]
    },
    {
     "name": "stderr",
     "output_type": "stream",
     "text": [
      "/Users/guy/miniforge3/envs/.venv/lib/python3.9/site-packages/sklearn/linear_model/_logistic.py:1483: UserWarning: Setting penalty='none' will ignore the C and l1_ratio parameters\n",
      "  warnings.warn(\n"
     ]
    },
    {
     "name": "stdout",
     "output_type": "stream",
     "text": [
      "[CV 6/15] END clf__C=0.8483428982440719, clf__penalty=none, clf__solver=lbfgs;, score=0.554 total time=   0.4s\n"
     ]
    },
    {
     "name": "stderr",
     "output_type": "stream",
     "text": [
      "/Users/guy/miniforge3/envs/.venv/lib/python3.9/site-packages/sklearn/linear_model/_logistic.py:1483: UserWarning: Setting penalty='none' will ignore the C and l1_ratio parameters\n",
      "  warnings.warn(\n"
     ]
    },
    {
     "name": "stdout",
     "output_type": "stream",
     "text": [
      "[CV 7/15] END clf__C=0.8483428982440719, clf__penalty=none, clf__solver=lbfgs;, score=0.649 total time=   0.5s\n"
     ]
    },
    {
     "name": "stderr",
     "output_type": "stream",
     "text": [
      "/Users/guy/miniforge3/envs/.venv/lib/python3.9/site-packages/sklearn/linear_model/_logistic.py:1483: UserWarning: Setting penalty='none' will ignore the C and l1_ratio parameters\n",
      "  warnings.warn(\n"
     ]
    },
    {
     "name": "stdout",
     "output_type": "stream",
     "text": [
      "[CV 8/15] END clf__C=0.8483428982440719, clf__penalty=none, clf__solver=lbfgs;, score=0.653 total time=   0.5s\n"
     ]
    },
    {
     "name": "stderr",
     "output_type": "stream",
     "text": [
      "/Users/guy/miniforge3/envs/.venv/lib/python3.9/site-packages/sklearn/linear_model/_logistic.py:1483: UserWarning: Setting penalty='none' will ignore the C and l1_ratio parameters\n",
      "  warnings.warn(\n"
     ]
    },
    {
     "name": "stdout",
     "output_type": "stream",
     "text": [
      "[CV 9/15] END clf__C=0.8483428982440719, clf__penalty=none, clf__solver=lbfgs;, score=0.584 total time=   0.4s\n"
     ]
    },
    {
     "name": "stderr",
     "output_type": "stream",
     "text": [
      "/Users/guy/miniforge3/envs/.venv/lib/python3.9/site-packages/sklearn/linear_model/_logistic.py:1483: UserWarning: Setting penalty='none' will ignore the C and l1_ratio parameters\n",
      "  warnings.warn(\n"
     ]
    },
    {
     "name": "stdout",
     "output_type": "stream",
     "text": [
      "[CV 10/15] END clf__C=0.8483428982440719, clf__penalty=none, clf__solver=lbfgs;, score=0.623 total time=   0.4s\n"
     ]
    },
    {
     "name": "stderr",
     "output_type": "stream",
     "text": [
      "/Users/guy/miniforge3/envs/.venv/lib/python3.9/site-packages/sklearn/linear_model/_logistic.py:1483: UserWarning: Setting penalty='none' will ignore the C and l1_ratio parameters\n",
      "  warnings.warn(\n"
     ]
    },
    {
     "name": "stdout",
     "output_type": "stream",
     "text": [
      "[CV 11/15] END clf__C=0.8483428982440719, clf__penalty=none, clf__solver=lbfgs;, score=0.576 total time=   0.5s\n"
     ]
    },
    {
     "name": "stderr",
     "output_type": "stream",
     "text": [
      "/Users/guy/miniforge3/envs/.venv/lib/python3.9/site-packages/sklearn/linear_model/_logistic.py:1483: UserWarning: Setting penalty='none' will ignore the C and l1_ratio parameters\n",
      "  warnings.warn(\n"
     ]
    },
    {
     "name": "stdout",
     "output_type": "stream",
     "text": [
      "[CV 12/15] END clf__C=0.8483428982440719, clf__penalty=none, clf__solver=lbfgs;, score=0.586 total time=   0.4s\n"
     ]
    },
    {
     "name": "stderr",
     "output_type": "stream",
     "text": [
      "/Users/guy/miniforge3/envs/.venv/lib/python3.9/site-packages/sklearn/linear_model/_logistic.py:1483: UserWarning: Setting penalty='none' will ignore the C and l1_ratio parameters\n",
      "  warnings.warn(\n"
     ]
    },
    {
     "name": "stdout",
     "output_type": "stream",
     "text": [
      "[CV 13/15] END clf__C=0.8483428982440719, clf__penalty=none, clf__solver=lbfgs;, score=0.643 total time=   0.5s\n"
     ]
    },
    {
     "name": "stderr",
     "output_type": "stream",
     "text": [
      "/Users/guy/miniforge3/envs/.venv/lib/python3.9/site-packages/sklearn/linear_model/_logistic.py:1483: UserWarning: Setting penalty='none' will ignore the C and l1_ratio parameters\n",
      "  warnings.warn(\n"
     ]
    },
    {
     "name": "stdout",
     "output_type": "stream",
     "text": [
      "[CV 14/15] END clf__C=0.8483428982440719, clf__penalty=none, clf__solver=lbfgs;, score=0.633 total time=   0.5s\n"
     ]
    },
    {
     "name": "stderr",
     "output_type": "stream",
     "text": [
      "/Users/guy/miniforge3/envs/.venv/lib/python3.9/site-packages/sklearn/linear_model/_logistic.py:1483: UserWarning: Setting penalty='none' will ignore the C and l1_ratio parameters\n",
      "  warnings.warn(\n"
     ]
    },
    {
     "name": "stdout",
     "output_type": "stream",
     "text": [
      "[CV 15/15] END clf__C=0.8483428982440719, clf__penalty=none, clf__solver=lbfgs;, score=0.668 total time=   0.4s\n",
      "[CV 1/15] END clf__C=0.8483428982440719, clf__penalty=none, clf__solver=liblinear;, score=nan total time=   0.0s\n",
      "[CV 2/15] END clf__C=0.8483428982440719, clf__penalty=none, clf__solver=liblinear;, score=nan total time=   0.0s\n",
      "[CV 3/15] END clf__C=0.8483428982440719, clf__penalty=none, clf__solver=liblinear;, score=nan total time=   0.0s\n",
      "[CV 4/15] END clf__C=0.8483428982440719, clf__penalty=none, clf__solver=liblinear;, score=nan total time=   0.0s\n",
      "[CV 5/15] END clf__C=0.8483428982440719, clf__penalty=none, clf__solver=liblinear;, score=nan total time=   0.0s\n",
      "[CV 6/15] END clf__C=0.8483428982440719, clf__penalty=none, clf__solver=liblinear;, score=nan total time=   0.0s\n",
      "[CV 7/15] END clf__C=0.8483428982440719, clf__penalty=none, clf__solver=liblinear;, score=nan total time=   0.0s\n",
      "[CV 8/15] END clf__C=0.8483428982440719, clf__penalty=none, clf__solver=liblinear;, score=nan total time=   0.0s\n",
      "[CV 9/15] END clf__C=0.8483428982440719, clf__penalty=none, clf__solver=liblinear;, score=nan total time=   0.0s\n",
      "[CV 10/15] END clf__C=0.8483428982440719, clf__penalty=none, clf__solver=liblinear;, score=nan total time=   0.0s\n",
      "[CV 11/15] END clf__C=0.8483428982440719, clf__penalty=none, clf__solver=liblinear;, score=nan total time=   0.0s\n",
      "[CV 12/15] END clf__C=0.8483428982440719, clf__penalty=none, clf__solver=liblinear;, score=nan total time=   0.0s\n",
      "[CV 13/15] END clf__C=0.8483428982440719, clf__penalty=none, clf__solver=liblinear;, score=nan total time=   0.0s\n",
      "[CV 14/15] END clf__C=0.8483428982440719, clf__penalty=none, clf__solver=liblinear;, score=nan total time=   0.0s\n",
      "[CV 15/15] END clf__C=0.8483428982440719, clf__penalty=none, clf__solver=liblinear;, score=nan total time=   0.0s\n"
     ]
    },
    {
     "name": "stderr",
     "output_type": "stream",
     "text": [
      "/Users/guy/miniforge3/envs/.venv/lib/python3.9/site-packages/sklearn/linear_model/_logistic.py:1483: UserWarning: Setting penalty='none' will ignore the C and l1_ratio parameters\n",
      "  warnings.warn(\n"
     ]
    },
    {
     "name": "stdout",
     "output_type": "stream",
     "text": [
      "[CV 1/15] END clf__C=0.8483428982440719, clf__penalty=none, clf__solver=sag;, score=0.635 total time=   1.0s\n"
     ]
    },
    {
     "name": "stderr",
     "output_type": "stream",
     "text": [
      "/Users/guy/miniforge3/envs/.venv/lib/python3.9/site-packages/sklearn/linear_model/_logistic.py:1483: UserWarning: Setting penalty='none' will ignore the C and l1_ratio parameters\n",
      "  warnings.warn(\n"
     ]
    },
    {
     "name": "stdout",
     "output_type": "stream",
     "text": [
      "[CV 2/15] END clf__C=0.8483428982440719, clf__penalty=none, clf__solver=sag;, score=0.619 total time=   1.6s\n"
     ]
    },
    {
     "name": "stderr",
     "output_type": "stream",
     "text": [
      "/Users/guy/miniforge3/envs/.venv/lib/python3.9/site-packages/sklearn/linear_model/_logistic.py:1483: UserWarning: Setting penalty='none' will ignore the C and l1_ratio parameters\n",
      "  warnings.warn(\n"
     ]
    },
    {
     "name": "stdout",
     "output_type": "stream",
     "text": [
      "[CV 3/15] END clf__C=0.8483428982440719, clf__penalty=none, clf__solver=sag;, score=0.640 total time=   1.6s\n"
     ]
    },
    {
     "name": "stderr",
     "output_type": "stream",
     "text": [
      "/Users/guy/miniforge3/envs/.venv/lib/python3.9/site-packages/sklearn/linear_model/_logistic.py:1483: UserWarning: Setting penalty='none' will ignore the C and l1_ratio parameters\n",
      "  warnings.warn(\n"
     ]
    },
    {
     "name": "stdout",
     "output_type": "stream",
     "text": [
      "[CV 4/15] END clf__C=0.8483428982440719, clf__penalty=none, clf__solver=sag;, score=0.565 total time=   1.5s\n"
     ]
    },
    {
     "name": "stderr",
     "output_type": "stream",
     "text": [
      "/Users/guy/miniforge3/envs/.venv/lib/python3.9/site-packages/sklearn/linear_model/_logistic.py:1483: UserWarning: Setting penalty='none' will ignore the C and l1_ratio parameters\n",
      "  warnings.warn(\n"
     ]
    },
    {
     "name": "stdout",
     "output_type": "stream",
     "text": [
      "[CV 5/15] END clf__C=0.8483428982440719, clf__penalty=none, clf__solver=sag;, score=0.582 total time=   1.4s\n"
     ]
    },
    {
     "name": "stderr",
     "output_type": "stream",
     "text": [
      "/Users/guy/miniforge3/envs/.venv/lib/python3.9/site-packages/sklearn/linear_model/_logistic.py:1483: UserWarning: Setting penalty='none' will ignore the C and l1_ratio parameters\n",
      "  warnings.warn(\n"
     ]
    },
    {
     "name": "stdout",
     "output_type": "stream",
     "text": [
      "[CV 6/15] END clf__C=0.8483428982440719, clf__penalty=none, clf__solver=sag;, score=0.554 total time=   1.6s\n"
     ]
    },
    {
     "name": "stderr",
     "output_type": "stream",
     "text": [
      "/Users/guy/miniforge3/envs/.venv/lib/python3.9/site-packages/sklearn/linear_model/_logistic.py:1483: UserWarning: Setting penalty='none' will ignore the C and l1_ratio parameters\n",
      "  warnings.warn(\n"
     ]
    },
    {
     "name": "stdout",
     "output_type": "stream",
     "text": [
      "[CV 7/15] END clf__C=0.8483428982440719, clf__penalty=none, clf__solver=sag;, score=0.649 total time=   1.2s\n"
     ]
    },
    {
     "name": "stderr",
     "output_type": "stream",
     "text": [
      "/Users/guy/miniforge3/envs/.venv/lib/python3.9/site-packages/sklearn/linear_model/_logistic.py:1483: UserWarning: Setting penalty='none' will ignore the C and l1_ratio parameters\n",
      "  warnings.warn(\n"
     ]
    },
    {
     "name": "stdout",
     "output_type": "stream",
     "text": [
      "[CV 8/15] END clf__C=0.8483428982440719, clf__penalty=none, clf__solver=sag;, score=0.653 total time=   1.6s\n"
     ]
    },
    {
     "name": "stderr",
     "output_type": "stream",
     "text": [
      "/Users/guy/miniforge3/envs/.venv/lib/python3.9/site-packages/sklearn/linear_model/_logistic.py:1483: UserWarning: Setting penalty='none' will ignore the C and l1_ratio parameters\n",
      "  warnings.warn(\n"
     ]
    },
    {
     "name": "stdout",
     "output_type": "stream",
     "text": [
      "[CV 9/15] END clf__C=0.8483428982440719, clf__penalty=none, clf__solver=sag;, score=0.584 total time=   1.6s\n"
     ]
    },
    {
     "name": "stderr",
     "output_type": "stream",
     "text": [
      "/Users/guy/miniforge3/envs/.venv/lib/python3.9/site-packages/sklearn/linear_model/_logistic.py:1483: UserWarning: Setting penalty='none' will ignore the C and l1_ratio parameters\n",
      "  warnings.warn(\n"
     ]
    },
    {
     "name": "stdout",
     "output_type": "stream",
     "text": [
      "[CV 10/15] END clf__C=0.8483428982440719, clf__penalty=none, clf__solver=sag;, score=0.622 total time=   1.4s\n"
     ]
    },
    {
     "name": "stderr",
     "output_type": "stream",
     "text": [
      "/Users/guy/miniforge3/envs/.venv/lib/python3.9/site-packages/sklearn/linear_model/_logistic.py:1483: UserWarning: Setting penalty='none' will ignore the C and l1_ratio parameters\n",
      "  warnings.warn(\n"
     ]
    },
    {
     "name": "stdout",
     "output_type": "stream",
     "text": [
      "[CV 11/15] END clf__C=0.8483428982440719, clf__penalty=none, clf__solver=sag;, score=0.576 total time=   1.4s\n"
     ]
    },
    {
     "name": "stderr",
     "output_type": "stream",
     "text": [
      "/Users/guy/miniforge3/envs/.venv/lib/python3.9/site-packages/sklearn/linear_model/_logistic.py:1483: UserWarning: Setting penalty='none' will ignore the C and l1_ratio parameters\n",
      "  warnings.warn(\n"
     ]
    },
    {
     "name": "stdout",
     "output_type": "stream",
     "text": [
      "[CV 12/15] END clf__C=0.8483428982440719, clf__penalty=none, clf__solver=sag;, score=0.586 total time=   1.6s\n"
     ]
    },
    {
     "name": "stderr",
     "output_type": "stream",
     "text": [
      "/Users/guy/miniforge3/envs/.venv/lib/python3.9/site-packages/sklearn/linear_model/_logistic.py:1483: UserWarning: Setting penalty='none' will ignore the C and l1_ratio parameters\n",
      "  warnings.warn(\n"
     ]
    },
    {
     "name": "stdout",
     "output_type": "stream",
     "text": [
      "[CV 13/15] END clf__C=0.8483428982440719, clf__penalty=none, clf__solver=sag;, score=0.643 total time=   1.6s\n"
     ]
    },
    {
     "name": "stderr",
     "output_type": "stream",
     "text": [
      "/Users/guy/miniforge3/envs/.venv/lib/python3.9/site-packages/sklearn/linear_model/_logistic.py:1483: UserWarning: Setting penalty='none' will ignore the C and l1_ratio parameters\n",
      "  warnings.warn(\n"
     ]
    },
    {
     "name": "stdout",
     "output_type": "stream",
     "text": [
      "[CV 14/15] END clf__C=0.8483428982440719, clf__penalty=none, clf__solver=sag;, score=0.633 total time=   1.6s\n"
     ]
    },
    {
     "name": "stderr",
     "output_type": "stream",
     "text": [
      "/Users/guy/miniforge3/envs/.venv/lib/python3.9/site-packages/sklearn/linear_model/_logistic.py:1483: UserWarning: Setting penalty='none' will ignore the C and l1_ratio parameters\n",
      "  warnings.warn(\n"
     ]
    },
    {
     "name": "stdout",
     "output_type": "stream",
     "text": [
      "[CV 15/15] END clf__C=0.8483428982440719, clf__penalty=none, clf__solver=sag;, score=0.668 total time=   0.9s\n",
      "[CV 1/15] END clf__C=1.0, clf__penalty=l1, clf__solver=lbfgs;, score=nan total time=   0.0s\n",
      "[CV 2/15] END clf__C=1.0, clf__penalty=l1, clf__solver=lbfgs;, score=nan total time=   0.0s\n",
      "[CV 3/15] END clf__C=1.0, clf__penalty=l1, clf__solver=lbfgs;, score=nan total time=   0.0s\n",
      "[CV 4/15] END clf__C=1.0, clf__penalty=l1, clf__solver=lbfgs;, score=nan total time=   0.0s\n",
      "[CV 5/15] END clf__C=1.0, clf__penalty=l1, clf__solver=lbfgs;, score=nan total time=   0.0s\n",
      "[CV 6/15] END clf__C=1.0, clf__penalty=l1, clf__solver=lbfgs;, score=nan total time=   0.0s\n",
      "[CV 7/15] END clf__C=1.0, clf__penalty=l1, clf__solver=lbfgs;, score=nan total time=   0.0s\n",
      "[CV 8/15] END clf__C=1.0, clf__penalty=l1, clf__solver=lbfgs;, score=nan total time=   0.0s\n",
      "[CV 9/15] END clf__C=1.0, clf__penalty=l1, clf__solver=lbfgs;, score=nan total time=   0.0s\n",
      "[CV 10/15] END clf__C=1.0, clf__penalty=l1, clf__solver=lbfgs;, score=nan total time=   0.0s\n",
      "[CV 11/15] END clf__C=1.0, clf__penalty=l1, clf__solver=lbfgs;, score=nan total time=   0.0s\n",
      "[CV 12/15] END clf__C=1.0, clf__penalty=l1, clf__solver=lbfgs;, score=nan total time=   0.0s\n",
      "[CV 13/15] END clf__C=1.0, clf__penalty=l1, clf__solver=lbfgs;, score=nan total time=   0.0s\n",
      "[CV 14/15] END clf__C=1.0, clf__penalty=l1, clf__solver=lbfgs;, score=nan total time=   0.0s\n",
      "[CV 15/15] END clf__C=1.0, clf__penalty=l1, clf__solver=lbfgs;, score=nan total time=   0.0s\n",
      "[CV 1/15] END clf__C=1.0, clf__penalty=l1, clf__solver=liblinear;, score=0.649 total time=   0.9s\n",
      "[CV 2/15] END clf__C=1.0, clf__penalty=l1, clf__solver=liblinear;, score=0.623 total time=   0.5s\n",
      "[CV 3/15] END clf__C=1.0, clf__penalty=l1, clf__solver=liblinear;, score=0.634 total time=   0.9s\n",
      "[CV 4/15] END clf__C=1.0, clf__penalty=l1, clf__solver=liblinear;, score=0.591 total time=   1.3s\n",
      "[CV 5/15] END clf__C=1.0, clf__penalty=l1, clf__solver=liblinear;, score=0.590 total time=   0.7s\n",
      "[CV 6/15] END clf__C=1.0, clf__penalty=l1, clf__solver=liblinear;, score=0.557 total time=   1.2s\n",
      "[CV 7/15] END clf__C=1.0, clf__penalty=l1, clf__solver=liblinear;, score=0.651 total time=   0.8s\n",
      "[CV 8/15] END clf__C=1.0, clf__penalty=l1, clf__solver=liblinear;, score=0.674 total time=   0.7s\n",
      "[CV 9/15] END clf__C=1.0, clf__penalty=l1, clf__solver=liblinear;, score=0.592 total time=   0.9s\n",
      "[CV 10/15] END clf__C=1.0, clf__penalty=l1, clf__solver=liblinear;, score=0.625 total time=   1.0s\n",
      "[CV 11/15] END clf__C=1.0, clf__penalty=l1, clf__solver=liblinear;, score=0.602 total time=   1.1s\n",
      "[CV 12/15] END clf__C=1.0, clf__penalty=l1, clf__solver=liblinear;, score=0.581 total time=   0.9s\n",
      "[CV 13/15] END clf__C=1.0, clf__penalty=l1, clf__solver=liblinear;, score=0.636 total time=   1.0s\n",
      "[CV 14/15] END clf__C=1.0, clf__penalty=l1, clf__solver=liblinear;, score=0.646 total time=   0.8s\n",
      "[CV 15/15] END clf__C=1.0, clf__penalty=l1, clf__solver=liblinear;, score=0.681 total time=   0.9s\n",
      "[CV 1/15] END clf__C=1.0, clf__penalty=l1, clf__solver=sag;, score=nan total time=   0.0s\n",
      "[CV 2/15] END clf__C=1.0, clf__penalty=l1, clf__solver=sag;, score=nan total time=   0.0s\n",
      "[CV 3/15] END clf__C=1.0, clf__penalty=l1, clf__solver=sag;, score=nan total time=   0.0s\n",
      "[CV 4/15] END clf__C=1.0, clf__penalty=l1, clf__solver=sag;, score=nan total time=   0.0s\n",
      "[CV 5/15] END clf__C=1.0, clf__penalty=l1, clf__solver=sag;, score=nan total time=   0.0s\n",
      "[CV 6/15] END clf__C=1.0, clf__penalty=l1, clf__solver=sag;, score=nan total time=   0.0s\n",
      "[CV 7/15] END clf__C=1.0, clf__penalty=l1, clf__solver=sag;, score=nan total time=   0.0s\n",
      "[CV 8/15] END clf__C=1.0, clf__penalty=l1, clf__solver=sag;, score=nan total time=   0.0s\n",
      "[CV 9/15] END clf__C=1.0, clf__penalty=l1, clf__solver=sag;, score=nan total time=   0.0s\n",
      "[CV 10/15] END clf__C=1.0, clf__penalty=l1, clf__solver=sag;, score=nan total time=   0.0s\n",
      "[CV 11/15] END clf__C=1.0, clf__penalty=l1, clf__solver=sag;, score=nan total time=   0.0s\n",
      "[CV 12/15] END clf__C=1.0, clf__penalty=l1, clf__solver=sag;, score=nan total time=   0.0s\n",
      "[CV 13/15] END clf__C=1.0, clf__penalty=l1, clf__solver=sag;, score=nan total time=   0.0s\n",
      "[CV 14/15] END clf__C=1.0, clf__penalty=l1, clf__solver=sag;, score=nan total time=   0.0s\n",
      "[CV 15/15] END clf__C=1.0, clf__penalty=l1, clf__solver=sag;, score=nan total time=   0.0s\n",
      "[CV 1/15] END clf__C=1.0, clf__penalty=l2, clf__solver=lbfgs;, score=0.637 total time=   0.2s\n",
      "[CV 2/15] END clf__C=1.0, clf__penalty=l2, clf__solver=lbfgs;, score=0.625 total time=   0.3s\n",
      "[CV 3/15] END clf__C=1.0, clf__penalty=l2, clf__solver=lbfgs;, score=0.635 total time=   0.3s\n",
      "[CV 4/15] END clf__C=1.0, clf__penalty=l2, clf__solver=lbfgs;, score=0.570 total time=   0.2s\n",
      "[CV 5/15] END clf__C=1.0, clf__penalty=l2, clf__solver=lbfgs;, score=0.579 total time=   0.2s\n",
      "[CV 6/15] END clf__C=1.0, clf__penalty=l2, clf__solver=lbfgs;, score=0.549 total time=   0.3s\n",
      "[CV 7/15] END clf__C=1.0, clf__penalty=l2, clf__solver=lbfgs;, score=0.644 total time=   0.3s\n",
      "[CV 8/15] END clf__C=1.0, clf__penalty=l2, clf__solver=lbfgs;, score=0.656 total time=   0.3s\n",
      "[CV 9/15] END clf__C=1.0, clf__penalty=l2, clf__solver=lbfgs;, score=0.585 total time=   0.2s\n",
      "[CV 10/15] END clf__C=1.0, clf__penalty=l2, clf__solver=lbfgs;, score=0.618 total time=   0.2s\n",
      "[CV 11/15] END clf__C=1.0, clf__penalty=l2, clf__solver=lbfgs;, score=0.579 total time=   0.3s\n",
      "[CV 12/15] END clf__C=1.0, clf__penalty=l2, clf__solver=lbfgs;, score=0.584 total time=   0.3s\n",
      "[CV 13/15] END clf__C=1.0, clf__penalty=l2, clf__solver=lbfgs;, score=0.637 total time=   0.3s\n",
      "[CV 14/15] END clf__C=1.0, clf__penalty=l2, clf__solver=lbfgs;, score=0.635 total time=   0.2s\n",
      "[CV 15/15] END clf__C=1.0, clf__penalty=l2, clf__solver=lbfgs;, score=0.669 total time=   0.3s\n",
      "[CV 1/15] END clf__C=1.0, clf__penalty=l2, clf__solver=liblinear;, score=0.643 total time=   0.1s\n",
      "[CV 2/15] END clf__C=1.0, clf__penalty=l2, clf__solver=liblinear;, score=0.621 total time=   0.1s\n",
      "[CV 3/15] END clf__C=1.0, clf__penalty=l2, clf__solver=liblinear;, score=0.630 total time=   0.1s\n",
      "[CV 4/15] END clf__C=1.0, clf__penalty=l2, clf__solver=liblinear;, score=0.581 total time=   0.1s\n",
      "[CV 5/15] END clf__C=1.0, clf__penalty=l2, clf__solver=liblinear;, score=0.579 total time=   0.1s\n",
      "[CV 6/15] END clf__C=1.0, clf__penalty=l2, clf__solver=liblinear;, score=0.546 total time=   0.1s\n",
      "[CV 7/15] END clf__C=1.0, clf__penalty=l2, clf__solver=liblinear;, score=0.650 total time=   0.1s\n",
      "[CV 8/15] END clf__C=1.0, clf__penalty=l2, clf__solver=liblinear;, score=0.659 total time=   0.1s\n",
      "[CV 9/15] END clf__C=1.0, clf__penalty=l2, clf__solver=liblinear;, score=0.584 total time=   0.1s\n",
      "[CV 10/15] END clf__C=1.0, clf__penalty=l2, clf__solver=liblinear;, score=0.625 total time=   0.1s\n",
      "[CV 11/15] END clf__C=1.0, clf__penalty=l2, clf__solver=liblinear;, score=0.587 total time=   0.1s\n",
      "[CV 12/15] END clf__C=1.0, clf__penalty=l2, clf__solver=liblinear;, score=0.585 total time=   0.1s\n",
      "[CV 13/15] END clf__C=1.0, clf__penalty=l2, clf__solver=liblinear;, score=0.636 total time=   0.1s\n",
      "[CV 14/15] END clf__C=1.0, clf__penalty=l2, clf__solver=liblinear;, score=0.630 total time=   0.1s\n",
      "[CV 15/15] END clf__C=1.0, clf__penalty=l2, clf__solver=liblinear;, score=0.672 total time=   0.1s\n",
      "[CV 1/15] END clf__C=1.0, clf__penalty=l2, clf__solver=sag;, score=0.637 total time=   0.5s\n",
      "[CV 2/15] END clf__C=1.0, clf__penalty=l2, clf__solver=sag;, score=0.625 total time=   0.4s\n",
      "[CV 3/15] END clf__C=1.0, clf__penalty=l2, clf__solver=sag;, score=0.635 total time=   0.4s\n",
      "[CV 4/15] END clf__C=1.0, clf__penalty=l2, clf__solver=sag;, score=0.570 total time=   0.4s\n",
      "[CV 5/15] END clf__C=1.0, clf__penalty=l2, clf__solver=sag;, score=0.579 total time=   0.5s\n",
      "[CV 6/15] END clf__C=1.0, clf__penalty=l2, clf__solver=sag;, score=0.549 total time=   0.5s\n",
      "[CV 7/15] END clf__C=1.0, clf__penalty=l2, clf__solver=sag;, score=0.644 total time=   0.6s\n",
      "[CV 8/15] END clf__C=1.0, clf__penalty=l2, clf__solver=sag;, score=0.656 total time=   0.4s\n",
      "[CV 9/15] END clf__C=1.0, clf__penalty=l2, clf__solver=sag;, score=0.585 total time=   0.5s\n",
      "[CV 10/15] END clf__C=1.0, clf__penalty=l2, clf__solver=sag;, score=0.618 total time=   0.5s\n",
      "[CV 11/15] END clf__C=1.0, clf__penalty=l2, clf__solver=sag;, score=0.579 total time=   0.4s\n"
     ]
    },
    {
     "name": "stdout",
     "output_type": "stream",
     "text": [
      "[CV 12/15] END clf__C=1.0, clf__penalty=l2, clf__solver=sag;, score=0.584 total time=   0.4s\n",
      "[CV 13/15] END clf__C=1.0, clf__penalty=l2, clf__solver=sag;, score=0.637 total time=   0.4s\n",
      "[CV 14/15] END clf__C=1.0, clf__penalty=l2, clf__solver=sag;, score=0.635 total time=   0.4s\n",
      "[CV 15/15] END clf__C=1.0, clf__penalty=l2, clf__solver=sag;, score=0.669 total time=   0.4s\n",
      "[CV 1/15] END clf__C=1.0, clf__penalty=none, clf__solver=lbfgs;, score=0.635 total time=   0.3s\n",
      "[CV 2/15] END clf__C=1.0, clf__penalty=none, clf__solver=lbfgs;, score=0.619 total time=   0.5s\n",
      "[CV 3/15] END clf__C=1.0, clf__penalty=none, clf__solver=lbfgs;, score=0.640 total time=   0.4s\n",
      "[CV 4/15] END clf__C=1.0, clf__penalty=none, clf__solver=lbfgs;, score=0.565 total time=   0.4s\n",
      "[CV 5/15] END clf__C=1.0, clf__penalty=none, clf__solver=lbfgs;, score=0.582 total time=   0.4s\n",
      "[CV 6/15] END clf__C=1.0, clf__penalty=none, clf__solver=lbfgs;, score=0.554 total time=   0.4s\n",
      "[CV 7/15] END clf__C=1.0, clf__penalty=none, clf__solver=lbfgs;, score=0.649 total time=   0.4s\n",
      "[CV 8/15] END clf__C=1.0, clf__penalty=none, clf__solver=lbfgs;, score=0.653 total time=   0.4s\n",
      "[CV 9/15] END clf__C=1.0, clf__penalty=none, clf__solver=lbfgs;, score=0.584 total time=   0.5s\n",
      "[CV 10/15] END clf__C=1.0, clf__penalty=none, clf__solver=lbfgs;, score=0.623 total time=   0.4s\n",
      "[CV 11/15] END clf__C=1.0, clf__penalty=none, clf__solver=lbfgs;, score=0.576 total time=   0.4s\n",
      "[CV 12/15] END clf__C=1.0, clf__penalty=none, clf__solver=lbfgs;, score=0.586 total time=   0.4s\n",
      "[CV 13/15] END clf__C=1.0, clf__penalty=none, clf__solver=lbfgs;, score=0.643 total time=   0.5s\n",
      "[CV 14/15] END clf__C=1.0, clf__penalty=none, clf__solver=lbfgs;, score=0.633 total time=   0.4s\n",
      "[CV 15/15] END clf__C=1.0, clf__penalty=none, clf__solver=lbfgs;, score=0.668 total time=   0.3s\n",
      "[CV 1/15] END clf__C=1.0, clf__penalty=none, clf__solver=liblinear;, score=nan total time=   0.0s\n",
      "[CV 2/15] END clf__C=1.0, clf__penalty=none, clf__solver=liblinear;, score=nan total time=   0.0s\n",
      "[CV 3/15] END clf__C=1.0, clf__penalty=none, clf__solver=liblinear;, score=nan total time=   0.0s\n",
      "[CV 4/15] END clf__C=1.0, clf__penalty=none, clf__solver=liblinear;, score=nan total time=   0.0s\n",
      "[CV 5/15] END clf__C=1.0, clf__penalty=none, clf__solver=liblinear;, score=nan total time=   0.0s\n",
      "[CV 6/15] END clf__C=1.0, clf__penalty=none, clf__solver=liblinear;, score=nan total time=   0.0s\n",
      "[CV 7/15] END clf__C=1.0, clf__penalty=none, clf__solver=liblinear;, score=nan total time=   0.0s\n",
      "[CV 8/15] END clf__C=1.0, clf__penalty=none, clf__solver=liblinear;, score=nan total time=   0.0s\n",
      "[CV 9/15] END clf__C=1.0, clf__penalty=none, clf__solver=liblinear;, score=nan total time=   0.0s\n",
      "[CV 10/15] END clf__C=1.0, clf__penalty=none, clf__solver=liblinear;, score=nan total time=   0.0s\n",
      "[CV 11/15] END clf__C=1.0, clf__penalty=none, clf__solver=liblinear;, score=nan total time=   0.0s\n",
      "[CV 12/15] END clf__C=1.0, clf__penalty=none, clf__solver=liblinear;, score=nan total time=   0.0s\n",
      "[CV 13/15] END clf__C=1.0, clf__penalty=none, clf__solver=liblinear;, score=nan total time=   0.0s\n",
      "[CV 14/15] END clf__C=1.0, clf__penalty=none, clf__solver=liblinear;, score=nan total time=   0.0s\n",
      "[CV 15/15] END clf__C=1.0, clf__penalty=none, clf__solver=liblinear;, score=nan total time=   0.0s\n",
      "[CV 1/15] END clf__C=1.0, clf__penalty=none, clf__solver=sag;, score=0.635 total time=   1.0s\n",
      "[CV 2/15] END clf__C=1.0, clf__penalty=none, clf__solver=sag;, score=0.619 total time=   1.6s\n",
      "[CV 3/15] END clf__C=1.0, clf__penalty=none, clf__solver=sag;, score=0.640 total time=   1.7s\n",
      "[CV 4/15] END clf__C=1.0, clf__penalty=none, clf__solver=sag;, score=0.565 total time=   1.5s\n",
      "[CV 5/15] END clf__C=1.0, clf__penalty=none, clf__solver=sag;, score=0.582 total time=   1.5s\n",
      "[CV 6/15] END clf__C=1.0, clf__penalty=none, clf__solver=sag;, score=0.554 total time=   1.6s\n",
      "[CV 7/15] END clf__C=1.0, clf__penalty=none, clf__solver=sag;, score=0.649 total time=   1.1s\n",
      "[CV 8/15] END clf__C=1.0, clf__penalty=none, clf__solver=sag;, score=0.653 total time=   1.6s\n",
      "[CV 9/15] END clf__C=1.0, clf__penalty=none, clf__solver=sag;, score=0.584 total time=   1.6s\n",
      "[CV 10/15] END clf__C=1.0, clf__penalty=none, clf__solver=sag;, score=0.622 total time=   1.4s\n",
      "[CV 11/15] END clf__C=1.0, clf__penalty=none, clf__solver=sag;, score=0.576 total time=   1.4s\n",
      "[CV 12/15] END clf__C=1.0, clf__penalty=none, clf__solver=sag;, score=0.586 total time=   1.6s\n",
      "[CV 13/15] END clf__C=1.0, clf__penalty=none, clf__solver=sag;, score=0.643 total time=   1.5s\n",
      "[CV 14/15] END clf__C=1.0, clf__penalty=none, clf__solver=sag;, score=0.633 total time=   1.6s\n",
      "[CV 15/15] END clf__C=1.0, clf__penalty=none, clf__solver=sag;, score=0.668 total time=   0.9s\n"
     ]
    },
    {
     "name": "stderr",
     "output_type": "stream",
     "text": [
      "/Users/guy/miniforge3/envs/.venv/lib/python3.9/site-packages/sklearn/model_selection/_validation.py:372: FitFailedWarning: \n",
      "675 fits failed out of a total of 2025.\n",
      "The score on these train-test partitions for these parameters will be set to nan.\n",
      "If these failures are not expected, you can try to debug them by setting error_score='raise'.\n",
      "\n",
      "Below are more details about the failures:\n",
      "--------------------------------------------------------------------------------\n",
      "225 fits failed with the following error:\n",
      "Traceback (most recent call last):\n",
      "  File \"/Users/guy/miniforge3/envs/.venv/lib/python3.9/site-packages/sklearn/model_selection/_validation.py\", line 681, in _fit_and_score\n",
      "    estimator.fit(X_train, y_train, **fit_params)\n",
      "  File \"/Users/guy/miniforge3/envs/.venv/lib/python3.9/site-packages/sklearn/pipeline.py\", line 394, in fit\n",
      "    self._final_estimator.fit(Xt, y, **fit_params_last_step)\n",
      "  File \"/Users/guy/miniforge3/envs/.venv/lib/python3.9/site-packages/sklearn/linear_model/_logistic.py\", line 1461, in fit\n",
      "    solver = _check_solver(self.solver, self.penalty, self.dual)\n",
      "  File \"/Users/guy/miniforge3/envs/.venv/lib/python3.9/site-packages/sklearn/linear_model/_logistic.py\", line 447, in _check_solver\n",
      "    raise ValueError(\n",
      "ValueError: Solver lbfgs supports only 'l2' or 'none' penalties, got l1 penalty.\n",
      "\n",
      "--------------------------------------------------------------------------------\n",
      "225 fits failed with the following error:\n",
      "Traceback (most recent call last):\n",
      "  File \"/Users/guy/miniforge3/envs/.venv/lib/python3.9/site-packages/sklearn/model_selection/_validation.py\", line 681, in _fit_and_score\n",
      "    estimator.fit(X_train, y_train, **fit_params)\n",
      "  File \"/Users/guy/miniforge3/envs/.venv/lib/python3.9/site-packages/sklearn/pipeline.py\", line 394, in fit\n",
      "    self._final_estimator.fit(Xt, y, **fit_params_last_step)\n",
      "  File \"/Users/guy/miniforge3/envs/.venv/lib/python3.9/site-packages/sklearn/linear_model/_logistic.py\", line 1461, in fit\n",
      "    solver = _check_solver(self.solver, self.penalty, self.dual)\n",
      "  File \"/Users/guy/miniforge3/envs/.venv/lib/python3.9/site-packages/sklearn/linear_model/_logistic.py\", line 447, in _check_solver\n",
      "    raise ValueError(\n",
      "ValueError: Solver sag supports only 'l2' or 'none' penalties, got l1 penalty.\n",
      "\n",
      "--------------------------------------------------------------------------------\n",
      "225 fits failed with the following error:\n",
      "Traceback (most recent call last):\n",
      "  File \"/Users/guy/miniforge3/envs/.venv/lib/python3.9/site-packages/sklearn/model_selection/_validation.py\", line 681, in _fit_and_score\n",
      "    estimator.fit(X_train, y_train, **fit_params)\n",
      "  File \"/Users/guy/miniforge3/envs/.venv/lib/python3.9/site-packages/sklearn/pipeline.py\", line 394, in fit\n",
      "    self._final_estimator.fit(Xt, y, **fit_params_last_step)\n",
      "  File \"/Users/guy/miniforge3/envs/.venv/lib/python3.9/site-packages/sklearn/linear_model/_logistic.py\", line 1461, in fit\n",
      "    solver = _check_solver(self.solver, self.penalty, self.dual)\n",
      "  File \"/Users/guy/miniforge3/envs/.venv/lib/python3.9/site-packages/sklearn/linear_model/_logistic.py\", line 464, in _check_solver\n",
      "    raise ValueError(\"penalty='none' is not supported for the liblinear solver\")\n",
      "ValueError: penalty='none' is not supported for the liblinear solver\n",
      "\n",
      "  warnings.warn(some_fits_failed_message, FitFailedWarning)\n",
      "/Users/guy/miniforge3/envs/.venv/lib/python3.9/site-packages/sklearn/model_selection/_search.py:969: UserWarning: One or more of the test scores are non-finite: [       nan 0.60167038        nan 0.61197745 0.61074006 0.61197944\n",
      " 0.61382123        nan 0.61382285        nan 0.60709681        nan\n",
      " 0.61247461 0.61183341 0.61247948 0.61382123        nan 0.61381897\n",
      "        nan 0.61317441        nan 0.61291988 0.61280027 0.61292536\n",
      " 0.61382123        nan 0.61382306        nan 0.617553          nan\n",
      " 0.61323277 0.6135943  0.61323251 0.61382123        nan 0.61382326\n",
      "        nan 0.6209764         nan 0.61340115 0.61423516 0.61340083\n",
      " 0.61382123        nan 0.61381835        nan 0.62336134        nan\n",
      " 0.61348159 0.61468031 0.61348024 0.61382123        nan 0.61382204\n",
      "        nan 0.62460379        nan 0.61358968 0.6149649  0.6135941\n",
      " 0.61382123        nan 0.61382449        nan 0.62504526        nan\n",
      " 0.61367286 0.615126   0.61366979 0.61382123        nan 0.61382347\n",
      "        nan 0.62508694        nan 0.61373574 0.61530287 0.61374378\n",
      " 0.61382123        nan 0.61382347        nan 0.62513353        nan\n",
      " 0.61370565 0.61536566 0.61372313 0.61382123        nan 0.61382408\n",
      "        nan 0.62477683        nan 0.61368441 0.61543116 0.6136796\n",
      " 0.61382123        nan 0.61382162        nan 0.62451217        nan\n",
      " 0.61365283 0.61542582 0.61364806 0.61382123        nan 0.61382327\n",
      "        nan 0.62404484        nan 0.61361571 0.61535043 0.61361216\n",
      " 0.61382123        nan 0.61382408        nan 0.62326044        nan\n",
      " 0.61353562 0.61528496 0.61354114 0.61382123        nan 0.61382326\n",
      "        nan 0.62217398        nan 0.61352802 0.61519916 0.61352168\n",
      " 0.61382123        nan 0.61382347]\n",
      "  warnings.warn(\n"
     ]
    }
   ],
   "source": [
    "gcv_score, fp_rate, tp_rate = generate_evaluate_model(X_train[most_impactful_columns], X_test[most_impactful_columns], \n",
    "                                    y_train, y_test, gridsearch_model)"
   ]
  },
  {
   "cell_type": "code",
   "execution_count": 106,
   "metadata": {},
   "outputs": [
    {
     "data": {
      "image/png": "[encoded data removed]",
      "text/plain": [
       "<Figure size 432x288 with 1 Axes>"
      ]
     },
     "metadata": {
      "needs_background": "light"
     },
     "output_type": "display_data"
    },
    {
     "name": "stdout",
     "output_type": "stream",
     "text": [
      "ROC AUC score for optimised model: 0.6683784606962067\n",
      "Best parameters: {'clf__C': 0.43939705607607904, 'clf__penalty': 'l1', 'clf__solver': 'liblinear'}\n"
     ]
    }
   ],
   "source": [
    "plt.plot(fp_rate, tp_rate)\n",
    "plt.plot([0, 1], [0, 1], linestyle='--')\n",
    "plt.xlabel('False positive rate')\n",
    "plt.ylabel('True positive rate')\n",
    "plt.title('ROC curves: optimised model')\n",
    "plt.show();\n",
    "print('ROC AUC score for optimised model: {}'.format(gcv_score))\n",
    "print('Best parameters: ', end='')\n",
    "print(gridsearch_model.best_params_)"
   ]
  },
  {
   "cell_type": "markdown",
   "metadata": {},
   "source": [
    "Using GridsearchCV has resulted in a small improvement in the ROC AUC score."
   ]
  },
  {
   "cell_type": "markdown",
   "metadata": {},
   "source": [
    "## Part 3: Kaggle Competition"
   ]
  },
  {
   "cell_type": "code",
   "execution_count": 122,
   "metadata": {},
   "outputs": [
    {
     "name": "stdout",
     "output_type": "stream",
     "text": [
      "42833 rows and 366 columns.\n",
      "360 columns of type 'number'.\n",
      "6 columns of type 'object'.\n",
      "14% of the data is null.\n"
     ]
    },
    {
     "name": "stderr",
     "output_type": "stream",
     "text": [
      "/Users/guy/miniforge3/envs/.venv/lib/python3.9/site-packages/IPython/core/interactiveshell.py:3444: DtypeWarning: Columns (18,19) have mixed types.Specify dtype option on import or set low_memory=False.\n",
      "  exec(code_obj, self.user_global_ns, self.user_ns)\n"
     ]
    }
   ],
   "source": [
    "mailout_test = pd.read_csv('./Data/Udacity_MAILOUT_052018_TEST.csv', sep=';')\n",
    "dataframe_overview(mailout_test)"
   ]
  },
  {
   "cell_type": "markdown",
   "metadata": {},
   "source": [
    "We can now use our cleaning function again to clean the dataset. This time, however, we **don't** want to drop any rows (we want to make a prediction for every row), so we set the missing data threshold to 1 (100%) to ensure no rows are dropped. The missing data will be imputed instead."
   ]
  },
  {
   "cell_type": "code",
   "execution_count": 125,
   "metadata": {},
   "outputs": [
    {
     "name": "stdout",
     "output_type": "stream",
     "text": [
      "Replacing invalid X values... \n",
      "Complete.\n",
      "Replacing unknown values with NaN... Complete.\n",
      "Dropping unknown columns... Complete.\n",
      "Finding and dropping columns with over 50% NaN... Complete.\n",
      "Finding and dropping rows with over 100% NaN... Complete.\n",
      "Imputing NaN values with most frequent values... Complete.\n",
      "Encoding non-numeric columns... \n",
      "Encoding column 'CAMEO_DEU_2015'... Complete.\n",
      "Encoding column 'OST_WEST_KZ'... Complete.\n",
      "Complete.\n",
      "Cleaned dataframe returned.\n"
     ]
    }
   ],
   "source": [
    "mailout_test_clean, _, _ = clean_df(mailout_test, cat_cols_to_encode, col_nan_threshold=0.5, row_nan_threshold=1)"
   ]
  },
  {
   "cell_type": "markdown",
   "metadata": {},
   "source": [
    "The model we have selected uses a subset of the columns. Let's reduce the cleaned dataset down to these columns, and then look at its properties again."
   ]
  },
  {
   "cell_type": "code",
   "execution_count": 127,
   "metadata": {},
   "outputs": [
    {
     "name": "stdout",
     "output_type": "stream",
     "text": [
      "42833 rows and 59 columns.\n",
      "59 columns of type 'number'.\n",
      "0 columns of type 'object'.\n",
      "0% of the data is null.\n"
     ]
    }
   ],
   "source": [
    "mailout_test_subset = mailout_test_clean[most_impactful_columns]\n",
    "dataframe_overview(mailout_test_subset)"
   ]
  },
  {
   "cell_type": "markdown",
   "metadata": {},
   "source": [
    "The dataset is now clean: fully numeric, no missing data, and reduced down to the columns used in our model. We can now use the optimised model generated using GridsearchCV to make predictions based on this data. "
   ]
  },
  {
   "cell_type": "code",
   "execution_count": 139,
   "metadata": {},
   "outputs": [],
   "source": [
    "mailout_test_preds = gridsearch_model.predict_proba(mailout_test_subset)\n",
    "# Slice down to the probabilities of row being in class 1 (i.e. a customer)\n",
    "mailout_test_class_1 = mailout_test_preds[:, 1]"
   ]
  },
  {
   "cell_type": "code",
   "execution_count": 144,
   "metadata": {},
   "outputs": [
    {
     "data": {
      "text/html": [
       "<div>\n",
       "<style scoped>\n",
       "    .dataframe tbody tr th:only-of-type {\n",
       "        vertical-align: middle;\n",
       "    }\n",
       "\n",
       "    .dataframe tbody tr th {\n",
       "        vertical-align: top;\n",
       "    }\n",
       "\n",
       "    .dataframe thead th {\n",
       "        text-align: right;\n",
       "    }\n",
       "</style>\n",
       "<table border=\"1\" class=\"dataframe\">\n",
       "  <thead>\n",
       "    <tr style=\"text-align: right;\">\n",
       "      <th></th>\n",
       "      <th>RESPONSE</th>\n",
       "    </tr>\n",
       "    <tr>\n",
       "      <th>LNR</th>\n",
       "      <th></th>\n",
       "    </tr>\n",
       "  </thead>\n",
       "  <tbody>\n",
       "    <tr>\n",
       "      <th>1754</th>\n",
       "      <td>0.018620</td>\n",
       "    </tr>\n",
       "    <tr>\n",
       "      <th>1770</th>\n",
       "      <td>0.017274</td>\n",
       "    </tr>\n",
       "    <tr>\n",
       "      <th>1465</th>\n",
       "      <td>0.005167</td>\n",
       "    </tr>\n",
       "    <tr>\n",
       "      <th>1470</th>\n",
       "      <td>0.004094</td>\n",
       "    </tr>\n",
       "    <tr>\n",
       "      <th>1478</th>\n",
       "      <td>0.006307</td>\n",
       "    </tr>\n",
       "  </tbody>\n",
       "</table>\n",
       "</div>"
      ],
      "text/plain": [
       "      RESPONSE\n",
       "LNR           \n",
       "1754  0.018620\n",
       "1770  0.017274\n",
       "1465  0.005167\n",
       "1470  0.004094\n",
       "1478  0.006307"
      ]
     },
     "execution_count": 144,
     "metadata": {},
     "output_type": "execute_result"
    }
   ],
   "source": [
    "# Construct a dataframe of the predictions with the LNR as the index\n",
    "kaggle_df = pd.DataFrame(mailout_test_class_1, index=mailout_test['LNR'], columns=['RESPONSE'])\n",
    "kaggle_df.head()"
   ]
  },
  {
   "cell_type": "code",
   "execution_count": 146,
   "metadata": {},
   "outputs": [],
   "source": [
    "# Export as a CSV file to submit to the Kaggle competition\n",
    "kaggle_df.to_csv('./kaggle_competition.csv')"
   ]
  },
  {
   "cell_type": "markdown",
   "metadata": {},
   "source": [
    "![Kaggle screenshot](kaggle_screenshot_1.png)\n",
    "\n",
    "![Kaggle screenshot](kaggle_screenshot_2.png)"
   ]
  }
 ],
 "metadata": {
  "kernelspec": {
   "display_name": "Python 3 (ipykernel)",
   "language": "python",
   "name": "python3"
  },
  "language_info": {
   "codemirror_mode": {
    "name": "ipython",
    "version": 3
   },
   "file_extension": ".py",
   "mimetype": "text/x-python",
   "name": "python",
   "nbconvert_exporter": "python",
   "pygments_lexer": "ipython3",
   "version": "3.9.7"
  }
 },
 "nbformat": 4,
 "nbformat_minor": 2
}
